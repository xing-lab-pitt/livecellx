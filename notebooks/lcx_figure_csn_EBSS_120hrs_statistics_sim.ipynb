{
 "cells": [
  {
   "cell_type": "code",
   "execution_count": null,
   "metadata": {},
   "outputs": [],
   "source": [
    "# %%\n",
    "import numpy as np\n",
    "import json\n",
    "from livecellx.core import (\n",
    "    SingleCellTrajectory,\n",
    "    SingleCellStatic,\n",
    "    SingleCellTrajectoryCollection,\n",
    "\n",
    ")\n",
    "from livecellx.core.single_cell import get_time2scs\n",
    "from livecellx.core.datasets import LiveCellImageDataset\n",
    "from livecellx.preprocess.utils import (\n",
    "    overlay,\n",
    "    enhance_contrast,\n",
    "    normalize_img_to_uint8,\n",
    ")\n",
    "import matplotlib.pyplot as plt\n",
    "import os\n",
    "from pathlib import Path\n",
    "import pandas as pd\n",
    "from typing import List\n",
    "\n",
    "# %% [markdown]\n",
    "# Loading Mitosis trajectory Single Cells\n",
    "\n",
    "# %%\n",
    "sctc_path = r\"../datasets/DIC-Nikon-gt/tifs_CFP_A549_VIM_120hr_NoTreat_NA_YL_Ti2e_2023-03-22/GH-XY03_traj/traj_XY03.json\"\n",
    "sctc = SingleCellTrajectoryCollection.load_from_json_file(sctc_path)"
   ]
  },
  {
   "cell_type": "code",
   "execution_count": null,
   "metadata": {},
   "outputs": [],
   "source": [
    "scs = sctc.get_all_scs()\n",
    "scs_by_time = get_time2scs(scs)"
   ]
  },
  {
   "cell_type": "code",
   "execution_count": null,
   "metadata": {},
   "outputs": [],
   "source": [
    "len(scs)"
   ]
  },
  {
   "cell_type": "code",
   "execution_count": null,
   "metadata": {},
   "outputs": [],
   "source": [
    "from livecellx.core.single_cell import create_label_mask_from_scs"
   ]
  },
  {
   "cell_type": "code",
   "execution_count": null,
   "metadata": {},
   "outputs": [],
   "source": [
    "img_dataset = scs[0].img_dataset\n",
    "out_dir = Path(\"./tmp/EBSS_120hrs_OU_syn\")\n",
    "scs_dir = out_dir/\"livecellx_scs\""
   ]
  },
  {
   "cell_type": "code",
   "execution_count": null,
   "metadata": {},
   "outputs": [],
   "source": [
    "multi_map_path = scs_dir / \"time2multi_maps__id.json\"\n",
    "time2multi_maps__id = json.load(open(multi_map_path))"
   ]
  },
  {
   "cell_type": "code",
   "execution_count": null,
   "metadata": {},
   "outputs": [],
   "source": [
    "# Load all_gt_scs and all_dilated_gt_scs\n",
    "all_gt_scs = SingleCellStatic.load_single_cells_json(scs_dir/\"all_gt_scs.json\")\n",
    "all_dilated_gt_scs = SingleCellStatic.load_single_cells_json(scs_dir/\"all_dilated_gt_scs.json\")\n",
    "\n",
    "\n",
    "# Recontruct scale -> time -> crappy scs\n",
    "\n",
    "all_dilate_scale_to_gt_scs = {}\n",
    "for sc in all_dilated_gt_scs:\n",
    "    scale = sc.meta[\"dilate_scale\"]\n",
    "    time = sc.meta[\"time\"]\n",
    "    if scale not in all_dilate_scale_to_gt_scs:\n",
    "        all_dilate_scale_to_gt_scs[scale] = {}\n",
    "    if time not in all_dilate_scale_to_gt_scs[scale]:\n",
    "        all_dilate_scale_to_gt_scs[scale][time] = []\n",
    "    all_dilate_scale_to_gt_scs[scale][time].append(sc)\n",
    "\n",
    "all_gt_scs_by_time = get_time2scs(all_gt_scs)"
   ]
  },
  {
   "cell_type": "markdown",
   "metadata": {},
   "source": [
    "Track by replacing gt with crappy masks"
   ]
  },
  {
   "cell_type": "code",
   "execution_count": null,
   "metadata": {},
   "outputs": [],
   "source": [
    "all_dilate_scale_to_gt_scs.keys()"
   ]
  },
  {
   "cell_type": "code",
   "execution_count": null,
   "metadata": {},
   "outputs": [],
   "source": [
    "filtered_tids = []\n",
    "threshold = 3\n",
    "for tid, traj in sctc:\n",
    "    sct = sctc.get_trajectory(tid)\n",
    "    if len(sct) < threshold:\n",
    "        continue\n",
    "    filtered_tids.append(tid)\n",
    "sctc = sctc.subset(filtered_tids)\n",
    "\n",
    "sctc.histogram_traj_length()\n"
   ]
  },
  {
   "cell_type": "code",
   "execution_count": null,
   "metadata": {},
   "outputs": [],
   "source": [
    "all_traj_lengths = np.array([_traj.get_timeframe_span_length() for _traj in sctc.track_id_to_trajectory.values()])\n",
    "plt.hist(all_traj_lengths, bins=20)"
   ]
  },
  {
   "cell_type": "code",
   "execution_count": null,
   "metadata": {},
   "outputs": [],
   "source": [
    "sctc.get_time_span()"
   ]
  },
  {
   "cell_type": "code",
   "execution_count": null,
   "metadata": {},
   "outputs": [],
   "source": [
    "def time2sct_counts(sctc: SingleCellTrajectoryCollection):\n",
    "    timespan = sctc.get_time_span()\n",
    "\n",
    "    time2scts = {}\n",
    "    for time in range(timespan[0], timespan[1]):\n",
    "        time2scts[time] = []\n",
    "        for tid, traj in sctc:\n",
    "            traj_span = traj.get_timeframe_span() # [start, end]\n",
    "            if time < traj_span[0] or time > traj_span[1]:\n",
    "                continue\n",
    "            time2scts[time].append(traj)\n",
    "\n",
    "    time2counts = {time: len(scts) for time, scts in time2scts.items()}\n",
    "    return time2counts\n",
    "            \n",
    "\n"
   ]
  },
  {
   "cell_type": "code",
   "execution_count": null,
   "metadata": {},
   "outputs": [],
   "source": [
    "threshold = 50\n",
    "filtered_sctc = sctc.filter_trajectories_by_length(threshold)"
   ]
  },
  {
   "cell_type": "code",
   "execution_count": null,
   "metadata": {},
   "outputs": [],
   "source": [
    "from livecellx.track.sort_tracker_utils import track_SORT_bbox_from_scs\n",
    "selected_scale = 2\n",
    "crappy_scs_by_time = all_dilate_scale_to_gt_scs[selected_scale]\n",
    "print(\"time to be replaced:\", crappy_scs_by_time.keys())\n",
    "all_scs_by_time = get_time2scs(filtered_sctc.get_all_scs())\n",
    "replaced_scs_by_time = all_scs_by_time.copy()\n",
    "for time, crappy_scs in crappy_scs_by_time.items():\n",
    "    replaced_scs_by_time[time] = crappy_scs\n",
    "\n",
    "crappy_scs = []\n",
    "for time, scs in replaced_scs_by_time.items():\n",
    "    crappy_scs.extend(scs)\n",
    "crappy_sctc = track_SORT_bbox_from_scs(crappy_scs, raw_imgs=crappy_scs[0].img_dataset, max_age=3, min_hits=3)"
   ]
  },
  {
   "cell_type": "code",
   "execution_count": null,
   "metadata": {},
   "outputs": [],
   "source": [
    "import seaborn as sns\n",
    "\n",
    "threshold = 100\n",
    "alpha = 0.65\n",
    "crappy_sctc_lengths = np.array([_traj.get_timeframe_span_length() for _traj in crappy_sctc.filter_trajectories_by_length(min_length=threshold).track_id_to_trajectory.values()])\n",
    "filtered_sctc_lengths = np.array([_traj.get_timeframe_span_length() for _traj in filtered_sctc.filter_trajectories_by_length(min_length=threshold).track_id_to_trajectory.values()])\n",
    "\n",
    "# Set up the aesthetic environment\n",
    "sns.set(style=\"whitegrid\")  # Set the background to a white grid for better readability\n",
    "# plt.rc('font', family='serif')  # Use serif font for a more professional look\n",
    "plt.rc('text', usetex=False)  # Use LaTeX for text rendering\n",
    "\n",
    "# Create figure and axes objects\n",
    "fig, ax = plt.subplots(figsize=(4, 5), dpi=300)  # High resolution for publication quality\n",
    "\n",
    "# Plot histograms\n",
    "bins = 20\n",
    "ax.hist(crappy_sctc_lengths, bins=bins, alpha=alpha, label=\"Crappy\", color='red', edgecolor='black')\n",
    "ax.hist(filtered_sctc_lengths, bins=bins, alpha=alpha, label=\"Filtered\", color='blue', edgecolor='black')\n",
    "\n",
    "# Customize the plot with labels, title, and legend\n",
    "ax.set_xlabel('Trajectory Length', fontsize=12, fontweight='bold')\n",
    "ax.set_ylabel('Frequency', fontsize=12, fontweight='bold')\n",
    "ax.set_title('Comparison of Trajectory Lengths', fontsize=14, fontweight='bold')\n",
    "# ax.legend(frameon=True, facecolor='white', framealpha=0.9, edgecolor='black')\n",
    "\n",
    "# Add legend\n",
    "ax.legend(loc='upper right', fontsize=10, title='Legend', title_fontsize=10, shadow=True, fancybox=True)"
   ]
  },
  {
   "cell_type": "code",
   "execution_count": null,
   "metadata": {},
   "outputs": [],
   "source": [
    "max_len = 100\n",
    "min_len = 3\n",
    "crappy_sctc_lengths = np.array([_traj.get_timeframe_span_length() for _traj in crappy_sctc.filter_trajectories_by_length(min_length=min_len, max_length=max_len).track_id_to_trajectory.values()])\n",
    "filtered_sctc_lengths = np.array([_traj.get_timeframe_span_length() for _traj in filtered_sctc.filter_trajectories_by_length(min_length=min_len, max_length=max_len).track_id_to_trajectory.values()])\n",
    "\n",
    "# Set up the aesthetic environment\n",
    "sns.set(style=\"whitegrid\")  # Set the background to a white grid for better readability\n",
    "# plt.rc('font', family='serif')  # Use serif font for a more professional look\n",
    "plt.rc('text', usetex=False)  # Use LaTeX for text rendering\n",
    "\n",
    "# Create figure and axes objects\n",
    "fig, ax = plt.subplots(figsize=(4, 5), dpi=300)  # High resolution for publication quality\n",
    "\n",
    "# Plot histograms\n",
    "bins = 20\n",
    "ax.hist(crappy_sctc_lengths, bins=bins, alpha=alpha, label=\"Crappy\", color='red', edgecolor='black')\n",
    "ax.hist(filtered_sctc_lengths, bins=bins, alpha=alpha, label=\"Filtered\", color='blue', edgecolor='black')\n",
    "\n",
    "# Customize the plot with labels, title, and legend\n",
    "ax.set_xlabel('Trajectory Length', fontsize=12, fontweight='bold')\n",
    "ax.set_ylabel('Frequency', fontsize=12, fontweight='bold')\n",
    "ax.set_title('Comparison of Trajectory Lengths', fontsize=14, fontweight='bold')\n",
    "# ax.legend(frameon=True, facecolor='white', framealpha=0.9, edgecolor='black')\n",
    "\n",
    "# Add legend\n",
    "ax.legend(loc='upper right', fontsize=10, title='Legend', title_fontsize=10, shadow=True, fancybox=True)"
   ]
  },
  {
   "cell_type": "code",
   "execution_count": null,
   "metadata": {},
   "outputs": [],
   "source": [
    "crappy_time2counts = time2sct_counts(crappy_sctc)\n",
    "gt_time2counts = time2sct_counts(filtered_sctc)"
   ]
  },
  {
   "cell_type": "code",
   "execution_count": null,
   "metadata": {},
   "outputs": [],
   "source": [
    "# Visualize the counts\n",
    "# Visualize the number of cells at each time point\n",
    "\n",
    "fig, axes = plt.subplots(1, 1, figsize=(4, 5), dpi=300)\n",
    "plt.plot(list(crappy_time2counts.keys()), list(crappy_time2counts.values()), label=\"crappy\")\n",
    "plt.plot(list(gt_time2counts.keys()), list(gt_time2counts.values()), label=\"gt\")\n",
    "plt.xlabel(\"Time\", fontsize=14)\n",
    "plt.ylabel(\"Number of Trajectories\", fontsize=14)\n",
    "# plt.title(\"Number of Trajectories at Each Time Point\", fontsize=15)\n",
    "# xy label font size\n",
    "plt.xticks(fontsize=14)\n",
    "plt.yticks(fontsize=14)\n",
    "\n",
    "plt.legend()\n",
    "plt.show()"
   ]
  },
  {
   "cell_type": "code",
   "execution_count": null,
   "metadata": {},
   "outputs": [],
   "source": [
    "for time in all_dilate_scale_to_gt_scs[0]:\n",
    "    print(time, len(all_dilate_scale_to_gt_scs[0][time]), len(all_gt_scs_by_time[time]))"
   ]
  }
 ],
 "metadata": {
  "kernelspec": {
   "display_name": "livecellx",
   "language": "python",
   "name": "python3"
  },
  "language_info": {
   "codemirror_mode": {
    "name": "ipython",
    "version": 3
   },
   "file_extension": ".py",
   "mimetype": "text/x-python",
   "name": "python",
   "nbconvert_exporter": "python",
   "pygments_lexer": "ipython3",
   "version": "3.9.18"
  }
 },
 "nbformat": 4,
 "nbformat_minor": 2
}
