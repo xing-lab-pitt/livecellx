{
 "cells": [
  {
   "cell_type": "code",
   "execution_count": 5,
   "metadata": {},
   "outputs": [
    {
     "name": "stdout",
     "output_type": "stream",
     "text": [
      "576 tif img file paths loaded: \n"
     ]
    }
   ],
   "source": [
    "from PIL import Image, ImageSequence\n",
    "import glob\n",
    "import os\n",
    "import livecell_tracker.core.datasets\n",
    "\n",
    "# tif_dir_path = r'''D:/xing-vimentin-dic-pipeline/src/livecell_dev/cxa-data/june_2022_data/day0_Notreat_Group1_wellA1_RI_MIP_stitched'''\n",
    "# tif_dir_path = r'''D:/xing-vimentin-dic-pipeline/src/livecell_dev/cxa-data/june_2022_data/restart_day0_Group 1_wellA1_RI_MIP_stitched'''\n",
    "tif_dir_path = r'''D:/xing-vimentin-dic-pipeline/src/livecell_dev/cxa-data/june_2022_data/restart_day2_Group 1_wellA1_RI_MIP_stitched'''\n",
    "\n",
    "# tif_img_paths = sorted(glob.glob(os.path.join(tif_dir_path , \"*.tif\")))\n",
    "tif_img_dataset = livecell_tracker.core.datasets.LiveCellImageDataset(tif_dir_path)\n",
    "output_path = os.path.join(tif_dir_path, \"pngs\")\n",
    "# output_path = r'''D:/xing-vimentin-dic-pipeline/src/livecell_dev/cxa-data/june_2022_data_8bit_png/restart_day0_Group 1_wellA1_RI_MIP_stitched'''\n",
    "output_path = r'''D:/xing-vimentin-dic-pipeline/src/livecell_dev/cxa-data/june_2022_data_8bit_png/restart_day2_Group 1_wellA1_RI_MIP_stitched'''\n",
    "os.makedirs(output_path, exist_ok=True)"
   ]
  },
  {
   "cell_type": "code",
   "execution_count": 6,
   "metadata": {},
   "outputs": [],
   "source": [
    "import livecell_tracker.segment\n",
    "import livecell_tracker.segment.utils\n",
    "\n",
    "for idx, img in enumerate(tif_img_dataset):\n",
    "    img = livecell_tracker.segment.utils.livetracker_standard_normalize(img)\n",
    "    img = Image.fromarray(img)\n",
    "    img_path = tif_img_dataset.get_img_path(idx)\n",
    "    img = img.convert('L')\n",
    "    img.save(os.path.join(output_path, os.path.basename(img_path).replace(\".tif\", \".png\")))"
   ]
  }
 ],
 "metadata": {
  "kernelspec": {
   "display_name": "Python 3.8.13 ('cv-general')",
   "language": "python",
   "name": "python3"
  },
  "language_info": {
   "codemirror_mode": {
    "name": "ipython",
    "version": 3
   },
   "file_extension": ".py",
   "mimetype": "text/x-python",
   "name": "python",
   "nbconvert_exporter": "python",
   "pygments_lexer": "ipython3",
   "version": "3.8.13"
  },
  "orig_nbformat": 4,
  "vscode": {
   "interpreter": {
    "hash": "b5dfbec2055422cee39dc040b31dfffa8b21a342109231ab17bc6ff9949c7133"
   }
  }
 },
 "nbformat": 4,
 "nbformat_minor": 2
}
