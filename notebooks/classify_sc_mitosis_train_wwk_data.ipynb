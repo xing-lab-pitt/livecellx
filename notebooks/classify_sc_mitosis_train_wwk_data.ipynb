{
 "cells": [
  {
   "cell_type": "code",
   "execution_count": null,
   "metadata": {},
   "outputs": [],
   "source": [
    "import os\n",
    "import torch\n",
    "from torch.utils.data import DataLoader\n",
    "from torchvision import transforms, datasets\n",
    "import pytorch_lightning as pl\n",
    "from PIL import Image\n",
    "import numpy as np\n",
    "from livecell_tracker.preprocess.utils import standard_preprocess, normalize_img_to_uint8"
   ]
  },
  {
   "cell_type": "code",
   "execution_count": null,
   "metadata": {},
   "outputs": [],
   "source": [
    "from livecell_tracker.classification.cnn_mitosis_apoptosis import MitApopImageClassifier, MitApopImageDataset"
   ]
  },
  {
   "cell_type": "code",
   "execution_count": null,
   "metadata": {},
   "outputs": [],
   "source": [
    "import matplotlib.pyplot as plt\n",
    "img_dataset = MitApopImageDataset(dir_path=\"../datasets/wwk_train/A549_icnn_am_train/\")\n",
    "plt.imshow(np.array(img_dataset[0][0][0]))"
   ]
  },
  {
   "cell_type": "code",
   "execution_count": 4,
   "metadata": {},
   "outputs": [],
   "source": [
    "from pytorch_lightning.loggers import TensorBoardLogger\n",
    "from pytorch_lightning.callbacks import ModelCheckpoint\n",
    "\n",
    "classifier = MitApopImageClassifier(dir_path=\"../datasets/wwk_train/A549_icnn_am_train/\", val_dir_path=\"../datasets/wwk_train/A549_icnn_am_val/\")\n",
    "logger = TensorBoardLogger(save_dir=\".\", name=\"./sc_classify_MA-no-resize\")\n",
    "last_models_checkpoint_callback = ModelCheckpoint(\n",
    "    save_last=True,\n",
    "    filename=\"{epoch}-{global_step}\",\n",
    ")\n",
    "train_loss_callback = pl.callbacks.ModelCheckpoint(\n",
    "        monitor=\"train_loss\",\n",
    "        dirpath=\"sc_classify_mitosis_apoptosis\",\n",
    "        filename=\"model-{epoch:02d}-{train_loss:.2f}\",\n",
    "        save_top_k=3,\n",
    "        mode=\"min\",\n",
    ")\n",
    "ckpt_callbacks = [last_models_checkpoint_callback, train_loss_callback]\n",
    "trainer = pl.Trainer(\n",
    "    gpus=1,\n",
    "    max_epochs=10000,\n",
    "    checkpoint_callback=ckpt_callbacks,\n",
    "    logger=logger,\n",
    ")\n",
    "trainer.fit(classifier)\n"
   ]
  }
 ],
 "metadata": {
  "kernelspec": {
   "display_name": "livecell",
   "language": "python",
   "name": "python3"
  },
  "language_info": {
   "codemirror_mode": {
    "name": "ipython",
    "version": 3
   },
   "file_extension": ".py",
   "mimetype": "text/x-python",
   "name": "python",
   "nbconvert_exporter": "python",
   "pygments_lexer": "ipython3",
   "version": "3.10.8"
  },
  "orig_nbformat": 4
 },
 "nbformat": 4,
 "nbformat_minor": 2
}
