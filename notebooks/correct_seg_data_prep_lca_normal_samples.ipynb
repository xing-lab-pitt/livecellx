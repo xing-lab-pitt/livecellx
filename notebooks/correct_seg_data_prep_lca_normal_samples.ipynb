{
 "cells": [
  {
   "cell_type": "code",
   "execution_count": 2,
   "metadata": {},
   "outputs": [],
   "source": [
    "import numpy as np\n",
    "import json\n",
    "from livecellx.core import (\n",
    "    SingleCellTrajectory,\n",
    "    SingleCellStatic,\n",
    "    SingleCellTrajectoryCollection,\n",
    ")\n",
    "\n",
    "from livecellx.core.datasets import LiveCellImageDataset\n",
    "from livecellx.preprocess.utils import (\n",
    "    overlay,\n",
    "    enhance_contrast,\n",
    "    normalize_img_to_uint8,\n",
    ")\n",
    "import matplotlib.pyplot as plt\n",
    "import os\n",
    "from tqdm import tqdm\n",
    "from pathlib import Path\n",
    "import pandas as pd"
   ]
  },
  {
   "cell_type": "markdown",
   "metadata": {},
   "source": [
    "Loading Mitosis trajectory Single Cells"
   ]
  },
  {
   "cell_type": "code",
   "execution_count": 3,
   "metadata": {},
   "outputs": [
    {
     "name": "stderr",
     "output_type": "stream",
     "text": [
      "constructing single cells from json dict: 100%|██████████| 13/13 [00:00<00:00, 10530.31it/s]\n",
      "constructing single cells from json dict: 100%|██████████| 13/13 [00:00<00:00, 17560.69it/s]\n",
      "constructing single cells from json dict: 100%|██████████| 11/11 [00:00<00:00, 18142.88it/s]\n",
      "constructing single cells from json dict: 100%|██████████| 12/12 [00:00<00:00, 17524.95it/s]\n",
      "constructing single cells from json dict: 100%|██████████| 14/14 [00:00<00:00, 15934.94it/s]\n",
      "constructing single cells from json dict: 100%|██████████| 12/12 [00:00<00:00, 16923.89it/s]\n",
      "constructing single cells from json dict: 100%|██████████| 13/13 [00:00<00:00, 21723.49it/s]\n",
      "constructing single cells from json dict: 100%|██████████| 11/11 [00:00<00:00, 16103.78it/s]\n"
     ]
    },
    {
     "name": "stdout",
     "output_type": "stream",
     "text": [
      "Loaded 8 annotated samples from datasets/test_scs_EBSS_starvation/XY1/annotations/mitosis\n",
      "Loaded 0 annotated samples from datasets/test_scs_EBSS_starvation/XY1/annotations/apoptosis\n",
      "Loaded 0 annotated samples from datasets/test_scs_EBSS_starvation/XY1/annotations/normal\n"
     ]
    },
    {
     "name": "stderr",
     "output_type": "stream",
     "text": [
      "constructing single cells from json dict: 100%|██████████| 13/13 [00:00<00:00, 9565.96it/s]\n",
      "constructing single cells from json dict: 100%|██████████| 13/13 [00:00<00:00, 13590.72it/s]\n",
      "constructing single cells from json dict: 100%|██████████| 13/13 [00:00<00:00, 15800.04it/s]\n",
      "constructing single cells from json dict: 100%|██████████| 12/12 [00:00<00:00, 13688.24it/s]\n",
      "constructing single cells from json dict: 100%|██████████| 11/11 [00:00<00:00, 15292.46it/s]\n",
      "constructing single cells from json dict: 100%|██████████| 14/14 [00:00<00:00, 15029.50it/s]\n",
      "constructing single cells from json dict: 100%|██████████| 12/12 [00:00<00:00, 17061.58it/s]\n",
      "constructing single cells from json dict: 100%|██████████| 14/14 [00:00<00:00, 14614.30it/s]\n",
      "constructing single cells from json dict: 100%|██████████| 13/13 [00:00<00:00, 16508.01it/s]\n",
      "constructing single cells from json dict: 100%|██████████| 15/15 [00:00<00:00, 20922.70it/s]\n",
      "constructing single cells from json dict: 100%|██████████| 13/13 [00:00<00:00, 18906.36it/s]\n",
      "constructing single cells from json dict: 100%|██████████| 13/13 [00:00<00:00, 19806.01it/s]\n"
     ]
    },
    {
     "name": "stdout",
     "output_type": "stream",
     "text": [
      "Loaded 12 annotated samples from datasets/test_scs_EBSS_starvation/XY16/annotations/mitosis\n",
      "Loaded 0 annotated samples from datasets/test_scs_EBSS_starvation/XY16/annotations/apoptosis\n",
      "Loaded 0 annotated samples from datasets/test_scs_EBSS_starvation/XY16/annotations/normal\n"
     ]
    },
    {
     "name": "stderr",
     "output_type": "stream",
     "text": [
      "constructing single cells from json dict: 100%|██████████| 13/13 [00:00<00:00, 16074.87it/s]\n",
      "constructing single cells from json dict: 100%|██████████| 13/13 [00:00<00:00, 18477.11it/s]\n",
      "constructing single cells from json dict: 100%|██████████| 11/11 [00:00<00:00, 17430.05it/s]\n",
      "constructing single cells from json dict: 100%|██████████| 12/12 [00:00<00:00, 20262.34it/s]\n",
      "constructing single cells from json dict: 100%|██████████| 14/14 [00:00<00:00, 23054.67it/s]\n",
      "constructing single cells from json dict: 100%|██████████| 12/12 [00:00<00:00, 20712.61it/s]\n",
      "constructing single cells from json dict: 100%|██████████| 13/13 [00:00<00:00, 18458.35it/s]\n",
      "constructing single cells from json dict: 100%|██████████| 11/11 [00:00<00:00, 26439.74it/s]\n"
     ]
    },
    {
     "name": "stdout",
     "output_type": "stream",
     "text": [
      "Loaded 8 annotated samples from datasets/test_scs_EBSS_starvation/XY1/annotations/mitosis\n",
      "Loaded 0 annotated samples from datasets/test_scs_EBSS_starvation/XY1/annotations/apoptosis\n",
      "Loaded 0 annotated samples from datasets/test_scs_EBSS_starvation/XY1/annotations/normal\n"
     ]
    },
    {
     "name": "stderr",
     "output_type": "stream",
     "text": [
      "constructing single cells from json dict: 100%|██████████| 13/13 [00:00<00:00, 16965.14it/s]\n",
      "constructing single cells from json dict: 100%|██████████| 13/13 [00:00<00:00, 18328.05it/s]\n",
      "constructing single cells from json dict: 100%|██████████| 13/13 [00:00<00:00, 22012.90it/s]\n",
      "constructing single cells from json dict: 100%|██████████| 12/12 [00:00<00:00, 23475.58it/s]\n",
      "constructing single cells from json dict: 100%|██████████| 11/11 [00:00<00:00, 17793.04it/s]\n",
      "constructing single cells from json dict: 100%|██████████| 14/14 [00:00<00:00, 18327.17it/s]\n",
      "constructing single cells from json dict: 100%|██████████| 12/12 [00:00<00:00, 17482.34it/s]\n",
      "constructing single cells from json dict: 100%|██████████| 14/14 [00:00<00:00, 14574.40it/s]\n",
      "constructing single cells from json dict: 100%|██████████| 13/13 [00:00<00:00, 17309.83it/s]\n",
      "constructing single cells from json dict: 100%|██████████| 15/15 [00:00<00:00, 20132.66it/s]\n",
      "constructing single cells from json dict: 100%|██████████| 13/13 [00:00<00:00, 18365.09it/s]\n",
      "constructing single cells from json dict: 100%|██████████| 13/13 [00:00<00:00, 18919.48it/s]\n"
     ]
    },
    {
     "name": "stdout",
     "output_type": "stream",
     "text": [
      "Loaded 12 annotated samples from datasets/test_scs_EBSS_starvation/XY16/annotations/mitosis\n",
      "Loaded 0 annotated samples from datasets/test_scs_EBSS_starvation/XY16/annotations/apoptosis\n",
      "Loaded 0 annotated samples from datasets/test_scs_EBSS_starvation/XY16/annotations/normal\n"
     ]
    },
    {
     "name": "stderr",
     "output_type": "stream",
     "text": [
      "constructing single cells from json dict: 100%|██████████| 13/13 [00:00<00:00, 10067.57it/s]\n",
      "constructing single cells from json dict: 100%|██████████| 15/15 [00:00<00:00, 15638.72it/s]\n",
      "constructing single cells from json dict: 100%|██████████| 12/12 [00:00<00:00, 15626.09it/s]\n",
      "constructing single cells from json dict: 100%|██████████| 14/14 [00:00<00:00, 14798.45it/s]\n",
      "constructing single cells from json dict: 100%|██████████| 13/13 [00:00<00:00, 15627.96it/s]\n",
      "constructing single cells from json dict: 100%|██████████| 13/13 [00:00<00:00, 15699.96it/s]\n",
      "constructing single cells from json dict: 100%|██████████| 14/14 [00:00<00:00, 15844.65it/s]\n",
      "constructing single cells from json dict: 100%|██████████| 15/15 [00:00<00:00, 15345.01it/s]\n",
      "constructing single cells from json dict: 100%|██████████| 13/13 [00:00<00:00, 16305.61it/s]\n",
      "constructing single cells from json dict: 100%|██████████| 14/14 [00:00<00:00, 15400.01it/s]\n",
      "constructing single cells from json dict: 100%|██████████| 15/15 [00:00<00:00, 16269.60it/s]\n"
     ]
    },
    {
     "name": "stdout",
     "output_type": "stream",
     "text": [
      "Loaded 11 annotated samples from ../datasets/mitosis-annotations-2023/shiman_XY01/XY01/mitosis\n",
      "Loaded 0 annotated samples from ../datasets/mitosis-annotations-2023/shiman_XY01/XY01/apoptosis\n",
      "Loaded 0 annotated samples from ../datasets/mitosis-annotations-2023/shiman_XY01/XY01/normal\n"
     ]
    },
    {
     "name": "stderr",
     "output_type": "stream",
     "text": [
      "constructing single cells from json dict: 100%|██████████| 15/15 [00:00<00:00, 8654.00it/s]\n",
      "constructing single cells from json dict: 100%|██████████| 15/15 [00:00<00:00, 16530.36it/s]\n",
      "constructing single cells from json dict: 100%|██████████| 51/51 [00:00<00:00, 18171.04it/s]\n",
      "constructing single cells from json dict: 100%|██████████| 23/23 [00:00<00:00, 18989.96it/s]\n",
      "constructing single cells from json dict: 100%|██████████| 22/22 [00:00<00:00, 16838.45it/s]\n",
      "constructing single cells from json dict: 100%|██████████| 39/39 [00:00<00:00, 18299.35it/s]\n",
      "constructing single cells from json dict: 100%|██████████| 24/24 [00:00<00:00, 16710.37it/s]\n",
      "constructing single cells from json dict: 100%|██████████| 17/17 [00:00<00:00, 16455.84it/s]\n",
      "constructing single cells from json dict: 100%|██████████| 13/13 [00:00<00:00, 15869.02it/s]\n",
      "constructing single cells from json dict: 100%|██████████| 18/18 [00:00<00:00, 16494.97it/s]\n",
      "constructing single cells from json dict: 100%|██████████| 14/14 [00:00<00:00, 15991.36it/s]\n",
      "constructing single cells from json dict: 100%|██████████| 39/39 [00:00<00:00, 18862.76it/s]\n",
      "constructing single cells from json dict: 100%|██████████| 15/15 [00:00<00:00, 16418.20it/s]\n",
      "constructing single cells from json dict: 100%|██████████| 29/29 [00:00<00:00, 18017.30it/s]\n",
      "constructing single cells from json dict: 100%|██████████| 17/17 [00:00<00:00, 17247.98it/s]\n",
      "constructing single cells from json dict: 100%|██████████| 20/20 [00:00<00:00, 17105.64it/s]\n",
      "constructing single cells from json dict: 100%|██████████| 27/27 [00:00<00:00, 17184.55it/s]\n",
      "constructing single cells from json dict: 100%|██████████| 15/15 [00:00<00:00, 16345.69it/s]\n",
      "constructing single cells from json dict: 100%|██████████| 17/17 [00:00<00:00, 13030.55it/s]\n",
      "constructing single cells from json dict: 100%|██████████| 16/16 [00:00<00:00, 16024.08it/s]\n",
      "constructing single cells from json dict: 100%|██████████| 15/15 [00:00<00:00, 15923.71it/s]\n",
      "constructing single cells from json dict: 100%|██████████| 22/22 [00:00<00:00, 16480.57it/s]\n",
      "constructing single cells from json dict: 100%|██████████| 12/12 [00:00<00:00, 13393.20it/s]\n",
      "constructing single cells from json dict: 100%|██████████| 15/15 [00:00<00:00, 16719.26it/s]\n",
      "constructing single cells from json dict: 100%|██████████| 22/22 [00:00<00:00, 46745.03it/s]\n",
      "constructing single cells from json dict: 100%|██████████| 14/14 [00:00<00:00, 16234.52it/s]\n",
      "constructing single cells from json dict: 100%|██████████| 24/24 [00:00<00:00, 18582.85it/s]\n",
      "constructing single cells from json dict: 100%|██████████| 18/18 [00:00<00:00, 17468.18it/s]\n",
      "constructing single cells from json dict: 100%|██████████| 15/15 [00:00<00:00, 15783.88it/s]\n",
      "constructing single cells from json dict: 100%|██████████| 15/15 [00:00<00:00, 16435.36it/s]\n",
      "constructing single cells from json dict: 100%|██████████| 13/13 [00:00<00:00, 15882.89it/s]\n",
      "constructing single cells from json dict: 100%|██████████| 12/12 [00:00<00:00, 15655.26it/s]\n",
      "constructing single cells from json dict: 0it [00:00, ?it/s]\n",
      "constructing single cells from json dict: 100%|██████████| 11/11 [00:00<00:00, 15508.35it/s]\n",
      "constructing single cells from json dict: 100%|██████████| 15/15 [00:00<00:00, 15764.11it/s]\n",
      "constructing single cells from json dict: 100%|██████████| 15/15 [00:00<00:00, 16388.27it/s]\n",
      "constructing single cells from json dict: 100%|██████████| 23/23 [00:00<00:00, 16918.45it/s]\n",
      "constructing single cells from json dict: 100%|██████████| 13/13 [00:00<00:00, 15827.56it/s]\n",
      "constructing single cells from json dict: 100%|██████████| 16/16 [00:00<00:00, 16182.51it/s]\n",
      "constructing single cells from json dict: 100%|██████████| 16/16 [00:00<00:00, 15654.04it/s]\n",
      "constructing single cells from json dict: 100%|██████████| 82/82 [00:00<00:00, 18298.20it/s]\n",
      "constructing single cells from json dict: 100%|██████████| 17/17 [00:00<00:00, 16528.32it/s]\n",
      "constructing single cells from json dict: 100%|██████████| 16/16 [00:00<00:00, 15812.64it/s]\n"
     ]
    },
    {
     "name": "stdout",
     "output_type": "stream",
     "text": [
      "Loaded 43 annotated samples from ../datasets/mitosis-annotations-2023/shiman_XY09/XY09/mitosis\n",
      "Loaded 0 annotated samples from ../datasets/mitosis-annotations-2023/shiman_XY09/XY09/apoptosis\n",
      "Loaded 0 annotated samples from ../datasets/mitosis-annotations-2023/shiman_XY09/XY09/normal\n"
     ]
    },
    {
     "name": "stderr",
     "output_type": "stream",
     "text": [
      "constructing single cells from json dict: 100%|██████████| 32/32 [00:00<00:00, 12768.05it/s]\n",
      "constructing single cells from json dict: 100%|██████████| 12/12 [00:00<00:00, 8751.81it/s]\n",
      "constructing single cells from json dict: 100%|██████████| 13/13 [00:00<00:00, 9344.64it/s]\n",
      "constructing single cells from json dict: 100%|██████████| 12/12 [00:00<00:00, 14627.04it/s]\n",
      "constructing single cells from json dict: 100%|██████████| 11/11 [00:00<00:00, 15975.53it/s]\n",
      "constructing single cells from json dict: 100%|██████████| 13/13 [00:00<00:00, 16923.01it/s]\n",
      "constructing single cells from json dict: 100%|██████████| 14/14 [00:00<00:00, 15526.24it/s]\n",
      "constructing single cells from json dict: 100%|██████████| 11/11 [00:00<00:00, 15146.86it/s]\n",
      "constructing single cells from json dict: 100%|██████████| 10/10 [00:00<00:00, 14852.35it/s]\n",
      "constructing single cells from json dict: 100%|██████████| 24/24 [00:00<00:00, 16972.40it/s]\n",
      "constructing single cells from json dict: 100%|██████████| 29/29 [00:00<00:00, 17299.79it/s]\n",
      "constructing single cells from json dict: 100%|██████████| 12/12 [00:00<00:00, 15645.52it/s]\n",
      "constructing single cells from json dict: 100%|██████████| 11/11 [00:00<00:00, 15440.88it/s]\n",
      "constructing single cells from json dict: 100%|██████████| 13/13 [00:00<00:00, 15952.59it/s]\n",
      "constructing single cells from json dict: 100%|██████████| 16/16 [00:00<00:00, 16344.10it/s]\n",
      "constructing single cells from json dict: 100%|██████████| 12/12 [00:00<00:00, 15500.97it/s]\n",
      "constructing single cells from json dict: 100%|██████████| 10/10 [00:00<00:00, 14841.84it/s]\n",
      "constructing single cells from json dict: 100%|██████████| 13/13 [00:00<00:00, 17146.53it/s]\n",
      "constructing single cells from json dict: 100%|██████████| 14/14 [00:00<00:00, 16315.71it/s]\n",
      "constructing single cells from json dict: 100%|██████████| 10/10 [00:00<00:00, 15191.25it/s]\n",
      "constructing single cells from json dict: 100%|██████████| 19/19 [00:00<00:00, 17093.90it/s]\n",
      "constructing single cells from json dict: 100%|██████████| 19/19 [00:00<00:00, 16599.00it/s]\n",
      "constructing single cells from json dict: 100%|██████████| 13/13 [00:00<00:00, 55809.57it/s]\n",
      "constructing single cells from json dict: 100%|██████████| 11/11 [00:00<00:00, 14623.56it/s]\n",
      "constructing single cells from json dict: 100%|██████████| 8/8 [00:00<00:00, 14205.94it/s]\n",
      "constructing single cells from json dict: 100%|██████████| 22/22 [00:00<00:00, 13236.94it/s]\n",
      "constructing single cells from json dict: 100%|██████████| 10/10 [00:00<00:00, 17542.05it/s]\n",
      "constructing single cells from json dict: 100%|██████████| 16/16 [00:00<00:00, 16328.19it/s]\n",
      "constructing single cells from json dict: 100%|██████████| 17/17 [00:00<00:00, 16675.20it/s]\n",
      "constructing single cells from json dict: 100%|██████████| 17/17 [00:00<00:00, 16459.64it/s]\n",
      "constructing single cells from json dict: 100%|██████████| 23/23 [00:00<00:00, 17495.28it/s]\n",
      "constructing single cells from json dict: 100%|██████████| 13/13 [00:00<00:00, 15980.64it/s]\n",
      "constructing single cells from json dict: 100%|██████████| 8/8 [00:00<00:00, 14128.18it/s]\n",
      "constructing single cells from json dict: 100%|██████████| 16/16 [00:00<00:00, 15997.35it/s]\n",
      "constructing single cells from json dict: 100%|██████████| 14/14 [00:00<00:00, 16411.47it/s]\n",
      "constructing single cells from json dict: 100%|██████████| 22/22 [00:00<00:00, 16740.69it/s]\n",
      "constructing single cells from json dict: 100%|██████████| 27/27 [00:00<00:00, 17321.23it/s]\n",
      "constructing single cells from json dict: 100%|██████████| 16/16 [00:00<00:00, 16460.35it/s]\n",
      "constructing single cells from json dict: 100%|██████████| 18/18 [00:00<00:00, 18018.49it/s]\n",
      "constructing single cells from json dict: 100%|██████████| 14/14 [00:00<00:00, 15956.59it/s]\n",
      "constructing single cells from json dict: 100%|██████████| 14/14 [00:00<00:00, 16342.96it/s]\n",
      "constructing single cells from json dict: 100%|██████████| 14/14 [00:00<00:00, 16008.79it/s]\n",
      "constructing single cells from json dict: 100%|██████████| 18/18 [00:00<00:00, 16556.46it/s]\n",
      "constructing single cells from json dict: 100%|██████████| 22/22 [00:00<00:00, 18816.21it/s]\n",
      "constructing single cells from json dict: 100%|██████████| 14/14 [00:00<00:00, 16035.02it/s]\n",
      "constructing single cells from json dict: 100%|██████████| 13/13 [00:00<00:00, 16334.92it/s]\n",
      "constructing single cells from json dict: 100%|██████████| 23/23 [00:00<00:00, 16975.01it/s]\n",
      "constructing single cells from json dict: 100%|██████████| 13/13 [00:00<00:00, 15943.26it/s]\n",
      "constructing single cells from json dict: 100%|██████████| 15/15 [00:00<00:00, 14947.63it/s]\n",
      "constructing single cells from json dict: 100%|██████████| 17/17 [00:00<00:00, 16856.54it/s]\n"
     ]
    },
    {
     "name": "stdout",
     "output_type": "stream",
     "text": [
      "Loaded 50 annotated samples from ../datasets/mitosis-annotations-2023/shiman_XY10/XY10/mitosis\n",
      "Loaded 0 annotated samples from ../datasets/mitosis-annotations-2023/shiman_XY10/XY10/apoptosis\n",
      "Loaded 0 annotated samples from ../datasets/mitosis-annotations-2023/shiman_XY10/XY10/normal\n"
     ]
    },
    {
     "name": "stderr",
     "output_type": "stream",
     "text": [
      "constructing single cells from json dict: 100%|██████████| 11/11 [00:00<00:00, 10799.94it/s]\n",
      "constructing single cells from json dict: 100%|██████████| 10/10 [00:00<00:00, 14716.86it/s]\n",
      "constructing single cells from json dict: 100%|██████████| 9/9 [00:00<00:00, 14271.73it/s]\n",
      "constructing single cells from json dict: 100%|██████████| 10/10 [00:00<00:00, 15033.35it/s]\n",
      "constructing single cells from json dict: 100%|██████████| 17/17 [00:00<00:00, 16516.83it/s]\n",
      "constructing single cells from json dict: 100%|██████████| 8/8 [00:00<00:00, 14163.96it/s]\n",
      "constructing single cells from json dict: 100%|██████████| 7/7 [00:00<00:00, 13418.71it/s]\n",
      "constructing single cells from json dict: 100%|██████████| 11/11 [00:00<00:00, 14665.40it/s]\n",
      "constructing single cells from json dict: 100%|██████████| 9/9 [00:00<00:00, 14418.92it/s]\n",
      "constructing single cells from json dict: 100%|██████████| 8/8 [00:00<00:00, 16108.70it/s]\n",
      "constructing single cells from json dict: 100%|██████████| 12/12 [00:00<00:00, 15988.45it/s]\n",
      "constructing single cells from json dict: 100%|██████████| 8/8 [00:00<00:00, 13940.35it/s]\n",
      "constructing single cells from json dict: 100%|██████████| 9/9 [00:00<00:00, 13568.92it/s]\n",
      "constructing single cells from json dict: 100%|██████████| 9/9 [00:00<00:00, 13617.87it/s]\n",
      "constructing single cells from json dict: 100%|██████████| 9/9 [00:00<00:00, 14380.47it/s]\n",
      "constructing single cells from json dict: 100%|██████████| 9/9 [00:00<00:00, 14287.94it/s]\n",
      "constructing single cells from json dict: 100%|██████████| 6/6 [00:00<00:00, 12633.45it/s]\n",
      "constructing single cells from json dict: 100%|██████████| 9/9 [00:00<00:00, 15063.34it/s]\n",
      "constructing single cells from json dict: 100%|██████████| 9/9 [00:00<00:00, 14234.06it/s]\n",
      "constructing single cells from json dict: 100%|██████████| 13/13 [00:00<00:00, 15864.40it/s]\n",
      "constructing single cells from json dict: 100%|██████████| 14/14 [00:00<00:00, 15391.94it/s]\n",
      "constructing single cells from json dict: 100%|██████████| 9/9 [00:00<00:00, 14435.46it/s]\n",
      "constructing single cells from json dict: 100%|██████████| 10/10 [00:00<00:00, 14862.88it/s]\n",
      "constructing single cells from json dict: 100%|██████████| 10/10 [00:00<00:00, 15022.58it/s]\n",
      "constructing single cells from json dict: 100%|██████████| 10/10 [00:00<00:00, 13883.83it/s]\n",
      "constructing single cells from json dict: 100%|██████████| 10/10 [00:00<00:00, 15229.86it/s]\n",
      "constructing single cells from json dict: 100%|██████████| 8/8 [00:00<00:00, 13998.51it/s]\n",
      "constructing single cells from json dict: 100%|██████████| 10/10 [00:00<00:00, 14732.36it/s]\n",
      "constructing single cells from json dict: 100%|██████████| 8/8 [00:00<00:00, 13640.01it/s]\n",
      "constructing single cells from json dict: 100%|██████████| 7/7 [00:00<00:00, 15468.98it/s]\n"
     ]
    },
    {
     "name": "stdout",
     "output_type": "stream",
     "text": [
      "Loaded 30 annotated samples from ../datasets/mitosis-annotations-2023/Yajushi/tifs_CFP_A549-VIM_lessThan24hr_NoTreat_NA_YL_Ti2e_2022-10-19/XY1/annotations/mitosis\n",
      "Loaded 0 annotated samples from ../datasets/mitosis-annotations-2023/Yajushi/tifs_CFP_A549-VIM_lessThan24hr_NoTreat_NA_YL_Ti2e_2022-10-19/XY1/annotations/apoptosis\n",
      "Loaded 0 annotated samples from ../datasets/mitosis-annotations-2023/Yajushi/tifs_CFP_A549-VIM_lessThan24hr_NoTreat_NA_YL_Ti2e_2022-10-19/XY1/annotations/normal\n"
     ]
    },
    {
     "name": "stderr",
     "output_type": "stream",
     "text": [
      "constructing single cells from json dict: 100%|██████████| 11/11 [00:00<00:00, 11220.17it/s]\n",
      "constructing single cells from json dict: 100%|██████████| 11/11 [00:00<00:00, 14328.37it/s]\n",
      "constructing single cells from json dict: 100%|██████████| 9/9 [00:00<00:00, 14074.85it/s]\n",
      "constructing single cells from json dict: 100%|██████████| 10/10 [00:00<00:00, 13340.66it/s]\n"
     ]
    },
    {
     "name": "stdout",
     "output_type": "stream",
     "text": [
      "Loaded 4 annotated samples from ../datasets/mitosis-annotations-2023/shiman_CXA_high_density/C0.5^4/mitosis\n",
      "Loaded 0 annotated samples from ../datasets/mitosis-annotations-2023/shiman_CXA_high_density/C0.5^4/apoptosis\n",
      "Loaded 0 annotated samples from ../datasets/mitosis-annotations-2023/shiman_CXA_high_density/C0.5^4/normal\n"
     ]
    },
    {
     "name": "stderr",
     "output_type": "stream",
     "text": [
      "constructing single cells from json dict: 100%|██████████| 12/12 [00:00<00:00, 12461.41it/s]\n",
      "constructing single cells from json dict: 100%|██████████| 11/11 [00:00<00:00, 14749.79it/s]\n",
      "constructing single cells from json dict: 100%|██████████| 12/12 [00:00<00:00, 14691.08it/s]\n",
      "constructing single cells from json dict: 100%|██████████| 11/11 [00:00<00:00, 14849.48it/s]\n",
      "constructing single cells from json dict: 100%|██████████| 12/12 [00:00<00:00, 14138.10it/s]\n",
      "constructing single cells from json dict: 100%|██████████| 13/13 [00:00<00:00, 15385.43it/s]\n",
      "constructing single cells from json dict: 100%|██████████| 10/10 [00:00<00:00, 13604.62it/s]\n",
      "constructing single cells from json dict: 100%|██████████| 11/11 [00:00<00:00, 14999.14it/s]\n",
      "constructing single cells from json dict: 100%|██████████| 6/6 [00:00<00:00, 12390.85it/s]\n",
      "constructing single cells from json dict: 100%|██████████| 11/11 [00:00<00:00, 14169.95it/s]\n",
      "constructing single cells from json dict: 100%|██████████| 10/10 [00:00<00:00, 14815.63it/s]\n",
      "constructing single cells from json dict: 100%|██████████| 20/20 [00:00<00:00, 17396.53it/s]\n",
      "constructing single cells from json dict: 100%|██████████| 12/12 [00:00<00:00, 15792.80it/s]\n"
     ]
    },
    {
     "name": "stdout",
     "output_type": "stream",
     "text": [
      "Loaded 13 annotated samples from ../datasets/mitosis-annotations-2023/shiman_CXA_high_density/C0.75^4/mitosis\n",
      "Loaded 0 annotated samples from ../datasets/mitosis-annotations-2023/shiman_CXA_high_density/C0.75^4/apoptosis\n",
      "Loaded 0 annotated samples from ../datasets/mitosis-annotations-2023/shiman_CXA_high_density/C0.75^4/normal\n"
     ]
    },
    {
     "name": "stderr",
     "output_type": "stream",
     "text": [
      "constructing single cells from json dict: 100%|██████████| 14/14 [00:00<00:00, 12965.39it/s]\n"
     ]
    },
    {
     "name": "stdout",
     "output_type": "stream",
     "text": [
      "Loaded 1 annotated samples from ../datasets/mitosis-annotations-2023/shiman_CXA_high_density/C10^3/mitosis\n",
      "Loaded 0 annotated samples from ../datasets/mitosis-annotations-2023/shiman_CXA_high_density/C10^3/apoptosis\n",
      "Loaded 0 annotated samples from ../datasets/mitosis-annotations-2023/shiman_CXA_high_density/C10^3/normal\n"
     ]
    },
    {
     "name": "stderr",
     "output_type": "stream",
     "text": [
      "constructing single cells from json dict: 100%|██████████| 9/9 [00:00<00:00, 12071.87it/s]\n",
      "constructing single cells from json dict: 100%|██████████| 10/10 [00:00<00:00, 14227.63it/s]\n",
      "constructing single cells from json dict: 100%|██████████| 12/12 [00:00<00:00, 15160.13it/s]\n",
      "constructing single cells from json dict: 100%|██████████| 10/10 [00:00<00:00, 14670.53it/s]\n",
      "constructing single cells from json dict: 100%|██████████| 12/12 [00:00<00:00, 14335.42it/s]\n",
      "constructing single cells from json dict: 100%|██████████| 11/11 [00:00<00:00, 15466.76it/s]\n",
      "constructing single cells from json dict: 100%|██████████| 7/7 [00:00<00:00, 14197.35it/s]\n",
      "constructing single cells from json dict: 100%|██████████| 11/11 [00:00<00:00, 14413.42it/s]\n"
     ]
    },
    {
     "name": "stdout",
     "output_type": "stream",
     "text": [
      "Loaded 8 annotated samples from ../datasets/mitosis-annotations-2023/shiman_CXA_high_density/C10^4/mitosis\n",
      "Loaded 0 annotated samples from ../datasets/mitosis-annotations-2023/shiman_CXA_high_density/C10^4/apoptosis\n",
      "Loaded 0 annotated samples from ../datasets/mitosis-annotations-2023/shiman_CXA_high_density/C10^4/normal\n"
     ]
    },
    {
     "name": "stderr",
     "output_type": "stream",
     "text": [
      "constructing single cells from json dict: 100%|██████████| 12/12 [00:00<00:00, 10835.66it/s]\n",
      "constructing single cells from json dict: 100%|██████████| 12/12 [00:00<00:00, 15832.54it/s]\n",
      "constructing single cells from json dict: 100%|██████████| 15/15 [00:00<00:00, 15752.27it/s]\n",
      "constructing single cells from json dict: 100%|██████████| 14/14 [00:00<00:00, 15497.56it/s]\n",
      "constructing single cells from json dict: 100%|██████████| 15/15 [00:00<00:00, 16206.74it/s]\n",
      "constructing single cells from json dict: 100%|██████████| 16/16 [00:00<00:00, 16668.87it/s]\n",
      "constructing single cells from json dict: 100%|██████████| 20/20 [00:00<00:00, 17708.69it/s]\n",
      "constructing single cells from json dict: 100%|██████████| 14/14 [00:00<00:00, 15642.05it/s]\n",
      "constructing single cells from json dict: 100%|██████████| 13/13 [00:00<00:00, 18297.30it/s]\n"
     ]
    },
    {
     "name": "stdout",
     "output_type": "stream",
     "text": [
      "Loaded 9 annotated samples from ../datasets/mitosis-annotations-2023/Gaohan_tifs_CFP_A549-VIM_lessThan24hr_NoTreat_NA_YL_Ti2e_2022-10-19/XY4/annotations/mitosis\n",
      "Loaded 0 annotated samples from ../datasets/mitosis-annotations-2023/Gaohan_tifs_CFP_A549-VIM_lessThan24hr_NoTreat_NA_YL_Ti2e_2022-10-19/XY4/annotations/apoptosis\n",
      "Loaded 0 annotated samples from ../datasets/mitosis-annotations-2023/Gaohan_tifs_CFP_A549-VIM_lessThan24hr_NoTreat_NA_YL_Ti2e_2022-10-19/XY4/annotations/normal\n"
     ]
    },
    {
     "name": "stderr",
     "output_type": "stream",
     "text": [
      "constructing single cells from json dict: 100%|██████████| 16/16 [00:00<00:00, 11313.02it/s]\n",
      "constructing single cells from json dict: 100%|██████████| 20/20 [00:00<00:00, 17011.98it/s]\n",
      "constructing single cells from json dict: 100%|██████████| 26/26 [00:00<00:00, 18181.38it/s]\n",
      "constructing single cells from json dict: 100%|██████████| 17/17 [00:00<00:00, 17033.72it/s]\n",
      "constructing single cells from json dict: 100%|██████████| 17/17 [00:00<00:00, 16410.40it/s]\n",
      "constructing single cells from json dict: 100%|██████████| 15/15 [00:00<00:00, 17549.39it/s]\n",
      "constructing single cells from json dict: 100%|██████████| 16/16 [00:00<00:00, 15491.43it/s]\n"
     ]
    },
    {
     "name": "stdout",
     "output_type": "stream",
     "text": [
      "Loaded 7 annotated samples from ../datasets/mitosis-annotations-2023/Gaohan_tifs_CFP_A549-VIM_lessThan24hr_NoTreat_NA_YL_Ti2e_2022-10-19/XY5/annotations/mitosis\n",
      "Loaded 0 annotated samples from ../datasets/mitosis-annotations-2023/Gaohan_tifs_CFP_A549-VIM_lessThan24hr_NoTreat_NA_YL_Ti2e_2022-10-19/XY5/annotations/apoptosis\n",
      "Loaded 0 annotated samples from ../datasets/mitosis-annotations-2023/Gaohan_tifs_CFP_A549-VIM_lessThan24hr_NoTreat_NA_YL_Ti2e_2022-10-19/XY5/annotations/normal\n"
     ]
    },
    {
     "name": "stderr",
     "output_type": "stream",
     "text": [
      "constructing single cells from json dict: 100%|██████████| 14/14 [00:00<00:00, 11305.40it/s]\n",
      "constructing single cells from json dict: 100%|██████████| 17/17 [00:00<00:00, 17892.89it/s]\n",
      "constructing single cells from json dict: 100%|██████████| 15/15 [00:00<00:00, 14734.09it/s]\n",
      "constructing single cells from json dict: 100%|██████████| 18/18 [00:00<00:00, 18117.94it/s]\n",
      "constructing single cells from json dict: 100%|██████████| 15/15 [00:00<00:00, 17598.48it/s]\n",
      "constructing single cells from json dict: 100%|██████████| 15/15 [00:00<00:00, 16396.81it/s]\n",
      "constructing single cells from json dict: 100%|██████████| 12/12 [00:00<00:00, 14047.35it/s]\n",
      "constructing single cells from json dict: 100%|██████████| 17/17 [00:00<00:00, 12272.49it/s]\n",
      "constructing single cells from json dict: 100%|██████████| 18/18 [00:00<00:00, 17992.72it/s]\n",
      "constructing single cells from json dict: 100%|██████████| 14/14 [00:00<00:00, 19252.54it/s]\n"
     ]
    },
    {
     "name": "stdout",
     "output_type": "stream",
     "text": [
      "Loaded 10 annotated samples from ../datasets/mitosis-annotations-2023/Gaohan_tifs_CFP_A549-VIM_lessThan24hr_NoTreat_NA_YL_Ti2e_2022-10-19/XY6/annotations/mitosis\n",
      "Loaded 0 annotated samples from ../datasets/mitosis-annotations-2023/Gaohan_tifs_CFP_A549-VIM_lessThan24hr_NoTreat_NA_YL_Ti2e_2022-10-19/XY6/annotations/apoptosis\n",
      "Loaded 0 annotated samples from ../datasets/mitosis-annotations-2023/Gaohan_tifs_CFP_A549-VIM_lessThan24hr_NoTreat_NA_YL_Ti2e_2022-10-19/XY6/annotations/normal\n"
     ]
    },
    {
     "name": "stderr",
     "output_type": "stream",
     "text": [
      "constructing single cells from json dict: 100%|██████████| 15/15 [00:00<00:00, 10681.59it/s]\n",
      "constructing single cells from json dict: 100%|██████████| 13/13 [00:00<00:00, 16558.14it/s]\n",
      "constructing single cells from json dict: 100%|██████████| 19/19 [00:00<00:00, 19001.38it/s]\n",
      "constructing single cells from json dict: 100%|██████████| 14/14 [00:00<00:00, 16185.30it/s]\n",
      "constructing single cells from json dict: 100%|██████████| 20/20 [00:00<00:00, 18078.90it/s]\n",
      "constructing single cells from json dict: 100%|██████████| 14/14 [00:00<00:00, 16485.19it/s]\n",
      "constructing single cells from json dict: 100%|██████████| 19/19 [00:00<00:00, 17178.65it/s]\n",
      "constructing single cells from json dict: 100%|██████████| 17/17 [00:00<00:00, 17816.88it/s]\n",
      "constructing single cells from json dict: 100%|██████████| 18/18 [00:00<00:00, 16640.39it/s]\n",
      "constructing single cells from json dict: 100%|██████████| 17/17 [00:00<00:00, 12773.77it/s]\n",
      "constructing single cells from json dict: 100%|██████████| 15/15 [00:00<00:00, 17203.87it/s]\n",
      "constructing single cells from json dict: 100%|██████████| 15/15 [00:00<00:00, 15607.68it/s]\n",
      "constructing single cells from json dict: 100%|██████████| 13/13 [00:00<00:00, 14199.47it/s]\n"
     ]
    },
    {
     "name": "stdout",
     "output_type": "stream",
     "text": [
      "Loaded 13 annotated samples from ../datasets/mitosis-annotations-2023/Gaohan_tifs_CFP_A549-VIM_lessThan24hr_NoTreat_NA_YL_Ti2e_2022-10-19/XY7/annotations/mitosis\n",
      "Loaded 0 annotated samples from ../datasets/mitosis-annotations-2023/Gaohan_tifs_CFP_A549-VIM_lessThan24hr_NoTreat_NA_YL_Ti2e_2022-10-19/XY7/annotations/apoptosis\n",
      "Loaded 0 annotated samples from ../datasets/mitosis-annotations-2023/Gaohan_tifs_CFP_A549-VIM_lessThan24hr_NoTreat_NA_YL_Ti2e_2022-10-19/XY7/annotations/normal\n"
     ]
    },
    {
     "name": "stderr",
     "output_type": "stream",
     "text": [
      "constructing single cells from json dict: 100%|██████████| 16/16 [00:00<00:00, 10466.14it/s]\n",
      "constructing single cells from json dict: 100%|██████████| 16/16 [00:00<00:00, 15067.10it/s]\n",
      "constructing single cells from json dict: 100%|██████████| 19/19 [00:00<00:00, 16158.11it/s]\n",
      "constructing single cells from json dict: 100%|██████████| 15/15 [00:00<00:00, 16560.82it/s]\n",
      "constructing single cells from json dict: 100%|██████████| 14/14 [00:00<00:00, 17225.07it/s]\n",
      "constructing single cells from json dict: 100%|██████████| 15/15 [00:00<00:00, 13996.57it/s]\n",
      "constructing single cells from json dict: 100%|██████████| 15/15 [00:00<00:00, 16033.27it/s]\n",
      "constructing single cells from json dict: 100%|██████████| 13/13 [00:00<00:00, 15832.16it/s]\n",
      "constructing single cells from json dict: 100%|██████████| 16/16 [00:00<00:00, 17962.76it/s]\n",
      "constructing single cells from json dict: 100%|██████████| 18/18 [00:00<00:00, 16563.73it/s]\n",
      "constructing single cells from json dict: 100%|██████████| 18/18 [00:00<00:00, 14902.78it/s]\n",
      "constructing single cells from json dict: 100%|██████████| 13/13 [00:00<00:00, 13648.55it/s]\n"
     ]
    },
    {
     "name": "stdout",
     "output_type": "stream",
     "text": [
      "Loaded 12 annotated samples from ../datasets/mitosis-annotations-2023/Gaohan_tifs_CFP_A549-VIM_lessThan24hr_NoTreat_NA_YL_Ti2e_2022-10-19/XY8/annotations/mitosis\n",
      "Loaded 0 annotated samples from ../datasets/mitosis-annotations-2023/Gaohan_tifs_CFP_A549-VIM_lessThan24hr_NoTreat_NA_YL_Ti2e_2022-10-19/XY8/annotations/apoptosis\n",
      "Loaded 0 annotated samples from ../datasets/mitosis-annotations-2023/Gaohan_tifs_CFP_A549-VIM_lessThan24hr_NoTreat_NA_YL_Ti2e_2022-10-19/XY8/annotations/normal\n"
     ]
    },
    {
     "name": "stderr",
     "output_type": "stream",
     "text": [
      "constructing single cells from json dict: 100%|██████████| 14/14 [00:00<00:00, 11255.56it/s]\n",
      "constructing single cells from json dict: 100%|██████████| 17/17 [00:00<00:00, 16268.12it/s]\n",
      "constructing single cells from json dict: 100%|██████████| 17/17 [00:00<00:00, 16964.83it/s]\n",
      "constructing single cells from json dict: 100%|██████████| 17/17 [00:00<00:00, 16216.32it/s]\n",
      "constructing single cells from json dict: 100%|██████████| 16/16 [00:00<00:00, 17796.04it/s]\n",
      "constructing single cells from json dict: 100%|██████████| 16/16 [00:00<00:00, 17753.67it/s]\n",
      "constructing single cells from json dict: 100%|██████████| 14/14 [00:00<00:00, 16564.25it/s]\n",
      "constructing single cells from json dict: 100%|██████████| 21/21 [00:00<00:00, 17342.07it/s]\n",
      "constructing single cells from json dict: 100%|██████████| 17/17 [00:00<00:00, 17459.15it/s]\n",
      "constructing single cells from json dict: 100%|██████████| 15/15 [00:00<00:00, 15772.01it/s]\n",
      "constructing single cells from json dict: 100%|██████████| 15/15 [00:00<00:00, 17481.12it/s]\n",
      "constructing single cells from json dict: 100%|██████████| 16/16 [00:00<00:00, 15823.83it/s]\n",
      "constructing single cells from json dict: 100%|██████████| 14/14 [00:00<00:00, 17383.14it/s]\n",
      "constructing single cells from json dict: 100%|██████████| 21/21 [00:00<00:00, 15028.22it/s]\n",
      "constructing single cells from json dict: 100%|██████████| 16/16 [00:00<00:00, 15118.01it/s]\n",
      "constructing single cells from json dict: 100%|██████████| 17/17 [00:00<00:00, 16932.60it/s]\n",
      "constructing single cells from json dict: 100%|██████████| 17/17 [00:00<00:00, 15908.78it/s]\n",
      "constructing single cells from json dict: 100%|██████████| 18/18 [00:00<00:00, 18678.25it/s]\n"
     ]
    },
    {
     "name": "stdout",
     "output_type": "stream",
     "text": [
      "Loaded 18 annotated samples from ../datasets/mitosis-annotations-2023/Gaohan_tifs_CFP_A549-VIM_lessThan24hr_NoTreat_NA_YL_Ti2e_2022-10-19/XY9/annotations/mitosis\n",
      "Loaded 0 annotated samples from ../datasets/mitosis-annotations-2023/Gaohan_tifs_CFP_A549-VIM_lessThan24hr_NoTreat_NA_YL_Ti2e_2022-10-19/XY9/annotations/apoptosis\n",
      "Loaded 0 annotated samples from ../datasets/mitosis-annotations-2023/Gaohan_tifs_CFP_A549-VIM_lessThan24hr_NoTreat_NA_YL_Ti2e_2022-10-19/XY9/annotations/normal\n"
     ]
    },
    {
     "name": "stderr",
     "output_type": "stream",
     "text": [
      "constructing single cells from json dict: 100%|██████████| 15/15 [00:00<00:00, 10442.25it/s]\n",
      "constructing single cells from json dict: 100%|██████████| 14/14 [00:00<00:00, 15126.29it/s]\n",
      "constructing single cells from json dict: 100%|██████████| 12/12 [00:00<00:00, 14525.73it/s]\n",
      "constructing single cells from json dict: 100%|██████████| 18/18 [00:00<00:00, 14625.62it/s]\n",
      "constructing single cells from json dict: 100%|██████████| 16/16 [00:00<00:00, 18391.03it/s]\n",
      "constructing single cells from json dict: 100%|██████████| 28/28 [00:00<00:00, 15359.73it/s]\n",
      "constructing single cells from json dict: 100%|██████████| 15/15 [00:00<00:00, 14976.09it/s]\n",
      "constructing single cells from json dict: 100%|██████████| 16/16 [00:00<00:00, 15318.16it/s]\n",
      "constructing single cells from json dict: 100%|██████████| 17/17 [00:00<00:00, 14044.35it/s]\n"
     ]
    },
    {
     "name": "stdout",
     "output_type": "stream",
     "text": [
      "Loaded 9 annotated samples from ../datasets/mitosis-annotations-2023/Gaohan_tifs_CFP_A549-VIM_lessThan24hr_NoTreat_NA_YL_Ti2e_2022-10-19/XY10/annotations/mitosis\n",
      "Loaded 0 annotated samples from ../datasets/mitosis-annotations-2023/Gaohan_tifs_CFP_A549-VIM_lessThan24hr_NoTreat_NA_YL_Ti2e_2022-10-19/XY10/annotations/apoptosis\n",
      "Loaded 0 annotated samples from ../datasets/mitosis-annotations-2023/Gaohan_tifs_CFP_A549-VIM_lessThan24hr_NoTreat_NA_YL_Ti2e_2022-10-19/XY10/annotations/normal\n"
     ]
    },
    {
     "name": "stderr",
     "output_type": "stream",
     "text": [
      "constructing single cells from json dict: 100%|██████████| 12/12 [00:00<00:00, 10496.69it/s]\n",
      "constructing single cells from json dict: 100%|██████████| 15/15 [00:00<00:00, 16644.06it/s]\n",
      "constructing single cells from json dict: 100%|██████████| 15/15 [00:00<00:00, 15307.68it/s]\n",
      "constructing single cells from json dict: 100%|██████████| 12/12 [00:00<00:00, 14988.58it/s]\n",
      "constructing single cells from json dict: 100%|██████████| 19/19 [00:00<00:00, 13466.00it/s]\n",
      "constructing single cells from json dict: 100%|██████████| 15/15 [00:00<00:00, 16670.52it/s]\n",
      "constructing single cells from json dict: 100%|██████████| 14/14 [00:00<00:00, 17821.02it/s]\n",
      "constructing single cells from json dict: 100%|██████████| 18/18 [00:00<00:00, 12390.85it/s]\n",
      "constructing single cells from json dict: 100%|██████████| 13/13 [00:00<00:00, 17900.84it/s]\n",
      "constructing single cells from json dict: 100%|██████████| 12/12 [00:00<00:00, 15998.62it/s]\n",
      "constructing single cells from json dict: 100%|██████████| 15/15 [00:00<00:00, 15367.50it/s]\n",
      "constructing single cells from json dict: 100%|██████████| 16/16 [00:00<00:00, 13957.75it/s]\n",
      "constructing single cells from json dict: 100%|██████████| 14/14 [00:00<00:00, 13409.51it/s]\n",
      "constructing single cells from json dict: 100%|██████████| 15/15 [00:00<00:00, 15823.58it/s]\n",
      "constructing single cells from json dict: 100%|██████████| 13/13 [00:00<00:00, 16741.16it/s]\n",
      "constructing single cells from json dict: 100%|██████████| 14/14 [00:00<00:00, 19952.52it/s]\n",
      "constructing single cells from json dict: 100%|██████████| 13/13 [00:00<00:00, 15910.70it/s]\n",
      "constructing single cells from json dict: 100%|██████████| 17/17 [00:00<00:00, 15541.23it/s]\n",
      "constructing single cells from json dict: 100%|██████████| 15/15 [00:00<00:00, 17782.52it/s]\n"
     ]
    },
    {
     "name": "stdout",
     "output_type": "stream",
     "text": [
      "Loaded 19 annotated samples from ../datasets/mitosis-annotations-2023/Gaohan_tifs_CFP_A549-VIM_lessThan24hr_NoTreat_NA_YL_Ti2e_2022-10-19/XY11/annotations/mitosis\n",
      "Loaded 0 annotated samples from ../datasets/mitosis-annotations-2023/Gaohan_tifs_CFP_A549-VIM_lessThan24hr_NoTreat_NA_YL_Ti2e_2022-10-19/XY11/annotations/apoptosis\n",
      "Loaded 0 annotated samples from ../datasets/mitosis-annotations-2023/Gaohan_tifs_CFP_A549-VIM_lessThan24hr_NoTreat_NA_YL_Ti2e_2022-10-19/XY11/annotations/normal\n"
     ]
    },
    {
     "name": "stderr",
     "output_type": "stream",
     "text": [
      "constructing single cells from json dict: 100%|██████████| 15/15 [00:00<00:00, 10856.70it/s]\n",
      "constructing single cells from json dict: 100%|██████████| 16/16 [00:00<00:00, 16035.57it/s]\n",
      "constructing single cells from json dict: 100%|██████████| 13/13 [00:00<00:00, 16468.12it/s]\n",
      "constructing single cells from json dict: 100%|██████████| 14/14 [00:00<00:00, 15662.91it/s]\n",
      "constructing single cells from json dict: 100%|██████████| 16/16 [00:00<00:00, 15252.01it/s]\n",
      "constructing single cells from json dict: 100%|██████████| 17/17 [00:00<00:00, 16275.55it/s]\n",
      "constructing single cells from json dict: 100%|██████████| 14/14 [00:00<00:00, 17179.71it/s]\n",
      "constructing single cells from json dict: 100%|██████████| 23/23 [00:00<00:00, 16655.56it/s]\n",
      "constructing single cells from json dict: 100%|██████████| 17/17 [00:00<00:00, 17658.04it/s]\n",
      "constructing single cells from json dict: 100%|██████████| 15/15 [00:00<00:00, 14590.58it/s]\n",
      "constructing single cells from json dict: 100%|██████████| 14/14 [00:00<00:00, 17149.61it/s]\n",
      "constructing single cells from json dict: 100%|██████████| 16/16 [00:00<00:00, 12965.39it/s]\n",
      "constructing single cells from json dict: 100%|██████████| 18/18 [00:00<00:00, 14287.94it/s]\n",
      "constructing single cells from json dict: 100%|██████████| 15/15 [00:00<00:00, 18904.62it/s]\n",
      "constructing single cells from json dict: 100%|██████████| 15/15 [00:00<00:00, 16701.50it/s]\n",
      "constructing single cells from json dict: 100%|██████████| 14/14 [00:00<00:00, 14945.34it/s]\n",
      "constructing single cells from json dict: 100%|██████████| 14/14 [00:00<00:00, 15473.06it/s]\n",
      "constructing single cells from json dict: 100%|██████████| 18/18 [00:00<00:00, 17920.12it/s]\n",
      "constructing single cells from json dict: 100%|██████████| 20/20 [00:00<00:00, 18343.77it/s]\n"
     ]
    },
    {
     "name": "stdout",
     "output_type": "stream",
     "text": [
      "Loaded 19 annotated samples from ../datasets/mitosis-annotations-2023/Gaohan_tifs_CFP_A549-VIM_lessThan24hr_NoTreat_NA_YL_Ti2e_2022-10-19/XY12/annotations/mitosis\n",
      "Loaded 0 annotated samples from ../datasets/mitosis-annotations-2023/Gaohan_tifs_CFP_A549-VIM_lessThan24hr_NoTreat_NA_YL_Ti2e_2022-10-19/XY12/annotations/apoptosis\n",
      "Loaded 0 annotated samples from ../datasets/mitosis-annotations-2023/Gaohan_tifs_CFP_A549-VIM_lessThan24hr_NoTreat_NA_YL_Ti2e_2022-10-19/XY12/annotations/normal\n"
     ]
    },
    {
     "name": "stderr",
     "output_type": "stream",
     "text": [
      "constructing single cells from json dict: 100%|██████████| 14/14 [00:00<00:00, 11294.53it/s]\n",
      "constructing single cells from json dict: 100%|██████████| 20/20 [00:00<00:00, 17043.09it/s]\n",
      "constructing single cells from json dict: 100%|██████████| 16/16 [00:00<00:00, 18285.79it/s]\n",
      "constructing single cells from json dict: 100%|██████████| 19/19 [00:00<00:00, 18050.23it/s]\n",
      "constructing single cells from json dict: 100%|██████████| 16/16 [00:00<00:00, 17462.62it/s]\n",
      "constructing single cells from json dict: 100%|██████████| 15/15 [00:00<00:00, 16876.22it/s]\n",
      "constructing single cells from json dict: 100%|██████████| 15/15 [00:00<00:00, 16248.60it/s]\n",
      "constructing single cells from json dict: 100%|██████████| 15/15 [00:00<00:00, 16885.28it/s]\n",
      "constructing single cells from json dict: 100%|██████████| 14/14 [00:00<00:00, 15068.07it/s]\n",
      "constructing single cells from json dict: 100%|██████████| 16/16 [00:00<00:00, 16336.14it/s]\n",
      "constructing single cells from json dict: 100%|██████████| 17/17 [00:00<00:00, 17198.06it/s]\n",
      "constructing single cells from json dict: 100%|██████████| 15/15 [00:00<00:00, 16719.26it/s]\n",
      "constructing single cells from json dict: 100%|██████████| 14/14 [00:00<00:00, 17670.86it/s]\n",
      "constructing single cells from json dict: 100%|██████████| 15/15 [00:00<00:00, 17642.89it/s]\n",
      "constructing single cells from json dict: 100%|██████████| 14/14 [00:00<00:00, 17025.30it/s]\n"
     ]
    },
    {
     "name": "stdout",
     "output_type": "stream",
     "text": [
      "Loaded 15 annotated samples from ../datasets/mitosis-annotations-2023/Gaohan_tifs_CFP_A549-VIM_lessThan24hr_NoTreat_NA_YL_Ti2e_2022-10-19/XY13/annotations/mitosis\n",
      "Loaded 0 annotated samples from ../datasets/mitosis-annotations-2023/Gaohan_tifs_CFP_A549-VIM_lessThan24hr_NoTreat_NA_YL_Ti2e_2022-10-19/XY13/annotations/apoptosis\n",
      "Loaded 0 annotated samples from ../datasets/mitosis-annotations-2023/Gaohan_tifs_CFP_A549-VIM_lessThan24hr_NoTreat_NA_YL_Ti2e_2022-10-19/XY13/annotations/normal\n"
     ]
    },
    {
     "name": "stderr",
     "output_type": "stream",
     "text": [
      "constructing single cells from json dict: 100%|██████████| 7/7 [00:00<00:00, 9888.89it/s]\n",
      "constructing single cells from json dict: 100%|██████████| 7/7 [00:00<00:00, 13327.34it/s]\n",
      "constructing single cells from json dict: 100%|██████████| 7/7 [00:00<00:00, 11669.37it/s]\n",
      "constructing single cells from json dict: 100%|██████████| 7/7 [00:00<00:00, 13668.59it/s]\n",
      "constructing single cells from json dict: 100%|██████████| 7/7 [00:00<00:00, 13719.69it/s]\n"
     ]
    },
    {
     "name": "stdout",
     "output_type": "stream",
     "text": [
      "Loaded 0 annotated samples from ../datasets/mitosis-annotations-2023/shiman_CXA_normal/0.25^4/mitosis\n",
      "Loaded 0 annotated samples from ../datasets/mitosis-annotations-2023/shiman_CXA_normal/0.25^4/apoptosis\n",
      "Loaded 5 annotated samples from ../datasets/mitosis-annotations-2023/shiman_CXA_normal/0.25^4/normal\n"
     ]
    },
    {
     "name": "stderr",
     "output_type": "stream",
     "text": [
      "constructing single cells from json dict: 100%|██████████| 7/7 [00:00<00:00, 9513.98it/s]\n",
      "constructing single cells from json dict: 100%|██████████| 7/7 [00:00<00:00, 12042.71it/s]\n",
      "constructing single cells from json dict: 100%|██████████| 7/7 [00:00<00:00, 12346.56it/s]\n",
      "constructing single cells from json dict: 100%|██████████| 7/7 [00:00<00:00, 12638.88it/s]\n",
      "constructing single cells from json dict: 100%|██████████| 7/7 [00:00<00:00, 12430.20it/s]\n",
      "constructing single cells from json dict: 100%|██████████| 7/7 [00:00<00:00, 11627.77it/s]\n",
      "constructing single cells from json dict: 100%|██████████| 7/7 [00:00<00:00, 13455.60it/s]\n",
      "constructing single cells from json dict: 100%|██████████| 7/7 [00:00<00:00, 12793.08it/s]\n",
      "constructing single cells from json dict: 100%|██████████| 7/7 [00:00<00:00, 11939.86it/s]\n",
      "constructing single cells from json dict: 100%|██████████| 7/7 [00:00<00:00, 11058.43it/s]\n",
      "constructing single cells from json dict: 100%|██████████| 7/7 [00:00<00:00, 12325.83it/s]\n"
     ]
    },
    {
     "name": "stdout",
     "output_type": "stream",
     "text": [
      "Loaded 0 annotated samples from ../datasets/mitosis-annotations-2023/shiman_CXA_normal/C0.5^4/mitosis\n",
      "Loaded 0 annotated samples from ../datasets/mitosis-annotations-2023/shiman_CXA_normal/C0.5^4/apoptosis\n",
      "Loaded 11 annotated samples from ../datasets/mitosis-annotations-2023/shiman_CXA_normal/C0.5^4/normal\n"
     ]
    },
    {
     "name": "stderr",
     "output_type": "stream",
     "text": [
      "constructing single cells from json dict: 100%|██████████| 7/7 [00:00<00:00, 9209.58it/s]\n",
      "constructing single cells from json dict: 100%|██████████| 7/7 [00:00<00:00, 11577.34it/s]\n",
      "constructing single cells from json dict: 100%|██████████| 7/7 [00:00<00:00, 10988.07it/s]\n",
      "constructing single cells from json dict: 100%|██████████| 7/7 [00:00<00:00, 11468.80it/s]\n",
      "constructing single cells from json dict: 100%|██████████| 7/7 [00:00<00:00, 13273.11it/s]"
     ]
    },
    {
     "name": "stdout",
     "output_type": "stream",
     "text": [
      "Loaded 0 annotated samples from ../datasets/mitosis-annotations-2023/shiman_CXA_normal/C10^3/mitosis\n",
      "Loaded 0 annotated samples from ../datasets/mitosis-annotations-2023/shiman_CXA_normal/C10^3/apoptosis\n",
      "Loaded 5 annotated samples from ../datasets/mitosis-annotations-2023/shiman_CXA_normal/C10^3/normal\n"
     ]
    },
    {
     "name": "stderr",
     "output_type": "stream",
     "text": [
      "\n"
     ]
    }
   ],
   "source": [
    "from livecellx.track.classify_utils import load_class2samples_from_json_dir, load_all_json_dirs\n",
    "# sample_json_dir = Path(\"./EBSS_starvation_24h_xy16_annotation\")\n",
    "\n",
    "sample_json_dirs_v0 = [Path(r\"./datasets/test_scs_EBSS_starvation/XY1/annotations\"), Path(r\"./datasets/test_scs_EBSS_starvation/XY16/annotations\")]\n",
    "\n",
    "round1_json_dirs = sample_json_dirs_v0 + [\n",
    "    Path(r\"../datasets/mitosis-annotations-2023/shiman_XY01/XY01\"),\n",
    "Path(r\"../datasets/mitosis-annotations-2023/shiman_XY09/XY09\"),\n",
    "Path(r\"../datasets/mitosis-annotations-2023/shiman_XY10/XY10\"),\n",
    "Path(r\"../datasets/mitosis-annotations-2023/Yajushi/tifs_CFP_A549-VIM_lessThan24hr_NoTreat_NA_YL_Ti2e_2022-10-19/XY1/annotations\"),\n",
    "]\n",
    "\n",
    "round2_json_dirs = [\n",
    "    Path(r\"../datasets/mitosis-annotations-2023/shiman_CXA_high_density/C0.5^4/\"),\n",
    "    Path(r\"../datasets/mitosis-annotations-2023/shiman_CXA_high_density/C0.75^4/\"),\n",
    "    Path(r\"../datasets/mitosis-annotations-2023/shiman_CXA_high_density/C10^3/\"),\n",
    "    Path(r\"../datasets/mitosis-annotations-2023/shiman_CXA_high_density/C10^4/\"),\n",
    "\n",
    "] + [\n",
    "    Path(f\"../datasets/mitosis-annotations-2023/Gaohan_tifs_CFP_A549-VIM_lessThan24hr_NoTreat_NA_YL_Ti2e_2022-10-19/XY{pos}/annotations\") for pos in range(4, 14)\n",
    "]\n",
    "\n",
    "round3_json_dirs = [\n",
    "    Path(r\"../datasets/mitosis-annotations-2023/shiman_CXA_normal/0.25^4/\"),\n",
    "    Path(r\"../datasets/mitosis-annotations-2023/shiman_CXA_normal/C0.5^4/\"),\n",
    "    Path(r\"../datasets/mitosis-annotations-2023/shiman_CXA_normal/C10^3/\")\n",
    "]\n",
    "\n",
    "sample_json_dirs = sample_json_dirs_v0 + round1_json_dirs + round2_json_dirs + round3_json_dirs\n",
    "for sample_dir in sample_json_dirs:\n",
    "    assert sample_dir.exists(), f\"{sample_dir} does not exist\"\n",
    "all_class2samples, all_class2sample_extra_info = load_all_json_dirs(sample_json_dirs)\n",
    "           "
   ]
  },
  {
   "cell_type": "code",
   "execution_count": 4,
   "metadata": {},
   "outputs": [
    {
     "data": {
      "text/plain": [
       "(331, 21)"
      ]
     },
     "execution_count": 4,
     "metadata": {},
     "output_type": "execute_result"
    }
   ],
   "source": [
    "len(all_class2samples[\"mitosis\"]), len(all_class2samples[\"normal\"])"
   ]
  },
  {
   "cell_type": "code",
   "execution_count": 5,
   "metadata": {},
   "outputs": [],
   "source": [
    "all_scs = []\n",
    "for cls, class_samples in all_class2samples.items():\n",
    "    for sample in class_samples:\n",
    "        all_scs.extend(sample)\n",
    "\n",
    "# Remove duplicates\n",
    "all_scs = list(set(all_scs))"
   ]
  },
  {
   "cell_type": "code",
   "execution_count": 6,
   "metadata": {},
   "outputs": [
    {
     "name": "stdout",
     "output_type": "stream",
     "text": [
      "#scs: 5105\n"
     ]
    }
   ],
   "source": [
    "print(\"#scs:\", len(all_scs))"
   ]
  },
  {
   "cell_type": "markdown",
   "metadata": {},
   "source": [
    "## Generate normal cases"
   ]
  },
  {
   "cell_type": "markdown",
   "metadata": {},
   "source": [
    "Split traintest sets"
   ]
  },
  {
   "cell_type": "code",
   "execution_count": 7,
   "metadata": {},
   "outputs": [],
   "source": [
    "# Split all_scs into train and test cases:\n",
    "from sklearn.model_selection import train_test_split\n",
    "train_scs, test_scs = train_test_split(all_scs, test_size=0.2, random_state=42)"
   ]
  },
  {
   "cell_type": "markdown",
   "metadata": {},
   "source": [
    "normal cases: input mask -> correct mask\n"
   ]
  },
  {
   "cell_type": "code",
   "execution_count": 14,
   "metadata": {},
   "outputs": [],
   "source": [
    "\n",
    "import importlib\n",
    "import livecellx\n",
    "import livecellx.segment.ou_utils\n",
    "importlib.reload(livecellx.segment.ou_utils)\n",
    "\n",
    "def gen_csn_correct_case(scs, out_dir, filename_pattern=\"img-%d_scId-%s.tif\"):\n",
    "    out_subdir = out_dir / \"correct_cases\"\n",
    "    raw_out_dir = out_subdir / \"raw\"\n",
    "    seg_out_dir = out_subdir / \"seg\"\n",
    "    gt_out_dir = out_subdir / \"gt\"\n",
    "    gt_label_out_dir = out_subdir / \"gt_label_mask\"\n",
    "    augmented_seg_dir = out_subdir / \"augmented_seg\"\n",
    "    raw_transformed_img_dir = out_subdir / \"raw_transformed_img\"\n",
    "    augmented_diff_seg_dir = out_subdir / \"augmented_diff_seg\"\n",
    "\n",
    "    os.makedirs(raw_out_dir, exist_ok=True)\n",
    "    os.makedirs(seg_out_dir, exist_ok=True)\n",
    "    os.makedirs(gt_out_dir, exist_ok=True)\n",
    "    os.makedirs(augmented_seg_dir, exist_ok=True)\n",
    "    os.makedirs(gt_label_out_dir, exist_ok=True)\n",
    "    os.makedirs(raw_transformed_img_dir, exist_ok=True)\n",
    "    os.makedirs(augmented_diff_seg_dir, exist_ok=True)\n",
    "\n",
    "    scale_factors = [0] # We \n",
    "    train_path_tuples = []\n",
    "    augmented_data = []\n",
    "\n",
    "    for sc in tqdm(scs):\n",
    "        img_id = sc.timeframe\n",
    "        seg_label = sc.id\n",
    "        # (img_crop, seg_crop, combined_gt_label_mask) = underseg_overlay_gt_masks(seg_label, scs, padding_scale=2)\n",
    "        img_crop = sc.get_img_crop()\n",
    "        seg_crop = sc.get_contour_mask()\n",
    "        # Only 1 gt mask for mask cases, seg_crop is sufficient\n",
    "        combined_gt_label_mask = seg_crop\n",
    "\n",
    "        filename = (filename_pattern % (img_id, seg_label))\n",
    "        raw_img_path = raw_out_dir / filename\n",
    "        seg_img_path = seg_out_dir / filename\n",
    "        gt_img_path = gt_out_dir / filename\n",
    "        gt_label_img_path = gt_label_out_dir / filename\n",
    "\n",
    "        # call csn augment helper\n",
    "        livecellx.segment.ou_utils.csn_augment_helper(img_crop=img_crop, \n",
    "            seg_label_crop=seg_crop, \n",
    "            combined_gt_label_mask=combined_gt_label_mask,\n",
    "            scale_factors=scale_factors,\n",
    "            train_path_tuples=train_path_tuples,\n",
    "            augmented_data=augmented_data,\n",
    "            img_id=img_id,\n",
    "            seg_label=seg_label,\n",
    "            gt_label=None,\n",
    "            raw_img_path=raw_img_path,\n",
    "            seg_img_path=seg_img_path,\n",
    "            gt_img_path=gt_img_path,\n",
    "            gt_label_img_path=gt_label_img_path,\n",
    "            augmented_seg_dir=augmented_seg_dir,\n",
    "            augmented_diff_seg_dir=augmented_diff_seg_dir,\n",
    "            raw_transformed_img_dir=raw_transformed_img_dir,\n",
    "            df_save_path=None,\n",
    "            filename_pattern=\"img-%d_scId-%s.tif\"\n",
    "        )\n",
    "\n",
    "\n",
    "    pd.DataFrame(\n",
    "        train_path_tuples,\n",
    "        columns=[\"raw\", \"seg\", \"gt\", \"raw_seg\", \"scale\", \"aug_diff_mask\", \"gt_label_mask\", \"raw_transformed_img\"],\n",
    "    ).to_csv(out_subdir / \"data.csv\", index=False)"
   ]
  },
  {
   "cell_type": "code",
   "execution_count": 13,
   "metadata": {},
   "outputs": [
    {
     "data": {
      "text/plain": [
       "1021"
      ]
     },
     "execution_count": 13,
     "metadata": {},
     "output_type": "execute_result"
    }
   ],
   "source": [
    "len(test_scs)"
   ]
  },
  {
   "cell_type": "code",
   "execution_count": 15,
   "metadata": {},
   "outputs": [
    {
     "name": "stderr",
     "output_type": "stream",
     "text": [
      "100%|██████████| 4084/4084 [01:48<00:00, 37.59it/s]\n",
      "100%|██████████| 1021/1021 [00:26<00:00, 38.76it/s]\n"
     ]
    }
   ],
   "source": [
    "train_out_dir = Path(\"./notebook_results/a549_ccp_vim/train_correct_from_lca/\")\n",
    "test_out_dir = Path(\"./notebook_results/a549_ccp_vim/test_correct_from_lca/\")\n",
    "gen_csn_correct_case(train_scs, train_out_dir, filename_pattern=\"img-%d_scId-%s.tif\")\n",
    "gen_csn_correct_case(test_scs, test_out_dir, filename_pattern=\"img-%d_scId-%s.tif\")\n"
   ]
  },
  {
   "cell_type": "code",
   "execution_count": 16,
   "metadata": {},
   "outputs": [],
   "source": [
    "for sc in all_scs:\n",
    "    dims = sc.get_img_crop().shape\n",
    "    if dims[0] < 2 or dims[1] < 2:\n",
    "        print(sc.id)"
   ]
  },
  {
   "cell_type": "code",
   "execution_count": null,
   "metadata": {},
   "outputs": [],
   "source": [
    "# visualize augmented data on one row\n",
    "for aug_data in augmented_data:\n",
    "    img_id = aug_data[\"img_id\"]\n",
    "    seg_label = aug_data[\"seg_label\"]\n",
    "    img_crop = aug_data[\"img_crop\"]\n",
    "    seg_crop = aug_data[\"seg_crop\"]\n",
    "    combined_gt_label_mask = aug_data[\"combined_gt_label_mask\"]\n",
    "    aug_seg_crop = aug_data[\"aug_seg_crop\"]\n",
    "    aug_diff_mask = aug_data[\"aug_diff_mask\"]\n",
    "    combined_gt_label_mask = aug_data[\"combined_gt_label_mask\"]\n",
    "    raw_transformed_img_crop = aug_data[\"raw_transformed_img_crop\"]\n",
    "    \n",
    "    fig, ax = plt.subplots(2, 4, figsize=(20, 10))\n",
    "    ax[0, 0].imshow(img_crop)\n",
    "    ax[0, 0].set_title(\"raw\")\n",
    "    ax[0, 1].imshow(seg_crop)\n",
    "    ax[0, 1].set_title(\"seg\")\n",
    "    ax[0, 2].imshow(combined_gt_label_mask)\n",
    "    ax[0, 2].set_title(\"gt_label\")\n",
    "    ax[0, 3].imshow(aug_seg_crop)\n",
    "    ax[0, 3].set_title(\"aug_seg\")\n",
    "    ax[1, 0].imshow(aug_diff_mask)\n",
    "    ax[1, 0].set_title(\"aug_diff_mask\")\n",
    "    ax[1, 1].imshow(raw_transformed_img_crop)\n",
    "    ax[1, 1].set_title(\"raw_transformed_img\")\n",
    "\n",
    "    # show distribution of raw transformed image\n",
    "    ax[1, 2].hist(raw_transformed_img_crop.flatten(), bins=100)\n",
    "    ax[1, 2].set_title(\"raw_transformed_img hist\")\n",
    "    plt.show()\n",
    "    break"
   ]
  },
  {
   "attachments": {},
   "cell_type": "markdown",
   "metadata": {},
   "source": [
    "## Generate oversegmentation cases"
   ]
  },
  {
   "cell_type": "code",
   "execution_count": null,
   "metadata": {},
   "outputs": [],
   "source": [
    "class BackgroundSimulator:\n",
    "    pass\n",
    "\n",
    "class OverSegSimulator:\n",
    "    pass\n",
    "\n",
    "class UnderSegSimulator:\n",
    "    pass\n"
   ]
  },
  {
   "cell_type": "code",
   "execution_count": null,
   "metadata": {},
   "outputs": [],
   "source": [
    "a = np.array([[1, 2], [3, 4]])\n",
    "a[(1,1), (0,0)]"
   ]
  },
  {
   "cell_type": "code",
   "execution_count": null,
   "metadata": {},
   "outputs": [],
   "source": [
    "from copy import deepcopy\n",
    "import random\n",
    "from livecellx.segment.overseg_synthesis import divide_single_cell_brute_force,  gen_synthetic_overseg\n",
    "from livecellx.trajectory.contour_utils import get_cellTool_contour_points, viz_contours\n",
    "\n",
    "\n",
    "sampled_sc = single_cells[0]\n",
    "# contour_points = sampled_sc.contour\n",
    "# sampled_contour_points = contour_points[::3]\n",
    "sc_img_path_substr = os.path.basename(sampled_sc.meta[\"path\"]).split(\".\")[0]\n",
    "seg_mask = seg_data.get_img_by_url(sc_img_path_substr, exact_match=False)\n",
    "seg_crop = sampled_sc.gen_skimage_bbox_img_crop(sampled_sc.bbox, seg_mask)\n",
    "\n",
    "sampled_sc.show_contour_mask()\n",
    "plt.show()\n",
    "# plt.imshow(seg_crop[:10, :])\n",
    "# plt.show()\n",
    "\n",
    "# print(\"contour points:\", sampled_sc.get_contour_coords_on_img_crop())\n",
    "\n",
    "# two test cases\n",
    "sampled_points = [[ 85., 66.], [ 73., 0]]\n",
    "# sampled_points = [[ 3., 50.], [ 3., 96.0]]\n",
    "# sample_points = [[ 37., 120.], [54., 12.]]\n",
    "\n",
    "contour_img = sampled_sc.get_contour_img()\n",
    "divide_single_cell_brute_force(sampled_sc, seg_crop=contour_img, sampled_points=sampled_points)\n",
    "# divide_single_cell_brute_force(sampled_sc, seg_crop=contour_img, sampled_points=None)\n",
    "# get_line_pixels([1, 5], [10, 10])\n",
    "# plt.imshow(seg_crop)\n",
    "plt.imshow(contour_img)"
   ]
  },
  {
   "attachments": {},
   "cell_type": "markdown",
   "metadata": {},
   "source": [
    "Qualitatively generate and test bf more thoroughly..."
   ]
  },
  {
   "cell_type": "code",
   "execution_count": null,
   "metadata": {},
   "outputs": [],
   "source": [
    "def test_divide_bf(sc):\n",
    "    contour_img = sc.get_contour_img()\n",
    "    divide_single_cell_brute_force(sc, seg_crop=contour_img, sampled_points=None)\n",
    "    plt.imshow(contour_img)\n",
    "    plt.show()\n",
    "\n",
    "for i in range(3):\n",
    "    test_divide_bf(sampled_sc)"
   ]
  },
  {
   "cell_type": "code",
   "execution_count": null,
   "metadata": {},
   "outputs": [],
   "source": [
    "from scipy import ndimage\n",
    "from skimage.segmentation import watershed\n",
    "from skimage.feature import peak_local_max\n",
    "from scipy import ndimage as ndi\n",
    "from skimage.morphology import local_maxima, h_maxima\n",
    "from skimage.measure import regionprops, label\n",
    "import scipy.stats\n",
    "import livecellx\n",
    "from livecellx\n",
    "from livecellx.segment.overseg_synthesis import divide_single_cell_watershed\n",
    "from livecellx.segment.ou_utils import dilate_or_erode_label_mask\n",
    "\n",
    "raw_crop = sampled_sc.get_contour_img()\n",
    "# new_img, label_mask = divide_single_cell_watershed(sampled_sc, peak_distance=20, num_gauss_areas=4, marker_method=\"local\", gauss_center_val=150)\n",
    "\n",
    "new_raw_crop, label_mask, edt_distance, markers = divide_single_cell_watershed(sampled_sc, num_gauss_areas=3, marker_method=\"hmax\", edt_gauss_center_val=10, gauss_std=16, h_threshold=1, return_all=True)\n",
    "\n",
    "\n",
    "\n",
    "# import importlib\n",
    "# importlib.reload(livecellx.preprocess.utils)\n",
    "# importlib.reload(livecellx.segment.ou_utils)\n",
    "\n",
    "\n",
    "eroded_label_mask = livecellx.segment.ou_utils.dilate_or_erode_label_mask(label_mask, scale_factor=-0.1, bg_val=0)\n",
    "\n",
    "fig, axes = plt.subplots(1, 6, figsize=(60, 10))\n",
    "ax = axes[0]\n",
    "ax.imshow(raw_crop)\n",
    "ax.set_title(\"raw_img\")\n",
    "ax = axes[1]\n",
    "ax.imshow(new_raw_crop)\n",
    "ax.set_title(\"new_img\")\n",
    "ax = axes[2]\n",
    "ax.imshow(label_mask)\n",
    "ax.set_title(\"label_mask\")\n",
    "ax = axes[3]\n",
    "ax.imshow(edt_distance)\n",
    "ax.set_title(\"edt_distance\")\n",
    "ax = axes[4]\n",
    "ax.imshow(markers)\n",
    "ax.set_title(\"markers\")\n",
    "ax = axes[5]\n",
    "ax.imshow(eroded_label_mask)\n",
    "ax.set_title(\"eroded_label_mask\")\n",
    "plt.show()"
   ]
  },
  {
   "attachments": {},
   "cell_type": "markdown",
   "metadata": {},
   "source": [
    "### Generate synthetic data by watershed"
   ]
  },
  {
   "cell_type": "code",
   "execution_count": null,
   "metadata": {},
   "outputs": [],
   "source": [
    "overseg_uns_key = \"overseg_imgs\"\n",
    "num_gauss_areas = np.arange(3, 6)\n",
    "num_samples = 5\n",
    "\n",
    "def process_sc_synthetic_overseg_crops(sc):\n",
    "    sc.uns[overseg_uns_key] = []\n",
    "    for num_gauss_area in num_gauss_areas:\n",
    "        label_masks_and_params_hmax = gen_synthetic_overseg(sc, num_samples=num_samples, peak_distance=10, num_gauss_areas=num_gauss_area, marker_method=\"hmax\", edt_gauss_center_val=10, gauss_std=16, h_threshold=1)\n",
    "        label_masks_and_params_local = gen_synthetic_overseg(sc, num_samples=num_samples, peak_distance=10, num_gauss_areas=num_gauss_area, edt_gauss_center_val=10, gauss_std=16, marker_method=\"local\",  gauss_center_val=150)\n",
    "        sc.uns[overseg_uns_key].extend(label_masks_and_params_hmax)\n",
    "        sc.uns[overseg_uns_key].extend(label_masks_and_params_local)\n",
    "    return sc\n",
    "\n",
    "from multiprocessing import Pool\n",
    "pool = Pool()\n",
    "res_single_cells = []\n",
    "for res_sc in tqdm(pool.imap_unordered(process_sc_synthetic_overseg_crops, single_cells, chunksize=1), total=len(single_cells)):\n",
    "    res_single_cells.append(res_sc)\n",
    "# pool.map(process_sc_synthetic_overseg_crops, single_cells)\n",
    "pool.close()\n",
    "pool.join()"
   ]
  },
  {
   "cell_type": "code",
   "execution_count": null,
   "metadata": {},
   "outputs": [],
   "source": [
    "single_cells = res_single_cells"
   ]
  },
  {
   "cell_type": "code",
   "execution_count": null,
   "metadata": {},
   "outputs": [],
   "source": [
    "for i in range(5):\n",
    "    sc = res_single_cells[i]\n",
    "\n",
    "    # somehow failed to generate synthetic data meeting our criterion\n",
    "    if len(sc.uns[overseg_uns_key]) == 0:\n",
    "        continue\n",
    "    for j in range(len(sc.uns[overseg_uns_key])):\n",
    "        label_mask, eroded_label_mask, params = sc.uns[overseg_uns_key][j]\n",
    "        print(params)\n",
    "        fig, axes = plt.subplots(1, 2, figsize=(5, 2))\n",
    "        ax = axes[0]\n",
    "        ax.imshow(label_mask)\n",
    "        ax.set_title(\"label_mask\")\n",
    "        ax = axes[1]\n",
    "        ax.imshow(eroded_label_mask)\n",
    "        ax.set_title(\"eroded_label_mask\")\n",
    "        plt.show()"
   ]
  },
  {
   "attachments": {},
   "cell_type": "markdown",
   "metadata": {},
   "source": [
    "Remove overseg out directory contents if necessary\n",
    "```# !rm -r $overseg_out_dir```"
   ]
  },
  {
   "cell_type": "code",
   "execution_count": null,
   "metadata": {},
   "outputs": [],
   "source": [
    "len(single_cells)\n",
    "np.sum([len(sc.uns[overseg_uns_key]) for sc in single_cells])"
   ]
  },
  {
   "cell_type": "code",
   "execution_count": null,
   "metadata": {},
   "outputs": [],
   "source": [
    "from livecellx.segment.ou_utils import csn_augment_helper\n",
    "subdir = Path(\"synthetic_overseg\")\n",
    "overseg_out_dir = out_dir / subdir\n",
    "raw_out_dir = overseg_out_dir / \"raw\"\n",
    "\n",
    "# seg_out_dir is the directory containing all raw segmentation masks for training\n",
    "# e.g. the eroded raw segmentation masks\n",
    "seg_out_dir = overseg_out_dir / \"seg\"\n",
    "\n",
    "# raw_seg_dir is the directory containing all raw segmentation masks for recording purposes\n",
    "raw_seg_dir = overseg_out_dir / \"raw_seg_crop\"\n",
    "gt_out_dir = overseg_out_dir / \"gt\"\n",
    "gt_label_out_dir = overseg_out_dir / \"gt_label_mask\"\n",
    "augmented_seg_dir = overseg_out_dir / \"augmented_seg\"\n",
    "raw_transformed_img_dir = overseg_out_dir / \"raw_transformed_img\"\n",
    "augmented_diff_seg_dir = overseg_out_dir / \"augmented_diff_seg\"\n",
    "meta_path = overseg_out_dir / \"metadata.csv\"\n",
    "syn_overseg_df_save_path = overseg_out_dir / \"data.csv\"\n",
    "\n",
    "os.makedirs(raw_out_dir, exist_ok=True)\n",
    "os.makedirs(seg_out_dir, exist_ok=True)\n",
    "os.makedirs(raw_seg_dir, exist_ok=True)\n",
    "os.makedirs(gt_out_dir, exist_ok=True)\n",
    "os.makedirs(augmented_seg_dir, exist_ok=True)\n",
    "os.makedirs(gt_label_out_dir, exist_ok=True)\n",
    "os.makedirs(raw_transformed_img_dir, exist_ok=True)\n",
    "os.makedirs(augmented_diff_seg_dir, exist_ok=True)\n",
    "\n",
    "\n",
    "overseg_train_path_tuples = []\n",
    "augmented_overseg_data = []\n",
    "filename_pattern = \"img-%d_syn-%d.tif\"\n",
    "overseg_metadata = []\n",
    "overseg_erosion_scale_factors = np.linspace(-0.1, 0, 10)\n",
    "all_df = None\n",
    "for sc in tqdm(single_cells):\n",
    "    img_id = sc.timeframe\n",
    "    for syn_id, overseg_datarow in enumerate(sc.uns[overseg_uns_key]):\n",
    "        params = overseg_datarow[1]\n",
    "        img_crop = sc.get_contour_img()\n",
    "        raw_seg_crop = overseg_datarow[0]\n",
    "        eroded_seg_crop = overseg_datarow[1]\n",
    "\n",
    "        combined_gt_label_mask = sc.get_contour_mask()\n",
    "        assert img_crop.shape == raw_seg_crop.shape == combined_gt_label_mask.shape\n",
    "        raw_img_path = raw_out_dir / (filename_pattern % (img_id, syn_id))\n",
    "        seg_img_path = seg_out_dir / (filename_pattern % (img_id, syn_id))\n",
    "        raw_seg_img_path = raw_seg_dir / (filename_pattern % (img_id, syn_id))\n",
    "        gt_img_path = gt_out_dir / (filename_pattern % (img_id, syn_id))\n",
    "        gt_label_img_path = gt_label_out_dir / (filename_pattern % (img_id, syn_id))\n",
    "\n",
    "        # metadata is a dict, containing params used to genereate our synthetic overseg data\n",
    "        meta_info = overseg_datarow[2]\n",
    "        meta_info[\"raw_img_path\"] = raw_img_path\n",
    "        meta_info[\"seg_img_path\"] = seg_img_path\n",
    "        meta_info[\"gt_img_path\"] = gt_img_path\n",
    "        \n",
    "        overseg_metadata.append(meta_info)\n",
    "\n",
    "        # call csn augment helper\n",
    "        res_dict = csn_augment_helper(img_crop=img_crop, \n",
    "            seg_label_crop=eroded_seg_crop, \n",
    "            combined_gt_label_mask=combined_gt_label_mask,\n",
    "            overseg_raw_seg_crop=raw_seg_crop,\n",
    "            overseg_raw_seg_img_path=raw_seg_img_path,\n",
    "            scale_factors=overseg_erosion_scale_factors,\n",
    "            train_path_tuples=overseg_train_path_tuples,\n",
    "            augmented_data=augmented_overseg_data,\n",
    "            img_id=img_id,\n",
    "            seg_label=syn_id,\n",
    "            gt_label=sc.timeframe,\n",
    "            raw_img_path=raw_img_path,\n",
    "            seg_img_path=seg_img_path,\n",
    "            gt_img_path=gt_img_path,\n",
    "            gt_label_img_path=gt_label_img_path,\n",
    "            augmented_seg_dir=augmented_seg_dir,\n",
    "            augmented_diff_seg_dir=augmented_diff_seg_dir,\n",
    "            filename_pattern=filename_pattern,\n",
    "            raw_transformed_img_dir=raw_transformed_img_dir,\n",
    "            # df_save_path=syn_overseg_df_save_path,\n",
    "        )\n",
    "        all_df = res_dict[\"df\"]\n",
    "\n",
    "all_df.to_csv(syn_overseg_df_save_path, index=False)\n"
   ]
  },
  {
   "cell_type": "code",
   "execution_count": null,
   "metadata": {},
   "outputs": [],
   "source": [
    "pd.DataFrame(\n",
    "    overseg_train_path_tuples,\n",
    "    columns=[\"raw\", \"seg\", \"gt\", \"raw_seg\", \"scale\", \"aug_diff_mask\", \"gt_label_mask\", \"raw_transformed_img\"],\n",
    ").to_csv(overseg_out_dir / \"data.csv\", index=False)\n",
    "\n",
    "pd.DataFrame(\n",
    "    overseg_metadata,\n",
    ").to_csv(meta_path, index=False)\n"
   ]
  },
  {
   "attachments": {},
   "cell_type": "markdown",
   "metadata": {},
   "source": [
    "## Generate Synthetic Undersegmentation data"
   ]
  },
  {
   "cell_type": "code",
   "execution_count": null,
   "metadata": {},
   "outputs": [],
   "source": [
    "def combine_sc(sc1, sc2):\n",
    "    pass\n",
    "sc1 = single_cells[0]\n",
    "sc2 = single_cells[1]\n",
    "sc2.show(padding=10)\n",
    "plt.show()\n",
    "sc2.show_contour_img()"
   ]
  },
  {
   "cell_type": "code",
   "execution_count": null,
   "metadata": {},
   "outputs": [],
   "source": [
    "def generate_underseg_cases(scs):\n",
    "    pass\n",
    "\n"
   ]
  },
  {
   "attachments": {},
   "cell_type": "markdown",
   "metadata": {},
   "source": [
    "## Combine data.csv files generated in each subfolder"
   ]
  },
  {
   "cell_type": "code",
   "execution_count": null,
   "metadata": {},
   "outputs": [],
   "source": [
    "dataframes = []\n",
    "for subdir in out_dir.iterdir():\n",
    "    if subdir.is_dir():\n",
    "        data_path = subdir / \"data.csv\"\n",
    "        dataframe = pd.read_csv(data_path)\n",
    "        dataframe[\"subdir\"] = subdir.name\n",
    "        dataframes.append(dataframe)\n",
    "combined_dataframe = pd.concat(dataframes)\n",
    "combined_dataframe.to_csv(out_dir / \"train_data.csv\", index=False)"
   ]
  },
  {
   "cell_type": "code",
   "execution_count": null,
   "metadata": {},
   "outputs": [],
   "source": [
    "len(combined_dataframe)"
   ]
  },
  {
   "cell_type": "code",
   "execution_count": null,
   "metadata": {},
   "outputs": [],
   "source": [
    "combined_dataframe[:2]"
   ]
  },
  {
   "cell_type": "code",
   "execution_count": null,
   "metadata": {},
   "outputs": [],
   "source": [
    "def match_overseg_mask_labels(mask: np.array, sc: SingleCellStatic, io_seg_threshold=0.6):\n",
    "    \"\"\"match a single cell's label in a mask. sc must contain its contour information.\n",
    "\n",
    "    Parameters\n",
    "    ----------\n",
    "    mask : np.array\n",
    "        _description_\n",
    "    sc : \n",
    "        _description_\n",
    "\n",
    "    Returns\n",
    "    -------\n",
    "    a dict with keys \"seg_label\" and \"iou\"\n",
    "    \"\"\"    \n",
    "    cropped_seg_mask = SingleCellStatic.gen_skimage_bbox_img_crop(sc.bbox, seg_mask)\n",
    "\n",
    "    # Note the order of the arguments are reversed compared with underseg case\n",
    "    # because match_mask_labels_by_iou is designed to match one seg mask to several gt masks (select gt sc's best matching seg label)\n",
    "    # and in the oversegmentation case, we need to match one gt mask to several seg masks\n",
    "    _, seg2gt_info = match_mask_labels_by_iou(seg_mask=sc.get_contour_mask(), gt_mask=cropped_seg_mask, return_all=True)\n",
    "    matched_seg_labels = []\n",
    "    for info in seg2gt_info:\n",
    "        seg_label = info[\"seg_label\"]\n",
    "        iou = info[\"iou\"]\n",
    "        # Not the code below is not a bug: remember we reverse the order of the arguments\n",
    "        io_gt = info[\"io_seg\"]\n",
    "        io_seg = info[\"io_gt\"]\n",
    "        if io_seg > io_seg_threshold:\n",
    "            matched_seg_labels.append(seg_label)\n",
    "    return matched_seg_labels\n",
    "\n",
    "for sc in tqdm(single_cells):\n",
    "    sc_img_path_substr = os.path.basename(sc.meta[\"path\"]).split(\".\")[0]\n",
    "    seg_mask = seg_data.get_img_by_url(sc_img_path_substr, substr=True)\n",
    "    sc.meta[\"overseg_labels\"] = match_seg_mask_label(seg_mask, sc)[\"seg_label\"]\n",
    "    sc.mask_dataset = seg_data"
   ]
  },
  {
   "attachments": {},
   "cell_type": "markdown",
   "metadata": {},
   "source": [
    "## TODO Below: adapt to new code (for real data's oversegmentation case); Skip for now because there is no oversegmentation case in our dataset"
   ]
  },
  {
   "cell_type": "code",
   "execution_count": null,
   "metadata": {},
   "outputs": [],
   "source": [
    "(img_crop, seg_crop, combined_mask, aug_mask, aug_diff_mask, combined_gt_label_mask, raw_transformed_img_crop) = augmented_data[(1, 14)][0]"
   ]
  },
  {
   "cell_type": "code",
   "execution_count": null,
   "metadata": {},
   "outputs": [],
   "source": [
    "np.unique(combined_mask), np.unique(aug_mask)"
   ]
  },
  {
   "cell_type": "code",
   "execution_count": null,
   "metadata": {},
   "outputs": [],
   "source": [
    "import matplotlib.patches as mpatches\n",
    "\n",
    "mask_tuples = list(augmented_overseg_data.values())[0]\n",
    "nsamples = 10\n",
    "# nsamples = np.sum([len(v) for v in augmented_data.values()])\n",
    "ncol = 7\n",
    "fig, axes = plt.subplots(nsamples, ncol, figsize=(25, 5.5 * nsamples))\n",
    "fig.tight_layout()\n",
    "\n",
    "sample_counter = 0\n",
    "for key, mask_tuples in augmented_overseg_data.items():\n",
    "    for j in range(len(mask_tuples)):\n",
    "        i = sample_counter\n",
    "        axes[i, 0].imshow(mask_tuples[j][0])\n",
    "        axes[i, 0].set_title(\"raw mask\")\n",
    "        axes[i, 1].imshow(mask_tuples[j][1])\n",
    "        axes[i, 1].set_title(\"seg img\")\n",
    "        axes[i, 2].imshow(mask_tuples[j][2])\n",
    "        axes[i, 2].set_title(\"combined mask\")\n",
    "        axes[i, 3].imshow(mask_tuples[j][3])\n",
    "        axes[i, 3].set_title(\"augmented mask\")\n",
    "        im = axes[i, 4].imshow(mask_tuples[j][4])\n",
    "        axes[i, 4].set_title(\"augmented diff mask\")\n",
    "\n",
    "        values = np.unique(mask_tuples[j][4])\n",
    "        colors = [ im.cmap(im.norm(value)) for value in values]\n",
    "        patches = [ mpatches.Patch(color=colors[i], label=\"Level {l}\".format(l=values[i]) ) for i in range(len(values)) ]\n",
    "        axes[i, 4].legend(handles=patches, loc=2, borderaxespad=0. )\n",
    "\n",
    "        axes[i, 5].imshow(mask_tuples[j][5])\n",
    "        axes[i, 5].set_title(\"combined gt label mask\")\n",
    "\n",
    "        axes[i, 6].imshow(mask_tuples[j][6])\n",
    "        axes[i, 6].set_title(\"raw transformed img\")\n",
    "\n",
    "        sample_counter += 1\n",
    "        if sample_counter >= nsamples:\n",
    "            break\n",
    "    if sample_counter >= nsamples:\n",
    "        break"
   ]
  },
  {
   "attachments": {},
   "cell_type": "markdown",
   "metadata": {},
   "source": [
    "Deprecated code for augmenting a single cell for CSN\n",
    "```\n",
    "from pathlib import Path\n",
    "from copy import deepcopy\n",
    "from PIL import Image, ImageSequence\n",
    "\n",
    "img_paths = []\n",
    "augment_dir = Path(\"../datasets/a549_ccnn/augmented_cells\")\n",
    "augmented_cells = []\n",
    "scale_factor = 0.01\n",
    "padding = 100\n",
    "\n",
    "def augment_single_cell_csn(sc: SingleCellStatic, augment_dir: Path, scale_factor=0.01, padding=40, show=False, bg_value=0):\n",
    "    mask = sc.get_mask_crop(padding=padding).astype(np.uint8)\n",
    "    mask_label = sc.meta[\"seg_label\"]\n",
    "    mask[mask!=mask_label] = bg_value\n",
    "\n",
    "    augmented_mask = dilate_or_erode_mask(mask, scale_factor=scale_factor)\n",
    "    augmentation_save_path = augment_dir / f\"{i}_mask.tif\"\n",
    "    save_png(augmented_mask, str(augmentation_save_path))\n",
    "\n",
    "    meta = {}\n",
    "    meta[\"original_path\"] = sc.meta[\"path\"]\n",
    "    meta[\"original_seg_label\"] = sc.meta[\"seg_label\"]\n",
    "    meta[\"path\"] = augmentation_save_path.as_posix()\n",
    "    meta[\"padding\"] = padding\n",
    "    meta[\"scale_factor\"] = scale_factor\n",
    "    meta[\"method\"] = \"dilate/erode\"\n",
    "\n",
    "    new_sc = SingleCellStatic(\n",
    "        img_dataset=sc.img_dataset,\n",
    "        mask_dataset=sc.mask_dataset,\n",
    "        contour = np.array(sc.contour),\n",
    "        meta=meta,\n",
    "    )\n",
    "\n",
    "    if show:\n",
    "        fig, axes = plt.subplots(1, 4, figsize=(10, 10))\n",
    "        # sc.show_mask(ax=axes[0])\n",
    "        sc.show(ax=axes[0])\n",
    "        axes[2].imshow(mask)\n",
    "        sc.show_contour_img(ax=axes[1])\n",
    "        axes[3].imshow(augmented_mask)\n",
    "\n",
    "        axes[0].set_title(\"original image crop\")\n",
    "        axes[2].set_title(\"seg mask\")\n",
    "        axes[1].set_title(\"gt contour mask\")\n",
    "        axes[3].set_title(\"augmented mask\")\n",
    "    return new_sc\n",
    "\n",
    "\n",
    "augmented_single_cells = []\n",
    "for i in tqdm(range(len(single_cells))):\n",
    "    sc = single_cells[i]\n",
    "    augmented_sc = augment_single_cell_csn(sc, augment_dir, scale_factor=scale_factor, padding=padding, show=False)\n",
    "    augmented_single_cells.append(augmented_sc)\n",
    "```\n"
   ]
  },
  {
   "cell_type": "markdown",
   "metadata": {},
   "source": [
    "Undersegmentation case:\n",
    "    overlay all the ground truth masks on the original image, and then use the result as the ground truth mask for the undersegmentation case.\n",
    "    Segmentation mask \n",
    "    gt mask\n",
    "\n",
    "OVERSEGMENTATION CASE:\n",
    "    # future work\n",
    "    Segmentation mask\n",
    "    gt mask\n"
   ]
  },
  {
   "cell_type": "markdown",
   "metadata": {},
   "source": [
    "1. Overlay segmentation mask and gt mask\n",
    "2. Shift the cells in the segmentation mask to the center of the cell\n",
    "3. Synthetic dataset\n",
    "\n",
    "thin_plate_spline?"
   ]
  }
 ],
 "metadata": {
  "kernelspec": {
   "display_name": "livecell",
   "language": "python",
   "name": "python3"
  },
  "language_info": {
   "codemirror_mode": {
    "name": "ipython",
    "version": 3
   },
   "file_extension": ".py",
   "mimetype": "text/x-python",
   "name": "python",
   "nbconvert_exporter": "python",
   "pygments_lexer": "ipython3",
   "version": "3.10.8"
  },
  "orig_nbformat": 4,
  "vscode": {
   "interpreter": {
    "hash": "d9c7226d793827cd27273ad20fbb4775c3cb91053ab9378a09de5f8c6f258919"
   }
  }
 },
 "nbformat": 4,
 "nbformat_minor": 2
}
