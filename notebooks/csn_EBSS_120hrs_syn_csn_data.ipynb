{
 "cells": [
  {
   "cell_type": "code",
   "execution_count": null,
   "metadata": {},
   "outputs": [],
   "source": [
    "# %%\n",
    "import numpy as np\n",
    "import json\n",
    "from livecellx.core import (\n",
    "    SingleCellTrajectory,\n",
    "    SingleCellStatic,\n",
    "    SingleCellTrajectoryCollection,\n",
    "\n",
    ")\n",
    "from livecellx.core.single_cell import get_time2scs\n",
    "from livecellx.core.datasets import LiveCellImageDataset\n",
    "from livecellx.preprocess.utils import (\n",
    "    overlay,\n",
    "    enhance_contrast,\n",
    "    normalize_img_to_uint8,\n",
    ")\n",
    "import matplotlib.pyplot as plt\n",
    "import os\n",
    "from pathlib import Path\n",
    "import pandas as pd\n",
    "from typing import List\n",
    "\n",
    "# %% [markdown]\n",
    "# Loading Mitosis trajectory Single Cells\n",
    "\n",
    "# %%\n",
    "sctc_path = r\"../datasets/DIC-Nikon-gt/tifs_CFP_A549_VIM_120hr_NoTreat_NA_YL_Ti2e_2023-03-22/GH-XY03_traj/traj_XY03.json\"\n",
    "sctc = SingleCellTrajectoryCollection.load_from_json_file(sctc_path)"
   ]
  },
  {
   "cell_type": "code",
   "execution_count": null,
   "metadata": {},
   "outputs": [],
   "source": [
    "out_dir = Path(\"./tmp/EBSS_120hrs_OU_syn\")\n",
    "scs_dir = out_dir/\"livecellx_scs\""
   ]
  },
  {
   "cell_type": "code",
   "execution_count": null,
   "metadata": {},
   "outputs": [],
   "source": [
    "multi_map_path = scs_dir / \"time2multi_maps__id.json\"\n",
    "time2multi_maps__id = json.load(open(multi_map_path))"
   ]
  },
  {
   "cell_type": "code",
   "execution_count": null,
   "metadata": {},
   "outputs": [],
   "source": [
    "# Load all_gt_scs and all_dilated_gt_scs\n",
    "all_gt_scs = SingleCellStatic.load_single_cells_json(scs_dir/\"all_gt_scs.json\")\n",
    "all_dilated_gt_scs = SingleCellStatic.load_single_cells_json(scs_dir/\"all_dilated_gt_scs.json\")\n",
    "\n",
    "\n",
    "# Recontruct scale -> time -> crappy scs\n",
    "\n",
    "all_dilate_scale_to_gt_scs = {}\n",
    "for sc in all_dilated_gt_scs:\n",
    "    scale = sc.meta[\"dilate_scale\"]\n",
    "    time = sc.meta[\"time\"]\n",
    "    if scale not in all_dilate_scale_to_gt_scs:\n",
    "        all_dilate_scale_to_gt_scs[scale] = {}\n",
    "    if time not in all_dilate_scale_to_gt_scs[scale]:\n",
    "        all_dilate_scale_to_gt_scs[scale][time] = []\n",
    "    all_dilate_scale_to_gt_scs[scale][time].append(sc)\n",
    "\n",
    "\n"
   ]
  },
  {
   "cell_type": "code",
   "execution_count": null,
   "metadata": {},
   "outputs": [],
   "source": [
    "all_gt_scs = all_gt_scs + all_dilated_gt_scs\n",
    "\n",
    "id2sc = {\n",
    "    sc.id: sc\n",
    "    for sc in all_gt_scs\n",
    "}"
   ]
  },
  {
   "cell_type": "code",
   "execution_count": null,
   "metadata": {},
   "outputs": [],
   "source": [
    "sc_multimap = {\n",
    "\n",
    "}\n",
    "\n",
    "for time in time2multi_maps__id:\n",
    "    for  info_dict in time2multi_maps__id[time]:\n",
    "        id, ids = info_dict[\"map_from\"], info_dict[\"map_to\"]\n",
    "        _sc = id2sc[id]\n",
    "        _scs = [id2sc[id] for id in ids]\n",
    "        sc_multimap[_sc] = _scs\n",
    "\n",
    "print(\"# Mapping (U-seg) cases:\", len(sc_multimap))    "
   ]
  },
  {
   "cell_type": "code",
   "execution_count": null,
   "metadata": {},
   "outputs": [],
   "source": [
    "import matplotlib.pyplot as plt\n",
    "\n",
    "padding = 50\n",
    "# Visualize the multimap cases\n",
    "for i in range(5):\n",
    "    sc1, sc2s = list(sc_multimap.items())[i]\n",
    "    fig, axs = plt.subplots(1, len(sc2s) + 2, figsize=(5 * (len(sc2s) + 2), 5))\n",
    "    axs[0].imshow(sc1.get_contour_mask(padding=padding))\n",
    "    axs[0].set_title(f\"Time {time} - sc1\")\n",
    "    for idx, sc2 in enumerate(sc2s):\n",
    "        axs[idx + 1].imshow(sc2.get_contour_mask(padding=padding, bbox=sc1.bbox))\n",
    "        axs[idx + 1].set_title(f\"Time {time} - sc2_{idx}\")\n",
    "    raw_img = sc1.get_img_crop(padding=padding)\n",
    "    axs[-1].imshow(raw_img)\n"
   ]
  },
  {
   "cell_type": "code",
   "execution_count": null,
   "metadata": {},
   "outputs": [],
   "source": [
    "import livecellx\n",
    "from livecellx.core.single_cell import create_label_mask_from_scs\n"
   ]
  },
  {
   "cell_type": "code",
   "execution_count": 14,
   "metadata": {},
   "outputs": [
    {
     "name": "stdout",
     "output_type": "stream",
     "text": [
      "# Train cases: 56\n",
      "# Test cases: 14\n",
      "Generating underseg cases from multimap, output to: notebook_results/a549_ccp_vim/train_underseg_EBSS_120hrs_syn/EBSS_120hrs_gt_dilated_syn_underseg_interval_50\n"
     ]
    },
    {
     "name": "stderr",
     "output_type": "stream",
     "text": [
      "100%|██████████| 56/56 [06:30<00:00,  6.98s/it]\n"
     ]
    },
    {
     "name": "stdout",
     "output_type": "stream",
     "text": [
      "Generating underseg cases from multimap, output to: notebook_results/a549_ccp_vim/test_underseg_EBSS_120hrs_syn/EBSS_120hrs_gt_dilated_syn_underseg_interval_50\n"
     ]
    },
    {
     "name": "stderr",
     "output_type": "stream",
     "text": [
      "100%|██████████| 14/14 [01:08<00:00,  4.89s/it]\n"
     ]
    }
   ],
   "source": [
    "import tqdm\n",
    "\n",
    "\n",
    "def gen_underseg_cases_from_multimaps(sc_multimap, out_subdir, filename_pattern=\"img-%d_scId-%s.tif\"):\n",
    "    print(\"Generating underseg cases from multimap, output to:\", out_subdir)\n",
    "    raw_out_dir = out_subdir / \"raw\"\n",
    "    seg_out_dir = out_subdir / \"seg\"\n",
    "    gt_out_dir = out_subdir / \"gt\"\n",
    "    gt_label_out_dir = out_subdir / \"gt_label_mask\"\n",
    "    augmented_seg_dir = out_subdir / \"augmented_seg\"\n",
    "    raw_transformed_img_dir = out_subdir / \"raw_transformed_img\"\n",
    "    augmented_diff_seg_dir = out_subdir / \"augmented_diff_seg\"\n",
    "\n",
    "    os.makedirs(raw_out_dir, exist_ok=True)\n",
    "    os.makedirs(seg_out_dir, exist_ok=True)\n",
    "    os.makedirs(gt_out_dir, exist_ok=True)\n",
    "    os.makedirs(augmented_seg_dir, exist_ok=True)\n",
    "    os.makedirs(gt_label_out_dir, exist_ok=True)\n",
    "    os.makedirs(raw_transformed_img_dir, exist_ok=True)\n",
    "    os.makedirs(augmented_diff_seg_dir, exist_ok=True)\n",
    "\n",
    "    scale_factors = [0] # We \n",
    "    train_path_tuples = []\n",
    "    augmented_data = []\n",
    "\n",
    "    multimaps = list(sc_multimap.items())\n",
    "\n",
    "    for sc, scs in tqdm.tqdm(multimaps):\n",
    "        img_id = sc.timeframe\n",
    "        seg_label = sc.id\n",
    "        # (img_crop, seg_crop, combined_gt_label_mask) = underseg_overlay_gt_masks(seg_label, scs, padding_scale=2)\n",
    "        img_crop = sc.get_img_crop()\n",
    "        seg_crop = sc.get_contour_mask()\n",
    "        # Only 1 gt mask for mask cases, seg_crop is sufficient\n",
    "        combined_gt_label_mask = create_label_mask_from_scs(scs, bbox=sc.bbox)\n",
    "\n",
    "        filename = (filename_pattern % (img_id, seg_label))\n",
    "        raw_img_path = raw_out_dir / filename\n",
    "        seg_img_path = seg_out_dir / filename\n",
    "        gt_img_path = gt_out_dir / filename\n",
    "        gt_label_img_path = gt_label_out_dir / filename\n",
    "\n",
    "        # call csn augment helper\n",
    "        livecellx.segment.ou_utils.csn_augment_helper(img_crop=img_crop, \n",
    "            seg_label_crop=seg_crop, \n",
    "            combined_gt_label_mask=combined_gt_label_mask,\n",
    "            scale_factors=scale_factors,\n",
    "            train_path_tuples=train_path_tuples,\n",
    "            augmented_data=augmented_data,\n",
    "            img_id=img_id,\n",
    "            seg_label=seg_label,\n",
    "            gt_label=None,\n",
    "            raw_img_path=raw_img_path,\n",
    "            seg_img_path=seg_img_path,\n",
    "            gt_img_path=gt_img_path,\n",
    "            gt_label_img_path=gt_label_img_path,\n",
    "            augmented_seg_dir=augmented_seg_dir,\n",
    "            augmented_diff_seg_dir=augmented_diff_seg_dir,\n",
    "            raw_transformed_img_dir=raw_transformed_img_dir,\n",
    "            df_save_path=None,\n",
    "            filename_pattern=\"img-%d_scId-%s.tif\"\n",
    "        )\n",
    "\n",
    "\n",
    "    pd.DataFrame(\n",
    "        train_path_tuples,\n",
    "        columns=[\"raw\", \"seg\", \"gt\", \"raw_seg\", \"scale\", \"aug_diff_mask\", \"gt_label_mask\", \"raw_transformed_img\"],\n",
    "    ).to_csv(out_subdir / \"data.csv\", index=False)\n",
    "\n",
    "\n",
    "\n",
    "\n",
    "# Randomly split the sc_multimap into 2 parts: train and test\n",
    "np.random.seed(0)\n",
    "sc_multimap_items = list(sc_multimap.items())\n",
    "np.random.shuffle(sc_multimap_items)\n",
    "train_size = int(0.8 * len(sc_multimap_items))\n",
    "train_sc_multimap = dict(sc_multimap_items[:train_size])\n",
    "test_sc_multimap = dict(sc_multimap_items[train_size:])\n",
    "print(\"# Train cases:\", len(train_sc_multimap))\n",
    "print(\"# Test cases:\", len(test_sc_multimap))\n",
    "\n",
    "train_out_dir = Path(\"./notebook_results/a549_ccp_vim/train_underseg_EBSS_120hrs_syn/\")\n",
    "train_out_subdir = train_out_dir / \"EBSS_120hrs_gt_dilated_syn_underseg_interval_50\"\n",
    "gen_underseg_cases_from_multimaps(train_sc_multimap, train_out_subdir)\n",
    "\n",
    "test_out_dir = Path(\"./notebook_results/a549_ccp_vim/test_underseg_EBSS_120hrs_syn/\")\n",
    "test_out_subdir = test_out_dir / \"EBSS_120hrs_gt_dilated_syn_underseg_interval_50\"\n",
    "gen_underseg_cases_from_multimaps(test_sc_multimap, test_out_subdir)\n"
   ]
  }
 ],
 "metadata": {
  "kernelspec": {
   "display_name": "livecellx",
   "language": "python",
   "name": "python3"
  },
  "language_info": {
   "codemirror_mode": {
    "name": "ipython",
    "version": 3
   },
   "file_extension": ".py",
   "mimetype": "text/x-python",
   "name": "python",
   "nbconvert_exporter": "python",
   "pygments_lexer": "ipython3",
   "version": "3.9.18"
  }
 },
 "nbformat": 4,
 "nbformat_minor": 2
}
