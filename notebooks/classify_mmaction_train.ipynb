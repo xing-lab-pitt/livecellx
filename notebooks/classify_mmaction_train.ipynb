{
 "cells": [
  {
   "cell_type": "code",
   "execution_count": null,
   "metadata": {},
   "outputs": [],
   "source": [
    "# !pip install -U openmim\n",
    "# !mim install mmengine\n",
    "# !mim install mmcv\n",
    "# !mim install mmdet\n",
    "# !mim install mmpose\n",
    "# !pip install mmaction2"
   ]
  },
  {
   "cell_type": "code",
   "execution_count": null,
   "metadata": {},
   "outputs": [],
   "source": [
    "from mmaction.apis import train_model\n",
    "\n",
    "# Specify the paths to your config and dataset files\n",
    "config_file = 'configs/recognition/tsn/tsn_r50_video_inference_1x1x3_100e_kinetics400_rgb.py'\n",
    "dataset_file = 'path/to/dataset/file'\n",
    "\n",
    "# Update the config file to use your custom dataset\n",
    "from mmcv import Config\n",
    "cfg = Config.fromfile(config_file)\n",
    "cfg.dataset_type = 'RawframeDataset'\n",
    "cfg.data_root = 'path/to/data_root/'\n",
    "cfg.data_root_val = 'path/to/data_root_val/'\n",
    "cfg.ann_file_train = 'path/to/ann_file_train/'\n",
    "cfg.ann_file_val = 'path/to/ann_file_val/'\n",
    "cfg.ann_file_test = 'path/to/ann_file_test/'\n",
    "\n",
    "# Train the model\n",
    "model = train_model(cfg, dataset_file)"
   ]
  },
  {
   "cell_type": "code",
   "execution_count": null,
   "metadata": {},
   "outputs": [],
   "source": [
    "import torch"
   ]
  }
 ],
 "metadata": {
  "kernelspec": {
   "display_name": "livecell-work",
   "language": "python",
   "name": "python3"
  },
  "language_info": {
   "codemirror_mode": {
    "name": "ipython",
    "version": 3
   },
   "file_extension": ".py",
   "mimetype": "text/x-python",
   "name": "python",
   "nbconvert_exporter": "python",
   "pygments_lexer": "ipython3",
   "version": "3.9.16"
  },
  "orig_nbformat": 4
 },
 "nbformat": 4,
 "nbformat_minor": 2
}
