{
 "cells": [
  {
   "cell_type": "code",
   "execution_count": null,
   "metadata": {},
   "outputs": [],
   "source": [
    "# !pip install -U openmim\n",
    "# !mim install mmengine\n",
    "# !mim install mmcv\n",
    "# !mim install mmdet\n",
    "# !mim install mmpose\n",
    "# !pip install mmaction2"
   ]
  },
  {
   "cell_type": "code",
   "execution_count": null,
   "metadata": {},
   "outputs": [],
   "source": [
    "data_root = 'notebook_results/mmaction_train_data/videos'\n",
    "data_df_path = 'notebook_results/mmaction_train_data/all_data.csv'\n",
    "train_df_path = 'notebook_results/mmaction_train_data/train_data.csv'\n",
    "test_df_path = 'notebook_results/mmaction_train_data/test_data.csv'"
   ]
  },
  {
   "cell_type": "code",
   "execution_count": null,
   "metadata": {},
   "outputs": [],
   "source": [
    "# check: https://mmaction2.readthedocs.io/en/latest/get_started/quick_run.html\n",
    "\n",
    "# Specify the paths to your config and dataset files\n",
    "config_file = '../external_libs/mmaction2/configs/recognition/tsn/tsn_r50_video_inference_1x1x3_100e_kinetics400_rgb.py'\n",
    "dataset_file = 'path/to/dataset/file'\n",
    "\n",
    "# Update the config file to use your custom dataset\n",
    "dataset_type = 'RawframeDataset'\n",
    "data_root = data_root\n",
    "# data_root_val = 'path/to/data_root_val/'\n",
    "ann_file_train = train_df_path\n",
    "ann_file_val =  test_df_path\n",
    "ann_file_test = test_df_path"
   ]
  },
  {
   "cell_type": "code",
   "execution_count": null,
   "metadata": {},
   "outputs": [],
   "source": [
    "! python train.py tsn_imagenet-pretrained-r50_8xb32-1x1x3-100e_kinetics400-rgb.py"
   ]
  }
 ],
 "metadata": {
  "kernelspec": {
   "display_name": "livecell-work",
   "language": "python",
   "name": "python3"
  },
  "language_info": {
   "codemirror_mode": {
    "name": "ipython",
    "version": 3
   },
   "file_extension": ".py",
   "mimetype": "text/x-python",
   "name": "python",
   "nbconvert_exporter": "python",
   "pygments_lexer": "ipython3",
   "version": "3.9.16"
  },
  "orig_nbformat": 4
 },
 "nbformat": 4,
 "nbformat_minor": 2
}
