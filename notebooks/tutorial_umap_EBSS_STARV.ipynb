{
 "cells": [
  {
   "attachments": {},
   "cell_type": "markdown",
   "metadata": {},
   "source": [
    "# Create UMAP of single cell features [EBSS starvation data]"
   ]
  },
  {
   "cell_type": "code",
   "execution_count": null,
   "metadata": {},
   "outputs": [],
   "source": [
    "import glob\n",
    "from pathlib import Path\n",
    "import numpy as np\n",
    "import pandas as pd\n",
    "import umap\n",
    "import matplotlib.pyplot as plt\n",
    "\n",
    "from livecellx.core.datasets import LiveCellImageDataset\n",
    "from livecellx.sample_data import tutorial_three_image_sys\n",
    "\n",
    "from livecellx.trajectory.feature_extractors import compute_haralick_features, compute_skimage_regionprops\n",
    "from livecellx.preprocess.utils import normalize_img_to_uint8\n",
    "from livecellx.core.parallel import parallelize\n",
    "from livecellx.core.io_sc import prep_scs_from_mask_dataset\n",
    "from livecellx.core.single_cell import create_sc_table\n",
    "import livecellx.core.single_cell\n",
    "from livecellx.core.single_cell import SingleCellStatic\n",
    "from livecellx.core.io_utils import LiveCellEncoder\n",
    "\n",
    "\n",
    "dataset_dir_path = Path(\n",
    "    \"../datasets/EBSS_Starvation/tif_STAV-A549_VIM_24hours_NoTreat_NA_YL_Ti2e_2022-12-21/XY16/\"\n",
    ")\n",
    "\n",
    "mask_dataset_path = Path(\"../datasets/EBSS_Starvation/tif_STAV-A549_VIM_24hours_NoTreat_NA_YL_Ti2e_2022-12-21/out/XY16/seg\")\n",
    "\n",
    "mask_dataset = LiveCellImageDataset(mask_dataset_path, ext=\"png\")\n",
    "time2url = sorted(glob.glob(str((Path(dataset_dir_path) / Path(\"*_DIC.tif\")))))\n",
    "time2url = {i: path for i, path in enumerate(time2url)}\n",
    "dic_dataset = LiveCellImageDataset(time2url=time2url, ext=\"tif\")"
   ]
  },
  {
   "cell_type": "code",
   "execution_count": null,
   "metadata": {},
   "outputs": [],
   "source": [
    "\n",
    "out_dir = Path(\"tutorial_results/umap_EBSS_STARV\")\n",
    "out_dir.mkdir(exist_ok=True, parents=True)"
   ]
  },
  {
   "cell_type": "markdown",
   "metadata": {},
   "source": [
    "Compute the features  \n",
    "Read the features in the next section if you already computed the features."
   ]
  },
  {
   "cell_type": "code",
   "execution_count": null,
   "metadata": {},
   "outputs": [],
   "source": [
    "from livecellx.core.io_sc import prep_scs_from_mask_dataset\n",
    "scs = prep_scs_from_mask_dataset(mask_dataset, dic_dataset)"
   ]
  },
  {
   "cell_type": "code",
   "execution_count": null,
   "metadata": {},
   "outputs": [],
   "source": [
    "from livecellx.trajectory.feature_extractors import compute_haralick_features, compute_skimage_regionprops\n",
    "from livecellx.preprocess.utils import normalize_img_to_uint8\n",
    "from livecellx.core.parallel import parallelize\n",
    "\n",
    "inputs = []\n",
    "for sc in scs:\n",
    "    inputs.append({\n",
    "        \"sc\": sc,\n",
    "        \"preprocess_img_func\": normalize_img_to_uint8,\n",
    "        \"sc_level_normalize\": True\n",
    "    })\n",
    "\n",
    "def compute_skimage_regionprops_wrapper(sc, preprocess_img_func=normalize_img_to_uint8, sc_level_normalize=True):\n",
    "    return compute_skimage_regionprops(sc, preprocess_img_func=preprocess_img_func, sc_level_normalize=sc_level_normalize), sc\n",
    "\n",
    "outputs = parallelize(compute_skimage_regionprops_wrapper, inputs, cores=16)\n",
    "features = [output[0] for output in outputs]\n",
    "scs = [output[1] for output in outputs]\n",
    "\n",
    "# # for sequential version without using parallelize\n",
    "# for sc in scs:\n",
    "#     features = compute_skimage_regionprops(sc, preprocess_img_func=normalize_img_to_uint8, sc_level_normalize=True)"
   ]
  },
  {
   "cell_type": "code",
   "execution_count": null,
   "metadata": {},
   "outputs": [],
   "source": [
    "from livecellx.core.single_cell import create_sc_table\n",
    "import livecellx.core.single_cell\n",
    "import importlib\n",
    "importlib.reload(livecellx.core.single_cell)\n",
    "\n",
    "sc_feature_table = create_sc_table(scs)\n",
    "sc_feature_table_with_time_and_id = create_sc_table(scs, add_time=True, add_sc_id=True)\n",
    "sc_feature_table_with_time_and_id.to_csv(out_dir / Path(\"sc_feature_table_with_time_and_id.csv\"), index=False)\n",
    "sc_feature_table[:2]"
   ]
  },
  {
   "cell_type": "code",
   "execution_count": null,
   "metadata": {},
   "outputs": [],
   "source": [
    "from livecellx.core.single_cell import SingleCellStatic\n",
    "from livecellx.core.io_utils import LiveCellEncoder\n",
    "import importlib\n",
    "importlib.reload(livecellx.core.single_cell)\n",
    "importlib.reload(livecellx.core.io_utils)\n",
    "\n",
    "livecellx.core.single_cell.SingleCellStatic.write_single_cells_json(scs, out_dir / Path(\"scs.json\"), dataset_dir=out_dir / Path(\"dataset\"))"
   ]
  },
  {
   "cell_type": "markdown",
   "metadata": {},
   "source": [
    "### Read the features if computed before"
   ]
  },
  {
   "cell_type": "code",
   "execution_count": null,
   "metadata": {},
   "outputs": [],
   "source": [
    "import importlib\n",
    "importlib.reload(livecellx.core.single_cell)\n",
    "importlib.reload(livecellx.core.io_utils)"
   ]
  },
  {
   "cell_type": "code",
   "execution_count": null,
   "metadata": {},
   "outputs": [],
   "source": [
    "import pandas as pd\n",
    "sc_feature_table_with_time_and_id = pd.read_csv(out_dir / Path(\"sc_feature_table_with_time_and_id.csv\"))\n",
    "scs = SingleCellStatic.load_single_cells_json(out_dir / Path(\"scs.json\"))"
   ]
  },
  {
   "attachments": {},
   "cell_type": "markdown",
   "metadata": {},
   "source": [
    "## Perform UMAP on features"
   ]
  },
  {
   "cell_type": "code",
   "execution_count": null,
   "metadata": {},
   "outputs": [],
   "source": [
    "# sort by correlation absolute value\n",
    "# feature_corr_df = feature_corr_df.reindex(feature_corr_df[\"corr\"].abs().sort_values(ascending=False).index)\n",
    "# feature_corr_df[:-5]"
   ]
  },
  {
   "cell_type": "code",
   "execution_count": null,
   "metadata": {},
   "outputs": [],
   "source": [
    "centroid_features = ['skimage_centroid-0', 'skimage_centroid-1', 'skimage_centroid_weighted-0', 'skimage_centroid_weighted-1']"
   ]
  },
  {
   "cell_type": "markdown",
   "metadata": {},
   "source": [
    "### Plotting unnormalized feature"
   ]
  },
  {
   "cell_type": "code",
   "execution_count": null,
   "metadata": {},
   "outputs": [],
   "source": [
    "unnormalized_img_features = create_sc_table(scs, normalize_features=False)\n",
    "unnormalized_img_features.dropna(axis=1, how=\"all\", inplace=True)\n",
    "unnormalized_img_features.drop(columns=centroid_features, inplace=True)\n",
    "# print all the feature columns with NAs\n",
    "feature_na_cols = unnormalized_img_features.columns[unnormalized_img_features.isna().any()].tolist()\n",
    "print(\"feature_na_cols: \", feature_na_cols)\n",
    "\n",
    "unnormalized_img_features = unnormalized_img_features.dropna(axis=1, how=\"all\")\n",
    "reducer = umap.UMAP()\n",
    "unnormalized_embedding = reducer.fit_transform(unnormalized_img_features)\n"
   ]
  },
  {
   "cell_type": "code",
   "execution_count": null,
   "metadata": {},
   "outputs": [],
   "source": [
    "\n",
    "fig, axes = plt.subplots(1, 2, figsize=(10, 5))\n",
    "scatter_time = axes[0].scatter(\n",
    "    unnormalized_embedding[:, 0],\n",
    "    unnormalized_embedding[:, 1],\n",
    "    c=[sc.timeframe for sc in scs],\n",
    ")\n",
    "colorbar = fig.colorbar(scatter_time, ax=axes[0], label=\"Time\")\n",
    "\n",
    "scatter_area = axes[1].scatter(\n",
    "    unnormalized_embedding[:, 0],\n",
    "    unnormalized_embedding[:, 1],\n",
    "    c=unnormalized_img_features[\"skimage_centroid_weighted_local-0\"],\n",
    ")\n",
    "colorbar = fig.colorbar(scatter_area, ax=axes[1], label=\"Area\")\n"
   ]
  },
  {
   "cell_type": "code",
   "execution_count": null,
   "metadata": {},
   "outputs": [],
   "source": [
    "import numpy as np\n",
    "import pandas as pd\n",
    "# calculate correlation matrix between features and UMAP axis\n",
    "\n",
    "def compute_dims_corr(reduced_dims: np.array, sc_feature_table: pd.DataFrame):\n",
    "    feature_cols = sc_feature_table.columns\n",
    "    feature_corr_df = pd.DataFrame()\n",
    "    for feature in feature_cols:\n",
    "        for dim in range(reduced_dims.shape[1]):\n",
    "            _embedding = reduced_dims[:, dim]\n",
    "\n",
    "            # suffer from NAN\n",
    "            # corr = np.corrcoef(np.array(sc_feature_table[feature]), _embedding)[0, 1]\n",
    "\n",
    "            # avoid and exclude NA values\n",
    "            _tmp_df = pd.DataFrame({\"embedding\": _embedding, \"feature\": sc_feature_table[feature]})\n",
    "            all_corrs = _tmp_df.corr()\n",
    "            corr = all_corrs[\"feature\"].loc[\"embedding\"]\n",
    "            new_df = pd.DataFrame({\"feature\": [feature], \"corr\": [corr], \"dim\": [dim]})\n",
    "            feature_corr_df = pd.concat([feature_corr_df, new_df], ignore_index=True)\n",
    "    return feature_corr_df"
   ]
  },
  {
   "cell_type": "code",
   "execution_count": null,
   "metadata": {},
   "outputs": [],
   "source": [
    "print(np.isnan(unnormalized_embedding).any())"
   ]
  },
  {
   "cell_type": "code",
   "execution_count": null,
   "metadata": {},
   "outputs": [],
   "source": [
    "unnormalized_corr_df = compute_dims_corr(unnormalized_embedding, unnormalized_img_features)"
   ]
  },
  {
   "cell_type": "code",
   "execution_count": null,
   "metadata": {},
   "outputs": [],
   "source": [
    "unnormalized_corr_df[:3]"
   ]
  },
  {
   "cell_type": "code",
   "execution_count": null,
   "metadata": {},
   "outputs": [],
   "source": [
    "# for each dimension, sort by correlation absolute value\n",
    "\n",
    "# sort the unnormalized_corr_df DataFrame by the absolute value of the corr column for each dim\n",
    "unnormalized_corr_df = unnormalized_corr_df.groupby('dim').apply(lambda x: x.iloc[x['corr'].abs().argsort()[::-1]])\n",
    "\n",
    "\n",
    "# reset the index of the sorted DataFrame\n",
    "unnormalized_corr_df = unnormalized_corr_df.reset_index(drop=True)\n",
    "\n",
    "# group the unnormalized_corr_df DataFrame by the dim column\n",
    "grouped_df = unnormalized_corr_df.groupby('dim')\n",
    "\n",
    "# define a lambda function to extract the sorted feature and correlation values for each group\n",
    "get_sorted_values = lambda x: (x['feature'].values, x['corr'].values)\n",
    "\n",
    "\n",
    "# apply the lambda function to each group and convert the result to a Pandas Series\n",
    "dim1_series = grouped_df.apply(lambda x: pd.Series(get_sorted_values(x)[0], name='feature'))\n",
    "dim2_series = grouped_df.apply(lambda x: pd.Series(get_sorted_values(x)[1], name='corr'))\n",
    "type(dim1_series)"
   ]
  },
  {
   "cell_type": "code",
   "execution_count": null,
   "metadata": {},
   "outputs": [],
   "source": [
    "dim1_series.columns"
   ]
  },
  {
   "cell_type": "markdown",
   "metadata": {},
   "source": [
    "### Plotting normalized feature"
   ]
  },
  {
   "cell_type": "code",
   "execution_count": null,
   "metadata": {},
   "outputs": [],
   "source": [
    "normalized_img_features = create_sc_table(scs, normalize_features=True)\n",
    "# drop na\n",
    "normalized_img_features = normalized_img_features.dropna(axis=1, how=\"all\")\n",
    "reducer = umap.UMAP()\n",
    "normalized_embedding = reducer.fit_transform(normalized_img_features)\n",
    "\n",
    "fig, axes = plt.subplots(1, 2, figsize=(10, 5))\n",
    "scatter_time = axes[0].scatter(\n",
    "    normalized_embedding[:, 0],\n",
    "    normalized_embedding[:, 1],\n",
    "    c=[sc.timeframe for sc in scs],\n",
    ")\n",
    "colorbar = fig.colorbar(scatter_time, ax=axes[0], label=\"Time\")\n",
    "\n",
    "scatter_area = axes[1].scatter(\n",
    "    normalized_embedding[:, 0],\n",
    "    normalized_embedding[:, 1],\n",
    "    c=normalized_img_features[\"skimage_centroid_weighted_local-0\"],\n",
    ")\n",
    "colorbar = fig.colorbar(scatter_area, ax=axes[1], label=\"Area\")\n"
   ]
  },
  {
   "cell_type": "code",
   "execution_count": null,
   "metadata": {},
   "outputs": [],
   "source": [
    "import plotly.graph_objs as go\n",
    "import plotly.subplots as sp\n",
    "\n",
    "normalized_img_features = create_sc_table(scs, normalize_features=True)\n",
    "normalized_img_features = normalized_img_features.dropna(axis=1, how=\"all\")\n",
    "reducer = umap.UMAP()\n",
    "normalized_embedding = reducer.fit_transform(normalized_img_features)"
   ]
  },
  {
   "cell_type": "code",
   "execution_count": null,
   "metadata": {},
   "outputs": [],
   "source": [
    "%matplotlib widget\n",
    "fig = sp.make_subplots(rows=1, cols=2, subplot_titles=(\"Time\", \"Area\"))\n",
    "\n",
    "scatter_time = go.Scatter(\n",
    "    x=normalized_embedding[:, 0],\n",
    "    y=normalized_embedding[:, 1],\n",
    "    mode=\"markers\",\n",
    "    marker=dict(color=[sc.timeframe for sc in scs], colorbar=dict(title=\"Time\", x=0.45, yanchor=\"middle\", len=0.5)),\n",
    "    text=[f\"Timeframe: {sc.timeframe}<br>sc id: {sc.id}\" for sc in scs],\n",
    "    customdata=[sc.id for sc in scs],\n",
    ")\n",
    "\n",
    "# define a callback function to display the image when a scatter point is clicked\n",
    "def on_click(trace, points, state):\n",
    "    print(\"<debug> points: \", points)\n",
    "    if points.point_inds:\n",
    "        sc_id = points.points[0].customdata\n",
    "        print(\"<debug> sc_id: \", sc_id)\n",
    "        # do something with the single cell object\n",
    "\n",
    "scatter_area = go.Scatter(\n",
    "    x=normalized_embedding[:, 0],\n",
    "    y=normalized_embedding[:, 1],\n",
    "    mode=\"markers\",\n",
    "    marker=dict(color=normalized_img_features[\"skimage_centroid_weighted_local-0\"], colorbar=dict(title=\"Area\", x=1, yanchor=\"middle\", len=0.5)),\n",
    ")\n",
    "fig.append_trace(scatter_time, row=1, col=1)\n",
    "fig.add_trace(scatter_area, row=1, col=2)\n",
    "\n",
    "fig.update_layout(height=500, width=1000, title_text=\"UMAP Embedding\", clickmode=\"event\")"
   ]
  }
 ],
 "metadata": {
  "kernelspec": {
   "display_name": "livecell-work",
   "language": "python",
   "name": "python3"
  },
  "language_info": {
   "codemirror_mode": {
    "name": "ipython",
    "version": 3
   },
   "file_extension": ".py",
   "mimetype": "text/x-python",
   "name": "python",
   "nbconvert_exporter": "python",
   "pygments_lexer": "ipython3",
   "version": "3.10.8"
  },
  "orig_nbformat": 4
 },
 "nbformat": 4,
 "nbformat_minor": 2
}
