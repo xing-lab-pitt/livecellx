{
 "cells": [
  {
   "cell_type": "code",
   "execution_count": 1,
   "metadata": {},
   "outputs": [],
   "source": [
    "from PIL import Image, ImageSequence"
   ]
  },
  {
   "cell_type": "code",
   "execution_count": 2,
   "metadata": {},
   "outputs": [],
   "source": [
    "!mkdir tmp"
   ]
  },
  {
   "cell_type": "code",
   "execution_count": 3,
   "metadata": {},
   "outputs": [
    {
     "name": "stdout",
     "output_type": "stream",
     "text": [
      "576\n"
     ]
    }
   ],
   "source": [
    "# path = '''D://xing-vimentin-dic-pipeline//src//livecell_dev//cxa-data//june_2022_data//day0Notreat_Group 1_wellA1_RI_MIP_stitched.tiff'''\n",
    "# path = '''D://xing-vimentin-dic-pipeline//src//livecell_dev//cxa-data//june_2022_data//restart_day0_Group 1_wellA1_RI_MIP_stitched.tiff'''\n",
    "path = '''D://xing-vimentin-dic-pipeline//src//livecell_dev//cxa-data//june_2022_data//restart_day2_Group 1_wellA1_RI_MIP_stitched.tiff'''\n",
    "tiff_img = Image.open(path)\n",
    "print(tiff_img.n_frames)\n",
    "ndigits = len(str(tiff_img.n_frames))\n",
    "\n",
    "def gen_T_filename(frame, ndigits):\n",
    "    return \"T%s.tif\" % (str(frame).zfill(ndigits))\n",
    "\n",
    "for i, page in enumerate(ImageSequence.Iterator(tiff_img)):\n",
    "    page.save(\"./tmp/\" + gen_T_filename(i+1, ndigits))"
   ]
  }
 ],
 "metadata": {
  "kernelspec": {
   "display_name": "Python 3.8.13 ('cv-general')",
   "language": "python",
   "name": "python3"
  },
  "language_info": {
   "codemirror_mode": {
    "name": "ipython",
    "version": 3
   },
   "file_extension": ".py",
   "mimetype": "text/x-python",
   "name": "python",
   "nbconvert_exporter": "python",
   "pygments_lexer": "ipython3",
   "version": "3.8.13"
  },
  "orig_nbformat": 4,
  "vscode": {
   "interpreter": {
    "hash": "b5dfbec2055422cee39dc040b31dfffa8b21a342109231ab17bc6ff9949c7133"
   }
  }
 },
 "nbformat": 4,
 "nbformat_minor": 2
}
