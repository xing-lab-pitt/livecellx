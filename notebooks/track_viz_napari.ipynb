{
 "cells": [
  {
   "cell_type": "code",
   "execution_count": 1,
   "metadata": {},
   "outputs": [
    {
     "name": "stdout",
     "output_type": "stream",
     "text": [
      "6 png img file paths loaded: \n",
      "6 png img file paths loaded: \n",
      "288 png img file paths loaded: \n"
     ]
    }
   ],
   "source": [
    "from pathlib import Path\n",
    "import cv2\n",
    "import sys\n",
    "import numpy as np\n",
    "from skimage import feature, measure\n",
    "import livecell_tracker\n",
    "from livecell_tracker.core import datasets\n",
    "from livecell_tracker.core.datasets import LiveCellImageDataset\n",
    "import livecell_tracker.segment\n",
    "from livecell_tracker import core\n",
    "import livecell_tracker.core.utils\n",
    "from tqdm import tqdm\n",
    "import json\n",
    "from livecell_tracker.core import (\n",
    "    SingleCellTrajectory,\n",
    "    SingleCellStatic,\n",
    "    SingleCellTrajectoryCollection,\n",
    ")\n",
    "import json\n",
    "\n",
    "seg_dir_path = r\"\"\"../datasets/test_data/track_sort/seg_output_3_imgs_day0_group1\"\"\"\n",
    "label_seg_imgs = core.datasets.LiveCellImageDataset(dir_path=seg_dir_path, ext=\"png\")\n",
    "\n",
    "label_seg_imgs = LiveCellImageDataset(dir_path=seg_dir_path, ext=\"png\", num_imgs=3)\n",
    "dataset_dir_path = Path(\n",
    "    r\"../cxa-data/june_2022_data_8bit_png/restart_day0_Group 1_wellA1_RI_MIP_stitched\"\n",
    ")\n",
    "\n",
    "raw_imgs = LiveCellImageDataset(dir_path=dataset_dir_path, ext=\"png\", num_imgs=3)\n",
    "segmentation_result_json_path = r\"../datasets/test_data/track_sort/seg_output_3_imgs_day0_group1/segmentation_results.json\"\n",
    "segmentation_results = json.load(open(segmentation_result_json_path, \"r\"))\n",
    "segmentation_results;"
   ]
  },
  {
   "cell_type": "code",
   "execution_count": 2,
   "metadata": {},
   "outputs": [
    {
     "data": {
      "text/plain": [
       "array([[14, 14, 16, ..., 13, 14, 14],\n",
       "       [15, 14, 17, ..., 13, 13, 14],\n",
       "       [15, 14, 14, ..., 14, 14, 14],\n",
       "       ...,\n",
       "       [14, 13, 13, ..., 11, 12, 13],\n",
       "       [14, 13, 13, ..., 12, 12, 13],\n",
       "       [14, 14, 14, ..., 12, 11, 12]], dtype=uint8)"
      ]
     },
     "execution_count": 2,
     "metadata": {},
     "output_type": "execute_result"
    }
   ],
   "source": [
    "raw_imgs[1]"
   ]
  },
  {
   "cell_type": "code",
   "execution_count": 3,
   "metadata": {},
   "outputs": [],
   "source": [
    "import napari\n",
    "from skimage import data\n",
    "# viewer = napari.view_image(raw_imgs[0], name='image')\n",
    "viewer = napari.view_image(raw_imgs.to_dask(), name='image', cache=True)\n",
    "# all_imgs = LiveCellImageDataset(dataset_dir_path, ext=\"png\", num_imgs=none)\n",
    "# viewer = napari.view_image(all_imgs.to_dask(), name='all-image', cache=False)"
   ]
  },
  {
   "cell_type": "code",
   "execution_count": 4,
   "metadata": {},
   "outputs": [],
   "source": [
    "traj_collection_json_path = \"../datasets/test_data/traj_analysis/track_singleCellTrajectoryCollection.json\"\n",
    "traj_collection_json = json.load(open(traj_collection_json_path, \"r\"))\n",
    "trajectory_collection = SingleCellTrajectoryCollection().load_from_json_dict(traj_collection_json)"
   ]
  },
  {
   "cell_type": "code",
   "execution_count": 5,
   "metadata": {},
   "outputs": [],
   "source": [
    "from livecell_tracker.core.napari_visualizer import NapariVisualizer\n",
    "shape_layer = NapariVisualizer.viz_traj_collection(trajectory_collection, viewer)\n"
   ]
  },
  {
   "cell_type": "code",
   "execution_count": 6,
   "metadata": {},
   "outputs": [
    {
     "data": {
      "text/plain": [
       "array([[   0. ,   57.5, 1259.5],\n",
       "       [   0. ,   57.5, 1323.5],\n",
       "       [   0. ,  150.5, 1323.5],\n",
       "       [   0. ,  150.5, 1259.5]])"
      ]
     },
     "execution_count": 6,
     "metadata": {},
     "output_type": "execute_result"
    }
   ],
   "source": [
    "shape_layer.data[0]"
   ]
  },
  {
   "cell_type": "code",
   "execution_count": 7,
   "metadata": {},
   "outputs": [],
   "source": [
    "def set_shapes_features(shapes_layer, step2shapes, step):\n",
    "    # step is a 4D coordinate with the current slider position for each dim\n",
    "    column = step[0]  # grab the leading (\"time\") coordinate\n",
    "    new_data = []\n",
    "    print(step)\n",
    "    if step in step2shapes:\n",
    "        new_data = step2shapes[step]\n",
    "    shapes_layer.data = new_data\n",
    "    shapes_layer.face_color = 'value'  # force features refresh\n",
    "\n",
    "\n",
    "# viewer.dims.events.current_step.connect(\n",
    "#         lambda event: set_shapes_features(shapes_layer, traj_1.get_sc_napari_shapes(), event.value)\n",
    "#         )\n"
   ]
  }
 ],
 "metadata": {
  "kernelspec": {
   "display_name": "Python 3.8.13 ('cv-general')",
   "language": "python",
   "name": "python3"
  },
  "language_info": {
   "codemirror_mode": {
    "name": "ipython",
    "version": 3
   },
   "file_extension": ".py",
   "mimetype": "text/x-python",
   "name": "python",
   "nbconvert_exporter": "python",
   "pygments_lexer": "ipython3",
   "version": "3.8.13"
  },
  "orig_nbformat": 4,
  "vscode": {
   "interpreter": {
    "hash": "b5dfbec2055422cee39dc040b31dfffa8b21a342109231ab17bc6ff9949c7133"
   }
  }
 },
 "nbformat": 4,
 "nbformat_minor": 2
}
