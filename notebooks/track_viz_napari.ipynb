{
 "cells": [
  {
   "cell_type": "code",
   "execution_count": 1,
   "metadata": {},
   "outputs": [],
   "source": [
    "from pathlib import Path\n",
    "import cv2\n",
    "import sys\n",
    "import numpy as np\n",
    "from skimage import feature, measure\n",
    "import livecell_tracker\n",
    "from livecell_tracker.core import datasets\n",
    "from livecell_tracker.core.datasets import LiveCellImageDataset\n",
    "import livecell_tracker.segment\n",
    "from livecell_tracker import core\n",
    "import livecell_tracker.core.utils\n",
    "from tqdm import tqdm\n",
    "import json\n",
    "from livecell_tracker.core import (\n",
    "    SingleCellTrajectory,\n",
    "    SingleCellStatic,\n",
    "    SingleCellTrajectoryCollection,\n",
    ")\n",
    "import json\n",
    "\n",
    "seg_dir_path = r\"\"\"../datasets/test_data/track_sort/seg_output_3_imgs_day0_group1\"\"\"\n",
    "label_seg_imgs = core.datasets.LiveCellImageDataset(seg_dir_path, ext=\"png\")\n",
    "\n",
    "label_seg_imgs = LiveCellImageDataset(seg_dir_path, ext=\"png\", num_imgs=3)\n",
    "dataset_dir_path = Path(\n",
    "    r\"../cxa-data/june_2022_data_8bit_png/restart_day0_Group 1_wellA1_RI_MIP_stitched\"\n",
    ")\n",
    "\n",
    "raw_imgs = LiveCellImageDataset(dataset_dir_path, ext=\"png\", num_imgs=3)\n",
    "segmentation_result_json_path = r\"../datasets/test_data/track_sort/seg_output_3_imgs_day0_group1/segmentation_results.json\"\n",
    "segmentation_results = json.load(open(segmentation_result_json_path, \"r\"))\n",
    "segmentation_results;"
   ]
  },
  {
   "cell_type": "code",
   "execution_count": 2,
   "metadata": {},
   "outputs": [
    {
     "name": "stdout",
     "output_type": "stream",
     "text": [
      "Assistant skips harvesting pyclesperanto as it's not installed.\n"
     ]
    }
   ],
   "source": [
    "import napari\n",
    "from skimage import data\n",
    "# viewer = napari.view_image(raw_imgs[0], name='image')\n",
    "viewer = napari.view_image(raw_imgs.to_dask(), name='image', cache=True)\n",
    "# all_imgs = LiveCellImageDataset(dataset_dir_path, ext=\"png\", num_imgs=none)\n",
    "# viewer = napari.view_image(all_imgs.to_dask(), name='all-image', cache=False)"
   ]
  },
  {
   "cell_type": "code",
   "execution_count": 3,
   "metadata": {},
   "outputs": [],
   "source": [
    "traj_collection_json_path = \"../datasets/test_data/traj_analysis/track_singleCellTrajectoryCollection.json\"\n",
    "traj_collection_json = json.load(open(traj_collection_json_path, \"r\"))\n",
    "trajectory_collection = SingleCellTrajectoryCollection().load_from_json_dict(traj_collection_json)"
   ]
  },
  {
   "cell_type": "code",
   "execution_count": 4,
   "metadata": {},
   "outputs": [
    {
     "data": {
      "text/plain": [
       "<Shapes layer 'all_shapes' at 0x1e34c9910>"
      ]
     },
     "execution_count": 4,
     "metadata": {},
     "output_type": "execute_result"
    }
   ],
   "source": [
    "from livecell_tracker.core.visualizer import Visualizer\n",
    "Visualizer.viz_traj_collection(trajectory_collection, viewer)\n"
   ]
  },
  {
   "cell_type": "code",
   "execution_count": 5,
   "metadata": {},
   "outputs": [],
   "source": [
    "def set_shapes_features(shapes_layer, step2shapes, step):\n",
    "    # step is a 4D coordinate with the current slider position for each dim\n",
    "    column = step[0]  # grab the leading (\"time\") coordinate\n",
    "    new_data = []\n",
    "    print(step)\n",
    "    if step in step2shapes:\n",
    "        new_data = step2shapes[step]\n",
    "    shapes_layer.data = new_data\n",
    "    shapes_layer.face_color = 'value'  # force features refresh\n",
    "\n",
    "\n",
    "# viewer.dims.events.current_step.connect(\n",
    "#         lambda event: set_shapes_features(shapes_layer, traj_1.get_sc_napari_shapes(), event.value)\n",
    "#         )\n"
   ]
  }
 ],
 "metadata": {
  "kernelspec": {
   "display_name": "Python 3.9.12 ('xing-cv')",
   "language": "python",
   "name": "python3"
  },
  "language_info": {
   "codemirror_mode": {
    "name": "ipython",
    "version": 3
   },
   "file_extension": ".py",
   "mimetype": "text/x-python",
   "name": "python",
   "nbconvert_exporter": "python",
   "pygments_lexer": "ipython3",
   "version": "3.9.12"
  },
  "orig_nbformat": 4,
  "vscode": {
   "interpreter": {
    "hash": "73a99b54321d56819ac214e2bec2265ae371e99f931e60a5d4e2c2e7a45b5580"
   }
  }
 },
 "nbformat": 4,
 "nbformat_minor": 2
}
