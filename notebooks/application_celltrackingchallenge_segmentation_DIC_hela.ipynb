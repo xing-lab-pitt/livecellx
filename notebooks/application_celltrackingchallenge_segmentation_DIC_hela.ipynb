{
 "cells": [
  {
   "cell_type": "code",
   "execution_count": null,
   "metadata": {},
   "outputs": [],
   "source": [
    "import glob\n",
    "from pathlib import Path\n",
    "import numpy as np\n",
    "import pandas as pd\n",
    "import umap\n",
    "import matplotlib.pyplot as plt\n",
    "\n",
    "from livecellx.core.datasets import LiveCellImageDataset\n",
    "from livecellx.sample_data import tutorial_three_image_sys\n",
    "\n",
    "from livecellx.trajectory.feature_extractors import (\n",
    "    compute_haralick_features,\n",
    "    compute_skimage_regionprops,\n",
    ")\n",
    "from livecellx.preprocess.utils import normalize_img_to_uint8\n",
    "from livecellx.core.parallel import parallelize\n",
    "from livecellx.core.io_sc import prep_scs_from_mask_dataset\n",
    "from livecellx.core.single_cell import create_sc_table\n",
    "import livecellx.core.single_cell\n",
    "from livecellx.core.single_cell import SingleCellStatic\n",
    "from livecellx.core.io_utils import LiveCellEncoder\n",
    "\n",
    "\n",
    "# dataset_dir_path = Path(\n",
    "#     \"../datasets/celltrackingchallenge/BF-C2DL-HSC/BF-C2DL-HSC/01\"\n",
    "# )\n",
    "\n",
    "# mask_dataset_path = Path(\"../datasets/celltrackingchallenge/BF-C2DL-HSC/BF-C2DL-HSC/01_GT/TRA\")"
   ]
  },
  {
   "cell_type": "code",
   "execution_count": null,
   "metadata": {},
   "outputs": [],
   "source": [
    "def extract_time_from_celltracking_dataset_man_anno_filename(filename):\n",
    "    \"\"\"Extracts the time from a filename in the format 'man_seg00002.tif'.\n",
    "\n",
    "    Args:\n",
    "        filename (str): The filename to extract the time from.\n",
    "\n",
    "    Returns:\n",
    "        int: The time extracted from the filename.\n",
    "    \"\"\"\n",
    "    # Find the position of the start of the time string\n",
    "    time_start = filename.find(\"man_seg\") + len(\"man_seg\")\n",
    "\n",
    "    # Find the position of the end of the time string\n",
    "    time_end = filename.find(\".tif\")\n",
    "\n",
    "    # Extract the time string from the filename\n",
    "    time_str = filename[time_start:time_end]\n",
    "\n",
    "    # Remove leading zeroes from the time string\n",
    "    time_str = time_str.lstrip(\"0\")\n",
    "\n",
    "    # Convert the time string to an integer\n",
    "    time = int(time_str)\n",
    "\n",
    "    return time\n",
    "\n",
    "def extract_time_from_celltracking_dataset_raw_data_filename(filename):\n",
    "    \"\"\"Extracts the time from a filename in the format 't00002.tif'.\n",
    "    \n",
    "    Args:\n",
    "        filename (str): The filename to extract the time from.\n",
    "        \n",
    "    Returns:\n",
    "        int: The time extracted from the filename.\n",
    "    \"\"\"\n",
    "    # Find the position of the start of the time string\n",
    "    time_start = filename.find(\"t\") + len(\"t\")\n",
    "    \n",
    "    # Find the position of the end of the time string\n",
    "    time_end = filename.find(\".tif\")\n",
    "    \n",
    "    # Extract the time string from the filename\n",
    "    time_str = filename[time_start:time_end]\n",
    "    \n",
    "    # Remove leading zeroes from the time string\n",
    "    time_str = time_str.lstrip(\"0\")\n",
    "    \n",
    "    if time_str == \"\":\n",
    "        time_str = \"0\"\n",
    "    # Convert the time string to an integer\n",
    "    time = int(time_str)\n",
    "    \n",
    "    return time\n",
    "\n",
    "\n",
    "mask_dataset_path = Path(\n",
    "    \"../datasets/celltrackingchallenge/DIC-C2DH-HeLa/DIC-C2DH-HeLa/01_GT/SEG\"\n",
    ")\n",
    "mask_dataset = LiveCellImageDataset(mask_dataset_path, ext=\"tif\")\n",
    "time2url = dict(mask_dataset.time2url)\n",
    "time2url = {extract_time_from_celltracking_dataset_man_anno_filename(v): v for _, v in time2url.items()}\n",
    "time2url.pop(67)\n",
    "mask_dataset.update_time2url(time2url)\n",
    "dataset_dir_path = Path(\n",
    "    \"../datasets/celltrackingchallenge/DIC-C2DH-HeLa/DIC-C2DH-HeLa/01\"\n",
    ")\n"
   ]
  },
  {
   "cell_type": "code",
   "execution_count": null,
   "metadata": {},
   "outputs": [],
   "source": [
    "\n",
    "mask_times = [extract_time_from_celltracking_dataset_man_anno_filename(path) for _, path in mask_dataset.time2url.items()]\n",
    "print(mask_times)"
   ]
  },
  {
   "cell_type": "code",
   "execution_count": null,
   "metadata": {},
   "outputs": [],
   "source": [
    "mask_times"
   ]
  },
  {
   "cell_type": "markdown",
   "metadata": {},
   "source": []
  },
  {
   "cell_type": "code",
   "execution_count": null,
   "metadata": {},
   "outputs": [],
   "source": [
    "\n",
    "img_paths = sorted(glob.glob(str((Path(dataset_dir_path) / Path(\"*.tif\")))))\n",
    "\n",
    "time2url = {}\n",
    "\n",
    "# if time not in mask_times, then it means there is no ground truth for that timepoint \n",
    "for i, path in enumerate(img_paths):\n",
    "    filename = Path(path).name\n",
    "    time = extract_time_from_celltracking_dataset_raw_data_filename(filename)\n",
    "    if time not in mask_times:\n",
    "        continue\n",
    "\n",
    "    time2url[time] = path.replace(\"\\\\\", \"/\") # prevent windows paths\n",
    "\n",
    "img_dataset = LiveCellImageDataset(time2url=time2url, ext=\"tif\")"
   ]
  },
  {
   "cell_type": "code",
   "execution_count": null,
   "metadata": {},
   "outputs": [],
   "source": [
    "len(img_dataset), len(mask_dataset)"
   ]
  },
  {
   "cell_type": "code",
   "execution_count": null,
   "metadata": {},
   "outputs": [],
   "source": [
    "img_dataset.reindex_time2url_sequential()\n",
    "mask_dataset.reindex_time2url_sequential()"
   ]
  },
  {
   "cell_type": "code",
   "execution_count": null,
   "metadata": {},
   "outputs": [],
   "source": [
    "out_dir = Path(\"application_results/celltrackingchallenge/testing\")\n",
    "out_dir.mkdir(exist_ok=True, parents=True)"
   ]
  },
  {
   "cell_type": "markdown",
   "metadata": {},
   "source": [
    "Compute the features  \n",
    "Read the features in the next section if you already computed the features."
   ]
  },
  {
   "cell_type": "code",
   "execution_count": null,
   "metadata": {},
   "outputs": [],
   "source": [
    "from livecellx.core.io_sc import prep_scs_from_mask_dataset\n",
    "scs = prep_scs_from_mask_dataset(mask_dataset, img_dataset)\n",
    "print(\"Number of single cells:\", len(scs))"
   ]
  },
  {
   "cell_type": "code",
   "execution_count": null,
   "metadata": {},
   "outputs": [],
   "source": [
    "from livecellx.core.single_cell import create_sctc_from_scs\n",
    "from livecellx.core.sc_seg_operator import create_sc_seg_napari_ui\n",
    "from livecellx.core.sct_operator import create_sctc_edit_viewer_by_interval\n",
    "\n",
    "sdata = create_sctc_from_scs(scs)\n",
    "sct_operator = create_sctc_edit_viewer_by_interval(sdata, img_dataset, span_interval=1000)"
   ]
  },
  {
   "cell_type": "code",
   "execution_count": null,
   "metadata": {},
   "outputs": [],
   "source": [
    "# from livecellx.track.movie import generate_single_trajectory_movie\n",
    "\n",
    "# for track_id, traj in traj_collection:\n",
    "#     generate_single_trajectory_movie(traj, save_path= out_dir / f\"track_{track_id}.gif\")"
   ]
  },
  {
   "cell_type": "code",
   "execution_count": null,
   "metadata": {},
   "outputs": [],
   "source": [
    "from cellpose import models, utils\n",
    "from cellpose.io import imread\n",
    "model = models.Cellpose(gpu=True, model_type=\"TN1\")\n"
   ]
  },
  {
   "cell_type": "code",
   "execution_count": null,
   "metadata": {},
   "outputs": [],
   "source": [
    "\n",
    "model.sz.cp.train(train_data = images, train_labels = masks_png, batch_size=4, channels=[0, 0], n_epochs=500,  save_path=model_path)"
   ]
  }
 ],
 "metadata": {
  "kernelspec": {
   "display_name": "livecell",
   "language": "python",
   "name": "python3"
  },
  "language_info": {
   "codemirror_mode": {
    "name": "ipython",
    "version": 3
   },
   "file_extension": ".py",
   "mimetype": "text/x-python",
   "name": "python",
   "nbconvert_exporter": "python",
   "pygments_lexer": "ipython3",
   "version": "3.9.16"
  }
 },
 "nbformat": 4,
 "nbformat_minor": 2
}
