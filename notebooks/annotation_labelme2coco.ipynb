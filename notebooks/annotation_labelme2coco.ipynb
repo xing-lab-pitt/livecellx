{
 "cells": [
  {
   "cell_type": "code",
   "execution_count": 1,
   "metadata": {},
   "outputs": [],
   "source": [
    "from livecellx.annotation.labelme2coco import get_coco_from_labelme_folder\n",
    "\n",
    "labelme_folder = r\"D:\\LiveCellTracker-dev\\datasets\\cxa-high-density\\2023-12-4-fixed_CXA\\0.25^4_wellF6_RI_MIP_stitched\"\n",
    "dataset_folder_path = r\"D:\\LiveCellTracker-dev\\datasets\\cxa-high-density\\contrast_enhanced_factor=1.5_png_data\\0.25^4_wellF6_RI_MIP_stitched\"\n",
    "coco = get_coco_from_labelme_folder(labelme_folder, dataset_folder_path=dataset_folder_path, image_file_ext=\"png\")\n",
    "coco"
   ]
  },
  {
   "cell_type": "code",
   "execution_count": null,
   "metadata": {},
   "outputs": [],
   "source": [
    "type(coco), coco.getImgIds()"
   ]
  },
  {
   "cell_type": "code",
   "execution_count": null,
   "metadata": {},
   "outputs": [],
   "source": [
    "from livecellx.annotation.coco_utils import coco_to_scs\n",
    "\n",
    "scs = coco_to_scs(coco)"
   ]
  },
  {
   "cell_type": "code",
   "execution_count": null,
   "metadata": {},
   "outputs": [],
   "source": [
    "scs[0]"
   ]
  },
  {
   "cell_type": "code",
   "execution_count": null,
   "metadata": {},
   "outputs": [],
   "source": [
    "scs[0].meta"
   ]
  },
  {
   "cell_type": "code",
   "execution_count": null,
   "metadata": {},
   "outputs": [],
   "source": [
    "dataset_folder_path"
   ]
  },
  {
   "cell_type": "code",
   "execution_count": null,
   "metadata": {},
   "outputs": [],
   "source": [
    "from livecellx.core.datasets import LiveCellImageDataset\n",
    "from pathlib import Path\n",
    "\n",
    "def _get_time_from_filepath(filename: str):\n",
    "    \"\"\"{parent_dirs}/{time}.png\"\"\"\n",
    "    return int(Path(filename).name.split(\".\")[0])\n",
    "\n",
    "time2url = {int(_get_time_from_filepath(p)): p for p in Path(dataset_folder_path).glob(\"*.png\")}\n",
    "all_img_dataset = LiveCellImageDataset(time2url=time2url)"
   ]
  },
  {
   "cell_type": "code",
   "execution_count": null,
   "metadata": {},
   "outputs": [],
   "source": [
    "time2url"
   ]
  },
  {
   "cell_type": "code",
   "execution_count": null,
   "metadata": {},
   "outputs": [],
   "source": [
    "set([sc.timeframe for sc in scs])"
   ]
  },
  {
   "cell_type": "code",
   "execution_count": null,
   "metadata": {},
   "outputs": [],
   "source": []
  },
  {
   "cell_type": "code",
   "execution_count": null,
   "metadata": {},
   "outputs": [],
   "source": [
    "idx = 32\n",
    "scs[idx].img_dataset.time2url, scs[idx].timeframe, scs[idx].show_panel(padding=100)"
   ]
  },
  {
   "cell_type": "code",
   "execution_count": null,
   "metadata": {},
   "outputs": [],
   "source": [
    "all_img_dataset"
   ]
  },
  {
   "cell_type": "code",
   "execution_count": null,
   "metadata": {},
   "outputs": [],
   "source": [
    "from livecellx.core.sct_operator import create_sctc_edit_viewer_by_interval, create_sctc_from_scs\n",
    "\n",
    "def reindex_scs_times(scs):\n",
    "    \"\"\"Reindex scs timeframes to 0, 1, 2, ...\"\"\"\n",
    "    scs = [sc.copy() for sc in scs]\n",
    "    all_times = sorted(set([sc.timeframe for sc in scs]))\n",
    "    time2newtime = {t: i for i, t in enumerate(all_times)}\n",
    "    for sc in scs:\n",
    "        sc.timeframe = time2newtime[sc.timeframe]\n",
    "    return scs\n",
    "# sctc = create_sctc_from_scs(reindex_scs_times(scs))\n",
    "sctc = create_sctc_from_scs(scs)\n",
    "sct_operator = create_sctc_edit_viewer_by_interval(sctc, img_dataset=all_img_dataset, span_interval=200)"
   ]
  }
 ],
 "metadata": {
  "kernelspec": {
   "display_name": "livecell-work",
   "language": "python",
   "name": "python3"
  },
  "language_info": {
   "codemirror_mode": {
    "name": "ipython",
    "version": 3
   },
   "file_extension": ".py",
   "mimetype": "text/x-python",
   "name": "python",
   "nbconvert_exporter": "python",
   "pygments_lexer": "ipython3",
   "version": "3.9.16"
  }
 },
 "nbformat": 4,
 "nbformat_minor": 2
}
