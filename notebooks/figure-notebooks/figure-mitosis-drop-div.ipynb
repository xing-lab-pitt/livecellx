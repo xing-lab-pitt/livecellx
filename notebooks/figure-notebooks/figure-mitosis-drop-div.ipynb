{
 "cells": [
  {
   "cell_type": "code",
   "execution_count": 1,
   "metadata": {},
   "outputs": [],
   "source": [
    "import matplotlib.pyplot as plt\n",
    "from PIL import Image, ImageSequence\n",
    "import numpy as np"
   ]
  },
  {
   "cell_type": "code",
   "execution_count": 12,
   "metadata": {},
   "outputs": [
    {
     "name": "stderr",
     "output_type": "stream",
     "text": [
      "C:\\Users\\dummy\\AppData\\Local\\Temp\\ipykernel_109360\\1779290831.py:15: MatplotlibDeprecationWarning: The get_cmap function was deprecated in Matplotlib 3.7 and will be removed two minor releases later. Use ``matplotlib.colormaps[name]`` or ``matplotlib.colormaps.get_cmap(obj)`` instead.\n",
      "  inferno = plt.cm.get_cmap(\"inferno\")\n",
      "C:\\Users\\dummy\\AppData\\Local\\Temp\\ipykernel_109360\\1779290831.py:24: DeprecationWarning: ANTIALIAS is deprecated and will be removed in Pillow 10 (2023-07-01). Use Resampling.LANCZOS instead.\n",
      "  return [frame.resize((frame.width, 1), Image.ANTIALIAS) for frame in frames]\n"
     ]
    }
   ],
   "source": [
    "\n",
    "def separate_channels(gif_path):\n",
    "    # Load GIF\n",
    "    with Image.open(gif_path) as img:\n",
    "        frames = [frame.copy() for frame in ImageSequence.Iterator(img)]\n",
    "    \n",
    "    # Separate blue and yellow channels\n",
    "    blue_frames = [frame.convert('RGB').split()[2] for frame in frames]\n",
    "    yellow_frames = [(np.array(frame.convert('RGB').split()[1]) \n",
    "                      + np.array(frame.convert('RGB').split()[0])) //2 for frame in frames]\n",
    "    yellow_frames = [Image.fromarray(yellow_frame) for yellow_frame in yellow_frames]\n",
    "    \n",
    "    return blue_frames, yellow_frames\n",
    "\n",
    "def apply_inferno_colormap(frames):\n",
    "    inferno = plt.cm.get_cmap(\"inferno\")\n",
    "    np_color_frames = []\n",
    "    for frame in frames:\n",
    "        np_frame = np.array(frame)\n",
    "        np_color_frames.append(inferno(np_frame)[:, :, :3])\n",
    "    colored_frames = [Image.fromarray(np.uint8(np_color_frame * 255)) for np_color_frame in np_color_frames]\n",
    "    return colored_frames\n",
    "\n",
    "def extract_frames_as_columns(frames):\n",
    "    return [frame.resize((frame.width, 1), Image.ANTIALIAS) for frame in frames]\n",
    "\n",
    "def create_row_from_frames(frames):\n",
    "    widths, heights = zip(*(frame.size for frame in frames))\n",
    "    total_width = sum(widths)\n",
    "    max_height = max(heights)\n",
    "    combined_image = Image.new('RGB', (total_width, max_height))\n",
    "    x_offset = 0\n",
    "    for frame in frames:\n",
    "        combined_image.paste(frame, (x_offset, 0))\n",
    "        x_offset += frame.width\n",
    "    return combined_image\n",
    "\n",
    "# Paths to the GIF files\n",
    "gif_filenames = ['raw', 'mask', 'edt']\n",
    "gif_dir = \"./data/mitosis-div-sample0/\"\n",
    "gif_paths = [gif_dir + filename + '.gif' for filename in gif_filenames]\n",
    "# Process the GIF files\n",
    "final_rows = []\n",
    "for gif_path in gif_paths:\n",
    "    blue_frames, yellow_frames = separate_channels(gif_path)\n",
    "    blue_colored = apply_inferno_colormap(blue_frames)\n",
    "    yellow_colored = apply_inferno_colormap(yellow_frames)\n",
    "    blue_columns = extract_frames_as_columns(blue_colored)\n",
    "    yellow_columns = extract_frames_as_columns(yellow_colored)\n",
    "    final_rows.append(create_row_from_frames(blue_columns))\n",
    "    final_rows.append(create_row_from_frames(yellow_columns))\n",
    "\n",
    "# Combine rows to create the final image\n",
    "final_width = max(row.width for row in final_rows)\n",
    "final_height = sum(row.height for row in final_rows)\n",
    "final_image = Image.new('RGB', (final_width, final_height))\n",
    "y_offset = 0\n",
    "for row in final_rows:\n",
    "    final_image.paste(row, (0, y_offset))\n",
    "    y_offset += row.height\n",
    "\n",
    "# Save the final image\n",
    "final_image.save('final_image.png')\n",
    "\n",
    "# Optionally, display the final image\n",
    "final_image.show()"
   ]
  }
 ],
 "metadata": {
  "kernelspec": {
   "display_name": "livecell-work",
   "language": "python",
   "name": "python3"
  },
  "language_info": {
   "codemirror_mode": {
    "name": "ipython",
    "version": 3
   },
   "file_extension": ".py",
   "mimetype": "text/x-python",
   "name": "python",
   "nbconvert_exporter": "python",
   "pygments_lexer": "ipython3",
   "version": "3.9.16"
  }
 },
 "nbformat": 4,
 "nbformat_minor": 2
}
