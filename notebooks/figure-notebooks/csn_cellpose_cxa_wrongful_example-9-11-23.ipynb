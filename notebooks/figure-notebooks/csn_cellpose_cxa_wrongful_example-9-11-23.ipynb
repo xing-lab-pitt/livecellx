{
 "cells": [
  {
   "cell_type": "code",
   "execution_count": 2,
   "metadata": {},
   "outputs": [],
   "source": [
    "import numpy as np\n",
    "import matplotlib.pyplot as plt\n",
    "import os\n",
    "from cellpose import models, io, utils\n",
    "\n",
    "# Load image\n",
    "img_path = 'data/example-CXA-wrongfull-comparison.png'\n",
    "img = io.imread(img_path)\n",
    "\n",
    "# Define the model\n",
    "model = models.Cellpose(gpu=True, model_type='cyto')\n",
    "\n",
    "# Get masks, flows, etc.\n",
    "masks, flows, styles, diams = model.eval(img, diameter=None, flow_threshold=None)\n"
   ]
  },
  {
   "cell_type": "code",
   "execution_count": 4,
   "metadata": {},
   "outputs": [],
   "source": [
    "# Define the results directory and ensure it exists\n",
    "results_dir = 'results/cellpose_wrongful'\n",
    "if not os.path.exists(results_dir):\n",
    "    os.makedirs(results_dir)\n",
    "\n",
    "# Define filenames\n",
    "base_filename = os.path.basename(img_path).replace('.png', '')\n",
    "original_save_path = os.path.join(results_dir, f'{base_filename}_original.png')\n",
    "mask_save_path = os.path.join(results_dir, f'{base_filename}_mask.png')\n",
    "outline_save_path = os.path.join(results_dir, f'{base_filename}_outlines.png')\n",
    "cellpose_save_path = os.path.join(results_dir, f'{base_filename}_cellpose.png')\n",
    "\n",
    "# Save original image\n",
    "io.imsave(original_save_path, img)\n",
    "\n",
    "# Save predicted mask\n",
    "io.imsave(mask_save_path, masks)\n",
    "\n",
    "# Get and save predicted outlines\n",
    "outlines = utils.masks_to_outlines(masks)\n",
    "outline_img = np.zeros_like(img)\n",
    "outline_img[outlines] = [0, 255, 0]\n",
    "io.imsave(outline_save_path, outline_img)\n",
    "\n",
    "# Save visualization of the cell pose\n",
    "dpi = 100\n",
    "fig = plt.figure(figsize=(img.shape[1]/dpi, img.shape[0]/dpi), dpi=dpi)\n",
    "plt.imshow(img)\n",
    "plt.imshow(masks, alpha=0.5)\n",
    "plt.axis('off')\n",
    "plt.subplots_adjust(left=0, right=1, top=1, bottom=0)\n",
    "plt.savefig(cellpose_save_path, dpi=dpi, bbox_inches='tight', pad_inches=0)\n",
    "plt.close(fig)"
   ]
  }
 ],
 "metadata": {
  "kernelspec": {
   "display_name": "livecell",
   "language": "python",
   "name": "python3"
  },
  "language_info": {
   "codemirror_mode": {
    "name": "ipython",
    "version": 3
   },
   "file_extension": ".py",
   "mimetype": "text/x-python",
   "name": "python",
   "nbconvert_exporter": "python",
   "pygments_lexer": "ipython3",
   "version": "3.9.16"
  },
  "orig_nbformat": 4
 },
 "nbformat": 4,
 "nbformat_minor": 2
}
