{
 "cells": [
  {
   "cell_type": "markdown",
   "metadata": {},
   "source": [
    "# Check detection annotation results"
   ]
  },
  {
   "cell_type": "code",
   "execution_count": 1,
   "metadata": {},
   "outputs": [],
   "source": [
    "from pathlib import Path\n",
    "import os.path"
   ]
  },
  {
   "cell_type": "code",
   "execution_count": 9,
   "metadata": {},
   "outputs": [
    {
     "name": "stdout",
     "output_type": "stream",
     "text": [
      "{'mitosis': [[SingleCellStatic(id=52038fa9-d237-44a4-a293-020feb739fe3, timeframe=139, bbox=[738.   0. 905. 123.]), SingleCellStatic(id=f418cded-5f5b-4e8e-b13a-4a7e3d57eeeb, timeframe=140, bbox=[741.   0. 897. 108.]), SingleCellStatic(id=a06850c8-b6e4-4c70-a625-9f55a873a729, timeframe=141, bbox=[748.   0. 886.  89.]), SingleCellStatic(id=05417f26-18ae-4c40-b6b1-eea56774e153, timeframe=142, bbox=[750.   0. 875.  84.]), SingleCellStatic(id=8f356ea3-0d57-4af0-851f-a6aa686a18ed, timeframe=143, bbox=[751.   0. 873. 107.]), SingleCellStatic(id=964e8ba2-42ba-428d-a78b-3b784f9a96e6, timeframe=144, bbox=[756.  13. 872. 127.]), SingleCellStatic(id=d87c40c5-9b32-4591-b789-19407af77aaa, timeframe=145, bbox=[750.   4. 870. 119.]), SingleCellStatic(id=b5060971-14e8-4890-acd4-dc59281009c8, timeframe=146, bbox=[745.   4. 865. 118.]), SingleCellStatic(id=68c1abde-e821-44da-b6d4-6e69d3c9f57f, timeframe=147, bbox=[747.   2. 864. 112.]), SingleCellStatic(id=9e7f99fd-adc3-479e-b3c1-7326648f31f5, timeframe=148, bbox=[746.   7. 868. 109.]), SingleCellStatic(id=42038955-6495-4429-974e-b7ff806519f9, timeframe=149, bbox=[740.  13. 813.  99.]), SingleCellStatic(id=b09dc32e-331b-49ca-bc10-7483ca239bda, timeframe=149, bbox=[812.   3. 890.  93.]), SingleCellStatic(id=ccc490ba-2276-416a-9edf-0eea94ae9be0, timeframe=150, bbox=[734.   4. 822. 100.]), SingleCellStatic(id=6b40f9d2-2a9d-4feb-8eda-1c0a25cfe655, timeframe=150, bbox=[815.  10. 899. 108.])]], 'apoptosis': [], 'normal': []}\n",
      "Loaded 1 annotated samples from ..\\datasets\\mitosis-annotations-2023\\shiman_CXA_high_density\\C10^3\\mitosis\n",
      "Loaded 0 annotated samples from ..\\datasets\\mitosis-annotations-2023\\shiman_CXA_high_density\\C10^3\\apoptosis\n",
      "Loaded 0 annotated samples from ..\\datasets\\mitosis-annotations-2023\\shiman_CXA_high_density\\C10^3\\normal\n"
     ]
    }
   ],
   "source": [
    "from livecellx.track.classify_utils import load_class2samples_from_json_dir, load_all_json_dirs\n",
    "# sample_json_dir = Path(\"./EBSS_starvation_24h_xy16_annotation\")\n",
    "\n",
    "# sample_json_dirs = [Path(r\"./datasets/test_scs_EBSS_starvation/XY1/annotations\"), Path(r\"./datasets/test_scs_EBSS_starvation/XY16/annotations\")]\n",
    "# sample_json_dirs = [Path(r\"D:\\LiveCellTracker-dev\\datasets\\shiman_XY09\\XY09\")]\n",
    "# sample_json_dirs = [Path(r\"D:\\LiveCellTracker-dev\\datasets\\mitosis-annotations-2023\\Yajushi\\tifs_CFP_A549-VIM_lessThan24hr_NoTreat_NA_YL_Ti2e_2022-10-19\\XY1\\annotations\")]\n",
    "# sample_json_dirs = [Path(r\"D:\\LiveCellTracker-dev\\datasets\\mitosis-annotations-2023\\shiman_XY10\\XY10\")]\n",
    "# sample_json_dirs = [Path(r\"../datasets/mitosis-annotations-2023/shiman_CXA_high_density/C0.5^4/\")]\n",
    "# sample_json_dirs = [Path(r\"../datasets/mitosis-annotations-2023/shiman_CXA_high_density/C0.75^4/\")]\n",
    "sample_json_dirs = [Path(r\"../datasets/mitosis-annotations-2023/shiman_CXA_high_density/C10^3/\")]\n",
    "# sample_json_dirs = [Path(r\"../datasets/mitosis-annotations-2023/shiman_CXA_high_density/C10^4/\")]\n",
    "all_class2samples, all_class2sample_extra_info = load_all_json_dirs(sample_json_dirs)"
   ]
  },
  {
   "cell_type": "code",
   "execution_count": 3,
   "metadata": {},
   "outputs": [
    {
     "data": {
      "text/plain": [
       "9"
      ]
     },
     "execution_count": 3,
     "metadata": {},
     "output_type": "execute_result"
    }
   ],
   "source": [
    "len(all_class2samples[\"mitosis\"])"
   ]
  },
  {
   "cell_type": "code",
   "execution_count": 10,
   "metadata": {},
   "outputs": [
    {
     "name": "stdout",
     "output_type": "stream",
     "text": [
      "|-----> A new SCTC object with size 14 is created by subsetting the original sctc with time span (0, 100000)\n"
     ]
    }
   ],
   "source": [
    "from livecellx.core.sct_operator import create_scs_edit_viewer, SctOperator, create_scs_edit_viewer_by_interval, _get_viewer_sct_operator\n",
    "from livecellx.core.single_cell import create_sctc_from_scs, filter_sctc_by_time_span\n",
    "\n",
    "img_dataset = all_class2samples[\"mitosis\"][0][0].img_dataset\n",
    "all_scs = []\n",
    "for sample in all_class2samples[\"mitosis\"]:\n",
    "    all_scs.extend(set(sample))\n",
    "viewer = create_scs_edit_viewer_by_interval(all_scs, img_dataset=img_dataset, span_interval = 100000, viewer = None, contour_sample_num=100)"
   ]
  }
 ],
 "metadata": {
  "kernelspec": {
   "display_name": "livecell-work",
   "language": "python",
   "name": "python3"
  },
  "language_info": {
   "codemirror_mode": {
    "name": "ipython",
    "version": 3
   },
   "file_extension": ".py",
   "mimetype": "text/x-python",
   "name": "python",
   "nbconvert_exporter": "python",
   "pygments_lexer": "ipython3",
   "version": "3.9.16"
  },
  "orig_nbformat": 4
 },
 "nbformat": 4,
 "nbformat_minor": 2
}
