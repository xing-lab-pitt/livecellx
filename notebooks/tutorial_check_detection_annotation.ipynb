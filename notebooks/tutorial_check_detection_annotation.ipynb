{
 "cells": [
  {
   "cell_type": "markdown",
   "metadata": {},
   "source": [
    "# Check detection annotation results"
   ]
  },
  {
   "cell_type": "code",
   "execution_count": null,
   "metadata": {},
   "outputs": [],
   "source": [
    "from pathlib import Path\n",
    "import os.path"
   ]
  },
  {
   "cell_type": "code",
   "execution_count": null,
   "metadata": {},
   "outputs": [],
   "source": [
    "from livecellx.track.classify_utils import load_class2samples_from_json_dir, load_all_json_dirs\n",
    "# sample_json_dir = Path(\"./EBSS_starvation_24h_xy16_annotation\")\n",
    "\n",
    "# sample_json_dirs = [Path(r\"./datasets/test_scs_EBSS_starvation/XY1/annotations\"), Path(r\"./datasets/test_scs_EBSS_starvation/XY16/annotations\")]\n",
    "# sample_json_dirs = [Path(r\"D:\\LiveCellTracker-dev\\datasets\\shiman_XY09\\XY09\")]\n",
    "# sample_json_dirs = [Path(r\"D:\\LiveCellTracker-dev\\datasets\\mitosis-annotations-2023\\Yajushi\\tifs_CFP_A549-VIM_lessThan24hr_NoTreat_NA_YL_Ti2e_2022-10-19\\XY1\\annotations\")]\n",
    "sample_json_dirs = [Path(r\"D:\\LiveCellTracker-dev\\datasets\\mitosis-annotations-2023\\shiman_XY10\\XY10\")]\n",
    "all_class2samples, all_class2sample_extra_info = load_all_json_dirs(sample_json_dirs)"
   ]
  },
  {
   "cell_type": "code",
   "execution_count": null,
   "metadata": {},
   "outputs": [],
   "source": [
    "len(all_class2samples[\"mitosis\"])"
   ]
  },
  {
   "cell_type": "code",
   "execution_count": null,
   "metadata": {},
   "outputs": [],
   "source": [
    "from livecellx.core.sct_operator import create_scs_edit_viewer, SctOperator, create_scs_edit_viewer_by_interval, _get_viewer_sct_operator\n",
    "from livecellx.core.single_cell import create_sctc_from_scs, filter_sctc_by_time_span\n",
    "\n",
    "img_dataset = all_class2samples[\"mitosis\"][0][0].img_dataset\n",
    "all_scs = []\n",
    "for sample in all_class2samples[\"mitosis\"]:\n",
    "    all_scs.extend(set(sample))\n",
    "viewer = create_scs_edit_viewer_by_interval(all_scs, img_dataset=img_dataset, span_interval = 100000, viewer = None)"
   ]
  }
 ],
 "metadata": {
  "kernelspec": {
   "display_name": "livecell-work",
   "language": "python",
   "name": "python3"
  },
  "language_info": {
   "codemirror_mode": {
    "name": "ipython",
    "version": 3
   },
   "file_extension": ".py",
   "mimetype": "text/x-python",
   "name": "python",
   "nbconvert_exporter": "python",
   "pygments_lexer": "ipython3",
   "version": "3.9.16"
  },
  "orig_nbformat": 4
 },
 "nbformat": 4,
 "nbformat_minor": 2
}
