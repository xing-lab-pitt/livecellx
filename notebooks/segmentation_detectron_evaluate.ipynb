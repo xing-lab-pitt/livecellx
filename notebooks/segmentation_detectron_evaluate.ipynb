{
 "cells": [
  {
   "cell_type": "markdown",
   "metadata": {},
   "source": [
    "## Evaluation"
   ]
  },
  {
   "cell_type": "code",
   "execution_count": 1,
   "metadata": {},
   "outputs": [
    {
     "name": "stdout",
     "output_type": "stream",
     "text": [
      "120 png img file paths loaded: \n"
     ]
    }
   ],
   "source": [
    "import numpy as np\n",
    "import matplotlib.pyplot as plt\n",
    "from cellpose import models\n",
    "from cellpose.io import imread\n",
    "import glob\n",
    "from pathlib import Path\n",
    "from PIL import Image, ImageSequence\n",
    "from tqdm import tqdm\n",
    "import os\n",
    "import os.path\n",
    "import livecell_tracker.core.datasets\n",
    "from livecell_tracker.segment.detectron_utils import gen_cfg\n",
    "\n",
    "dir_path = Path('../cxa-data/june_2022_data_8bit_png/day0_Notreat_Group 1_wellA1_RI_MIP_stitched')\n",
    "# imgs = livecell_tracker.core.datasets.LiveCellImageDataset(dir_path, ext=\"tif\")\n",
    "imgs = livecell_tracker.core.datasets.LiveCellImageDataset(dir_path, ext=\"png\")\n",
    "model_train_dir = os.path.join(\"./notebook_results/train_log/\", \"detectron_train_output__ver0.0.2\")"
   ]
  },
  {
   "cell_type": "code",
   "execution_count": 2,
   "metadata": {},
   "outputs": [],
   "source": [
    "from detectron2.config import get_cfg\n",
    "from detectron2.engine import DefaultPredictor\n",
    "from detectron2.data import build_detection_test_loader\n",
    "from detectron2.data.datasets import register_coco_instances\n",
    "from detectron2.evaluation import COCOEvaluator, inference_on_dataset"
   ]
  },
  {
   "cell_type": "code",
   "execution_count": 3,
   "metadata": {},
   "outputs": [],
   "source": [
    "from detectron2.data.datasets import register_coco_instances\n",
    "\n",
    "train_data_path = r\"\"\".\"\"\"\n",
    "train_json_path = r\"\"\"./notebook_results/labelme2coco_test_output_8bit_png__ver0.0.2/train.json\"\"\"\n",
    "\n",
    "val_data_path = r\"\"\".\"\"\"\n",
    "val_json_path = r\"\"\"./notebook_results/labelme2coco_test_output_8bit_png__ver0.0.2/val.json\"\"\"\n",
    "\n",
    "register_coco_instances(\"deepfashion_train\", {}, train_json_path, train_data_path)\n",
    "register_coco_instances(\"deepfashion_val\", {}, val_json_path, val_data_path)\n",
    "register_coco_instances(\"nanolive_train_raw\", {}, r\"./notebook_results/labelme2coco_test_output/train.json\", \".\")"
   ]
  },
  {
   "cell_type": "code",
   "execution_count": 4,
   "metadata": {},
   "outputs": [
    {
     "name": "stderr",
     "output_type": "stream",
     "text": [
      "\n",
      "Category ids in annotations are not in [1, #categories]! We'll apply a mapping for you.\n",
      "\n"
     ]
    },
    {
     "data": {
      "text/plain": [
       "56"
      ]
     },
     "execution_count": 4,
     "metadata": {},
     "output_type": "execute_result"
    }
   ],
   "source": [
    "import detectron2\n",
    "# len(detectron2.data.DatasetCatalog.get(\"deepfashion_train\"))\n",
    "# len(detectron2.data.DatasetCatalog.get(\"deepfashion_val\"))\n",
    "# detectron2.data.MetadataCatalog.get(\"nanolive_train_raw\")\n",
    "len(detectron2.data.DatasetCatalog.get(\"nanolive_train_raw\"))"
   ]
  },
  {
   "cell_type": "code",
   "execution_count": 5,
   "metadata": {},
   "outputs": [],
   "source": [
    "def detectron_predict_single_img(img):\n",
    "    outputs = predictor(img)\n",
    "    return outputs\n",
    "\n",
    "def detectron_predict_and_visualize_img(img):\n",
    "    outputs = detectron_predict_single_img(img)\n",
    "    v = Visualizer(img[:, :, ::-1], MetadataCatalog.get(cfg.DATASETS.TRAIN[0]), scale=1.2)\n",
    "    v = v.draw_instance_predictions(outputs[\"instances\"].to(\"cpu\"))\n",
    "    figure = plt.figure(figsize=(20, 20), dpi=80)\n",
    "    plt.imshow(v.get_image()[:, :, ::-1])"
   ]
  },
  {
   "cell_type": "code",
   "execution_count": 6,
   "metadata": {},
   "outputs": [],
   "source": [
    "from detectron2.config import get_cfg\n",
    "from detectron2.engine import DefaultPredictor\n",
    "from detectron2.data import build_detection_test_loader\n",
    "from detectron2.data.datasets import register_coco_instances\n",
    "from detectron2.evaluation import COCOEvaluator, inference_on_dataset\n",
    "#Call the COCO Evaluator function and pass the Validation Dataset\n",
    "def eval_by_detectron(model, eval_dataset_name: str, cfg):\n",
    "    evaluator = COCOEvaluator(eval_dataset_name, cfg, False, output_dir=\"./output/\")\n",
    "    val_loader = build_detection_test_loader(cfg, eval_dataset_name)\n",
    "    #Use the created predicted model in the previous step\n",
    "    return inference_on_dataset(model, val_loader, evaluator)"
   ]
  },
  {
   "cell_type": "markdown",
   "metadata": {},
   "source": [
    "### detectron model3 on updated annotation results"
   ]
  },
  {
   "cell_type": "code",
   "execution_count": 7,
   "metadata": {},
   "outputs": [
    {
     "name": "stderr",
     "output_type": "stream",
     "text": [
      "COCO Evaluator instantiated using config, this is deprecated behavior. Please pass in explicit arguments instead.\n",
      "\n",
      "Category ids in annotations are not in [1, #categories]! We'll apply a mapping for you.\n",
      "\n",
      "c:\\Users\\dummy\\Anaconda3\\envs\\cv-general\\lib\\site-packages\\torch\\functional.py:445: UserWarning: torch.meshgrid: in an upcoming release, it will be required to pass the indexing argument. (Triggered internally at  ..\\aten\\src\\ATen\\native\\TensorShape.cpp:2157.)\n",
      "  return _VF.meshgrid(tensors, **kwargs)  # type: ignore[attr-defined]\n",
      "No predictions from the model!\n"
     ]
    },
    {
     "data": {
      "text/plain": [
       "OrderedDict([('bbox',\n",
       "              {'AP': nan,\n",
       "               'AP50': nan,\n",
       "               'AP75': nan,\n",
       "               'APs': nan,\n",
       "               'APm': nan,\n",
       "               'APl': nan})])"
      ]
     },
     "execution_count": 7,
     "metadata": {},
     "output_type": "execute_result"
    }
   ],
   "source": [
    "cfg = gen_cfg(output_dir=r\"./notebook_results/train_log/detectron_run3_output\")\n",
    "predictor = DefaultPredictor(cfg)\n",
    "eval_dataset_name = \"nanolive_train_raw\"\n",
    "# eval_dataset_name = \"nanolive_train_raw\"\n",
    "model = predictor.model\n",
    "eval_by_detectron(model, eval_dataset_name, cfg)"
   ]
  },
  {
   "cell_type": "code",
   "execution_count": 8,
   "metadata": {},
   "outputs": [
    {
     "name": "stderr",
     "output_type": "stream",
     "text": [
      "COCO Evaluator instantiated using config, this is deprecated behavior. Please pass in explicit arguments instead.\n",
      "\n",
      "Category ids in annotations are not in [1, #categories]! We'll apply a mapping for you.\n",
      "\n"
     ]
    },
    {
     "name": "stdout",
     "output_type": "stream",
     "text": [
      "Loading and preparing results...\n",
      "DONE (t=0.00s)\n",
      "creating index...\n",
      "index created!\n",
      " Average Precision  (AP) @[ IoU=0.50:0.95 | area=   all | maxDets=100 ] = 0.000\n",
      " Average Precision  (AP) @[ IoU=0.50      | area=   all | maxDets=100 ] = 0.000\n",
      " Average Precision  (AP) @[ IoU=0.75      | area=   all | maxDets=100 ] = 0.000\n",
      " Average Precision  (AP) @[ IoU=0.50:0.95 | area= small | maxDets=100 ] = 0.000\n",
      " Average Precision  (AP) @[ IoU=0.50:0.95 | area=medium | maxDets=100 ] = 0.000\n",
      " Average Precision  (AP) @[ IoU=0.50:0.95 | area= large | maxDets=100 ] = 0.000\n",
      " Average Recall     (AR) @[ IoU=0.50:0.95 | area=   all | maxDets=  1 ] = 0.000\n",
      " Average Recall     (AR) @[ IoU=0.50:0.95 | area=   all | maxDets= 10 ] = 0.000\n",
      " Average Recall     (AR) @[ IoU=0.50:0.95 | area=   all | maxDets=100 ] = 0.000\n",
      " Average Recall     (AR) @[ IoU=0.50:0.95 | area= small | maxDets=100 ] = 0.000\n",
      " Average Recall     (AR) @[ IoU=0.50:0.95 | area=medium | maxDets=100 ] = 0.000\n",
      " Average Recall     (AR) @[ IoU=0.50:0.95 | area= large | maxDets=100 ] = 0.000\n",
      "Loading and preparing results...\n",
      "DONE (t=0.01s)\n",
      "creating index...\n",
      "index created!\n",
      " Average Precision  (AP) @[ IoU=0.50:0.95 | area=   all | maxDets=100 ] = 0.000\n",
      " Average Precision  (AP) @[ IoU=0.50      | area=   all | maxDets=100 ] = 0.000\n",
      " Average Precision  (AP) @[ IoU=0.75      | area=   all | maxDets=100 ] = 0.000\n",
      " Average Precision  (AP) @[ IoU=0.50:0.95 | area= small | maxDets=100 ] = 0.000\n",
      " Average Precision  (AP) @[ IoU=0.50:0.95 | area=medium | maxDets=100 ] = 0.000\n",
      " Average Precision  (AP) @[ IoU=0.50:0.95 | area= large | maxDets=100 ] = 0.000\n",
      " Average Recall     (AR) @[ IoU=0.50:0.95 | area=   all | maxDets=  1 ] = 0.000\n",
      " Average Recall     (AR) @[ IoU=0.50:0.95 | area=   all | maxDets= 10 ] = 0.000\n",
      " Average Recall     (AR) @[ IoU=0.50:0.95 | area=   all | maxDets=100 ] = 0.000\n",
      " Average Recall     (AR) @[ IoU=0.50:0.95 | area= small | maxDets=100 ] = 0.000\n",
      " Average Recall     (AR) @[ IoU=0.50:0.95 | area=medium | maxDets=100 ] = 0.001\n",
      " Average Recall     (AR) @[ IoU=0.50:0.95 | area= large | maxDets=100 ] = 0.000\n"
     ]
    },
    {
     "data": {
      "text/plain": [
       "OrderedDict([('bbox',\n",
       "              {'AP': 0.0001712974065572647,\n",
       "               'AP50': 0.0008564870327863236,\n",
       "               'AP75': 0.0,\n",
       "               'APs': 0.0,\n",
       "               'APm': 0.00017554946984060107,\n",
       "               'APl': 0.0,\n",
       "               'AP-nucleus': 0.0,\n",
       "               'AP-cellbody-with-protrusion': 0.0006851896262290588,\n",
       "               'AP-apoptotic-cell': 0.0,\n",
       "               'AP-mitotic-cell': 0.0}),\n",
       "             ('segm',\n",
       "              {'AP': 0.0005617884154806049,\n",
       "               'AP50': 0.0024201876440733544,\n",
       "               'AP75': 0.0,\n",
       "               'APs': 0.0,\n",
       "               'APm': 0.006967042858131969,\n",
       "               'APl': 0.0,\n",
       "               'AP-nucleus': 0.0005341795963497728,\n",
       "               'AP-cellbody-with-protrusion': 0.0017129740655726473,\n",
       "               'AP-apoptotic-cell': 0.0,\n",
       "               'AP-mitotic-cell': 0.0})])"
      ]
     },
     "execution_count": 8,
     "metadata": {},
     "output_type": "execute_result"
    }
   ],
   "source": [
    "cfg = gen_cfg(output_dir=r\"./notebook_results/train_log/detectron_run3_output\")\n",
    "predictor = DefaultPredictor(cfg)\n",
    "eval_dataset_name = \"deepfashion_train\"\n",
    "# eval_dataset_name = \"nanolive_train_raw\"\n",
    "model = predictor.model\n",
    "eval_by_detectron(model, eval_dataset_name, cfg)"
   ]
  },
  {
   "cell_type": "markdown",
   "metadata": {},
   "source": [
    "### latest detectron model on updated annotation results"
   ]
  },
  {
   "cell_type": "code",
   "execution_count": 9,
   "metadata": {},
   "outputs": [
    {
     "name": "stderr",
     "output_type": "stream",
     "text": [
      "COCO Evaluator instantiated using config, this is deprecated behavior. Please pass in explicit arguments instead.\n",
      "\n",
      "Category ids in annotations are not in [1, #categories]! We'll apply a mapping for you.\n",
      "\n"
     ]
    },
    {
     "name": "stdout",
     "output_type": "stream",
     "text": [
      "Loading and preparing results...\n",
      "DONE (t=0.00s)\n",
      "creating index...\n",
      "index created!\n",
      " Average Precision  (AP) @[ IoU=0.50:0.95 | area=   all | maxDets=100 ] = 0.140\n",
      " Average Precision  (AP) @[ IoU=0.50      | area=   all | maxDets=100 ] = 0.266\n",
      " Average Precision  (AP) @[ IoU=0.75      | area=   all | maxDets=100 ] = 0.131\n",
      " Average Precision  (AP) @[ IoU=0.50:0.95 | area= small | maxDets=100 ] = 0.012\n",
      " Average Precision  (AP) @[ IoU=0.50:0.95 | area=medium | maxDets=100 ] = 0.101\n",
      " Average Precision  (AP) @[ IoU=0.50:0.95 | area= large | maxDets=100 ] = 0.204\n",
      " Average Recall     (AR) @[ IoU=0.50:0.95 | area=   all | maxDets=  1 ] = 0.013\n",
      " Average Recall     (AR) @[ IoU=0.50:0.95 | area=   all | maxDets= 10 ] = 0.107\n",
      " Average Recall     (AR) @[ IoU=0.50:0.95 | area=   all | maxDets=100 ] = 0.170\n",
      " Average Recall     (AR) @[ IoU=0.50:0.95 | area= small | maxDets=100 ] = 0.010\n",
      " Average Recall     (AR) @[ IoU=0.50:0.95 | area=medium | maxDets=100 ] = 0.113\n",
      " Average Recall     (AR) @[ IoU=0.50:0.95 | area= large | maxDets=100 ] = 0.274\n",
      "Loading and preparing results...\n",
      "DONE (t=0.02s)\n",
      "creating index...\n",
      "index created!\n",
      " Average Precision  (AP) @[ IoU=0.50:0.95 | area=   all | maxDets=100 ] = 0.129\n",
      " Average Precision  (AP) @[ IoU=0.50      | area=   all | maxDets=100 ] = 0.250\n",
      " Average Precision  (AP) @[ IoU=0.75      | area=   all | maxDets=100 ] = 0.122\n",
      " Average Precision  (AP) @[ IoU=0.50:0.95 | area= small | maxDets=100 ] = 0.012\n",
      " Average Precision  (AP) @[ IoU=0.50:0.95 | area=medium | maxDets=100 ] = 0.088\n",
      " Average Precision  (AP) @[ IoU=0.50:0.95 | area= large | maxDets=100 ] = 0.222\n",
      " Average Recall     (AR) @[ IoU=0.50:0.95 | area=   all | maxDets=  1 ] = 0.012\n",
      " Average Recall     (AR) @[ IoU=0.50:0.95 | area=   all | maxDets= 10 ] = 0.101\n",
      " Average Recall     (AR) @[ IoU=0.50:0.95 | area=   all | maxDets=100 ] = 0.158\n",
      " Average Recall     (AR) @[ IoU=0.50:0.95 | area= small | maxDets=100 ] = 0.010\n",
      " Average Recall     (AR) @[ IoU=0.50:0.95 | area=medium | maxDets=100 ] = 0.110\n",
      " Average Recall     (AR) @[ IoU=0.50:0.95 | area= large | maxDets=100 ] = 0.262\n"
     ]
    },
    {
     "data": {
      "text/plain": [
       "OrderedDict([('bbox',\n",
       "              {'AP': 13.959243502448931,\n",
       "               'AP50': 26.55613606493517,\n",
       "               'AP75': 13.064345165621564,\n",
       "               'APs': 1.188118811881188,\n",
       "               'APm': 10.067298117285146,\n",
       "               'APl': 20.37967434917972,\n",
       "               'AP-nucleus': 11.38204314694953,\n",
       "               'AP-cellbody-with-protrusion': 44.454930862846204,\n",
       "               'AP-apoptotic-cell': 0.0,\n",
       "               'AP-mitotic-cell': 0.0}),\n",
       "             ('segm',\n",
       "              {'AP': 12.8516977504464,\n",
       "               'AP50': 24.97970669054998,\n",
       "               'AP75': 12.233597699190009,\n",
       "               'APs': 1.188118811881188,\n",
       "               'APm': 8.776137977672734,\n",
       "               'APl': 22.15411609400595,\n",
       "               'AP-nucleus': 9.560601362158778,\n",
       "               'AP-cellbody-with-protrusion': 41.84618963962681,\n",
       "               'AP-apoptotic-cell': 0.0,\n",
       "               'AP-mitotic-cell': 0.0})])"
      ]
     },
     "execution_count": 9,
     "metadata": {},
     "output_type": "execute_result"
    }
   ],
   "source": [
    "cfg = gen_cfg(output_dir=model_train_dir)\n",
    "predictor = DefaultPredictor(cfg)\n",
    "\n",
    "eval_dataset_name = \"deepfashion_train\"\n",
    "model = predictor.model\n",
    "eval_by_detectron(model, eval_dataset_name, cfg)"
   ]
  }
 ],
 "metadata": {
  "kernelspec": {
   "display_name": "Python 3.8.13 ('cv-general')",
   "language": "python",
   "name": "python3"
  },
  "language_info": {
   "codemirror_mode": {
    "name": "ipython",
    "version": 3
   },
   "file_extension": ".py",
   "mimetype": "text/x-python",
   "name": "python",
   "nbconvert_exporter": "python",
   "pygments_lexer": "ipython3",
   "version": "3.8.13"
  },
  "orig_nbformat": 4,
  "vscode": {
   "interpreter": {
    "hash": "b5dfbec2055422cee39dc040b31dfffa8b21a342109231ab17bc6ff9949c7133"
   }
  }
 },
 "nbformat": 4,
 "nbformat_minor": 2
}
