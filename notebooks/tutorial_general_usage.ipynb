{
 "cells": [
  {
   "cell_type": "code",
   "execution_count": null,
   "metadata": {},
   "outputs": [],
   "source": [
    "import numpy as np\n",
    "import matplotlib.pyplot as plt\n",
    "from cellpose import models\n",
    "from cellpose.io import imread\n",
    "import glob\n",
    "from pathlib import Path\n",
    "from PIL import Image, ImageSequence\n",
    "from tqdm import tqdm\n",
    "import os\n",
    "import os.path\n",
    "# from livecell_tracker import segment\n",
    "from livecell_tracker import core\n",
    "from livecell_tracker.core import datasets\n",
    "from livecell_tracker.core.datasets import LiveCellImageDataset, SingleImageDataset\n",
    "from skimage import measure\n",
    "from livecell_tracker.core import SingleCellTrajectory, SingleCellStatic\n",
    "# import detectron2\n",
    "# from detectron2.utils.logger import setup_logger\n",
    "\n",
    "# setup_logger()\n",
    "\n",
    "# import some common libraries\n",
    "import numpy as np\n",
    "import os, json, cv2, random\n",
    "import cv2\n",
    "\n",
    "# import some common detectron2 utilities\n",
    "# from detectron2 import model_zoo\n",
    "# from detectron2.engine import DefaultPredictor\n",
    "# from detectron2.config import get_cfg\n",
    "# from detectron2.utils.visualizer import Visualizer\n",
    "# from detectron2.data import MetadataCatalog, DatasetCatalog\n",
    "# from livecell_tracker.segment.detectron_utils import gen_cfg\n",
    "\n",
    "# from livecell_tracker.segment.detectron_utils import (\n",
    "#     segment_detectron_wrapper,\n",
    "#     segment_images_by_detectron,\n",
    "#     convert_detectron_instance_pred_masks_to_binary_masks,\n",
    "#     convert_detectron_instances_to_label_masks,\n",
    "# )\n",
    "# from livecell_tracker.segment.detectron_utils import (\n",
    "#     convert_detectron_instance_pred_masks_to_binary_masks,\n",
    "#     convert_detectron_instances_to_label_masks,\n",
    "#     segment_images_by_detectron,\n",
    "#     segment_single_img_by_detectron_wrapper,\n",
    "# )\n"
   ]
  },
  {
   "attachments": {},
   "cell_type": "markdown",
   "metadata": {},
   "source": [
    "## Loading single cells from existing mask files"
   ]
  },
  {
   "attachments": {},
   "cell_type": "markdown",
   "metadata": {},
   "source": [
    "```LiveCellImageDataset, SingleCellImageDataset``` from livecell_tracker.core.datasets allow users to load images with ease, without reading directly into memories.  \n",
    "In `mask_dataset_path` please make sure that the sorted (alphabetically) file names correspond to the order of times.\n",
    " Note that the sorted mechanism provided is simply sort the url (file name) list according to string value. Please note that without proper left trailing zeroes, the order of final times may be incorrect. E.g. string  `T10` (10th file) is less than string `T2`. If you have your customized file patterns, please provide `LiveCellImageDataset` with a `time2url` dictionary to provide necessary time information mapped to file locations for reading time-lapsed data.\n",
    "`SingleCellImageDataset` takes a single image from the memory and makes it a single time point dataset, which can be handy when you would like to process imaging datasets. "
   ]
  },
  {
   "cell_type": "code",
   "execution_count": null,
   "metadata": {},
   "outputs": [],
   "source": [
    "dataset_dir_path = Path(\n",
    "    \"../datasets/test_data_STAV-A549/DIC_data\"\n",
    ")\n",
    "\n",
    "mask_dataset_path = Path(\"../datasets/test_data_STAV-A549/mask_data\")"
   ]
  },
  {
   "cell_type": "code",
   "execution_count": null,
   "metadata": {},
   "outputs": [],
   "source": [
    "mask_dataset = LiveCellImageDataset(mask_dataset_path, ext=\"png\")\n",
    "mask_dataset.time2url"
   ]
  },
  {
   "cell_type": "code",
   "execution_count": null,
   "metadata": {},
   "outputs": [],
   "source": [
    "dic_dataset = LiveCellImageDataset(dataset_dir_path, ext=\"tif\")"
   ]
  },
  {
   "attachments": {},
   "cell_type": "markdown",
   "metadata": {},
   "source": [
    "Check if the `time2url` mapping is correct"
   ]
  },
  {
   "cell_type": "code",
   "execution_count": null,
   "metadata": {},
   "outputs": [],
   "source": [
    "dic_dataset.time2url"
   ]
  },
  {
   "attachments": {},
   "cell_type": "markdown",
   "metadata": {},
   "source": [
    "### Convert label masks to single objects"
   ]
  },
  {
   "cell_type": "code",
   "execution_count": null,
   "metadata": {},
   "outputs": [],
   "source": [
    "from skimage.measure import regionprops\n",
    "from livecell_tracker.segment.utils import prep_scs_from_mask_dataset\n",
    "single_cells = prep_scs_from_mask_dataset(mask_dataset, dic_dataset)"
   ]
  },
  {
   "cell_type": "code",
   "execution_count": null,
   "metadata": {},
   "outputs": [],
   "source": [
    "for sc in single_cells:\n",
    "    assert sc.mask_dataset"
   ]
  },
  {
   "cell_type": "code",
   "execution_count": null,
   "metadata": {},
   "outputs": [],
   "source": [
    "# for testing\n",
    "# single_cells = single_cells[:10]"
   ]
  },
  {
   "cell_type": "code",
   "execution_count": null,
   "metadata": {},
   "outputs": [],
   "source": [
    "len(single_cells)"
   ]
  },
  {
   "cell_type": "code",
   "execution_count": null,
   "metadata": {},
   "outputs": [],
   "source": [
    "single_cells_by_time = {}\n",
    "for cell in single_cells:\n",
    "    if cell.timeframe not in single_cells_by_time:\n",
    "        single_cells_by_time[cell.timeframe] = []\n",
    "    single_cells_by_time[cell.timeframe].append(cell)"
   ]
  },
  {
   "cell_type": "code",
   "execution_count": null,
   "metadata": {},
   "outputs": [],
   "source": [
    "for time in single_cells_by_time:\n",
    "    print(time, len(single_cells_by_time[time]))"
   ]
  },
  {
   "attachments": {},
   "cell_type": "markdown",
   "metadata": {},
   "source": [
    "### Visualize one single cell"
   ]
  },
  {
   "cell_type": "code",
   "execution_count": null,
   "metadata": {},
   "outputs": [],
   "source": [
    "sc = single_cells[0]\n",
    "\n",
    "fig, axes = plt.subplots(1, 4, figsize=(10, 5))\n",
    "sc.show(ax=axes[0])\n",
    "sc.show_mask(ax=axes[1])\n",
    "sc.show_contour_img(ax=axes[2])\n",
    "sc.show_contour_mask(ax=axes[3])"
   ]
  },
  {
   "cell_type": "code",
   "execution_count": null,
   "metadata": {},
   "outputs": [],
   "source": [
    "sc.show_panel(figsize=(15, 5))"
   ]
  },
  {
   "cell_type": "code",
   "execution_count": null,
   "metadata": {},
   "outputs": [],
   "source": [
    "sc1 = single_cells[1]\n",
    "sc2 = single_cells[2]"
   ]
  },
  {
   "cell_type": "code",
   "execution_count": null,
   "metadata": {},
   "outputs": [],
   "source": [
    "from livecell_tracker.trajectory.feature_extractors import compute_skimage_regionprops, compute_haralick_features\n",
    "\n",
    "skimage_features = compute_skimage_regionprops(sc1)\n",
    "sc1.add_feature(\"skimage\", skimage_features)"
   ]
  },
  {
   "cell_type": "code",
   "execution_count": null,
   "metadata": {},
   "outputs": [],
   "source": [
    "# haralick_features = compute_haralick_features(sc1)\n",
    "# sc1.add_feature(\"haralick\", haralick_features)"
   ]
  },
  {
   "cell_type": "code",
   "execution_count": null,
   "metadata": {},
   "outputs": [],
   "source": [
    "sc1.get_feature_pd_series()"
   ]
  },
  {
   "cell_type": "markdown",
   "metadata": {},
   "source": [
    "Calculate overlap between two single cells"
   ]
  },
  {
   "cell_type": "code",
   "execution_count": null,
   "metadata": {},
   "outputs": [],
   "source": [
    "sc1.compute_iou(sc2), sc1.compute_overlap_percent(sc2)"
   ]
  },
  {
   "attachments": {},
   "cell_type": "markdown",
   "metadata": {},
   "source": [
    "## Tracking based on single cells"
   ]
  },
  {
   "cell_type": "code",
   "execution_count": null,
   "metadata": {},
   "outputs": [],
   "source": [
    "from typing import List\n",
    "from livecell_tracker.track.sort_tracker_utils import (\n",
    "    gen_SORT_detections_input_from_contours,\n",
    "    update_traj_collection_by_SORT_tracker_detection,\n",
    "    track_SORT_bbox_from_contours,\n",
    "    track_SORT_bbox_from_scs\n",
    ")\n",
    "\n",
    "\n",
    "traj_collection = track_SORT_bbox_from_scs(single_cells, dic_dataset, mask_dataset=mask_dataset, max_age=1, min_hits=1)"
   ]
  },
  {
   "attachments": {},
   "cell_type": "markdown",
   "metadata": {},
   "source": [
    "generate movies"
   ]
  },
  {
   "cell_type": "code",
   "execution_count": null,
   "metadata": {},
   "outputs": [],
   "source": [
    "# from livecell_tracker.track.movie import generate_single_trajectory_movie\n",
    "\n",
    "# for track_id, traj in traj_collection:\n",
    "#     generate_single_trajectory_movie(traj, save_path=f\"./notebook_results/general_tutorial/track_movies/track_{track_id}.gif\")"
   ]
  },
  {
   "cell_type": "code",
   "execution_count": null,
   "metadata": {},
   "outputs": [],
   "source": [
    "traj_collection.histogram_traj_length()"
   ]
  },
  {
   "cell_type": "code",
   "execution_count": null,
   "metadata": {},
   "outputs": [],
   "source": [
    "# for track_id, traj in traj_collection:\n",
    "#     print(\"track_id=\", track_id)\n",
    "#     traj.timeframe_to_single_cell[list(traj.timeframe_to_single_cell.keys())[0]].show_panel(figsize=(20, 5))\n",
    "#     plt.show()\n",
    "    "
   ]
  },
  {
   "cell_type": "code",
   "execution_count": null,
   "metadata": {},
   "outputs": [],
   "source": [
    "%gui qt\n",
    "from livecell_tracker.core.napari_visualizer import NapariVisualizer\n",
    "import napari\n",
    "from skimage import data\n"
   ]
  },
  {
   "cell_type": "code",
   "execution_count": null,
   "metadata": {},
   "outputs": [],
   "source": [
    "from livecell_tracker.core.single_cell import SingleCellStatic, SingleCellTrajectory, SingleCellTrajectoryCollection\n",
    "import numpy as np\n",
    "from napari.viewer import Viewer\n",
    "from livecell_tracker.core.visualizer import Visualizer\n",
    "\n",
    "from livecell_tracker.core.single_cell import SingleCellStatic, SingleCellTrajectory, SingleCellTrajectoryCollection\n",
    "import numpy as np\n",
    "from napari.viewer import Viewer\n",
    "from livecell_tracker.core.visualizer import Visualizer\n",
    "\n",
    "\n",
    "viewer = napari.view_image(dic_dataset.to_dask(), name='dic_image', cache=True)\n",
    "shape_layer = NapariVisualizer.viz_trajectories(traj_collection, viewer, contour_sample_num=20)"
   ]
  },
  {
   "attachments": {},
   "cell_type": "markdown",
   "metadata": {},
   "source": [
    "### SCTOperator"
   ]
  },
  {
   "cell_type": "code",
   "execution_count": null,
   "metadata": {},
   "outputs": [],
   "source": [
    "import copy\n",
    "from functools import partial\n",
    "from magicgui import magicgui\n",
    "from magicgui.widgets import Container, PushButton, Widget, create_widget\n",
    "\n",
    "class SctOperator():\n",
    "    CONNECT_MODE = 0\n",
    "    DISCONNECT_MODE = 1\n",
    "    ADD_MOTHER_DAUGHER_MODE = 2\n",
    "    def __init__(self, traj_collection, shape_layer, viewer, operator=\"connect\", magicgui_container=None):\n",
    "        self.select_info = [] # [cur_sct, cur_sc, selected_shape_index]\n",
    "        self.operator = operator\n",
    "        self.setup_shape_layer(shape_layer)\n",
    "        self.traj_collection = traj_collection\n",
    "        self.viewer = viewer\n",
    "        self.magicgui_container = magicgui_container\n",
    "        self.mode = SctOperator.CONNECT_MODE\n",
    "        \n",
    "    def select_shape(self, event, shape_layer=None):\n",
    "        if shape_layer is None:\n",
    "            shape_layer = self.shape_layer\n",
    "        print(\"current shape layer shape properties: \", event)\n",
    "        current_properties = shape_layer.current_properties\n",
    "        assert len(current_properties[\"sc\"]) == 1 and len(current_properties[\"track_id\"]) == 1\n",
    "        if len(shape_layer.selected_data) > 1:\n",
    "            print(\"Please select only one shape at a time for connecting trajectories\")\n",
    "            return\n",
    "        if len(shape_layer.selected_data) == 0:\n",
    "            print(\"No shape selected, please select a shape to connect trajectories\")\n",
    "            return\n",
    "        selected_shape_index = list(shape_layer.selected_data)[0]\n",
    "        \n",
    "        shape_indices_in_select_info = set([info[2] for info in self.select_info])\n",
    "        if selected_shape_index in shape_indices_in_select_info:\n",
    "            print(\"shape already selected, please select another shape\")\n",
    "            return\n",
    "\n",
    "        cur_sc = current_properties[\"sc\"][0]\n",
    "        cur_track_id = current_properties[\"track_id\"][0]\n",
    "        cur_sct = traj_collection[cur_track_id]\n",
    "\n",
    "        print(\"setting face color of selected shape...\")\n",
    "        if self.mode == self.CONNECT_MODE:\n",
    "            selection_face_color = (1, 0, 0, 1)\n",
    "            selection_status_text = \"connect\"\n",
    "        elif self.mode == self.DISCONNECT_MODE:\n",
    "            selection_face_color = (0, 1, 0, 1)\n",
    "            selection_status_text = \"disconnect\"\n",
    "        elif self.mode == self.ADD_MOTHER_DAUGHER_MODE:\n",
    "            print(\"len of select_info\", len(self.select_info))\n",
    "            if len(self.select_info) == 0:\n",
    "                selection_face_color = (1, 0, 0, 1)\n",
    "                selection_status_text = \"mother\"\n",
    "            else:\n",
    "                selection_face_color = (0, 0, 1, 1)\n",
    "                selection_status_text = \"daughter\"\n",
    "\n",
    "        face_colors = list(shape_layer.face_color)\n",
    "        face_colors[selected_shape_index] = selection_face_color\n",
    "        shape_layer.face_color = face_colors\n",
    "\n",
    "        properties = shape_layer.properties.copy()\n",
    "        properties[\"status\"][ selected_shape_index] = selection_status_text\n",
    "        shape_layer.properties = properties\n",
    "\n",
    "        shape = shape_layer.data[selected_shape_index]\n",
    "\n",
    "        # slice_index = viewer.dims.current_step[0]\n",
    "        self.select_info.append((cur_sct, cur_sc, selected_shape_index))\n",
    "        print(\"<selection complete>\")\n",
    "        return cur_sct, cur_sc, selected_shape_index\n",
    "    \n",
    "    def connect_two_scts(self):\n",
    "        assert len(self.select_info) == 2, \"Please select two shapes to connect.\"\n",
    "        sct1, sc1, shape_index1 = self.select_info[0]\n",
    "        sct2, sc2, shape_index2 = self.select_info[1]\n",
    "        if sct1 == sct2:\n",
    "            print(\"Skipping connecting two shapes from the same trajectory...\")\n",
    "            return\n",
    "        print(\"connecting two shapes from different trajectories...\")\n",
    "        sct1_span = sct1.get_timeframe_span()\n",
    "        sct2_span = sct2.get_timeframe_span()\n",
    "\n",
    "        if sct1_span[1] < sct2_span[0] or sct2_span[1] < sct1_span[0]:\n",
    "            res_traj = sct1.copy()\n",
    "            res_traj.add_nonoverlapping_sct(sct2)\n",
    "            self.traj_collection.pop_trajectory(sct1.track_id)\n",
    "            self.traj_collection.pop_trajectory(sct2.track_id)\n",
    "            self.traj_collection.add_trajectory(res_traj)\n",
    "            \n",
    "            self.viewer.layers.remove(self.shape_layer)\n",
    "            self.shape_layer = NapariVisualizer.viz_trajectories(self.traj_collection, self.viewer, contour_sample_num=20)\n",
    "            self.setup_shape_layer(self.shape_layer)\n",
    "            self.clear_selection()\n",
    "        else:\n",
    "            raise NotImplementedError(\"Two trajectories are overlapping, notImplemented for now...\")\n",
    "        print(\"connect operator complete!\")\n",
    "\n",
    "    def clear_selection(self):\n",
    "        print(\"clearing selection...\")\n",
    "        self.select_info = []\n",
    "        self.shape_layer.face_color = list(self.original_face_colors)\n",
    "        self.shape_layer.properties = self.original_properties\n",
    "        print(\"clear complete!\")\n",
    "\n",
    "    def setup_shape_layer(self, shape_layer):\n",
    "        self.shape_layer = shape_layer\n",
    "        shape_layer.events.current_properties.connect(self.select_shape)\n",
    "        # w/o deepcopy, the original_face_colors will be changed when shape_layer.face_color is changed...\n",
    "        self.original_face_colors = copy.deepcopy(list(shape_layer.face_color))\n",
    "        self.original_properties = copy.deepcopy(shape_layer.properties.copy())\n",
    "        \n",
    "    def disconnect_sct(self):\n",
    "        assert len(self.select_info) == 1, \"Please select one shape to disconnect.\"\n",
    "        sct, sc, shape_index = self.select_info[0]\n",
    "        print(\"disconnecting shape...\")\n",
    "        old_traj = self.traj_collection.pop_trajectory(sct.track_id)\n",
    "        new_sct1, new_sct2 = old_traj.split(sc.timeframe)\n",
    "        self.traj_collection.add_trajectory(new_sct1)\n",
    "        self.traj_collection.add_trajectory(new_sct2)\n",
    "        self.viewer.layers.remove(self.shape_layer)\n",
    "        self.shape_layer = NapariVisualizer.viz_trajectories(self.traj_collection, self.viewer, contour_sample_num=20)\n",
    "        self.setup_shape_layer(self.shape_layer)\n",
    "        self.clear_selection()\n",
    "        print(\"disconnect operator complete!\")\n",
    "\n",
    "    def add_mother_daughter_relation(self):\n",
    "        assert len(self.select_info) >= 2, \"Please select >2 shapes to add mother daughter relation.\"\n",
    "        mother_sct, mother_sc, mother_shape_index = self.select_info[0]\n",
    "        for i in range(1, len(self.select_info)):\n",
    "            daughter_sct, daughter_sc, daughter_shape_index = self.select_info[i]\n",
    "            assert mother_sct != daughter_sct, \"mother and daughter cannot be from the same trajectory!\"\n",
    "            mother_sct.add_daughter(daughter_sct)\n",
    "            daughter_sct.add_mother(mother_sct)\n",
    "        self.clear_selection()\n",
    "        print(\"<add mother daughter relation complete>\")\n",
    "\n",
    "    def hide_function_widgets(self):\n",
    "        for i in range(2, len(self.magicgui_container)):\n",
    "            self.magicgui_container[i].hide()\n",
    "\n",
    "    def show_selected_mode_widget(self):\n",
    "        if self.mode == self.CONNECT_MODE:\n",
    "            self.magicgui_container[2].show()\n",
    "        elif self.mode == self.DISCONNECT_MODE:\n",
    "            self.magicgui_container[3].show()\n",
    "        elif self.mode == self.ADD_MOTHER_DAUGHER_MODE:\n",
    "            self.magicgui_container[4].show()\n",
    "        else:\n",
    "            raise ValueError(\"Invalid mode!\")\n",
    "\n",
    "viewer = napari.view_image(dic_dataset.to_dask(), name='dic_image', cache=True)\n",
    "shape_layer = NapariVisualizer.viz_trajectories(traj_collection, viewer, contour_sample_num=20)\n",
    "sct_operator = SctOperator(traj_collection, shape_layer, viewer)\n",
    "sct_operator.setup_shape_layer(shape_layer)\n",
    "\n",
    "@magicgui(call_button='connect')\n",
    "def connect_widget():\n",
    "    print(\"connect callback fired!\")\n",
    "    sct_operator.connect_two_scts()\n",
    "\n",
    "@magicgui(call_button='clear selection')\n",
    "def clear_selection_widget():\n",
    "    print(\"clear selection callback fired!\")\n",
    "    sct_operator.clear_selection()\n",
    "\n",
    "@magicgui(call_button='disconnect')\n",
    "def disconnect_widget():\n",
    "    print(\"disconnect callback fired!\")\n",
    "    sct_operator.disconnect_sct()\n",
    "\n",
    "@magicgui(call_button='add mother/daughter relation')\n",
    "def add_mother_daughter_relation_widget():\n",
    "    print(\"add mother/daughter relation callback fired!\")\n",
    "    sct_operator.add_mother_daughter_relation()\n",
    "\n",
    "\n",
    "@magicgui(\n",
    "    call_button=\"set mode\",\n",
    "    mode={\"choices\": ['connect', 'disconnect', 'add mother/daughter relation']}\n",
    ")\n",
    "def switch_mode_widget(mode):\n",
    "    print(\"switch mode callback fired!\")\n",
    "    if mode == \"connect\":\n",
    "        sct_operator.mode = sct_operator.CONNECT_MODE\n",
    "    elif mode == \"disconnect\":\n",
    "        sct_operator.mode = sct_operator.DISCONNECT_MODE\n",
    "    elif mode == \"add mother/daughter relation\":\n",
    "        sct_operator.mode = sct_operator.ADD_MOTHER_DAUGHER_MODE\n",
    "    sct_operator.hide_function_widgets()\n",
    "    sct_operator.show_selected_mode_widget()\n",
    "    sct_operator.clear_selection()\n",
    "\n",
    "\n",
    "container = Container(widgets=[switch_mode_widget, clear_selection_widget, connect_widget, disconnect_widget, add_mother_daughter_relation_widget], labels=False)\n",
    "\n",
    "sct_operator.magicgui_container = container\n",
    "sct_operator.hide_function_widgets()\n",
    "sct_operator.show_selected_mode_widget()\n",
    "viewer.window.add_dock_widget(container, name=\"SCT Operator\")"
   ]
  },
  {
   "cell_type": "code",
   "execution_count": null,
   "metadata": {},
   "outputs": [],
   "source": [
    "sct_operator.select_info"
   ]
  },
  {
   "cell_type": "code",
   "execution_count": null,
   "metadata": {},
   "outputs": [],
   "source": [
    "sct_operator.trajectory_collection"
   ]
  },
  {
   "cell_type": "code",
   "execution_count": null,
   "metadata": {},
   "outputs": [],
   "source": [
    "sct_operator.add_mother_daughter_relation()"
   ]
  },
  {
   "cell_type": "code",
   "execution_count": null,
   "metadata": {},
   "outputs": [],
   "source": [
    "event = object()\n",
    "sct_operator.select_shape(event)"
   ]
  },
  {
   "cell_type": "code",
   "execution_count": null,
   "metadata": {},
   "outputs": [],
   "source": [
    "shape_layer.text"
   ]
  },
  {
   "cell_type": "code",
   "execution_count": null,
   "metadata": {},
   "outputs": [],
   "source": [
    "sct_operator.select_info"
   ]
  },
  {
   "cell_type": "code",
   "execution_count": null,
   "metadata": {},
   "outputs": [],
   "source": [
    "sct_operator.magicgui_container[2].hide()"
   ]
  },
  {
   "cell_type": "code",
   "execution_count": null,
   "metadata": {},
   "outputs": [],
   "source": [
    "container[0]"
   ]
  },
  {
   "cell_type": "code",
   "execution_count": null,
   "metadata": {},
   "outputs": [],
   "source": [
    "sct_operator.select_info"
   ]
  },
  {
   "cell_type": "code",
   "execution_count": null,
   "metadata": {},
   "outputs": [],
   "source": [
    "# from qtpy.QtWidgets import QPushButton\n",
    "# connect_btn = QPushButton('Connect two trajectories')\n",
    "# connect_btn.resize(100, 100)\n",
    "# connect_btn.clicked.connect(sct_operator.connect_two_scts)\n",
    "# widget = viewer.window.add_dock_widget(connect_btn, name=\"edit trajectory\")\n",
    "\n",
    "# clear_btn = QPushButton('Clear selection')\n",
    "# clear_btn.resize(100, 100)\n",
    "# clear_btn.clicked.connect(sct_operator.clear_selection)\n",
    "# viewer.window.add_dock_widget(clear_btn, name=\"edit trajectory\")"
   ]
  },
  {
   "cell_type": "code",
   "execution_count": null,
   "metadata": {},
   "outputs": [],
   "source": [
    "shape = shape_layer.data[0]"
   ]
  },
  {
   "cell_type": "code",
   "execution_count": null,
   "metadata": {},
   "outputs": [],
   "source": [
    "# viewer.layers.selection.events.active.connect(lambda x: print(dir(x)))"
   ]
  }
 ],
 "metadata": {
  "kernelspec": {
   "display_name": "livecell-work",
   "language": "python",
   "name": "python3"
  },
  "language_info": {
   "codemirror_mode": {
    "name": "ipython",
    "version": 3
   },
   "file_extension": ".py",
   "mimetype": "text/x-python",
   "name": "python",
   "nbconvert_exporter": "python",
   "pygments_lexer": "ipython3",
   "version": "3.9.16"
  },
  "orig_nbformat": 4,
  "vscode": {
   "interpreter": {
    "hash": "255678bf1dfb9ba523bc95259de6240bcf8a006858e5b3039c84beb7773ff68c"
   }
  }
 },
 "nbformat": 4,
 "nbformat_minor": 2
}
