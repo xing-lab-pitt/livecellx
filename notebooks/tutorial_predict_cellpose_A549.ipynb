{
 "cells": [
  {
   "attachments": {},
   "cell_type": "markdown",
   "metadata": {},
   "source": [
    "# Train a cellpose to segment A549 cells  \n",
    "Author: Ke  \n",
    "Data source: Dr. Weikang Wang"
   ]
  },
  {
   "cell_type": "code",
   "execution_count": 1,
   "metadata": {},
   "outputs": [],
   "source": [
    "import numpy as np\n",
    "import matplotlib.pyplot as plt\n",
    "from cellpose import models\n",
    "from cellpose.io import imread\n",
    "from pathlib import Path\n",
    "from livecellx.preprocess.utils import normalize_img_to_uint8\n",
    "from livecellx.segment.cellpose_utils import segment_single_images_by_cellpose, segment_single_image_by_cellpose"
   ]
  },
  {
   "cell_type": "code",
   "execution_count": null,
   "metadata": {},
   "outputs": [],
   "source": [
    "# path for saving re-fitted cellpose model\n",
    "# pretrained_model_path = \"./notebook_results/cellpose/cellpose_A549_cyto2/models/cellpose_residual_on_style_on_concatenation_off_cellpose_A549_cyto2_2023_03_07_01_07_22.191293\"\n",
    "# pretrained_model_path = \"cellpose_residual_on_style_on_concatenation_off_cellpose_A549_cyto2_cellbody_2023_04_17_21_49_50.313712\"\n",
    "# pretrained_model_path = \"/home/ken67/LiveCellTracker-dev/notebooks/notebook_results/cellpose/cellpose_A549_cyto2_cellbody_bg_corrected/models/cellpose_residual_on_style_on_concatenation_off_cellpose_A549_cyto2_cellbody_bg_corrected_2023_04_19_12_03_03.872596\"\n",
    "pretrained_model_path = \"/home/ken67/LiveCellTracker-dev/notebooks/notebook_results/cellpose/cellpose_A549_cyto2_cellbody/models/cellpose_residual_on_style_on_concatenation_off_cellpose_A549_cyto2_cellbody_2023_04_17_21_49_50.313712\"\n",
    "# model_type='cyto' or 'nuclei' or 'cyto2'\n",
    "# model = models.Cellpose(gpu=True, model_type=\"cyto2\", pretrained_model=pretrained_model_path)\n",
    "model = models.CellposeModel(pretrained_model=pretrained_model_path, gpu=True) #, model_type=\"cyto2\")"
   ]
  },
  {
   "cell_type": "code",
   "execution_count": null,
   "metadata": {},
   "outputs": [],
   "source": [
    "from livecellx.core.datasets import LiveCellImageDataset, SingleImageDataset\n",
    "dataset_dir_path = Path(\n",
    "    \"../datasets/test_data_STAV-A549/DIC_data\"\n",
    ")\n",
    "\n",
    "mask_dataset_path = Path(\"../datasets/test_data_STAV-A549/mask_data\")\n",
    "dic_dataset = LiveCellImageDataset(dataset_dir_path, ext=\"tif\")"
   ]
  },
  {
   "attachments": {},
   "cell_type": "markdown",
   "metadata": {},
   "source": [
    "diameter = 80"
   ]
  },
  {
   "cell_type": "code",
   "execution_count": null,
   "metadata": {},
   "outputs": [],
   "source": [
    "from livecellx.preprocess.utils import enhance_contrast, standard_preprocess\n",
    "import random\n",
    "\n",
    "num_img_to_viz = 2\n",
    "times = dic_dataset.times\n",
    "diameter = 80\n",
    "for i in range(0, num_img_to_viz):\n",
    "    # randomly sample a time from the dataset\n",
    "    img = dic_dataset[times[random.randint(0, len(times) - 1)]]\n",
    "    # img = normalize_img_to_uint8(img)\n",
    "    img = standard_preprocess(img)\n",
    "    mask = segment_single_image_by_cellpose(img, model, channels=[[0, 0]], diameter=diameter)\n",
    "\n",
    "    # visualize\n",
    "    fig, axes = plt.subplots(1, 2, figsize=(10, 5))\n",
    "    axes[0].imshow(enhance_contrast(img))\n",
    "    axes[0].set_title(\"raw image\")\n",
    "    axes[1].imshow(mask)\n",
    "    axes[1].set_title(\"cellpose mask\")\n",
    "    plt.show()"
   ]
  },
  {
   "cell_type": "code",
   "execution_count": null,
   "metadata": {},
   "outputs": [],
   "source": [
    "num_img_to_viz = 2\n",
    "times = dic_dataset.times\n",
    "diameter = 50\n",
    "for i in range(0, num_img_to_viz):\n",
    "    # randomly sample a time from the dataset\n",
    "    img = dic_dataset[times[random.randint(0, len(times) - 1)]]\n",
    "    # img = normalize_img_to_uint8(img)\n",
    "    img = standard_preprocess(img)\n",
    "    mask = segment_single_image_by_cellpose(img, model, channels=[[0, 0]], diameter=diameter)\n",
    "\n",
    "    # visualize\n",
    "    fig, axes = plt.subplots(1, 2, figsize=(10, 5))\n",
    "    axes[0].imshow(enhance_contrast(img))\n",
    "    axes[0].set_title(\"raw image\")\n",
    "    axes[1].imshow(mask)\n",
    "    axes[1].set_title(\"cellpose mask\")\n",
    "    plt.show()"
   ]
  },
  {
   "cell_type": "code",
   "execution_count": null,
   "metadata": {},
   "outputs": [],
   "source": [
    "from livecellx.core.io_utils import save_png\n",
    "diameter = 80\n",
    "out_dir = Path(\"./notebook_results/cellpose/test_outputs\")\n",
    "out_dir.mkdir(parents=True, exist_ok=True)\n",
    "\n",
    "for time in dic_dataset.times:\n",
    "    img = dic_dataset[time]\n",
    "    img = normalize_img_to_uint8(img)\n",
    "    mask = segment_single_image_by_cellpose(img, model, channels=[[0, 0]], diameter=diameter)\n",
    "    \n",
    "    # save the mask\n",
    "    mask_path = out_dir / f\"mask_{time}.png\"\n",
    "    save_png(mask_path, mask, mode=\"I\")"
   ]
  }
 ],
 "metadata": {
  "kernelspec": {
   "display_name": "livecell",
   "language": "python",
   "name": "python3"
  },
  "language_info": {
   "codemirror_mode": {
    "name": "ipython",
    "version": 3
   },
   "file_extension": ".py",
   "mimetype": "text/x-python",
   "name": "python",
   "nbconvert_exporter": "python",
   "pygments_lexer": "ipython3",
   "version": "3.10.8"
  },
  "orig_nbformat": 4,
  "vscode": {
   "interpreter": {
    "hash": "d9c7226d793827cd27273ad20fbb4775c3cb91053ab9378a09de5f8c6f258919"
   }
  }
 },
 "nbformat": 4,
 "nbformat_minor": 2
}
