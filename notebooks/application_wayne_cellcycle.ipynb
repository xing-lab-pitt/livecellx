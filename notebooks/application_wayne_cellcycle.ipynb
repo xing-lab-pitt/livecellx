{
 "cells": [
  {
   "cell_type": "code",
   "execution_count": null,
   "metadata": {},
   "outputs": [],
   "source": [
    "import numpy as np\n",
    "import matplotlib.pyplot as plt\n",
    "from cellpose import models\n",
    "from cellpose.io import imread\n",
    "import glob\n",
    "from pathlib import Path\n",
    "from PIL import Image, ImageSequence\n",
    "from tqdm import tqdm\n",
    "import os\n",
    "import os.path\n",
    "from livecell_tracker import segment\n",
    "from livecell_tracker import core\n",
    "from livecell_tracker.core import datasets\n",
    "from livecell_tracker.core.datasets import LiveCellImageDataset\n",
    "from skimage import measure\n",
    "from livecell_tracker.core import SingleCellTrajectory, SingleCellStatic\n",
    "import detectron2\n",
    "from detectron2.utils.logger import setup_logger\n",
    "\n",
    "setup_logger()\n",
    "\n",
    "# import some common libraries\n",
    "import numpy as np\n",
    "import os, json, cv2, random\n",
    "import cv2\n",
    "\n",
    "# import some common detectron2 utilities\n",
    "from detectron2 import model_zoo\n",
    "from detectron2.engine import DefaultPredictor\n",
    "from detectron2.config import get_cfg\n",
    "from detectron2.utils.visualizer import Visualizer\n",
    "from detectron2.data import MetadataCatalog, DatasetCatalog\n",
    "from livecell_tracker.segment.detectron_utils import gen_cfg\n",
    "\n",
    "from livecell_tracker.segment.detectron_utils import (\n",
    "    segment_detectron_wrapper,\n",
    "    segment_images_by_detectron,\n",
    "    convert_detectron_instance_pred_masks_to_binary_masks,\n",
    "    convert_detectron_instances_to_label_masks,\n",
    ")\n",
    "from livecell_tracker.segment.detectron_utils import (\n",
    "    convert_detectron_instance_pred_masks_to_binary_masks,\n",
    "    convert_detectron_instances_to_label_masks,\n",
    "    segment_images_by_detectron,\n",
    "    segment_single_img_by_detectron_wrapper,\n",
    ")\n",
    "from livecell_tracker.core import SingleCellStatic, SingleCellTrajectory, SingleCellTrajectoryCollection\n",
    "from livecell_tracker.core.datasets import LiveCellImageDataset\n",
    "\n",
    "\n",
    "pretrained_model_path = (\n",
    "    r\"./notebook_results/train_log/detectron_train_output__ver0.0.2/model_final.pth\"\n",
    ")\n",
    "# seg_out_dir = Path(r\"\"\"./notebook_results/train_log/detectron_train_output__ver0.0.2/\"\"\")\n",
    "model_dir = Path(r\"\"\"./notebook_results/train_log/detectron_train_output__ver0.0.2/\"\"\")\n",
    "out_dir = Path(r\"./notebook_results/wayne_data/\")\n",
    "seg_out_dir = out_dir / \"segmentation\"\n",
    "track_out_dir = out_dir / \"tracking\"\n",
    "segmentation_result_json_path = seg_out_dir / \"segmentation_results.json\"\n",
    "trajectory_collection_path = track_out_dir / \"trajectory_collection.json\"\n",
    "assert os.path.exists(model_dir)\n",
    "os.makedirs(seg_out_dir, exist_ok=True)\n",
    "os.makedirs(track_out_dir, exist_ok=True)\n",
    "pretrained_model_path = (\n",
    "    r\"./notebook_results/train_log/detectron_train_output__ver0.0.2/model_final.pth\"\n",
    ")\n"
   ]
  },
  {
   "cell_type": "code",
   "execution_count": null,
   "metadata": {},
   "outputs": [],
   "source": [
    "from pathlib import Path\n",
    "import glob\n",
    "dataset_dir_path = Path(\"../datasets/wayne/single_tiff\")\n",
    "ext = \"tif\"\n",
    "img_path_list = sorted(glob.glob(str((Path(dataset_dir_path) / Path(\"*.%s\" % (ext))))))"
   ]
  },
  {
   "cell_type": "code",
   "execution_count": null,
   "metadata": {},
   "outputs": [],
   "source": [
    "filenames = [os.path.basename(path) for path in img_path_list]"
   ]
  },
  {
   "cell_type": "code",
   "execution_count": null,
   "metadata": {},
   "outputs": [],
   "source": [
    "filenames[0]"
   ]
  },
  {
   "cell_type": "code",
   "execution_count": null,
   "metadata": {},
   "outputs": [],
   "source": [
    "cell_data = [name.replace(\".\", \"_\").split(\"_\") for name in filenames]\n",
    "cell_ids = [data[0] for data in cell_data]\n",
    "timeframes = [int(data[2]) for data in cell_data]\n",
    "\n",
    "cell_id_and_timeframes = list(zip(cell_ids, timeframes))"
   ]
  },
  {
   "cell_type": "code",
   "execution_count": null,
   "metadata": {},
   "outputs": [],
   "source": [
    "import functools\n",
    "def cmp_cells(x1, x2):\n",
    "    if x1[0] < x2[0]:\n",
    "        return -1\n",
    "    elif x1[0] > x2[0]:\n",
    "        return 1\n",
    "    else:\n",
    "        return -1 if x1[1] < x2[1] else 1\n",
    "\n",
    "cell_id_to_timeframes = {}\n",
    "for cell_id, timeframes in cell_id_and_timeframes:\n",
    "    if cell_id not in cell_id_to_timeframes:\n",
    "        cell_id_to_timeframes[cell_id] = []\n",
    "    cell_id_to_timeframes[cell_id].append(timeframes)\n",
    "\n",
    "sorted_cell_id_and_timeframes = sorted(cell_id_and_timeframes, key=functools.cmp_to_key(cmp_cells))\n",
    "sorted_cell_id_and_timeframes[:20]"
   ]
  },
  {
   "cell_type": "code",
   "execution_count": null,
   "metadata": {},
   "outputs": [],
   "source": [
    "def construct_wayne_filename(cell_id, timeframe):\n",
    "    return \"%s_frame_%d.%s\" % (cell_id, timeframe, ext)\n",
    "\n",
    "def construct_wayne_filenames(cell_id, timeframes):\n",
    "    res = []\n",
    "    for timeframe in timeframes:\n",
    "        res.append(construct_wayne_filename(cell_id, timeframe))\n",
    "    return res\n",
    "\n",
    "# sorted_filenames = [construct_wayne_filename(cell_id, timeframe) for cell_id, timeframe in sorted_cell_id_and_timeframes]\n",
    "# sorted_filenames[:20]"
   ]
  },
  {
   "cell_type": "markdown",
   "metadata": {},
   "source": [
    "## Construct single cell trajectories"
   ]
  },
  {
   "cell_type": "code",
   "execution_count": null,
   "metadata": {},
   "outputs": [],
   "source": [
    "\n",
    "\n",
    "single_cell_trajs = []\n",
    "sc_traj_collection = SingleCellTrajectoryCollection()\n",
    "for cell_id in cell_id_to_timeframes:\n",
    "    timeframes = cell_id_to_timeframes[cell_id]\n",
    "    filenames = construct_wayne_filenames(cell_id, timeframes)\n",
    "    sorted_paths = [str(Path(dataset_dir_path) / Path(filename)) for filename in filenames]\n",
    "    img_dataset = LiveCellImageDataset(img_path_list=sorted_paths)\n",
    "\n",
    "    single_cell_trajectory = SingleCellTrajectory(cell_id, raw_img_dataset=img_dataset)\n",
    "    for timeframe in timeframes:\n",
    "        single_cell_static = SingleCellStatic(timeframe, img_dataset=img_dataset)\n",
    "        single_cell_trajectory.add_single_cell(timeframe, single_cell_static)\n",
    "    \n",
    "    single_cell_trajs.append(single_cell_trajectory)\n",
    "    sc_traj_collection.add_trajectory(single_cell_trajectory)\n"
   ]
  },
  {
   "cell_type": "code",
   "execution_count": null,
   "metadata": {},
   "outputs": [],
   "source": [
    "traj = single_cell_trajs[3]\n",
    "some_sc = traj[0]\n",
    "some_img = some_sc.get_img()\n",
    "plt.imshow(some_img)"
   ]
  },
  {
   "cell_type": "code",
   "execution_count": null,
   "metadata": {},
   "outputs": [],
   "source": [
    "from typing import Tuple, Union\n",
    "from livecell_tracker.segment.cellpose_utils import segment_single_image_by_cellpose\n",
    "from livecell_tracker.segment.utils import get_contours_from_pred_masks\n",
    "# cellpose_model = models.Cellpose(gpu=True, model_type=\"cyto2\")\n",
    "cellpose_model = models.Cellpose(gpu=True, model_type=\"nuclei\")\n",
    "def segment_update_sc_by_cellpose(sc: SingleCellStatic, model=cellpose_model) -> Tuple[bool,Union[None, np.array]]:\n",
    "    \"\"\"segment and update single cell classes\n",
    "\n",
    "    Parameters\n",
    "    ----------\n",
    "    sc : SingleCellStatic\n",
    "        _description_\n",
    "\n",
    "    Returns\n",
    "    -------\n",
    "    return \n",
    "    \"\"\"    \n",
    "    img = sc.get_img()\n",
    "    pred = segment_single_image_by_cellpose(img, model = model, diameter=50)\n",
    "    w, h = img.shape\n",
    "    center_val = pred[w//2, h//2]\n",
    "    reserved_pred = pred.copy()\n",
    "    reserved_pred[reserved_pred != center_val] = 0\n",
    "    contours = get_contours_from_pred_masks([reserved_pred])\n",
    "    if len(contours) == 0:\n",
    "        fig, axes = plt.subplots(1, 3)\n",
    "        axes[0].imshow(img)\n",
    "        axes[1].imshow(pred)\n",
    "        axes[2].imshow(reserved_pred)\n",
    "        print(\"no contours found in the image:\")\n",
    "        plt.show()\n",
    "        return False, None\n",
    "    if len(contours) > 1:\n",
    "        fig, axes = plt.subplots(1, 3)\n",
    "        axes[0].imshow(img)\n",
    "        axes[1].imshow(pred)\n",
    "        axes[2].imshow(reserved_pred)\n",
    "        for contour_coords in contours:\n",
    "            contour_coords = np.array(contour_coords)\n",
    "            axes[0].scatter(contour_coords[:, 1], contour_coords[:, 0], s=1, c=\"r\")\n",
    "        plt.show()\n",
    "    # check number of contours, one contour's length and contour's coord dimension\n",
    "    # print(len(contours), len(contours[0]), len(contours[0][0]))\n",
    "    sc.update_contour(contours[0])\n",
    "    return True, pred\n",
    "\n",
    "success, mask = segment_update_sc_by_cellpose(some_sc)\n",
    "plt.imshow(mask)"
   ]
  },
  {
   "cell_type": "code",
   "execution_count": null,
   "metadata": {},
   "outputs": [],
   "source": [
    "from tqdm import tqdm\n",
    "\n",
    "def segment_update_traj(sc_traj: SingleCellTrajectory):\n",
    "    sc_ids = list(sc_traj.timeframe_set)\n",
    "    for sc_id in sc_ids:\n",
    "        sc = sc_traj[sc_id]\n",
    "        success, mask = segment_update_sc_by_cellpose(sc)\n",
    "        if not success:\n",
    "            sc_traj.pop_single_cell(sc.timeframe)\n",
    "\n",
    "segment_update_traj(traj)"
   ]
  },
  {
   "cell_type": "markdown",
   "metadata": {},
   "source": [
    "## Save to disk and reconstruct"
   ]
  },
  {
   "cell_type": "code",
   "execution_count": null,
   "metadata": {},
   "outputs": [],
   "source": [
    "traj.write_json(out_dir/\"test_traj.json\")"
   ]
  },
  {
   "cell_type": "code",
   "execution_count": null,
   "metadata": {},
   "outputs": [],
   "source": [
    "import json\n",
    "with open(out_dir/\"test_traj.json\", \"r\") as f:\n",
    "    data = json.load(f)\n",
    "    tmp_traj = SingleCellTrajectory().load_from_json_dict(data)\n",
    "    print(tmp_traj.timeframe_set)\n",
    "    print(tmp_traj.raw_img_dataset.to_json_dict())\n",
    "    print(tmp_traj.timeframe_to_single_cell)"
   ]
  },
  {
   "cell_type": "code",
   "execution_count": null,
   "metadata": {},
   "outputs": [],
   "source": [
    "from livecell_tracker.trajectory import feature_extractors\n",
    "\n",
    "traj.compute_features(\"haralick\", feature_extractors.compute_haralick_features)\n",
    "traj.compute_features(\"skimage\", feature_extractors.compute_skimage_regionprops)\n",
    "traj.get_sc_feature_table()"
   ]
  },
  {
   "cell_type": "markdown",
   "metadata": {},
   "source": [
    "## Run on all trajectories"
   ]
  },
  {
   "cell_type": "code",
   "execution_count": null,
   "metadata": {},
   "outputs": [],
   "source": [
    "def segment_all_sc_trajs_by_cellpose(sc_traj_collection: SingleCellTrajectoryCollection):\n",
    "    for traj_id, traj in tqdm(sc_traj_collection):\n",
    "        segment_update_traj(traj)"
   ]
  },
  {
   "cell_type": "code",
   "execution_count": null,
   "metadata": {},
   "outputs": [],
   "source": [
    "segment_all_sc_trajs_by_cellpose(sc_traj_collection)"
   ]
  },
  {
   "cell_type": "code",
   "execution_count": null,
   "metadata": {},
   "outputs": [],
   "source": [
    "for traj_id, traj in tqdm(sc_traj_collection): \n",
    "    for time, sc_id in traj:\n",
    "        sc = traj[time]\n",
    "        sc.feature_dict = {} \n",
    "        if sc.bbox is None:\n",
    "            print(sc)\n",
    "        else:\n",
    "            # print(sc.bbox)\n",
    "            pass\n",
    "sc_traj_collection.write_json(\"./notebook_results/wayne_data/traj_collection.json\")"
   ]
  },
  {
   "cell_type": "code",
   "execution_count": null,
   "metadata": {},
   "outputs": [],
   "source": [
    "with open(\"./notebook_results/wayne_data/traj_collection.json\", \"r\") as f:\n",
    "    data = json.load(f)\n",
    "    sc_traj_collection = SingleCellTrajectoryCollection().load_from_json_dict(data)"
   ]
  },
  {
   "cell_type": "code",
   "execution_count": 3,
   "metadata": {},
   "outputs": [],
   "source": [
    "from multiprocessing import Pool\n",
    "def compute_feature_helper(data):\n",
    "    idx, traj_id, traj = data\n",
    "    traj.compute_features(\"haralick\", feature_extractors.compute_haralick_features)\n",
    "    traj.compute_features(\"skimage\", feature_extractors.compute_skimage_regionprops)\n",
    "with Pool(8) as pool:\n",
    "    tasks = [[idx] + list(data) for idx, data in enumerate(list(iter(sc_traj_collection)))]\n",
    "    # p.map(tasks)\n",
    "    for _ in tqdm(pool.imap_unordered(compute_feature_helper, tasks), total=len(tasks)):\n",
    "        pass\n",
    "# for _, traj in tqdm(sc_traj_collection):\n",
    "#     traj.compute_features(\"haralick\", feature_extractors.compute_haralick_features)\n",
    "#     traj.compute_features(\"skimage\", feature_extractors.compute_skimage_regionprops)"
   ]
  },
  {
   "cell_type": "code",
   "execution_count": null,
   "metadata": {},
   "outputs": [],
   "source": [
    "sc_traj_collection.get_feature_table()"
   ]
  }
 ],
 "metadata": {
  "kernelspec": {
   "display_name": "Python 3.8.13 ('cv-general')",
   "language": "python",
   "name": "python3"
  },
  "language_info": {
   "codemirror_mode": {
    "name": "ipython",
    "version": 3
   },
   "file_extension": ".py",
   "mimetype": "text/x-python",
   "name": "python",
   "nbconvert_exporter": "python",
   "pygments_lexer": "ipython3",
   "version": "3.8.13"
  },
  "orig_nbformat": 4,
  "vscode": {
   "interpreter": {
    "hash": "b5dfbec2055422cee39dc040b31dfffa8b21a342109231ab17bc6ff9949c7133"
   }
  }
 },
 "nbformat": 4,
 "nbformat_minor": 2
}
