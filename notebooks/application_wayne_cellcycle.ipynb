{
 "cells": [
  {
   "cell_type": "code",
   "execution_count": 1,
   "metadata": {},
   "outputs": [],
   "source": [
    "import numpy as np\n",
    "import matplotlib.pyplot as plt\n",
    "from cellpose import models\n",
    "from cellpose.io import imread\n",
    "import glob\n",
    "from pathlib import Path\n",
    "from PIL import Image, ImageSequence\n",
    "from tqdm import tqdm\n",
    "import os\n",
    "import os.path\n",
    "from livecell_tracker import segment\n",
    "from livecell_tracker import core\n",
    "from livecell_tracker.core import datasets\n",
    "from livecell_tracker.core.datasets import LiveCellImageDataset\n",
    "from skimage import measure\n",
    "from livecell_tracker.core import SingleCellTrajectory, SingleCellStatic\n",
    "import detectron2\n",
    "from detectron2.utils.logger import setup_logger\n",
    "\n",
    "setup_logger()\n",
    "\n",
    "# import some common libraries\n",
    "import numpy as np\n",
    "import os, json, cv2, random\n",
    "import cv2\n",
    "\n",
    "# import some common detectron2 utilities\n",
    "from detectron2 import model_zoo\n",
    "from detectron2.engine import DefaultPredictor\n",
    "from detectron2.config import get_cfg\n",
    "from detectron2.utils.visualizer import Visualizer\n",
    "from detectron2.data import MetadataCatalog, DatasetCatalog\n",
    "from livecell_tracker.segment.detectron_utils import gen_cfg\n",
    "\n",
    "from livecell_tracker.segment.detectron_utils import (\n",
    "    segment_detectron_wrapper,\n",
    "    segment_images_by_detectron,\n",
    "    convert_detectron_instance_pred_masks_to_binary_masks,\n",
    "    convert_detectron_instances_to_label_masks,\n",
    ")\n",
    "from livecell_tracker.segment.detectron_utils import (\n",
    "    convert_detectron_instance_pred_masks_to_binary_masks,\n",
    "    convert_detectron_instances_to_label_masks,\n",
    "    segment_images_by_detectron,\n",
    "    segment_single_img_by_detectron_wrapper,\n",
    ")\n",
    "\n",
    "pretrained_model_path = (\n",
    "    r\"./notebook_results/train_log/detectron_train_output__ver0.0.2/model_final.pth\"\n",
    ")\n",
    "# seg_out_dir = Path(r\"\"\"./notebook_results/train_log/detectron_train_output__ver0.0.2/\"\"\")\n",
    "model_dir = Path(r\"\"\"./notebook_results/train_log/detectron_train_output__ver0.0.2/\"\"\")\n",
    "out_dir = Path(r\"./notebook_results/wayne_data/\")\n",
    "seg_out_dir = out_dir / \"segmentation\"\n",
    "track_out_dir = out_dir / \"tracking\"\n",
    "segmentation_result_json_path = seg_out_dir / \"segmentation_results.json\"\n",
    "trajectory_collection_path = track_out_dir / \"trajectory_collection.json\"\n",
    "assert os.path.exists(model_dir)\n",
    "os.makedirs(seg_out_dir, exist_ok=True)\n",
    "os.makedirs(track_out_dir, exist_ok=True)\n",
    "pretrained_model_path = (\n",
    "    r\"./notebook_results/train_log/detectron_train_output__ver0.0.2/model_final.pth\"\n",
    ")\n"
   ]
  },
  {
   "cell_type": "code",
   "execution_count": 2,
   "metadata": {},
   "outputs": [],
   "source": [
    "from pathlib import Path\n",
    "import glob\n",
    "dataset_dir_path = Path(\"../datasets/wayne/single_tiff\")\n",
    "ext = \"tif\"\n",
    "img_path_list = sorted(glob.glob(str((Path(dataset_dir_path) / Path(\"*.%s\" % (ext))))))"
   ]
  },
  {
   "cell_type": "code",
   "execution_count": 3,
   "metadata": {},
   "outputs": [],
   "source": [
    "filenames = [os.path.basename(path) for path in img_path_list]"
   ]
  },
  {
   "cell_type": "code",
   "execution_count": 4,
   "metadata": {},
   "outputs": [
    {
     "data": {
      "text/plain": [
       "'0028_frame_0.tif'"
      ]
     },
     "execution_count": 4,
     "metadata": {},
     "output_type": "execute_result"
    }
   ],
   "source": [
    "filenames[0]"
   ]
  },
  {
   "cell_type": "code",
   "execution_count": 5,
   "metadata": {},
   "outputs": [],
   "source": [
    "cell_data = [name.replace(\".\", \"_\").split(\"_\") for name in filenames]\n",
    "cell_ids = [data[0] for data in cell_data]\n",
    "timeframes = [int(data[2]) for data in cell_data]\n",
    "\n",
    "cell_id_and_timeframes = list(zip(cell_ids, timeframes))"
   ]
  },
  {
   "cell_type": "code",
   "execution_count": 6,
   "metadata": {},
   "outputs": [
    {
     "data": {
      "text/plain": [
       "[('0028', 0),\n",
       " ('0028', 1),\n",
       " ('0028', 2),\n",
       " ('0029', 0),\n",
       " ('0029', 1),\n",
       " ('0029', 2),\n",
       " ('0029', 3),\n",
       " ('0029', 4),\n",
       " ('0029', 5),\n",
       " ('0029', 6),\n",
       " ('0029', 7),\n",
       " ('0029', 8),\n",
       " ('0029', 9),\n",
       " ('0029', 10),\n",
       " ('0029', 11),\n",
       " ('0029', 12),\n",
       " ('0029', 13),\n",
       " ('0029', 14),\n",
       " ('0029', 15),\n",
       " ('0029', 16)]"
      ]
     },
     "execution_count": 6,
     "metadata": {},
     "output_type": "execute_result"
    }
   ],
   "source": [
    "import functools\n",
    "def cmp_cells(x1, x2):\n",
    "    if x1[0] < x2[0]:\n",
    "        return -1\n",
    "    elif x1[0] > x2[0]:\n",
    "        return 1\n",
    "    else:\n",
    "        return -1 if x1[1] < x2[1] else 1\n",
    "\n",
    "cell_id_to_timeframes = {}\n",
    "for cell_id, timeframes in cell_id_and_timeframes:\n",
    "    if cell_id not in cell_id_to_timeframes:\n",
    "        cell_id_to_timeframes[cell_id] = []\n",
    "    cell_id_to_timeframes[cell_id].append(timeframes)\n",
    "\n",
    "sorted_cell_id_and_timeframes = sorted(cell_id_and_timeframes, key=functools.cmp_to_key(cmp_cells))\n",
    "sorted_cell_id_and_timeframes[:20]"
   ]
  },
  {
   "cell_type": "code",
   "execution_count": null,
   "metadata": {},
   "outputs": [],
   "source": []
  },
  {
   "cell_type": "code",
   "execution_count": 7,
   "metadata": {},
   "outputs": [],
   "source": [
    "def construct_wayne_filename(cell_id, timeframe):\n",
    "    return \"%s_frame_%d.%s\" % (cell_id, timeframe, ext)\n",
    "\n",
    "def construct_wayne_filenames(cell_id, timeframes):\n",
    "    res = []\n",
    "    for timeframe in timeframes:\n",
    "        res.append(construct_wayne_filename(cell_id, timeframe))\n",
    "    return res\n",
    "\n",
    "# sorted_filenames = [construct_wayne_filename(cell_id, timeframe) for cell_id, timeframe in sorted_cell_id_and_timeframes]\n",
    "# sorted_filenames[:20]"
   ]
  },
  {
   "cell_type": "markdown",
   "metadata": {},
   "source": [
    "## Construct single cell trajectories"
   ]
  },
  {
   "cell_type": "code",
   "execution_count": 8,
   "metadata": {},
   "outputs": [],
   "source": [
    "from livecell_tracker.core import SingleCellStatic, SingleCellTrajectory, SingleCellTrajectoryCollection\n",
    "from livecell_tracker.core.datasets import LiveCellImageDataset\n",
    "\n",
    "\n",
    "single_cell_trajs = []\n",
    "sc_traj_collection = SingleCellTrajectoryCollection()\n",
    "for cell_id in cell_id_to_timeframes:\n",
    "    timeframes = cell_id_to_timeframes[cell_id]\n",
    "    filenames = construct_wayne_filenames(cell_id, timeframes)\n",
    "    sorted_paths = [str(Path(dataset_dir_path) / Path(filename)) for filename in filenames]\n",
    "    img_dataset = LiveCellImageDataset(img_path_list=sorted_paths)\n",
    "\n",
    "    single_cell_trajectory = SingleCellTrajectory(cell_id, raw_img_dataset=img_dataset)\n",
    "    for timeframe in timeframes:\n",
    "        single_cell_static = SingleCellStatic(timeframe, img_dataset=img_dataset)\n",
    "        single_cell_trajectory.add_single_cell(timeframe, single_cell_static)\n",
    "    \n",
    "    single_cell_trajs.append(single_cell_trajectory)\n",
    "    sc_traj_collection.add_trajectory(single_cell_trajectory)\n"
   ]
  },
  {
   "cell_type": "code",
   "execution_count": 9,
   "metadata": {},
   "outputs": [
    {
     "data": {
      "text/plain": [
       "<matplotlib.image.AxesImage at 0x18686a86e80>"
      ]
     },
     "execution_count": 9,
     "metadata": {},
     "output_type": "execute_result"
    },
    {
     "data": {
      "image/png": "[encoded data removed]",
      "text/plain": [
       "<Figure size 432x288 with 1 Axes>"
      ]
     },
     "metadata": {
      "needs_background": "light"
     },
     "output_type": "display_data"
    }
   ],
   "source": [
    "traj = single_cell_trajs[3]\n",
    "some_sc = traj[0]\n",
    "some_img = some_sc.get_img()\n",
    "plt.imshow(some_img)"
   ]
  },
  {
   "cell_type": "code",
   "execution_count": 10,
   "metadata": {},
   "outputs": [
    {
     "data": {
      "text/plain": [
       "<matplotlib.image.AxesImage at 0x1869a8726a0>"
      ]
     },
     "execution_count": 10,
     "metadata": {},
     "output_type": "execute_result"
    },
    {
     "data": {
      "image/png": "[encoded data removed]",
      "text/plain": [
       "<Figure size 432x288 with 1 Axes>"
      ]
     },
     "metadata": {
      "needs_background": "light"
     },
     "output_type": "display_data"
    }
   ],
   "source": [
    "from typing import Tuple, Union\n",
    "from livecell_tracker.segment.cellpose_utils import segment_single_image_by_cellpose\n",
    "from livecell_tracker.segment.utils import get_contours_from_pred_masks\n",
    "\n",
    "cellpose_model = models.Cellpose(gpu=True, model_type=\"cyto\")\n",
    "def segment_update_sc_by_cellpose(sc: SingleCellStatic) -> Tuple[bool,Union[None, np.array]]:\n",
    "    \"\"\"segment and update single cell classes\n",
    "\n",
    "    Parameters\n",
    "    ----------\n",
    "    sc : SingleCellStatic\n",
    "        _description_\n",
    "\n",
    "    Returns\n",
    "    -------\n",
    "    return \n",
    "    \"\"\"    \n",
    "    img = sc.get_img()\n",
    "    pred = segment_single_image_by_cellpose(img, model = cellpose_model, diameter=30)\n",
    "    w, h = img.shape\n",
    "    center_val = pred[w//2, h//2]\n",
    "    reserved_pred = pred.copy()\n",
    "    reserved_pred[reserved_pred != center_val] = 0\n",
    "    contours = get_contours_from_pred_masks([reserved_pred])\n",
    "    if len(contours) == 0:\n",
    "        fig, axes = plt.subplots(1, 3)\n",
    "        axes[0].imshow(img)\n",
    "        axes[1].imshow(pred)\n",
    "        axes[2].imshow(reserved_pred)\n",
    "        return False, None\n",
    "    # check number of contours, one contour's length and contour's coord dimension\n",
    "    # print(len(contours), len(contours[0]), len(contours[0][0]))\n",
    "    sc.update_contour(contours[0])\n",
    "    return True, pred\n",
    "\n",
    "success, mask = segment_update_sc_by_cellpose(some_sc)\n",
    "plt.imshow(mask)"
   ]
  },
  {
   "cell_type": "code",
   "execution_count": 11,
   "metadata": {},
   "outputs": [],
   "source": [
    "from tqdm import tqdm\n",
    "\n",
    "def segment_update_traj(sc_traj: SingleCellTrajectory):\n",
    "    sc_ids = list(sc_traj.timeframe_set)\n",
    "    for sc_id in sc_ids:\n",
    "        sc = traj[sc_id]\n",
    "        success, mask = segment_update_sc_by_cellpose(sc)\n",
    "        if not success:\n",
    "            traj.pop_single_cell(sc.timeframe)\n",
    "\n",
    "segment_update_traj(traj)"
   ]
  },
  {
   "cell_type": "markdown",
   "metadata": {},
   "source": [
    "## Save to disk and reconstruct"
   ]
  },
  {
   "cell_type": "code",
   "execution_count": 12,
   "metadata": {},
   "outputs": [],
   "source": [
    "traj.write_json(out_dir/\"test_traj.json\")"
   ]
  },
  {
   "cell_type": "code",
   "execution_count": 13,
   "metadata": {},
   "outputs": [
    {
     "name": "stdout",
     "output_type": "stream",
     "text": [
      "{0, 1, 2}\n",
      "{'name': 'livecell-base', 'data_dir_path': 'None', 'img_path_list': ['../datasets/wayne/single_tiff/0033_frame_0.tif', '../datasets/wayne/single_tiff/0033_frame_1.tif', '../datasets/wayne/single_tiff/0033_frame_2.tif'], 'max_cache_size': 50, 'ext': 'tif'}\n",
      "{0: <livecell_tracker.core.single_cell.SingleCellStatic object at 0x000001869A8BE5E0>, 1: <livecell_tracker.core.single_cell.SingleCellStatic object at 0x000001869A889DF0>, 2: <livecell_tracker.core.single_cell.SingleCellStatic object at 0x000001869A889AF0>}\n"
     ]
    }
   ],
   "source": [
    "import json\n",
    "with open(out_dir/\"test_traj.json\", \"r\") as f:\n",
    "    data = json.load(f)\n",
    "    tmp_traj = SingleCellTrajectory().load_from_json_dict(data)\n",
    "    print(tmp_traj.timeframe_set)\n",
    "    print(tmp_traj.raw_img_dataset.to_json_dict())\n",
    "    print(tmp_traj.timeframe_to_single_cell)"
   ]
  },
  {
   "cell_type": "code",
   "execution_count": 14,
   "metadata": {},
   "outputs": [
    {
     "data": {
      "text/html": [
       "<div>\n",
       "<style scoped>\n",
       "    .dataframe tbody tr th:only-of-type {\n",
       "        vertical-align: middle;\n",
       "    }\n",
       "\n",
       "    .dataframe tbody tr th {\n",
       "        vertical-align: top;\n",
       "    }\n",
       "\n",
       "    .dataframe thead th {\n",
       "        text-align: right;\n",
       "    }\n",
       "</style>\n",
       "<table border=\"1\" class=\"dataframe\">\n",
       "  <thead>\n",
       "    <tr style=\"text-align: right;\">\n",
       "      <th></th>\n",
       "      <th>haralick_0</th>\n",
       "      <th>haralick_1</th>\n",
       "      <th>haralick_2</th>\n",
       "      <th>haralick_3</th>\n",
       "      <th>haralick_4</th>\n",
       "      <th>haralick_5</th>\n",
       "      <th>haralick_6</th>\n",
       "      <th>haralick_7</th>\n",
       "      <th>haralick_8</th>\n",
       "      <th>haralick_9</th>\n",
       "      <th>...</th>\n",
       "      <th>skimage_moments_weighted_normalized-2-2</th>\n",
       "      <th>skimage_moments_weighted_normalized-2-3</th>\n",
       "      <th>skimage_moments_weighted_normalized-3-0</th>\n",
       "      <th>skimage_moments_weighted_normalized-3-1</th>\n",
       "      <th>skimage_moments_weighted_normalized-3-2</th>\n",
       "      <th>skimage_moments_weighted_normalized-3-3</th>\n",
       "      <th>skimage_orientation</th>\n",
       "      <th>skimage_perimeter</th>\n",
       "      <th>skimage_perimeter_crofton</th>\n",
       "      <th>skimage_solidity</th>\n",
       "    </tr>\n",
       "  </thead>\n",
       "  <tbody>\n",
       "    <tr>\n",
       "      <th>0</th>\n",
       "      <td>0.004051</td>\n",
       "      <td>19.356393</td>\n",
       "      <td>0.681229</td>\n",
       "      <td>30.390983</td>\n",
       "      <td>0.242941</td>\n",
       "      <td>50.609847</td>\n",
       "      <td>102.207538</td>\n",
       "      <td>5.29416</td>\n",
       "      <td>8.332393</td>\n",
       "      <td>0.002321</td>\n",
       "      <td>...</td>\n",
       "      <td>0.000008</td>\n",
       "      <td>3.754120e-08</td>\n",
       "      <td>-0.000007</td>\n",
       "      <td>0.000004</td>\n",
       "      <td>1.115476e-08</td>\n",
       "      <td>3.207436e-08</td>\n",
       "      <td>1.268785</td>\n",
       "      <td>175.254834</td>\n",
       "      <td>168.833518</td>\n",
       "      <td>0.970436</td>\n",
       "    </tr>\n",
       "    <tr>\n",
       "      <th>1</th>\n",
       "      <td>0.004051</td>\n",
       "      <td>19.356393</td>\n",
       "      <td>0.681229</td>\n",
       "      <td>30.390983</td>\n",
       "      <td>0.242941</td>\n",
       "      <td>50.609847</td>\n",
       "      <td>102.207538</td>\n",
       "      <td>5.29416</td>\n",
       "      <td>8.332393</td>\n",
       "      <td>0.002321</td>\n",
       "      <td>...</td>\n",
       "      <td>0.000008</td>\n",
       "      <td>3.754120e-08</td>\n",
       "      <td>-0.000007</td>\n",
       "      <td>0.000004</td>\n",
       "      <td>1.115476e-08</td>\n",
       "      <td>3.207436e-08</td>\n",
       "      <td>1.268785</td>\n",
       "      <td>175.254834</td>\n",
       "      <td>168.833518</td>\n",
       "      <td>0.970436</td>\n",
       "    </tr>\n",
       "    <tr>\n",
       "      <th>2</th>\n",
       "      <td>0.004051</td>\n",
       "      <td>19.356393</td>\n",
       "      <td>0.681229</td>\n",
       "      <td>30.390983</td>\n",
       "      <td>0.242941</td>\n",
       "      <td>50.609847</td>\n",
       "      <td>102.207538</td>\n",
       "      <td>5.29416</td>\n",
       "      <td>8.332393</td>\n",
       "      <td>0.002321</td>\n",
       "      <td>...</td>\n",
       "      <td>0.000008</td>\n",
       "      <td>3.754120e-08</td>\n",
       "      <td>-0.000007</td>\n",
       "      <td>0.000004</td>\n",
       "      <td>1.115476e-08</td>\n",
       "      <td>3.207436e-08</td>\n",
       "      <td>1.268785</td>\n",
       "      <td>175.254834</td>\n",
       "      <td>168.833518</td>\n",
       "      <td>0.970436</td>\n",
       "    </tr>\n",
       "  </tbody>\n",
       "</table>\n",
       "<p>3 rows × 160 columns</p>\n",
       "</div>"
      ],
      "text/plain": [
       "   haralick_0  haralick_1  haralick_2  haralick_3  haralick_4  haralick_5  \\\n",
       "0    0.004051   19.356393    0.681229   30.390983    0.242941   50.609847   \n",
       "1    0.004051   19.356393    0.681229   30.390983    0.242941   50.609847   \n",
       "2    0.004051   19.356393    0.681229   30.390983    0.242941   50.609847   \n",
       "\n",
       "   haralick_6  haralick_7  haralick_8  haralick_9  ...  \\\n",
       "0  102.207538     5.29416    8.332393    0.002321  ...   \n",
       "1  102.207538     5.29416    8.332393    0.002321  ...   \n",
       "2  102.207538     5.29416    8.332393    0.002321  ...   \n",
       "\n",
       "   skimage_moments_weighted_normalized-2-2  \\\n",
       "0                                 0.000008   \n",
       "1                                 0.000008   \n",
       "2                                 0.000008   \n",
       "\n",
       "   skimage_moments_weighted_normalized-2-3  \\\n",
       "0                             3.754120e-08   \n",
       "1                             3.754120e-08   \n",
       "2                             3.754120e-08   \n",
       "\n",
       "   skimage_moments_weighted_normalized-3-0  \\\n",
       "0                                -0.000007   \n",
       "1                                -0.000007   \n",
       "2                                -0.000007   \n",
       "\n",
       "   skimage_moments_weighted_normalized-3-1  \\\n",
       "0                                 0.000004   \n",
       "1                                 0.000004   \n",
       "2                                 0.000004   \n",
       "\n",
       "   skimage_moments_weighted_normalized-3-2  \\\n",
       "0                             1.115476e-08   \n",
       "1                             1.115476e-08   \n",
       "2                             1.115476e-08   \n",
       "\n",
       "   skimage_moments_weighted_normalized-3-3  skimage_orientation  \\\n",
       "0                             3.207436e-08             1.268785   \n",
       "1                             3.207436e-08             1.268785   \n",
       "2                             3.207436e-08             1.268785   \n",
       "\n",
       "   skimage_perimeter  skimage_perimeter_crofton  skimage_solidity  \n",
       "0         175.254834                 168.833518          0.970436  \n",
       "1         175.254834                 168.833518          0.970436  \n",
       "2         175.254834                 168.833518          0.970436  \n",
       "\n",
       "[3 rows x 160 columns]"
      ]
     },
     "execution_count": 14,
     "metadata": {},
     "output_type": "execute_result"
    }
   ],
   "source": [
    "from livecell_tracker.trajectory import feature_extractors\n",
    "\n",
    "traj.compute_features(\"haralick\", feature_extractors.compute_haralick_features)\n",
    "traj.compute_features(\"skimage\", feature_extractors.compute_skimage_regionprops)\n",
    "traj.get_sc_feature_table()"
   ]
  },
  {
   "cell_type": "markdown",
   "metadata": {},
   "source": [
    "## Run on all trajectories"
   ]
  },
  {
   "cell_type": "code",
   "execution_count": null,
   "metadata": {},
   "outputs": [],
   "source": [
    "def segment_all_sc_trajs_by_cellpose(sc_traj_collection: SingleCellTrajectoryCollection):\n",
    "    for traj_id, traj in tqdm(sc_traj_collection):\n",
    "        segment_update_traj(traj)"
   ]
  },
  {
   "cell_type": "code",
   "execution_count": 21,
   "metadata": {},
   "outputs": [
    {
     "name": "stderr",
     "output_type": "stream",
     "text": [
      "  3%|▎         | 102/3136 [03:20<1:32:25,  1.83s/it]"
     ]
    }
   ],
   "source": [
    "segment_all_sc_trajs_by_cellpose(sc_traj_collection)\n",
    "\n",
    "for traj_id, traj in tqdm(sc_traj_collection):\n",
    "    for time, sc_id in traj:\n",
    "        sc = traj[time]\n",
    "        if sc.bbox is None:\n",
    "            print(sc)\n",
    "\n",
    "sc_traj_collection.write_json(\"./notebook_results/wayne_data/traj_collection.json\")"
   ]
  },
  {
   "cell_type": "code",
   "execution_count": null,
   "metadata": {},
   "outputs": [],
   "source": [
    "sorted_paths = [str(Path(dataset_dir_path) / Path(filename)) for filename in sorted_filenames]"
   ]
  },
  {
   "cell_type": "code",
   "execution_count": null,
   "metadata": {},
   "outputs": [],
   "source": [
    "sorted_paths[:5]"
   ]
  },
  {
   "cell_type": "code",
   "execution_count": null,
   "metadata": {},
   "outputs": [],
   "source": [
    "os.path.exists(sorted_paths[0])"
   ]
  }
 ],
 "metadata": {
  "kernelspec": {
   "display_name": "Python 3.8.13 ('cv-general')",
   "language": "python",
   "name": "python3"
  },
  "language_info": {
   "codemirror_mode": {
    "name": "ipython",
    "version": 3
   },
   "file_extension": ".py",
   "mimetype": "text/x-python",
   "name": "python",
   "nbconvert_exporter": "python",
   "pygments_lexer": "ipython3",
   "version": "3.8.13"
  },
  "orig_nbformat": 4,
  "vscode": {
   "interpreter": {
    "hash": "b5dfbec2055422cee39dc040b31dfffa8b21a342109231ab17bc6ff9949c7133"
   }
  }
 },
 "nbformat": 4,
 "nbformat_minor": 2
}
