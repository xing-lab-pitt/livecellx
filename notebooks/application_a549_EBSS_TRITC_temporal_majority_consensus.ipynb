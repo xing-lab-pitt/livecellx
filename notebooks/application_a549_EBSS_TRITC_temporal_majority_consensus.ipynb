{
 "cells": [
  {
   "cell_type": "code",
   "execution_count": null,
   "metadata": {},
   "outputs": [],
   "source": [
    "import numpy as np\n",
    "import matplotlib.pyplot as plt\n",
    "from cellpose import models\n",
    "from cellpose.io import imread\n",
    "import glob\n",
    "from pathlib import Path\n",
    "from PIL import Image, ImageSequence\n",
    "from tqdm import tqdm\n",
    "import os\n",
    "import os.path\n",
    "from livecell_tracker import segment\n",
    "from livecell_tracker import core\n",
    "from livecell_tracker.core import datasets\n",
    "from livecell_tracker.core.datasets import LiveCellImageDataset\n",
    "from skimage import measure\n",
    "from livecell_tracker.core import SingleCellTrajectory, SingleCellStatic\n",
    "import detectron2\n",
    "from detectron2.utils.logger import setup_logger\n",
    "\n",
    "setup_logger()\n",
    "\n",
    "# import some common libraries\n",
    "import numpy as np\n",
    "import os, json, cv2, random\n",
    "import cv2\n",
    "\n",
    "# import some common detectron2 utilities\n",
    "from detectron2 import model_zoo\n",
    "from detectron2.engine import DefaultPredictor\n",
    "from detectron2.config import get_cfg\n",
    "from detectron2.utils.visualizer import Visualizer\n",
    "from detectron2.data import MetadataCatalog, DatasetCatalog\n",
    "from livecell_tracker.segment.detectron_utils import gen_cfg\n",
    "\n",
    "from livecell_tracker.segment.detectron_utils import (\n",
    "    segment_detectron_wrapper,\n",
    "    segment_images_by_detectron,\n",
    "    convert_detectron_instance_pred_masks_to_binary_masks,\n",
    "    convert_detectron_instances_to_label_masks,\n",
    ")\n",
    "from livecell_tracker.segment.detectron_utils import (\n",
    "    convert_detectron_instance_pred_masks_to_binary_masks,\n",
    "    convert_detectron_instances_to_label_masks,\n",
    "    segment_images_by_detectron,\n",
    "    segment_single_img_by_detectron_wrapper,\n",
    ")\n",
    "\n",
    "\n",
    "dataset_dir_path = Path(\n",
    "    \"../datasets/test_data_STAV-A549/DIC_data\"\n",
    ")\n",
    "\n",
    "mask_dataset_path = Path(\"../datasets/test_data_STAV-A549/mask_data\")\n",
    "mask_dataset = LiveCellImageDataset(mask_dataset_path, ext=\"png\")\n",
    "dic_dataset = LiveCellImageDataset(dataset_dir_path, ext=\"tif\")"
   ]
  },
  {
   "cell_type": "code",
   "execution_count": null,
   "metadata": {},
   "outputs": [],
   "source": [
    "dataset_dir_path = Path(\n",
    "    \"../datasets/EBSS_Starvation/tif_STAV-A549_VIM_24hours_NoTreat_NA_YL_Ti2e_2022-12-21/XY16/\"\n",
    ")\n",
    "\n",
    "mask_dataset_path = Path(\"../datasets/EBSS_Starvation/tif_STAV-A549_VIM_24hours_NoTreat_NA_YL_Ti2e_2022-12-21/out/XY16/seg\")\n",
    "\n",
    "mask_dataset = LiveCellImageDataset(mask_dataset_path, ext=\"png\")\n",
    "time2url = sorted(glob.glob(str((Path(dataset_dir_path) / Path(\"*_DIC.tif\")))))\n",
    "time2url = {i: path for i, path in enumerate(time2url)}\n",
    "dic_dataset = LiveCellImageDataset(time2url=time2url, ext=\"tif\")"
   ]
  },
  {
   "attachments": {},
   "cell_type": "markdown",
   "metadata": {},
   "source": [
    "Convert label masks to single objects"
   ]
  },
  {
   "cell_type": "code",
   "execution_count": null,
   "metadata": {},
   "outputs": [],
   "source": [
    "from livecell_tracker.core.io_sc import process_scs_from_label_mask, prep_scs_from_mask_dataset\n",
    "\n",
    "single_cells = prep_scs_from_mask_dataset(mask_dataset, dic_dataset)"
   ]
  },
  {
   "cell_type": "code",
   "execution_count": null,
   "metadata": {},
   "outputs": [],
   "source": [
    "# for testing\n",
    "# single_cells = single_cells[:10]"
   ]
  },
  {
   "cell_type": "code",
   "execution_count": null,
   "metadata": {},
   "outputs": [],
   "source": [
    "len(single_cells)"
   ]
  },
  {
   "attachments": {},
   "cell_type": "markdown",
   "metadata": {},
   "source": [
    "Check the cells visually"
   ]
  },
  {
   "cell_type": "code",
   "execution_count": null,
   "metadata": {},
   "outputs": [],
   "source": [
    "# for time in overlap_map_by_time:\n",
    "#     overlap_map = overlap_map_by_time[time]\n",
    "#     for sc_tmp1, sc_tmp2 in overlap_map:\n",
    "#         if sc_tmp1 == sc_tmp2:\n",
    "#             continue\n",
    "#         if overlap_map[(sc_tmp1, sc_tmp2)][0] > 0:\n",
    "#             print(sc_tmp1.timeframe, sc_tmp2.timeframe, overlap_map[(sc_tmp1, sc_tmp2)])\n",
    "#             fig, axes = plt.subplots(1, 6, figsize=(15, 5))\n",
    "#             padding=50\n",
    "#             sc_tmp1.show_contour_mask(crop=False, ax = axes[0])\n",
    "#             sc_tmp2.show_contour_mask(crop=False, ax = axes[1])\n",
    "#             sc_tmp1.show(crop=True, ax = axes[2], padding=padding)\n",
    "#             sc_tmp2.show(crop=True, ax = axes[3], padding=padding)\n",
    "#             sc_tmp1.show_contour_mask(crop=True, ax = axes[4], padding=padding)\n",
    "#             sc_tmp2.show_contour_mask(crop=True, ax = axes[5], padding=padding)\n",
    "#             plt.show()\n"
   ]
  },
  {
   "attachments": {},
   "cell_type": "markdown",
   "metadata": {},
   "source": [
    "```\n",
    "sc.datasets[\"img\"]\n",
    "sc.datasets[\"mask\"]\n",
    "sc.datasets[\"label\"]\n",
    "sc.datasets[\"TRITC\"]\n",
    "```"
   ]
  },
  {
   "cell_type": "code",
   "execution_count": null,
   "metadata": {},
   "outputs": [],
   "source": [
    "from livecell_tracker.segment.utils import match_mask_labels_by_iou"
   ]
  },
  {
   "cell_type": "markdown",
   "metadata": {},
   "source": [
    "## Track cells"
   ]
  },
  {
   "cell_type": "code",
   "execution_count": null,
   "metadata": {},
   "outputs": [],
   "source": [
    "from typing import List\n",
    "from livecell_tracker.track.sort_tracker_utils import (\n",
    "    gen_SORT_detections_input_from_contours,\n",
    "    update_traj_collection_by_SORT_tracker_detection,\n",
    "    track_SORT_bbox_from_contours,\n",
    "    track_SORT_bbox_from_scs\n",
    ")\n",
    "traj_collection = track_SORT_bbox_from_scs(single_cells, dic_dataset, mask_dataset=mask_dataset, max_age=1, min_hits=1)"
   ]
  },
  {
   "cell_type": "markdown",
   "metadata": {},
   "source": [
    "Within the same trajectory, check if there is any multiple mapping issue within an interval"
   ]
  },
  {
   "cell_type": "code",
   "execution_count": null,
   "metadata": {},
   "outputs": [],
   "source": [
    "from livecell_tracker.segment.utils import filter_labels_match_map\n",
    "def filter_labels_match_map(gt2seg_iou__map, iou_threshold):\n",
    "    label_map = {}\n",
    "    for label_1 in gt2seg_iou__map:\n",
    "        label_map[label_1] = {}\n",
    "        for score_info in gt2seg_iou__map[label_1]:\n",
    "            if score_info[\"iou\"] > iou_threshold:\n",
    "                label_map[label_1][score_info[\"seg_label\"]] = {\"iou\": score_info[\"iou\"]}\n",
    "    return label_map"
   ]
  },
  {
   "cell_type": "code",
   "execution_count": null,
   "metadata": {},
   "outputs": [],
   "source": [
    "from livecell_tracker.model_zoo.segmentation.sc_correction import CorrectSegNet\n",
    "# ckpt = r\"/home/ken67/LiveCellTracker-dev/notebooks/lightning_logs/version_real-02/checkpoints/epoch=3720-test_loss=0.0085.ckpt\"\n",
    "# ckpt = r\"/home/ken67/LiveCellTracker-dev/notebooks/lightning_logs/version_802/checkpoints/epoch=2570-test_out_matched_num_gt_iou_0.5_percent_real_underseg_cases=0.8548.ckpt\"\n",
    "# ckpt = r\"/home/ken67/LiveCellTracker-dev/notebooks/lightning_logs/version_v10_02/checkpoints/epoch=2999-global_step=0.ckpt\"\n",
    "ckpt = r\"/home/ken67/LiveCellTracker-dev/notebooks/lightning_logs/version_v10_02/checkpoints/epoch=5999-global_step=0.ckpt\"\n",
    "\n",
    "model = CorrectSegNet.load_from_checkpoint(ckpt)\n",
    "model = model.cuda()\n",
    "model = model.eval()"
   ]
  },
  {
   "attachments": {},
   "cell_type": "markdown",
   "metadata": {},
   "source": [
    "Psuedocode  \n",
    "\n",
    "Start at each timepoint  \n",
    "    from t to t + window_size  \n",
    "    count if segmentation at time t conforms with the majority of the segmentation results  \n",
    "    try using correction CNN to correct if not\n",
    "    "
   ]
  },
  {
   "cell_type": "code",
   "execution_count": null,
   "metadata": {},
   "outputs": [],
   "source": [
    "from livecell_tracker.segment.ou_viz import viz_ou_sc_outputs\n",
    "from livecell_tracker.core.parallel import parallelize\n",
    "from torchvision import transforms\n",
    "\n",
    "trajectory = traj_collection.get_trajectory(5)\n",
    "input_transforms = transforms.Compose(\n",
    "        [\n",
    "            transforms.Resize(size=(412, 412)),\n",
    "        ]\n",
    ")\n",
    "fig_out_dir = Path(\"./tmp_csn_temporal_correct\")\n",
    "os.makedirs(fig_out_dir, exist_ok=True)\n",
    "\n",
    "padding_pixels = 50\n",
    "one_object = True\n",
    "out_threshold=4\n",
    "remove_bg = False\n",
    "\n",
    "def consensus_trajectory(trajectory: SingleCellTrajectory, sliding_window=3, iou_threshold=0.3):\n",
    "    failed_consensus_track_times = []\n",
    "    conflict_track_id_and_time_pairs = []\n",
    "    track_id = trajectory.track_id\n",
    "\n",
    "    for time, pivot_sc in trajectory:\n",
    "        _consensus = []\n",
    "        cur_bbox = pivot_sc.get_bbox()\n",
    "        cur_label_mask = pivot_sc.get_sc_mask() # a mask containing one label\n",
    "        cur_time = time \n",
    "        for i in range(sliding_window):\n",
    "            # next_time = time + i + 1\n",
    "            cur_time = trajectory.next_time(cur_time)\n",
    "            if (cur_time is None):\n",
    "                break\n",
    "            next_sc = trajectory[cur_time]\n",
    "            next_label_mask = next_sc.get_mask_crop(bbox=cur_bbox, dtype=int)\n",
    "            _, all_gt2seg_iou__map = match_mask_labels_by_iou(next_label_mask, cur_label_mask, return_all=True)\n",
    "            label_map =  filter_labels_match_map(all_gt2seg_iou__map, iou_threshold=iou_threshold)\n",
    "            assert len(label_map) == 1, \"only one label should be matched\"\n",
    "            label = list(label_map)[0]\n",
    "            is_uniform_map = len(label_map[label]) == 1\n",
    "            _consensus.append(is_uniform_map)\n",
    "            if not is_uniform_map:\n",
    "                conflict_track_id_and_time_pairs.append((track_id, time, cur_time))\n",
    "        if len(_consensus) == 0:\n",
    "            continue\n",
    "        is_majority_consenus = sum(_consensus) > (len(_consensus) / 2 - 1) # -1 for including itself\n",
    "        # print(\"is_majority_consenus:\", is_majority_consenus)\n",
    "        if not is_majority_consenus:\n",
    "            failed_consensus_track_times.append((trajectory.track_id, time))\n",
    "    return failed_consensus_track_times, conflict_track_id_and_time_pairs\n",
    "\n",
    "inputs = []\n",
    "iou_threshold = 0.3\n",
    "sliding_window = 10\n",
    "for track_id, trajectory in traj_collection:\n",
    "    inputs.append((trajectory, sliding_window, iou_threshold))\n",
    "\n",
    "results = parallelize(consensus_trajectory, inputs)"
   ]
  },
  {
   "cell_type": "code",
   "execution_count": null,
   "metadata": {},
   "outputs": [],
   "source": [
    "failed_consensus_track_times = [item for x in [result[0] for result in results] for item in x ]\n",
    "conflict_track_id_and_time_pairs = [item for x in [result[1] for result in results] for item in x ]"
   ]
  },
  {
   "cell_type": "code",
   "execution_count": null,
   "metadata": {},
   "outputs": [],
   "source": [
    "len(traj_collection), len(failed_consensus_track_times), len(conflict_track_id_and_time_pairs)"
   ]
  },
  {
   "cell_type": "code",
   "execution_count": null,
   "metadata": {},
   "outputs": [],
   "source": [
    "total_track_time_pairs = 0\n",
    "for _, trajectory in traj_collection:\n",
    "    total_track_time_pairs += len(trajectory)\n",
    "total_track_time_pairs"
   ]
  },
  {
   "cell_type": "code",
   "execution_count": null,
   "metadata": {},
   "outputs": [],
   "source": [
    "failed_consensus_track_times[:5]"
   ]
  },
  {
   "cell_type": "code",
   "execution_count": null,
   "metadata": {},
   "outputs": [],
   "source": [
    "conflict_track_id_and_time_pairs[:2]"
   ]
  },
  {
   "cell_type": "code",
   "execution_count": null,
   "metadata": {},
   "outputs": [],
   "source": [
    "trajectory.timeframe_set"
   ]
  },
  {
   "cell_type": "code",
   "execution_count": null,
   "metadata": {},
   "outputs": [],
   "source": [
    "conflict_track_id_and_time_pairs[0][0]\n",
    "trajectory = traj_collection.get_trajectory(track_id)\n",
    "trajectory.timeframe_set"
   ]
  },
  {
   "cell_type": "code",
   "execution_count": null,
   "metadata": {},
   "outputs": [],
   "source": [
    "conflict_track_idx = 120\n",
    "track_id = conflict_track_id_and_time_pairs[conflict_track_idx][0]\n",
    "time = conflict_track_id_and_time_pairs[conflict_track_idx][1]\n",
    "cur_time = conflict_track_id_and_time_pairs[conflict_track_idx][2]\n",
    "\n",
    "trajectory = traj_collection.get_trajectory(track_id)\n",
    "\n",
    "cur_sc = trajectory[time]\n",
    "next_sc = trajectory[cur_time]\n",
    "cur_bbox = cur_sc.get_bbox()\n",
    "cur_label_mask = cur_sc.get_sc_mask()\n",
    "fig_out_dir = Path(\"./tmp_csn_temporal_correct\")\n",
    "os.makedirs(fig_out_dir, exist_ok=True)\n",
    "\n",
    "print(\">\" * 80)\n",
    "print(\"track id:\", track_id)\n",
    "print(\"time, next_time:\", time, cur_time)\n",
    "print(\"current sc:\")\n",
    "# viz cells\n",
    "cur_sc.show_panel(padding=50)\n",
    "# plt.savefig(fig_out_dir / f\"{track_id}_{time}_{next_time}_first.png\")\n",
    "viz_ou_sc_outputs(cur_sc, model, transforms=input_transforms, save_path=fig_out_dir / f\"{track_id}_{time}_{cur_time}_first_csn.png\", show=True, remove_bg=remove_bg,padding_pixels=padding_pixels,out_threshold=out_threshold)\n",
    "for i in range(sliding_window):\n",
    "    cur_time = time + i + 1\n",
    "    if cur_time not in trajectory.timeframe_set:\n",
    "        print(\"next time not in trajectory.timeframe_set\")\n",
    "        continue\n",
    "    next_sc = trajectory[cur_time]\n",
    "    next_label_mask = next_sc.get_mask_crop(bbox=cur_bbox, dtype=int)\n",
    "\n",
    "    print(\"sc at time:\", cur_time)\n",
    "    next_sc.show_panel(padding=50)\n",
    "    # plt.savefig(fig_out_dir / f\"{track_id}_{time}_{next_time}_second.png\")\n",
    "    \n",
    "    viz_ou_sc_outputs(next_sc, model, transforms=input_transforms, save_path=fig_out_dir / f\"{track_id}_{time}_{cur_time}_second_csn.png\", show=True, remove_bg=remove_bg, padding_pixels=padding_pixels, out_threshold=out_threshold)"
   ]
  }
 ],
 "metadata": {
  "kernelspec": {
   "display_name": "Python 3",
   "language": "python",
   "name": "python3"
  },
  "language_info": {
   "codemirror_mode": {
    "name": "ipython",
    "version": 3
   },
   "file_extension": ".py",
   "mimetype": "text/x-python",
   "name": "python",
   "nbconvert_exporter": "python",
   "pygments_lexer": "ipython3",
   "version": "3.10.8"
  },
  "orig_nbformat": 4,
  "vscode": {
   "interpreter": {
    "hash": "d9c7226d793827cd27273ad20fbb4775c3cb91053ab9378a09de5f8c6f258919"
   }
  }
 },
 "nbformat": 4,
 "nbformat_minor": 2
}
