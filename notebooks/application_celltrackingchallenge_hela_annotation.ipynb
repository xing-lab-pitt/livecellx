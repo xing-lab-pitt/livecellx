{
 "cells": [
  {
   "cell_type": "code",
   "execution_count": null,
   "metadata": {},
   "outputs": [],
   "source": [
    "import glob\n",
    "from pathlib import Path\n",
    "import numpy as np\n",
    "import pandas as pd\n",
    "import umap\n",
    "import matplotlib.pyplot as plt\n",
    "\n",
    "from livecellx.core.datasets import LiveCellImageDataset\n",
    "from livecellx.sample_data import tutorial_three_image_sys\n",
    "\n",
    "from livecellx.trajectory.feature_extractors import compute_haralick_features, compute_skimage_regionprops\n",
    "from livecellx.preprocess.utils import normalize_img_to_uint8\n",
    "from livecellx.core.parallel import parallelize\n",
    "from livecellx.core.io_sc import prep_scs_from_mask_dataset\n",
    "from livecellx.core.single_cell import create_sc_table\n",
    "import livecellx.core.single_cell\n",
    "from livecellx.core.single_cell import SingleCellStatic\n",
    "from livecellx.core.io_utils import LiveCellEncoder\n",
    "\n",
    "\n",
    "# dataset_dir_path = Path(\n",
    "#     \"../datasets/celltrackingchallenge/BF-C2DL-HSC/BF-C2DL-HSC/01\"\n",
    "# )\n",
    "\n",
    "# mask_dataset_path = Path(\"../datasets/celltrackingchallenge/BF-C2DL-HSC/BF-C2DL-HSC/01_GT/TRA\")\n",
    "\n",
    "dataset_dir_path = Path(\n",
    "    \"../datasets/celltrackingchallenge/DIC-C2DH-HeLa/DIC-C2DH-HeLa/01\"\n",
    ")\n",
    "\n",
    "# mask_dataset_path = Path(\"../datasets/celltrackingchallenge/DIC-C2DH-HeLa/DIC-C2DH-HeLa/01_GT/TRA\")\n",
    "# mask_dataset = LiveCellImageDataset(mask_dataset_path, ext=\"tif\")\n",
    "def extract_mask_time(filename):\n",
    "    \"\"\"seg_{time}.png -> time\"\"\"\n",
    "    return int(filename.split(\"_\")[1].split(\".\")[0])\n",
    "\n",
    "mask_dataset_dir = Path(r\"./application_results/celltrackingchallenge/hela_segmentation_cellpose_tn1/seg\")\n",
    "mask_time2url_paths = sorted(glob.glob(str((Path(mask_dataset_dir) / Path(\"*.png\")))))\n",
    "mask_time2url = {extract_mask_time(Path(path).name): path for path in mask_time2url_paths}\n",
    "\n",
    "\n",
    "mask_dataset = LiveCellImageDataset(time2url=mask_time2url, ext=\"png\")\n",
    "\n",
    "time2url = sorted(glob.glob(str((Path(dataset_dir_path) / Path(\"*.tif\")))))\n",
    "time2url = {i: path for i, path in enumerate(time2url)}\n",
    "img_dataset = LiveCellImageDataset(time2url=time2url, ext=\"tif\")"
   ]
  },
  {
   "cell_type": "code",
   "execution_count": null,
   "metadata": {},
   "outputs": [],
   "source": [
    "silver_mask_dir = Path(\"../datasets/celltrackingchallenge/DIC-C2DH-HeLa/DIC-C2DH-HeLa/01_ST/SEG\")\n",
    "silver_mask_dataset = LiveCellImageDataset(silver_mask_dir, ext=\"tif\")"
   ]
  },
  {
   "cell_type": "code",
   "execution_count": null,
   "metadata": {},
   "outputs": [],
   "source": [
    "len(img_dataset), len(mask_dataset)"
   ]
  },
  {
   "cell_type": "code",
   "execution_count": null,
   "metadata": {},
   "outputs": [],
   "source": [
    "out_dir = Path(\"application_results/celltrackingchallenge/testing\")\n",
    "out_dir.mkdir(exist_ok=True, parents=True)"
   ]
  },
  {
   "cell_type": "markdown",
   "metadata": {},
   "source": [
    "Compute the features  \n",
    "Read the features in the next section if you already computed the features."
   ]
  },
  {
   "cell_type": "code",
   "execution_count": null,
   "metadata": {},
   "outputs": [],
   "source": [
    "from livecellx.core.io_sc import prep_scs_from_mask_dataset\n",
    "scs = prep_scs_from_mask_dataset(mask_dataset, img_dataset)"
   ]
  },
  {
   "cell_type": "code",
   "execution_count": null,
   "metadata": {},
   "outputs": [],
   "source": [
    "from livecellx.core.io_sc import prep_scs_from_mask_dataset\n",
    "silver_seg_scs = prep_scs_from_mask_dataset(silver_mask_dataset, img_dataset)"
   ]
  },
  {
   "cell_type": "code",
   "execution_count": null,
   "metadata": {},
   "outputs": [],
   "source": [
    "import importlib\n",
    "import livecellx\n",
    "importlib.reload(livecellx.trajectory.feature_extractors)\n",
    "from livecellx.trajectory.feature_extractors import compute_haralick_features, compute_skimage_regionprops, parallelize_compute_features\n",
    "from livecellx.preprocess.utils import normalize_img_to_uint8\n",
    "from livecellx.core.parallel import parallelize\n",
    "\n",
    "outputs = parallelize_compute_features(scs, compute_skimage_regionprops, dict(preprocess_img_func=normalize_img_to_uint8, sc_level_normalize=True))\n",
    "features = outputs[0]\n",
    "scs = outputs[1]\n",
    "\n",
    "# # for sequential version without using parallelize\n",
    "# for sc in scs:\n",
    "#     features = compute_skimage_regionprops(sc, preprocess_img_func=normalize_img_to_uint8, sc_level_normalize=True)"
   ]
  },
  {
   "cell_type": "code",
   "execution_count": null,
   "metadata": {},
   "outputs": [],
   "source": [
    "features = outputs[0]\n",
    "scs = outputs[1]"
   ]
  },
  {
   "cell_type": "code",
   "execution_count": null,
   "metadata": {},
   "outputs": [],
   "source": [
    "from typing import List\n",
    "from livecellx.track.sort_tracker_utils import (\n",
    "    gen_SORT_detections_input_from_contours,\n",
    "    update_traj_collection_by_SORT_tracker_detection,\n",
    "    track_SORT_bbox_from_contours,\n",
    "    track_SORT_bbox_from_scs\n",
    ")\n",
    "\n",
    "\n",
    "sdata = track_SORT_bbox_from_scs(scs, img_dataset, mask_dataset=mask_dataset, max_age=0, min_hits=1)"
   ]
  },
  {
   "cell_type": "code",
   "execution_count": null,
   "metadata": {},
   "outputs": [],
   "source": [
    "sdata.get_all_track_ids()"
   ]
  },
  {
   "cell_type": "code",
   "execution_count": null,
   "metadata": {},
   "outputs": [],
   "source": [
    "silver_sdata = track_SORT_bbox_from_scs(silver_seg_scs, img_dataset, mask_dataset=silver_mask_dataset, max_age=0, min_hits=1)"
   ]
  },
  {
   "cell_type": "code",
   "execution_count": null,
   "metadata": {},
   "outputs": [],
   "source": [
    "sdata_copy = track_SORT_bbox_from_scs(scs, img_dataset, mask_dataset=mask_dataset, max_age=0, min_hits=1)"
   ]
  },
  {
   "cell_type": "code",
   "execution_count": null,
   "metadata": {},
   "outputs": [],
   "source": [
    "sct_operator.annotate_click_samples"
   ]
  },
  {
   "cell_type": "code",
   "execution_count": null,
   "metadata": {},
   "outputs": [],
   "source": [
    "from livecellx.core.single_cell import SingleCellTrajectoryCollection, SingleCellTrajectory\n",
    "\n",
    "\n",
    "SingleCellTrajectory.show_trajectory_on_grid(sdata_copy.get_trajectory(92), padding=100)"
   ]
  },
  {
   "cell_type": "code",
   "execution_count": null,
   "metadata": {},
   "outputs": [],
   "source": [
    "def remove_empty_sc(self):\n",
    "    remove_tids = []\n",
    "    remove_scs = []\n",
    "    for tid, sct in self:\n",
    "        sc = sct.get_all_scs()[0]\n",
    "        if len(sc.contour) == 0:\n",
    "            remove_tids.append(tid)\n",
    "            remove_scs.append(sc)\n",
    "    for tid in remove_tids:\n",
    "        self.pop_trajectory(tid)\n",
    "remove_empty_sc(sdata)"
   ]
  },
  {
   "cell_type": "code",
   "execution_count": null,
   "metadata": {},
   "outputs": [],
   "source": [
    "from livecellx.core.sc_seg_operator import create_sc_seg_napari_ui\n",
    "from livecellx.core.sct_operator import create_sctc_edit_viewer_by_interval\n",
    "from livecellx.core.single_cell import (\n",
    "    SingleCellTrajectoryCollection,\n",
    "    SingleCellStatic,\n",
    "    SingleCellTrajectory,\n",
    "    create_sctc_from_scs,\n",
    "    filter_sctc_by_time_span,\n",
    ")\n",
    "import importlib\n",
    "importlib.reload(livecellx.core.sct_operator)\n",
    "\n",
    "tmp_sdata = create_sctc_from_scs(sdata.get_all_scs())\n",
    "sct_operator = livecellx.core.sct_operator.create_sctc_edit_viewer_by_interval(tmp_sdata, img_dataset, span_interval=1000)"
   ]
  },
  {
   "cell_type": "code",
   "execution_count": null,
   "metadata": {},
   "outputs": [],
   "source": [
    "len(sct_operator.cls2annotated_sample_infos[\"mitosis\"])"
   ]
  },
  {
   "cell_type": "code",
   "execution_count": null,
   "metadata": {},
   "outputs": [],
   "source": [
    "sc_annotation_labels = []\n",
    "sc_annotation_labels_strs = []\n",
    "for sc in sct_operator.shape_layer.properties[\"sc\"]:\n",
    "    sc_annotation_labels.append([])\n",
    "    sc_annotation_labels_strs.append(\"\")\n",
    "    if \"_annotation_label_info\" not in sc.meta:\n",
    "        continue\n",
    "    for info in sc.meta[\"_annotation_label_info\"]:\n",
    "        sc_annotation_labels[-1].extend([info[\"label\"]])\n",
    "    sc_annotation_labels[-1] = list(set(sc_annotation_labels[-1]))\n",
    "    annotation_repr = \",\".join(sc_annotation_labels[-1])\n",
    "    sc_annotation_labels_strs[-1] = annotation_repr\n",
    "\n",
    "all_proerties = sct_operator.shape_layer.properties\n",
    "all_proerties[\"annotation_labels\"] = sc_annotation_labels_strs\n",
    "sct_operator.shape_layer.properties = all_proerties\n",
    "sct_operator.shape_layer.text = \"annotation_labels\""
   ]
  },
  {
   "cell_type": "code",
   "execution_count": null,
   "metadata": {},
   "outputs": [],
   "source": [
    "out_dir = Path(\"application_results/celltrackingchallenge/DIC-C2DH-HeLa/01_annotation\")\n",
    "out_dir.mkdir(exist_ok=True, parents=True)\n",
    "sct_operator.save_annotations(out_dir)"
   ]
  },
  {
   "cell_type": "code",
   "execution_count": null,
   "metadata": {},
   "outputs": [],
   "source": [
    "sct_operator.created_objects"
   ]
  },
  {
   "cell_type": "code",
   "execution_count": null,
   "metadata": {},
   "outputs": [],
   "source": [
    "import napari\n",
    "napari.__version__"
   ]
  },
  {
   "cell_type": "markdown",
   "metadata": {},
   "source": []
  },
  {
   "cell_type": "code",
   "execution_count": null,
   "metadata": {},
   "outputs": [],
   "source": [
    "silver_sct_operator = livecellx.core.sct_operator.create_sctc_edit_viewer_by_interval(silver_sdata, img_dataset, viewer=sct_operator.viewer, span_interval=1000)"
   ]
  },
  {
   "cell_type": "code",
   "execution_count": null,
   "metadata": {},
   "outputs": [],
   "source": [
    "from livecellx.core.io_sc import prep_scs_from_mask_dataset\n",
    "scs = prep_scs_from_mask_dataset(mask_dataset, img_dataset)"
   ]
  }
 ],
 "metadata": {
  "kernelspec": {
   "display_name": "livecell",
   "language": "python",
   "name": "python3"
  },
  "language_info": {
   "codemirror_mode": {
    "name": "ipython",
    "version": 3
   },
   "file_extension": ".py",
   "mimetype": "text/x-python",
   "name": "python",
   "nbconvert_exporter": "python",
   "pygments_lexer": "ipython3",
   "version": "3.9.16"
  }
 },
 "nbformat": 4,
 "nbformat_minor": 2
}
