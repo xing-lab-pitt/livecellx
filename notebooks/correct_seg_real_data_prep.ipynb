{
 "cells": [
  {
   "cell_type": "code",
   "execution_count": null,
   "metadata": {},
   "outputs": [],
   "source": [
    "import numpy as np\n",
    "import matplotlib.pyplot as plt\n",
    "from cellpose import models\n",
    "from cellpose.io import imread\n",
    "import glob\n",
    "from pathlib import Path\n",
    "from PIL import Image, ImageSequence\n",
    "from tqdm import tqdm\n",
    "import os\n",
    "import os.path\n",
    "from livecell_tracker import segment\n",
    "from livecell_tracker import core\n",
    "from livecell_tracker.core import datasets\n",
    "from livecell_tracker.core.datasets import LiveCellImageDataset\n",
    "from skimage import measure\n",
    "from livecell_tracker.core import SingleCellTrajectory, SingleCellStatic\n",
    "import detectron2\n",
    "from detectron2.utils.logger import setup_logger\n",
    "import tqdm\n",
    "setup_logger()\n",
    "\n",
    "# import some common libraries\n",
    "import numpy as np\n",
    "import os, json, cv2, random\n",
    "import cv2\n",
    "\n",
    "# import some common detectron2 utilities\n",
    "from detectron2 import model_zoo\n",
    "from detectron2.engine import DefaultPredictor\n",
    "from detectron2.config import get_cfg\n",
    "from detectron2.utils.visualizer import Visualizer\n",
    "from detectron2.data import MetadataCatalog, DatasetCatalog\n",
    "from livecell_tracker.segment.detectron_utils import gen_cfg\n",
    "\n",
    "from livecell_tracker.segment.detectron_utils import (\n",
    "    segment_detectron_wrapper,\n",
    "    segment_images_by_detectron,\n",
    "    convert_detectron_instance_pred_masks_to_binary_masks,\n",
    "    convert_detectron_instances_to_label_masks,\n",
    ")\n",
    "from livecell_tracker.segment.detectron_utils import (\n",
    "    convert_detectron_instance_pred_masks_to_binary_masks,\n",
    "    convert_detectron_instances_to_label_masks,\n",
    "    segment_images_by_detectron,\n",
    "    segment_single_img_by_detectron_wrapper,\n",
    ")\n",
    "\n",
    "\n",
    "dataset_dir_path = Path(\n",
    "    \"../datasets/EBSS_Starvation/tif_STAV-A549_VIM_24hours_NoTreat_NA_YL_Ti2e_2022-12-21/XY1\"\n",
    ")\n",
    "\n",
    "mask_dataset_path = Path(\"../datasets/EBSS_Starvation/tif_STAV-A549_VIM_24hours_NoTreat_NA_YL_Ti2e_2022-12-21/out/XY9/seg\")"
   ]
  },
  {
   "cell_type": "code",
   "execution_count": null,
   "metadata": {},
   "outputs": [],
   "source": [
    "def get_time_from_path(path):\n",
    "    \"\"\"example path: STAV-A549_VIM_24hours_NoTreat_NA_YL_Ti2e_2022-12-21_T287_XY09_TRITC.tif\"\"\"\n",
    "    idx = 0\n",
    "    strs = path.split(\"_\")\n",
    "    while idx < len(strs) - 1:\n",
    "        if strs[idx][:2] == \"XY\":\n",
    "            break\n",
    "        idx += 1\n",
    "    idx -= 1\n",
    "    return int(strs[idx][1:])\n",
    "get_time_from_path(\"example path: STAV-A549_VIM_24hours_NoTreat_NA_YL_Ti2e_2022-12-21_T287_XY09_DIC.tif\")"
   ]
  },
  {
   "cell_type": "code",
   "execution_count": null,
   "metadata": {},
   "outputs": [],
   "source": [
    "mask_time2url = {}\n",
    "mask_paths = sorted(glob.glob(str(mask_dataset_path / \"*.png\")))\n",
    "for mask_path in mask_paths:\n",
    "    mask_time2url[get_time_from_path(mask_path)] = mask_path\n",
    "mask_dataset = LiveCellImageDataset(ext=\"png\", time2url=mask_time2url)\n",
    "len(mask_dataset)"
   ]
  },
  {
   "cell_type": "code",
   "execution_count": null,
   "metadata": {},
   "outputs": [],
   "source": [
    "\n",
    "time2url = {}\n",
    "img_paths = sorted(glob.glob(str(dataset_dir_path / \"*_DIC.tif\")))\n",
    "\n",
    "for img_path in img_paths:\n",
    "    time = get_time_from_path(img_path)\n",
    "    time2url[time] = img_path\n",
    "\n",
    "dic_dataset = LiveCellImageDataset(dataset_dir_path, time2url=time2url, ext=\"tif\")"
   ]
  },
  {
   "cell_type": "code",
   "execution_count": null,
   "metadata": {},
   "outputs": [],
   "source": [
    "list(dic_dataset.time2url.items())[:5]"
   ]
  },
  {
   "cell_type": "code",
   "execution_count": null,
   "metadata": {},
   "outputs": [],
   "source": [
    "len(dic_dataset.time2url)"
   ]
  },
  {
   "attachments": {},
   "cell_type": "markdown",
   "metadata": {},
   "source": [
    "check co-existence of times"
   ]
  },
  {
   "cell_type": "code",
   "execution_count": null,
   "metadata": {},
   "outputs": [],
   "source": [
    "for time in mask_dataset.time2url:\n",
    "    assert time in dic_dataset.time2url\n",
    "\n",
    "for time in dic_dataset.time2url:\n",
    "    assert time in mask_dataset.time2url"
   ]
  },
  {
   "attachments": {},
   "cell_type": "markdown",
   "metadata": {},
   "source": [
    "Convert label masks to single objects"
   ]
  },
  {
   "cell_type": "code",
   "execution_count": null,
   "metadata": {},
   "outputs": [],
   "source": [
    "from multiprocessing import Pool\n",
    "from skimage.measure import regionprops\n",
    "\n",
    "\n",
    "def process_mask(mask_dataset, dic_dataset, time):\n",
    "    seg_mask = mask_dataset.get_img_by_time(time)\n",
    "    props_list = regionprops(seg_mask)\n",
    "    _scs = []\n",
    "    for prop in props_list:\n",
    "        _scs.append(\n",
    "            SingleCellStatic(\n",
    "                timeframe=time,\n",
    "                img_dataset = dic_dataset,\n",
    "                mask_dataset = mask_dataset,\n",
    "                bbox=prop.bbox,\n",
    "                contour=prop.coords,\n",
    "            )\n",
    "        )\n",
    "    return _scs\n",
    "\n",
    "def process_mask_wrapper(args):\n",
    "    return process_mask(*args)\n",
    "\n",
    "def prep_scs_from_mask_dataset(mask_dataset, dic_dataset, cores=None):\n",
    "    scs = []\n",
    "\n",
    "    inputs = [(mask_dataset, dic_dataset, time) for time in mask_dataset.time2url.keys()]\n",
    "    pool = Pool(processes=cores)\n",
    "    for _scs in tqdm.tqdm(pool.imap_unordered(process_mask_wrapper, inputs), total=len(inputs)):\n",
    "        scs.extend(_scs)\n",
    "    pool.close()\n",
    "    pool.join()\n",
    "    return scs\n",
    "\n",
    "single_cells = prep_scs_from_mask_dataset(mask_dataset, dic_dataset, cores=None)"
   ]
  },
  {
   "cell_type": "code",
   "execution_count": null,
   "metadata": {},
   "outputs": [],
   "source": [
    "# from skimage.measure import regionprops\n",
    "# single_cells = []\n",
    "\n",
    "# for time in tqdm.tqdm(mask_dataset.time2url):\n",
    "#     img = dic_dataset.get_img_by_time(time)\n",
    "#     seg_mask = mask_dataset.get_img_by_time(time)\n",
    "#     props_list = regionprops(seg_mask)\n",
    "#     for prop in props_list:\n",
    "#         single_cells.append(\n",
    "#             SingleCellStatic(\n",
    "#                 timeframe=time,\n",
    "#                 img_dataset = dic_dataset,\n",
    "#                 mask_dataset = mask_dataset,\n",
    "#                 bbox=prop.bbox,\n",
    "#                 contour=prop.coords,\n",
    "#             )\n",
    "#         )\n"
   ]
  },
  {
   "attachments": {},
   "cell_type": "markdown",
   "metadata": {},
   "source": [
    "check the number of single cells "
   ]
  },
  {
   "cell_type": "code",
   "execution_count": null,
   "metadata": {},
   "outputs": [],
   "source": [
    "len(single_cells)"
   ]
  },
  {
   "cell_type": "code",
   "execution_count": null,
   "metadata": {},
   "outputs": [],
   "source": [
    "for i in range(10):\n",
    "    sc = random.sample(single_cells, 1)[0]\n",
    "    print(\"sc timeframe: \", sc.timeframe)"
   ]
  },
  {
   "cell_type": "code",
   "execution_count": null,
   "metadata": {},
   "outputs": [],
   "source": [
    "dic_dataset[6]"
   ]
  },
  {
   "cell_type": "code",
   "execution_count": null,
   "metadata": {},
   "outputs": [],
   "source": [
    "for i, _ in enumerate(single_cells):\n",
    "    sc = random.sample(single_cells, 1)[0]\n",
    "    print(\"sc time: \", sc.timeframe)\n",
    "    sc.show_panel(padding=50)\n",
    "    plt.show()\n",
    "    if i >= 1:\n",
    "        break"
   ]
  },
  {
   "cell_type": "code",
   "execution_count": null,
   "metadata": {},
   "outputs": [],
   "source": [
    "# for testing\n",
    "# single_cells = single_cells[:10]"
   ]
  },
  {
   "cell_type": "code",
   "execution_count": null,
   "metadata": {},
   "outputs": [],
   "source": [
    "single_cells_by_time = {}\n",
    "for cell in single_cells:\n",
    "    if cell.timeframe not in single_cells_by_time:\n",
    "        single_cells_by_time[cell.timeframe] = []\n",
    "    single_cells_by_time[cell.timeframe].append(cell)"
   ]
  },
  {
   "cell_type": "code",
   "execution_count": null,
   "metadata": {},
   "outputs": [],
   "source": [
    "times = sorted(single_cells_by_time.keys())\n",
    "for time in times[:5]:\n",
    "    print(time, len(single_cells_by_time[time]))"
   ]
  },
  {
   "attachments": {},
   "cell_type": "markdown",
   "metadata": {},
   "source": [
    "Visualize one single cell"
   ]
  },
  {
   "cell_type": "code",
   "execution_count": null,
   "metadata": {},
   "outputs": [],
   "source": [
    "sc = single_cells[0]\n",
    "\n",
    "fig, axes = plt.subplots(1, 4, figsize=(10, 5))\n",
    "sc.show(ax=axes[0])\n",
    "sc.show_mask(ax=axes[1])\n",
    "sc.show_contour_img(ax=axes[2])\n",
    "sc.show_contour_mask(ax=axes[3])"
   ]
  },
  {
   "cell_type": "code",
   "execution_count": null,
   "metadata": {},
   "outputs": [],
   "source": [
    "from livecell_tracker.segment.utils import match_mask_labels_by_iou\n",
    "def match_mask_labels_by_iou(seg_label_mask, gt_label_mask, bg_label=0, return_all=False):\n",
    "    \"\"\"compute the similarity between ground truth mask and segmentation mask by intersection over union\n",
    "\n",
    "    Parameters\n",
    "    ----------\n",
    "    seg_label_mask : _type_\n",
    "        _description_\n",
    "    gt_label_mask : _type_\n",
    "        _description_\n",
    "    bg_label : int, optional\n",
    "        _description_, by default 0\n",
    "    return_all : bool, optional\n",
    "        _description_, by default False\n",
    "    Returns\n",
    "    -------\n",
    "        A <gt2seg_map>, mapping ground truth keys to a dictionary of the best matching segmentation label and its iou\n",
    "    \"\"\"\n",
    "    gt2seg_map = {}\n",
    "    all_gt2seg_iou__map = {}\n",
    "    # gets all the unique labels in the labeled_seg_mask and gtly_curated_mask\n",
    "    seg_labels = np.unique(seg_label_mask)\n",
    "    gt_labels = np.unique(gt_label_mask)\n",
    "\n",
    "    temp_seg_mask = seg_label_mask.copy()\n",
    "    temp_gt_mask = gt_label_mask.copy()\n",
    "\n",
    "    for gt_label in gt_labels:\n",
    "        if gt_label == bg_label:\n",
    "            continue\n",
    "        gt_label_key = gt_label\n",
    "        all_gt2seg_iou__map[gt_label_key] = []\n",
    "        gt2seg_map[gt_label_key] = {}\n",
    "        temp_gt_mask = gt_label_mask.copy()\n",
    "        # isolates the current cell in the temp gtly_curated_mask and gets its pixels to 1\n",
    "        temp_gt_mask[temp_gt_mask != gt_label] = 0\n",
    "        temp_gt_mask[temp_gt_mask != 0] = 1\n",
    "\n",
    "        best_iou = 0\n",
    "        for seg_label in seg_labels:\n",
    "            if seg_label == bg_label:\n",
    "                continue\n",
    "            temp_seg_mask = seg_label_mask.copy()\n",
    "\n",
    "            # isolate the current cell in the temp_seg_mask and set its pixels to 1\n",
    "            temp_seg_mask[temp_seg_mask != seg_label] = 0\n",
    "            temp_seg_mask[temp_seg_mask != 0] = 1\n",
    "\n",
    "            matching_rows, matching_columns = np.where(temp_seg_mask == 1)\n",
    "            intersection_area = (temp_gt_mask[matching_rows, matching_columns] == 1).sum()\n",
    "            union_area = temp_gt_mask.sum() + temp_seg_mask.sum() - intersection_area\n",
    "            iou = intersection_area / union_area\n",
    "            io_gt = intersection_area / temp_gt_mask.sum()\n",
    "            io_seg = intersection_area / temp_seg_mask.sum()\n",
    "            all_gt2seg_iou__map[gt_label_key].append({\n",
    "                \"seg_label\": seg_label,\n",
    "                \"iou\": iou,\n",
    "                \"io_gt\": io_gt,\n",
    "                \"io_seg\": io_seg,\n",
    "            })\n",
    "\n",
    "            if iou > best_iou:\n",
    "                best_iou = iou\n",
    "                gt2seg_map[gt_label_key][\"best_iou\"] = iou\n",
    "                gt2seg_map[gt_label_key][\"seg_label\"] = seg_label\n",
    "    if return_all:\n",
    "        return gt2seg_map, all_gt2seg_iou__map\n",
    "    else:\n",
    "        return gt2seg_map"
   ]
  },
  {
   "cell_type": "code",
   "execution_count": null,
   "metadata": {},
   "outputs": [],
   "source": [
    "sc1 = single_cells_by_time[1][0]\n",
    "sc2 = single_cells_by_time[2][0]\n",
    "match_mask_labels_by_iou(sc1.mask_dataset.get_img_by_time(1), sc1.mask_dataset.get_img_by_time(2), return_all=True)"
   ]
  },
  {
   "cell_type": "code",
   "execution_count": 43,
   "metadata": {},
   "outputs": [],
   "source": [
    "t1, t2 = 1, 2\n",
    "mask1 = sc1.mask_dataset.get_img_by_time(t1)\n",
    "mask2 = sc1.mask_dataset.get_img_by_time(t2)\n",
    "\n",
    "def compute_match_label_map(t1, t2, mask_dataset, iou_threshold=0.2):\n",
    "    mask1 = mask_dataset.get_img_by_time(t1)\n",
    "    mask2 = mask_dataset.get_img_by_time(t2)\n",
    "    _, score_dict = match_mask_labels_by_iou(mask1, mask2, return_all=True)\n",
    "    iou_threshold = 0.2\n",
    "    label_map = {}\n",
    "    for label_1 in score_dict:\n",
    "        label_map[label_1] = {}\n",
    "        for score_info in score_dict[label_1]:\n",
    "            if score_info[\"iou\"] > iou_threshold:\n",
    "                label_map[label_1][score_info[\"seg_label\"]] = {\n",
    "                    \"iou\": score_info[\"iou\"]\n",
    "                }\n",
    "    return t1, t2, label_map"
   ]
  },
  {
   "cell_type": "code",
   "execution_count": 44,
   "metadata": {},
   "outputs": [
    {
     "name": "stderr",
     "output_type": "stream",
     "text": [
      "  1%|          | 3/290 [02:28<2:39:48, 33.41s/it]  "
     ]
    }
   ],
   "source": [
    "from functools import partial\n",
    "def wrap_func(func, args):\n",
    "    return func(*args)\n",
    "\n",
    "def parallelize(func, inputs, cores=None):\n",
    "    pool = Pool(processes=cores)\n",
    "    outputs = []\n",
    "    for output in tqdm.tqdm(pool.imap_unordered(partial(wrap_func, func), inputs), total=len(inputs)):\n",
    "        outputs.append(output)\n",
    "    pool.close()\n",
    "    pool.join()\n",
    "    return outputs\n",
    "\n",
    "times = sorted(mask_dataset.times)\n",
    "inputs = []\n",
    "for idx in range(len(times) - 1):\n",
    "    t1, t2 = times[idx], times[idx + 1]\n",
    "    inputs.append((t1, t2, mask_dataset))\n",
    "\n",
    "outputs = parallelize(compute_match_label_map, inputs, None)"
   ]
  }
 ],
 "metadata": {
  "kernelspec": {
   "display_name": "livecell",
   "language": "python",
   "name": "python3"
  },
  "language_info": {
   "codemirror_mode": {
    "name": "ipython",
    "version": 3
   },
   "file_extension": ".py",
   "mimetype": "text/x-python",
   "name": "python",
   "nbconvert_exporter": "python",
   "pygments_lexer": "ipython3",
   "version": "3.10.8"
  },
  "orig_nbformat": 4,
  "vscode": {
   "interpreter": {
    "hash": "d9c7226d793827cd27273ad20fbb4775c3cb91053ab9378a09de5f8c6f258919"
   }
  }
 },
 "nbformat": 4,
 "nbformat_minor": 2
}
