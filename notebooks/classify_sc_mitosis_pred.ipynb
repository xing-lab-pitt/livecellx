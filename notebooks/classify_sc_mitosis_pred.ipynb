{
 "cells": [
  {
   "attachments": {},
   "cell_type": "markdown",
   "metadata": {},
   "source": [
    "# Predict Mitosis Cells"
   ]
  },
  {
   "cell_type": "code",
   "execution_count": null,
   "metadata": {},
   "outputs": [],
   "source": [
    "# from livecell_tracker.sample_data import tutorial_three_image_sys\n",
    "from pathlib import Path\n",
    "from livecell_tracker.core.datasets import LiveCellImageDataset\n",
    "import glob\n",
    "\n",
    "dataset_dir_path = Path(\n",
    "    \"../datasets/EBSS_Starvation/tif_STAV-A549_VIM_24hours_NoTreat_NA_YL_Ti2e_2022-12-21/XY16/\"\n",
    ")\n",
    "\n",
    "mask_dataset_path = Path(\"../datasets/EBSS_Starvation/tif_STAV-A549_VIM_24hours_NoTreat_NA_YL_Ti2e_2022-12-21/out/XY16/seg\")\n",
    "\n",
    "mask_dataset = LiveCellImageDataset(mask_dataset_path, ext=\"png\")\n",
    "time2url = sorted(glob.glob(str((Path(dataset_dir_path) / Path(\"*_DIC.tif\")))))\n",
    "time2url = {i: path for i, path in enumerate(time2url)}\n",
    "dic_dataset = LiveCellImageDataset(time2url=time2url, ext=\"tif\")"
   ]
  },
  {
   "cell_type": "code",
   "execution_count": null,
   "metadata": {},
   "outputs": [],
   "source": [
    "from livecell_tracker.core.io_sc import prep_scs_from_mask_dataset\n",
    "scs = prep_scs_from_mask_dataset(mask_dataset, dic_dataset)"
   ]
  },
  {
   "cell_type": "code",
   "execution_count": null,
   "metadata": {},
   "outputs": [],
   "source": [
    "from typing import List\n",
    "from livecell_tracker.track.sort_tracker_utils import (\n",
    "    gen_SORT_detections_input_from_contours,\n",
    "    update_traj_collection_by_SORT_tracker_detection,\n",
    "    track_SORT_bbox_from_contours,\n",
    "    track_SORT_bbox_from_scs\n",
    ")\n",
    "\n",
    "\n",
    "traj_collection = track_SORT_bbox_from_scs(scs, dic_dataset, mask_dataset=mask_dataset, max_age=1, min_hits=1)"
   ]
  },
  {
   "attachments": {},
   "cell_type": "markdown",
   "metadata": {},
   "source": [
    "## Load a model to predict mitosis and apoptosis "
   ]
  },
  {
   "cell_type": "code",
   "execution_count": null,
   "metadata": {},
   "outputs": [],
   "source": [
    "from livecell_tracker.classification.cnn_mitosis_apoptosis import MitApopImageClassifier, MitApopImageDataset\n",
    "import torch\n",
    "from PIL import Image\n",
    "import torchvision.transforms as transforms\n"
   ]
  },
  {
   "cell_type": "code",
   "execution_count": null,
   "metadata": {},
   "outputs": [],
   "source": [
    "\n",
    "model = MitApopImageClassifier.load_from_checkpoint(\"./sc_classify_MA/version_15/checkpoints/epoch=8932-step=812902.ckpt\", dir_path=None)\n",
    "\n",
    "transform = transforms.Compose([\n",
    "    transforms.RandomResizedCrop(224, scale=(0.5, 1.0)),\n",
    "    transforms.RandomHorizontalFlip(),\n",
    "    transforms.ToTensor(),\n",
    "    # transforms.Normalize([0.5, 0.5, 0.5], [0.5, 0.5, 0.5]),\n",
    "])\n",
    "\n",
    "model = model.eval()"
   ]
  },
  {
   "cell_type": "code",
   "execution_count": null,
   "metadata": {},
   "outputs": [],
   "source": [
    "from matplotlib import pyplot as plt\n",
    "from livecell_tracker.preprocess.utils import normalize_img_to_uint8\n",
    "import numpy as np\n",
    "\n",
    "model = model.eval()\n",
    "\n",
    "padding = 20\n",
    "for sc in scs:\n",
    "# for _ in range(1000):\n",
    "    sc = scs[np.random.randint(0, len(scs))]\n",
    "    img = sc.get_img_crop(padding=padding)\n",
    "    img = normalize_img_to_uint8(img)\n",
    "    img = Image.fromarray(img)\n",
    "    img = transform(img)\n",
    "    img = torch.stack([torch.tensor(img), torch.tensor(img), torch.tensor(img)])\n",
    "    img = img.squeeze()\n",
    "    # print(\"img shape:\", img.shape)\n",
    "    img = img.unsqueeze(0)\n",
    "    pred = model(img)\n",
    "    probs = torch.softmax(pred, dim=1)\n",
    "    \n",
    "    if probs[0][1] > 0.5:\n",
    "        print(probs)\n",
    "        orig_img = sc.get_img_crop(padding=padding)\n",
    "        plt.imshow(orig_img)\n",
    "        plt.title(f\"pred: {list(probs.cpu().detach().numpy())}\")\n",
    "        plt.show()\n",
    "    # break"
   ]
  }
 ],
 "metadata": {
  "kernelspec": {
   "display_name": "livecell",
   "language": "python",
   "name": "python3"
  },
  "language_info": {
   "codemirror_mode": {
    "name": "ipython",
    "version": 3
   },
   "file_extension": ".py",
   "mimetype": "text/x-python",
   "name": "python",
   "nbconvert_exporter": "python",
   "pygments_lexer": "ipython3",
   "version": "3.10.8"
  },
  "orig_nbformat": 4
 },
 "nbformat": 4,
 "nbformat_minor": 2
}
