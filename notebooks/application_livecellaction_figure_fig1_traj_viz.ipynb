{
 "cells": [
  {
   "cell_type": "code",
   "execution_count": null,
   "metadata": {},
   "outputs": [],
   "source": [
    "import glob\n",
    "from pathlib import Path\n",
    "import numpy as np\n",
    "import pandas as pd\n",
    "import umap\n",
    "import matplotlib.pyplot as plt\n",
    "\n",
    "from livecellx.core.datasets import LiveCellImageDataset\n",
    "from livecellx.sample_data import tutorial_three_image_sys\n",
    "\n",
    "from livecellx.trajectory.feature_extractors import compute_haralick_features, compute_skimage_regionprops\n",
    "from livecellx.preprocess.utils import normalize_img_to_uint8\n",
    "from livecellx.core.parallel import parallelize\n",
    "from livecellx.core.io_sc import prep_scs_from_mask_dataset\n",
    "from livecellx.core.single_cell import SingleCellTrajectoryCollection, create_sc_table\n",
    "import livecellx.core.single_cell\n",
    "from livecellx.core.single_cell import SingleCellStatic\n",
    "from livecellx.core.io_utils import LiveCellEncoder\n",
    "\n"
   ]
  },
  {
   "cell_type": "markdown",
   "metadata": {},
   "source": [
    "## Load datasets"
   ]
  },
  {
   "cell_type": "markdown",
   "metadata": {},
   "source": [
    "load CTC or CX-A data"
   ]
  },
  {
   "cell_type": "code",
   "execution_count": null,
   "metadata": {},
   "outputs": [],
   "source": [
    "\n",
    "# # dataset_dir_path = Path(\n",
    "# #     \"../datasets/celltrackingchallenge/BF-C2DL-HSC/BF-C2DL-HSC/01\"\n",
    "# # )\n",
    "\n",
    "\n",
    "# dataset_dir_path = Path(\n",
    "#     # r\"../datasets/cxa-high-density/contrast_enhanced_factor=3_png_data/C10^3_wellC7_RI_MIP_stitched\",\n",
    "#      r\"../datasets/cxa-high-density/contrast_enhanced_factor=3_png_data/C0.5^4_wellE6_RI_MIP_stitched\",\n",
    "# )\n",
    "\n",
    "# # mask_dataset_path = Path(\"../datasets/celltrackingchallenge/DIC-C2DH-HeLa/DIC-C2DH-HeLa/01_GT/TRA\")\n",
    "# # mask_dataset = LiveCellImageDataset(mask_dataset_path, ext=\"tif\")\n",
    "# def extract_mask_time(filename):\n",
    "#     \"\"\"seg_{time}.png -> time\"\"\"\n",
    "#     return int(filename.split(\"_\")[1].split(\".\")[0])\n",
    "\n",
    "# # mask_dataset_dir = Path(r\"./application_results/celltrackingchallenge/dic-hela_segmentation_cellpose_tn1/seg\")\n",
    "# # mask_time2url_paths = sorted(glob.glob(str((Path(mask_dataset_dir) / Path(\"*.png\")))))\n",
    "# # mask_time2url = {extract_mask_time(Path(path).name): path for path in mask_time2url_paths}\n",
    "# # mask_dataset = LiveCellImageDataset(time2url=mask_time2url, ext=\"png\")\n",
    "\n",
    "# time2url = sorted(glob.glob(str((Path(dataset_dir_path) / Path(\"*.png\")))))\n",
    "# time2url = {i: path for i, path in enumerate(time2url)}\n",
    "# img_dataset = LiveCellImageDataset(time2url=time2url, ext=\"png\")\n",
    "\n"
   ]
  },
  {
   "cell_type": "markdown",
   "metadata": {},
   "source": [
    "load EBSS 120hrs data XY09"
   ]
  },
  {
   "cell_type": "code",
   "execution_count": null,
   "metadata": {},
   "outputs": [],
   "source": [
    "# EBSS_120hrs_XY09_folder = r\"E:\\xing-imaging\\tifs_CFP_A549_VIM_120hr_NoTreat_NA_YL_Ti2e_2023-03-22\\tifs_CFP_A549_VIM_120hr_NoTreat_NA_YL_Ti2e_2023-03-22\\XY09\\DIC\"\n",
    "\n",
    "# # filename sample: CFP_A549_VIM_120hr_NoTreat_NA_YL_Ti2e_2023-03-22 _T0001_XY09_DIC.tif\n",
    "# EBSS_120hrs_XY09_time2url = sorted(glob.glob(str((Path(EBSS_120hrs_XY09_folder) / Path(\"*.tif\")))))\n",
    "# img_dataset = LiveCellImageDataset(time2url={i: path for i, path in enumerate(EBSS_120hrs_XY09_time2url)}, ext=\"tif\")"
   ]
  },
  {
   "cell_type": "code",
   "execution_count": null,
   "metadata": {},
   "outputs": [],
   "source": [
    "# list(img_dataset.time2url.items())[:5]"
   ]
  },
  {
   "cell_type": "code",
   "execution_count": null,
   "metadata": {},
   "outputs": [],
   "source": [
    "# len(img_dataset), img_dataset.time2url"
   ]
  },
  {
   "cell_type": "code",
   "execution_count": null,
   "metadata": {},
   "outputs": [],
   "source": [
    "# for time in sc_img_dataset.time2url:\n",
    "#     print(\"sc:\", sc_img_dataset.time2url[time])\n",
    "#     print(\"img:\", img_dataset.time2url[time])"
   ]
  },
  {
   "cell_type": "code",
   "execution_count": null,
   "metadata": {},
   "outputs": [],
   "source": [
    "# annotation_dir = Path(\"../datasets/mitosis-annotations-2023/shiman_CXA_normal/C10^3\")\n",
    "# annotation_dir = Path(\"../datasets/mitosis-annotations-2023/shiman_CXA_normal/C0.5^4\")\n",
    "# annotation_dir = Path(\"../datasets/mitosis-annotations-2023/shiman_CXA_normal/C0.5^4_wellE6_RI_MIP_stitched\")\n",
    "annotation_dir = Path(\"../datasets/mitosis-annotations-2023/shiman_CXA_high_density/C10^4\")\n",
    "# annotation_dir = Path(r\"../datasets/mitosis-annotations-2023/shiman_XY09/XY09\")\n",
    "# annotation_dir = Path(r\"../datasets/mitosis-annotations-2023/shiman_XY10/XY10\")\n",
    "# classes = [\"normal\"]\n",
    "classes = [\"mitosis\"]"
   ]
  },
  {
   "cell_type": "code",
   "execution_count": null,
   "metadata": {},
   "outputs": [],
   "source": [
    "from livecellx.track.classify_utils import load_all_json_dirs\n",
    "\n",
    "\n",
    "class2samples, class2samples_extra_info = load_all_json_dirs([annotation_dir], class_subfolders=classes)\n"
   ]
  },
  {
   "cell_type": "code",
   "execution_count": null,
   "metadata": {},
   "outputs": [],
   "source": [
    "all_scs = SingleCellStatic.load_single_cells_json(annotation_dir/\"single_cells.json\")"
   ]
  },
  {
   "cell_type": "markdown",
   "metadata": {},
   "source": [
    "Compute the features  \n",
    "Read the features in the next section if you already computed the features."
   ]
  },
  {
   "cell_type": "code",
   "execution_count": null,
   "metadata": {},
   "outputs": [],
   "source": [
    "# from livecellx.core.io_sc import prep_scs_from_mask_dataset\n",
    "# scs = prep_scs_from_mask_dataset(mask_dataset, img_dataset)\n",
    "\n",
    "annotated_scs = []\n",
    "for cls in class2samples:\n",
    "    for samples in class2samples[cls]:\n",
    "        annotated_scs.extend(samples)"
   ]
  },
  {
   "cell_type": "code",
   "execution_count": null,
   "metadata": {},
   "outputs": [],
   "source": [
    "from typing import List\n",
    "from livecellx.track.sort_tracker_utils import (\n",
    "    gen_SORT_detections_input_from_contours,\n",
    "    update_traj_collection_by_SORT_tracker_detection,\n",
    "    track_SORT_bbox_from_contours,\n",
    "    track_SORT_bbox_from_scs\n",
    ")\n",
    "\n",
    "sc_img_dataset = annotated_scs[0].img_dataset\n",
    "sdata = track_SORT_bbox_from_scs(annotated_scs, sc_img_dataset, max_age=0, min_hits=1)"
   ]
  },
  {
   "cell_type": "code",
   "execution_count": null,
   "metadata": {},
   "outputs": [],
   "source": [
    "# sct_sample_dict = {}\n",
    "# for cls in class2samples:\n",
    "#     sct_sample_dict[cls] = []\n",
    "#     for i, sample in enumerate(class2samples[cls]):\n",
    "#         if len(sample) == 0:\n",
    "#             continue\n",
    "#         assert '_annotation_label_info' in sample[0].meta, \"sample[0].meta should have '_annotation_label_info'\"\n",
    "#         annotation_label_infos = sample[0].meta['_annotation_label_info']\n",
    "#         annotation_label_info = None\n",
    "#         for info in annotation_label_infos:\n",
    "#             if info['label'] == cls:\n",
    "#                 annotation_label_info = info\n",
    "#                 break\n",
    "#         assert annotation_label_info is not None, \"sc meta shoud contain annotation_label_info == cls: {}\".format(cls)\n",
    "#         sample_id = annotation_label_info['sample_id']\n",
    "#         sample_dict = {\"sample\": sample, \"sample_id\": sample_id}\n",
    "#         sct_sample_dict[cls].append(sample_dict)\n"
   ]
  },
  {
   "cell_type": "code",
   "execution_count": null,
   "metadata": {},
   "outputs": [],
   "source": [
    "all_scs[0].meta"
   ]
  },
  {
   "cell_type": "markdown",
   "metadata": {},
   "source": [
    "Set the labels of sc"
   ]
  },
  {
   "cell_type": "code",
   "execution_count": null,
   "metadata": {},
   "outputs": [],
   "source": [
    "for sc in annotated_scs:\n",
    "    for i in range(len(sc.meta[\"_annotation_label_info\"])):\n",
    "        sc.meta[\"_annotation_label_info\"][i][\"label\"] = \"someLabel\""
   ]
  },
  {
   "cell_type": "code",
   "execution_count": null,
   "metadata": {},
   "outputs": [],
   "source": [
    "from livecellx.core.single_cell import (\n",
    "    SingleCellTrajectoryCollection,\n",
    "    SingleCellStatic,\n",
    "    SingleCellTrajectory,\n",
    "    create_sctc_from_scs,\n",
    "    filter_sctc_by_time_span,\n",
    ")\n",
    "\n",
    "from livecellx.core.sct_operator import create_sctc_edit_viewer_by_interval, create_scs_edit_viewer_by_interval\n",
    "tmp_sctc = create_sctc_from_scs(annotated_scs)\n",
    "# tmp_sctc = create_sctc_from_scs(all_scs)\n",
    "# sct_operator = create_sctc_edit_viewer_by_interval(tmp_sctc, img_dataset=img_dataset, span_interval=1500, contour_sample_num=15)"
   ]
  },
  {
   "cell_type": "code",
   "execution_count": null,
   "metadata": {},
   "outputs": [],
   "source": [
    "import importlib\n",
    "import livecellx\n",
    "import livecellx.core.sct_operator\n",
    "importlib.reload(livecellx.core.sct_operator)\n",
    "sc_img_dataset = annotated_scs[0].img_dataset\n",
    "# sct_operator = livecellx.core.sct_operator.create_scs_edit_viewer_by_interval(annotated_scs, img_dataset=sc_img_dataset, span_interval=1500, contour_sample_num=50)\n",
    "sct_operator = livecellx.core.sct_operator.create_sctc_edit_viewer_by_interval(sdata, img_dataset=sc_img_dataset, span_interval=1500, contour_sample_num=50)"
   ]
  },
  {
   "cell_type": "markdown",
   "metadata": {},
   "source": [
    "load the annotations"
   ]
  },
  {
   "cell_type": "code",
   "execution_count": null,
   "metadata": {},
   "outputs": [],
   "source": [
    "sct_operator.load_annotations([annotation_dir], classes=classes)"
   ]
  },
  {
   "cell_type": "code",
   "execution_count": null,
   "metadata": {},
   "outputs": [],
   "source": [
    "len(sc_img_dataset)"
   ]
  },
  {
   "cell_type": "code",
   "execution_count": null,
   "metadata": {},
   "outputs": [],
   "source": [
    "sc_annotation_labels = []\n",
    "sc_annotation_labels_strs = []\n",
    "for sc in sct_operator.shape_layer.properties[\"sc\"]:\n",
    "    sc_annotation_labels.append([])\n",
    "    sc_annotation_labels_strs.append(\"\")\n",
    "    if \"_annotation_label_info\" not in sc.meta:\n",
    "        continue\n",
    "    for info in sc.meta[\"_annotation_label_info\"]:\n",
    "        sc_annotation_labels[-1].extend([info[\"label\"]])\n",
    "    sc_annotation_labels[-1] = list(set(sc_annotation_labels[-1]))\n",
    "    annotation_repr = \",\".join(sc_annotation_labels[-1])\n",
    "    sc_annotation_labels_strs[-1] = annotation_repr\n",
    "\n",
    "all_properties = sct_operator.shape_layer.properties\n",
    "all_properties[\"annotation_labels\"] = sc_annotation_labels_strs\n",
    "sct_operator.shape_layer.properties = all_properties\n",
    "sct_operator.shape_layer.text = \"annotation_labels\""
   ]
  },
  {
   "cell_type": "code",
   "execution_count": null,
   "metadata": {},
   "outputs": [],
   "source": [
    "sct_operator.shape_layer.properties.keys()"
   ]
  },
  {
   "cell_type": "code",
   "execution_count": null,
   "metadata": {},
   "outputs": [],
   "source": [
    "sct_operator.shape_layer.properties.keys()"
   ]
  },
  {
   "cell_type": "code",
   "execution_count": null,
   "metadata": {},
   "outputs": [],
   "source": [
    "# # out_dir = Path(\"./tmp/DIC-C2DH-HeLa/01_annotation\")\n",
    "# out_dir = Path(\"./tmp/fixed_annotations\")\n",
    "# out_dir.mkdir(exist_ok=True, parents=True)\n",
    "# sct_operator.save_annotations(out_dir)"
   ]
  },
  {
   "cell_type": "code",
   "execution_count": null,
   "metadata": {},
   "outputs": [],
   "source": [
    "# from livecellx.core.sc_seg_operator import create_sc_seg_napari_ui\n",
    "# from livecellx.core.sct_operator import create_sctc_edit_viewer_by_interval, create_scs_edit_viewer_by_interval\n",
    "# from livecellx.core.single_cell import (\n",
    "#     SingleCellTrajectoryCollection,\n",
    "#     SingleCellStatic,\n",
    "#     SingleCellTrajectory,\n",
    "#     create_sctc_from_scs,\n",
    "#     filter_sctc_by_time_span,\n",
    "# )\n",
    "\n",
    "# import importlib\n",
    "# importlib.reload(livecellx.core.sct_operator)\n",
    "\n",
    "# tmp_sdata = create_sctc_from_scs(sdata.get_all_scs())\n",
    "# sct_operator = livecellx.core.sct_operator.create_sctc_edit_viewer_by_interval(tmp_sdata, img_dataset, span_interval=1000)"
   ]
  },
  {
   "cell_type": "markdown",
   "metadata": {},
   "source": [
    "Set annotation labels"
   ]
  },
  {
   "cell_type": "code",
   "execution_count": null,
   "metadata": {},
   "outputs": [],
   "source": [
    "sc_annotation_labels = []\n",
    "sc_annotation_labels_strs = []\n",
    "for sc in sct_operator.shape_layer.properties[\"sc\"]:\n",
    "    sc_annotation_labels.append([])\n",
    "    sc_annotation_labels_strs.append(\"\")\n",
    "    if \"_annotation_label_info\" not in sc.meta:\n",
    "        continue\n",
    "    for info in sc.meta[\"_annotation_label_info\"]:\n",
    "        sc_annotation_labels[-1].extend([info[\"label\"]])\n",
    "    sc_annotation_labels[-1] = list(set(sc_annotation_labels[-1]))\n",
    "    annotation_repr = \",\".join(sc_annotation_labels[-1])\n",
    "    sc_annotation_labels_strs[-1] = annotation_repr\n",
    "\n",
    "all_properties = sct_operator.shape_layer.properties\n",
    "all_properties[\"annotation_labels\"] = sc_annotation_labels_strs\n",
    "sct_operator.shape_layer.properties = all_properties\n",
    "sct_operator.shape_layer.text = \"annotation_labels\""
   ]
  },
  {
   "cell_type": "code",
   "execution_count": null,
   "metadata": {},
   "outputs": [],
   "source": [
    "# from livecellx.core.io_sc import prep_scs_from_mask_dataset\n",
    "# scs = prep_scs_from_mask_dataset(mask_dataset, img_dataset)"
   ]
  },
  {
   "cell_type": "code",
   "execution_count": null,
   "metadata": {},
   "outputs": [],
   "source": [
    "# from livecellx.track.movie import generate_single_trajectory_movie\n",
    "\n",
    "# for track_id, traj in traj_collection:\n",
    "#     generate_single_trajectory_movie(traj, save_path= out_dir / f\"track_{track_id}.gif\")"
   ]
  },
  {
   "cell_type": "code",
   "execution_count": null,
   "metadata": {},
   "outputs": [],
   "source": [
    "sample_traj = sdata[19]\n",
    "sample_traj.show_on_grid(padding=200, ax_height=4, ax_width=4, )"
   ]
  },
  {
   "cell_type": "code",
   "execution_count": null,
   "metadata": {},
   "outputs": [],
   "source": [
    "\n",
    "sample_traj.show_on_grid(padding=200, ax_height=3, ax_width=3, dims=[400, 400], dims_offset=[30, 30], )"
   ]
  }
 ],
 "metadata": {
  "kernelspec": {
   "display_name": "livecell-work",
   "language": "python",
   "name": "python3"
  },
  "language_info": {
   "codemirror_mode": {
    "name": "ipython",
    "version": 3
   },
   "file_extension": ".py",
   "mimetype": "text/x-python",
   "name": "python",
   "nbconvert_exporter": "python",
   "pygments_lexer": "ipython3",
   "version": "3.9.16"
  }
 },
 "nbformat": 4,
 "nbformat_minor": 2
}
