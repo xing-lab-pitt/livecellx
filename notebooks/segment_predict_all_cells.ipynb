{
 "cells": [
  {
   "cell_type": "code",
   "execution_count": null,
   "metadata": {},
   "outputs": [],
   "source": [
    "import numpy as np\n",
    "import matplotlib.pyplot as plt\n",
    "from cellpose import models\n",
    "from cellpose.io import imread\n",
    "import glob\n",
    "from pathlib import Path\n",
    "from PIL import Image, ImageSequence\n",
    "from tqdm import tqdm\n",
    "import os\n",
    "import os.path\n",
    "from livecell_tracker import segment\n",
    "from livecell_tracker.segment import datasets\n",
    "from skimage import measure\n",
    "from livecell_tracker.core import SingleCellTrajectory, SingleCellStatic"
   ]
  },
  {
   "cell_type": "code",
   "execution_count": null,
   "metadata": {},
   "outputs": [],
   "source": [
    "# model_type='cyto' or 'nuclei' or 'cyto2'\n",
    "# model = models.Cellpose(gpu=True, model_type=\"cyto\")\n",
    "pretrained_model_path = \"../livecell_tracker/models/yuzhong_cyto2.pth\"\n",
    "model = models.CellposeModel(pretrained_model=pretrained_model_path, gpu=True)\n",
    "# list of files\n",
    "# PUT PATH TO YOUR FILES HERE!\n",
    "# dir_path = Path(\n",
    "#     r\"D:/xing-vimentin-dic-pipeline/src/livecell_dev/cxa-data/june_2022_data_8bit_png/day0_Notreat_Group1_wellA1_RI_MIP_stitched\"\n",
    "# )\n",
    "dir_path = Path(\n",
    "    r\"../cxa-data/june_2022_data_8bit_png/restart_day0_Group 1_wellA1_RI_MIP_stitched\"\n",
    ")\n",
    "# dir_path = Path(\n",
    "#     r\"../cxa-data/june_2022_data_8bit_png/restart_day2_Group 1_wellA1_RI_MIP_stitched\"\n",
    "# )\n",
    "# imgs = segment.datasets.LiveCellImageDataset(dir_path, ext=\"tif\")\n",
    "# imgs = segment.datasets.LiveCellImageDataset(dir_path, ext=\"png\")\n",
    "imgs = segment.datasets.LiveCellImageDataset(dir_path, ext=\"png\", num_imgs=3)\n",
    "img_list = sorted(glob.glob(str(dir_path / \"*tif\")))"
   ]
  },
  {
   "cell_type": "code",
   "execution_count": null,
   "metadata": {},
   "outputs": [],
   "source": [
    "img_list[:4]\n"
   ]
  },
  {
   "cell_type": "code",
   "execution_count": null,
   "metadata": {},
   "outputs": [],
   "source": [
    "def segment_single_image_by_cellpose(image, model, channels=[[0, 0]], diameter=150):\n",
    "    result_tuple = model.eval([image], diameter=diameter, channels=channels)\n",
    "    masks = result_tuple[0]\n",
    "    return masks[0]\n",
    "\n",
    "\n",
    "def segment_single_images_by_cellpose(images, model, channels=[[0, 0]], diameter=150):\n",
    "    masks, flows, styles, diams = model.eval(\n",
    "        images, diameter=diameter, channels=channels\n",
    "    )\n",
    "    return masks\n"
   ]
  },
  {
   "cell_type": "markdown",
   "metadata": {},
   "source": [
    "Define detectron segmentation"
   ]
  },
  {
   "cell_type": "code",
   "execution_count": null,
   "metadata": {},
   "outputs": [],
   "source": [
    "import detectron2\n",
    "from detectron2.utils.logger import setup_logger\n",
    "\n",
    "setup_logger()\n",
    "\n",
    "# import some common libraries\n",
    "import numpy as np\n",
    "import os, json, cv2, random\n",
    "import cv2\n",
    "\n",
    "# import some common detectron2 utilities\n",
    "from detectron2 import model_zoo\n",
    "from detectron2.engine import DefaultPredictor\n",
    "from detectron2.config import get_cfg\n",
    "from detectron2.utils.visualizer import Visualizer\n",
    "from detectron2.data import MetadataCatalog, DatasetCatalog\n",
    "from livecell_tracker.segment.detectron_utils import gen_cfg\n",
    "\n",
    "\n",
    "DETECTRON_CFG = gen_cfg(\n",
    "    model_path=r\"./notebook_results/train_log/detectron_train_output__ver0.0.2/model_final.pth\",\n",
    "    output_dir=r\"\"\"./notebook_results/train_log/detectron_train_output__ver0.0.2/\"\"\",\n",
    ")\n",
    "DETECTRON_PREDICTOR = DefaultPredictor(DETECTRON_CFG)\n",
    "def segment_by_detectron(img):\n",
    "    outputs = DETECTRON_PREDICTOR(img)\n",
    "    return outputs"
   ]
  },
  {
   "cell_type": "code",
   "execution_count": null,
   "metadata": {},
   "outputs": [],
   "source": [
    "test_img = imgs[0]\n",
    "test_mask = segment_single_image_by_cellpose(imgs[0], model)\n"
   ]
  },
  {
   "cell_type": "markdown",
   "metadata": {},
   "source": [
    "## Create overlay images"
   ]
  },
  {
   "cell_type": "code",
   "execution_count": null,
   "metadata": {},
   "outputs": [],
   "source": [
    "def normalize_img_by_zscore(img: np.array):\n",
    "    \"\"\"calculate z score of img and normalize to range [0, 255]\n",
    "\n",
    "    Parameters\n",
    "    ----------\n",
    "    img : np.array\n",
    "        _description_\n",
    "\n",
    "    Returns\n",
    "    -------\n",
    "    _type_\n",
    "        _description_\n",
    "    \"\"\"\n",
    "    img = (img - np.mean(img.flatten())) / np.std(img.flatten())\n",
    "    img = img + abs(np.min(img.flatten()))\n",
    "    img = img / np.max(img) * 255\n",
    "    return img\n",
    "\n",
    "\n",
    "def overlay(image, mask, mask_channel_rgb_val=100, img_channel_rgb_val_factor=1):\n",
    "    mask = mask.astype(np.uint8)\n",
    "    mask[mask > 0] = mask_channel_rgb_val\n",
    "    image = normalize_img_by_zscore(image).astype(np.uint8)\n",
    "    image = image * img_channel_rgb_val_factor\n",
    "    res = np.zeros(list(mask.shape) + [3])\n",
    "    res[:, :, 2] = image\n",
    "    res[:, :, 1] = mask\n",
    "    return res\n",
    "\n",
    "\n",
    "overlayed_img = overlay(\n",
    "    test_img, test_mask, mask_channel_rgb_val=100, img_channel_rgb_val_factor=2\n",
    ")\n",
    "\n",
    "figure = plt.figure(figsize=(8, 6), dpi=80)\n",
    "\n",
    "plt.imshow(overlayed_img)\n"
   ]
  },
  {
   "cell_type": "markdown",
   "metadata": {},
   "source": [
    "## Segment all the cells"
   ]
  },
  {
   "cell_type": "code",
   "execution_count": null,
   "metadata": {},
   "outputs": [],
   "source": [
    "from livecell_tracker.segment.detectron_utils import convert_detectron_instances_to_binary_masks, convert_detectron_instances_to_label_masks\n",
    "# def convert_detectron_instances_to_label_masks(instance_pred_masks):\n",
    "#     res_mask = np.zeros(instance_pred_masks.shape[1:])\n",
    "#     for idx in range(instance_pred_masks.shape[0]):\n",
    "#         res_mask[instance_pred_masks[idx, :, :]] = idx + 1\n",
    "#     return res_mask\n",
    "\n",
    "\n",
    "# def convert_detectron_instances_to_binary_masks(instance_pred_masks):\n",
    "#     label_mask = convert_detectron_instances_to_label_masks(instance_pred_masks)\n",
    "#     label_mask[label_mask > 0] = 1\n",
    "#     return label_mask\n",
    "\n",
    "# outputs = segment_by_detectron(normalize_img_by_zscore(imgs[0][:, :, np.newaxis]))[\"instances\"].to(\"cpu\")\n",
    "# mask = outputs.pred_masks.numpy()\n",
    "# combine_detectron_instances_masks(outputs.pred_masks.numpy())\n"
   ]
  },
  {
   "cell_type": "markdown",
   "metadata": {},
   "source": [
    "## Visualize segmentation by overlay movies"
   ]
  },
  {
   "cell_type": "code",
   "execution_count": null,
   "metadata": {},
   "outputs": [],
   "source": [
    "from livecell_tracker.segment.datasets import LiveCellImageDataset\n",
    "from livecell_tracker.segment.detectron_utils import detectron_visualize_img\n",
    "def gen_T_filename(frame, ndigits):\n",
    "    return \"T%s.tif\" % (str(frame).zfill(ndigits))\n",
    "ndigits = len(str(len(imgs)))\n",
    "print(\"ndigits:\", ndigits)\n",
    "\n",
    "out_dir = Path(\"./seg_test_tmp\")\n",
    "os.makedirs(out_dir, exist_ok=True)\n",
    "\n",
    "def segment_cellpose_wrapper(img):\n",
    "    return segment_single_image_by_cellpose(img, model, diameter=173)\n",
    "\n",
    "def segment_detectron_wrapper(img):\n",
    "    if img.ndim == 2:\n",
    "        img = img[:, :, np.newaxis]\n",
    "    results = segment_by_detectron(normalize_img_by_zscore(img))\n",
    "    instances = results[\"instances\"].to(\"cpu\").pred_masks.numpy()\n",
    "    mask = convert_detectron_instances_to_binary_masks(instances)\n",
    "    return mask\n",
    "\n",
    "def segment_raw_img_by_detectron_wrapper(img, return_detectron_results=False):\n",
    "    if img.ndim == 2:\n",
    "        img = img[:, :, np.newaxis]\n",
    "    results = segment_by_detectron(img)\n",
    "    instance_pred_masks = results[\"instances\"].to(\"cpu\").pred_masks.numpy()\n",
    "    mask = convert_detectron_instances_to_binary_masks(instance_pred_masks)\n",
    "    if return_detectron_results:\n",
    "        return mask, results\n",
    "    return mask\n",
    "\n",
    "segment_func_wrapper = segment_raw_img_by_detectron_wrapper\n",
    "# segment_func = segment_cellpose_wrapper\n",
    "# segment_func = segment_detectron_wrapper\n",
    "\n",
    "# overlay_img_generator = ...\n",
    "# overlay_img_generator = overlay\n",
    "# overlay_img_generator = detectron_visualize_img\n",
    "\n",
    "# def cellpose_segment_imgs(img, out_dir, frame, ndigits):\n",
    "#     for idx in tqdm(range(len(imgs))):\n",
    "#         img_path = imgs.get_img_path(idx)\n",
    "#         img = imgs[idx]\n",
    "#         file_name = os.path.basename(img_path)\n",
    "#         output_filename = file_name.split(\".\")[0] + \".png\" # change extension to PNG\n",
    "#         mask = segment_func_wrapper(img)\n",
    "\n",
    "#         # convert mask to 8-bit binary mask\n",
    "#         assert mask.max() < 2**8, \"more than 256 instances predicted?\"\n",
    "#         mask = mask.astype(np.uint8)\n",
    "#         temp_img = Image.fromarray(mask)\n",
    "#         temp_img.save(out_dir / output_filename)\n",
    "\n",
    "#         overlay_output_filename = \"overlay_\" + file_name.split(\".\")[0] + \".png\" # change extension to PNG\n",
    "#         # overlayed_img = overlay(img, mask, mask_channel_rgb_val=100, img_channel_rgb_val_factor=2)\n",
    "#         overlayed_img = detectron_visualize_img(img, DETECTRON_CFG, )\n",
    "#         overlayed_img.save(out_dir / overlay_output_filename)\n",
    "\n",
    "\n",
    "def detectron_segment_imgs(imgs: LiveCellImageDataset, out_dir: Path):\n",
    "    segmentation_results = {\n",
    "    }\n",
    "    for idx in tqdm(range(len(imgs))):\n",
    "        img_path = imgs.get_img_path(idx)\n",
    "        img = imgs[idx]\n",
    "        original_img_filename = os.path.basename(img_path).split(\".\")[0]\n",
    "        output_filename = original_img_filename + \".png\" # change extension to PNG\n",
    "\n",
    "        # save binary mask\n",
    "        mask, predictor_results = segment_raw_img_by_detectron_wrapper(img, return_detectron_results=True)\n",
    "        # convert mask to 8-bit binary mask\n",
    "        assert mask.max() < 2**8, \"more than 256 instances predicted?\"\n",
    "        mask = mask.astype(np.uint8)\n",
    "        binary_mask_img = Image.fromarray(mask)\n",
    "        binary_mask_img.save(out_dir / output_filename)\n",
    "\n",
    "        # save overlayed image\n",
    "        overlay_output_filename = \"overlay_\" + original_img_filename + \".png\" # change extension to PNG\n",
    "        # overlayed_img = overlay(img, mask, mask_channel_rgb_val=100, img_channel_rgb_val_factor=2)\n",
    "        overlayed_arr = detectron_visualize_img(img[:, :, np.newaxis], DETECTRON_CFG, predictor_results)\n",
    "        overlayed_img = Image.fromarray(overlayed_arr)\n",
    "        overlayed_img.save(out_dir / overlay_output_filename)\n",
    "        del overlayed_img, overlayed_arr, mask, binary_mask_img\n",
    "\n",
    "        def _save_instance_masks():\n",
    "            # save predicted instance masks\n",
    "            pred_binary_masks = predictor_results[\"instances\"].to(\"cpu\").pred_masks.numpy()\n",
    "            for idx in range(pred_binary_masks.shape[0]):\n",
    "                pred_binary_mask = pred_binary_masks[idx, :, :]\n",
    "                pred_binary_mask_img = Image.fromarray(pred_binary_mask)\n",
    "                pred_binary_mask_img.save(out_dir / f\"{original_img_filename}_instance_{idx}.png\")\n",
    "                del pred_binary_mask, pred_binary_mask_img\n",
    "            del predictor_results, pred_binary_masks\n",
    "\n",
    "        # _save_instance_masks()\n",
    "\n",
    "        # generate contours and save to json\n",
    "        contours = []\n",
    "        for instance_mask in predictor_results[\"instances\"].to(\"cpu\").pred_masks.numpy():\n",
    "            tmp_contours = measure.find_contours(\n",
    "                        instance_mask, level=0.5, fully_connected=\"low\", positive_orientation=\"low\")\n",
    "            \n",
    "            if len(tmp_contours) == 0:\n",
    "                print(\"no contours found for image:\", original_img_filename)\n",
    "            elif len(tmp_contours) != 1:\n",
    "                print(\"[WARN] more than 1 contour found in instance mask, num_contours:\", len(tmp_contours))\n",
    "            # convert to list for saving into json\n",
    "            contours.extend([[list(coords) for coords in coord_arr]for coord_arr in tmp_contours])\n",
    "        assert original_img_filename not in segmentation_results, \"duplicate image filename?\"\n",
    "        segmentation_results[img_path] = {}\n",
    "        segmentation_results[img_path][\"contours\"] = contours\n",
    "    return segmentation_results\n",
    "\n",
    "\n",
    "# import torch.utils.data as data_utils\n",
    "# import torch\n",
    "# indices = torch.arange(1, 10)\n",
    "segmentation_results = detectron_segment_imgs(imgs, out_dir)\n",
    "with open(out_dir / \"segmentation_results.json\", \"w\") as f:\n",
    "    json.dump(segmentation_results, f)"
   ]
  },
  {
   "cell_type": "code",
   "execution_count": null,
   "metadata": {},
   "outputs": [],
   "source": [
    "segmentation_results = detectron_segment_imgs(imgs, out_dir)\n",
    "with open(out_dir / \"segmentation_results.json\", \"w\") as f:\n",
    "    json.dump(segmentation_results, f)"
   ]
  },
  {
   "cell_type": "code",
   "execution_count": null,
   "metadata": {},
   "outputs": [],
   "source": [
    "mask, results = segment_raw_img_by_detectron_wrapper(imgs[0], return_detectron_results=True)"
   ]
  },
  {
   "cell_type": "markdown",
   "metadata": {},
   "source": [
    "## Generate contour points"
   ]
  },
  {
   "cell_type": "code",
   "execution_count": null,
   "metadata": {},
   "outputs": [],
   "source": [
    "# for instance in results[\"instances\"].to(\"cpu\").pred_masks.numpy():\n",
    "#     print(instance)\n",
    "label_mask = convert_detectron_instances_to_binary_masks(results[\"instances\"].to(\"cpu\").pred_masks.numpy())\n",
    "plt.imshow(label_mask)"
   ]
  },
  {
   "cell_type": "markdown",
   "metadata": {},
   "source": [
    "Find contours in label mask combined"
   ]
  },
  {
   "cell_type": "code",
   "execution_count": null,
   "metadata": {},
   "outputs": [],
   "source": [
    "contours = measure.find_contours(\n",
    "                label_mask, level=0.5, fully_connected=\"low\", positive_orientation=\"low\"\n",
    ")\n",
    "\n",
    "\n",
    "fig = plt.figure(figsize=(5, 5))\n",
    "ax = plt.subplot()\n",
    "ax.invert_yaxis()\n",
    "for contour in contours:\n",
    "    ax.plot(contour[:, 1], contour[:, 0], linewidth=2)\n"
   ]
  },
  {
   "cell_type": "markdown",
   "metadata": {},
   "source": [
    "Find contours by instance prediction"
   ]
  },
  {
   "cell_type": "code",
   "execution_count": null,
   "metadata": {},
   "outputs": [],
   "source": [
    "contours = []\n",
    "for instance_mask in results[\"instances\"].to(\"cpu\").pred_masks.numpy():\n",
    "    tmp_contours = measure.find_contours(\n",
    "                instance_mask, level=0.5, fully_connected=\"low\", positive_orientation=\"low\")\n",
    "    contours.append(tmp_contours[0])\n",
    "\n",
    "# # Following code not correct\n",
    "fig = plt.figure(figsize=(5, 5))\n",
    "ax = plt.subplot()\n",
    "ax.invert_yaxis()\n",
    "for contour in contours:\n",
    "    ax.plot(contour[:, 1], contour[:, 0], linewidth=2)\n"
   ]
  }
 ],
 "metadata": {
  "kernelspec": {
   "display_name": "Python 3.8.13 ('cv-general')",
   "language": "python",
   "name": "python3"
  },
  "language_info": {
   "codemirror_mode": {
    "name": "ipython",
    "version": 3
   },
   "file_extension": ".py",
   "mimetype": "text/x-python",
   "name": "python",
   "nbconvert_exporter": "python",
   "pygments_lexer": "ipython3",
   "version": "3.8.13"
  },
  "orig_nbformat": 4,
  "vscode": {
   "interpreter": {
    "hash": "b5dfbec2055422cee39dc040b31dfffa8b21a342109231ab17bc6ff9949c7133"
   }
  }
 },
 "nbformat": 4,
 "nbformat_minor": 2
}
