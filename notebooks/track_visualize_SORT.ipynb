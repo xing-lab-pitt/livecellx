{
 "cells": [
  {
   "cell_type": "markdown",
   "metadata": {},
   "source": [
    "## Visualize Track results"
   ]
  },
  {
   "cell_type": "code",
   "execution_count": 1,
   "metadata": {},
   "outputs": [
    {
     "name": "stdout",
     "output_type": "stream",
     "text": [
      "288 png img file paths loaded: \n",
      "288 png img file paths loaded: \n"
     ]
    }
   ],
   "source": [
    "from pathlib import Path\n",
    "import cv2\n",
    "import sys\n",
    "import numpy as np\n",
    "from skimage import feature, measure\n",
    "import livecell_tracker\n",
    "from livecell_tracker.segment import datasets\n",
    "import livecell_tracker.segment\n",
    "from livecell_tracker import segment\n",
    "import livecell_tracker.core.utils\n",
    "from tqdm import tqdm\n",
    "\n",
    "seg_path = r\"\"\"D:\\xing-vimentin-dic-pipeline\\src\\livecell_dev\\notebooks\\segmentation_results\\detectron_model3\\restart_day0_Group 1_wellA1_RI_MIP_stitched\"\"\"\n",
    "label_seg_imgs = segment.datasets.LiveCellImageDataset(seg_path, ext=\"png\")\n",
    "dir_path = Path(\n",
    "    r\"D:\\xing-vimentin-dic-pipeline\\src\\livecell_dev\\cxa-data\\june_2022_data_8bit_png\\restart_day0_Group 1_wellA1_RI_MIP_stitched\"\n",
    ")\n",
    "raw_imgs = segment.datasets.LiveCellImageDataset(dir_path, ext=\"png\")\n"
   ]
  },
  {
   "cell_type": "markdown",
   "metadata": {},
   "source": [
    "### load bbox paths"
   ]
  },
  {
   "cell_type": "code",
   "execution_count": 2,
   "metadata": {},
   "outputs": [
    {
     "data": {
      "text/plain": [
       "int"
      ]
     },
     "execution_count": 2,
     "metadata": {},
     "output_type": "execute_result"
    }
   ],
   "source": [
    "import json\n",
    "_track_bbs_path = r\"..\\cxa-data\\test_data\\sort_track\\max_age-5_min_live-2_detectron_model3_all_track_bbs-restart_day0_Group 1_wellA1_RI_MIP_stitched.json\"\n",
    "with open(_track_bbs_path, \"r\") as in_f:\n",
    "    json_in = json.load(in_f)\n",
    "type(json_in[0][0][0])"
   ]
  },
  {
   "cell_type": "code",
   "execution_count": 3,
   "metadata": {},
   "outputs": [],
   "source": [
    "all_track_bbs = [np.array(track_bbs, dtype=int) for track_bbs in json_in]\n"
   ]
  },
  {
   "cell_type": "code",
   "execution_count": 4,
   "metadata": {},
   "outputs": [
    {
     "data": {
      "text/plain": [
       "(27, 5)"
      ]
     },
     "execution_count": 4,
     "metadata": {},
     "output_type": "execute_result"
    }
   ],
   "source": [
    "all_track_bbs[0].shape\n"
   ]
  },
  {
   "cell_type": "markdown",
   "metadata": {},
   "source": [
    "### Manually check bboxes  \n",
    " - be careful: coordinates of numpy/skimage/cv2/pixel/rowCol/bbox"
   ]
  },
  {
   "cell_type": "code",
   "execution_count": 5,
   "metadata": {},
   "outputs": [
    {
     "data": {
      "image/png": "[encoded data removed]",
      "text/plain": [
       "<Figure size 432x288 with 1 Axes>"
      ]
     },
     "metadata": {
      "needs_background": "light"
     },
     "output_type": "display_data"
    }
   ],
   "source": [
    "import matplotlib.pyplot as plt\n",
    "import matplotlib.patches as patches\n",
    "\n",
    "idx = 2\n",
    "bboxes = all_track_bbs[idx]\n",
    "fig, ax = plt.subplots()\n",
    "ax.imshow(raw_imgs[idx])\n",
    "for bbox in bboxes:\n",
    "    # Create a Rectangle patch\n",
    "    rect = patches.Rectangle(\n",
    "        (bbox[1], bbox[0]),\n",
    "        (bbox[3] - bbox[1]),\n",
    "        (bbox[2] - bbox[0]),\n",
    "        linewidth=1,\n",
    "        edgecolor=\"r\",\n",
    "        facecolor=\"none\",\n",
    "    )\n",
    "    # Add the patch to the Axes\n",
    "    ax.add_patch(rect)\n",
    "# plt.show()\n"
   ]
  },
  {
   "cell_type": "markdown",
   "metadata": {},
   "source": [
    "Add information to SingleCellTrajectory"
   ]
  },
  {
   "cell_type": "code",
   "execution_count": 6,
   "metadata": {},
   "outputs": [],
   "source": [
    "import matplotlib.pyplot as plt\n",
    "from matplotlib.animation import FuncAnimation\n",
    "import os\n",
    "from livecell_tracker.core import SingleCellTrajectory, SingleCellStatic, single_cell\n",
    "\n",
    "id_to_sc_trajs = {}\n",
    "for timeframe, objects in enumerate(all_track_bbs):\n",
    "    for obj in objects:\n",
    "        track_id = obj[-1]\n",
    "        if not (track_id in id_to_sc_trajs):\n",
    "            new_traj = SingleCellTrajectory(raw_imgs, track_id=track_id)\n",
    "            id_to_sc_trajs[track_id] = new_traj\n",
    "        # print(\"obj: \", obj)\n",
    "        sc = SingleCellStatic(\n",
    "            timeframe, bbox=obj[:4], img_dataset=raw_imgs\n",
    "        )  # final column is track_id, ignore as we only need bbox here\n",
    "        _traj = id_to_sc_trajs[track_id]\n",
    "        _traj.add_timeframe_data(timeframe, sc)\n"
   ]
  },
  {
   "cell_type": "code",
   "execution_count": 7,
   "metadata": {},
   "outputs": [
    {
     "name": "stdout",
     "output_type": "stream",
     "text": [
      "[Viz] skipping the current trajectory track_id:  27\n",
      "[Viz] skipping the current trajectory track_id:  26\n",
      "[Viz] skipping the current trajectory track_id:  25\n",
      "[Viz] skipping the current trajectory track_id:  24\n",
      "[Viz] skipping the current trajectory track_id:  23\n",
      "[Viz] skipping the current trajectory track_id:  22\n",
      "[Viz] skipping the current trajectory track_id:  21\n",
      "[Viz] skipping the current trajectory track_id:  20\n",
      "[Viz] skipping the current trajectory track_id:  19\n",
      "[Viz] skipping the current trajectory track_id:  18\n"
     ]
    },
    {
     "name": "stderr",
     "output_type": "stream",
     "text": [
      "MovieWriter ffmpeg unavailable; using Pillow instead.\n"
     ]
    },
    {
     "name": "stdout",
     "output_type": "stream",
     "text": [
      "saving to: track_tmp\\track_17.gif...\n",
      "[Viz] skipping the current trajectory track_id:  16\n"
     ]
    },
    {
     "name": "stderr",
     "output_type": "stream",
     "text": [
      "MovieWriter ffmpeg unavailable; using Pillow instead.\n"
     ]
    },
    {
     "name": "stdout",
     "output_type": "stream",
     "text": [
      "saving to: track_tmp\\track_15.gif...\n"
     ]
    },
    {
     "name": "stderr",
     "output_type": "stream",
     "text": [
      "MovieWriter ffmpeg unavailable; using Pillow instead.\n"
     ]
    },
    {
     "name": "stdout",
     "output_type": "stream",
     "text": [
      "saving to: track_tmp\\track_14.gif...\n"
     ]
    },
    {
     "name": "stderr",
     "output_type": "stream",
     "text": [
      "MovieWriter ffmpeg unavailable; using Pillow instead.\n"
     ]
    },
    {
     "name": "stdout",
     "output_type": "stream",
     "text": [
      "saving to: track_tmp\\track_13.gif...\n",
      "[Viz] skipping the current trajectory track_id:  12\n"
     ]
    },
    {
     "name": "stderr",
     "output_type": "stream",
     "text": [
      "MovieWriter ffmpeg unavailable; using Pillow instead.\n"
     ]
    },
    {
     "name": "stdout",
     "output_type": "stream",
     "text": [
      "saving to: track_tmp\\track_11.gif...\n"
     ]
    },
    {
     "name": "stderr",
     "output_type": "stream",
     "text": [
      "MovieWriter ffmpeg unavailable; using Pillow instead.\n"
     ]
    },
    {
     "name": "stdout",
     "output_type": "stream",
     "text": [
      "saving to: track_tmp\\track_10.gif...\n"
     ]
    },
    {
     "name": "stderr",
     "output_type": "stream",
     "text": [
      "MovieWriter ffmpeg unavailable; using Pillow instead.\n"
     ]
    },
    {
     "name": "stdout",
     "output_type": "stream",
     "text": [
      "saving to: track_tmp\\track_9.gif...\n",
      "[Viz] skipping the current trajectory track_id:  8\n",
      "[Viz] skipping the current trajectory track_id:  7\n"
     ]
    },
    {
     "name": "stderr",
     "output_type": "stream",
     "text": [
      "MovieWriter ffmpeg unavailable; using Pillow instead.\n"
     ]
    },
    {
     "name": "stdout",
     "output_type": "stream",
     "text": [
      "saving to: track_tmp\\track_6.gif...\n"
     ]
    },
    {
     "name": "stderr",
     "output_type": "stream",
     "text": [
      "MovieWriter ffmpeg unavailable; using Pillow instead.\n"
     ]
    },
    {
     "name": "stdout",
     "output_type": "stream",
     "text": [
      "saving to: track_tmp\\track_5.gif...\n"
     ]
    },
    {
     "name": "stderr",
     "output_type": "stream",
     "text": [
      "MovieWriter ffmpeg unavailable; using Pillow instead.\n"
     ]
    },
    {
     "name": "stdout",
     "output_type": "stream",
     "text": [
      "saving to: track_tmp\\track_4.gif...\n"
     ]
    },
    {
     "name": "stderr",
     "output_type": "stream",
     "text": [
      "MovieWriter ffmpeg unavailable; using Pillow instead.\n"
     ]
    },
    {
     "name": "stdout",
     "output_type": "stream",
     "text": [
      "saving to: track_tmp\\track_3.gif...\n"
     ]
    },
    {
     "name": "stderr",
     "output_type": "stream",
     "text": [
      "d:\\xing-vimentin-dic-pipeline\\src\\livecell_dev\\notebooks\\livecell_tracker\\core\\single_cell.py:98: UserWarning: Attempting to set identical bottom == top == -0.5 results in singular transformations; automatically expanding.\n",
      "  ax.imshow(img_crop)\n",
      "MovieWriter ffmpeg unavailable; using Pillow instead.\n"
     ]
    },
    {
     "name": "stdout",
     "output_type": "stream",
     "text": [
      "saving to: track_tmp\\track_2.gif...\n"
     ]
    },
    {
     "name": "stderr",
     "output_type": "stream",
     "text": [
      "MovieWriter ffmpeg unavailable; using Pillow instead.\n"
     ]
    },
    {
     "name": "stdout",
     "output_type": "stream",
     "text": [
      "saving to: track_tmp\\track_1.gif...\n",
      "[Viz] skipping the current trajectory track_id:  32\n"
     ]
    },
    {
     "name": "stderr",
     "output_type": "stream",
     "text": [
      "MovieWriter ffmpeg unavailable; using Pillow instead.\n"
     ]
    },
    {
     "name": "stdout",
     "output_type": "stream",
     "text": [
      "saving to: track_tmp\\track_29.gif...\n",
      "[Viz] skipping the current trajectory track_id:  28\n",
      "[Viz] skipping the current trajectory track_id:  34\n",
      "[Viz] skipping the current trajectory track_id:  33\n",
      "[Viz] skipping the current trajectory track_id:  37\n"
     ]
    },
    {
     "name": "stderr",
     "output_type": "stream",
     "text": [
      "MovieWriter ffmpeg unavailable; using Pillow instead.\n"
     ]
    },
    {
     "name": "stdout",
     "output_type": "stream",
     "text": [
      "saving to: track_tmp\\track_36.gif...\n"
     ]
    },
    {
     "name": "stderr",
     "output_type": "stream",
     "text": [
      "MovieWriter ffmpeg unavailable; using Pillow instead.\n"
     ]
    },
    {
     "name": "stdout",
     "output_type": "stream",
     "text": [
      "saving to: track_tmp\\track_35.gif...\n",
      "[Viz] skipping the current trajectory track_id:  45\n",
      "[Viz] skipping the current trajectory track_id:  44\n",
      "[Viz] skipping the current trajectory track_id:  42\n",
      "[Viz] skipping the current trajectory track_id:  40\n",
      "[Viz] skipping the current trajectory track_id:  47\n",
      "[Viz] skipping the current trajectory track_id:  46\n",
      "[Viz] skipping the current trajectory track_id:  43\n",
      "[Viz] skipping the current trajectory track_id:  51\n",
      "[Viz] skipping the current trajectory track_id:  48\n"
     ]
    },
    {
     "name": "stderr",
     "output_type": "stream",
     "text": [
      "MovieWriter ffmpeg unavailable; using Pillow instead.\n"
     ]
    },
    {
     "name": "stdout",
     "output_type": "stream",
     "text": [
      "saving to: track_tmp\\track_56.gif...\n",
      "[Viz] skipping the current trajectory track_id:  55\n"
     ]
    },
    {
     "name": "stderr",
     "output_type": "stream",
     "text": [
      "MovieWriter ffmpeg unavailable; using Pillow instead.\n"
     ]
    },
    {
     "name": "stdout",
     "output_type": "stream",
     "text": [
      "saving to: track_tmp\\track_53.gif...\n",
      "[Viz] skipping the current trajectory track_id:  59\n",
      "[Viz] skipping the current trajectory track_id:  58\n",
      "[Viz] skipping the current trajectory track_id:  54\n",
      "[Viz] skipping the current trajectory track_id:  63\n",
      "[Viz] skipping the current trajectory track_id:  62\n",
      "[Viz] skipping the current trajectory track_id:  60\n",
      "saving to: track_tmp\\track_65.gif...\n"
     ]
    },
    {
     "name": "stderr",
     "output_type": "stream",
     "text": [
      "MovieWriter ffmpeg unavailable; using Pillow instead.\n"
     ]
    },
    {
     "name": "stdout",
     "output_type": "stream",
     "text": [
      "[Viz] skipping the current trajectory track_id:  66\n",
      "[Viz] skipping the current trajectory track_id:  72\n",
      "[Viz] skipping the current trajectory track_id:  75\n"
     ]
    },
    {
     "name": "stderr",
     "output_type": "stream",
     "text": [
      "MovieWriter ffmpeg unavailable; using Pillow instead.\n"
     ]
    },
    {
     "name": "stdout",
     "output_type": "stream",
     "text": [
      "saving to: track_tmp\\track_76.gif...\n"
     ]
    },
    {
     "name": "stderr",
     "output_type": "stream",
     "text": [
      "d:\\xing-vimentin-dic-pipeline\\src\\livecell_dev\\notebooks\\livecell_tracker\\core\\single_cell.py:98: UserWarning: Attempting to set identical bottom == top == -0.5 results in singular transformations; automatically expanding.\n",
      "  ax.imshow(img_crop)\n"
     ]
    },
    {
     "name": "stdout",
     "output_type": "stream",
     "text": [
      "[Viz] skipping the current trajectory track_id:  74\n"
     ]
    },
    {
     "name": "stderr",
     "output_type": "stream",
     "text": [
      "MovieWriter ffmpeg unavailable; using Pillow instead.\n"
     ]
    },
    {
     "name": "stdout",
     "output_type": "stream",
     "text": [
      "saving to: track_tmp\\track_79.gif...\n",
      "[Viz] skipping the current trajectory track_id:  78\n",
      "[Viz] skipping the current trajectory track_id:  80\n",
      "[Viz] skipping the current trajectory track_id:  84\n",
      "[Viz] skipping the current trajectory track_id:  83\n",
      "[Viz] skipping the current trajectory track_id:  89\n",
      "[Viz] skipping the current trajectory track_id:  88\n"
     ]
    },
    {
     "name": "stderr",
     "output_type": "stream",
     "text": [
      "MovieWriter ffmpeg unavailable; using Pillow instead.\n"
     ]
    },
    {
     "name": "stdout",
     "output_type": "stream",
     "text": [
      "saving to: track_tmp\\track_87.gif...\n",
      "[Viz] skipping the current trajectory track_id:  95\n",
      "[Viz] skipping the current trajectory track_id:  94\n",
      "[Viz] skipping the current trajectory track_id:  93\n",
      "[Viz] skipping the current trajectory track_id:  91\n",
      "[Viz] skipping the current trajectory track_id:  90\n",
      "[Viz] skipping the current trajectory track_id:  98\n"
     ]
    },
    {
     "name": "stderr",
     "output_type": "stream",
     "text": [
      "MovieWriter ffmpeg unavailable; using Pillow instead.\n"
     ]
    },
    {
     "name": "stdout",
     "output_type": "stream",
     "text": [
      "saving to: track_tmp\\track_103.gif...\n",
      "[Viz] skipping the current trajectory track_id:  102\n",
      "[Viz] skipping the current trajectory track_id:  101\n",
      "[Viz] skipping the current trajectory track_id:  111\n"
     ]
    },
    {
     "name": "stderr",
     "output_type": "stream",
     "text": [
      "MovieWriter ffmpeg unavailable; using Pillow instead.\n"
     ]
    },
    {
     "name": "stdout",
     "output_type": "stream",
     "text": [
      "saving to: track_tmp\\track_109.gif...\n",
      "[Viz] skipping the current trajectory track_id:  108\n",
      "[Viz] skipping the current trajectory track_id:  105\n",
      "[Viz] skipping the current trajectory track_id:  113\n"
     ]
    },
    {
     "name": "stderr",
     "output_type": "stream",
     "text": [
      "MovieWriter ffmpeg unavailable; using Pillow instead.\n"
     ]
    },
    {
     "name": "stdout",
     "output_type": "stream",
     "text": [
      "saving to: track_tmp\\track_104.gif...\n"
     ]
    },
    {
     "name": "stderr",
     "output_type": "stream",
     "text": [
      "MovieWriter ffmpeg unavailable; using Pillow instead.\n"
     ]
    },
    {
     "name": "stdout",
     "output_type": "stream",
     "text": [
      "saving to: track_tmp\\track_118.gif...\n",
      "[Viz] skipping the current trajectory track_id:  117\n",
      "[Viz] skipping the current trajectory track_id:  115\n",
      "[Viz] skipping the current trajectory track_id:  112\n",
      "[Viz] skipping the current trajectory track_id:  122\n",
      "[Viz] skipping the current trajectory track_id:  119\n",
      "[Viz] skipping the current trajectory track_id:  116\n",
      "[Viz] skipping the current trajectory track_id:  123\n",
      "[Viz] skipping the current trajectory track_id:  126\n",
      "[Viz] skipping the current trajectory track_id:  132\n",
      "[Viz] skipping the current trajectory track_id:  130\n",
      "[Viz] skipping the current trajectory track_id:  136\n"
     ]
    },
    {
     "name": "stderr",
     "output_type": "stream",
     "text": [
      "MovieWriter ffmpeg unavailable; using Pillow instead.\n"
     ]
    },
    {
     "name": "stdout",
     "output_type": "stream",
     "text": [
      "saving to: track_tmp\\track_135.gif...\n",
      "[Viz] skipping the current trajectory track_id:  134\n"
     ]
    },
    {
     "name": "stderr",
     "output_type": "stream",
     "text": [
      "MovieWriter ffmpeg unavailable; using Pillow instead.\n"
     ]
    },
    {
     "name": "stdout",
     "output_type": "stream",
     "text": [
      "saving to: track_tmp\\track_139.gif...\n",
      "[Viz] skipping the current trajectory track_id:  138\n",
      "[Viz] skipping the current trajectory track_id:  137\n",
      "[Viz] skipping the current trajectory track_id:  149\n",
      "[Viz] skipping the current trajectory track_id:  148\n",
      "[Viz] skipping the current trajectory track_id:  146\n",
      "[Viz] skipping the current trajectory track_id:  142\n",
      "[Viz] skipping the current trajectory track_id:  141\n"
     ]
    },
    {
     "name": "stderr",
     "output_type": "stream",
     "text": [
      "MovieWriter ffmpeg unavailable; using Pillow instead.\n"
     ]
    },
    {
     "name": "stdout",
     "output_type": "stream",
     "text": [
      "saving to: track_tmp\\track_154.gif...\n",
      "[Viz] skipping the current trajectory track_id:  153\n",
      "[Viz] skipping the current trajectory track_id:  143\n"
     ]
    },
    {
     "name": "stderr",
     "output_type": "stream",
     "text": [
      "MovieWriter ffmpeg unavailable; using Pillow instead.\n"
     ]
    },
    {
     "name": "stdout",
     "output_type": "stream",
     "text": [
      "saving to: track_tmp\\track_158.gif...\n",
      "[Viz] skipping the current trajectory track_id:  156\n",
      "[Viz] skipping the current trajectory track_id:  159\n",
      "[Viz] skipping the current trajectory track_id:  169\n",
      "[Viz] skipping the current trajectory track_id:  164\n",
      "[Viz] skipping the current trajectory track_id:  174\n",
      "[Viz] skipping the current trajectory track_id:  173\n",
      "[Viz] skipping the current trajectory track_id:  172\n"
     ]
    },
    {
     "name": "stderr",
     "output_type": "stream",
     "text": [
      "MovieWriter ffmpeg unavailable; using Pillow instead.\n"
     ]
    },
    {
     "name": "stdout",
     "output_type": "stream",
     "text": [
      "saving to: track_tmp\\track_165.gif...\n",
      "[Viz] skipping the current trajectory track_id:  181\n",
      "[Viz] skipping the current trajectory track_id:  179\n",
      "[Viz] skipping the current trajectory track_id:  178\n",
      "[Viz] skipping the current trajectory track_id:  177\n",
      "[Viz] skipping the current trajectory track_id:  183\n",
      "[Viz] skipping the current trajectory track_id:  186\n",
      "[Viz] skipping the current trajectory track_id:  185\n",
      "[Viz] skipping the current trajectory track_id:  194\n"
     ]
    },
    {
     "name": "stderr",
     "output_type": "stream",
     "text": [
      "MovieWriter ffmpeg unavailable; using Pillow instead.\n"
     ]
    },
    {
     "name": "stdout",
     "output_type": "stream",
     "text": [
      "saving to: track_tmp\\track_192.gif...\n",
      "[Viz] skipping the current trajectory track_id:  191\n"
     ]
    },
    {
     "name": "stderr",
     "output_type": "stream",
     "text": [
      "MovieWriter ffmpeg unavailable; using Pillow instead.\n"
     ]
    },
    {
     "name": "stdout",
     "output_type": "stream",
     "text": [
      "saving to: track_tmp\\track_190.gif...\n",
      "[Viz] skipping the current trajectory track_id:  199\n",
      "[Viz] skipping the current trajectory track_id:  198\n",
      "[Viz] skipping the current trajectory track_id:  197\n",
      "[Viz] skipping the current trajectory track_id:  196\n"
     ]
    },
    {
     "name": "stderr",
     "output_type": "stream",
     "text": [
      "MovieWriter ffmpeg unavailable; using Pillow instead.\n"
     ]
    },
    {
     "name": "stdout",
     "output_type": "stream",
     "text": [
      "saving to: track_tmp\\track_200.gif...\n",
      "[Viz] skipping the current trajectory track_id:  206\n",
      "[Viz] skipping the current trajectory track_id:  207\n",
      "[Viz] skipping the current trajectory track_id:  204\n",
      "[Viz] skipping the current trajectory track_id:  211\n",
      "[Viz] skipping the current trajectory track_id:  210\n",
      "[Viz] skipping the current trajectory track_id:  218\n",
      "[Viz] skipping the current trajectory track_id:  221\n",
      "[Viz] skipping the current trajectory track_id:  220\n",
      "[Viz] skipping the current trajectory track_id:  227\n"
     ]
    },
    {
     "name": "stderr",
     "output_type": "stream",
     "text": [
      "MovieWriter ffmpeg unavailable; using Pillow instead.\n"
     ]
    },
    {
     "name": "stdout",
     "output_type": "stream",
     "text": [
      "saving to: track_tmp\\track_224.gif...\n",
      "[Viz] skipping the current trajectory track_id:  223\n"
     ]
    },
    {
     "name": "stderr",
     "output_type": "stream",
     "text": [
      "MovieWriter ffmpeg unavailable; using Pillow instead.\n"
     ]
    },
    {
     "name": "stdout",
     "output_type": "stream",
     "text": [
      "saving to: track_tmp\\track_231.gif...\n",
      "[Viz] skipping the current trajectory track_id:  229\n",
      "[Viz] skipping the current trajectory track_id:  237\n"
     ]
    },
    {
     "name": "stderr",
     "output_type": "stream",
     "text": [
      "MovieWriter ffmpeg unavailable; using Pillow instead.\n"
     ]
    },
    {
     "name": "stdout",
     "output_type": "stream",
     "text": [
      "saving to: track_tmp\\track_236.gif...\n",
      "[Viz] skipping the current trajectory track_id:  234\n",
      "[Viz] skipping the current trajectory track_id:  233\n"
     ]
    },
    {
     "name": "stderr",
     "output_type": "stream",
     "text": [
      "MovieWriter ffmpeg unavailable; using Pillow instead.\n"
     ]
    },
    {
     "name": "stdout",
     "output_type": "stream",
     "text": [
      "saving to: track_tmp\\track_230.gif...\n"
     ]
    },
    {
     "name": "stderr",
     "output_type": "stream",
     "text": [
      "MovieWriter ffmpeg unavailable; using Pillow instead.\n"
     ]
    },
    {
     "name": "stdout",
     "output_type": "stream",
     "text": [
      "saving to: track_tmp\\track_246.gif...\n",
      "[Viz] skipping the current trajectory track_id:  250\n",
      "[Viz] skipping the current trajectory track_id:  254\n",
      "[Viz] skipping the current trajectory track_id:  253\n",
      "[Viz] skipping the current trajectory track_id:  252\n",
      "[Viz] skipping the current trajectory track_id:  258\n",
      "[Viz] skipping the current trajectory track_id:  263\n",
      "[Viz] skipping the current trajectory track_id:  259\n",
      "[Viz] skipping the current trajectory track_id:  267\n",
      "[Viz] skipping the current trajectory track_id:  261\n",
      "[Viz] skipping the current trajectory track_id:  269\n"
     ]
    },
    {
     "name": "stderr",
     "output_type": "stream",
     "text": [
      "MovieWriter ffmpeg unavailable; using Pillow instead.\n"
     ]
    },
    {
     "name": "stdout",
     "output_type": "stream",
     "text": [
      "saving to: track_tmp\\track_264.gif...\n",
      "[Viz] skipping the current trajectory track_id:  276\n",
      "[Viz] skipping the current trajectory track_id:  274\n",
      "[Viz] skipping the current trajectory track_id:  271\n"
     ]
    },
    {
     "name": "stderr",
     "output_type": "stream",
     "text": [
      "MovieWriter ffmpeg unavailable; using Pillow instead.\n"
     ]
    },
    {
     "name": "stdout",
     "output_type": "stream",
     "text": [
      "saving to: track_tmp\\track_284.gif...\n",
      "[Viz] skipping the current trajectory track_id:  281\n"
     ]
    },
    {
     "name": "stderr",
     "output_type": "stream",
     "text": [
      "MovieWriter ffmpeg unavailable; using Pillow instead.\n"
     ]
    },
    {
     "name": "stdout",
     "output_type": "stream",
     "text": [
      "saving to: track_tmp\\track_279.gif...\n"
     ]
    },
    {
     "name": "stderr",
     "output_type": "stream",
     "text": [
      "MovieWriter ffmpeg unavailable; using Pillow instead.\n"
     ]
    },
    {
     "name": "stdout",
     "output_type": "stream",
     "text": [
      "saving to: track_tmp\\track_278.gif...\n",
      "[Viz] skipping the current trajectory track_id:  292\n"
     ]
    },
    {
     "name": "stderr",
     "output_type": "stream",
     "text": [
      "MovieWriter ffmpeg unavailable; using Pillow instead.\n"
     ]
    },
    {
     "name": "stdout",
     "output_type": "stream",
     "text": [
      "saving to: track_tmp\\track_289.gif...\n",
      "[Viz] skipping the current trajectory track_id:  288\n",
      "[Viz] skipping the current trajectory track_id:  293\n",
      "[Viz] skipping the current trajectory track_id:  291\n"
     ]
    },
    {
     "name": "stderr",
     "output_type": "stream",
     "text": [
      "MovieWriter ffmpeg unavailable; using Pillow instead.\n"
     ]
    },
    {
     "name": "stdout",
     "output_type": "stream",
     "text": [
      "saving to: track_tmp\\track_299.gif...\n"
     ]
    },
    {
     "name": "stderr",
     "output_type": "stream",
     "text": [
      "MovieWriter ffmpeg unavailable; using Pillow instead.\n"
     ]
    },
    {
     "name": "stdout",
     "output_type": "stream",
     "text": [
      "saving to: track_tmp\\track_298.gif...\n"
     ]
    },
    {
     "name": "stderr",
     "output_type": "stream",
     "text": [
      "MovieWriter ffmpeg unavailable; using Pillow instead.\n"
     ]
    },
    {
     "name": "stdout",
     "output_type": "stream",
     "text": [
      "saving to: track_tmp\\track_295.gif...\n"
     ]
    },
    {
     "name": "stderr",
     "output_type": "stream",
     "text": [
      "d:\\xing-vimentin-dic-pipeline\\src\\livecell_dev\\notebooks\\livecell_tracker\\core\\single_cell.py:98: UserWarning: Attempting to set identical bottom == top == -0.5 results in singular transformations; automatically expanding.\n",
      "  ax.imshow(img_crop)\n",
      "MovieWriter ffmpeg unavailable; using Pillow instead.\n"
     ]
    },
    {
     "name": "stdout",
     "output_type": "stream",
     "text": [
      "saving to: track_tmp\\track_304.gif...\n",
      "[Viz] skipping the current trajectory track_id:  301\n",
      "[Viz] skipping the current trajectory track_id:  306\n",
      "[Viz] skipping the current trajectory track_id:  305\n",
      "[Viz] skipping the current trajectory track_id:  303\n",
      "[Viz] skipping the current trajectory track_id:  313\n"
     ]
    },
    {
     "name": "stderr",
     "output_type": "stream",
     "text": [
      "MovieWriter ffmpeg unavailable; using Pillow instead.\n"
     ]
    },
    {
     "name": "stdout",
     "output_type": "stream",
     "text": [
      "saving to: track_tmp\\track_311.gif...\n"
     ]
    },
    {
     "name": "stderr",
     "output_type": "stream",
     "text": [
      "MovieWriter ffmpeg unavailable; using Pillow instead.\n"
     ]
    },
    {
     "name": "stdout",
     "output_type": "stream",
     "text": [
      "saving to: track_tmp\\track_310.gif...\n"
     ]
    },
    {
     "name": "stderr",
     "output_type": "stream",
     "text": [
      "MovieWriter ffmpeg unavailable; using Pillow instead.\n"
     ]
    },
    {
     "name": "stdout",
     "output_type": "stream",
     "text": [
      "saving to: track_tmp\\track_317.gif...\n",
      "[Viz] skipping the current trajectory track_id:  314\n",
      "[Viz] skipping the current trajectory track_id:  321\n",
      "[Viz] skipping the current trajectory track_id:  319\n",
      "[Viz] skipping the current trajectory track_id:  316\n",
      "[Viz] skipping the current trajectory track_id:  322\n"
     ]
    },
    {
     "name": "stderr",
     "output_type": "stream",
     "text": [
      "MovieWriter ffmpeg unavailable; using Pillow instead.\n"
     ]
    },
    {
     "name": "stdout",
     "output_type": "stream",
     "text": [
      "saving to: track_tmp\\track_320.gif...\n",
      "[Viz] skipping the current trajectory track_id:  327\n"
     ]
    },
    {
     "name": "stderr",
     "output_type": "stream",
     "text": [
      "MovieWriter ffmpeg unavailable; using Pillow instead.\n"
     ]
    },
    {
     "name": "stdout",
     "output_type": "stream",
     "text": [
      "saving to: track_tmp\\track_326.gif...\n",
      "[Viz] skipping the current trajectory track_id:  332\n",
      "[Viz] skipping the current trajectory track_id:  330\n",
      "[Viz] skipping the current trajectory track_id:  328\n",
      "[Viz] skipping the current trajectory track_id:  335\n",
      "[Viz] skipping the current trajectory track_id:  340\n",
      "[Viz] skipping the current trajectory track_id:  346\n",
      "[Viz] skipping the current trajectory track_id:  345\n",
      "[Viz] skipping the current trajectory track_id:  344\n",
      "[Viz] skipping the current trajectory track_id:  349\n",
      "[Viz] skipping the current trajectory track_id:  353\n",
      "[Viz] skipping the current trajectory track_id:  352\n"
     ]
    },
    {
     "name": "stderr",
     "output_type": "stream",
     "text": [
      "MovieWriter ffmpeg unavailable; using Pillow instead.\n"
     ]
    },
    {
     "name": "stdout",
     "output_type": "stream",
     "text": [
      "saving to: track_tmp\\track_357.gif...\n",
      "[Viz] skipping the current trajectory track_id:  356\n",
      "[Viz] skipping the current trajectory track_id:  358\n",
      "[Viz] skipping the current trajectory track_id:  355\n",
      "[Viz] skipping the current trajectory track_id:  360\n",
      "[Viz] skipping the current trajectory track_id:  363\n",
      "[Viz] skipping the current trajectory track_id:  362\n",
      "[Viz] skipping the current trajectory track_id:  366\n",
      "[Viz] skipping the current trajectory track_id:  369\n",
      "[Viz] skipping the current trajectory track_id:  365\n",
      "[Viz] skipping the current trajectory track_id:  373\n"
     ]
    },
    {
     "name": "stderr",
     "output_type": "stream",
     "text": [
      "MovieWriter ffmpeg unavailable; using Pillow instead.\n"
     ]
    },
    {
     "name": "stdout",
     "output_type": "stream",
     "text": [
      "saving to: track_tmp\\track_376.gif...\n",
      "[Viz] skipping the current trajectory track_id:  375\n",
      "[Viz] skipping the current trajectory track_id:  378\n",
      "[Viz] skipping the current trajectory track_id:  382\n",
      "[Viz] skipping the current trajectory track_id:  381\n",
      "[Viz] skipping the current trajectory track_id:  380\n",
      "[Viz] skipping the current trajectory track_id:  388\n",
      "[Viz] skipping the current trajectory track_id:  387\n",
      "[Viz] skipping the current trajectory track_id:  386\n"
     ]
    },
    {
     "name": "stderr",
     "output_type": "stream",
     "text": [
      "MovieWriter ffmpeg unavailable; using Pillow instead.\n"
     ]
    },
    {
     "name": "stdout",
     "output_type": "stream",
     "text": [
      "saving to: track_tmp\\track_385.gif...\n",
      "[Viz] skipping the current trajectory track_id:  384\n",
      "[Viz] skipping the current trajectory track_id:  394\n",
      "[Viz] skipping the current trajectory track_id:  393\n",
      "[Viz] skipping the current trajectory track_id:  405\n",
      "[Viz] skipping the current trajectory track_id:  402\n",
      "[Viz] skipping the current trajectory track_id:  396\n",
      "[Viz] skipping the current trajectory track_id:  408\n"
     ]
    },
    {
     "name": "stderr",
     "output_type": "stream",
     "text": [
      "MovieWriter ffmpeg unavailable; using Pillow instead.\n"
     ]
    },
    {
     "name": "stdout",
     "output_type": "stream",
     "text": [
      "saving to: track_tmp\\track_411.gif...\n"
     ]
    },
    {
     "name": "stderr",
     "output_type": "stream",
     "text": [
      "d:\\xing-vimentin-dic-pipeline\\src\\livecell_dev\\notebooks\\livecell_tracker\\core\\single_cell.py:98: UserWarning: Attempting to set identical bottom == top == -0.5 results in singular transformations; automatically expanding.\n",
      "  ax.imshow(img_crop)\n",
      "MovieWriter ffmpeg unavailable; using Pillow instead.\n"
     ]
    },
    {
     "name": "stdout",
     "output_type": "stream",
     "text": [
      "saving to: track_tmp\\track_414.gif...\n"
     ]
    },
    {
     "name": "stderr",
     "output_type": "stream",
     "text": [
      "MovieWriter ffmpeg unavailable; using Pillow instead.\n"
     ]
    },
    {
     "name": "stdout",
     "output_type": "stream",
     "text": [
      "saving to: track_tmp\\track_421.gif...\n",
      "[Viz] skipping the current trajectory track_id:  419\n",
      "[Viz] skipping the current trajectory track_id:  418\n",
      "[Viz] skipping the current trajectory track_id:  417\n",
      "[Viz] skipping the current trajectory track_id:  413\n",
      "[Viz] skipping the current trajectory track_id:  420\n",
      "[Viz] skipping the current trajectory track_id:  416\n"
     ]
    },
    {
     "name": "stderr",
     "output_type": "stream",
     "text": [
      "MovieWriter ffmpeg unavailable; using Pillow instead.\n"
     ]
    },
    {
     "name": "stdout",
     "output_type": "stream",
     "text": [
      "saving to: track_tmp\\track_415.gif...\n",
      "[Viz] skipping the current trajectory track_id:  423\n",
      "[Viz] skipping the current trajectory track_id:  426\n",
      "[Viz] skipping the current trajectory track_id:  429\n",
      "[Viz] skipping the current trajectory track_id:  428\n",
      "[Viz] skipping the current trajectory track_id:  431\n",
      "[Viz] skipping the current trajectory track_id:  433\n",
      "[Viz] skipping the current trajectory track_id:  439\n",
      "[Viz] skipping the current trajectory track_id:  438\n",
      "[Viz] skipping the current trajectory track_id:  437\n",
      "[Viz] skipping the current trajectory track_id:  446\n",
      "[Viz] skipping the current trajectory track_id:  444\n",
      "[Viz] skipping the current trajectory track_id:  442\n",
      "[Viz] skipping the current trajectory track_id:  450\n",
      "[Viz] skipping the current trajectory track_id:  449\n",
      "[Viz] skipping the current trajectory track_id:  448\n",
      "[Viz] skipping the current trajectory track_id:  456\n",
      "[Viz] skipping the current trajectory track_id:  455\n",
      "[Viz] skipping the current trajectory track_id:  454\n",
      "[Viz] skipping the current trajectory track_id:  458\n"
     ]
    },
    {
     "name": "stderr",
     "output_type": "stream",
     "text": [
      "MovieWriter ffmpeg unavailable; using Pillow instead.\n"
     ]
    },
    {
     "name": "stdout",
     "output_type": "stream",
     "text": [
      "saving to: track_tmp\\track_462.gif...\n"
     ]
    },
    {
     "name": "stderr",
     "output_type": "stream",
     "text": [
      "MovieWriter ffmpeg unavailable; using Pillow instead.\n"
     ]
    },
    {
     "name": "stdout",
     "output_type": "stream",
     "text": [
      "saving to: track_tmp\\track_461.gif...\n",
      "[Viz] skipping the current trajectory track_id:  468\n",
      "[Viz] skipping the current trajectory track_id:  465\n",
      "[Viz] skipping the current trajectory track_id:  466\n",
      "[Viz] skipping the current trajectory track_id:  471\n",
      "[Viz] skipping the current trajectory track_id:  474\n",
      "[Viz] skipping the current trajectory track_id:  480\n"
     ]
    },
    {
     "name": "stderr",
     "output_type": "stream",
     "text": [
      "MovieWriter ffmpeg unavailable; using Pillow instead.\n"
     ]
    },
    {
     "name": "stdout",
     "output_type": "stream",
     "text": [
      "saving to: track_tmp\\track_479.gif...\n",
      "[Viz] skipping the current trajectory track_id:  484\n"
     ]
    },
    {
     "name": "stderr",
     "output_type": "stream",
     "text": [
      "MovieWriter ffmpeg unavailable; using Pillow instead.\n"
     ]
    },
    {
     "name": "stdout",
     "output_type": "stream",
     "text": [
      "saving to: track_tmp\\track_482.gif...\n",
      "[Viz] skipping the current trajectory track_id:  481\n",
      "[Viz] skipping the current trajectory track_id:  486\n"
     ]
    },
    {
     "name": "stderr",
     "output_type": "stream",
     "text": [
      "MovieWriter ffmpeg unavailable; using Pillow instead.\n"
     ]
    },
    {
     "name": "stdout",
     "output_type": "stream",
     "text": [
      "saving to: track_tmp\\track_487.gif...\n",
      "[Viz] skipping the current trajectory track_id:  493\n",
      "[Viz] skipping the current trajectory track_id:  491\n",
      "[Viz] skipping the current trajectory track_id:  489\n",
      "[Viz] skipping the current trajectory track_id:  495\n",
      "[Viz] skipping the current trajectory track_id:  494\n"
     ]
    },
    {
     "name": "stderr",
     "output_type": "stream",
     "text": [
      "MovieWriter ffmpeg unavailable; using Pillow instead.\n"
     ]
    },
    {
     "name": "stdout",
     "output_type": "stream",
     "text": [
      "saving to: track_tmp\\track_496.gif...\n"
     ]
    },
    {
     "name": "stderr",
     "output_type": "stream",
     "text": [
      "d:\\xing-vimentin-dic-pipeline\\src\\livecell_dev\\notebooks\\livecell_tracker\\core\\single_cell.py:98: UserWarning: Attempting to set identical bottom == top == -0.5 results in singular transformations; automatically expanding.\n",
      "  ax.imshow(img_crop)\n",
      "MovieWriter ffmpeg unavailable; using Pillow instead.\n"
     ]
    },
    {
     "name": "stdout",
     "output_type": "stream",
     "text": [
      "saving to: track_tmp\\track_500.gif...\n"
     ]
    },
    {
     "name": "stderr",
     "output_type": "stream",
     "text": [
      "MovieWriter ffmpeg unavailable; using Pillow instead.\n"
     ]
    },
    {
     "name": "stdout",
     "output_type": "stream",
     "text": [
      "saving to: track_tmp\\track_503.gif...\n",
      "[Viz] skipping the current trajectory track_id:  499\n",
      "[Viz] skipping the current trajectory track_id:  504\n",
      "[Viz] skipping the current trajectory track_id:  507\n"
     ]
    },
    {
     "name": "stderr",
     "output_type": "stream",
     "text": [
      "MovieWriter ffmpeg unavailable; using Pillow instead.\n"
     ]
    },
    {
     "name": "stdout",
     "output_type": "stream",
     "text": [
      "saving to: track_tmp\\track_506.gif...\n"
     ]
    },
    {
     "name": "stderr",
     "output_type": "stream",
     "text": [
      "MovieWriter ffmpeg unavailable; using Pillow instead.\n"
     ]
    },
    {
     "name": "stdout",
     "output_type": "stream",
     "text": [
      "saving to: track_tmp\\track_510.gif...\n"
     ]
    },
    {
     "name": "stderr",
     "output_type": "stream",
     "text": [
      "MovieWriter ffmpeg unavailable; using Pillow instead.\n"
     ]
    },
    {
     "name": "stdout",
     "output_type": "stream",
     "text": [
      "saving to: track_tmp\\track_512.gif...\n",
      "[Viz] skipping the current trajectory track_id:  517\n",
      "[Viz] skipping the current trajectory track_id:  520\n",
      "[Viz] skipping the current trajectory track_id:  518\n",
      "[Viz] skipping the current trajectory track_id:  516\n",
      "[Viz] skipping the current trajectory track_id:  523\n"
     ]
    },
    {
     "name": "stderr",
     "output_type": "stream",
     "text": [
      "MovieWriter ffmpeg unavailable; using Pillow instead.\n"
     ]
    },
    {
     "name": "stdout",
     "output_type": "stream",
     "text": [
      "saving to: track_tmp\\track_522.gif...\n",
      "[Viz] skipping the current trajectory track_id:  526\n"
     ]
    },
    {
     "name": "stderr",
     "output_type": "stream",
     "text": [
      "MovieWriter ffmpeg unavailable; using Pillow instead.\n"
     ]
    },
    {
     "name": "stdout",
     "output_type": "stream",
     "text": [
      "saving to: track_tmp\\track_527.gif...\n"
     ]
    },
    {
     "name": "stderr",
     "output_type": "stream",
     "text": [
      "d:\\xing-vimentin-dic-pipeline\\src\\livecell_dev\\notebooks\\livecell_tracker\\core\\single_cell.py:98: UserWarning: Attempting to set identical bottom == top == -0.5 results in singular transformations; automatically expanding.\n",
      "  ax.imshow(img_crop)\n",
      "MovieWriter ffmpeg unavailable; using Pillow instead.\n"
     ]
    },
    {
     "name": "stdout",
     "output_type": "stream",
     "text": [
      "saving to: track_tmp\\track_532.gif...\n",
      "[Viz] skipping the current trajectory track_id:  531\n"
     ]
    },
    {
     "name": "stderr",
     "output_type": "stream",
     "text": [
      "MovieWriter ffmpeg unavailable; using Pillow instead.\n"
     ]
    },
    {
     "name": "stdout",
     "output_type": "stream",
     "text": [
      "saving to: track_tmp\\track_533.gif...\n",
      "[Viz] skipping the current trajectory track_id:  535\n"
     ]
    },
    {
     "name": "stderr",
     "output_type": "stream",
     "text": [
      "MovieWriter ffmpeg unavailable; using Pillow instead.\n"
     ]
    },
    {
     "name": "stdout",
     "output_type": "stream",
     "text": [
      "saving to: track_tmp\\track_539.gif...\n",
      "[Viz] skipping the current trajectory track_id:  538\n",
      "[Viz] skipping the current trajectory track_id:  536\n"
     ]
    },
    {
     "name": "stderr",
     "output_type": "stream",
     "text": [
      "MovieWriter ffmpeg unavailable; using Pillow instead.\n"
     ]
    },
    {
     "name": "stdout",
     "output_type": "stream",
     "text": [
      "saving to: track_tmp\\track_545.gif...\n"
     ]
    },
    {
     "name": "stderr",
     "output_type": "stream",
     "text": [
      "MovieWriter ffmpeg unavailable; using Pillow instead.\n"
     ]
    },
    {
     "name": "stdout",
     "output_type": "stream",
     "text": [
      "saving to: track_tmp\\track_543.gif...\n",
      "[Viz] skipping the current trajectory track_id:  544\n",
      "[Viz] skipping the current trajectory track_id:  548\n",
      "[Viz] skipping the current trajectory track_id:  552\n"
     ]
    },
    {
     "name": "stderr",
     "output_type": "stream",
     "text": [
      "MovieWriter ffmpeg unavailable; using Pillow instead.\n"
     ]
    },
    {
     "name": "stdout",
     "output_type": "stream",
     "text": [
      "saving to: track_tmp\\track_551.gif...\n",
      "[Viz] skipping the current trajectory track_id:  550\n",
      "[Viz] skipping the current trajectory track_id:  554\n"
     ]
    },
    {
     "name": "stderr",
     "output_type": "stream",
     "text": [
      "MovieWriter ffmpeg unavailable; using Pillow instead.\n"
     ]
    },
    {
     "name": "stdout",
     "output_type": "stream",
     "text": [
      "saving to: track_tmp\\track_557.gif...\n",
      "[Viz] skipping the current trajectory track_id:  561\n",
      "[Viz] skipping the current trajectory track_id:  564\n",
      "[Viz] skipping the current trajectory track_id:  563\n",
      "[Viz] skipping the current trajectory track_id:  562\n"
     ]
    },
    {
     "name": "stderr",
     "output_type": "stream",
     "text": [
      "MovieWriter ffmpeg unavailable; using Pillow instead.\n"
     ]
    },
    {
     "name": "stdout",
     "output_type": "stream",
     "text": [
      "saving to: track_tmp\\track_565.gif...\n",
      "[Viz] skipping the current trajectory track_id:  573\n"
     ]
    },
    {
     "name": "stderr",
     "output_type": "stream",
     "text": [
      "MovieWriter ffmpeg unavailable; using Pillow instead.\n"
     ]
    },
    {
     "name": "stdout",
     "output_type": "stream",
     "text": [
      "saving to: track_tmp\\track_570.gif...\n",
      "[Viz] skipping the current trajectory track_id:  569\n",
      "[Viz] skipping the current trajectory track_id:  576\n",
      "[Viz] skipping the current trajectory track_id:  581\n"
     ]
    },
    {
     "name": "stderr",
     "output_type": "stream",
     "text": [
      "MovieWriter ffmpeg unavailable; using Pillow instead.\n"
     ]
    },
    {
     "name": "stdout",
     "output_type": "stream",
     "text": [
      "saving to: track_tmp\\track_579.gif...\n",
      "[Viz] skipping the current trajectory track_id:  578\n",
      "[Viz] skipping the current trajectory track_id:  580\n",
      "[Viz] skipping the current trajectory track_id:  588\n",
      "[Viz] skipping the current trajectory track_id:  589\n",
      "[Viz] skipping the current trajectory track_id:  592\n"
     ]
    },
    {
     "name": "stderr",
     "output_type": "stream",
     "text": [
      "MovieWriter ffmpeg unavailable; using Pillow instead.\n"
     ]
    },
    {
     "name": "stdout",
     "output_type": "stream",
     "text": [
      "saving to: track_tmp\\track_595.gif...\n",
      "[Viz] skipping the current trajectory track_id:  597\n",
      "[Viz] skipping the current trajectory track_id:  599\n",
      "[Viz] skipping the current trajectory track_id:  603\n",
      "[Viz] skipping the current trajectory track_id:  601\n"
     ]
    },
    {
     "name": "stderr",
     "output_type": "stream",
     "text": [
      "MovieWriter ffmpeg unavailable; using Pillow instead.\n"
     ]
    },
    {
     "name": "stdout",
     "output_type": "stream",
     "text": [
      "saving to: track_tmp\\track_600.gif...\n",
      "[Viz] skipping the current trajectory track_id:  602\n",
      "[Viz] skipping the current trajectory track_id:  607\n",
      "[Viz] skipping the current trajectory track_id:  606\n",
      "[Viz] skipping the current trajectory track_id:  609\n",
      "[Viz] skipping the current trajectory track_id:  608\n",
      "[Viz] skipping the current trajectory track_id:  611\n",
      "[Viz] skipping the current trajectory track_id:  618\n"
     ]
    },
    {
     "name": "stderr",
     "output_type": "stream",
     "text": [
      "MovieWriter ffmpeg unavailable; using Pillow instead.\n"
     ]
    },
    {
     "name": "stdout",
     "output_type": "stream",
     "text": [
      "saving to: track_tmp\\track_619.gif...\n",
      "[Viz] skipping the current trajectory track_id:  620\n",
      "[Viz] skipping the current trajectory track_id:  622\n",
      "[Viz] skipping the current trajectory track_id:  626\n",
      "[Viz] skipping the current trajectory track_id:  629\n",
      "[Viz] skipping the current trajectory track_id:  628\n",
      "[Viz] skipping the current trajectory track_id:  634\n",
      "[Viz] skipping the current trajectory track_id:  639\n",
      "[Viz] skipping the current trajectory track_id:  638\n",
      "[Viz] skipping the current trajectory track_id:  641\n"
     ]
    },
    {
     "name": "stderr",
     "output_type": "stream",
     "text": [
      "MovieWriter ffmpeg unavailable; using Pillow instead.\n"
     ]
    },
    {
     "name": "stdout",
     "output_type": "stream",
     "text": [
      "saving to: track_tmp\\track_640.gif...\n",
      "[Viz] skipping the current trajectory track_id:  645\n",
      "[Viz] skipping the current trajectory track_id:  643\n",
      "[Viz] skipping the current trajectory track_id:  647\n",
      "[Viz] skipping the current trajectory track_id:  652\n",
      "[Viz] skipping the current trajectory track_id:  654\n",
      "[Viz] skipping the current trajectory track_id:  657\n",
      "[Viz] skipping the current trajectory track_id:  656\n",
      "[Viz] skipping the current trajectory track_id:  661\n",
      "[Viz] skipping the current trajectory track_id:  660\n",
      "[Viz] skipping the current trajectory track_id:  666\n",
      "[Viz] skipping the current trajectory track_id:  669\n",
      "[Viz] skipping the current trajectory track_id:  668\n",
      "[Viz] skipping the current trajectory track_id:  664\n",
      "[Viz] skipping the current trajectory track_id:  672\n"
     ]
    },
    {
     "name": "stderr",
     "output_type": "stream",
     "text": [
      "MovieWriter ffmpeg unavailable; using Pillow instead.\n"
     ]
    },
    {
     "name": "stdout",
     "output_type": "stream",
     "text": [
      "saving to: track_tmp\\track_675.gif...\n",
      "[Viz] skipping the current trajectory track_id:  681\n",
      "[Viz] skipping the current trajectory track_id:  680\n",
      "[Viz] skipping the current trajectory track_id:  685\n"
     ]
    },
    {
     "name": "stderr",
     "output_type": "stream",
     "text": [
      "MovieWriter ffmpeg unavailable; using Pillow instead.\n"
     ]
    },
    {
     "name": "stdout",
     "output_type": "stream",
     "text": [
      "saving to: track_tmp\\track_684.gif...\n"
     ]
    },
    {
     "name": "stderr",
     "output_type": "stream",
     "text": [
      "MovieWriter ffmpeg unavailable; using Pillow instead.\n"
     ]
    },
    {
     "name": "stdout",
     "output_type": "stream",
     "text": [
      "saving to: track_tmp\\track_682.gif...\n"
     ]
    },
    {
     "name": "stderr",
     "output_type": "stream",
     "text": [
      "MovieWriter ffmpeg unavailable; using Pillow instead.\n"
     ]
    },
    {
     "name": "stdout",
     "output_type": "stream",
     "text": [
      "saving to: track_tmp\\track_688.gif...\n",
      "[Viz] skipping the current trajectory track_id:  686\n",
      "[Viz] skipping the current trajectory track_id:  700\n"
     ]
    },
    {
     "name": "stderr",
     "output_type": "stream",
     "text": [
      "MovieWriter ffmpeg unavailable; using Pillow instead.\n"
     ]
    },
    {
     "name": "stdout",
     "output_type": "stream",
     "text": [
      "saving to: track_tmp\\track_697.gif...\n",
      "[Viz] skipping the current trajectory track_id:  691\n",
      "[Viz] skipping the current trajectory track_id:  701\n",
      "[Viz] skipping the current trajectory track_id:  698\n",
      "[Viz] skipping the current trajectory track_id:  702\n",
      "saving to: track_tmp\\track_705.gif...\n"
     ]
    },
    {
     "name": "stderr",
     "output_type": "stream",
     "text": [
      "MovieWriter ffmpeg unavailable; using Pillow instead.\n"
     ]
    },
    {
     "name": "stdout",
     "output_type": "stream",
     "text": [
      "[Viz] skipping the current trajectory track_id:  703\n",
      "[Viz] skipping the current trajectory track_id:  706\n"
     ]
    },
    {
     "name": "stderr",
     "output_type": "stream",
     "text": [
      "MovieWriter ffmpeg unavailable; using Pillow instead.\n"
     ]
    },
    {
     "name": "stdout",
     "output_type": "stream",
     "text": [
      "saving to: track_tmp\\track_710.gif...\n"
     ]
    },
    {
     "name": "stderr",
     "output_type": "stream",
     "text": [
      "d:\\xing-vimentin-dic-pipeline\\src\\livecell_dev\\notebooks\\livecell_tracker\\core\\single_cell.py:98: UserWarning: Attempting to set identical bottom == top == -0.5 results in singular transformations; automatically expanding.\n",
      "  ax.imshow(img_crop)\n"
     ]
    },
    {
     "name": "stdout",
     "output_type": "stream",
     "text": [
      "[Viz] skipping the current trajectory track_id:  709\n"
     ]
    },
    {
     "name": "stderr",
     "output_type": "stream",
     "text": [
      "MovieWriter ffmpeg unavailable; using Pillow instead.\n"
     ]
    },
    {
     "name": "stdout",
     "output_type": "stream",
     "text": [
      "saving to: track_tmp\\track_716.gif...\n"
     ]
    },
    {
     "name": "stderr",
     "output_type": "stream",
     "text": [
      "d:\\xing-vimentin-dic-pipeline\\src\\livecell_dev\\notebooks\\livecell_tracker\\core\\single_cell.py:98: UserWarning: Attempting to set identical bottom == top == -0.5 results in singular transformations; automatically expanding.\n",
      "  ax.imshow(img_crop)\n"
     ]
    },
    {
     "name": "stdout",
     "output_type": "stream",
     "text": [
      "[Viz] skipping the current trajectory track_id:  721\n",
      "[Viz] skipping the current trajectory track_id:  720\n",
      "[Viz] skipping the current trajectory track_id:  717\n"
     ]
    },
    {
     "name": "stderr",
     "output_type": "stream",
     "text": [
      "MovieWriter ffmpeg unavailable; using Pillow instead.\n"
     ]
    },
    {
     "name": "stdout",
     "output_type": "stream",
     "text": [
      "saving to: track_tmp\\track_715.gif...\n",
      "[Viz] skipping the current trajectory track_id:  724\n"
     ]
    },
    {
     "name": "stderr",
     "output_type": "stream",
     "text": [
      "MovieWriter ffmpeg unavailable; using Pillow instead.\n"
     ]
    },
    {
     "name": "stdout",
     "output_type": "stream",
     "text": [
      "saving to: track_tmp\\track_726.gif...\n",
      "[Viz] skipping the current trajectory track_id:  729\n"
     ]
    },
    {
     "name": "stderr",
     "output_type": "stream",
     "text": [
      "MovieWriter ffmpeg unavailable; using Pillow instead.\n"
     ]
    },
    {
     "name": "stdout",
     "output_type": "stream",
     "text": [
      "saving to: track_tmp\\track_733.gif...\n",
      "[Viz] skipping the current trajectory track_id:  732\n",
      "[Viz] skipping the current trajectory track_id:  736\n",
      "saving to: track_tmp\\track_741.gif...\n"
     ]
    },
    {
     "name": "stderr",
     "output_type": "stream",
     "text": [
      "MovieWriter ffmpeg unavailable; using Pillow instead.\n"
     ]
    },
    {
     "name": "stdout",
     "output_type": "stream",
     "text": [
      "[Viz] skipping the current trajectory track_id:  739\n",
      "[Viz] skipping the current trajectory track_id:  737\n",
      "[Viz] skipping the current trajectory track_id:  745\n",
      "[Viz] skipping the current trajectory track_id:  738\n",
      "[Viz] skipping the current trajectory track_id:  749\n",
      "[Viz] skipping the current trajectory track_id:  742\n",
      "[Viz] skipping the current trajectory track_id:  750\n",
      "[Viz] skipping the current trajectory track_id:  748\n",
      "[Viz] skipping the current trajectory track_id:  753\n",
      "[Viz] skipping the current trajectory track_id:  757\n"
     ]
    },
    {
     "name": "stderr",
     "output_type": "stream",
     "text": [
      "MovieWriter ffmpeg unavailable; using Pillow instead.\n"
     ]
    },
    {
     "name": "stdout",
     "output_type": "stream",
     "text": [
      "saving to: track_tmp\\track_756.gif...\n"
     ]
    },
    {
     "name": "stderr",
     "output_type": "stream",
     "text": [
      "MovieWriter ffmpeg unavailable; using Pillow instead.\n"
     ]
    },
    {
     "name": "stdout",
     "output_type": "stream",
     "text": [
      "saving to: track_tmp\\track_755.gif...\n",
      "[Viz] skipping the current trajectory track_id:  760\n",
      "[Viz] skipping the current trajectory track_id:  762\n",
      "[Viz] skipping the current trajectory track_id:  767\n",
      "[Viz] skipping the current trajectory track_id:  766\n",
      "[Viz] skipping the current trajectory track_id:  775\n",
      "[Viz] skipping the current trajectory track_id:  779\n",
      "[Viz] skipping the current trajectory track_id:  777\n",
      "[Viz] skipping the current trajectory track_id:  781\n",
      "[Viz] skipping the current trajectory track_id:  780\n",
      "[Viz] skipping the current trajectory track_id:  782\n",
      "[Viz] skipping the current trajectory track_id:  784\n"
     ]
    }
   ],
   "source": [
    "%matplotlib widget\n",
    "from typing import List\n",
    "from livecell_tracker.track.movie import generate_single_trajectory_movie\n",
    "output_path = Path(\"./track_tmp\")\n",
    "output_path.mkdir(exist_ok=True)\n",
    "for traj_id, traj in id_to_sc_trajs.items():\n",
    "    generate_single_trajectory_movie(\n",
    "        traj, raw_imgs, save_path=output_path / \"track_{}.gif\".format(traj_id)\n",
    "    )\n",
    "    plt.close(\"all\")\n"
   ]
  }
 ],
 "metadata": {
  "kernelspec": {
   "display_name": "Python 3.8.13 ('cv-general')",
   "language": "python",
   "name": "python3"
  },
  "language_info": {
   "codemirror_mode": {
    "name": "ipython",
    "version": 3
   },
   "file_extension": ".py",
   "mimetype": "text/x-python",
   "name": "python",
   "nbconvert_exporter": "python",
   "pygments_lexer": "ipython3",
   "version": "3.8.13"
  },
  "orig_nbformat": 4,
  "vscode": {
   "interpreter": {
    "hash": "b5dfbec2055422cee39dc040b31dfffa8b21a342109231ab17bc6ff9949c7133"
   }
  }
 },
 "nbformat": 4,
 "nbformat_minor": 2
}
