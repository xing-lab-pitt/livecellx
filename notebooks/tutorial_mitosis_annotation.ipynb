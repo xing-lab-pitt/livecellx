{
 "cells": [
  {
   "cell_type": "code",
   "execution_count": 1,
   "metadata": {},
   "outputs": [],
   "source": [
    "import numpy as np\n",
    "import matplotlib.pyplot as plt\n",
    "from cellpose import models\n",
    "from cellpose.io import imread\n",
    "import glob\n",
    "from pathlib import Path\n",
    "from PIL import Image, ImageSequence\n",
    "from tqdm import tqdm\n",
    "import os\n",
    "import os.path\n",
    "# from livecell_tracker import segment\n",
    "from livecell_tracker import core\n",
    "from livecell_tracker.core import datasets\n",
    "from livecell_tracker.core.datasets import LiveCellImageDataset, SingleImageDataset\n",
    "from skimage import measure\n",
    "from livecell_tracker.core import SingleCellTrajectory, SingleCellStatic\n",
    "import numpy as np\n",
    "import os, json, cv2, random\n",
    "import cv2\n"
   ]
  },
  {
   "cell_type": "code",
   "execution_count": 2,
   "metadata": {},
   "outputs": [],
   "source": [
    "from livecell_tracker.sample_data import tutorial_three_image_sys\n",
    "from pathlib import Path\n",
    "from livecell_tracker.core.datasets import LiveCellImageDataset\n",
    "import glob\n"
   ]
  },
  {
   "cell_type": "code",
   "execution_count": 3,
   "metadata": {},
   "outputs": [
    {
     "data": {
      "text/plain": [
       "'0.4.17'"
      ]
     },
     "execution_count": 3,
     "metadata": {},
     "output_type": "execute_result"
    }
   ],
   "source": [
    "import napari\n",
    "napari.__version__"
   ]
  },
  {
   "attachments": {},
   "cell_type": "markdown",
   "metadata": {},
   "source": [
    "load and save data to a json file containing single cell objects"
   ]
  },
  {
   "cell_type": "markdown",
   "metadata": {},
   "source": [
    "EBSS data, 24hours"
   ]
  },
  {
   "cell_type": "code",
   "execution_count": 4,
   "metadata": {},
   "outputs": [],
   "source": [
    "\n",
    "# dataset_dir_path = Path(\n",
    "#     \"../datasets/EBSS_Starvation/tif_STAV-A549_VIM_24hours_NoTreat_NA_YL_Ti2e_2022-12-21/XY16/\"\n",
    "# )\n",
    "\n",
    "# mask_dataset_path = Path(\"../datasets/EBSS_Starvation/tif_STAV-A549_VIM_24hours_NoTreat_NA_YL_Ti2e_2022-12-21/out/XY16/seg\")\n",
    "\n",
    "# mask_dataset = LiveCellImageDataset(mask_dataset_path, ext=\"png\")\n",
    "# time2url = sorted(glob.glob(str((Path(dataset_dir_path) / Path(\"*_DIC.tif\")))))\n",
    "# time2url = {i: path for i, path in enumerate(time2url)}\n",
    "# dic_dataset = LiveCellImageDataset(time2url=time2url, ext=\"tif\")\n",
    "\n",
    "# from livecell_tracker.segment.utils import prep_scs_from_mask_dataset\n",
    "# single_cells = prep_scs_from_mask_dataset(mask_dataset, dic_dataset)\n",
    "# from livecell_tracker.core import SingleCellStatic\n",
    "# SingleCellStatic.write_single_cells_json(single_cells, \n",
    "#                                          path=\"./datasets/test_scs_EBSS_starvation/single_cells.json\",\n",
    "#                                          dataset_dir=\"./datasets/test_scs_EBSS_starvation/datasets\")\n"
   ]
  },
  {
   "cell_type": "markdown",
   "metadata": {},
   "source": [
    "EBSS data, 5 days"
   ]
  },
  {
   "cell_type": "code",
   "execution_count": 5,
   "metadata": {},
   "outputs": [],
   "source": [
    "\n",
    "# dataset_dir_path = Path(\n",
    "#     \"../datasets/EBSS_Starvation/tifs_STAV-A549_VIM_5days_EBSS_NA_YL_Ti2e_2022-12-21001/XY3/\"\n",
    "# )\n",
    "\n",
    "# mask_dataset_path = Path(\"../datasets/EBSS_Starvation/tifs_STAV-A549_VIM_5days_EBSS_NA_YL_Ti2e_2022-12-21001/out/XY3/seg\")\n",
    "\n",
    "# mask_dataset = LiveCellImageDataset(mask_dataset_path, ext=\"png\")\n",
    "# time2url = sorted(glob.glob(str((Path(dataset_dir_path) / Path(\"*_DIC.tif\")))))\n",
    "# time2url = {i: path for i, path in enumerate(time2url)}\n",
    "# dic_dataset = LiveCellImageDataset(time2url=time2url, ext=\"tif\")\n",
    "\n",
    "# from livecell_tracker.segment.utils import prep_scs_from_mask_dataset\n",
    "# single_cells = prep_scs_from_mask_dataset(mask_dataset, dic_dataset)\n",
    "# from livecell_tracker.core import SingleCellStatic\n",
    "# SingleCellStatic.write_single_cells_json(single_cells, \n",
    "#                                          path=\"./datasets/test_scs_EBSS_starvation/single_cells.json\",\n",
    "#                                          dataset_dir=\"./datasets/test_scs_EBSS_starvation/datasets\")\n"
   ]
  },
  {
   "cell_type": "code",
   "execution_count": 6,
   "metadata": {},
   "outputs": [],
   "source": [
    "\n",
    "\n",
    "# dic_dataset, mask_dataset = tutorial_three_image_sys()\n"
   ]
  },
  {
   "cell_type": "code",
   "execution_count": 7,
   "metadata": {},
   "outputs": [],
   "source": [
    "# from skimage.measure import regionprops\n",
    "# from livecell_tracker.segment.utils import prep_scs_from_mask_dataset\n",
    "# single_cells = prep_scs_from_mask_dataset(mask_dataset, dic_dataset)\n",
    "# SingleCellStatic.write_single_cells_json(single_cells, \n",
    "#                                          path=\"./datasets/test_data_STAV-A549/tutorial_three_img_single_cells.json\",\n",
    "#                                          dataset_dir=\"./datasets/test_data_STAV-A549/datasets\")"
   ]
  },
  {
   "cell_type": "code",
   "execution_count": 8,
   "metadata": {},
   "outputs": [],
   "source": [
    "# scs_path = \"./datasets/test_data_STAV-A549/tutorial_three_img_single_cells.json\"\n",
    "# scs_path = \"./datasets/test_scs_EBSS_starvation/single_cells.json\"\n",
    "# scs_path = \"./datasets/test_scs_EBSS_starvation/XY16/tmp_corrected_scs.json\"\n",
    "scs_path = \"./datasets/test_scs_EBSS_starvation/XY1/single_cells.json\"\n",
    "single_cells = SingleCellStatic.load_single_cells_json(path=scs_path)"
   ]
  },
  {
   "cell_type": "code",
   "execution_count": 9,
   "metadata": {},
   "outputs": [],
   "source": [
    "dic_dataset = single_cells[0].img_dataset"
   ]
  },
  {
   "cell_type": "code",
   "execution_count": 10,
   "metadata": {},
   "outputs": [
    {
     "name": "stderr",
     "output_type": "stream",
     "text": [
      "Lightning automatically upgraded your loaded checkpoint from v1.8.6 to v1.9.1. To apply the upgrade to your files permanently, run `python -m pytorch_lightning.utilities.upgrade_checkpoint --file d:\\LiveCellTracker-dev\\notebooks\\notebook_results\\csn_models\\model_v11_epoch=3282-test_loss=2.3688.ckpt`\n",
      "c:\\Users\\dummy\\anaconda3\\envs\\livecell-work\\lib\\site-packages\\torchvision\\models\\_utils.py:208: UserWarning: The parameter 'pretrained' is deprecated since 0.13 and may be removed in the future, please use 'weights' instead.\n",
      "  warnings.warn(\n",
      "c:\\Users\\dummy\\anaconda3\\envs\\livecell-work\\lib\\site-packages\\torchvision\\models\\_utils.py:223: UserWarning: Arguments other than a weight enum or `None` for 'weights' are deprecated since 0.13 and may be removed in the future. The current behavior is equivalent to passing `weights=DeepLabV3_ResNet50_Weights.COCO_WITH_VOC_LABELS_V1`. You can also use `weights=DeepLabV3_ResNet50_Weights.DEFAULT` to get the most up-to-date weights.\n",
      "  warnings.warn(msg)\n"
     ]
    },
    {
     "name": "stdout",
     "output_type": "stream",
     "text": [
      ">>> Using MSE loss\n",
      ">>> Based on loss type, training output threshold:  1\n"
     ]
    }
   ],
   "source": [
    "from livecell_tracker.core.sc_seg_operator import ScSegOperator, create_sc_seg_napari_ui\n",
    "# replace the path below with your downdloaded CSN checkpoint path\n",
    "ckpt_path = r\"./notebook_results/csn_models/model_v11_epoch=3282-test_loss=2.3688.ckpt\"\n",
    "ScSegOperator.load_default_csn_model(path=ckpt_path, cuda=True);"
   ]
  },
  {
   "cell_type": "code",
   "execution_count": 11,
   "metadata": {},
   "outputs": [],
   "source": [
    "def enable_gui_qt():\n",
    "    from IPython import get_ipython\n",
    "\n",
    "    ipython = get_ipython()\n",
    "    ipython.run_line_magic('gui', 'qt')\n",
    "\n",
    "\n",
    "enable_gui_qt()"
   ]
  },
  {
   "cell_type": "code",
   "execution_count": 12,
   "metadata": {},
   "outputs": [],
   "source": [
    "from livecell_tracker.core.sct_operator import create_scs_edit_viewer\n",
    "# sct_operator = create_scs_edit_viewer(single_cells, img_dataset = dic_dataset)"
   ]
  },
  {
   "cell_type": "code",
   "execution_count": 13,
   "metadata": {},
   "outputs": [],
   "source": [
    "from napari._qt.qt_event_loop import run"
   ]
  },
  {
   "cell_type": "code",
   "execution_count": 14,
   "metadata": {},
   "outputs": [
    {
     "name": "stderr",
     "output_type": "stream",
     "text": [
      "WARNING: QWindowsWindow::setGeometry: Unable to set geometry 1829x1708+343+206 (frame: 1851x1764+332+161) on QWidgetWindow/\"_QtMainWindowClassWindow\" on \"\\\\.\\DISPLAY1\". Resulting geometry: 1829x1570+343+206 (frame: 1851x1626+332+161) margins: 11, 45, 11, 11 minimum size: 374x597 MINMAXINFO maxSize=0,0 maxpos=0,0 mintrack=396,653 maxtrack=0,0)\n"
     ]
    }
   ],
   "source": [
    "single_cells = single_cells\n",
    "\n",
    "\n",
    "# sct_operator = create_scs_edit_viewer(single_cells, img_dataset = dic_dataset, viewer = viewer, time_span=(0, span_interval))\n",
    "\n",
    "def annotate_by_interval(single_cells, span_interval = 10, viewer = None, clear_prev_batch=True):\n",
    "    sct_operator = create_scs_edit_viewer(single_cells, img_dataset = dic_dataset, viewer = viewer, time_span=(0, span_interval))\n",
    "    viewer = sct_operator.viewer\n",
    "    tmp_points_layer_key = '_lcx_sct_cur_idx'\n",
    "    if \"cur_idx\" not in viewer.layers:\n",
    "        points = np.zeros((1, 3))\n",
    "        points_layer = viewer.add_points(points, name=tmp_points_layer_key)\n",
    "        points_layer.metadata['cur_idx'] = 0\n",
    "    else:\n",
    "        points_layer = viewer.layers['cur_idx']\n",
    "    viewer.dims.set_point(0, points_layer.metadata['cur_idx'])\n",
    "    points_layer.metadata[\"cur_sct_operator\"] = sct_operator\n",
    "\n",
    "    @viewer.bind_key('n')\n",
    "    def next_span(viewer):\n",
    "        try:\n",
    "            points_layer = viewer.layers[tmp_points_layer_key]\n",
    "            sct_operator = points_layer.metadata[\"cur_sct_operator\"]\n",
    "            if not (sct_operator is None):\n",
    "                sct_operator_scs = sct_operator.get_all_scs()\n",
    "                all_sc_set = set(single_cells)\n",
    "                for sc in sct_operator_scs:\n",
    "                    if sc not in all_sc_set:\n",
    "                        print(\"<add new sc>:\", sc)\n",
    "                        single_cells.append(sc)\n",
    "\n",
    "            cur_idx = points_layer.metadata['cur_idx']\n",
    "            cur_idx += span_interval\n",
    "            cur_idx = min(cur_idx, len(single_cells)-span_interval)\n",
    "            points_layer.metadata['cur_idx'] = cur_idx\n",
    "\n",
    "            if clear_prev_batch:\n",
    "                sct_operator.close()\n",
    "            sct_operator = create_scs_edit_viewer(single_cells, img_dataset = dic_dataset, viewer = viewer, time_span=(cur_idx, cur_idx+span_interval))\n",
    "            points_layer.metadata[\"cur_sct_operator\"] = sct_operator\n",
    "            viewer.dims.set_point(0, cur_idx)\n",
    "        except Exception as e:\n",
    "            print(\"Error:\", e)\n",
    "            print(\"Failed to load next span. Please try again.\")\n",
    "\n",
    "\n",
    "annotate_by_interval(single_cells, span_interval = 10, viewer = None)\n",
    "# for i in range(0, len(single_cells), span_interval):\n",
    "#     sct_operator = create_scs_edit_viewer(single_cells, img_dataset = dic_dataset, viewer = viewer, time_span=(i, i+span_interval))\n",
    "#     # set slice to the first frame of the span\n",
    "#     viewer.dims.set_point(0, i)\n",
    "#     # viewer.show(block=True)\n",
    "#     input(\"Press Enter to continue...\")\n",
    "\n",
    "\n"
   ]
  },
  {
   "cell_type": "code",
   "execution_count": 15,
   "metadata": {},
   "outputs": [
    {
     "ename": "SyntaxError",
     "evalue": "invalid syntax (296041759.py, line 1)",
     "output_type": "error",
     "traceback": [
      "\u001b[1;36m  Cell \u001b[1;32mIn[15], line 1\u001b[1;36m\u001b[0m\n\u001b[1;33m    erfqwe. qwef qwef ef\u001b[0m\n\u001b[1;37m                 ^\u001b[0m\n\u001b[1;31mSyntaxError\u001b[0m\u001b[1;31m:\u001b[0m invalid syntax\n"
     ]
    },
    {
     "name": "stdout",
     "output_type": "stream",
     "text": [
      "current shape layer shape properties:  Event\n",
      "setting face color of selected shape...\n",
      "<selection complete>\n",
      "current shape layer shape properties:  Event\n",
      "shape already selected, please select another shape\n",
      "edit sc fired!\n",
      "|-----? More than one shape is selected. The first selected shape is used for editing.\n",
      ">>> create sc layer done\n"
     ]
    }
   ],
   "source": [
    "erfqwe. qwef qwef ef "
   ]
  },
  {
   "cell_type": "code",
   "execution_count": null,
   "metadata": {},
   "outputs": [],
   "source": [
    "sct_operator.remove_empty_contour_sct()"
   ]
  },
  {
   "cell_type": "code",
   "execution_count": null,
   "metadata": {},
   "outputs": [],
   "source": [
    "len(sct_operator.annotate_click_samples[\"mitosis\"])"
   ]
  },
  {
   "cell_type": "code",
   "execution_count": null,
   "metadata": {},
   "outputs": [],
   "source": [
    "# sct_operator.shape_layer.selected_data = [0]\n",
    "# sc_operator = sct_operator.edit_selected_sc()\n",
    "# sct_operator.shape_layer.selected_data = [0]\n",
    "# sc_operator = sct_operator.edit_selected_sc()"
   ]
  },
  {
   "cell_type": "code",
   "execution_count": null,
   "metadata": {},
   "outputs": [],
   "source": [
    "# sc_operator.csn_correct_seg_callback()\n",
    "# sc_operator.save_seg_callback()\n",
    "# sc_operator.filter_cells_by_size_callback(min_size=100, max_size=1000)"
   ]
  },
  {
   "cell_type": "code",
   "execution_count": null,
   "metadata": {},
   "outputs": [],
   "source": [
    "# len(sc_operator.shape_layer.selected_data), len(sc_operator.shape_layer.data)"
   ]
  },
  {
   "cell_type": "code",
   "execution_count": null,
   "metadata": {},
   "outputs": [],
   "source": [
    "# sc_operator.resample_contours_callback(40)\n",
    "# sc_operator.restore_sc_contour_callback()\n",
    "# sct_operator.clear_sc_opeartors()\n",
    "# sct_operator.add_new_sc()"
   ]
  },
  {
   "cell_type": "code",
   "execution_count": null,
   "metadata": {},
   "outputs": [],
   "source": [
    "sct_operator.sc_operators = []"
   ]
  },
  {
   "cell_type": "code",
   "execution_count": null,
   "metadata": {},
   "outputs": [],
   "source": [
    "all_scs = sct_operator.get_all_scs()\n",
    "len(all_scs)"
   ]
  },
  {
   "cell_type": "code",
   "execution_count": null,
   "metadata": {},
   "outputs": [],
   "source": [
    "sct_operator.clear_sc_opeartors()"
   ]
  },
  {
   "cell_type": "code",
   "execution_count": null,
   "metadata": {},
   "outputs": [],
   "source": [
    "sct_operator.edit_selected_sc()"
   ]
  },
  {
   "cell_type": "code",
   "execution_count": null,
   "metadata": {},
   "outputs": [],
   "source": [
    "sct_operator.clear_sc_opeartors()"
   ]
  },
  {
   "cell_type": "code",
   "execution_count": null,
   "metadata": {},
   "outputs": [],
   "source": [
    "# sct_operator.viewer.layers.remove(sct_operator.sc_operators[0].shape_layer)"
   ]
  },
  {
   "cell_type": "markdown",
   "metadata": {},
   "source": [
    "Update SctOperator's shape layer by an updated single cell"
   ]
  },
  {
   "cell_type": "code",
   "execution_count": null,
   "metadata": {},
   "outputs": [],
   "source": [
    "sct_operator.update_shape_layer_by_sc(single_cells[0])"
   ]
  },
  {
   "cell_type": "markdown",
   "metadata": {},
   "source": [
    "Get all the single cells from the sct operators"
   ]
  },
  {
   "cell_type": "code",
   "execution_count": null,
   "metadata": {},
   "outputs": [],
   "source": [
    "len(sct_operator.get_all_scs()), len(set(sct_operator.get_all_scs()))"
   ]
  },
  {
   "cell_type": "markdown",
   "metadata": {},
   "source": [
    "Save annotated single cells"
   ]
  },
  {
   "cell_type": "code",
   "execution_count": null,
   "metadata": {},
   "outputs": [],
   "source": [
    "# sct_operator.restore_shapes_data()"
   ]
  },
  {
   "cell_type": "code",
   "execution_count": null,
   "metadata": {},
   "outputs": [],
   "source": [
    "all_scs = sct_operator.get_all_scs()\n",
    "SingleCellStatic.write_single_cells_json(all_scs, path=\"./datasets/test_scs_EBSS_starvation/XY1/corrected_scs.json\", \\\n",
    "                                         dataset_dir=\"./datasets/test_scs_EBSS_starvation/XY1/datasets\")"
   ]
  },
  {
   "cell_type": "code",
   "execution_count": null,
   "metadata": {},
   "outputs": [],
   "source": [
    "sct_operator.select_info"
   ]
  },
  {
   "cell_type": "markdown",
   "metadata": {},
   "source": [
    "Programmatically delete a sample"
   ]
  },
  {
   "cell_type": "code",
   "execution_count": null,
   "metadata": {},
   "outputs": [],
   "source": [
    "sct_operator.annotate_click_samples[\"mitosis\"][-1]"
   ]
  },
  {
   "cell_type": "code",
   "execution_count": null,
   "metadata": {},
   "outputs": [],
   "source": [
    "# for sc in sct_operator.annotate_click_samples[\"mitosis\"][-1]:\n",
    "#     sc.meta = {}\n",
    "# sct_operator.annotate_click_samples[\"mitosis\"].pop(-1)"
   ]
  },
  {
   "cell_type": "code",
   "execution_count": null,
   "metadata": {},
   "outputs": [],
   "source": [
    "sct_operator.save_annotations(sample_out_dir=\"./datasets/test_scs_EBSS_starvation/XY1/annotations\", sample_dataset_dir=\"./datasets/test_scs_EBSS_starvation/XY1/datasets\")"
   ]
  },
  {
   "cell_type": "code",
   "execution_count": null,
   "metadata": {},
   "outputs": [],
   "source": [
    "scs = sct_operator.get_all_scs()"
   ]
  },
  {
   "cell_type": "code",
   "execution_count": null,
   "metadata": {},
   "outputs": [],
   "source": [
    "sct_operator.annotate_click_samples"
   ]
  },
  {
   "cell_type": "code",
   "execution_count": null,
   "metadata": {},
   "outputs": [],
   "source": [
    "len(sct_operator.annotate_click_samples[\"mitosis\"])"
   ]
  },
  {
   "cell_type": "markdown",
   "metadata": {},
   "source": [
    "track"
   ]
  },
  {
   "cell_type": "code",
   "execution_count": null,
   "metadata": {},
   "outputs": [],
   "source": [
    "from livecell_tracker.track.sort_tracker_utils import (\n",
    "    gen_SORT_detections_input_from_contours,\n",
    "    update_traj_collection_by_SORT_tracker_detection,\n",
    "    track_SORT_bbox_from_contours,\n",
    "    track_SORT_bbox_from_scs\n",
    ")\n",
    "\n",
    "all_scs = sct_operator.get_all_scs()\n",
    "\n",
    "all_scs = [sc for sc in all_scs if sc.timeframe != 1]\n",
    "sctc = track_SORT_bbox_from_scs(all_scs, raw_imgs=all_scs[0].img_dataset, min_hits=3, max_age=3)"
   ]
  },
  {
   "cell_type": "markdown",
   "metadata": {},
   "source": [
    "Show subset of a sctc filtered by time_span"
   ]
  },
  {
   "cell_type": "code",
   "execution_count": null,
   "metadata": {},
   "outputs": [],
   "source": [
    "from livecell_tracker.core.sct_operator import create_scts_operator_viewer, create_scs_edit_viewer\n",
    "\n",
    "scts_operator = create_scs_edit_viewer(single_cells, img_dataset = dic_dataset, time_span=(145, 155))\n",
    "\n",
    "# # If you would like to start from sctc, you can use the following code\n",
    "# scts_operator = create_scts_operator_viewer(sctc, img_dataset = dic_dataset, time_span=(1, 2))"
   ]
  },
  {
   "cell_type": "code",
   "execution_count": null,
   "metadata": {},
   "outputs": [],
   "source": [
    "# sctc.write_json(path=\"./EBSS_starvation_24h_xy16_annotation/single_cell_trajectory_collection.json\")"
   ]
  }
 ],
 "metadata": {
  "kernelspec": {
   "display_name": "livecell",
   "language": "python",
   "name": "python3"
  },
  "language_info": {
   "codemirror_mode": {
    "name": "ipython",
    "version": 3
   },
   "file_extension": ".py",
   "mimetype": "text/x-python",
   "name": "python",
   "nbconvert_exporter": "python",
   "pygments_lexer": "ipython3",
   "version": "3.9.16"
  },
  "orig_nbformat": 4,
  "vscode": {
   "interpreter": {
    "hash": "84cc49e2771a69a318d2523a1e3c84119201a94eb2fd0f5b7e00daf17c339568"
   }
  }
 },
 "nbformat": 4,
 "nbformat_minor": 2
}
