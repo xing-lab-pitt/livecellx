{
 "cells": [
  {
   "cell_type": "markdown",
   "metadata": {},
   "source": [
    "# LivecellX tutorial: annotation by clicking single cells in the Napari UI"
   ]
  },
  {
   "cell_type": "code",
   "execution_count": null,
   "metadata": {},
   "outputs": [],
   "source": [
    "import numpy as np\n",
    "import matplotlib.pyplot as plt\n",
    "from cellpose import models\n",
    "from cellpose.io import imread\n",
    "import glob\n",
    "from pathlib import Path\n",
    "from PIL import Image, ImageSequence\n",
    "from tqdm import tqdm\n",
    "import os\n",
    "import os.path\n",
    "# from livecell_tracker import segment\n",
    "from livecell_tracker import core\n",
    "from livecell_tracker.core import datasets\n",
    "from livecell_tracker.core.datasets import LiveCellImageDataset, SingleImageDataset\n",
    "from skimage import measure\n",
    "from livecell_tracker.core import SingleCellTrajectory, SingleCellStatic\n",
    "import numpy as np\n",
    "import os, json, cv2, random\n",
    "import cv2\n"
   ]
  },
  {
   "cell_type": "code",
   "execution_count": null,
   "metadata": {},
   "outputs": [],
   "source": [
    "from livecell_tracker.sample_data import tutorial_three_image_sys\n",
    "from pathlib import Path\n",
    "from livecell_tracker.core.datasets import LiveCellImageDataset\n",
    "import glob\n"
   ]
  },
  {
   "cell_type": "code",
   "execution_count": null,
   "metadata": {},
   "outputs": [],
   "source": [
    "import napari\n",
    "napari.__version__"
   ]
  },
  {
   "cell_type": "markdown",
   "metadata": {},
   "source": [
    "## Load data"
   ]
  },
  {
   "attachments": {},
   "cell_type": "markdown",
   "metadata": {},
   "source": [
    "load single cells, either from masks (`prep_scs_from_mask_dataset`) or our single cells json file\n",
    "\n",
    "Examples below: load from masks and save single cells to a json file containing single cell objects"
   ]
  },
  {
   "cell_type": "markdown",
   "metadata": {},
   "source": [
    "EBSS data, 24hours"
   ]
  },
  {
   "cell_type": "code",
   "execution_count": null,
   "metadata": {},
   "outputs": [],
   "source": [
    "\n",
    "# dataset_dir_path = Path(\n",
    "#     \"../datasets/EBSS_Starvation/tif_STAV-A549_VIM_24hours_NoTreat_NA_YL_Ti2e_2022-12-21/XY16/\"\n",
    "# )\n",
    "\n",
    "# mask_dataset_path = Path(\"../datasets/EBSS_Starvation/tif_STAV-A549_VIM_24hours_NoTreat_NA_YL_Ti2e_2022-12-21/out/XY16/seg\")\n",
    "\n",
    "# mask_dataset = LiveCellImageDataset(mask_dataset_path, ext=\"png\")\n",
    "# time2url = sorted(glob.glob(str((Path(dataset_dir_path) / Path(\"*_DIC.tif\")))))\n",
    "# time2url = {i: path for i, path in enumerate(time2url)}\n",
    "# dic_dataset = LiveCellImageDataset(time2url=time2url, ext=\"tif\")\n",
    "\n",
    "# from livecell_tracker.segment.utils import prep_scs_from_mask_dataset\n",
    "# single_cells = prep_scs_from_mask_dataset(mask_dataset, dic_dataset)\n",
    "# from livecell_tracker.core import SingleCellStatic\n",
    "# SingleCellStatic.write_single_cells_json(single_cells, \n",
    "#                                          path=\"./datasets/test_scs_EBSS_starvation/single_cells.json\",\n",
    "#                                          dataset_dir=\"./datasets/test_scs_EBSS_starvation/datasets\")\n"
   ]
  },
  {
   "cell_type": "markdown",
   "metadata": {},
   "source": [
    "EBSS data, 5 days"
   ]
  },
  {
   "cell_type": "code",
   "execution_count": null,
   "metadata": {},
   "outputs": [],
   "source": [
    "\n",
    "# dataset_dir_path = Path(\n",
    "#     \"../datasets/EBSS_Starvation/tifs_STAV-A549_VIM_5days_EBSS_NA_YL_Ti2e_2022-12-21001/XY3/\"\n",
    "# )\n",
    "\n",
    "# mask_dataset_path = Path(\"../datasets/EBSS_Starvation/tifs_STAV-A549_VIM_5days_EBSS_NA_YL_Ti2e_2022-12-21001/out/XY3/seg\")\n",
    "\n",
    "# mask_dataset = LiveCellImageDataset(mask_dataset_path, ext=\"png\")\n",
    "# time2url = sorted(glob.glob(str((Path(dataset_dir_path) / Path(\"*_DIC.tif\")))))\n",
    "# time2url = {i: path for i, path in enumerate(time2url)}\n",
    "# dic_dataset = LiveCellImageDataset(time2url=time2url, ext=\"tif\")\n",
    "\n",
    "# from livecell_tracker.segment.utils import prep_scs_from_mask_dataset\n",
    "# single_cells = prep_scs_from_mask_dataset(mask_dataset, dic_dataset)\n",
    "# from livecell_tracker.core import SingleCellStatic\n",
    "# SingleCellStatic.write_single_cells_json(single_cells, \n",
    "#                                          path=\"./datasets/test_scs_EBSS_starvation/single_cells.json\",\n",
    "#                                          dataset_dir=\"./datasets/test_scs_EBSS_starvation/datasets\")\n"
   ]
  },
  {
   "cell_type": "code",
   "execution_count": null,
   "metadata": {},
   "outputs": [],
   "source": [
    "\n",
    "\n",
    "# dic_dataset, mask_dataset = tutorial_three_image_sys()\n"
   ]
  },
  {
   "cell_type": "code",
   "execution_count": null,
   "metadata": {},
   "outputs": [],
   "source": [
    "# from skimage.measure import regionprops\n",
    "# from livecell_tracker.segment.utils import prep_scs_from_mask_dataset\n",
    "# single_cells = prep_scs_from_mask_dataset(mask_dataset, dic_dataset)\n",
    "# SingleCellStatic.write_single_cells_json(single_cells, \n",
    "#                                          path=\"./datasets/test_data_STAV-A549/tutorial_three_img_single_cells.json\",\n",
    "#                                          dataset_dir=\"./datasets/test_data_STAV-A549/datasets\")"
   ]
  },
  {
   "cell_type": "code",
   "execution_count": null,
   "metadata": {},
   "outputs": [],
   "source": [
    "# scs_path = \"./datasets/test_data_STAV-A549/tutorial_three_img_single_cells.json\"\n",
    "# scs_path = \"./datasets/test_scs_EBSS_starvation/single_cells.json\"\n",
    "# scs_path = \"./datasets/test_scs_EBSS_starvation/XY16/tmp_corrected_scs.json\"\n",
    "# scs_path = \"./datasets/test_scs_EBSS_starvation/XY1/single_cells.json\"\n",
    "scs_path = \"./datasets/test_scs_EBSS_starvation/XY1/corrected_scs.json\"\n",
    "single_cells = SingleCellStatic.load_single_cells_json(path=scs_path)"
   ]
  },
  {
   "cell_type": "code",
   "execution_count": null,
   "metadata": {},
   "outputs": [],
   "source": [
    "dic_dataset = single_cells[0].img_dataset"
   ]
  },
  {
   "cell_type": "markdown",
   "metadata": {},
   "source": [
    "**Skip if you do not plan to apply CSN**   \n",
    "load CSN model if you would like to use it to correct segmentation"
   ]
  },
  {
   "cell_type": "code",
   "execution_count": null,
   "metadata": {},
   "outputs": [],
   "source": [
    "from livecell_tracker.core.sc_seg_operator import ScSegOperator, create_sc_seg_napari_ui\n",
    "# replace the path below with your downdloaded CSN checkpoint path\n",
    "ckpt_path = r\"./notebook_results/csn_models/model_v11_epoch=3282-test_loss=2.3688.ckpt\"\n",
    "ScSegOperator.load_default_csn_model(path=ckpt_path, cuda=True);"
   ]
  },
  {
   "cell_type": "markdown",
   "metadata": {},
   "source": [
    "## Annotating by clicking single cells in Napari"
   ]
  },
  {
   "cell_type": "markdown",
   "metadata": {},
   "source": [
    "`create_scs_edit_viewer_by_interval` allows you to load the shapes from a window, (t, t+interval). You may press `n` to move forwrd the window forward, `b` to move back and `m` to load from your current step slice."
   ]
  },
  {
   "cell_type": "code",
   "execution_count": null,
   "metadata": {},
   "outputs": [],
   "source": [
    "from livecell_tracker.core.sct_operator import create_scs_edit_viewer, SctOperator, create_scs_edit_viewer_by_interval, _get_viewer_sct_operator\n",
    "from livecell_tracker.core.single_cell import create_sctc_from_scs, filter_sctc_by_time_span\n"
   ]
  },
  {
   "cell_type": "code",
   "execution_count": null,
   "metadata": {},
   "outputs": [],
   "source": [
    "# sct_operator = create_scs_edit_viewer(single_cells, img_dataset = dic_dataset)\n",
    "viewer = create_scs_edit_viewer_by_interval(single_cells, img_dataset=dic_dataset, span_interval = 10, viewer = None)\n",
    "# for i in range(0, len(single_cells), span_interval):\n",
    "#     sct_operator = create_scs_edit_viewer(single_cells, img_dataset = dic_dataset, viewer = viewer, time_span=(i, i+span_interval))\n",
    "#     # set slice to the first frame of the span\n",
    "#     viewer.dims.set_point(0, i)\n",
    "#     # viewer.show(block=True)\n",
    "#     input(\"Press Enter to continue...\")"
   ]
  },
  {
   "cell_type": "code",
   "execution_count": null,
   "metadata": {},
   "outputs": [],
   "source": [
    "Run all stop here!"
   ]
  },
  {
   "cell_type": "markdown",
   "metadata": {},
   "source": [
    "Manually test if your annotation by clicking works and saved to the underlying single cell objects."
   ]
  },
  {
   "cell_type": "code",
   "execution_count": null,
   "metadata": {},
   "outputs": [],
   "source": [
    "# sct_operator = _get_viewer_sct_operator(viewer)\n",
    "# test_id = 69\n",
    "# sct_operator.traj_collection.get_trajectory(test_id).get_all_scs()[0].meta"
   ]
  },
  {
   "cell_type": "code",
   "execution_count": null,
   "metadata": {},
   "outputs": [],
   "source": [
    "sct_operator = _get_viewer_sct_operator(viewer)"
   ]
  },
  {
   "cell_type": "code",
   "execution_count": null,
   "metadata": {},
   "outputs": [],
   "source": [
    "sct_operator.annotate_click_samples"
   ]
  },
  {
   "cell_type": "code",
   "execution_count": null,
   "metadata": {},
   "outputs": [],
   "source": [
    "print(len(sct_operator.original_face_colors))\n",
    "for key in sct_operator.shape_layer.properties.keys():\n",
    "    print(\"property:\", key + \",\", \"len:\", len(sct_operator.shape_layer.properties[key]))\n",
    "print(\"[sct operator] original scs len\", len(sct_operator.original_scs))\n",
    "print(\"[sct operator] actual scs len\", len(sct_operator.get_all_scs()))"
   ]
  },
  {
   "cell_type": "code",
   "execution_count": null,
   "metadata": {},
   "outputs": [],
   "source": [
    "len(single_cells)"
   ]
  },
  {
   "cell_type": "markdown",
   "metadata": {},
   "source": [
    "Save the corrected and annotated single cells"
   ]
  },
  {
   "cell_type": "code",
   "execution_count": null,
   "metadata": {},
   "outputs": [],
   "source": [
    "SingleCellStatic.write_single_cells_json(single_cells=single_cells, path=\"./datasets/test_scs_EBSS_starvation/XY1/corrected_scs.json\", \\\n",
    "                                         dataset_dir=\"./datasets/test_scs_EBSS_starvation/XY1/datasets\")"
   ]
  },
  {
   "cell_type": "code",
   "execution_count": null,
   "metadata": {},
   "outputs": [],
   "source": [
    "sct_operator.remove_empty_contour_sct()"
   ]
  },
  {
   "cell_type": "markdown",
   "metadata": {},
   "source": [
    "How many mitosis samples did you annotate? For other labels, you may change the key below (mitosis -> label you customized)"
   ]
  },
  {
   "cell_type": "code",
   "execution_count": null,
   "metadata": {},
   "outputs": [],
   "source": [
    "len(sct_operator.annotate_click_samples[\"mitosis\"])"
   ]
  },
  {
   "cell_type": "markdown",
   "metadata": {},
   "source": [
    "Programmatically delete an unwanted sample (e.g. the first one)"
   ]
  },
  {
   "cell_type": "code",
   "execution_count": null,
   "metadata": {},
   "outputs": [],
   "source": [
    "# idx = 0\n",
    "# label_info_key = \"_annotation_label_info\"\n",
    "# for sc in sct_operator.annotate_click_samples[\"mitosis\"][idx]:\n",
    "#     sc.meta[label_info_key] = {}\n",
    "# sct_operator.annotate_click_samples[\"mitosis\"].pop(idx)"
   ]
  },
  {
   "cell_type": "markdown",
   "metadata": {},
   "source": [
    "Save the annotations to json files."
   ]
  },
  {
   "cell_type": "code",
   "execution_count": null,
   "metadata": {},
   "outputs": [],
   "source": [
    "res_paths = sct_operator.save_annotations(sample_out_dir=\"./datasets/test_scs_EBSS_starvation/XY1/annotations\", sample_dataset_dir=\"./datasets/test_scs_EBSS_starvation/XY1/datasets\")"
   ]
  },
  {
   "cell_type": "code",
   "execution_count": null,
   "metadata": {},
   "outputs": [],
   "source": [
    "res_paths[0].as_posix()"
   ]
  },
  {
   "cell_type": "code",
   "execution_count": null,
   "metadata": {},
   "outputs": [],
   "source": [
    "scs = sct_operator.get_all_scs()"
   ]
  },
  {
   "cell_type": "code",
   "execution_count": null,
   "metadata": {},
   "outputs": [],
   "source": [
    "len(sct_operator.annotate_click_samples[\"mitosis\"])"
   ]
  },
  {
   "cell_type": "markdown",
   "metadata": {},
   "source": [
    "Track"
   ]
  },
  {
   "cell_type": "code",
   "execution_count": null,
   "metadata": {},
   "outputs": [],
   "source": [
    "from livecell_tracker.track.sort_tracker_utils import (\n",
    "    gen_SORT_detections_input_from_contours,\n",
    "    update_traj_collection_by_SORT_tracker_detection,\n",
    "    track_SORT_bbox_from_contours,\n",
    "    track_SORT_bbox_from_scs\n",
    ")\n",
    "\n",
    "all_scs = sct_operator.get_all_scs()\n",
    "\n",
    "all_scs = [sc for sc in all_scs if sc.timeframe != 1]\n",
    "sctc = track_SORT_bbox_from_scs(all_scs, raw_imgs=all_scs[0].img_dataset, min_hits=3, max_age=3)"
   ]
  },
  {
   "cell_type": "markdown",
   "metadata": {},
   "source": [
    "Show subset of a sctc filtered by time_span"
   ]
  },
  {
   "cell_type": "code",
   "execution_count": null,
   "metadata": {},
   "outputs": [],
   "source": [
    "from livecell_tracker.core.sct_operator import create_scts_operator_viewer, create_scs_edit_viewer\n",
    "\n",
    "scts_operator = create_scs_edit_viewer(single_cells, img_dataset = dic_dataset, time_span=(145, 155))\n",
    "\n",
    "# # If you would like to start from sctc, you can use the following code\n",
    "# scts_operator = create_scts_operator_viewer(sctc, img_dataset = dic_dataset, time_span=(1, 2))"
   ]
  },
  {
   "cell_type": "code",
   "execution_count": null,
   "metadata": {},
   "outputs": [],
   "source": [
    "# sctc.write_json(path=\"./EBSS_starvation_24h_xy16_annotation/single_cell_trajectory_collection.json\")"
   ]
  }
 ],
 "metadata": {
  "kernelspec": {
   "display_name": "livecell",
   "language": "python",
   "name": "python3"
  },
  "language_info": {
   "codemirror_mode": {
    "name": "ipython",
    "version": 3
   },
   "file_extension": ".py",
   "mimetype": "text/x-python",
   "name": "python",
   "nbconvert_exporter": "python",
   "pygments_lexer": "ipython3",
   "version": "3.9.16"
  },
  "orig_nbformat": 4,
  "vscode": {
   "interpreter": {
    "hash": "84cc49e2771a69a318d2523a1e3c84119201a94eb2fd0f5b7e00daf17c339568"
   }
  }
 },
 "nbformat": 4,
 "nbformat_minor": 2
}
