{
 "cells": [
  {
   "cell_type": "code",
   "execution_count": 14,
   "metadata": {},
   "outputs": [],
   "source": [
    "import numpy as np\n",
    "import matplotlib.pyplot as plt\n",
    "from cellpose import models\n",
    "from cellpose.io import imread\n",
    "import glob\n",
    "from pathlib import Path\n",
    "from PIL import Image, ImageSequence\n",
    "from tqdm import tqdm\n",
    "import os\n",
    "import os.path\n",
    "# from livecellx import segment\n",
    "from livecellx import core\n",
    "from livecellx.core import datasets\n",
    "from livecellx.core.datasets import LiveCellImageDataset, SingleImageDataset\n",
    "from skimage import measure\n",
    "from livecellx.core import SingleCellTrajectory, SingleCellStatic"
   ]
  },
  {
   "cell_type": "code",
   "execution_count": 15,
   "metadata": {},
   "outputs": [
    {
     "name": "stdout",
     "output_type": "stream",
     "text": [
      "865 png img file paths loaded;\n"
     ]
    }
   ],
   "source": [
    "mask_dataset_path = Path(r\"D:\\LiveCellTracker-dev\\datasets\\test_gaohan_corrected_a549-2019-wwk\\2019-06-21_A549_vim_tgf4ng_3d_XY01\\cellpose_out\")\n",
    "mask_dataset = LiveCellImageDataset(mask_dataset_path, ext=\"png\")"
   ]
  },
  {
   "cell_type": "code",
   "execution_count": 16,
   "metadata": {},
   "outputs": [
    {
     "name": "stdout",
     "output_type": "stream",
     "text": [
      "865 tif img file paths loaded;\n"
     ]
    }
   ],
   "source": [
    "\n",
    "img_dataset_dir = r\"E:\\xing-imaging\\wwk\\2019-06-21_A549_vim_tgf4ng_3d\\g1\\data\\data\\img\\1\"\n",
    "img_dataset = LiveCellImageDataset(img_dataset_dir, ext=\"tif\")"
   ]
  },
  {
   "cell_type": "code",
   "execution_count": 18,
   "metadata": {},
   "outputs": [
    {
     "name": "stderr",
     "output_type": "stream",
     "text": [
      "Lightning automatically upgraded your loaded checkpoint from v1.8.6 to v1.9.1. To apply the upgrade to your files permanently, run `python -m pytorch_lightning.utilities.upgrade_checkpoint --file d:\\LiveCellTracker-dev\\notebooks\\notebook_results\\csn_models\\v11-01_epoch=999-global_step=0.ckpt`\n",
      "c:\\Users\\dummy\\anaconda3\\envs\\livecell-work\\lib\\site-packages\\torchvision\\models\\_utils.py:208: UserWarning: The parameter 'pretrained' is deprecated since 0.13 and may be removed in the future, please use 'weights' instead.\n",
      "  warnings.warn(\n",
      "c:\\Users\\dummy\\anaconda3\\envs\\livecell-work\\lib\\site-packages\\torchvision\\models\\_utils.py:223: UserWarning: Arguments other than a weight enum or `None` for 'weights' are deprecated since 0.13 and may be removed in the future. The current behavior is equivalent to passing `weights=DeepLabV3_ResNet50_Weights.COCO_WITH_VOC_LABELS_V1`. You can also use `weights=DeepLabV3_ResNet50_Weights.DEFAULT` to get the most up-to-date weights.\n",
      "  warnings.warn(msg)\n"
     ]
    },
    {
     "name": "stdout",
     "output_type": "stream",
     "text": [
      ">>> Using BCE loss with logits loss\n",
      ">>> Based on loss type, training output threshold:  0.5\n"
     ]
    }
   ],
   "source": [
    "from livecellx.core.sc_seg_operator import ScSegOperator\n",
    "ckpt_path = r\"./notebook_results/csn_models/v11-01_epoch=999-global_step=0.ckpt\"\n",
    "ScSegOperator.load_default_csn_model(path=ckpt_path, cuda=True);"
   ]
  },
  {
   "cell_type": "code",
   "execution_count": 20,
   "metadata": {},
   "outputs": [
    {
     "data": {
      "text/plain": [
       "36999"
      ]
     },
     "execution_count": 20,
     "metadata": {},
     "output_type": "execute_result"
    }
   ],
   "source": [
    "img_dataset.get_img_by_time(1).max()"
   ]
  },
  {
   "cell_type": "code",
   "execution_count": null,
   "metadata": {},
   "outputs": [
    {
     "name": "stderr",
     "output_type": "stream",
     "text": [
      "c:\\Users\\dummy\\anaconda3\\envs\\livecell-work\\lib\\site-packages\\napari\\utils\\colormaps\\standardize_color.py:200: UserWarning: Given color input is empty. Converting input to a white color array.\n",
      "  warnings.warn(\n",
      "c:\\Users\\dummy\\anaconda3\\envs\\livecell-work\\lib\\site-packages\\napari\\utils\\colormaps\\standardize_color.py:200: UserWarning: Given color input is empty. Converting input to a white color array.\n",
      "  warnings.warn(\n"
     ]
    },
    {
     "name": "stdout",
     "output_type": "stream",
     "text": [
      ">>> debug: cur_idx span\n",
      "clearing selection...\n",
      "<clear complete>\n"
     ]
    },
    {
     "name": "stdout",
     "output_type": "stream",
     "text": [
      "add one sc fired!\n",
      "<adding new sc>\n",
      "|-----? sc 3c7a4278-4128-418a-99b3-664f8945f5ef has no contour (or contour list length is 0)\n",
      ">>> create sc layer done\n",
      "|-----!! 'SingleCellTrajectory' object has no attribute '_next_track_id'\n"
     ]
    },
    {
     "name": "stderr",
     "output_type": "stream",
     "text": [
      "Traceback (most recent call last):\n",
      "  File \"D:\\LiveCellTracker-dev\\livecellx\\core\\sct_operator.py\", line 685, in wrapper\n",
      "    self.magicgui_container[i].hide()\n",
      "  File \"D:\\LiveCellTracker-dev\\livecellx\\core\\sct_operator.py\", line 596, in add_new_sc\n",
      "    {\n",
      "AttributeError: 'SingleCellTrajectory' object has no attribute '_next_track_id'\n",
      "WARNING: QWindowsWindow::setGeometry: Unable to set geometry 3840x2012+0+34 (frame: 3862x2068-11-11) on QWidgetWindow/\"_QtMainWindowClassWindow\" on \"\\\\.\\DISPLAY1\". Resulting geometry: 3840x1494+0+34 (frame: 3862x1550-11-11) margins: 11, 45, 11, 11 minimum size: 810x1006 MINMAXINFO maxSize=0,0 maxpos=0,0 mintrack=1642,2068 maxtrack=0,0)\n"
     ]
    },
    {
     "name": "stdout",
     "output_type": "stream",
     "text": [
      "[button] csn callback fired!\n",
      "csn_correct_seg_callback fired\n",
      "Using default CSN model and loading it to the operator...\n"
     ]
    },
    {
     "name": "stderr",
     "output_type": "stream",
     "text": [
      "D:\\LiveCellTracker-dev\\livecellx\\core\\sc_seg_operator.py:165: UserWarning: Creating a tensor from a list of numpy.ndarrays is extremely slow. Please consider converting the list to a single numpy.ndarray with numpy.array() before converting to a tensor. (Triggered internally at C:\\cb\\pytorch_1000000000000\\work\\torch\\csrc\\utils\\tensor_new.cpp:248.)\n",
      "  ou_input = input_transforms(torch.tensor([ou_input]))\n"
     ]
    },
    {
     "name": "stdout",
     "output_type": "stream",
     "text": [
      "csn_correct_seg_callback done!\n",
      "[button] csn callback fired!\n",
      "csn_correct_seg_callback fired\n",
      "csn_correct_seg_callback done!\n"
     ]
    }
   ],
   "source": [
    "from livecellx.core.sc_seg_operator import create_sc_seg_napari_ui\n",
    "from livecellx.core.sct_operator import create_sctc_edit_viewer_by_interval\n",
    "\n",
    "sct_operator = create_sctc_edit_viewer_by_interval(SingleCellTrajectory(), img_dataset, span_interval=100)"
   ]
  },
  {
   "cell_type": "code",
   "execution_count": 5,
   "metadata": {},
   "outputs": [
    {
     "name": "stderr",
     "output_type": "stream",
     "text": [
      "100%|██████████| 865/865 [00:57<00:00, 15.09it/s]\n"
     ]
    }
   ],
   "source": [
    "# from skimage.measure import regionprops\n",
    "# from livecellx.core.io_sc import prep_scs_from_mask_dataset\n",
    "# single_cells = prep_scs_from_mask_dataset(mask_dataset, img_dataset)"
   ]
  },
  {
   "cell_type": "code",
   "execution_count": 12,
   "metadata": {},
   "outputs": [],
   "source": [
    "# from typing import List\n",
    "# from livecellx.track.sort_tracker_utils import (\n",
    "#     gen_SORT_detections_input_from_contours,\n",
    "#     update_traj_collection_by_SORT_tracker_detection,\n",
    "#     track_SORT_bbox_from_contours,\n",
    "#     track_SORT_bbox_from_scs\n",
    "# )\n",
    "\n",
    "\n",
    "# sdata = track_SORT_bbox_from_scs(single_cells, img_dataset, mask_dataset=mask_dataset, max_age=0, min_hits=1)"
   ]
  },
  {
   "cell_type": "code",
   "execution_count": 13,
   "metadata": {},
   "outputs": [
    {
     "name": "stdout",
     "output_type": "stream",
     "text": [
      ">>> debug: cur_idx span\n",
      "clearing selection...\n",
      "<clear complete>\n"
     ]
    },
    {
     "name": "stdout",
     "output_type": "stream",
     "text": [
      ">>> debug: cur_idx span\n",
      "clearing selection...\n",
      "<clear complete>\n",
      ">>> debug: cur_idx span\n",
      "clearing selection...\n",
      "<clear complete>\n",
      ">>> debug: cur_idx span\n",
      "clearing selection...\n",
      "<clear complete>\n",
      ">>> debug: cur_idx span\n",
      "clearing selection...\n",
      "<clear complete>\n",
      ">>> debug: cur_idx span\n",
      "clearing selection...\n",
      "<clear complete>\n",
      ">>> debug: cur_idx span\n",
      "clearing selection...\n",
      "<clear complete>\n",
      ">>> debug: cur_idx span\n",
      "clearing selection...\n",
      "<clear complete>\n",
      ">>> debug: cur_idx span\n",
      "clearing selection...\n",
      "<clear complete>\n",
      ">>> debug: cur_idx span\n",
      "clearing selection...\n",
      "<clear complete>\n",
      ">>> debug: cur_idx span\n",
      "clearing selection...\n",
      "<clear complete>\n",
      ">>> debug: cur_idx span\n",
      "clearing selection...\n",
      "<clear complete>\n"
     ]
    }
   ],
   "source": [
    "# from livecellx.core.sc_seg_operator import create_sc_seg_napari_ui\n",
    "# from livecellx.core.sct_operator import create_sctc_edit_viewer_by_interval\n",
    "\n",
    "# sct_operator = create_sctc_edit_viewer_by_interval(sdata, img_dataset, span_interval=100)"
   ]
  }
 ],
 "metadata": {
  "kernelspec": {
   "display_name": "livecell-work",
   "language": "python",
   "name": "python3"
  },
  "language_info": {
   "codemirror_mode": {
    "name": "ipython",
    "version": 3
   },
   "file_extension": ".py",
   "mimetype": "text/x-python",
   "name": "python",
   "nbconvert_exporter": "python",
   "pygments_lexer": "ipython3",
   "version": "3.9.16"
  }
 },
 "nbformat": 4,
 "nbformat_minor": 2
}
