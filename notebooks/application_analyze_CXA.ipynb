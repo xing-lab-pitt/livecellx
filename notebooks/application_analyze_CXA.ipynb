{
 "cells": [
  {
   "cell_type": "code",
   "execution_count": null,
   "metadata": {},
   "outputs": [],
   "source": [
    "import numpy as np\n",
    "import matplotlib.pyplot as plt\n",
    "from cellpose import models\n",
    "from cellpose.io import imread\n",
    "import glob\n",
    "from pathlib import Path\n",
    "from PIL import Image, ImageSequence\n",
    "from tqdm import tqdm\n",
    "import os\n",
    "import os.path\n",
    "from livecell_tracker import segment\n",
    "from livecell_tracker import core\n",
    "from livecell_tracker.core import datasets\n",
    "from livecell_tracker.core.datasets import LiveCellImageDataset\n",
    "from skimage import measure\n",
    "from livecell_tracker.core import SingleCellTrajectory, SingleCellStatic\n",
    "import detectron2\n",
    "from detectron2.utils.logger import setup_logger\n",
    "\n",
    "setup_logger()\n",
    "\n",
    "# import some common libraries\n",
    "import numpy as np\n",
    "import os, json, cv2, random\n",
    "import cv2\n",
    "\n",
    "# import some common detectron2 utilities\n",
    "from detectron2 import model_zoo\n",
    "from detectron2.engine import DefaultPredictor\n",
    "from detectron2.config import get_cfg\n",
    "from detectron2.utils.visualizer import Visualizer\n",
    "from detectron2.data import MetadataCatalog, DatasetCatalog\n",
    "from livecell_tracker.segment.detectron_utils import gen_cfg\n",
    "\n",
    "from livecell_tracker.segment.detectron_utils import (\n",
    "    segment_detectron_wrapper,\n",
    "    segment_images_by_detectron,\n",
    "    convert_detectron_instance_pred_masks_to_binary_masks,\n",
    "    convert_detectron_instances_to_label_masks,\n",
    ")\n",
    "from livecell_tracker.segment.detectron_utils import (\n",
    "    convert_detectron_instance_pred_masks_to_binary_masks,\n",
    "    convert_detectron_instances_to_label_masks,\n",
    "    segment_images_by_detectron,\n",
    "    segment_single_img_by_detectron_wrapper,\n",
    ")\n",
    "\n",
    "pretrained_model_path = (\n",
    "    r\"./notebook_results/train_log/detectron_train_output__ver0.0.2/model_final.pth\"\n",
    ")\n",
    "# seg_out_dir = Path(r\"\"\"./notebook_results/train_log/detectron_train_output__ver0.0.2/\"\"\")\n",
    "model_dir = Path(r\"\"\"./notebook_results/train_log/detectron_train_output__ver0.0.2/\"\"\")\n",
    "out_dir = Path(r\"./day0_output\")\n",
    "seg_out_dir = out_dir / \"segmentation\"\n",
    "track_out_dir = out_dir / \"tracking\"\n",
    "segmentation_result_json_path = seg_out_dir / \"segmentation_results.json\"\n",
    "trajectory_collection_path = track_out_dir / \"trajectory_collection.json\"\n",
    "assert os.path.exists(model_dir)\n",
    "os.makedirs(seg_out_dir, exist_ok=True)\n",
    "os.makedirs(track_out_dir, exist_ok=True)\n",
    "pretrained_model_path = (\n",
    "    r\"./notebook_results/train_log/detectron_train_output__ver0.0.2/model_final.pth\"\n",
    ")\n",
    "dataset_dir_path = (\n",
    "    \"../cxa-data/june_2022_data_8bit_png/restart_day0_Group 1_wellA1_RI_MIP_stitched\"\n",
    ")\n"
   ]
  },
  {
   "cell_type": "code",
   "execution_count": null,
   "metadata": {},
   "outputs": [],
   "source": [
    "imgs = core.datasets.LiveCellImageDataset(dataset_dir_path, ext=\"png\", max_img_num=None)\n"
   ]
  },
  {
   "cell_type": "markdown",
   "metadata": {},
   "source": [
    "## Segmentation"
   ]
  },
  {
   "cell_type": "code",
   "execution_count": null,
   "metadata": {},
   "outputs": [],
   "source": [
    "DETECTRON_CFG = gen_cfg(\n",
    "    model_path=pretrained_model_path,\n",
    "    output_dir=str(model_dir),\n",
    ")\n",
    "DETECTRON_PREDICTOR = DefaultPredictor(DETECTRON_CFG)\n"
   ]
  },
  {
   "cell_type": "code",
   "execution_count": null,
   "metadata": {},
   "outputs": [],
   "source": [
    "seg_out_dir = Path(seg_out_dir)\n",
    "segmentation_results = segment_images_by_detectron(imgs, seg_out_dir, cfg=DETECTRON_CFG)\n",
    "with open(seg_out_dir / \"segmentation_results.json\", \"w+\") as f:\n",
    "    json.dump(segmentation_results, f)\n"
   ]
  },
  {
   "cell_type": "markdown",
   "metadata": {},
   "source": [
    "## Tracking"
   ]
  },
  {
   "cell_type": "code",
   "execution_count": null,
   "metadata": {},
   "outputs": [],
   "source": [
    "raw_imgs = LiveCellImageDataset(dataset_dir_path, ext=\"png\")\n",
    "\n",
    "segmentation_results = json.load(open(segmentation_result_json_path, \"r\"))\n",
    "segmentation_results\n"
   ]
  },
  {
   "cell_type": "code",
   "execution_count": null,
   "metadata": {},
   "outputs": [],
   "source": [
    "from livecell_tracker.track.sort_tracker_utils import (\n",
    "    gen_SORT_detections_input_from_contours,\n",
    "    update_traj_collection_by_SORT_tracker_detection,\n",
    "    track_SORT_bbox_from_contours,\n",
    ")"
   ]
  },
  {
   "cell_type": "code",
   "execution_count": null,
   "metadata": {},
   "outputs": [],
   "source": [
    "MAX_AGE, MIN_HITS = 5, 3\n",
    "trajectory_collection = track_SORT_bbox_from_contours(\n",
    "    segmentation_results, raw_imgs, max_age=MAX_AGE, min_hits=MIN_HITS\n",
    ")\n"
   ]
  },
  {
   "cell_type": "code",
   "execution_count": null,
   "metadata": {},
   "outputs": [],
   "source": [
    "trajectory_collection.histogram_traj_length()\n",
    "plt.title(\"Length distribution of trajectories\")\n",
    "plt.ylabel(\"Count\")\n",
    "plt.xlabel(\"Trajectory length\")\n",
    "plt.show()\n"
   ]
  },
  {
   "cell_type": "code",
   "execution_count": null,
   "metadata": {},
   "outputs": [],
   "source": [
    "trajectory_collection.write_json(trajectory_collection_path)"
   ]
  },
  {
   "cell_type": "markdown",
   "metadata": {},
   "source": [
    "## Trajectory analysis"
   ]
  },
  {
   "cell_type": "code",
   "execution_count": null,
   "metadata": {},
   "outputs": [],
   "source": [
    "from livecell_tracker.core.single_cell import SingleCellTrajectoryCollection\n",
    "\n",
    "traj_collection_json = json.load(open(trajectory_collection_path, \"r\"))\n",
    "trajectory_collection = SingleCellTrajectoryCollection().load_from_json_dict(\n",
    "    traj_collection_json\n",
    ")\n"
   ]
  },
  {
   "cell_type": "code",
   "execution_count": null,
   "metadata": {},
   "outputs": [],
   "source": [
    "import matplotlib.pyplot as plt\n",
    "\n",
    "from livecell_tracker.core.single_cell import SingleCellTrajectoryCollection\n",
    "\n",
    "track_id = 5\n",
    "\n",
    "def show_trajectory_on_grid(\n",
    "    trajectory: SingleCellTrajectory,\n",
    "    nr=4,\n",
    "    nc=4,\n",
    "    start_timeframe=20,\n",
    "    interval=5,\n",
    "    padding=20,\n",
    "):\n",
    "    fig, axes = plt.subplots(nr, nc, figsize=(nc * 4, nr * 4))\n",
    "    if nr == 1:\n",
    "        axes = np.array([axes])\n",
    "    span_range = trajectory.get_timeframe_span_range()\n",
    "    traj_start, traj_end = span_range\n",
    "    if start_timeframe < traj_start:\n",
    "        print(\n",
    "            \"start timeframe larger than the first timeframe of the trajectory, replace start_timeframe with the first timeframe...\"\n",
    "        )\n",
    "        start_timeframe = span_range[0]\n",
    "    for r in range(nr):\n",
    "        for c in range(nc):\n",
    "            ax = axes[r, c]\n",
    "            ax.axis(\"off\")\n",
    "            timeframe = start_timeframe + interval * (r * nc + c)\n",
    "            if timeframe > traj_end:\n",
    "                break\n",
    "            if timeframe not in trajectory.timeframe_set:\n",
    "                continue\n",
    "            sc = trajectory.get_single_cell(timeframe)\n",
    "            sc_img = sc.get_img_crop(padding=padding)\n",
    "            ax.imshow(sc_img)\n",
    "            contour_coords = sc.get_img_crop_contour_coords(padding=padding)\n",
    "            ax.scatter(contour_coords[:, 1], contour_coords[:, 0], s=1, c=\"r\")\n",
    "            # trajectory_collection[timeframe].plot(axes[r, c])\n",
    "            ax.set_title(f\"timeframe: {timeframe}\")\n",
    "    fig.tight_layout(pad=0.5, h_pad=0.4, w_pad=0.4)\n"
   ]
  },
  {
   "cell_type": "code",
   "execution_count": null,
   "metadata": {},
   "outputs": [],
   "source": [
    "show_trajectory_on_grid(trajectory_collection.get_trajectory(10), padding=30)"
   ]
  },
  {
   "cell_type": "code",
   "execution_count": null,
   "metadata": {},
   "outputs": [],
   "source": [
    "counter = 0\n",
    "for traj in trajectory_collection:\n",
    "    if (traj.get_timeframe_span_length() < 0):\n",
    "        continue\n",
    "    print(\"traj length:\", traj.get_timeframe_span_length())\n",
    "    counter += 1\n",
    "    if counter > 10000:\n",
    "        break\n",
    "    show_trajectory_on_grid(traj, nr=1, nc=10, start_timeframe=0, interval=5)\n",
    "    plt.show()\n"
   ]
  },
  {
   "cell_type": "code",
   "execution_count": null,
   "metadata": {},
   "outputs": [],
   "source": [
    "trajectory_collection.histogram_traj_length()\n"
   ]
  },
  {
   "cell_type": "code",
   "execution_count": null,
   "metadata": {},
   "outputs": [],
   "source": [
    "for traj in trajectory_collection:\n",
    "    print(traj.get_timeframe_span_range(), end=\",\")\n"
   ]
  },
  {
   "cell_type": "code",
   "execution_count": null,
   "metadata": {},
   "outputs": [],
   "source": [
    "show_trajectory_on_grid(trajectory_collection.get_trajectory(4), padding=30)"
   ]
  },
  {
   "cell_type": "code",
   "execution_count": null,
   "metadata": {},
   "outputs": [],
   "source": [
    "traj.get_timeframe_span_range()"
   ]
  },
  {
   "cell_type": "code",
   "execution_count": null,
   "metadata": {},
   "outputs": [],
   "source": [
    "from livecell_tracker.trajectory.contour_utils import get_cellTool_contour_points, viz_contours\n",
    "import matplotlib\n",
    "import matplotlib.cm\n",
    "traj = trajectory_collection.get_trajectory(4)\n",
    "contour_num_points = 500\n",
    "cell_contours = get_cellTool_contour_points(traj, contour_num_points=contour_num_points)\n",
    "cmap = matplotlib.cm.get_cmap('viridis')\n",
    "for idx, contour in enumerate(cell_contours):\n",
    "    # TODO: idx should be time\n",
    "    plt.plot(contour.points[:, 0], contour.points[:, 1], c=cmap(idx/len(cell_contours))) \n",
    "plt.axis(\"off\")\n",
    "plt.colorbar(matplotlib.cm.ScalarMappable(norm=matplotlib.colors.Normalize(vmin=0, vmax=len(cell_contours)), cmap=cmap))\n",
    "plt.show()"
   ]
  }
 ],
 "metadata": {
  "kernelspec": {
   "display_name": "Python 3.8.13 ('cv-general')",
   "language": "python",
   "name": "python3"
  },
  "language_info": {
   "codemirror_mode": {
    "name": "ipython",
    "version": 3
   },
   "file_extension": ".py",
   "mimetype": "text/x-python",
   "name": "python",
   "nbconvert_exporter": "python",
   "pygments_lexer": "ipython3",
   "version": "3.8.13"
  },
  "orig_nbformat": 4,
  "vscode": {
   "interpreter": {
    "hash": "b5dfbec2055422cee39dc040b31dfffa8b21a342109231ab17bc6ff9949c7133"
   }
  }
 },
 "nbformat": 4,
 "nbformat_minor": 2
}
