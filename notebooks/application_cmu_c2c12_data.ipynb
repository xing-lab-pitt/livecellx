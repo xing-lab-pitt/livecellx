{
 "cells": [
  {
   "cell_type": "code",
   "execution_count": null,
   "metadata": {},
   "outputs": [],
   "source": [
    "from pathlib import Path\n",
    "\n",
    "dir_data = \"../datasets/CMU_C2C12\"\n",
    "dataset = \"090303-C2C12P15-FGF2\"\n",
    "\n",
    "dataset_dir_path = Path(dir_data) / dataset\n",
    "\n",
    "# xml_path = dataset_dir_path / \"Human Full Annotation_exp1_F0009 Data.xml\"\n",
    "xml_path = dataset_dir_path / \"Computer exp1_F0001 Data.xml\"\n",
    "\n",
    "import xml.etree.ElementTree as ET\n",
    "# xml_data = xml_path.read_text()\n",
    "tree = ET.parse(xml_path)\n",
    "root = tree.getroot()"
   ]
  },
  {
   "cell_type": "code",
   "execution_count": null,
   "metadata": {},
   "outputs": [],
   "source": [
    "# Revised approach for extracting lineage-centric and frame-centric data\n",
    "# This approach maintains the parent-child relationship\n",
    "\n",
    "# Extracting lineage-centric information\n",
    "def extract_lineage_centric_info(fs_nodes):\n",
    "    lineage_data = []\n",
    "    mitosis_count = 0\n",
    "    for fs in fs_nodes:\n",
    "        for f in fs.findall('f'):\n",
    "            for _as in f.findall('as'):\n",
    "                for a_node in _as.findall('.//a'):\n",
    "                    cell_id = a_node.get('id')\n",
    "                    parent_cell_id = f.get('id')  # Parent cell ID is now the ID of 'f' node\n",
    "                    sub_as_elements = a_node.findall('as')\n",
    "                    sub_as_node = sub_as_elements[0]\n",
    "                    sub_as_a_elements = sub_as_node.findall('a')\n",
    "                    daughtercell_ids = []\n",
    "                    if len(sub_as_a_elements) == 2:  # Cell with daughters\n",
    "                        for as_element in sub_as_elements:\n",
    "                            for daughter_cell in as_element.findall('a'):\n",
    "                                daughtercell_ids.append(daughter_cell.get('id'))\n",
    "                        mitosis_count += 1\n",
    "                    elif len(sub_as_a_elements) > 2:\n",
    "                        print(f\"Error: More than 2 'as' elements for cell ID {cell_id}\")\n",
    "                    lineage_data.append({\n",
    "                        'cellID': cell_id,\n",
    "                        'parentcellID': parent_cell_id,\n",
    "                        'daughtercellIDs': daughtercell_ids\n",
    "                    })\n",
    "    print(\"Number of mitosis events:\", mitosis_count)\n",
    "    return lineage_data\n",
    "\n",
    "# Extracting frame-centric information\n",
    "def extract_frame_centric_info(fs_nodes):\n",
    "    frame_data = []\n",
    "    for fs in fs_nodes:\n",
    "        for f in fs.findall('f'):\n",
    "            for _as in f.findall('as'):\n",
    "                for a in _as.findall('.//a'):\n",
    "                    for ss in a.findall('ss'):\n",
    "                        cell_id = a.get('id')  # Cell ID is now the ID of 'a' node\n",
    "                        cell_color = a.get('brush')\n",
    "                        cell_type = a.get('type')\n",
    "                        xs, ys = [], []\n",
    "                        cell_status = []\n",
    "                        timepoints = []\n",
    "                        for s in ss.findall('s'):\n",
    "                            # print(\"--flag1\")\n",
    "                            xcoord = float(s.get('x'))\n",
    "                            ycoord = float(s.get('y'))\n",
    "                            _cs = int(s.get('s'))\n",
    "                            xs.append(xcoord)\n",
    "                            ys.append(ycoord)\n",
    "                            cell_status.append(_cs)\n",
    "                            timepoints.append(s.get(\"i\"))\n",
    "                            \n",
    "                        frame_data.append({\n",
    "                            'cellID': cell_id,\n",
    "                            'cellColour': cell_color,\n",
    "                            'cellType': cell_type,\n",
    "                            'xcoords': xs,\n",
    "                            'ycoords': ys,\n",
    "                            'cellStatus': cell_status,\n",
    "                            'timepoints': timepoints\n",
    "                        })\n",
    "    return frame_data\n",
    "\n",
    "# Extracting all 'fs' nodes\n",
    "fs_nodes = root.findall('fs')\n",
    "\n",
    "# Extracting lineage-centric and frame-centric data\n",
    "lineage_centric_data = extract_lineage_centric_info(fs_nodes)\n",
    "frame_centric_data = extract_frame_centric_info(fs_nodes)\n",
    "\n",
    "# Displaying the first few entries of each data type for verification\n",
    "print(lineage_centric_data[:5], frame_centric_data[:5])\n",
    "\n",
    "len(fs_nodes), len(lineage_centric_data), len(frame_centric_data)"
   ]
  },
  {
   "cell_type": "code",
   "execution_count": null,
   "metadata": {},
   "outputs": [],
   "source": [
    "all_times = set()\n",
    "all_time_list = []\n",
    "for data in frame_centric_data:\n",
    "    timepoints = data['timepoints']\n",
    "    for timepoint in timepoints:\n",
    "        all_times.add(int(timepoint))\n",
    "        all_time_list.append(int(timepoint))\n",
    "len(all_times), min(all_times), max(all_times)"
   ]
  },
  {
   "cell_type": "code",
   "execution_count": null,
   "metadata": {},
   "outputs": [],
   "source": [
    "import matplotlib.pyplot as plt\n",
    "plt.hist(all_time_list)"
   ]
  },
  {
   "cell_type": "code",
   "execution_count": null,
   "metadata": {},
   "outputs": [],
   "source": [
    "xml_path"
   ]
  },
  {
   "cell_type": "code",
   "execution_count": null,
   "metadata": {},
   "outputs": [],
   "source": [
    "dataset_dir_path"
   ]
  },
  {
   "cell_type": "code",
   "execution_count": null,
   "metadata": {},
   "outputs": [],
   "source": [
    "from livecellx.core.datasets import LiveCellImageDatasetManager, LiveCellImageDataset\n",
    "# Construct image dataset\n",
    "img_dir_path = dataset_dir_path / \"exp1_F0001\"\n",
    "# img_dir_path = dataset_dir_path / \"images\"\n",
    "dataset = LiveCellImageDataset(img_dir_path, ext=\"tif\")\n",
    "\n",
    "# dataset.time2url\n",
    "# Add time by 1? No.\n",
    "# dataset.time2url = {int(k)+1: v for k, v in dataset.time2url.items()}\n"
   ]
  },
  {
   "cell_type": "code",
   "execution_count": null,
   "metadata": {},
   "outputs": [],
   "source": [
    "import numpy as np\n",
    "import tqdm\n",
    "from livecellx.core.single_cell import SingleCellStatic, SingleCellTrajectory, SingleCellTrajectoryCollection\n",
    "\n",
    "# Construct single cells\n",
    "scs = []\n",
    "img = dataset.get_img_by_time(list(dataset.time2url.keys())[0])\n",
    "dims = img.shape\n",
    "\n",
    "for cell_data in tqdm.tqdm(frame_centric_data):\n",
    "    for i, timeframe in enumerate(cell_data['timepoints']):\n",
    "        y, x = cell_data['xcoords'][i], cell_data['ycoords'][i]\n",
    "        # Exclude NaN values\n",
    "        if np.isnan(x) or np.isnan(y):\n",
    "            continue\n",
    "        timeframe = int(timeframe)\n",
    "        # Testing purpose\n",
    "        # if timeframe > 10:\n",
    "        #     break\n",
    "        sc = SingleCellStatic(timeframe=timeframe, id = cell_data['cellID'], empty_cell=True, img_dataset=dataset)\n",
    "        sc.meta[\"cell_status\"] = cell_data['cellStatus']\n",
    "        \n",
    "        sc.meta[\"cmu_x\"] = x\n",
    "        sc.meta[\"cmu_y\"] = y\n",
    "\n",
    "        # construct a contour around the cell center x, y\n",
    "        contour = np.array([[x-5, y-5], [x+5, y-5], [x+5, y+5], [x-5, y+5]], dtype=int)\n",
    "        # clip the contour to the image dimensions\n",
    "        contour[:, 0] = np.clip(contour[:, 0], 0, dims[0] - 1)\n",
    "        contour[:, 1] = np.clip(contour[:, 1], 0, dims[1] - 1)\n",
    "        \n",
    "        sc.update_contour(contour)\n",
    "        scs.append(sc)\n"
   ]
  },
  {
   "cell_type": "code",
   "execution_count": null,
   "metadata": {},
   "outputs": [],
   "source": [
    "out_dir = Path(\"../tmp/CMU_C2C12/090303-C2C12P15-FGF2\")\n",
    "out_dir.mkdir(parents=True, exist_ok=True)\n",
    "filename = xml_path.stem\n",
    "SingleCellStatic.write_single_cells_json(scs, out_dir / f\"{filename}_scs.json\")"
   ]
  },
  {
   "cell_type": "code",
   "execution_count": null,
   "metadata": {},
   "outputs": [],
   "source": [
    "scs[4].show_panel(padding=100, figsize=(30, 20))"
   ]
  },
  {
   "cell_type": "code",
   "execution_count": null,
   "metadata": {},
   "outputs": [],
   "source": [
    "from livecellx.core.sct_operator import create_scs_edit_viewer\n",
    "\n",
    "sct_operator = create_scs_edit_viewer(scs, dataset)"
   ]
  }
 ],
 "metadata": {
  "kernelspec": {
   "display_name": "livecell-work",
   "language": "python",
   "name": "python3"
  },
  "language_info": {
   "codemirror_mode": {
    "name": "ipython",
    "version": 3
   },
   "file_extension": ".py",
   "mimetype": "text/x-python",
   "name": "python",
   "nbconvert_exporter": "python",
   "pygments_lexer": "ipython3",
   "version": "3.9.16"
  }
 },
 "nbformat": 4,
 "nbformat_minor": 2
}
