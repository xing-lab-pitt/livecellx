{
 "cells": [
  {
   "cell_type": "code",
   "execution_count": 1,
   "metadata": {},
   "outputs": [],
   "source": [
    "import numpy as np\n",
    "import matplotlib.pyplot as plt\n",
    "from cellpose import models\n",
    "from cellpose.io import imread\n",
    "import glob\n",
    "from pathlib import Path\n",
    "from PIL import Image, ImageSequence\n",
    "from tqdm import tqdm\n",
    "import os\n",
    "import os.path\n",
    "from livecell_tracker import core\n",
    "from livecell_tracker.core import datasets\n",
    "from livecell_tracker.core.datasets import LiveCellImageDataset, SingleImageDataset\n",
    "from skimage import measure\n",
    "from livecell_tracker.core import SingleCellTrajectory, SingleCellStatic\n",
    "import numpy as np\n",
    "import os, json, cv2, random\n",
    "import cv2"
   ]
  },
  {
   "cell_type": "code",
   "execution_count": 2,
   "metadata": {},
   "outputs": [],
   "source": [
    "io_out_dir = Path(\"test_io_output\")"
   ]
  },
  {
   "cell_type": "code",
   "execution_count": 3,
   "metadata": {},
   "outputs": [],
   "source": [
    "dataset_dir_path = Path(\n",
    "    \"../datasets/test_data_STAV-A549/DIC_data\"\n",
    ")\n",
    "\n",
    "mask_dataset_path = Path(\"../datasets/test_data_STAV-A549/mask_data\")\n"
   ]
  },
  {
   "cell_type": "code",
   "execution_count": 4,
   "metadata": {},
   "outputs": [
    {
     "name": "stdout",
     "output_type": "stream",
     "text": [
      "3 png img file paths loaded;\n"
     ]
    }
   ],
   "source": [
    "mask_dataset = LiveCellImageDataset(mask_dataset_path, ext=\"png\")\n",
    "\n",
    "time2url = sorted(glob.glob(str((Path(dataset_dir_path) / Path(\"*_DIC.tif\")))))\n",
    "time2url = {i: path for i, path in enumerate(time2url)}\n",
    "dic_dataset = LiveCellImageDataset(time2url=time2url, ext=\"tif\")"
   ]
  },
  {
   "cell_type": "code",
   "execution_count": 5,
   "metadata": {},
   "outputs": [
    {
     "name": "stderr",
     "output_type": "stream",
     "text": [
      "100%|██████████| 3/3 [00:00<00:00, 17.09it/s]\n"
     ]
    }
   ],
   "source": [
    "from skimage.measure import regionprops\n",
    "from livecell_tracker.segment.utils import prep_scs_from_mask_dataset\n",
    "single_cells = prep_scs_from_mask_dataset(mask_dataset, dic_dataset)"
   ]
  },
  {
   "cell_type": "code",
   "execution_count": 6,
   "metadata": {},
   "outputs": [
    {
     "data": {
      "text/plain": [
       "{}"
      ]
     },
     "execution_count": 6,
     "metadata": {},
     "output_type": "execute_result"
    }
   ],
   "source": [
    "single_cells[1].meta"
   ]
  },
  {
   "cell_type": "code",
   "execution_count": 7,
   "metadata": {},
   "outputs": [],
   "source": [
    "sc_json_list = SingleCellStatic.write_single_cells_json(single_cells, io_out_dir/\"single_cells.json\", dataset_dir=io_out_dir/\"dataset\", return_list=True)"
   ]
  },
  {
   "cell_type": "code",
   "execution_count": 9,
   "metadata": {},
   "outputs": [],
   "source": [
    "SingleCellStatic.write_single_cells_json(single_cells, io_out_dir/\"single_cells.json\", dataset_dir=io_out_dir/\"dataset\", return_list=False)"
   ]
  },
  {
   "cell_type": "code",
   "execution_count": 10,
   "metadata": {},
   "outputs": [],
   "source": [
    "img_dataset = single_cells[0].img_dataset"
   ]
  },
  {
   "cell_type": "code",
   "execution_count": 11,
   "metadata": {},
   "outputs": [
    {
     "ename": "FileNotFoundError",
     "evalue": "[Errno 2] No such file or directory: 'livecell-dataset-1efcaa53-b3ae-45a4-8281-75cd95142e43.json'",
     "output_type": "error",
     "traceback": [
      "\u001b[0;31m---------------------------------------------------------------------------\u001b[0m",
      "\u001b[0;31mFileNotFoundError\u001b[0m                         Traceback (most recent call last)",
      "Cell \u001b[0;32mIn[11], line 1\u001b[0m\n\u001b[0;32m----> 1\u001b[0m SingleCellStatic\u001b[39m.\u001b[39;49mload_single_cells_json(io_out_dir\u001b[39m/\u001b[39;49m\u001b[39m\"\u001b[39;49m\u001b[39msingle_cells.json\u001b[39;49m\u001b[39m\"\u001b[39;49m, dataset_json_path\u001b[39m=\u001b[39;49mimg_dataset\u001b[39m.\u001b[39;49mget_default_json_path())\n",
      "File \u001b[0;32m~/LiveCellTracker-dev/livecell_tracker/core/single_cell.py:312\u001b[0m, in \u001b[0;36mSingleCellStatic.load_single_cells_json\u001b[0;34m(path, dataset_json_path)\u001b[0m\n\u001b[1;32m    310\u001b[0m \u001b[39mwith\u001b[39;00m \u001b[39mopen\u001b[39m(path, \u001b[39m\"\u001b[39m\u001b[39mr\u001b[39m\u001b[39m\"\u001b[39m) \u001b[39mas\u001b[39;00m f:\n\u001b[1;32m    311\u001b[0m     sc_dict_list \u001b[39m=\u001b[39m json\u001b[39m.\u001b[39mload(f)\n\u001b[0;32m--> 312\u001b[0m \u001b[39mwith\u001b[39;00m \u001b[39mopen\u001b[39;49m(dataset_json_path, \u001b[39m\"\u001b[39;49m\u001b[39mr\u001b[39;49m\u001b[39m\"\u001b[39;49m) \u001b[39mas\u001b[39;00m f:\n\u001b[1;32m    313\u001b[0m     dataset_json \u001b[39m=\u001b[39m json\u001b[39m.\u001b[39mload(f)\n\u001b[1;32m    314\u001b[0m img_dataset \u001b[39m=\u001b[39m LiveCellImageDataset()\u001b[39m.\u001b[39mload_from_json_dict(dataset_json)\n",
      "\u001b[0;31mFileNotFoundError\u001b[0m: [Errno 2] No such file or directory: 'livecell-dataset-1efcaa53-b3ae-45a4-8281-75cd95142e43.json'"
     ]
    }
   ],
   "source": [
    "SingleCellStatic.load_single_cells_json(io_out_dir/\"single_cells.json\", dataset_json_path=img_dataset.get_default_json_path(out_dir=io_out_dir/\"dataset\"))"
   ]
  }
 ],
 "metadata": {
  "kernelspec": {
   "display_name": "livecell",
   "language": "python",
   "name": "python3"
  },
  "language_info": {
   "codemirror_mode": {
    "name": "ipython",
    "version": 3
   },
   "file_extension": ".py",
   "mimetype": "text/x-python",
   "name": "python",
   "nbconvert_exporter": "python",
   "pygments_lexer": "ipython3",
   "version": "3.10.8"
  },
  "orig_nbformat": 4
 },
 "nbformat": 4,
 "nbformat_minor": 2
}
