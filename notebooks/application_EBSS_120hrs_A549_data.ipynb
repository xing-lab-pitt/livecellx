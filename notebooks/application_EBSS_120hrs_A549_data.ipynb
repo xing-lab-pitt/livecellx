{
 "cells": [
  {
   "cell_type": "markdown",
   "metadata": {},
   "source": [
    "# Create Napari UI for editing SingleCellTrajectoryCollection (SCTC)"
   ]
  },
  {
   "cell_type": "markdown",
   "metadata": {},
   "source": [
    "### Loading sample data and create a sample trajectory collection"
   ]
  },
  {
   "cell_type": "code",
   "execution_count": null,
   "metadata": {},
   "outputs": [],
   "source": [
    "from pathlib import Path\n",
    "from livecellx.sample_data import tutorial_three_image_sys\n",
    "\n",
    "from livecellx.core.io_sc import prep_scs_from_mask_dataset\n",
    "\n",
    "from livecellx.core.single_cell import (\n",
    "    SingleCellStatic,\n",
    "    SingleCellTrajectory,\n",
    "    SingleCellTrajectoryCollection,\n",
    ")\n",
    "\n",
    "\n",
    "# scs_path = r\"D:\\LiveCellTracker-dev\\notebooks\\application_results\\5days_notreat_XY03_max_age=3_min_hits=1\\5days_notreat_XY03_max_age=3_min_hits=1.json\"\n",
    "scs_path = (\n",
    "    Path(\n",
    "        r\"D:\\LiveCellTracker-dev\\notebooks\\application_results\\Gaohan_5days_notreat\\pos_scs\"\n",
    "    )\n",
    "    / \"XY03_scs.json\"\n",
    ")\n",
    "scs_path = scs_path.as_posix()\n",
    "scs = SingleCellStatic.load_single_cells_json(scs_path)\n",
    "# sctc = SingleCellTrajectoryCollection.load_from_json_file(scs_path)\n",
    "\n",
    "# single_cells = prep_scs_from_mask_dataset(mask_dataset, dic_dataset)"
   ]
  },
  {
   "cell_type": "code",
   "execution_count": null,
   "metadata": {},
   "outputs": [],
   "source": [
    "len(scs)"
   ]
  },
  {
   "cell_type": "code",
   "execution_count": null,
   "metadata": {},
   "outputs": [],
   "source": [
    "from typing import List\n",
    "from livecellx.track.sort_tracker_utils import (\n",
    "    gen_SORT_detections_input_from_contours,\n",
    "    update_traj_collection_by_SORT_tracker_detection,\n",
    "    track_SORT_bbox_from_contours,\n",
    "    track_SORT_bbox_from_scs,\n",
    ")\n",
    "\n",
    "\n",
    "dic_dataset = scs[0].img_dataset\n",
    "mask_dataset = scs[0].mask_dataset\n",
    "\n",
    "traj_collection = track_SORT_bbox_from_scs(\n",
    "    scs, dic_dataset, mask_dataset=None, max_age=5, min_hits=1\n",
    ")\n",
    "# traj_collection = track_SORT_bbox_from_scs(single_cells, dic_dataset, mask_dataset=mask_dataset, max_age=0, min_hits=1)"
   ]
  },
  {
   "cell_type": "markdown",
   "metadata": {},
   "source": [
    "### Call livecellx.core.sct_operator.create_sctc_edit_viewer_by_interval to create the interface\n",
    "If key does not work after you click the slice bar at the bottom, please click the canvas (middle) and try again."
   ]
  },
  {
   "cell_type": "code",
   "execution_count": null,
   "metadata": {},
   "outputs": [],
   "source": [
    "traj_collection.remove_empty_sct()"
   ]
  },
  {
   "cell_type": "code",
   "execution_count": null,
   "metadata": {},
   "outputs": [],
   "source": [
    "len(traj_collection)"
   ]
  },
  {
   "cell_type": "code",
   "execution_count": null,
   "metadata": {},
   "outputs": [],
   "source": [
    "import tqdm \n",
    "dic_dataset.max_cache_size = 1500\n",
    "for time in tqdm.tqdm(dic_dataset.times):\n",
    "    dic_dataset.get_img_by_time(time)\n",
    "    "
   ]
  },
  {
   "cell_type": "code",
   "execution_count": null,
   "metadata": {},
   "outputs": [],
   "source": [
    "traj_collection.remove_empty_sct()\n",
    "len(traj_collection)"
   ]
  },
  {
   "cell_type": "code",
   "execution_count": null,
   "metadata": {},
   "outputs": [],
   "source": [
    "from livecellx.core.sct_operator import (\n",
    "    create_scs_edit_viewer,\n",
    "    SctOperator,\n",
    "    create_scs_edit_viewer_by_interval,\n",
    "    _get_viewer_sct_operator,\n",
    "    create_sctc_edit_viewer_by_interval,\n",
    ")\n",
    "import livecellx\n",
    "import importlib\n",
    "\n",
    "importlib.reload(livecellx.core.single_cell)\n",
    "importlib.reload(livecellx.core.sct_operator)\n",
    "importlib.reload(livecellx.core.sc_seg_operator)\n",
    "importlib.reload(livecellx.core.napari_visualizer)\n",
    "\n",
    "# sct_opeartor = livecellx.core.sct_operator.create_sctc_edit_viewer_by_interval(traj_collection, img_dataset=dic_dataset, span_interval=3)\n",
    "\n",
    "sct_opeartor = livecellx.core.sct_operator.create_sctc_edit_viewer_by_interval(\n",
    "    traj_collection, img_dataset=dic_dataset, span_interval=200, contour_sample_num=15\n",
    ")\n",
    "# sct_opeartor = livecellx.core.sct_operator.create_sctc_edit_viewer_by_interval(traj_collection, img_dataset=dic_dataset, span_interval=3, contour_sample_num=100, viewer=sct_operator.viewer)"
   ]
  },
  {
   "cell_type": "code",
   "execution_count": null,
   "metadata": {},
   "outputs": [],
   "source": [
    "sct_opeartor.meta[\"_contour_sample_num\"] = 20\n",
    "sct_opeartor.meta[\"_span_interval\"] = 1000"
   ]
  },
  {
   "cell_type": "code",
   "execution_count": null,
   "metadata": {},
   "outputs": [],
   "source": [
    "sct_opeartor.traj_collection.write_json(\n",
    "    \"./application_results/Gaohan_5days_notreat/XY03_sctc.json\",\n",
    "    dataset_json_dir=\"./application_results/Gaohan_5days_notreat/sctc_datasets\",\n",
    ")"
   ]
  },
  {
   "cell_type": "code",
   "execution_count": null,
   "metadata": {},
   "outputs": [],
   "source": [
    "# import livecellx\n",
    "# importlib.reload(livecellx.core.single_cell)\n",
    "# _test_load_sctc = livecellx.core.single_cell.SingleCellTrajectoryCollection.load_from_json_file(\n",
    "#     \"./application_results/Gaohan_5days_notreat/XY03_sctc.json\",\n",
    "#     parallel=False\n",
    "# )"
   ]
  },
  {
   "cell_type": "code",
   "execution_count": null,
   "metadata": {},
   "outputs": [],
   "source": [
    "import pytorch_lightning as pl\n",
    "pl.__version__"
   ]
  },
  {
   "cell_type": "code",
   "execution_count": null,
   "metadata": {},
   "outputs": [],
   "source": [
    "from livecellx.core.sc_seg_operator import ScSegOperator\n",
    "\n",
    "ckpt_path = r\"D:\\LiveCellTracker-dev\\notebooks\\notebook_results\\csn_models\\v11-01_epoch=90_test_loss=0.0240-best.ckpt\"\n",
    "ScSegOperator.load_default_csn_model(path=ckpt_path, cuda=True)"
   ]
  },
  {
   "cell_type": "code",
   "execution_count": null,
   "metadata": {},
   "outputs": [],
   "source": [
    "sc_seg_operator = sct_opeartor.sc_operators[0]\n",
    "sc_seg_operator.correct_segment(\n",
    "    model=ScSegOperator.DEFAULT_CSN_MODEL,\n",
    "    create_ou_input_kwargs={\n",
    "            \"padding_pixels\": 50,\n",
    "            \"dtype\": float,\n",
    "            \"remove_bg\": False,\n",
    "            \"one_object\": True,\n",
    "            \"scale\": 0,\n",
    "        },)\n",
    "sc_seg_operator.csn_correct_seg_callback()"
   ]
  },
  {
   "cell_type": "markdown",
   "metadata": {},
   "source": [
    "Test loading speed of Napari shapes layer, skip if not relevant to your research."
   ]
  },
  {
   "cell_type": "code",
   "execution_count": null,
   "metadata": {},
   "outputs": [],
   "source": [
    "from livecellx.core.napari_visualizer import NapariVisualizer\n",
    "from livecellx.core.single_cell import filter_sctc_by_time_span\n",
    "import numpy as np\n",
    "\n",
    "trajectories = sct_opeartor.traj_collection\n",
    "trajectories = filter_sctc_by_time_span(trajectories, (0, 10))\n",
    "all_shapes = []\n",
    "track_ids = []\n",
    "all_scs = []\n",
    "all_status = []\n",
    "bbox = None\n",
    "contour_sample_num = 50\n",
    "for track_id, traj in tqdm.tqdm(trajectories):\n",
    "    traj_shapes, scs = traj.get_scs_napari_shapes(\n",
    "        bbox=bbox, contour_sample_num=contour_sample_num, return_scs=True\n",
    "    )\n",
    "    # traj_shapes = [np.array(shape) for shape in traj_shapes]\n",
    "    all_shapes.extend(traj_shapes)\n",
    "    track_ids.extend([int(track_id)] * len(traj_shapes))\n",
    "    all_scs.extend(scs)\n",
    "    all_status.extend([\"\"] * len(traj_shapes))\n",
    "\n",
    "import napari\n",
    "viewer  = napari.Viewer()\n",
    "shape_layer = viewer.add_shapes(\n",
    "    all_shapes,\n",
    "    face_colormap=\"viridis\",\n",
    "    shape_type=\"polygon\",\n",
    "    name=\"trajectories\",\n",
    ")"
   ]
  },
  {
   "cell_type": "code",
   "execution_count": null,
   "metadata": {},
   "outputs": [],
   "source": [
    "len(all_shapes)"
   ]
  },
  {
   "cell_type": "markdown",
   "metadata": {},
   "source": [
    "### Programmatically create CSN inputs and predict with CSN models"
   ]
  },
  {
   "cell_type": "code",
   "execution_count": null,
   "metadata": {},
   "outputs": [],
   "source": [
    "from livecellx.segment.ou_utils import create_ou_input_from_sc\n",
    "from livecellx.model_zoo.segmentation.eval_csn import viz_sample_v3\n",
    "import torch\n",
    "from torchvision import transforms\n",
    "\n",
    "\n",
    "sc = sc_seg_operator.sc\n",
    "ou_input = create_ou_input_from_sc(sc, **{\n",
    "            \"padding_pixels\": 100,\n",
    "            \"dtype\": float,\n",
    "            \"remove_bg\": False,\n",
    "            \"one_object\": True,\n",
    "            \"scale\": 0,\n",
    "        })\n",
    "# ou_input = create_ou_input_from_sc(self.sc, **create_ou_input_kwargs)\n",
    "original_shape = ou_input.shape\n",
    "input_transforms = transforms.Compose(\n",
    "    [\n",
    "        transforms.Resize(size=(412, 412)),\n",
    "    ]\n",
    ")\n",
    "ou_input = input_transforms(torch.tensor([ou_input]))\n",
    "ou_input = torch.stack([ou_input, ou_input, ou_input], dim=1)\n",
    "ou_input = ou_input.float()\n",
    "\n",
    "gt_mask = torch.tensor(sc.get_contour_mask(crop=True, padding=50)).float()\n",
    "sample = {\n",
    "    \"input\": ou_input.squeeze(0),\n",
    "    \"gt_mask\": torch.stack([gt_mask, gt_mask, gt_mask], dim=1).squeeze(0),\n",
    "}\n",
    "viz_sample_v3(sample, ScSegOperator.DEFAULT_CSN_MODEL, sc.get_contour_mask())"
   ]
  },
  {
   "cell_type": "markdown",
   "metadata": {},
   "source": [
    "## Pre-check scs and trajectories by IOU"
   ]
  },
  {
   "cell_type": "code",
   "execution_count": null,
   "metadata": {},
   "outputs": [],
   "source": [
    "traj_collection.get_all_track_ids()"
   ]
  },
  {
   "cell_type": "code",
   "execution_count": null,
   "metadata": {},
   "outputs": [],
   "source": [
    "scs_by_time = {}\n",
    "all_scs = traj_collection.get_all_scs()\n",
    "for sc in all_scs:\n",
    "    if sc.timeframe not in scs_by_time:\n",
    "        scs_by_time[sc.timeframe] = []\n",
    "    scs_by_time[sc.timeframe].append(sc)"
   ]
  },
  {
   "cell_type": "code",
   "execution_count": null,
   "metadata": {},
   "outputs": [],
   "source": [
    "all_trajs = traj_collection.get_all_trajectories()\n",
    "for traj in tqdm.tqdm(all_trajs):\n",
    "    times = traj.timeframe_to_single_cell.keys()\n",
    "    times = sorted(times)\n",
    "    for i in tqdm.tqdm(range(len(times) - 1)):\n",
    "        sc = traj.timeframe_to_single_cell[times[i]]\n",
    "        next_sc = traj.timeframe_to_single_cell[times[i + 1]]\n",
    "        sc.uns[\"next_sc\"] = next_sc\n",
    "        sc.uns[\"nxt_sc_iou\"] = sc.compute_iou(next_sc)\n",
    "        next_sc.uns[\"prev_sc\"] = sc\n"
   ]
  },
  {
   "cell_type": "code",
   "execution_count": null,
   "metadata": {},
   "outputs": [],
   "source": [
    "len(all_trajs)"
   ]
  },
  {
   "cell_type": "code",
   "execution_count": null,
   "metadata": {},
   "outputs": [],
   "source": [
    "times = sorted(scs_by_time.keys())\n",
    "\n",
    "def _iou_compute_wrapper(cur_scs, next_scs, cur_time, next_time):\n",
    "    for sc in tqdm.tqdm(cur_scs):\n",
    "        sc.uns[\"iou_map\"] = {}\n",
    "        for next_sc in next_scs:\n",
    "            iou = sc.compute_iou(next_sc)\n",
    "            sc.uns[\"iou_map\"][next_sc.id] = iou\n",
    "    return cur_scs, cur_time, next_time\n",
    "\n",
    "\n",
    "# for time in tqdm.tqdm(range(len(times) - 1)):\n",
    "#     cur_scs = scs_by_time[times[time]]\n",
    "#     next_scs = scs_by_time[times[time + 1]]\n",
    "#     for sc in tqdm.tqdm(cur_scs):\n",
    "#         sc.uns[\"iou_map\"] = {}\n",
    "#         for next_sc in next_scs:\n",
    "#             iou = sc.compute_iou(next_sc)\n",
    "#             sc.uns[\"iou_map\"][next_sc.id] = iou\n",
    "\n",
    "iou_parallel_inputs = []\n",
    "for time in tqdm.tqdm(range(len(times) - 1)):\n",
    "    cur_scs = scs_by_time[times[time]]\n",
    "    next_scs = scs_by_time[times[time + 1]]\n",
    "    iou_parallel_inputs.append((cur_scs, next_scs, times[time], times[time + 1]))\n",
    "\n",
    "from livecellx.core.parallel import parallelize\n",
    "outputs = parallelize(_iou_compute_wrapper, iou_parallel_inputs, cores=16)\n",
    "\n",
    "for output in tqdm.tqdm(outputs):\n",
    "    cur_scs, cur_time, next_time = output\n",
    "    for sc in cur_scs:\n",
    "        scs_by_time[cur_time] = cur_scs\n"
   ]
  },
  {
   "cell_type": "code",
   "execution_count": null,
   "metadata": {},
   "outputs": [],
   "source": [
    "SingleCellStatic.write_single_cells_json(all_scs, \"./application_results/Gaohan_5days_notreat/XY03_scs_iou.json\")"
   ]
  }
 ],
 "metadata": {
  "kernelspec": {
   "display_name": "livecell-work",
   "language": "python",
   "name": "python3"
  },
  "language_info": {
   "codemirror_mode": {
    "name": "ipython",
    "version": 3
   },
   "file_extension": ".py",
   "mimetype": "text/x-python",
   "name": "python",
   "nbconvert_exporter": "python",
   "pygments_lexer": "ipython3",
   "version": "3.9.16"
  }
 },
 "nbformat": 4,
 "nbformat_minor": 2
}
