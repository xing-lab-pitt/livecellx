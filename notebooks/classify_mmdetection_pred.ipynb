{
 "cells": [
  {
   "cell_type": "markdown",
   "metadata": {},
   "source": [
    "read single cell object data"
   ]
  },
  {
   "cell_type": "code",
   "execution_count": null,
   "metadata": {},
   "outputs": [],
   "source": [
    "import json\n",
    "from livecell_tracker.core.single_cell import SingleCellTrajectoryCollection, SingleCellStatic\n",
    "from livecell_tracker.track.sort_tracker_utils import (\n",
    "    track_SORT_bbox_from_scs\n",
    ")\n",
    "\n",
    "all_scs_json_path = \"./datasets/test_scs_EBSS_starvation/tmp_corrected_scs.json\"\n",
    "all_scs = SingleCellStatic.load_single_cells_json(all_scs_json_path)\n",
    "sctc = track_SORT_bbox_from_scs(all_scs, raw_imgs=all_scs[0].img_dataset, min_hits=3, max_age=3)"
   ]
  },
  {
   "cell_type": "markdown",
   "metadata": {},
   "source": [
    "read trained an MMAction model\n"
   ]
  },
  {
   "cell_type": "code",
   "execution_count": null,
   "metadata": {},
   "outputs": [],
   "source": [
    "import torch\n",
    "\n",
    "path = r\"D:\\LiveCellTracker-dev\\notebooks\\scripts\\mmdetection_classify\\work_dirs\\tsn_imagenet-pretrained-r50_8xb32-1x1x3-100e_kinetics400-rgb-v3\\epoch_4758.pth\"\n",
    "model = torch.load(path)"
   ]
  },
  {
   "cell_type": "code",
   "execution_count": null,
   "metadata": {},
   "outputs": [],
   "source": [
    "from mmengine.config import Config, DictAction\n",
    "from mmaction.registry import MODELS\n",
    "config_file = r\"D:\\LiveCellTracker-dev\\notebooks\\scripts\\mmdetection_classify\\tsn_imagenet-pretrained-r50_8xb32-1x1x3-100e_kinetics400-rgb.py\"\n",
    "checkpoint_file = r\"D:\\LiveCellTracker-dev\\notebooks\\scripts\\mmdetection_classify\\work_dirs\\tsn_imagenet-pretrained-r50_8xb32-1x1x3-100e_kinetics400-rgb-v3\\epoch_4758.pth\"\n",
    "cfg = Config.fromfile(config_file)"
   ]
  },
  {
   "cell_type": "code",
   "execution_count": null,
   "metadata": {},
   "outputs": [],
   "source": [
    "# model = MODELS.build()\n",
    "import mmcv\n",
    "from mmaction.apis import init_recognizer, inference_recognizer\n",
    "model = init_recognizer(config_file, checkpoint_file, device='cuda:0')"
   ]
  },
  {
   "cell_type": "code",
   "execution_count": null,
   "metadata": {},
   "outputs": [],
   "source": [
    "from mmcv.video.io import VideoReader\n",
    "import tempfile\n",
    "import numpy as np"
   ]
  },
  {
   "cell_type": "code",
   "execution_count": null,
   "metadata": {},
   "outputs": [],
   "source": [
    "from livecell_tracker.track.classify_utils import video_frames_and_masks_from_sample, combine_video_frames_and_masks"
   ]
  },
  {
   "cell_type": "code",
   "execution_count": null,
   "metadata": {},
   "outputs": [],
   "source": [
    "sample = sctc.get_all_trajectories()[10].get_all_scs()\n",
    "\n",
    "print(\"length of sample:\", len(sample))\n",
    "frames, frame_masks = video_frames_and_masks_from_sample(sample)\n"
   ]
  },
  {
   "cell_type": "code",
   "execution_count": null,
   "metadata": {},
   "outputs": [],
   "source": [
    "combined_frames = combine_video_frames_and_masks(frames, frame_masks)\n",
    "sct_input_frames = [np.array(frame) for frame in combined_frames]"
   ]
  },
  {
   "cell_type": "code",
   "execution_count": null,
   "metadata": {},
   "outputs": [],
   "source": [
    "import cv2\n",
    "import os\n",
    "import uuid\n",
    "# video = r\"D:\\LiveCellTracker-dev\\notebooks\\notebook_results\\mmaction_train_data\\videos\\mitosis_1_mask.mp4\"\n",
    "# video = r\"D:\\LiveCellTracker-dev\\notebooks\\notebook_results\\mmaction_train_data\\videos\\normal_6.mp4\"\n",
    "\n",
    "tmp_id = uuid.uuid4()\n",
    "fps = 1\n",
    "tmp_dir = \"./tmp_video\"\n",
    "os.makedirs(tmp_dir, exist_ok=True)\n",
    "filename = os.path.join(tmp_dir, f\"tmp-{tmp_id}.mp4\")\n",
    "input_frames = sct_input_frames[10:30]\n",
    "with open(filename, \"wb+\") as tmp_video_file:\n",
    "    # mmcv.frames2video(frames, tmp_video_file.name, fps=1)\n",
    "    fourcc = cv2.VideoWriter_fourcc(*'mp4v')\n",
    "    # Create a VideoWriter object to write the frames to the output file\n",
    "    height, width, channels = input_frames[0].shape\n",
    "    video_writer = cv2.VideoWriter(tmp_video_file.name, fourcc, fps, (width, height))\n",
    "\n",
    "    # Write the frames to the output file\n",
    "    for frame in input_frames:\n",
    "        video_writer.write(frame)\n",
    "    video_writer.release()\n",
    "    tmp_video_file.flush()\n",
    "    \n",
    "results = inference_recognizer(model, tmp_video_file.name)\n",
    "print(tmp_video_file)\n",
    "results"
   ]
  },
  {
   "cell_type": "code",
   "execution_count": null,
   "metadata": {},
   "outputs": [],
   "source": [
    "results = inference_recognizer(model, r\"D:\\LiveCellTracker-dev\\notebooks\\notebook_results\\mmaction_train_data_v5\\videos\\mitosis_2_combined_padding-40.mp4\")\n",
    "results"
   ]
  },
  {
   "cell_type": "code",
   "execution_count": null,
   "metadata": {},
   "outputs": [],
   "source": [
    "import pandas as pd\n",
    "video_dir = r\"D:\\LiveCellTracker-dev\\notebooks\\notebook_results\\mmaction_train_data_v5\\videos\"\n",
    "\n",
    "mmaction_data_tsv = r\"D:\\LiveCellTracker-dev\\notebooks\\notebook_results\\mmaction_train_data_v5\\test_data_combined.txt\"\n",
    "\n",
    "# df columns are path and label\n",
    "mmaction_data_df = pd.read_csv(mmaction_data_tsv, sep=\" \", header=None)\n",
    "mmaction_data_df.columns = [\"path\", \"label\"]\n",
    "mmaction_data_df[:2]"
   ]
  },
  {
   "cell_type": "code",
   "execution_count": null,
   "metadata": {},
   "outputs": [],
   "source": [
    "results.pred_labels.item.cpu().numpy()[0]"
   ]
  },
  {
   "cell_type": "code",
   "execution_count": null,
   "metadata": {},
   "outputs": [],
   "source": [
    "from tqdm import tqdm\n",
    "# test on all video in the df\n",
    "for i, row in tqdm(mmaction_data_df.iterrows()):\n",
    "    video_path = os.path.join(video_dir, row[\"path\"])\n",
    "    results = inference_recognizer(model, video_path)\n",
    "    predicted_label = results.pred_labels.item.cpu().numpy()[0]\n",
    "    if predicted_label != row[\"label\"]:\n",
    "        print(\"wrong prediction:\", row[\"path\"])\n",
    "    \n",
    "    "
   ]
  }
 ],
 "metadata": {
  "kernelspec": {
   "display_name": "livecell-work",
   "language": "python",
   "name": "python3"
  },
  "language_info": {
   "codemirror_mode": {
    "name": "ipython",
    "version": 3
   },
   "file_extension": ".py",
   "mimetype": "text/x-python",
   "name": "python",
   "nbconvert_exporter": "python",
   "pygments_lexer": "ipython3",
   "version": "3.9.16"
  },
  "orig_nbformat": 4
 },
 "nbformat": 4,
 "nbformat_minor": 2
}
