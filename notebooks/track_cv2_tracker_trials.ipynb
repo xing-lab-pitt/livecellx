{
 "cells": [
  {
   "cell_type": "code",
   "execution_count": 29,
   "metadata": {},
   "outputs": [],
   "source": [
    "import math\n",
    "import os\n",
    "import subprocess\n",
    "import uuid\n",
    "\n",
    "import cv2\n",
    "import cv2 as cv\n",
    "import matplotlib.cm\n",
    "import numpy as np\n",
    "import PIL\n",
    "import scipy\n",
    "import skimage\n",
    "import skimage.segmentation\n",
    "import sklearn\n",
    "from matplotlib import pyplot as plt\n",
    "from scipy import ndimage as ndi\n",
    "from skimage import feature, measure\n",
    "from skimage.feature import blob_dog, blob_doh, blob_log\n",
    "from skimage.filters import threshold_local\n",
    "from sklearn import mixture\n",
    "from sklearn.mixture import GaussianMixture\n",
    "from tqdm import tqdm"
   ]
  },
  {
   "cell_type": "markdown",
   "metadata": {},
   "source": [
    "## Set up dataset"
   ]
  },
  {
   "cell_type": "code",
   "execution_count": 2,
   "metadata": {},
   "outputs": [
    {
     "name": "stdout",
     "output_type": "stream",
     "text": [
      "576 png img file paths loaded: \n",
      "576 png img file paths loaded: \n"
     ]
    }
   ],
   "source": [
    "from pathlib import Path\n",
    "import cv2\n",
    "import sys\n",
    "import numpy as np\n",
    "from skimage import feature, measure\n",
    "import livecell_tracker\n",
    "from livecell_tracker.segment import datasets\n",
    "import livecell_tracker.segment\n",
    "from livecell_tracker import segment\n",
    "\n",
    "seg_path = r\"\"\"D:/xing-vimentin-dic-pipeline/src/livecell_dev/notebooks/segmentation_results/detectron_model3/restart_day0_Group 1_wellA1_RI_MIP_stitched\"\"\"\n",
    "label_seg_imgs = core.datasets.LiveCellImageDataset(seg_path, ext=\"png\")\n",
    "dir_path = Path(\n",
    "    r\"D:/xing-vimentin-dic-pipeline/src/livecell_dev/cxa-data/june_2022_data_8bit_png/restart_day2_Group 1_wellA1_RI_MIP_stitched\"\n",
    ")\n",
    "raw_imgs = core.datasets.LiveCellImageDataset(dir_path, ext=\"png\")"
   ]
  },
  {
   "cell_type": "code",
   "execution_count": 3,
   "metadata": {},
   "outputs": [
    {
     "data": {
      "text/plain": [
       "(array([   3847,    3868,    3869, ..., 4897017, 4897018, 4897019],\n",
       "       dtype=int64),)"
      ]
     },
     "execution_count": 3,
     "metadata": {},
     "output_type": "execute_result"
    }
   ],
   "source": [
    "np.where(label_seg_imgs[0].flatten() > 1) # check if it is a binary mask?"
   ]
  },
  {
   "cell_type": "code",
   "execution_count": 4,
   "metadata": {},
   "outputs": [
    {
     "data": {
      "text/plain": [
       "28"
      ]
     },
     "execution_count": 4,
     "metadata": {},
     "output_type": "execute_result"
    }
   ],
   "source": [
    "len(set(label_seg_imgs[0].flatten()))"
   ]
  },
  {
   "cell_type": "code",
   "execution_count": 5,
   "metadata": {},
   "outputs": [],
   "source": [
    "regions = measure.regionprops(label_seg_imgs[0])"
   ]
  },
  {
   "cell_type": "code",
   "execution_count": 6,
   "metadata": {},
   "outputs": [
    {
     "data": {
      "text/plain": [
       "27"
      ]
     },
     "execution_count": 6,
     "metadata": {},
     "output_type": "execute_result"
    }
   ],
   "source": [
    "len(regions)"
   ]
  },
  {
   "cell_type": "code",
   "execution_count": 7,
   "metadata": {},
   "outputs": [
    {
     "data": {
      "text/plain": [
       "(152, 190, 359, 445)"
      ]
     },
     "execution_count": 7,
     "metadata": {},
     "output_type": "execute_result"
    }
   ],
   "source": [
    "regions[0].bbox"
   ]
  },
  {
   "cell_type": "code",
   "execution_count": 8,
   "metadata": {},
   "outputs": [],
   "source": [
    "trackerTypes = ['BOOSTING', 'MIL', 'KCF','TLD', 'MEDIANFLOW', 'GOTURN', 'MOSSE', 'CSRT']\n",
    "def createTrackerByName(trackerType):\n",
    "  \"\"\"adapted from https://learnopencv.com/multitracker-multiple-object-tracking-using-opencv-c-python/\"\"\"\n",
    "  # Create a tracker based on tracker name\n",
    "  if trackerType == trackerTypes[0]:\n",
    "    tracker = cv2.legacy.TrackerBoosting_create()\n",
    "  elif trackerType == trackerTypes[1]:\n",
    "    tracker = cv2.TrackerMIL_create()\n",
    "  elif trackerType == trackerTypes[2]:\n",
    "    tracker = cv2.TrackerKCF_create()\n",
    "  elif trackerType == trackerTypes[3]:\n",
    "    tracker = cv2.TrackerTLD_create()\n",
    "  elif trackerType == trackerTypes[4]:\n",
    "    tracker = cv2.TrackerMedianFlow_create()\n",
    "  elif trackerType == trackerTypes[5]:\n",
    "    tracker = cv2.TrackerGOTURN_create()\n",
    "  elif trackerType == trackerTypes[6]:\n",
    "    tracker = cv2.TrackerMOSSE_create()\n",
    "  elif trackerType == trackerTypes[7]:\n",
    "    tracker = cv2.TrackerCSRT_create()\n",
    "  else:\n",
    "    tracker = None\n",
    "    print('Incorrect tracker name')\n",
    "    print('Available trackers are:')\n",
    "    for t in trackerTypes:\n",
    "      print(t)\n",
    "\n",
    "  return tracker\n",
    "  \n",
    "def get_bbox_from_regionprops_skimge(regions):\n",
    "    \"\"\"Get bounding box from regionprops.\n",
    "    \n",
    "    Parameters\n",
    "    ----------\n",
    "    regions : list of skimage.measure._regionprops._RegionProperties\n",
    "        List of region properties.\n",
    "    \n",
    "    Returns\n",
    "    -------\n",
    "    list of tuple\n",
    "        List of bounding boxes.\n",
    "    \"\"\"\n",
    "    return [region.bbox for region in regions]\n",
    "\n",
    "def bbox_skimage_to_cv2_order(bboxes):\n",
    "    \"\"\"Convert bounding box from skimage order to cv2 order.\n",
    "    \n",
    "    Parameters\n",
    "    ----------\n",
    "    bboxes : list of tuple\n",
    "        List of bounding boxes.\n",
    "    \n",
    "    Returns\n",
    "    -------\n",
    "    list of tuple\n",
    "        List of bounding boxes.\n",
    "    \"\"\"\n",
    "    return [(bbox[0], bbox[1], bbox[2] - bbox[0], bbox[3] - bbox[1]) for bbox in bboxes]\n",
    "\n",
    "def gray_img_to_rgb(img):\n",
    "    \"\"\"Convert gray image to rgb image.\n",
    "    \n",
    "    Parameters\n",
    "    ----------\n",
    "    img : np.ndarray\n",
    "        Gray image.\n",
    "    \n",
    "    Returns\n",
    "    -------\n",
    "    np.ndarray\n",
    "        RGB image.\n",
    "    \"\"\"\n",
    "    return cv2.cvtColor(img, cv2.COLOR_GRAY2RGB)\n",
    "\n",
    "def get_cv2_bbox(label_mask: np.array):\n",
    "  \"\"\"generate cv2 style bounding box from label mask\n",
    "\n",
    "  Parameters\n",
    "  ----------\n",
    "  label_mask :\n",
    "    label mask: W x H np array with each pixel value indicating the label of objects (index 1, 2, 3, ...). Note that labels are not required to be consecutive.. \n",
    "\n",
    "  Returns\n",
    "  -------\n",
    "  _type_\n",
    "      _description_\n",
    "  \"\"\"\n",
    "  regions = measure.regionprops(label_mask)\n",
    "  bboxes = get_bbox_from_regionprops_skimge(regions)\n",
    "  bboxes_cv2 = bbox_skimage_to_cv2_order(bboxes)\n",
    "  return bboxes_cv2"
   ]
  },
  {
   "cell_type": "code",
   "execution_count": 9,
   "metadata": {},
   "outputs": [
    {
     "data": {
      "text/plain": [
       "'4.6.0'"
      ]
     },
     "execution_count": 9,
     "metadata": {},
     "output_type": "execute_result"
    }
   ],
   "source": [
    "cv2.__version__"
   ]
  },
  {
   "cell_type": "code",
   "execution_count": 10,
   "metadata": {},
   "outputs": [],
   "source": [
    "(major_ver, minor_ver, subminor_ver) = (cv2.__version__).split('.')\n",
    "\n",
    "# Specify the tracker type\n",
    "# trackerType = \"CSRT\"    \n",
    "trackerType = \"BOOSTING\"\n",
    "\n",
    "# Create MultiTracker object\n",
    "multiTracker = cv2.legacy.MultiTracker()\n",
    "\n",
    "\n",
    "bboxes_cv2 = get_cv2_bbox(label_seg_imgs[0])\n",
    "\n",
    "# Initialize MultiTracker\n",
    "# if we do not use 3 channel image, c++ opencv will compain about it.\n",
    "# https://github.com/GuiltyNeuron/ANPR/issues/3\n",
    "rgb_init_img = gray_img_to_rgb(raw_imgs[0]) # np.repeat(raw_imgs[0][:, :, np.newaxis], 3, axis=2)\n",
    "\n",
    "# initialize the tracker with first frame's bounding boxes\n",
    "for bbox in bboxes_cv2:\n",
    "  multiTracker.add(createTrackerByName(trackerType), rgb_init_img, bbox)\n"
   ]
  },
  {
   "cell_type": "code",
   "execution_count": 11,
   "metadata": {},
   "outputs": [
    {
     "data": {
      "text/plain": [
       "(27, 4)"
      ]
     },
     "execution_count": 11,
     "metadata": {},
     "output_type": "execute_result"
    }
   ],
   "source": [
    "multiTracker.getObjects().shape"
   ]
  },
  {
   "cell_type": "code",
   "execution_count": 12,
   "metadata": {},
   "outputs": [
    {
     "data": {
      "text/plain": [
       "array([[ 152.,  190.,  207.,  255.],\n",
       "       [1297., 1159.,  274.,  322.]])"
      ]
     },
     "execution_count": 12,
     "metadata": {},
     "output_type": "execute_result"
    }
   ],
   "source": [
    "multiTracker.getObjects()[:2]"
   ]
  },
  {
   "cell_type": "code",
   "execution_count": 13,
   "metadata": {},
   "outputs": [],
   "source": [
    "multiTracker.update(gray_img_to_rgb(raw_imgs[1]));"
   ]
  },
  {
   "cell_type": "code",
   "execution_count": 14,
   "metadata": {},
   "outputs": [
    {
     "data": {
      "text/plain": [
       "array([[ 151.,  178.,  207.,  255.],\n",
       "       [1301., 1159.,  274.,  322.]])"
      ]
     },
     "execution_count": 14,
     "metadata": {},
     "output_type": "execute_result"
    }
   ],
   "source": [
    "multiTracker.getObjects()[:2]"
   ]
  },
  {
   "cell_type": "code",
   "execution_count": 16,
   "metadata": {},
   "outputs": [
    {
     "data": {
      "text/plain": [
       "array([[1.510e+02, 1.780e+02, 2.070e+02, 2.550e+02],\n",
       "       [1.301e+03, 1.159e+03, 2.740e+02, 3.220e+02],\n",
       "       [0.000e+00, 1.386e+03, 2.320e+02, 1.520e+02],\n",
       "       [1.792e+03, 1.254e+03, 2.260e+02, 2.240e+02],\n",
       "       [3.580e+02, 1.800e+02, 2.340e+02, 2.330e+02],\n",
       "       [6.500e+01, 4.270e+02, 5.380e+02, 2.700e+02],\n",
       "       [1.802e+03, 1.491e+03, 2.510e+02, 8.000e+01],\n",
       "       [7.810e+02, 2.232e+03, 4.100e+01, 1.500e+01],\n",
       "       [9.870e+02, 2.289e+03, 1.520e+02, 1.200e+02],\n",
       "       [1.735e+03, 1.573e+03, 2.560e+02, 1.190e+02],\n",
       "       [1.070e+02, 1.305e+03, 2.190e+02, 1.020e+02],\n",
       "       [1.006e+03, 2.324e+03, 9.000e+01, 6.400e+01],\n",
       "       [7.610e+02, 2.237e+03, 2.270e+02, 1.410e+02],\n",
       "       [7.000e+00, 1.235e+03, 1.080e+02, 7.000e+01],\n",
       "       [2.550e+02, 4.630e+02, 8.000e+01, 6.400e+01],\n",
       "       [1.500e+01, 1.233e+03, 2.890e+02, 1.660e+02],\n",
       "       [1.858e+03, 1.349e+03, 5.400e+01, 5.000e+01],\n",
       "       [5.900e+01, 1.390e+03, 7.600e+01, 5.900e+01],\n",
       "       [5.900e+01, 1.262e+03, 8.800e+01, 6.300e+01],\n",
       "       [2.880e+02, 2.690e+02, 5.700e+01, 8.800e+01],\n",
       "       [1.470e+02, 1.334e+03, 8.700e+01, 5.800e+01],\n",
       "       [1.847e+03, 1.599e+03, 7.700e+01, 2.900e+01],\n",
       "       [1.390e+03, 1.279e+03, 5.500e+01, 4.500e+01],\n",
       "       [1.396e+03, 1.309e+03, 6.000e+01, 5.300e+01],\n",
       "       [3.650e+02, 2.710e+02, 8.700e+01, 1.160e+02],\n",
       "       [7.500e+02, 2.112e+03, 1.800e+02, 1.500e+02],\n",
       "       [1.000e+00, 1.394e+03, 6.600e+01, 1.850e+02]])"
      ]
     },
     "execution_count": 16,
     "metadata": {},
     "output_type": "execute_result"
    }
   ],
   "source": [
    "multiTracker.getObjects()"
   ]
  },
  {
   "cell_type": "code",
   "execution_count": 33,
   "metadata": {},
   "outputs": [
    {
     "data": {
      "text/plain": [
       "array([[ 222.,  154.,  207.,  255.],\n",
       "       [1303., 1162.,  274.,  322.]])"
      ]
     },
     "execution_count": 33,
     "metadata": {},
     "output_type": "execute_result"
    }
   ],
   "source": [
    "multiTracker.getObjects()[:2]"
   ]
  },
  {
   "cell_type": "code",
   "execution_count": 34,
   "metadata": {},
   "outputs": [],
   "source": [
    "multiTracker.update(gray_img_to_rgb(np.zeros(raw_imgs[0].shape, dtype=np.uint8)));"
   ]
  },
  {
   "cell_type": "code",
   "execution_count": 36,
   "metadata": {},
   "outputs": [
    {
     "data": {
      "text/plain": [
       "array([[ 139.,   52.,  207.,  255.],\n",
       "       [1193., 1033.,  274.,  322.]])"
      ]
     },
     "execution_count": 36,
     "metadata": {},
     "output_type": "execute_result"
    }
   ],
   "source": [
    "multiTracker.getObjects()[:2]"
   ]
  },
  {
   "cell_type": "code",
   "execution_count": 38,
   "metadata": {},
   "outputs": [
    {
     "name": "stderr",
     "output_type": "stream",
     "text": [
      "  0%|          | 0/576 [00:01<?, ?it/s]\n"
     ]
    }
   ],
   "source": [
    "from livecell_tracker.core import SingleCellStatic, SingleCellTrajectory\n",
    "rgb_init_img = gray_img_to_rgb(raw_imgs[0]) # np.repeat(raw_imgs[0][:, :, np.newaxis], 3, axis=2)\n",
    "# Create MultiTracker object\n",
    "multiTracker = cv2.legacy.MultiTracker()\n",
    "\n",
    "# initialize the tracker with first frame's bounding boxes\n",
    "for bbox in bboxes_cv2:\n",
    "  multiTracker.add(createTrackerByName(trackerType), rgb_init_img, bbox)\n",
    "\n",
    "trajectories = []\n",
    "_bboxes_cv2_init = multiTracker.getObjects()\n",
    "for i, obj in enumerate(_bboxes_cv2_init):\n",
    "    single_cell_trajectory = SingleCellTrajectory(raw_imgs)\n",
    "    trajectories.append(single_cell_trajectory)\n",
    "\n",
    "\n",
    "for idx in tqdm(range(len(raw_imgs))):\n",
    "    img = raw_imgs[idx]\n",
    "    label_mask = label_seg_imgs[idx]\n",
    "    bboxes_cv2_current = get_cv2_bbox(label_mask)\n",
    "    multiTracker.update(gray_img_to_rgb(img))\n",
    "    \n",
    "    tracked_bboxes_cv2 = multiTracker.getObjects()\n",
    "    for i, obj in enumerate(tracked_bboxes_cv2):\n",
    "        single_cell_trajectory = SingleCellTrajectory(raw_imgs)\n",
    "        trajectories.append(single_cell_trajectory)\n",
    "    SingleCellStatic(obj, timeframe=idx, regionprops=regions[i], img_dataset=raw_imgs)\n",
    "    tracked_bboxes = multiTracker.getObjects()\n",
    "    break # for test"
   ]
  }
 ],
 "metadata": {
  "kernelspec": {
   "display_name": "Python 3.8.13 ('cv-general')",
   "language": "python",
   "name": "python3"
  },
  "language_info": {
   "codemirror_mode": {
    "name": "ipython",
    "version": 3
   },
   "file_extension": ".py",
   "mimetype": "text/x-python",
   "name": "python",
   "nbconvert_exporter": "python",
   "pygments_lexer": "ipython3",
   "version": "3.8.13"
  },
  "orig_nbformat": 4,
  "vscode": {
   "interpreter": {
    "hash": "b5dfbec2055422cee39dc040b31dfffa8b21a342109231ab17bc6ff9949c7133"
   }
  }
 },
 "nbformat": 4,
 "nbformat_minor": 2
}
