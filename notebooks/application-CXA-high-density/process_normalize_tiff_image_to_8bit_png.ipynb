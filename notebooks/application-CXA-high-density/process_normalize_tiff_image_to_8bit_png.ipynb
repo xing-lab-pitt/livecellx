{
 "cells": [
  {
   "cell_type": "code",
   "execution_count": 9,
   "metadata": {},
   "outputs": [
    {
     "name": "stdout",
     "output_type": "stream",
     "text": [
      ">>>> input_path:  ./tif_data/0.25^4_wellF6_RI_MIP_stitched\n",
      ">>>> output_path:  ./png_data/0.25^4_wellF6_RI_MIP_stitched\n",
      "184 tif img file paths loaded: \n",
      "tif_img_dataset:  184\n",
      ">>>> input_path:  ./tif_data/C0.75^4_wellD6_RI_MIP_stitched\n",
      ">>>> output_path:  ./png_data/C0.75^4_wellD6_RI_MIP_stitched\n",
      "184 tif img file paths loaded: \n",
      "tif_img_dataset:  184\n",
      ">>>> input_path:  ./tif_data/C10^4_wellC6_RI_MIP_stitched\n",
      ">>>> output_path:  ./png_data/C10^4_wellC6_RI_MIP_stitched\n",
      "184 tif img file paths loaded: \n",
      "tif_img_dataset:  184\n",
      ">>>> input_path:  ./tif_data/C0.5^4_wellE6_RI_MIP_stitched\n",
      ">>>> output_path:  ./png_data/C0.5^4_wellE6_RI_MIP_stitched\n",
      "184 tif img file paths loaded: \n",
      "tif_img_dataset:  184\n",
      ">>>> input_path:  ./tif_data/C0.75^4_wellD6_FITC_stitched\n",
      ">>>> output_path:  ./png_data/C0.75^4_wellD6_FITC_stitched\n",
      "184 tif img file paths loaded: \n",
      "tif_img_dataset:  184\n",
      ">>>> input_path:  ./tif_data/C10^3_wellC7_RI_MIP_stitched\n",
      ">>>> output_path:  ./png_data/C10^3_wellC7_RI_MIP_stitched\n",
      "184 tif img file paths loaded: \n",
      "tif_img_dataset:  184\n",
      ">>>> input_path:  ./tif_data/C10^4_wellC6_FITC_stitched\n",
      ">>>> output_path:  ./png_data/C10^4_wellC6_FITC_stitched\n",
      "184 tif img file paths loaded: \n",
      "tif_img_dataset:  184\n",
      ">>>> input_path:  ./tif_data/C0.5^4_wellE6_FITC_stitched\n",
      ">>>> output_path:  ./png_data/C0.5^4_wellE6_FITC_stitched\n",
      "184 tif img file paths loaded: \n",
      "tif_img_dataset:  184\n",
      ">>>> input_path:  ./tif_data/C10^3_wellC7_FITC_stitched\n",
      ">>>> output_path:  ./png_data/C10^3_wellC7_FITC_stitched\n",
      "184 tif img file paths loaded: \n",
      "tif_img_dataset:  184\n",
      ">>>> input_path:  ./tif_data/0.25^4_wellF6_FITC_stitched\n",
      ">>>> output_path:  ./png_data/0.25^4_wellF6_FITC_stitched\n",
      "184 tif img file paths loaded: \n",
      "tif_img_dataset:  184\n"
     ]
    }
   ],
   "source": [
    "from PIL import Image, ImageSequence\n",
    "import glob\n",
    "import os\n",
    "import livecell_tracker.core.datasets\n",
    "import livecell_tracker.preprocess\n",
    "import livecell_tracker.preprocess.utils\n",
    "\n",
    "def batch_normalize_tiff_images_to_8bit_pngs(tif_dir_path, output_path):\n",
    "    tif_img_dataset = livecell_tracker.core.datasets.LiveCellImageDataset(dir_path=tif_dir_path, ext=\"tif\")\n",
    "    print(\"tif_img_dataset: \", len(tif_img_dataset))\n",
    "    for idx, img in enumerate(tif_img_dataset):\n",
    "        img = livecell_tracker.preprocess.utils.normalize_img_to_uint8(img)\n",
    "        img = Image.fromarray(img)\n",
    "        img_path = tif_img_dataset.get_img_path(idx)\n",
    "        img = img.convert('L')\n",
    "        img.save(os.path.join(output_path, os.path.basename(img_path).replace(\".tif\", \".png\")))\n",
    "\n",
    "tif_dirs_path = r\"./tif_data\"\n",
    "output_dirs_path = r\"./png_data\"\n",
    "\n",
    "tif_dirs = glob.glob(os.path.join(tif_dirs_path, \"*\"))\n",
    "for tif_dir in tif_dirs:\n",
    "    print(\">>>> input_path: \", tif_dir)\n",
    "    output_dir_path = os.path.join(output_dirs_path, os.path.basename(tif_dir))\n",
    "    print(\">>>> output_path: \", output_dir_path)\n",
    "    os.makedirs(output_dir_path, exist_ok=True)\n",
    "    batch_normalize_tiff_images_to_8bit_pngs(tif_dir, output_dir_path)\n"
   ]
  }
 ],
 "metadata": {
  "kernelspec": {
   "display_name": "Python 3.9.12 ('xing-cv')",
   "language": "python",
   "name": "python3"
  },
  "language_info": {
   "codemirror_mode": {
    "name": "ipython",
    "version": 3
   },
   "file_extension": ".py",
   "mimetype": "text/x-python",
   "name": "python",
   "nbconvert_exporter": "python",
   "pygments_lexer": "ipython3",
   "version": "3.9.12"
  },
  "orig_nbformat": 4,
  "vscode": {
   "interpreter": {
    "hash": "73a99b54321d56819ac214e2bec2265ae371e99f931e60a5d4e2c2e7a45b5580"
   }
  }
 },
 "nbformat": 4,
 "nbformat_minor": 2
}
