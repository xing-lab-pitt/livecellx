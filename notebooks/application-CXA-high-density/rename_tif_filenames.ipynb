{
 "cells": [
  {
   "cell_type": "code",
   "execution_count": 9,
   "metadata": {},
   "outputs": [],
   "source": []
  },
  {
   "cell_type": "code",
   "execution_count": 16,
   "metadata": {},
   "outputs": [],
   "source": [
    "from pathlib import Path\n",
    "import glob\n",
    "import os\n",
    "\n",
    "# glob.glob(os.path.join(dir, \"/**/*.tif\"), recursive=True)\n",
    "dir = Path(\"../../datasets/cxa-high-density/coco_annotations_fiftyone/data\")"
   ]
  },
  {
   "cell_type": "code",
   "execution_count": 18,
   "metadata": {},
   "outputs": [],
   "source": [
    "import os\n",
    "import glob\n",
    "import re\n",
    "def gen_T_filename(frame, ndigits):\n",
    "    return \"T%s.tif\" % (str(frame).zfill(ndigits))\n",
    "\n",
    "for root, dirs, files in os.walk(dir):\n",
    "    for file in files:\n",
    "        # rename DIGITS.png files to TXXX.png\n",
    "        if file.endswith(\".png\"):\n",
    "            num = int(file.split(\".\")[0])\n",
    "            new_name = gen_T_filename(num, 3)\n",
    "            os.rename(os.path.join(root, file), os.path.join(root, new_name))\n"
   ]
  }
 ],
 "metadata": {
  "kernelspec": {
   "display_name": "livecell",
   "language": "python",
   "name": "python3"
  },
  "language_info": {
   "codemirror_mode": {
    "name": "ipython",
    "version": 3
   },
   "file_extension": ".py",
   "mimetype": "text/x-python",
   "name": "python",
   "nbconvert_exporter": "python",
   "pygments_lexer": "ipython3",
   "version": "3.10.9"
  },
  "orig_nbformat": 4,
  "vscode": {
   "interpreter": {
    "hash": "84cc49e2771a69a318d2523a1e3c84119201a94eb2fd0f5b7e00daf17c339568"
   }
  }
 },
 "nbformat": 4,
 "nbformat_minor": 2
}
