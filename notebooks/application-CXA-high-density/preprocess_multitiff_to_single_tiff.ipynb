{
 "cells": [
  {
   "cell_type": "code",
   "execution_count": 1,
   "metadata": {},
   "outputs": [],
   "source": [
    "from PIL import Image, ImageSequence"
   ]
  },
  {
   "cell_type": "code",
   "execution_count": 2,
   "metadata": {},
   "outputs": [
    {
     "name": "stdout",
     "output_type": "stream",
     "text": [
      "tiff_paths ['../../datasets/cxa-high-density/raw_multi-tiffs/Stitched\\\\0.25^4_wellF6_FITC_stitched.tiff', '../../datasets/cxa-high-density/raw_multi-tiffs/Stitched\\\\0.25^4_wellF6_RI_MIP_stitched.tiff', '../../datasets/cxa-high-density/raw_multi-tiffs/Stitched\\\\C0.5^4_wellE6_FITC_stitched.tiff', '../../datasets/cxa-high-density/raw_multi-tiffs/Stitched\\\\C0.5^4_wellE6_RI_MIP_stitched.tiff', '../../datasets/cxa-high-density/raw_multi-tiffs/Stitched\\\\C0.75^4_wellD6_FITC_stitched.tiff', '../../datasets/cxa-high-density/raw_multi-tiffs/Stitched\\\\C0.75^4_wellD6_RI_MIP_stitched.tiff', '../../datasets/cxa-high-density/raw_multi-tiffs/Stitched\\\\C10^3_wellC7_FITC_stitched.tiff', '../../datasets/cxa-high-density/raw_multi-tiffs/Stitched\\\\C10^3_wellC7_RI_MIP_stitched.tiff', '../../datasets/cxa-high-density/raw_multi-tiffs/Stitched\\\\C10^4_wellC6_FITC_stitched.tiff', '../../datasets/cxa-high-density/raw_multi-tiffs/Stitched\\\\C10^4_wellC6_RI_MIP_stitched.tiff']\n",
      ">>>>> out_path: tif_data\\0.25^4_wellF6_FITC_stitched\n",
      "184\n",
      ">>>>> out_path: tif_data\\0.25^4_wellF6_RI_MIP_stitched\n",
      "184\n",
      ">>>>> out_path: tif_data\\C0.5^4_wellE6_FITC_stitched\n",
      "184\n",
      ">>>>> out_path: tif_data\\C0.5^4_wellE6_RI_MIP_stitched\n",
      "184\n",
      ">>>>> out_path: tif_data\\C0.75^4_wellD6_FITC_stitched\n",
      "184\n",
      ">>>>> out_path: tif_data\\C0.75^4_wellD6_RI_MIP_stitched\n",
      "184\n",
      ">>>>> out_path: tif_data\\C10^3_wellC7_FITC_stitched\n",
      "184\n",
      ">>>>> out_path: tif_data\\C10^3_wellC7_RI_MIP_stitched\n",
      "184\n",
      ">>>>> out_path: tif_data\\C10^4_wellC6_FITC_stitched\n",
      "184\n",
      ">>>>> out_path: tif_data\\C10^4_wellC6_RI_MIP_stitched\n",
      "184\n"
     ]
    }
   ],
   "source": [
    "import os\n",
    "from pathlib import Path\n",
    "# path = '''D://xing-vimentin-dic-pipeline//src//livecell_dev//cxa-data//june_2022_data//day0Notreat_Group 1_wellA1_RI_MIP_stitched.tiff'''\n",
    "# path = '''D://xing-vimentin-dic-pipeline//src//livecell_dev//cxa-data//june_2022_data//restart_day0_Group 1_wellA1_RI_MIP_stitched.tiff'''\n",
    "dir_path = r'''../../datasets/cxa-high-density/raw_multi-tiffs/Stitched'''\n",
    "tiff_paths = [os.path.join(dir_path, f) for f in os.listdir(dir_path) if f.endswith('.tiff')]\n",
    "print(\"tiff_paths\", tiff_paths)\n",
    "\n",
    "\n",
    "def gen_T_filename(frame, ndigits):\n",
    "    return \"T%s.tif\" % (str(frame).zfill(ndigits))\n",
    "\n",
    "def convert_to_single_tifs(path, out_path):\n",
    "    tiff_img = Image.open(path)\n",
    "    print(tiff_img.n_frames)\n",
    "    ndigits = len(str(tiff_img.n_frames))\n",
    "    for i, page in enumerate(ImageSequence.Iterator(tiff_img)):\n",
    "        page.save( out_path / gen_T_filename(i, ndigits))\n",
    "\n",
    "for path in tiff_paths:\n",
    "    out_path = Path(\"./tif_data\") / Path(path).stem\n",
    "    print(\">>>>> out_path:\", out_path)\n",
    "    out_path.mkdir(parents=True, exist_ok=True)\n",
    "    convert_to_single_tifs(path, out_path)\n"
   ]
  }
 ],
 "metadata": {
  "kernelspec": {
   "display_name": "livecell",
   "language": "python",
   "name": "python3"
  },
  "language_info": {
   "codemirror_mode": {
    "name": "ipython",
    "version": 3
   },
   "file_extension": ".py",
   "mimetype": "text/x-python",
   "name": "python",
   "nbconvert_exporter": "python",
   "pygments_lexer": "ipython3",
   "version": "3.10.9"
  },
  "orig_nbformat": 4,
  "vscode": {
   "interpreter": {
    "hash": "84cc49e2771a69a318d2523a1e3c84119201a94eb2fd0f5b7e00daf17c339568"
   }
  }
 },
 "nbformat": 4,
 "nbformat_minor": 2
}
