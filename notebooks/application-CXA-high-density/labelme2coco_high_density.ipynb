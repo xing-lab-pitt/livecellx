{
 "cells": [
  {
   "cell_type": "code",
   "execution_count": 1,
   "metadata": {},
   "outputs": [],
   "source": [
    "import os\n",
    "import sys\n",
    "\n",
    "# sys.path.append(\"..\")\n"
   ]
  },
  {
   "cell_type": "code",
   "execution_count": 2,
   "metadata": {},
   "outputs": [],
   "source": [
    "import livecell_tracker"
   ]
  },
  {
   "cell_type": "markdown",
   "metadata": {},
   "source": [
    "dataset folder: folder containing datasets of imaging datasets  \n",
    "labelme json folder: folder containing datasets of Labelme json "
   ]
  },
  {
   "cell_type": "code",
   "execution_count": 3,
   "metadata": {},
   "outputs": [
    {
     "name": "stdout",
     "output_type": "stream",
     "text": [
      "There are 49 listed files in folder ../../datasets/cxa-high-density/annotation_high_density_11-17-2022.\n"
     ]
    },
    {
     "name": "stderr",
     "output_type": "stream",
     "text": [
      "Converting labelme annotations to COCO format:   4%|▍         | 2/49 [00:00<00:02, 19.73it/s]"
     ]
    },
    {
     "name": "stdout",
     "output_type": "stream",
     "text": [
      "dataset_folder_path:  ../../datasets/cxa-high-density/tif_data/\n",
      "dataset_name:  C10^4_wellC6_RI_MIP_stitched\n",
      "original json annotation path:  ../../datasets/cxa-high-density/annotation_high_density_11-17-2022\\dante\\C10^4_wellC6_RI_MIP_stitched\\T030.json\n",
      "loading image from: ../../datasets/cxa-high-density/tif_data/C10^4_wellC6_RI_MIP_stitched/T030.tif\n",
      "dataset_folder_path:  ../../datasets/cxa-high-density/tif_data/\n",
      "dataset_name:  C10^4_wellC6_RI_MIP_stitched\n",
      "original json annotation path:  ../../datasets/cxa-high-density/annotation_high_density_11-17-2022\\dante\\C10^4_wellC6_RI_MIP_stitched\\T045.json\n",
      "loading image from: ../../datasets/cxa-high-density/tif_data/C10^4_wellC6_RI_MIP_stitched/T045.tif\n",
      "dataset_folder_path:  ../../datasets/cxa-high-density/tif_data/\n",
      "dataset_name:  C10^4_wellC6_RI_MIP_stitched\n",
      "original json annotation path:  ../../datasets/cxa-high-density/annotation_high_density_11-17-2022\\dante\\C10^4_wellC6_RI_MIP_stitched\\T060.json\n",
      "loading image from: ../../datasets/cxa-high-density/tif_data/C10^4_wellC6_RI_MIP_stitched/T060.tif\n",
      "dataset_folder_path:  ../../datasets/cxa-high-density/tif_data/\n",
      "dataset_name:  C10^4_wellC6_RI_MIP_stitched\n",
      "original json annotation path:  ../../datasets/cxa-high-density/annotation_high_density_11-17-2022\\dante\\C10^4_wellC6_RI_MIP_stitched\\T075.json\n",
      "loading image from: ../../datasets/cxa-high-density/tif_data/C10^4_wellC6_RI_MIP_stitched/T075.tif\n",
      "dataset_folder_path:  ../../datasets/cxa-high-density/tif_data/\n",
      "dataset_name:  C10^4_wellC6_RI_MIP_stitched\n",
      "original json annotation path:  ../../datasets/cxa-high-density/annotation_high_density_11-17-2022\\dante\\C10^4_wellC6_RI_MIP_stitched\\T090.json\n",
      "loading image from: ../../datasets/cxa-high-density/tif_data/C10^4_wellC6_RI_MIP_stitched/T090.tif\n"
     ]
    },
    {
     "name": "stderr",
     "output_type": "stream",
     "text": [
      "Converting labelme annotations to COCO format:  18%|█▊        | 9/49 [00:00<00:01, 28.37it/s]"
     ]
    },
    {
     "name": "stdout",
     "output_type": "stream",
     "text": [
      "dataset_folder_path:  ../../datasets/cxa-high-density/tif_data/\n",
      "dataset_name:  C10^4_wellC6_RI_MIP_stitched\n",
      "original json annotation path:  ../../datasets/cxa-high-density/annotation_high_density_11-17-2022\\dante\\C10^4_wellC6_RI_MIP_stitched\\T115.json\n",
      "loading image from: ../../datasets/cxa-high-density/tif_data/C10^4_wellC6_RI_MIP_stitched/T115.tif\n",
      "dataset_folder_path:  ../../datasets/cxa-high-density/tif_data/\n",
      "dataset_name:  C10^4_wellC6_RI_MIP_stitched\n",
      "original json annotation path:  ../../datasets/cxa-high-density/annotation_high_density_11-17-2022\\dante\\C10^4_wellC6_RI_MIP_stitched\\T130.json\n",
      "loading image from: ../../datasets/cxa-high-density/tif_data/C10^4_wellC6_RI_MIP_stitched/T130.tif\n",
      "dataset_folder_path:  ../../datasets/cxa-high-density/tif_data/\n",
      "dataset_name:  C10^4_wellC6_RI_MIP_stitched\n",
      "original json annotation path:  ../../datasets/cxa-high-density/annotation_high_density_11-17-2022\\dante\\C10^4_wellC6_RI_MIP_stitched\\T145.json\n",
      "loading image from: ../../datasets/cxa-high-density/tif_data/C10^4_wellC6_RI_MIP_stitched/T145.tif\n",
      "dataset_folder_path:  ../../datasets/cxa-high-density/tif_data/\n",
      "dataset_name:  C10^4_wellC6_RI_MIP_stitched\n",
      "original json annotation path:  ../../datasets/cxa-high-density/annotation_high_density_11-17-2022\\dante\\C10^4_wellC6_RI_MIP_stitched\\T160.json\n",
      "loading image from: ../../datasets/cxa-high-density/tif_data/C10^4_wellC6_RI_MIP_stitched/T160.tif\n",
      "dataset_folder_path:  ../../datasets/cxa-high-density/tif_data/\n",
      "dataset_name:  C10^4_wellC6_RI_MIP_stitched\n",
      "original json annotation path:  ../../datasets/cxa-high-density/annotation_high_density_11-17-2022\\dante\\C10^4_wellC6_RI_MIP_stitched\\T175.json\n",
      "loading image from: ../../datasets/cxa-high-density/tif_data/C10^4_wellC6_RI_MIP_stitched/T175.tif\n",
      "dataset_folder_path:  ../../datasets/cxa-high-density/tif_data/\n",
      "dataset_name:  C10^4_wellC6_RI_MIP_stitched\n",
      "original json annotation path:  ../../datasets/cxa-high-density/annotation_high_density_11-17-2022\\ke\\C10^4_wellC6_RI_MIP_stitched\\T000.json\n",
      "loading image from: ../../datasets/cxa-high-density/tif_data/C10^4_wellC6_RI_MIP_stitched/T000.tif\n"
     ]
    },
    {
     "name": "stderr",
     "output_type": "stream",
     "text": [
      "Converting labelme annotations to COCO format:  33%|███▎      | 16/49 [00:00<00:01, 29.09it/s]"
     ]
    },
    {
     "name": "stdout",
     "output_type": "stream",
     "text": [
      "dataset_folder_path:  ../../datasets/cxa-high-density/tif_data/\n",
      "dataset_name:  C10^4_wellC6_RI_MIP_stitched\n",
      "original json annotation path:  ../../datasets/cxa-high-density/annotation_high_density_11-17-2022\\ke\\C10^4_wellC6_RI_MIP_stitched\\T015.json\n",
      "loading image from: ../../datasets/cxa-high-density/tif_data/C10^4_wellC6_RI_MIP_stitched/T015.tif\n",
      "dataset_folder_path:  ../../datasets/cxa-high-density/tif_data/\n",
      "dataset_name:  0.25^4_wellF6_RI_MIP_stitched\n",
      "original json annotation path:  ../../datasets/cxa-high-density/annotation_high_density_11-17-2022\\sophia\\0.25^4_wellF6_RI_MIP_stitched\\T000.json\n",
      "loading image from: ../../datasets/cxa-high-density/tif_data/0.25^4_wellF6_RI_MIP_stitched/T000.tif\n",
      "dataset_folder_path:  ../../datasets/cxa-high-density/tif_data/\n",
      "dataset_name:  0.25^4_wellF6_RI_MIP_stitched\n",
      "original json annotation path:  ../../datasets/cxa-high-density/annotation_high_density_11-17-2022\\sophia\\0.25^4_wellF6_RI_MIP_stitched\\T015.json\n",
      "loading image from: ../../datasets/cxa-high-density/tif_data/0.25^4_wellF6_RI_MIP_stitched/T015.tif\n",
      "dataset_folder_path:  ../../datasets/cxa-high-density/tif_data/\n",
      "dataset_name:  0.25^4_wellF6_RI_MIP_stitched\n",
      "original json annotation path:  ../../datasets/cxa-high-density/annotation_high_density_11-17-2022\\sophia\\0.25^4_wellF6_RI_MIP_stitched\\T030.json\n",
      "loading image from: ../../datasets/cxa-high-density/tif_data/0.25^4_wellF6_RI_MIP_stitched/T030.tif\n",
      "dataset_folder_path:  ../../datasets/cxa-high-density/tif_data/\n",
      "dataset_name:  0.25^4_wellF6_RI_MIP_stitched\n",
      "original json annotation path:  ../../datasets/cxa-high-density/annotation_high_density_11-17-2022\\sophia\\0.25^4_wellF6_RI_MIP_stitched\\T045.json\n",
      "loading image from: ../../datasets/cxa-high-density/tif_data/0.25^4_wellF6_RI_MIP_stitched/T045.tif\n",
      "dataset_folder_path:  ../../datasets/cxa-high-density/tif_data/\n",
      "dataset_name:  0.25^4_wellF6_RI_MIP_stitched\n",
      "original json annotation path:  ../../datasets/cxa-high-density/annotation_high_density_11-17-2022\\sophia\\0.25^4_wellF6_RI_MIP_stitched\\T060.json\n",
      "loading image from: ../../datasets/cxa-high-density/tif_data/0.25^4_wellF6_RI_MIP_stitched/T060.tif\n",
      "dataset_folder_path:  ../../datasets/cxa-high-density/tif_data/\n",
      "dataset_name:  0.25^4_wellF6_RI_MIP_stitched\n",
      "original json annotation path:  ../../datasets/cxa-high-density/annotation_high_density_11-17-2022\\sophia\\0.25^4_wellF6_RI_MIP_stitched\\T075.json\n",
      "loading image from: ../../datasets/cxa-high-density/tif_data/0.25^4_wellF6_RI_MIP_stitched/T075.tif\n",
      "dataset_folder_path:  ../../datasets/cxa-high-density/tif_data/\n",
      "dataset_name:  0.25^4_wellF6_RI_MIP_stitched\n",
      "original json annotation path:  ../../datasets/cxa-high-density/annotation_high_density_11-17-2022\\sophia\\0.25^4_wellF6_RI_MIP_stitched\\T090.json\n",
      "loading image from: ../../datasets/cxa-high-density/tif_data/0.25^4_wellF6_RI_MIP_stitched/T090.tif\n"
     ]
    },
    {
     "name": "stderr",
     "output_type": "stream",
     "text": [
      "Converting labelme annotations to COCO format:  49%|████▉     | 24/49 [00:00<00:00, 28.35it/s]"
     ]
    },
    {
     "name": "stdout",
     "output_type": "stream",
     "text": [
      "dataset_folder_path:  ../../datasets/cxa-high-density/tif_data/\n",
      "dataset_name:  0.25^4_wellF6_RI_MIP_stitched\n",
      "original json annotation path:  ../../datasets/cxa-high-density/annotation_high_density_11-17-2022\\sophia\\0.25^4_wellF6_RI_MIP_stitched\\T105.json\n",
      "loading image from: ../../datasets/cxa-high-density/tif_data/0.25^4_wellF6_RI_MIP_stitched/T105.tif\n",
      "dataset_folder_path:  ../../datasets/cxa-high-density/tif_data/\n",
      "dataset_name:  0.25^4_wellF6_RI_MIP_stitched\n",
      "original json annotation path:  ../../datasets/cxa-high-density/annotation_high_density_11-17-2022\\sophia\\0.25^4_wellF6_RI_MIP_stitched\\T120.json\n",
      "loading image from: ../../datasets/cxa-high-density/tif_data/0.25^4_wellF6_RI_MIP_stitched/T120.tif\n",
      "dataset_folder_path:  ../../datasets/cxa-high-density/tif_data/\n",
      "dataset_name:  0.25^4_wellF6_RI_MIP_stitched\n",
      "original json annotation path:  ../../datasets/cxa-high-density/annotation_high_density_11-17-2022\\sophia\\0.25^4_wellF6_RI_MIP_stitched\\T135.json\n",
      "loading image from: ../../datasets/cxa-high-density/tif_data/0.25^4_wellF6_RI_MIP_stitched/T135.tif\n",
      "dataset_folder_path:  ../../datasets/cxa-high-density/tif_data/\n",
      "dataset_name:  0.25^4_wellF6_RI_MIP_stitched\n",
      "original json annotation path:  ../../datasets/cxa-high-density/annotation_high_density_11-17-2022\\sophia\\0.25^4_wellF6_RI_MIP_stitched\\T150.json\n",
      "loading image from: ../../datasets/cxa-high-density/tif_data/0.25^4_wellF6_RI_MIP_stitched/T150.tif\n",
      "dataset_folder_path:  ../../datasets/cxa-high-density/tif_data/\n",
      "dataset_name:  0.25^4_wellF6_RI_MIP_stitched\n",
      "original json annotation path:  ../../datasets/cxa-high-density/annotation_high_density_11-17-2022\\sophia\\0.25^4_wellF6_RI_MIP_stitched\\T175.json\n",
      "loading image from: ../../datasets/cxa-high-density/tif_data/0.25^4_wellF6_RI_MIP_stitched/T175.tif\n",
      "dataset_folder_path:  ../../datasets/cxa-high-density/tif_data/\n",
      "dataset_name:  0.25^4_wellF6_RI_MIP_stitched\n",
      "original json annotation path:  ../../datasets/cxa-high-density/annotation_high_density_11-17-2022\\sophia\\0.25^4_wellF6_RI_MIP_stitched\\T183.json\n",
      "loading image from: ../../datasets/cxa-high-density/tif_data/0.25^4_wellF6_RI_MIP_stitched/T183.tif\n"
     ]
    },
    {
     "name": "stderr",
     "output_type": "stream",
     "text": [
      "Converting labelme annotations to COCO format:  55%|█████▌    | 27/49 [00:00<00:00, 28.59it/s]"
     ]
    },
    {
     "name": "stdout",
     "output_type": "stream",
     "text": [
      "dataset_folder_path:  ../../datasets/cxa-high-density/tif_data/\n",
      "dataset_name:  C0.75^4_wellD6_RI_MIP_stitched\n",
      "original json annotation path:  ../../datasets/cxa-high-density/annotation_high_density_11-17-2022\\sophia\\C0.75^4_wellD6_RI_MIP_stitched\\T160.json\n",
      "loading image from: ../../datasets/cxa-high-density/tif_data/C0.75^4_wellD6_RI_MIP_stitched/T160.tif\n",
      "dataset_folder_path:  ../../datasets/cxa-high-density/tif_data/\n",
      "dataset_name:  C0.75^4_wellD6_RI_MIP_stitched\n",
      "original json annotation path:  ../../datasets/cxa-high-density/annotation_high_density_11-17-2022\\sophia\\C0.75^4_wellD6_RI_MIP_stitched\\T175.json\n",
      "loading image from: ../../datasets/cxa-high-density/tif_data/C0.75^4_wellD6_RI_MIP_stitched/T175.tif\n",
      "dataset_folder_path:  ../../datasets/cxa-high-density/tif_data/\n",
      "dataset_name:  C0.75^4_wellD6_RI_MIP_stitched\n",
      "original json annotation path:  ../../datasets/cxa-high-density/annotation_high_density_11-17-2022\\Yajushi\\C0.75^4_wellD6_RI_MIP_stitched\\T000.json\n",
      "loading image from: ../../datasets/cxa-high-density/tif_data/C0.75^4_wellD6_RI_MIP_stitched/T000.tif\n",
      "dataset_folder_path:  ../../datasets/cxa-high-density/tif_data/\n",
      "dataset_name:  C0.75^4_wellD6_RI_MIP_stitched\n",
      "original json annotation path:  ../../datasets/cxa-high-density/annotation_high_density_11-17-2022\\Yajushi\\C0.75^4_wellD6_RI_MIP_stitched\\T015.json\n",
      "loading image from: ../../datasets/cxa-high-density/tif_data/C0.75^4_wellD6_RI_MIP_stitched/T015.tif\n",
      "dataset_folder_path:  ../../datasets/cxa-high-density/tif_data/\n",
      "dataset_name:  C0.75^4_wellD6_RI_MIP_stitched\n",
      "original json annotation path:  ../../datasets/cxa-high-density/annotation_high_density_11-17-2022\\Yajushi\\C0.75^4_wellD6_RI_MIP_stitched\\T030.json\n",
      "loading image from: ../../datasets/cxa-high-density/tif_data/C0.75^4_wellD6_RI_MIP_stitched/T030.tif\n"
     ]
    },
    {
     "name": "stderr",
     "output_type": "stream",
     "text": [
      "Converting labelme annotations to COCO format:  67%|██████▋   | 33/49 [00:01<00:00, 22.78it/s]"
     ]
    },
    {
     "name": "stdout",
     "output_type": "stream",
     "text": [
      "dataset_folder_path:  ../../datasets/cxa-high-density/tif_data/\n",
      "dataset_name:  C0.5^4_wellE6_RI_MIP_stitched\n",
      "original json annotation path:  ../../datasets/cxa-high-density/annotation_high_density_11-17-2022\\yaxuan\\C0.5^4_wellE6_RI_MIP_stitched\\T000.json\n",
      "loading image from: ../../datasets/cxa-high-density/tif_data/C0.5^4_wellE6_RI_MIP_stitched/T000.tif\n",
      "dataset_folder_path:  ../../datasets/cxa-high-density/tif_data/\n",
      "dataset_name:  C0.5^4_wellE6_RI_MIP_stitched\n",
      "original json annotation path:  ../../datasets/cxa-high-density/annotation_high_density_11-17-2022\\yaxuan\\C0.5^4_wellE6_RI_MIP_stitched\\T015.json\n",
      "loading image from: ../../datasets/cxa-high-density/tif_data/C0.5^4_wellE6_RI_MIP_stitched/T015.tif\n",
      "dataset_folder_path:  ../../datasets/cxa-high-density/tif_data/\n",
      "dataset_name:  C0.5^4_wellE6_RI_MIP_stitched\n",
      "original json annotation path:  ../../datasets/cxa-high-density/annotation_high_density_11-17-2022\\yaxuan\\C0.5^4_wellE6_RI_MIP_stitched\\T030.json\n",
      "loading image from: ../../datasets/cxa-high-density/tif_data/C0.5^4_wellE6_RI_MIP_stitched/T030.tif\n",
      "dataset_folder_path:  ../../datasets/cxa-high-density/tif_data/\n",
      "dataset_name:  C0.5^4_wellE6_RI_MIP_stitched\n",
      "original json annotation path:  ../../datasets/cxa-high-density/annotation_high_density_11-17-2022\\yaxuan\\C0.5^4_wellE6_RI_MIP_stitched\\T045.json\n",
      "loading image from: ../../datasets/cxa-high-density/tif_data/C0.5^4_wellE6_RI_MIP_stitched/T045.tif\n",
      "dataset_folder_path:  ../../datasets/cxa-high-density/tif_data/\n",
      "dataset_name:  C0.5^4_wellE6_RI_MIP_stitched\n",
      "original json annotation path:  ../../datasets/cxa-high-density/annotation_high_density_11-17-2022\\yaxuan\\C0.5^4_wellE6_RI_MIP_stitched\\T060.json\n",
      "loading image from: ../../datasets/cxa-high-density/tif_data/C0.5^4_wellE6_RI_MIP_stitched/T060.tif\n",
      "dataset_folder_path:  ../../datasets/cxa-high-density/tif_data/\n",
      "dataset_name:  C0.5^4_wellE6_RI_MIP_stitched\n",
      "original json annotation path:  ../../datasets/cxa-high-density/annotation_high_density_11-17-2022\\yaxuan\\C0.5^4_wellE6_RI_MIP_stitched\\T075.json\n",
      "loading image from: ../../datasets/cxa-high-density/tif_data/C0.5^4_wellE6_RI_MIP_stitched/T075.tif\n"
     ]
    },
    {
     "name": "stderr",
     "output_type": "stream",
     "text": [
      "Converting labelme annotations to COCO format:  90%|████████▉ | 44/49 [00:01<00:00, 30.70it/s]"
     ]
    },
    {
     "name": "stdout",
     "output_type": "stream",
     "text": [
      "dataset_folder_path:  ../../datasets/cxa-high-density/tif_data/\n",
      "dataset_name:  C10^3_wellC7_RI_MIP_stitched\n",
      "original json annotation path:  ../../datasets/cxa-high-density/annotation_high_density_11-17-2022\\Yong\\C10^3_wellC7_RI_MIP_stitched\\T000.json\n",
      "loading image from: ../../datasets/cxa-high-density/tif_data/C10^3_wellC7_RI_MIP_stitched/T000.tif\n",
      "dataset_folder_path:  ../../datasets/cxa-high-density/tif_data/\n",
      "dataset_name:  C10^3_wellC7_RI_MIP_stitched\n",
      "original json annotation path:  ../../datasets/cxa-high-density/annotation_high_density_11-17-2022\\Yong\\C10^3_wellC7_RI_MIP_stitched\\T015.json\n",
      "loading image from: ../../datasets/cxa-high-density/tif_data/C10^3_wellC7_RI_MIP_stitched/T015.tif\n",
      "dataset_folder_path:  ../../datasets/cxa-high-density/tif_data/\n",
      "dataset_name:  C10^3_wellC7_RI_MIP_stitched\n",
      "original json annotation path:  ../../datasets/cxa-high-density/annotation_high_density_11-17-2022\\Yong\\C10^3_wellC7_RI_MIP_stitched\\T030.json\n",
      "loading image from: ../../datasets/cxa-high-density/tif_data/C10^3_wellC7_RI_MIP_stitched/T030.tif\n",
      "dataset_folder_path:  ../../datasets/cxa-high-density/tif_data/\n",
      "dataset_name:  C10^3_wellC7_RI_MIP_stitched\n",
      "original json annotation path:  ../../datasets/cxa-high-density/annotation_high_density_11-17-2022\\Yong\\C10^3_wellC7_RI_MIP_stitched\\T045.json\n",
      "loading image from: ../../datasets/cxa-high-density/tif_data/C10^3_wellC7_RI_MIP_stitched/T045.tif\n",
      "dataset_folder_path:  ../../datasets/cxa-high-density/tif_data/\n",
      "dataset_name:  C10^3_wellC7_RI_MIP_stitched\n",
      "original json annotation path:  ../../datasets/cxa-high-density/annotation_high_density_11-17-2022\\Yong\\C10^3_wellC7_RI_MIP_stitched\\T060.json\n",
      "loading image from: ../../datasets/cxa-high-density/tif_data/C10^3_wellC7_RI_MIP_stitched/T060.tif\n",
      "dataset_folder_path:  ../../datasets/cxa-high-density/tif_data/\n",
      "dataset_name:  C10^3_wellC7_RI_MIP_stitched\n",
      "original json annotation path:  ../../datasets/cxa-high-density/annotation_high_density_11-17-2022\\Yong\\C10^3_wellC7_RI_MIP_stitched\\T075.json\n",
      "loading image from: ../../datasets/cxa-high-density/tif_data/C10^3_wellC7_RI_MIP_stitched/T075.tif\n",
      "dataset_folder_path:  ../../datasets/cxa-high-density/tif_data/\n",
      "dataset_name:  C10^3_wellC7_RI_MIP_stitched\n",
      "original json annotation path:  ../../datasets/cxa-high-density/annotation_high_density_11-17-2022\\Yong\\C10^3_wellC7_RI_MIP_stitched\\T090.json\n",
      "loading image from: ../../datasets/cxa-high-density/tif_data/C10^3_wellC7_RI_MIP_stitched/T090.tif\n",
      "dataset_folder_path:  ../../datasets/cxa-high-density/tif_data/\n",
      "dataset_name:  C10^3_wellC7_RI_MIP_stitched\n",
      "original json annotation path:  ../../datasets/cxa-high-density/annotation_high_density_11-17-2022\\Yong\\C10^3_wellC7_RI_MIP_stitched\\T105.json\n",
      "loading image from: ../../datasets/cxa-high-density/tif_data/C10^3_wellC7_RI_MIP_stitched/T105.tif\n"
     ]
    },
    {
     "name": "stderr",
     "output_type": "stream",
     "text": [
      "Converting labelme annotations to COCO format: 100%|██████████| 49/49 [00:01<00:00, 29.01it/s]\n"
     ]
    },
    {
     "name": "stdout",
     "output_type": "stream",
     "text": [
      "dataset_folder_path:  ../../datasets/cxa-high-density/tif_data/\n",
      "dataset_name:  C10^3_wellC7_RI_MIP_stitched\n",
      "original json annotation path:  ../../datasets/cxa-high-density/annotation_high_density_11-17-2022\\Yong\\C10^3_wellC7_RI_MIP_stitched\\T120.json\n",
      "loading image from: ../../datasets/cxa-high-density/tif_data/C10^3_wellC7_RI_MIP_stitched/T120.tif\n",
      "dataset_folder_path:  ../../datasets/cxa-high-density/tif_data/\n",
      "dataset_name:  C10^3_wellC7_RI_MIP_stitched\n",
      "original json annotation path:  ../../datasets/cxa-high-density/annotation_high_density_11-17-2022\\Yong\\C10^3_wellC7_RI_MIP_stitched\\T135.json\n",
      "loading image from: ../../datasets/cxa-high-density/tif_data/C10^3_wellC7_RI_MIP_stitched/T135.tif\n",
      "dataset_folder_path:  ../../datasets/cxa-high-density/tif_data/\n",
      "dataset_name:  C10^3_wellC7_RI_MIP_stitched\n",
      "original json annotation path:  ../../datasets/cxa-high-density/annotation_high_density_11-17-2022\\Yong\\C10^3_wellC7_RI_MIP_stitched\\T150.json\n",
      "loading image from: ../../datasets/cxa-high-density/tif_data/C10^3_wellC7_RI_MIP_stitched/T150.tif\n",
      "dataset_folder_path:  ../../datasets/cxa-high-density/tif_data/\n",
      "dataset_name:  C10^3_wellC7_RI_MIP_stitched\n",
      "original json annotation path:  ../../datasets/cxa-high-density/annotation_high_density_11-17-2022\\Yong\\C10^3_wellC7_RI_MIP_stitched\\T165.json\n",
      "loading image from: ../../datasets/cxa-high-density/tif_data/C10^3_wellC7_RI_MIP_stitched/T165.tif\n",
      "dataset_folder_path:  ../../datasets/cxa-high-density/tif_data/\n",
      "dataset_name:  C10^3_wellC7_RI_MIP_stitched\n",
      "original json annotation path:  ../../datasets/cxa-high-density/annotation_high_density_11-17-2022\\Yong\\C10^3_wellC7_RI_MIP_stitched\\T180.json\n",
      "loading image from: ../../datasets/cxa-high-density/tif_data/C10^3_wellC7_RI_MIP_stitched/T180.tif\n"
     ]
    },
    {
     "name": "stderr",
     "output_type": "stream",
     "text": [
      "01/24/2023 22:58:45 - INFO - livecell_tracker.annotation.labelme2coco -   Training split in COCO format is exported to ..\\..\\datasets\\cxa-high-density\\coco_annotations\\train.json\n",
      "01/24/2023 22:58:45 - INFO - livecell_tracker.annotation.labelme2coco -   Validation split in COCO format is exported to ..\\..\\datasets\\cxa-high-density\\coco_annotations\\val.json\n"
     ]
    }
   ],
   "source": [
    "# import livecell_tracker.segment\n",
    "import livecell_tracker.annotation\n",
    "import livecell_tracker.annotation.labelme2coco\n",
    "\n",
    "# labelme_json_folder = r\"\"\"D:/xing-vimentin-dic-pipeline/src/livecell_dev/cxa-data/cxa_training_data/annotation_results\"\"\"\n",
    "labelme_json_folder = r\"\"\"../../datasets/cxa-high-density/annotation_high_density_11-17-2022\"\"\"\n",
    "# dataset_folder_path = r\"\"\"D:/xing-vimentin-dic-pipeline/src/livecell_dev/cxa-data/june_2022_data\"\"\"\n",
    "dataset_folder_path = r\"\"\"../../datasets/cxa-high-density/tif_data/\"\"\"\n",
    "export_dir = \"../../datasets/cxa-high-density/coco_annotations\"\n",
    "os.makedirs(export_dir, exist_ok=True)\n",
    "livecell_tracker.annotation.labelme2coco.convert(\n",
    "    labelme_json_folder,\n",
    "    export_dir,\n",
    "    train_split_rate=0.9,\n",
    "    dataset_folder_path=dataset_folder_path,\n",
    "    # is_image_image_in_json_folder=True,\n",
    "    # image_file_ext=\"tif\",\n",
    "    image_file_ext=\"tif\",\n",
    ")\n",
    "# livecell_tracker.preprocess.labelme2coco.get_coco_from_labelme_folder(labelme_json_folder)\n"
   ]
  },
  {
   "cell_type": "code",
   "execution_count": 4,
   "metadata": {},
   "outputs": [
    {
     "name": "stdout",
     "output_type": "stream",
     "text": [
      " Volume in drive D is HDD0\n",
      " Volume Serial Number is 9AC0-BE5F\n",
      "\n",
      " Directory of d:\\LiveCellTracker-dev\\notebooks\\cxa-data\\june_2022_data_8bit_png\n",
      "\n"
     ]
    },
    {
     "name": "stderr",
     "output_type": "stream",
     "text": [
      "File Not Found\n"
     ]
    }
   ],
   "source": [
    "!dir \"..//cxa-data//june_2022_data_8bit_png//day0_Notreat_Group 1_wellA1_RI_MIP_stitched\""
   ]
  },
  {
   "cell_type": "markdown",
   "metadata": {},
   "source": []
  }
 ],
 "metadata": {
  "kernelspec": {
   "display_name": "livecell",
   "language": "python",
   "name": "python3"
  },
  "language_info": {
   "codemirror_mode": {
    "name": "ipython",
    "version": 3
   },
   "file_extension": ".py",
   "mimetype": "text/x-python",
   "name": "python",
   "nbconvert_exporter": "python",
   "pygments_lexer": "ipython3",
   "version": "3.10.9"
  },
  "orig_nbformat": 4,
  "vscode": {
   "interpreter": {
    "hash": "84cc49e2771a69a318d2523a1e3c84119201a94eb2fd0f5b7e00daf17c339568"
   }
  }
 },
 "nbformat": 4,
 "nbformat_minor": 2
}
