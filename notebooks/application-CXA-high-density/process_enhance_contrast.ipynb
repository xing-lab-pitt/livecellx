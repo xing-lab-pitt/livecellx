{
 "cells": [
  {
   "cell_type": "code",
   "execution_count": 1,
   "metadata": {},
   "outputs": [
    {
     "name": "stdout",
     "output_type": "stream",
     "text": [
      "input png dir path: ./png_data\n",
      "output dir path: ./contrast_enhanced_factor=3_png_data\n",
      "184 png img file paths loaded: \n"
     ]
    },
    {
     "name": "stderr",
     "output_type": "stream",
     "text": [
      "100%|██████████| 184/184 [01:03<00:00,  2.88it/s]\n"
     ]
    },
    {
     "name": "stdout",
     "output_type": "stream",
     "text": [
      "184 png img file paths loaded: \n"
     ]
    },
    {
     "name": "stderr",
     "output_type": "stream",
     "text": [
      "100%|██████████| 184/184 [00:35<00:00,  5.23it/s]\n"
     ]
    },
    {
     "name": "stdout",
     "output_type": "stream",
     "text": [
      "0 png img file paths loaded: \n"
     ]
    },
    {
     "name": "stderr",
     "output_type": "stream",
     "text": [
      "0it [00:00, ?it/s]\n"
     ]
    },
    {
     "name": "stdout",
     "output_type": "stream",
     "text": [
      "184 png img file paths loaded: \n"
     ]
    },
    {
     "name": "stderr",
     "output_type": "stream",
     "text": [
      "100%|██████████| 184/184 [00:39<00:00,  4.69it/s]\n"
     ]
    },
    {
     "name": "stdout",
     "output_type": "stream",
     "text": [
      "184 png img file paths loaded: \n"
     ]
    },
    {
     "name": "stderr",
     "output_type": "stream",
     "text": [
      "100%|██████████| 184/184 [00:57<00:00,  3.21it/s]\n"
     ]
    },
    {
     "name": "stdout",
     "output_type": "stream",
     "text": [
      "184 png img file paths loaded: \n"
     ]
    },
    {
     "name": "stderr",
     "output_type": "stream",
     "text": [
      "100%|██████████| 184/184 [00:28<00:00,  6.44it/s]\n"
     ]
    },
    {
     "name": "stdout",
     "output_type": "stream",
     "text": [
      "184 png img file paths loaded: \n"
     ]
    },
    {
     "name": "stderr",
     "output_type": "stream",
     "text": [
      "100%|██████████| 184/184 [01:02<00:00,  2.96it/s]\n"
     ]
    },
    {
     "name": "stdout",
     "output_type": "stream",
     "text": [
      "184 png img file paths loaded: \n"
     ]
    },
    {
     "name": "stderr",
     "output_type": "stream",
     "text": [
      "100%|██████████| 184/184 [00:34<00:00,  5.39it/s]\n"
     ]
    },
    {
     "name": "stdout",
     "output_type": "stream",
     "text": [
      "184 png img file paths loaded: \n"
     ]
    },
    {
     "name": "stderr",
     "output_type": "stream",
     "text": [
      "100%|██████████| 184/184 [00:34<00:00,  5.36it/s]\n"
     ]
    },
    {
     "name": "stdout",
     "output_type": "stream",
     "text": [
      "184 png img file paths loaded: \n"
     ]
    },
    {
     "name": "stderr",
     "output_type": "stream",
     "text": [
      "100%|██████████| 184/184 [00:42<00:00,  4.35it/s]\n"
     ]
    },
    {
     "name": "stdout",
     "output_type": "stream",
     "text": [
      "184 png img file paths loaded: \n"
     ]
    },
    {
     "name": "stderr",
     "output_type": "stream",
     "text": [
      "100%|██████████| 184/184 [00:34<00:00,  5.27it/s]\n"
     ]
    }
   ],
   "source": [
    "from PIL import Image, ImageSequence\n",
    "import glob\n",
    "import os\n",
    "import livecell_tracker.core.datasets\n",
    "from livecell_tracker.core.datasets import LiveCellImageDataset\n",
    "import livecell_tracker.preprocess\n",
    "import livecell_tracker.preprocess.utils\n",
    "from livecell_tracker.preprocess.utils import enhance_contrast, _enhance_contrast\n",
    "import tqdm\n",
    "\n",
    "def batch_enhance_pngs(png_dir_path, output_enhanced_dir_path, factor=3):\n",
    "    png_dataset = LiveCellImageDataset(dir_path=png_dir_path, ext=\"png\")\n",
    "    for idx in tqdm.tqdm(range(len(png_dataset))):\n",
    "        img = png_dataset[idx]\n",
    "        enhanced_png = enhance_contrast(img, factor=factor)\n",
    "        enhanced_png = Image.fromarray(enhanced_png)\n",
    "        enhanced_png.save(os.path.join(output_enhanced_dir_path, f\"{idx}.png\"))\n",
    "\n",
    "\n",
    "factor = 3\n",
    "png_dirs_path = r\"./png_data\"\n",
    "output_dirs_path = f\"./contrast_enhanced_factor={factor}_png_data\"\n",
    "print(\"input png dir path:\", png_dirs_path)\n",
    "print(\"output dir path:\", output_dirs_path)\n",
    "for png_dir in os.listdir(png_dirs_path):\n",
    "    png_dir_path = os.path.join(png_dirs_path, png_dir)\n",
    "    output_enhanced_dir_path = os.path.join(output_dirs_path, png_dir)\n",
    "    os.makedirs(output_enhanced_dir_path, exist_ok=True)\n",
    "    batch_enhance_pngs(png_dir_path, output_enhanced_dir_path, factor=factor)\n"
   ]
  },
  {
   "cell_type": "code",
   "execution_count": 4,
   "metadata": {},
   "outputs": [
    {
     "name": "stdout",
     "output_type": "stream",
     "text": [
      "input png dir path: ./png_data\n",
      "output dir path: ./contrast_enhanced_factor=3_png_data\n",
      "184 png img file paths loaded: \n"
     ]
    },
    {
     "name": "stderr",
     "output_type": "stream",
     "text": [
      " 29%|██▉       | 54/184 [00:18<00:46,  2.80it/s]"
     ]
    }
   ],
   "source": [
    "from multiprocessing import Pool\n",
    "\n",
    "def batch_enhance_pngs(png_dir_path, output_enhanced_dir_path, factor=3):\n",
    "    png_dataset = LiveCellImageDataset(dir_path=png_dir_path, ext=\"png\")\n",
    "    for idx in tqdm.tqdm(range(len(png_dataset))):\n",
    "        img = png_dataset[idx]\n",
    "        enhanced_png = enhance_contrast(img, factor=factor)\n",
    "        enhanced_png = Image.fromarray(enhanced_png)\n",
    "        enhanced_png.save(os.path.join(output_enhanced_dir_path, f\"{idx}.png\"))\n",
    "\n",
    "\n",
    "factor = 1.5\n",
    "png_dirs_path = r\"./png_data\"\n",
    "output_dirs_path = f\"./contrast_enhanced_factor={factor}_png_data\"\n",
    "print(\"input png dir path:\", png_dirs_path)\n",
    "print(\"output dir path:\", output_dirs_path)\n",
    "# TODO: multiprocessing\n",
    "# Pool(4).starmap(batch_enhance_pngs, [(os.path.join(png_dirs_path, png_dir), os.path.join(output_dirs_path, png_dir), factor) for png_dir in os.listdir(png_dirs_path)])\n",
    "for png_dir in os.listdir(png_dirs_path):\n",
    "    png_dir_path = os.path.join(png_dirs_path, png_dir)\n",
    "    output_enhanced_dir_path = os.path.join(output_dirs_path, png_dir)\n",
    "    os.makedirs(output_enhanced_dir_path, exist_ok=True)\n",
    "    batch_enhance_pngs(png_dir_path, output_enhanced_dir_path, factor=factor)\n"
   ]
  }
 ],
 "metadata": {
  "kernelspec": {
   "display_name": "Python 3.9.12 ('xing-cv')",
   "language": "python",
   "name": "python3"
  },
  "language_info": {
   "codemirror_mode": {
    "name": "ipython",
    "version": 3
   },
   "file_extension": ".py",
   "mimetype": "text/x-python",
   "name": "python",
   "nbconvert_exporter": "python",
   "pygments_lexer": "ipython3",
   "version": "3.9.12"
  },
  "orig_nbformat": 4,
  "vscode": {
   "interpreter": {
    "hash": "73a99b54321d56819ac214e2bec2265ae371e99f931e60a5d4e2c2e7a45b5580"
   }
  }
 },
 "nbformat": 4,
 "nbformat_minor": 2
}
