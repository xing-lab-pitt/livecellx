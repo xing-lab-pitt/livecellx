{
 "cells": [
  {
   "attachments": {},
   "cell_type": "markdown",
   "metadata": {},
   "source": [
    "# Create UMAP of single cell features"
   ]
  },
  {
   "cell_type": "code",
   "execution_count": null,
   "metadata": {},
   "outputs": [],
   "source": [
    "from livecellx.sample_data import tutorial_three_image_sys\n",
    "\n",
    "dic_dataset, mask_dataset = tutorial_three_image_sys(dic_dataset_path=\"../datasets/test_data_STAV-A549/DIC_data\", mask_dataset_path=\"../datasets/test_data_STAV-A549/mask_data\")"
   ]
  },
  {
   "cell_type": "code",
   "execution_count": null,
   "metadata": {},
   "outputs": [],
   "source": [
    "from livecellx.core.io_sc import prep_scs_from_mask_dataset\n",
    "scs = prep_scs_from_mask_dataset(mask_dataset, dic_dataset)"
   ]
  },
  {
   "cell_type": "code",
   "execution_count": null,
   "metadata": {},
   "outputs": [],
   "source": [
    "from livecellx.trajectory.feature_extractors import compute_haralick_features, compute_skimage_regionprops\n",
    "from livecellx.preprocess.utils import normalize_img_to_uint8\n",
    "for sc in scs:\n",
    "    features = compute_skimage_regionprops(sc, preprocess_img_func=normalize_img_to_uint8, sc_level_normalize=True)"
   ]
  },
  {
   "cell_type": "code",
   "execution_count": null,
   "metadata": {},
   "outputs": [],
   "source": [
    "sc.get_feature_pd_series()"
   ]
  },
  {
   "cell_type": "code",
   "execution_count": null,
   "metadata": {},
   "outputs": [],
   "source": [
    "def create_sc_table(scs, normalize_features=True):\n",
    "    import pandas as pd\n",
    "    import numpy as np\n",
    "    df = pd.DataFrame([sc.get_feature_pd_series() for sc in scs])\n",
    "    if normalize_features:\n",
    "        for col in df.columns:\n",
    "            df[col] = (df[col] - df[col].mean())\n",
    "            col_std = df[col].std()\n",
    "            if col_std != 0 and not np.isnan(col_std):\n",
    "                df[col] /= col_std\n",
    "    # remove column t from df\n",
    "    df.drop(\"t\", axis=1, inplace=True)\n",
    "    # df[\"sc_id\"] = [sc.id for sc in scs]\n",
    "    # df[\"t\"] = [sc.timeframe for sc in scs]\n",
    "    # df.set_index(\"sc_id\", inplace=True)\n",
    "    return df\n",
    "\n",
    "sc_feature_table = create_sc_table(scs)\n",
    "sc_feature_table[:2]"
   ]
  },
  {
   "cell_type": "markdown",
   "metadata": {},
   "source": [
    "## Normalize features"
   ]
  },
  {
   "attachments": {},
   "cell_type": "markdown",
   "metadata": {},
   "source": [
    "## Perform UMAP on features"
   ]
  },
  {
   "cell_type": "code",
   "execution_count": null,
   "metadata": {},
   "outputs": [],
   "source": [
    "import umap\n",
    "reducer = umap.UMAP()"
   ]
  },
  {
   "cell_type": "code",
   "execution_count": null,
   "metadata": {},
   "outputs": [],
   "source": [
    "# check if any columns are all NaN\n",
    "sc_feature_table = sc_feature_table.dropna(axis=1, how=\"all\")"
   ]
  },
  {
   "cell_type": "code",
   "execution_count": null,
   "metadata": {},
   "outputs": [],
   "source": [
    "embedding = reducer.fit_transform(sc_feature_table)"
   ]
  },
  {
   "cell_type": "code",
   "execution_count": null,
   "metadata": {},
   "outputs": [],
   "source": [
    "embedding.shape"
   ]
  },
  {
   "cell_type": "code",
   "execution_count": null,
   "metadata": {},
   "outputs": [],
   "source": [
    "import matplotlib.pyplot as plt\n",
    "plt.scatter(\n",
    "    embedding[:, 0],\n",
    "    embedding[:, 1],\n",
    "    c=[sc.timeframe for sc in scs],\n",
    ")"
   ]
  },
  {
   "cell_type": "code",
   "execution_count": null,
   "metadata": {},
   "outputs": [],
   "source": [
    "import numpy as np\n",
    "# calculate correlation matrix between features and UMAP axis\n",
    "\n",
    "umap_axis = embedding[:, 0]\n",
    "\n",
    "feature_cols = sc_feature_table.columns\n",
    "for feature in feature_cols:\n",
    "    # print(feature, np.corrcoef(sc_feature_table[feature], umap_axis)[0, 1])\n",
    "    corr = np.corrcoef(sc_feature_table[feature], umap_axis)[0, 1]\n",
    "    if abs(corr) > 0.5:\n",
    "        print(feature, corr)"
   ]
  },
  {
   "cell_type": "code",
   "execution_count": null,
   "metadata": {},
   "outputs": [],
   "source": [
    "unnormalized_img_features = create_sc_table(scs, normalize_features=False)\n",
    "# drop na\n",
    "unnormalized_img_features = unnormalized_img_features.dropna(axis=1, how=\"all\")\n",
    "reducer = umap.UMAP()\n",
    "unnormalized_embedding = reducer.fit_transform(unnormalized_img_features)\n",
    "\n",
    "fig, axes = plt.subplots(1, 2, figsize=(10, 5))\n",
    "scatter_time = axes[0].scatter(\n",
    "    unnormalized_embedding[:, 0],\n",
    "    unnormalized_embedding[:, 1],\n",
    "    c=[sc.timeframe for sc in scs],\n",
    ")\n",
    "colorbar = fig.colorbar(scatter_time, ax=axes[0], label=\"Time\")\n"
   ]
  },
  {
   "cell_type": "code",
   "execution_count": null,
   "metadata": {},
   "outputs": [],
   "source": [
    "list(unnormalized_img_features.keys())"
   ]
  }
 ],
 "metadata": {
  "kernelspec": {
   "display_name": "livecell-work",
   "language": "python",
   "name": "python3"
  },
  "language_info": {
   "codemirror_mode": {
    "name": "ipython",
    "version": 3
   },
   "file_extension": ".py",
   "mimetype": "text/x-python",
   "name": "python",
   "nbconvert_exporter": "python",
   "pygments_lexer": "ipython3",
   "version": "3.9.16"
  },
  "orig_nbformat": 4
 },
 "nbformat": 4,
 "nbformat_minor": 2
}
