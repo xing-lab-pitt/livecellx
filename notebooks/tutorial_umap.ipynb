{
 "cells": [
  {
   "attachments": {},
   "cell_type": "markdown",
   "metadata": {},
   "source": [
    "# Create UMAP of single cell features"
   ]
  },
  {
   "cell_type": "code",
   "execution_count": 1,
   "metadata": {},
   "outputs": [
    {
     "name": "stdout",
     "output_type": "stream",
     "text": [
      "3 png img file paths loaded: \n",
      "3 tif img file paths loaded: \n"
     ]
    }
   ],
   "source": [
    "from livecell_tracker.sample_data import tutorial_three_image\n",
    "\n",
    "dic_dataset, mask_dataset = tutorial_three_image(dic_dataset_path=\"../datasets/test_data_STAV-A549/DIC_data\", mask_dataset_path=\"../datasets/test_data_STAV-A549/mask_data\")"
   ]
  },
  {
   "cell_type": "code",
   "execution_count": 2,
   "metadata": {},
   "outputs": [
    {
     "name": "stderr",
     "output_type": "stream",
     "text": [
      "100%|██████████| 3/3 [00:07<00:00,  2.44s/it]\n"
     ]
    }
   ],
   "source": [
    "from livecell_tracker.core.io_sc import prep_scs_from_mask_dataset\n",
    "scs = prep_scs_from_mask_dataset(mask_dataset, dic_dataset)"
   ]
  },
  {
   "cell_type": "code",
   "execution_count": 3,
   "metadata": {},
   "outputs": [],
   "source": [
    "from livecell_tracker.trajectory.feature_extractors import compute_haralick_features, compute_skimage_regionprops\n",
    "from livecell_tracker.preprocess.utils import normalize_img_to_uint8\n",
    "for sc in scs:\n",
    "    features = compute_skimage_regionprops(sc, preprocess_img_func=normalize_img_to_uint8)"
   ]
  },
  {
   "cell_type": "code",
   "execution_count": 4,
   "metadata": {},
   "outputs": [
    {
     "data": {
      "text/plain": [
       "skimage_area                 17509.000000\n",
       "skimage_area_bbox            27090.000000\n",
       "skimage_area_convex          18134.000000\n",
       "skimage_area_filled          17509.000000\n",
       "skimage_axis_major_length      233.508044\n",
       "                                 ...     \n",
       "skimage_orientation             -1.172603\n",
       "skimage_perimeter              576.866053\n",
       "skimage_perimeter_crofton      552.069997\n",
       "skimage_solidity                 0.965534\n",
       "t                                1.000000\n",
       "Length: 148, dtype: float64"
      ]
     },
     "execution_count": 4,
     "metadata": {},
     "output_type": "execute_result"
    }
   ],
   "source": [
    "sc.get_feature_pd_series()"
   ]
  },
  {
   "cell_type": "code",
   "execution_count": 5,
   "metadata": {},
   "outputs": [
    {
     "data": {
      "text/html": [
       "<div>\n",
       "<style scoped>\n",
       "    .dataframe tbody tr th:only-of-type {\n",
       "        vertical-align: middle;\n",
       "    }\n",
       "\n",
       "    .dataframe tbody tr th {\n",
       "        vertical-align: top;\n",
       "    }\n",
       "\n",
       "    .dataframe thead th {\n",
       "        text-align: right;\n",
       "    }\n",
       "</style>\n",
       "<table border=\"1\" class=\"dataframe\">\n",
       "  <thead>\n",
       "    <tr style=\"text-align: right;\">\n",
       "      <th></th>\n",
       "      <th>skimage_area</th>\n",
       "      <th>skimage_area_bbox</th>\n",
       "      <th>skimage_area_convex</th>\n",
       "      <th>skimage_area_filled</th>\n",
       "      <th>skimage_axis_major_length</th>\n",
       "      <th>skimage_axis_minor_length</th>\n",
       "      <th>skimage_bbox-0</th>\n",
       "      <th>skimage_bbox-1</th>\n",
       "      <th>skimage_bbox-2</th>\n",
       "      <th>skimage_bbox-3</th>\n",
       "      <th>...</th>\n",
       "      <th>skimage_moments_weighted_normalized-2-3</th>\n",
       "      <th>skimage_moments_weighted_normalized-3-0</th>\n",
       "      <th>skimage_moments_weighted_normalized-3-1</th>\n",
       "      <th>skimage_moments_weighted_normalized-3-2</th>\n",
       "      <th>skimage_moments_weighted_normalized-3-3</th>\n",
       "      <th>skimage_orientation</th>\n",
       "      <th>skimage_perimeter</th>\n",
       "      <th>skimage_perimeter_crofton</th>\n",
       "      <th>skimage_solidity</th>\n",
       "      <th>t</th>\n",
       "    </tr>\n",
       "  </thead>\n",
       "  <tbody>\n",
       "    <tr>\n",
       "      <th>0</th>\n",
       "      <td>1.325555</td>\n",
       "      <td>1.324968</td>\n",
       "      <td>1.324565</td>\n",
       "      <td>1.325555</td>\n",
       "      <td>1.285639</td>\n",
       "      <td>1.259271</td>\n",
       "      <td>0.0</td>\n",
       "      <td>0.0</td>\n",
       "      <td>1.305655</td>\n",
       "      <td>1.274558</td>\n",
       "      <td>...</td>\n",
       "      <td>-1.321793</td>\n",
       "      <td>-1.322613</td>\n",
       "      <td>-1.251255</td>\n",
       "      <td>1.320709</td>\n",
       "      <td>-1.000184</td>\n",
       "      <td>1.283702</td>\n",
       "      <td>1.316389</td>\n",
       "      <td>1.311884</td>\n",
       "      <td>-1.148174</td>\n",
       "      <td>1.154419</td>\n",
       "    </tr>\n",
       "    <tr>\n",
       "      <th>1</th>\n",
       "      <td>1.325555</td>\n",
       "      <td>1.324968</td>\n",
       "      <td>1.324565</td>\n",
       "      <td>1.325555</td>\n",
       "      <td>1.285639</td>\n",
       "      <td>1.259271</td>\n",
       "      <td>0.0</td>\n",
       "      <td>0.0</td>\n",
       "      <td>1.305655</td>\n",
       "      <td>1.274558</td>\n",
       "      <td>...</td>\n",
       "      <td>-1.321793</td>\n",
       "      <td>-1.322613</td>\n",
       "      <td>-1.251255</td>\n",
       "      <td>1.320709</td>\n",
       "      <td>-1.000184</td>\n",
       "      <td>1.283702</td>\n",
       "      <td>1.316389</td>\n",
       "      <td>1.311884</td>\n",
       "      <td>-1.148174</td>\n",
       "      <td>1.154419</td>\n",
       "    </tr>\n",
       "  </tbody>\n",
       "</table>\n",
       "<p>2 rows × 148 columns</p>\n",
       "</div>"
      ],
      "text/plain": [
       "   skimage_area  skimage_area_bbox  skimage_area_convex  skimage_area_filled  \\\n",
       "0      1.325555           1.324968             1.324565             1.325555   \n",
       "1      1.325555           1.324968             1.324565             1.325555   \n",
       "\n",
       "   skimage_axis_major_length  skimage_axis_minor_length  skimage_bbox-0  \\\n",
       "0                   1.285639                   1.259271             0.0   \n",
       "1                   1.285639                   1.259271             0.0   \n",
       "\n",
       "   skimage_bbox-1  skimage_bbox-2  skimage_bbox-3  ...  \\\n",
       "0             0.0        1.305655        1.274558  ...   \n",
       "1             0.0        1.305655        1.274558  ...   \n",
       "\n",
       "   skimage_moments_weighted_normalized-2-3  \\\n",
       "0                                -1.321793   \n",
       "1                                -1.321793   \n",
       "\n",
       "   skimage_moments_weighted_normalized-3-0  \\\n",
       "0                                -1.322613   \n",
       "1                                -1.322613   \n",
       "\n",
       "   skimage_moments_weighted_normalized-3-1  \\\n",
       "0                                -1.251255   \n",
       "1                                -1.251255   \n",
       "\n",
       "   skimage_moments_weighted_normalized-3-2  \\\n",
       "0                                 1.320709   \n",
       "1                                 1.320709   \n",
       "\n",
       "   skimage_moments_weighted_normalized-3-3  skimage_orientation  \\\n",
       "0                                -1.000184             1.283702   \n",
       "1                                -1.000184             1.283702   \n",
       "\n",
       "   skimage_perimeter  skimage_perimeter_crofton  skimage_solidity         t  \n",
       "0           1.316389                   1.311884         -1.148174  1.154419  \n",
       "1           1.316389                   1.311884         -1.148174  1.154419  \n",
       "\n",
       "[2 rows x 148 columns]"
      ]
     },
     "execution_count": 5,
     "metadata": {},
     "output_type": "execute_result"
    }
   ],
   "source": [
    "def create_sc_table(scs, normalize_features=True):\n",
    "    import pandas as pd\n",
    "    import numpy as np\n",
    "    df = pd.DataFrame([sc.get_feature_pd_series() for sc in scs])\n",
    "    if normalize_features:\n",
    "        for col in df.columns:\n",
    "            df[col] = (df[col] - df[col].mean())\n",
    "            col_std = df[col].std()\n",
    "            if col_std != 0 and not np.isnan(col_std):\n",
    "                df[col] /= col_std\n",
    "    # df[\"sc_id\"] = [sc.id for sc in scs]\n",
    "    # df[\"t\"] = [sc.timeframe for sc in scs]\n",
    "    # df.set_index(\"sc_id\", inplace=True)\n",
    "    return df\n",
    "\n",
    "sc_feature_table = create_sc_table(scs)\n",
    "sc_feature_table[:2]"
   ]
  },
  {
   "cell_type": "markdown",
   "metadata": {},
   "source": [
    "## Normalize features"
   ]
  },
  {
   "attachments": {},
   "cell_type": "markdown",
   "metadata": {},
   "source": [
    "## Perform UMAP on features"
   ]
  },
  {
   "cell_type": "code",
   "execution_count": 6,
   "metadata": {},
   "outputs": [],
   "source": [
    "import umap\n",
    "reducer = umap.UMAP()"
   ]
  },
  {
   "cell_type": "code",
   "execution_count": 7,
   "metadata": {},
   "outputs": [],
   "source": [
    "# check if any columns are all NaN\n",
    "sc_feature_table = sc_feature_table.dropna(axis=1, how=\"all\")"
   ]
  },
  {
   "cell_type": "code",
   "execution_count": 8,
   "metadata": {},
   "outputs": [],
   "source": [
    "embedding = reducer.fit_transform(sc_feature_table)"
   ]
  },
  {
   "cell_type": "code",
   "execution_count": 9,
   "metadata": {},
   "outputs": [
    {
     "data": {
      "text/plain": [
       "(42, 2)"
      ]
     },
     "execution_count": 9,
     "metadata": {},
     "output_type": "execute_result"
    }
   ],
   "source": [
    "embedding.shape"
   ]
  },
  {
   "cell_type": "code",
   "execution_count": 10,
   "metadata": {},
   "outputs": [
    {
     "data": {
      "text/plain": [
       "<matplotlib.collections.PathCollection at 0x2a1ec9f90f0>"
      ]
     },
     "execution_count": 10,
     "metadata": {},
     "output_type": "execute_result"
    },
    {
     "data": {
      "image/png": "[encoded data removed]",
      "text/plain": [
       "<Figure size 640x480 with 1 Axes>"
      ]
     },
     "metadata": {},
     "output_type": "display_data"
    }
   ],
   "source": [
    "import matplotlib.pyplot as plt\n",
    "plt.scatter(\n",
    "    embedding[:, 0],\n",
    "    embedding[:, 1],\n",
    "    c=[sc.timeframe for sc in scs],\n",
    ")"
   ]
  },
  {
   "cell_type": "code",
   "execution_count": 11,
   "metadata": {},
   "outputs": [
    {
     "data": {
      "text/plain": [
       "<matplotlib.collections.PathCollection at 0x2a1ede0f430>"
      ]
     },
     "execution_count": 11,
     "metadata": {},
     "output_type": "execute_result"
    },
    {
     "data": {
      "image/png": "[encoded data removed]",
      "text/plain": [
       "<Figure size 640x480 with 1 Axes>"
      ]
     },
     "metadata": {},
     "output_type": "display_data"
    }
   ],
   "source": [
    "unnormalized_img_features = create_sc_table(scs, normalize_features=False)\n",
    "# drop na\n",
    "unnormalized_img_features = unnormalized_img_features.dropna(axis=1, how=\"all\")\n",
    "reducer = umap.UMAP()\n",
    "unnormalized_embedding = reducer.fit_transform(unnormalized_img_features)\n",
    "plt.scatter(\n",
    "    unnormalized_embedding[:, 0],\n",
    "    unnormalized_embedding[:, 1],\n",
    "    c=[sc.timeframe for sc in scs],\n",
    ")\n"
   ]
  }
 ],
 "metadata": {
  "kernelspec": {
   "display_name": "livecell-work",
   "language": "python",
   "name": "python3"
  },
  "language_info": {
   "codemirror_mode": {
    "name": "ipython",
    "version": 3
   },
   "file_extension": ".py",
   "mimetype": "text/x-python",
   "name": "python",
   "nbconvert_exporter": "python",
   "pygments_lexer": "ipython3",
   "version": "3.10.9"
  },
  "orig_nbformat": 4
 },
 "nbformat": 4,
 "nbformat_minor": 2
}
