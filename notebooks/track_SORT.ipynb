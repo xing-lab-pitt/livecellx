{
 "cells": [
  {
   "cell_type": "code",
   "execution_count": 1,
   "metadata": {},
   "outputs": [
    {
     "name": "stdout",
     "output_type": "stream",
     "text": [
      "288 png img file paths loaded: \n",
      "288 png img file paths loaded: \n"
     ]
    }
   ],
   "source": [
    "from pathlib import Path\n",
    "import cv2\n",
    "import sys\n",
    "import numpy as np\n",
    "from skimage import feature, measure\n",
    "import livecell_tracker\n",
    "from livecell_tracker.segment import datasets\n",
    "import livecell_tracker.segment\n",
    "from livecell_tracker import segment\n",
    "import livecell_tracker.core.utils\n",
    "from tqdm import tqdm\n",
    "seg_path = r\"\"\"D:\\xing-vimentin-dic-pipeline\\src\\livecell_dev\\notebooks\\segmentation_results\\detectron_model3\\restart_day0_Group 1_wellA1_RI_MIP_stitched\"\"\"\n",
    "label_seg_imgs = segment.datasets.LiveCellImageDataset(seg_path, ext=\"png\")\n",
    "dir_path = Path(\n",
    "    r\"D:\\xing-vimentin-dic-pipeline\\src\\livecell_dev\\cxa-data\\june_2022_data_8bit_png\\restart_day0_Group 1_wellA1_RI_MIP_stitched\"\n",
    ")\n",
    "raw_imgs = segment.datasets.LiveCellImageDataset(dir_path, ext=\"png\")"
   ]
  },
  {
   "cell_type": "code",
   "execution_count": 2,
   "metadata": {},
   "outputs": [
    {
     "name": "stderr",
     "output_type": "stream",
     "text": [
      "100%|██████████| 288/288 [00:12<00:00, 23.14it/s]\n"
     ]
    }
   ],
   "source": [
    "def gen_detections_for_sort_tracker(label_mask):\n",
    "    \"\"\"\n",
    "        generate detections for SORT tracker. detections: [x1, y1, x2, y2, score]\n",
    "    Parameters\n",
    "    ----------\n",
    "    label_mask :\n",
    "        an image\n",
    "    Returns\n",
    "    -------\n",
    "    A list of (x1, y1, x2, y2, score]) for each object detected\n",
    "    \"\"\"    \n",
    "    regionprops_skimge = measure.regionprops(label_mask)\n",
    "    boxes = livecell_tracker.core.utils.get_bbox_from_regionprops(regionprops_skimge)\n",
    "    detections = np.array([list(bbox) + [1] for bbox in boxes])\n",
    "    return detections\n",
    "\n",
    "import livecell_tracker.track.sort_tracker\n",
    "MAX_AGE=5\n",
    "MIN_HITS=1\n",
    "tracker = livecell_tracker.track.sort_tracker.Sort(max_age=MAX_AGE, min_hits=MIN_HITS)\n",
    "\n",
    "all_track_bbs = []\n",
    "for i, img in enumerate(tqdm(label_seg_imgs)):\n",
    "    detections = gen_detections_for_sort_tracker(img)\n",
    "    track_bbs_ids = tracker.update(detections)\n",
    "    all_track_bbs.append(track_bbs_ids)\n",
    "    # for testing\n",
    "    # if i > 5:\n",
    "    #     break"
   ]
  },
  {
   "cell_type": "code",
   "execution_count": 3,
   "metadata": {},
   "outputs": [
    {
     "data": {
      "text/plain": [
       "(27, 5)"
      ]
     },
     "execution_count": 3,
     "metadata": {},
     "output_type": "execute_result"
    }
   ],
   "source": [
    "all_track_bbs[0].shape"
   ]
  },
  {
   "cell_type": "markdown",
   "metadata": {},
   "source": [
    "convert to int"
   ]
  },
  {
   "cell_type": "code",
   "execution_count": 4,
   "metadata": {},
   "outputs": [
    {
     "data": {
      "text/plain": [
       "[[1, 1396, 67, 1581, 27],\n",
       " [734, 2114, 914, 2264, 26],\n",
       " [382, 274, 469, 390, 25],\n",
       " [1385, 1310, 1445, 1363, 24],\n",
       " [1395, 1278, 1450, 1323, 23],\n",
       " [1829, 1590, 1906, 1619, 22],\n",
       " [144, 1333, 231, 1391, 21],\n",
       " [285, 270, 342, 358, 20],\n",
       " [60, 1266, 148, 1329, 19],\n",
       " [90, 1414, 166, 1473, 18],\n",
       " [1850, 1369, 1904, 1419, 17],\n",
       " [12, 1234, 301, 1400, 16],\n",
       " [271, 465, 351, 529, 15],\n",
       " [7, 1234, 115, 1304, 14],\n",
       " [760, 2236, 987, 2377, 13],\n",
       " [1012, 2321, 1102, 2385, 12],\n",
       " [103, 1304, 322, 1406, 11],\n",
       " [1733, 1571, 1989, 1690, 10],\n",
       " [988, 2282, 1140, 2402, 9],\n",
       " [780, 2238, 821, 2253, 8],\n",
       " [1783, 1494, 2034, 1574, 7],\n",
       " [69, 424, 607, 694, 6],\n",
       " [350, 180, 584, 413, 5],\n",
       " [1789, 1256, 2015, 1480, 4],\n",
       " [48, 1391, 280, 1543, 3],\n",
       " [1297, 1159, 1571, 1481, 2],\n",
       " [152, 190, 359, 445, 1]]"
      ]
     },
     "execution_count": 4,
     "metadata": {},
     "output_type": "execute_result"
    }
   ],
   "source": [
    "all_track_bbs = [track_bbs.astype(np.int32).tolist() for track_bbs in all_track_bbs]\n",
    "all_track_bbs[0]"
   ]
  },
  {
   "cell_type": "markdown",
   "metadata": {},
   "source": [
    "### Save track bbox results to json for later development"
   ]
  },
  {
   "cell_type": "code",
   "execution_count": 5,
   "metadata": {},
   "outputs": [],
   "source": [
    "dest_track_bbs_path = \"detectron_model3_all_track_bbs-restart_day0_Group 1_wellA1_RI_MIP_stitched.json\"\n",
    "import json\n",
    "with open(dest_track_bbs_path, \"w+\") as out_f:\n",
    "    json.dump(all_track_bbs, out_f)\n"
   ]
  },
  {
   "cell_type": "markdown",
   "metadata": {},
   "source": [
    "## Visualize Track results"
   ]
  },
  {
   "cell_type": "code",
   "execution_count": 6,
   "metadata": {},
   "outputs": [
    {
     "name": "stdout",
     "output_type": "stream",
     "text": [
      "288 png img file paths loaded: \n",
      "288 png img file paths loaded: \n"
     ]
    }
   ],
   "source": [
    "from pathlib import Path\n",
    "import cv2\n",
    "import sys\n",
    "import numpy as np\n",
    "from skimage import feature, measure\n",
    "import livecell_tracker\n",
    "from livecell_tracker.segment import datasets\n",
    "import livecell_tracker.segment\n",
    "from livecell_tracker import segment\n",
    "import livecell_tracker.core.utils\n",
    "from tqdm import tqdm\n",
    "seg_path = r\"\"\"D:\\xing-vimentin-dic-pipeline\\src\\livecell_dev\\notebooks\\segmentation_results\\detectron_model3\\restart_day0_Group 1_wellA1_RI_MIP_stitched\"\"\"\n",
    "label_seg_imgs = segment.datasets.LiveCellImageDataset(seg_path, ext=\"png\")\n",
    "dir_path = Path(\n",
    "    r\"D:\\xing-vimentin-dic-pipeline\\src\\livecell_dev\\cxa-data\\june_2022_data_8bit_png\\restart_day0_Group 1_wellA1_RI_MIP_stitched\"\n",
    ")\n",
    "raw_imgs = segment.datasets.LiveCellImageDataset(dir_path, ext=\"png\")"
   ]
  },
  {
   "cell_type": "markdown",
   "metadata": {},
   "source": [
    "### load bbox paths"
   ]
  },
  {
   "cell_type": "code",
   "execution_count": 7,
   "metadata": {},
   "outputs": [
    {
     "name": "stdout",
     "output_type": "stream",
     "text": [
      "loading:  ../cxa-data/test_data/sort_track/max_age-1_min_hit-1_detectron_model3_all_track_bbs-restart_day0_Group 1_wellA1_RI_MIP_stitched.json\n"
     ]
    },
    {
     "data": {
      "text/plain": [
       "int"
      ]
     },
     "execution_count": 7,
     "metadata": {},
     "output_type": "execute_result"
    }
   ],
   "source": [
    "import json\n",
    "MAX_AGE, MIN_HITS = 1, 1\n",
    "_track_bbs_path = \"../cxa-data/test_data/sort_track/max_age-{}_min_hit-{}_detectron_model3_all_track_bbs-restart_day0_Group 1_wellA1_RI_MIP_stitched.json\".format(MAX_AGE, MIN_HITS)\n",
    "print(\"loading: \", _track_bbs_path)\n",
    "with open(_track_bbs_path, \"r\") as in_f:\n",
    "    json_in = json.load(in_f)\n",
    "type(json_in[0][0][0])"
   ]
  },
  {
   "cell_type": "code",
   "execution_count": 8,
   "metadata": {},
   "outputs": [],
   "source": [
    "all_track_bbs = [np.array(track_bbs, dtype=int) for track_bbs in json_in]"
   ]
  },
  {
   "cell_type": "code",
   "execution_count": 9,
   "metadata": {},
   "outputs": [
    {
     "data": {
      "text/plain": [
       "(27, 5)"
      ]
     },
     "execution_count": 9,
     "metadata": {},
     "output_type": "execute_result"
    }
   ],
   "source": [
    "all_track_bbs[0].shape"
   ]
  },
  {
   "cell_type": "markdown",
   "metadata": {},
   "source": [
    "### Manually check bboxes  \n",
    " - be careful: coordinates of numpy/skimage/cv2/pixel/rowCol/bbox"
   ]
  },
  {
   "cell_type": "code",
   "execution_count": 10,
   "metadata": {},
   "outputs": [],
   "source": [
    "import matplotlib.pyplot as plt\n",
    "import matplotlib.patches as patches\n",
    "idx = 2\n",
    "bboxes = all_track_bbs[idx]\n",
    "fig, ax = plt.subplots()\n",
    "ax.imshow(raw_imgs[idx])\n",
    "for bbox in bboxes:\n",
    "    # Create a Rectangle patch\n",
    "    rect = patches.Rectangle((bbox[1], bbox[0]),  (bbox[3] - bbox[1]), (bbox[2] - bbox[0]), linewidth=1, edgecolor='r', facecolor='none')\n",
    "    # Add the patch to the Axes\n",
    "    ax.add_patch(rect)\n",
    "# plt.show()\n"
   ]
  },
  {
   "cell_type": "code",
   "execution_count": 11,
   "metadata": {},
   "outputs": [],
   "source": [
    "import matplotlib.pyplot as plt\n",
    "from matplotlib.animation import FuncAnimation\n",
    "import os\n",
    "from livecell_tracker.core import SingleCellTrajectory, SingleCellStatic, single_cell\n",
    "\n",
    "id_to_sc_trajs = {}\n",
    "for timeframe, objects in enumerate(all_track_bbs):\n",
    "    for obj in objects:\n",
    "        track_id = obj[-1]\n",
    "        if not (track_id in id_to_sc_trajs):\n",
    "            new_traj = SingleCellTrajectory(raw_imgs, track_id=track_id)\n",
    "            id_to_sc_trajs[track_id] = new_traj\n",
    "        # print(\"obj: \", obj)\n",
    "        sc = SingleCellStatic(\n",
    "            timeframe, bbox=obj[:4], img_dataset=raw_imgs\n",
    "        )  # final column is track_id, ignore as we only need bbox here\n",
    "        _traj = id_to_sc_trajs[track_id]\n",
    "        _traj.add_timeframe_data(timeframe, sc)\n"
   ]
  },
  {
   "cell_type": "markdown",
   "metadata": {},
   "source": [
    "### length distribution"
   ]
  },
  {
   "cell_type": "code",
   "execution_count": 12,
   "metadata": {},
   "outputs": [
    {
     "data": {
      "image/png": "[encoded data removed]",
      "text/plain": [
       "<Figure size 432x288 with 1 Axes>"
      ]
     },
     "metadata": {
      "needs_background": "light"
     },
     "output_type": "display_data"
    }
   ],
   "source": [
    "%matplotlib inline\n",
    "import seaborn as sns\n",
    "all_traj_lengths = np.array([_traj.get_timeframe_span_length() for _traj in id_to_sc_trajs.values()])\n",
    "sns.histplot(all_traj_lengths, bins=100)\n",
    "plt.title(\"max_age={}, min_hits={}\".format(MAX_AGE, MIN_HITS))\n",
    "plt.ylabel(\"Count\")\n",
    "plt.xlabel(\"Traj length\")\n",
    "plt.show()"
   ]
  },
  {
   "cell_type": "code",
   "execution_count": 13,
   "metadata": {},
   "outputs": [
    {
     "data": {
      "text/plain": [
       "(77, 39, 28)"
      ]
     },
     "execution_count": 13,
     "metadata": {},
     "output_type": "execute_result"
    }
   ],
   "source": [
    "(all_traj_lengths > 10).sum(), (all_traj_lengths > 30).sum(), (all_traj_lengths > 50).sum()"
   ]
  }
 ],
 "metadata": {
  "kernelspec": {
   "display_name": "Python 3.8.13 ('cv-general')",
   "language": "python",
   "name": "python3"
  },
  "language_info": {
   "codemirror_mode": {
    "name": "ipython",
    "version": 3
   },
   "file_extension": ".py",
   "mimetype": "text/x-python",
   "name": "python",
   "nbconvert_exporter": "python",
   "pygments_lexer": "ipython3",
   "version": "3.8.13"
  },
  "orig_nbformat": 4,
  "vscode": {
   "interpreter": {
    "hash": "b5dfbec2055422cee39dc040b31dfffa8b21a342109231ab17bc6ff9949c7133"
   }
  }
 },
 "nbformat": 4,
 "nbformat_minor": 2
}
