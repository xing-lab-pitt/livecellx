{
 "cells": [
  {
   "cell_type": "code",
   "execution_count": 3,
   "metadata": {},
   "outputs": [
    {
     "name": "stdout",
     "output_type": "stream",
     "text": [
      "3 png img file paths loaded: \n",
      "3 png img file paths loaded: \n"
     ]
    }
   ],
   "source": [
    "from pathlib import Path\n",
    "import cv2\n",
    "import sys\n",
    "import numpy as np\n",
    "from skimage import feature, measure\n",
    "import livecell_tracker\n",
    "from livecell_tracker.segment import datasets\n",
    "from livecell_tracker.segment.datasets import LiveCellImageDataset\n",
    "import livecell_tracker.segment\n",
    "from livecell_tracker import segment\n",
    "import livecell_tracker.core.utils\n",
    "from tqdm import tqdm\n",
    "seg_path = r\"\"\"./notebook_results/segmentation_results/detectron_model3/restart_day0_Group 1_wellA1_RI_MIP_stitched\"\"\"\n",
    "# seg_path = r\"\"\"./notebook_results/segmentation_results/detectron_model3/restart_day2_Group 1_wellA1_RI_MIP_stitched\"\"\"\n",
    "label_seg_imgs = LiveCellImageDataset(seg_path, ext=\"png\", num_imgs=3)\n",
    "dir_path = Path(\n",
    "    r\"../cxa-data/june_2022_data_8bit_png/restart_day0_Group 1_wellA1_RI_MIP_stitched\"\n",
    ")\n",
    "# dir_path = Path(\n",
    "#     r\"../cxa-data/june_2022_data_8bit_png/restart_day2_Group 1_wellA1_RI_MIP_stitched\"\n",
    "# )\n",
    "\n",
    "raw_imgs = LiveCellImageDataset(dir_path, ext=\"png\", num_imgs=3)"
   ]
  },
  {
   "cell_type": "code",
   "execution_count": 9,
   "metadata": {},
   "outputs": [],
   "source": [
    "def gen_SORT_detections_input_from_label_mask(label_mask):\n",
    "    \"\"\"\n",
    "        generate detections for SORT tracker. detections: [x1, y1, x2, y2, score]\n",
    "    Parameters\n",
    "    ----------\n",
    "    label_mask :\n",
    "        an image\n",
    "    Returns\n",
    "    -------\n",
    "    A list of (x1, y1, x2, y2, score]) for each object detected\n",
    "    \"\"\"    \n",
    "    regionprops_skimge = measure.regionprops(label_mask)\n",
    "    boxes = livecell_tracker.core.utils.get_bbox_from_regionprops(regionprops_skimge)\n",
    "    detections = np.array([list(bbox) + [1] for bbox in boxes])\n",
    "    return detections\n",
    "\n",
    "\n",
    "import livecell_tracker.track.sort_tracker\n",
    "MAX_AGE=5\n",
    "MIN_HITS=1\n",
    "tracker = livecell_tracker.track.sort_tracker.Sort(max_age=MAX_AGE, min_hits=MIN_HITS)\n"
   ]
  },
  {
   "cell_type": "code",
   "execution_count": 10,
   "metadata": {},
   "outputs": [],
   "source": [
    "def track_by_label_masks():\n",
    "    all_track_bbs = []\n",
    "    for i, img in enumerate(tqdm(label_seg_imgs)):\n",
    "        detections = gen_SORT_detections_input_from_label_mask(img)\n",
    "        track_bbs_ids = tracker.update(detections)\n",
    "        all_track_bbs.append(track_bbs_ids)\n",
    "        # for testing\n",
    "        # if i > 5:\n",
    "        #     break\n",
    "\n",
    "def track_by_contour_list():\n",
    "    all_track_bbs = []\n",
    "    for i, img in enumerate(tqdm(label_seg_imgs)):\n",
    "        detections = gen_SORT_detections_input_from_label_mask(img)\n",
    "        track_bbs_ids = tracker.update(detections)\n",
    "        all_track_bbs.append(track_bbs_ids)\n",
    "        # for testing\n",
    "        # if i > 5:\n",
    "        #     break"
   ]
  },
  {
   "cell_type": "code",
   "execution_count": 17,
   "metadata": {},
   "outputs": [
    {
     "name": "stdout",
     "output_type": "stream",
     "text": [
      "matching image path: ../cxa-data/june_2022_data_8bit_png/restart_day0_Group 1_wellA1_RI_MIP_stitched/T001.png\n",
      "matching image path: ../cxa-data/june_2022_data_8bit_png/restart_day0_Group 1_wellA1_RI_MIP_stitched/T002.png\n",
      "matching image path: ../cxa-data/june_2022_data_8bit_png/restart_day0_Group 1_wellA1_RI_MIP_stitched/T003.png\n"
     ]
    }
   ],
   "source": [
    "import json\n",
    "def get_bbox_from_contour(contour: list):\n",
    "    contour = np.array(contour)\n",
    "    return np.array([contour[:, 0].min(), contour[:, 1].min(), contour[:, 0].max(), contour[:, 1].max()])\n",
    "\n",
    "\n",
    "def gen_SORT_detections_input_from_contours(contours):\n",
    "    \"\"\"\n",
    "    generate detections for SORT tracker. detections: [x1, y1, x2, y2, score]\n",
    "    ----------\n",
    "    label_mask :\n",
    "        an image\n",
    "    Returns\n",
    "    -------\n",
    "    A list of (x1, y1, x2, y2, score]) for each object detected\n",
    "    \"\"\"   \n",
    "    boxes = [get_bbox_from_contour(contour) for contour in contours]\n",
    "    detections = np.array([list(bbox) + [1] for bbox in boxes])\n",
    "    return detections\n",
    "\n",
    "segmentation_result_json_path = r\"./notebook_results/seg_test_tmp_day0/segmentation_results.json\"\n",
    "segmentation_results = json.load(open(segmentation_result_json_path, \"r\"))\n",
    "segmentation_results\n",
    "\n",
    "all_track_bbs = []\n",
    "for idx, img in enumerate(raw_imgs):\n",
    "    print(\"matching image path:\", raw_imgs.get_img_path(idx))\n",
    "    img_path = raw_imgs.get_img_path(idx)\n",
    "    # TODO: fix in the future only for windows...Somehow json lib saved double slashes\n",
    "    img_path.replace(\"//\", \"////\") \n",
    "    contours = segmentation_results[raw_imgs.get_img_path(idx)][\"contours\"]\n",
    "    detections = gen_SORT_detections_input_from_contours(contours)\n",
    "    track_bbs_ids = tracker.update(detections)\n",
    "    all_track_bbs.append(track_bbs_ids)"
   ]
  },
  {
   "cell_type": "markdown",
   "metadata": {},
   "source": [
    "convert to int"
   ]
  },
  {
   "cell_type": "code",
   "execution_count": 18,
   "metadata": {},
   "outputs": [
    {
     "data": {
      "text/plain": [
       "[[0, 1399, 67, 1577, 29],\n",
       " [396, 288, 456, 355, 27],\n",
       " [1385, 1308, 1443, 1363, 26],\n",
       " [777, 2162, 851, 2235, 25],\n",
       " [1394, 1276, 1449, 1331, 24],\n",
       " [1826, 1586, 1908, 1618, 23],\n",
       " [137, 1334, 225, 1391, 22],\n",
       " [284, 269, 341, 357, 21],\n",
       " [59, 1265, 148, 1328, 20],\n",
       " [90, 1416, 164, 1473, 19],\n",
       " [1847, 1366, 1906, 1419, 18],\n",
       " [16, 1249, 302, 1402, 17],\n",
       " [268, 463, 353, 531, 16],\n",
       " [6, 1232, 212, 1351, 15],\n",
       " [757, 2236, 989, 2376, 14],\n",
       " [1013, 2321, 1102, 2383, 13],\n",
       " [103, 1295, 321, 1405, 12],\n",
       " [1724, 1554, 2005, 1690, 11],\n",
       " [991, 2282, 1138, 2400, 10],\n",
       " [739, 2116, 873, 2257, 9],\n",
       " [1780, 1493, 2033, 1576, 7],\n",
       " [72, 423, 605, 693, 6],\n",
       " [357, 186, 575, 410, 5],\n",
       " [1787, 1255, 2014, 1478, 4],\n",
       " [45, 1394, 282, 1541, 3],\n",
       " [1295, 1159, 1571, 1479, 2],\n",
       " [151, 189, 363, 446, 1]]"
      ]
     },
     "execution_count": 18,
     "metadata": {},
     "output_type": "execute_result"
    }
   ],
   "source": [
    "all_track_bbs = [track_bbs.astype(np.int32).tolist() for track_bbs in all_track_bbs]\n",
    "all_track_bbs[0]"
   ]
  },
  {
   "cell_type": "markdown",
   "metadata": {},
   "source": [
    "### Save track bbox results to json for later development"
   ]
  },
  {
   "cell_type": "code",
   "execution_count": null,
   "metadata": {},
   "outputs": [],
   "source": [
    "dest_track_bbs_path = \"detectron_model3_all_track_bbs-restart_day0_Group 1_wellA1_RI_MIP_stitched_by_contours.json\"\n",
    "import json\n",
    "with open(dest_track_bbs_path, \"w+\") as out_f:\n",
    "    json.dump(all_track_bbs, out_f)\n"
   ]
  },
  {
   "cell_type": "markdown",
   "metadata": {},
   "source": [
    "## Visualize Track results"
   ]
  },
  {
   "cell_type": "code",
   "execution_count": null,
   "metadata": {},
   "outputs": [],
   "source": [
    "from pathlib import Path\n",
    "import cv2\n",
    "import sys\n",
    "import numpy as np\n",
    "from skimage import feature, measure\n",
    "import livecell_tracker\n",
    "from livecell_tracker.segment import datasets\n",
    "import livecell_tracker.segment\n",
    "from livecell_tracker import segment\n",
    "import livecell_tracker.core.utils\n",
    "from tqdm import tqdm\n",
    "seg_path = r\"\"\"./notebooks_results/segmentation_results/detectron_model3/restart_day0_Group 1_wellA1_RI_MIP_stitched\"\"\"\n",
    "label_seg_imgs = segment.datasets.LiveCellImageDataset(seg_path, ext=\"png\")\n",
    "dir_path = Path(\n",
    "    r\"../cxa-data/june_2022_data_8bit_png/restart_day0_Group 1_wellA1_RI_MIP_stitched\"\n",
    ")\n",
    "raw_imgs = segment.datasets.LiveCellImageDataset(dir_path, ext=\"png\")"
   ]
  },
  {
   "cell_type": "markdown",
   "metadata": {},
   "source": [
    "### load bbox paths"
   ]
  },
  {
   "cell_type": "code",
   "execution_count": null,
   "metadata": {},
   "outputs": [],
   "source": [
    "import json\n",
    "MAX_AGE, MIN_HITS = 1, 1\n",
    "_track_bbs_path = \"../cxa-data/test_data/sort_track/max_age-{}_min_hit-{}_detectron_model3_all_track_bbs-restart_day0_Group 1_wellA1_RI_MIP_stitched.json\".format(MAX_AGE, MIN_HITS)\n",
    "print(\"loading: \", _track_bbs_path)\n",
    "with open(_track_bbs_path, \"r\") as in_f:\n",
    "    json_in = json.load(in_f)\n",
    "type(json_in[0][0][0])"
   ]
  },
  {
   "cell_type": "code",
   "execution_count": null,
   "metadata": {},
   "outputs": [],
   "source": [
    "all_track_bbs = [np.array(track_bbs, dtype=int) for track_bbs in json_in]"
   ]
  },
  {
   "cell_type": "code",
   "execution_count": null,
   "metadata": {},
   "outputs": [],
   "source": [
    "all_track_bbs[0].shape"
   ]
  },
  {
   "cell_type": "markdown",
   "metadata": {},
   "source": [
    "### Manually check bboxes  \n",
    " - be careful: coordinates of numpy/skimage/cv2/pixel/rowCol/bbox"
   ]
  },
  {
   "cell_type": "code",
   "execution_count": null,
   "metadata": {},
   "outputs": [],
   "source": [
    "import matplotlib.pyplot as plt\n",
    "import matplotlib.patches as patches\n",
    "idx = 2\n",
    "bboxes = all_track_bbs[idx]\n",
    "fig, ax = plt.subplots()\n",
    "ax.imshow(raw_imgs[idx])\n",
    "for bbox in bboxes:\n",
    "    # Create a Rectangle patch\n",
    "    rect = patches.Rectangle((bbox[1], bbox[0]),  (bbox[3] - bbox[1]), (bbox[2] - bbox[0]), linewidth=1, edgecolor='r', facecolor='none')\n",
    "    # Add the patch to the Axes\n",
    "    ax.add_patch(rect)\n",
    "# plt.show()\n"
   ]
  },
  {
   "cell_type": "code",
   "execution_count": null,
   "metadata": {},
   "outputs": [],
   "source": [
    "import matplotlib.pyplot as plt\n",
    "from matplotlib.animation import FuncAnimation\n",
    "import os\n",
    "from livecell_tracker.core import SingleCellTrajectory, SingleCellStatic, single_cell\n",
    "\n",
    "id_to_sc_trajs = {}\n",
    "for timeframe, objects in enumerate(all_track_bbs):\n",
    "    for obj in objects:\n",
    "        track_id = obj[-1]\n",
    "        if not (track_id in id_to_sc_trajs):\n",
    "            new_traj = SingleCellTrajectory(raw_imgs, track_id=track_id)\n",
    "            id_to_sc_trajs[track_id] = new_traj\n",
    "        # print(\"obj: \", obj)\n",
    "        sc = SingleCellStatic(\n",
    "            timeframe, bbox=obj[:4], img_dataset=raw_imgs\n",
    "        )  # final column is track_id, ignore as we only need bbox here\n",
    "        _traj = id_to_sc_trajs[track_id]\n",
    "        _traj.add_timeframe_data(timeframe, sc)\n"
   ]
  },
  {
   "cell_type": "markdown",
   "metadata": {},
   "source": [
    "### length distribution"
   ]
  },
  {
   "cell_type": "code",
   "execution_count": null,
   "metadata": {},
   "outputs": [],
   "source": [
    "%matplotlib inline\n",
    "import seaborn as sns\n",
    "all_traj_lengths = np.array([_traj.get_timeframe_span_length() for _traj in id_to_sc_trajs.values()])\n",
    "sns.histplot(all_traj_lengths, bins=100)\n",
    "plt.title(\"max_age={}, min_hits={}\".format(MAX_AGE, MIN_HITS))\n",
    "plt.ylabel(\"Count\")\n",
    "plt.xlabel(\"Traj length\")\n",
    "plt.show()"
   ]
  },
  {
   "cell_type": "code",
   "execution_count": null,
   "metadata": {},
   "outputs": [],
   "source": [
    "(all_traj_lengths > 10).sum(), (all_traj_lengths > 30).sum(), (all_traj_lengths > 50).sum()"
   ]
  }
 ],
 "metadata": {
  "kernelspec": {
   "display_name": "Python 3.8.13 ('cv-general')",
   "language": "python",
   "name": "python3"
  },
  "language_info": {
   "codemirror_mode": {
    "name": "ipython",
    "version": 3
   },
   "file_extension": ".py",
   "mimetype": "text/x-python",
   "name": "python",
   "nbconvert_exporter": "python",
   "pygments_lexer": "ipython3",
   "version": "3.8.13"
  },
  "orig_nbformat": 4,
  "vscode": {
   "interpreter": {
    "hash": "b5dfbec2055422cee39dc040b31dfffa8b21a342109231ab17bc6ff9949c7133"
   }
  }
 },
 "nbformat": 4,
 "nbformat_minor": 2
}
