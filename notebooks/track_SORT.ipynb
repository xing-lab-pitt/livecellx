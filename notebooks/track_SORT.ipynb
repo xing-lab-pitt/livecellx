{
 "cells": [
  {
   "cell_type": "code",
   "execution_count": 1,
   "metadata": {},
   "outputs": [],
   "source": [
    "from pathlib import Path\n",
    "import cv2\n",
    "import sys\n",
    "import numpy as np\n",
    "from skimage import feature, measure\n",
    "import livecell_tracker\n",
    "from livecell_tracker.core import datasets\n",
    "from livecell_tracker.core.datasets import LiveCellImageDataset\n",
    "import livecell_tracker.segment\n",
    "from livecell_tracker import core\n",
    "import livecell_tracker.core.utils\n",
    "from tqdm import tqdm\n",
    "import json\n",
    "from livecell_tracker.core import (\n",
    "    SingleCellTrajectory,\n",
    "    SingleCellStatic,\n",
    "    SingleCellTrajectoryCollection,\n",
    ")\n",
    "\n",
    "# seg_dir_path = r\"\"\"./notebook_results/segmentation_results/detectron_model3/restart_day0_Group 1_wellA1_RI_MIP_stitched\"\"\"\n",
    "# seg_dir_path = r\"\"\"./notebook_results/segmentation_results/detectron_model3/restart_day2_Group 1_wellA1_RI_MIP_stitched\"\"\"\n",
    "seg_dir_path = r\"\"\"../datasets/test_data/track_sort/seg_output_3_imgs_day0_group1\"\"\"\n",
    "label_seg_imgs = core.datasets.LiveCellImageDataset(seg_dir_path, ext=\"png\")\n",
    "\n",
    "label_seg_imgs = LiveCellImageDataset(seg_dir_path, ext=\"png\", num_imgs=3)\n",
    "dataset_dir_path = Path(\n",
    "    r\"../cxa-data/june_2022_data_8bit_png/restart_day0_Group 1_wellA1_RI_MIP_stitched\"\n",
    ")\n",
    "# dataset_dir_path = Path(\n",
    "#     r\"../cxa-data/june_2022_data_8bit_png/restart_day2_Group 1_wellA1_RI_MIP_stitched\"\n",
    "# )\n",
    "\n",
    "raw_imgs = LiveCellImageDataset(dataset_dir_path, ext=\"png\", num_imgs=3)\n",
    "segmentation_result_json_path = r\"../datasets/test_data/track_sort/seg_output_3_imgs_day0_group1/segmentation_results.json\"\n",
    "segmentation_results = json.load(open(segmentation_result_json_path, \"r\"))\n",
    "segmentation_results;"
   ]
  },
  {
   "cell_type": "code",
   "execution_count": 2,
   "metadata": {},
   "outputs": [],
   "source": [
    "def gen_SORT_detections_input_from_label_mask(label_mask):\n",
    "    \"\"\"\n",
    "        generate detections for SORT tracker. detections: [x1, y1, x2, y2, score]\n",
    "    Parameters\n",
    "    ----------\n",
    "    label_mask :\n",
    "        an image\n",
    "    Returns\n",
    "    -------\n",
    "    A list of (x1, y1, x2, y2, score]) for each object detected\n",
    "    \"\"\"\n",
    "    regionprops_skimge = measure.regionprops(label_mask)\n",
    "    boxes = livecell_tracker.core.utils.get_bbox_from_regionprops(regionprops_skimge)\n",
    "    detections = np.array([list(bbox) + [1] for bbox in boxes])\n",
    "    return detections\n"
   ]
  },
  {
   "cell_type": "code",
   "execution_count": 3,
   "metadata": {},
   "outputs": [],
   "source": [
    "import livecell_tracker.track.sort_tracker\n",
    "\n",
    "MAX_AGE = 5\n",
    "MIN_HITS = 1\n",
    "tracker = livecell_tracker.track.sort_tracker.Sort(max_age=MAX_AGE, min_hits=MIN_HITS)\n",
    "\n",
    "def track_by_label_masks():\n",
    "    all_track_bbs = []\n",
    "    for i, img in enumerate(tqdm(label_seg_imgs)):\n",
    "        detections = gen_SORT_detections_input_from_label_mask(img)\n",
    "        track_bbs_ids = tracker.update(detections)\n",
    "        all_track_bbs.append(track_bbs_ids)\n",
    "        # for testing\n",
    "        # if i > 5:\n",
    "        #     break\n",
    "\n",
    "\n",
    "def track_by_contour_list():\n",
    "    all_track_bbs = []\n",
    "    for i, img in enumerate(tqdm(label_seg_imgs)):\n",
    "        detections = gen_SORT_detections_input_from_label_mask(img)\n",
    "        track_bbs_ids = tracker.update(detections)\n",
    "        all_track_bbs.append(track_bbs_ids)\n",
    "        # for testing\n",
    "        # if i > 5:\n",
    "        #     break\n"
   ]
  },
  {
   "cell_type": "code",
   "execution_count": 4,
   "metadata": {},
   "outputs": [
    {
     "name": "stdout",
     "output_type": "stream",
     "text": [
      "matching image path: ../cxa-data/june_2022_data_8bit_png/restart_day0_Group 1_wellA1_RI_MIP_stitched/T001.png\n",
      "matching image path: ../cxa-data/june_2022_data_8bit_png/restart_day0_Group 1_wellA1_RI_MIP_stitched/T002.png\n",
      "matching image path: ../cxa-data/june_2022_data_8bit_png/restart_day0_Group 1_wellA1_RI_MIP_stitched/T003.png\n"
     ]
    }
   ],
   "source": [
    "from livecell_tracker.track.sort_tracker_utils import (\n",
    "    gen_SORT_detections_input_from_contours,\n",
    "    update_traj_collection_by_SORT_tracker_detection,\n",
    "    track_SORT_bbox_from_contours\n",
    ")\n",
    "\n",
    "traj_collection = track_SORT_bbox_from_contours(segmentation_results, raw_imgs, max_age=MAX_AGE, min_hits=MIN_HITS)\n"
   ]
  },
  {
   "cell_type": "markdown",
   "metadata": {},
   "source": [
    "convert to int"
   ]
  },
  {
   "cell_type": "markdown",
   "metadata": {},
   "source": [
    "### Save SORT results to json for later development"
   ]
  },
  {
   "cell_type": "code",
   "execution_count": 5,
   "metadata": {},
   "outputs": [],
   "source": [
    "# dest_track_bbs_path = \"detectron_model3_all_track_bbs-restart_day0_Group 1_wellA1_RI_MIP_stitched_by_contours.json\"\n",
    "# import json\n",
    "# with open(dest_track_bbs_path, \"w+\") as out_f:\n",
    "#     json.dump(all_track_bbs, out_f)\n",
    "traj_collection.write_json(\"test_trajs.json\")"
   ]
  },
  {
   "cell_type": "markdown",
   "metadata": {},
   "source": [
    "## Visualize Track results"
   ]
  },
  {
   "cell_type": "markdown",
   "metadata": {},
   "source": [
    "### Manually check bboxes  \n",
    " - be careful: coordinates of numpy/skimage/cv2/pixel/rowCol/bbox"
   ]
  },
  {
   "cell_type": "code",
   "execution_count": 6,
   "metadata": {},
   "outputs": [
    {
     "ename": "NameError",
     "evalue": "name 'all_track_bbs' is not defined",
     "output_type": "error",
     "traceback": [
      "\u001b[1;31m---------------------------------------------------------------------------\u001b[0m",
      "\u001b[1;31mNameError\u001b[0m                                 Traceback (most recent call last)",
      "\u001b[1;32md:\\LiveCellTracker-dev\\notebooks\\track_SORT.ipynb Cell 10\u001b[0m in \u001b[0;36m<cell line: 5>\u001b[1;34m()\u001b[0m\n\u001b[0;32m      <a href='vscode-notebook-cell:/d%3A/LiveCellTracker-dev/notebooks/track_SORT.ipynb#X12sZmlsZQ%3D%3D?line=1'>2</a>\u001b[0m \u001b[39mimport\u001b[39;00m \u001b[39mmatplotlib\u001b[39;00m\u001b[39m.\u001b[39;00m\u001b[39mpatches\u001b[39;00m \u001b[39mas\u001b[39;00m \u001b[39mpatches\u001b[39;00m\n\u001b[0;32m      <a href='vscode-notebook-cell:/d%3A/LiveCellTracker-dev/notebooks/track_SORT.ipynb#X12sZmlsZQ%3D%3D?line=3'>4</a>\u001b[0m timepoint \u001b[39m=\u001b[39m \u001b[39m2\u001b[39m\n\u001b[1;32m----> <a href='vscode-notebook-cell:/d%3A/LiveCellTracker-dev/notebooks/track_SORT.ipynb#X12sZmlsZQ%3D%3D?line=4'>5</a>\u001b[0m bboxes \u001b[39m=\u001b[39m all_track_bbs[timepoint]\n\u001b[0;32m      <a href='vscode-notebook-cell:/d%3A/LiveCellTracker-dev/notebooks/track_SORT.ipynb#X12sZmlsZQ%3D%3D?line=5'>6</a>\u001b[0m fig, ax \u001b[39m=\u001b[39m plt\u001b[39m.\u001b[39msubplots()\n\u001b[0;32m      <a href='vscode-notebook-cell:/d%3A/LiveCellTracker-dev/notebooks/track_SORT.ipynb#X12sZmlsZQ%3D%3D?line=6'>7</a>\u001b[0m ax\u001b[39m.\u001b[39mimshow(raw_imgs[timepoint])\n",
      "\u001b[1;31mNameError\u001b[0m: name 'all_track_bbs' is not defined"
     ]
    }
   ],
   "source": [
    "# import matplotlib.pyplot as plt\n",
    "# import matplotlib.patches as patches\n",
    "\n",
    "# timepoint = 2\n",
    "# bboxes = all_track_bbs[timepoint]\n",
    "# fig, ax = plt.subplots()\n",
    "# ax.imshow(raw_imgs[timepoint])\n",
    "# for bbox in bboxes:\n",
    "#     # Create a Rectangle patch\n",
    "#     rect = patches.Rectangle(\n",
    "#         (bbox[1], bbox[0]),\n",
    "#         (bbox[3] - bbox[1]),\n",
    "#         (bbox[2] - bbox[0]),\n",
    "#         linewidth=1,\n",
    "#         edgecolor=\"r\",\n",
    "#         facecolor=\"none\",\n",
    "#     )\n",
    "#     # Add the patch to the Axes\n",
    "#     ax.add_patch(rect)\n",
    "# plt.show()\n"
   ]
  },
  {
   "cell_type": "markdown",
   "metadata": {},
   "source": [
    "### length distribution"
   ]
  },
  {
   "cell_type": "code",
   "execution_count": null,
   "metadata": {},
   "outputs": [],
   "source": [
    "%matplotlib inline\n",
    "import seaborn as sns\n",
    "id_to_sc_trajs = traj_collection.track_id_to_trajectory\n",
    "all_traj_lengths = np.array([_traj.get_timeframe_span_length() for _traj in id_to_sc_trajs.values()])\n",
    "sns.histplot(all_traj_lengths, bins=100)\n",
    "plt.title(\"max_age={}, min_hits={}\".format(MAX_AGE, MIN_HITS))\n",
    "plt.ylabel(\"Count\")\n",
    "plt.xlabel(\"Traj length\")\n",
    "plt.show()"
   ]
  }
 ],
 "metadata": {
  "kernelspec": {
   "display_name": "Python 3.8.13 ('cv-general')",
   "language": "python",
   "name": "python3"
  },
  "language_info": {
   "codemirror_mode": {
    "name": "ipython",
    "version": 3
   },
   "file_extension": ".py",
   "mimetype": "text/x-python",
   "name": "python",
   "nbconvert_exporter": "python",
   "pygments_lexer": "ipython3",
   "version": "3.8.13"
  },
  "orig_nbformat": 4,
  "vscode": {
   "interpreter": {
    "hash": "b5dfbec2055422cee39dc040b31dfffa8b21a342109231ab17bc6ff9949c7133"
   }
  }
 },
 "nbformat": 4,
 "nbformat_minor": 2
}
