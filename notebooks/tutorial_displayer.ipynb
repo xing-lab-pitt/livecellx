{
 "cells": [
  {
   "cell_type": "code",
   "execution_count": null,
   "metadata": {},
   "outputs": [],
   "source": [
    "import livecell_tracker.sample_data\n",
    "from pathlib import Path\n",
    "import numpy as np\n",
    "import matplotlib.pyplot as plt\n",
    "from napari.layers import Shapes"
   ]
  },
  {
   "cell_type": "markdown",
   "metadata": {},
   "source": [
    "Import sample dataset"
   ]
  },
  {
   "cell_type": "code",
   "execution_count": null,
   "metadata": {},
   "outputs": [],
   "source": [
    "dic_dataset_path = Path(\"../datasets/test_data_STAV-A549/DIC_data\")\n",
    "mask_dataset_path = Path(\"../datasets/test_data_STAV-A549/mask_data\")\n",
    "dic_dataset, mask_dataset = livecell_tracker.sample_data.tutorial_three_image_sys(dic_dataset_path, mask_dataset_path, dir=\"../datasets\")"
   ]
  },
  {
   "cell_type": "code",
   "execution_count": null,
   "metadata": {},
   "outputs": [],
   "source": [
    "from livecell_tracker.core.io_sc import prep_scs_from_mask_dataset\n",
    "single_cells = prep_scs_from_mask_dataset(mask_dataset, dic_dataset)"
   ]
  },
  {
   "cell_type": "code",
   "execution_count": null,
   "metadata": {},
   "outputs": [],
   "source": [
    "from typing import List\n",
    "from livecell_tracker.track.sort_tracker_utils import (\n",
    "    gen_SORT_detections_input_from_contours,\n",
    "    update_traj_collection_by_SORT_tracker_detection,\n",
    "    track_SORT_bbox_from_contours,\n",
    "    track_SORT_bbox_from_scs\n",
    ")\n",
    "\n",
    "\n",
    "traj_collection = track_SORT_bbox_from_scs(single_cells, dic_dataset, mask_dataset=mask_dataset, max_age=1, min_hits=1)"
   ]
  },
  {
   "cell_type": "code",
   "execution_count": null,
   "metadata": {},
   "outputs": [],
   "source": [
    "trajectory = traj_collection.get_all_trajectories()[0]"
   ]
  },
  {
   "cell_type": "markdown",
   "metadata": {},
   "source": [
    "Create napari viewer using displayer to display the atrributes"
   ]
  },
  {
   "cell_type": "code",
   "execution_count": null,
   "metadata": {},
   "outputs": [],
   "source": [
    "import napari\n",
    "from livecell_tracker.core.sc_seg_operator import ScSegOperator, create_sc_seg_napari_ui\n",
    "viewer = napari.view_image(dic_dataset.to_dask(), name=\"dic_image\", cache=True)"
   ]
  },
  {
   "cell_type": "code",
   "execution_count": null,
   "metadata": {},
   "outputs": [],
   "source": [
    "from livecell_tracker.core.displayer import Displayer, ScDisplayer, SctDisplayer, create_sc_displayer_napari_ui, create_sct_displayer_napari_ui, create_sctc_displayer_napari_ui\n",
    "\n",
    "sample_sc = single_cells[10]\n",
    "# sample_sc_displayer = ScDisplayer(sample_sc, trajectory, viewer=viewer)\n",
    "# create_sc_displayer_napari_ui(sample_sc_displayer, traj_collection)\n",
    "sc_displayer = ScDisplayer(sc=sample_sc, viewer=viewer)\n",
    "create_sc_displayer_napari_ui(sc_displayer)"
   ]
  },
  {
   "cell_type": "code",
   "execution_count": null,
   "metadata": {},
   "outputs": [],
   "source": [
    "# Create the SctDisplayer\n",
    "sct_displayer = SctDisplayer(trajectory=trajectory, viewer=viewer)\n",
    "# Generate the napari UI for Sct\n",
    "create_sct_displayer_napari_ui(sct_displayer)"
   ]
  },
  {
   "cell_type": "code",
   "execution_count": null,
   "metadata": {},
   "outputs": [],
   "source": [
    "# Create the generic Displayer for Sctc\n",
    "sctc_displayer = Displayer(viewer=viewer)\n",
    "# Generate the napari UI for Sctc\n",
    "create_sctc_displayer_napari_ui(sctc_displayer, sctc=traj_collection)"
   ]
  }
 ],
 "metadata": {
  "kernelspec": {
   "display_name": "Python 3",
   "language": "python",
   "name": "python3"
  },
  "language_info": {
   "codemirror_mode": {
    "name": "ipython",
    "version": 3
   },
   "file_extension": ".py",
   "mimetype": "text/x-python",
   "name": "python",
   "nbconvert_exporter": "python",
   "pygments_lexer": "ipython3",
   "version": "3.9.10"
  },
  "orig_nbformat": 4
 },
 "nbformat": 4,
 "nbformat_minor": 2
}
