{
 "cells": [
  {
   "attachments": {},
   "cell_type": "markdown",
   "metadata": {},
   "source": [
    "# Prepare mitosis time series data"
   ]
  },
  {
   "cell_type": "code",
   "execution_count": 1,
   "metadata": {},
   "outputs": [],
   "source": [
    "import numpy as np\n",
    "import matplotlib.pyplot as plt\n",
    "from cellpose import models\n",
    "from cellpose.io import imread\n",
    "import glob\n",
    "from pathlib import Path\n",
    "from PIL import Image, ImageSequence\n",
    "from tqdm import tqdm\n",
    "import os\n",
    "import os.path\n",
    "# from livecell_tracker import segment\n",
    "from livecell_tracker import core\n",
    "from livecell_tracker.core import datasets\n",
    "from livecell_tracker.core.datasets import LiveCellImageDataset, SingleImageDataset\n",
    "from skimage import measure\n",
    "from livecell_tracker.core import SingleCellTrajectory, SingleCellStatic"
   ]
  },
  {
   "cell_type": "code",
   "execution_count": 2,
   "metadata": {},
   "outputs": [
    {
     "name": "stdout",
     "output_type": "stream",
     "text": [
      "{'mitosis': [[SingleCellStatic(id=171947ec-0dc3-4b2b-8f64-0cf544b2ec48, timeframe=57, bbox=[ 792. 1188.  899. 1285.]), SingleCellStatic(id=47615525-a322-4a43-aa22-f732f89377fc, timeframe=58, bbox=[ 786. 1192.  875. 1291.]), SingleCellStatic(id=f811c55f-f35a-4546-adf9-a6dd7967eb27, timeframe=59, bbox=[ 785. 1191.  867. 1285.]), SingleCellStatic(id=a46e3cb1-ff73-4c4b-8a03-a608f3ebb0d2, timeframe=61, bbox=[ 772. 1198.  851. 1281.]), SingleCellStatic(id=580159bb-1f74-4854-8886-25dba24b890f, timeframe=60, bbox=[ 777. 1196.  856. 1289.]), SingleCellStatic(id=8b736e91-6331-4052-8805-53cec59597f8, timeframe=62, bbox=[ 804. 1184.  867. 1263.]), SingleCellStatic(id=f9ff9e5b-7e4f-4596-a36e-60090e8c0467, timeframe=62, bbox=[ 771. 1222.  835. 1288.]), SingleCellStatic(id=89d2b1f2-9ffb-438d-8db8-6db44df5c759, timeframe=63, bbox=[ 776. 1223.  843. 1298.]), SingleCellStatic(id=701fcf1b-b7c9-4c9e-bc14-77654ba2b070, timeframe=63, bbox=[ 804. 1168.  877. 1253.]), SingleCellStatic(id=2521fbd2-271a-4a1e-9213-c5f49a4ca10a, timeframe=64, bbox=[ 804. 1167.  883. 1249.]), SingleCellStatic(id=1765f21e-c6c6-417d-ae2d-ecf7d7fa61af, timeframe=64, bbox=[ 784. 1227.  846. 1310.])], [SingleCellStatic(id=d75631bf-b955-49f2-80a9-3fd2fbfa7d20, timeframe=86, bbox=[ 687. 1327.  763. 1418.]), SingleCellStatic(id=c08e0fb7-7a81-42d6-b7e4-44ae216dbd12, timeframe=87, bbox=[ 698. 1316.  763. 1410.]), SingleCellStatic(id=0c2466c1-d4fc-42cf-a19f-d0694499cc1a, timeframe=88, bbox=[ 704. 1300.  772. 1393.]), SingleCellStatic(id=6e3a6aef-6f84-4f57-b4d2-863a24b2a105, timeframe=89, bbox=[ 705. 1297.  781. 1386.]), SingleCellStatic(id=89d071b4-d29a-4763-8acd-0381be8c7d20, timeframe=90, bbox=[ 710. 1288.  784. 1372.]), SingleCellStatic(id=65c37499-7dca-42ed-bb3b-8036b82c2d71, timeframe=91, bbox=[ 718. 1268.  788. 1347.]), SingleCellStatic(id=9378214e-4968-49a2-9a6a-18a15fcc3ef1, timeframe=92, bbox=[ 715. 1257.  791. 1339.]), SingleCellStatic(id=f634e6cf-e882-47b6-bc08-fda66ee22596, timeframe=93, bbox=[ 740. 1247.  806. 1335.]), SingleCellStatic(id=62301aa0-18b4-49d9-ba44-296d0ce8516b, timeframe=94, bbox=[ 757. 1238.  805. 1297.]), SingleCellStatic(id=c0973a22-c826-42b3-82d1-47663f4835da, timeframe=94, bbox=[ 734. 1285.  789. 1338.]), SingleCellStatic(id=86cda2a5-3ed2-4d74-a099-9791d274f161, timeframe=95, bbox=[ 755. 1242.  823. 1288.]), SingleCellStatic(id=ed85bd34-b364-4837-8f0f-9011d74ee64e, timeframe=95, bbox=[ 723. 1288.  791. 1369.])], [SingleCellStatic(id=beceb2c6-b2bb-49d4-98ba-710b158e45e2, timeframe=151, bbox=[ 558. 1023.  655. 1119.]), SingleCellStatic(id=56ea1355-4640-4983-ac23-5b8e9e3a07b5, timeframe=152, bbox=[ 562. 1038.  664. 1124.]), SingleCellStatic(id=a4edc837-a1d9-4994-b3b2-c386c568d0e7, timeframe=153, bbox=[ 566. 1041.  663. 1135.]), SingleCellStatic(id=a9a9fdb2-9b3f-48f3-b315-3934fd4e5816, timeframe=154, bbox=[ 579. 1049.  659. 1139.]), SingleCellStatic(id=d37c75c4-b766-4431-8be2-0d7be404f97f, timeframe=155, bbox=[ 588. 1059.  663. 1144.]), SingleCellStatic(id=0d83717a-16be-4e7e-8b82-dc9e257b8b39, timeframe=156, bbox=[ 595. 1066.  663. 1152.]), SingleCellStatic(id=e3dcce24-2415-437a-a5a0-1cbeb5b81680, timeframe=157, bbox=[ 611. 1098.  666. 1152.]), SingleCellStatic(id=93d71c0f-b4a7-4e77-89af-e778853a3019, timeframe=157, bbox=[ 584. 1047.  646. 1115.]), SingleCellStatic(id=192d04f7-618b-4b31-b402-78c7d5c8b34b, timeframe=158, bbox=[ 618. 1094.  675. 1154.]), SingleCellStatic(id=bdda7db5-6cde-4268-895b-d3c396bcfc13, timeframe=158, bbox=[ 580. 1024.  643. 1101.]), SingleCellStatic(id=1e977d06-fff0-401b-8c37-cf3428472ece, timeframe=159, bbox=[ 627. 1087.  682. 1153.]), SingleCellStatic(id=adba1f44-be89-4fad-8bfa-6802c353fe5b, timeframe=159, bbox=[ 564. 1009.  639. 1101.])], [SingleCellStatic(id=ed3c97de-c03c-4f20-9450-ba347f735b1f, timeframe=156, bbox=[ 433. 1220.  529. 1315.]), SingleCellStatic(id=a9076226-ac9a-4778-8d8f-a84d013c7431, timeframe=157, bbox=[ 437. 1220.  534. 1319.]), SingleCellStatic(id=652b1a56-5bf9-44b7-8cb0-62a631ccfacd, timeframe=158, bbox=[ 430. 1228.  534. 1323.]), SingleCellStatic(id=1b93830e-28e4-4cfa-ad88-7318c5900692, timeframe=159, bbox=[ 438. 1222.  527. 1307.]), SingleCellStatic(id=0d551253-853b-4d8c-ad5a-252d3abddebe, timeframe=160, bbox=[ 442. 1218.  523. 1291.]), SingleCellStatic(id=24e3ec76-3a50-4f5c-b617-2b9f0c802c9d, timeframe=161, bbox=[ 447. 1215.  527. 1291.]), SingleCellStatic(id=a6ffa242-59d9-4801-9a33-39fa5bee9b5e, timeframe=162, bbox=[ 455. 1216.  536. 1284.]), SingleCellStatic(id=80d9897c-36ed-4f0c-ad8b-67f274f4eb9e, timeframe=163, bbox=[ 508. 1227.  554. 1287.]), SingleCellStatic(id=68d7c61a-0502-420b-828f-88897456a32e, timeframe=163, bbox=[ 445. 1221.  501. 1286.]), SingleCellStatic(id=c25115ed-49be-45da-a3ad-9e481431ed7c, timeframe=164, bbox=[ 511. 1241.  559. 1297.]), SingleCellStatic(id=30c5b5c5-b86a-4e2b-bb56-1f9107965336, timeframe=164, bbox=[ 432. 1221.  496. 1295.]), SingleCellStatic(id=549e12d8-e628-4758-9e2c-926185e7f681, timeframe=165, bbox=[ 508. 1251.  554. 1309.]), SingleCellStatic(id=a877a600-06b2-4def-9a85-94b1cccfffc9, timeframe=165, bbox=[ 412. 1217.  487. 1306.])], [SingleCellStatic(id=55a1156a-f85e-4a6a-a7e1-fdc18bd4697f, timeframe=177, bbox=[ 552. 1182.  635. 1260.]), SingleCellStatic(id=38f40c7f-60a6-4c19-a921-913a3a8313e2, timeframe=178, bbox=[ 550. 1189.  643. 1257.]), SingleCellStatic(id=3ab04f83-c132-49d1-92f1-fcc6113934c9, timeframe=180, bbox=[ 553. 1176.  652. 1245.]), SingleCellStatic(id=04da9d70-cd0f-438b-b192-a2528d28a96f, timeframe=179, bbox=[ 551. 1180.  645. 1258.]), SingleCellStatic(id=d6281aa6-c45d-4e0e-9711-43f023ab3da4, timeframe=181, bbox=[ 569. 1167.  659. 1248.]), SingleCellStatic(id=0eca6832-4b98-4472-a00f-4a911d405443, timeframe=182, bbox=[ 572. 1164.  655. 1243.]), SingleCellStatic(id=5bdddece-a004-4cab-ab68-88c7869b0321, timeframe=183, bbox=[ 573. 1157.  655. 1228.]), SingleCellStatic(id=9319f957-a160-47bc-a023-216319956b67, timeframe=184, bbox=[ 601. 1153.  659. 1228.]), SingleCellStatic(id=0f9398cb-a93b-41bb-9cb5-88793db53093, timeframe=184, bbox=[ 564. 1177.  622. 1236.]), SingleCellStatic(id=9e537f1c-7634-4cbd-92cf-a45df26f4f5e, timeframe=185, bbox=[ 615. 1152.  668. 1220.]), SingleCellStatic(id=387a55fc-3cd5-4512-ab55-76f2818cd540, timeframe=185, bbox=[ 542. 1190.  616. 1256.]), SingleCellStatic(id=a5496a45-6aaa-4dcd-84a2-d5734e2f5821, timeframe=186, bbox=[ 616. 1157.  673. 1236.]), SingleCellStatic(id=b3aa34d5-2d4e-430e-abcc-2fb6952216f8, timeframe=186, bbox=[ 544. 1195.  617. 1261.])], [SingleCellStatic(id=9be5efae-94d4-4242-ae76-3624be7ae695, timeframe=189, bbox=[ 700. 1072.  791. 1154.]), SingleCellStatic(id=41d8f113-48bd-468b-8ea5-2e0067a2fb04, timeframe=190, bbox=[ 708. 1072.  791. 1147.]), SingleCellStatic(id=5a371a79-6178-46af-9adf-8839eb5ec1fc, timeframe=191, bbox=[ 704. 1072.  792. 1134.]), SingleCellStatic(id=42ea84c0-cb78-4641-b8c4-5c3db0f5a1a6, timeframe=192, bbox=[ 709. 1071.  777. 1131.]), SingleCellStatic(id=f15bc598-d212-45d5-9221-00e479896556, timeframe=193, bbox=[ 709. 1072.  784. 1126.]), SingleCellStatic(id=cf0158c5-2567-411d-94b2-aa042b0fc9bb, timeframe=194, bbox=[ 709. 1075.  776. 1131.]), SingleCellStatic(id=b628fdb7-1e25-477b-8b7e-e148949ed7dd, timeframe=195, bbox=[ 706. 1085.  771. 1145.]), SingleCellStatic(id=0c2bf30a-01ba-484d-9471-47ca258c938c, timeframe=196, bbox=[ 754. 1070.  793. 1109.]), SingleCellStatic(id=fe9e6d14-7991-453f-b911-15e52fde0096, timeframe=196, bbox=[ 720. 1092.  761. 1136.]), SingleCellStatic(id=c258b140-e1e3-4f01-8af2-7a0b0c8f6700, timeframe=197, bbox=[ 765. 1056.  806. 1093.]), SingleCellStatic(id=46a5a855-d81a-4b05-bf38-85e080925914, timeframe=197, bbox=[ 715. 1094.  760. 1140.])], [SingleCellStatic(id=5fc754b1-e519-43d7-8f8b-abefb8f15036, timeframe=239, bbox=[ 913. 1252.  999. 1358.]), SingleCellStatic(id=cd730a55-80e9-469b-93dc-ad6cb4711869, timeframe=240, bbox=[ 925. 1255.  998. 1340.]), SingleCellStatic(id=8ae495ec-d26b-4b7a-a9c5-cb3ea9bbdbc9, timeframe=241, bbox=[ 899. 1263.  983. 1348.]), SingleCellStatic(id=40e892e6-f592-480b-87cf-045e6c9c72bc, timeframe=242, bbox=[ 888. 1252.  967. 1322.]), SingleCellStatic(id=8038db47-52ac-4949-918a-e0875f683003, timeframe=243, bbox=[ 870. 1243.  943. 1316.]), SingleCellStatic(id=43d552dc-e884-493e-9795-5029953937e7, timeframe=244, bbox=[ 860. 1239.  924. 1312.]), SingleCellStatic(id=2ab70707-d572-49f8-88c7-f63cb5de1788, timeframe=245, bbox=[ 858. 1241.  918. 1309.]), SingleCellStatic(id=98ae0b9b-6a9a-48bf-bc71-05ad8c047b4d, timeframe=246, bbox=[ 863. 1239.  948. 1313.]), SingleCellStatic(id=c9ef0c37-52cf-4932-84a4-3c04fd361962, timeframe=247, bbox=[ 913. 1262.  965. 1320.]), SingleCellStatic(id=4ac8487f-b7de-4f29-b862-47bb832c09db, timeframe=247, bbox=[ 864. 1238.  923. 1292.]), SingleCellStatic(id=3d0da590-c388-44d4-8f14-2d4c63e1ef6d, timeframe=248, bbox=[ 909. 1256.  977. 1324.]), SingleCellStatic(id=44ee032a-4e3c-4248-b369-e9640d8cd50b, timeframe=248, bbox=[ 871. 1237.  928. 1290.]), SingleCellStatic(id=1401b462-edb5-4a7b-8f0e-4dde5d41f107, timeframe=249, bbox=[ 917. 1254.  995. 1340.]), SingleCellStatic(id=bf32545b-ba3f-488b-8251-d375ca2cd2df, timeframe=249, bbox=[ 874. 1247.  921. 1307.])], [SingleCellStatic(id=81aba36a-5344-49ba-9b0f-200441080359, timeframe=258, bbox=[ 768. 1176.  864. 1283.]), SingleCellStatic(id=ab9f97b2-5357-4a4e-a92a-b1cbac3fbf37, timeframe=259, bbox=[ 768. 1183.  860. 1292.]), SingleCellStatic(id=5e013815-e531-4faf-ac11-973164e539d8, timeframe=260, bbox=[ 764. 1190.  865. 1282.]), SingleCellStatic(id=8f2c6601-d68f-4470-b3a6-a7d96ff99ec9, timeframe=261, bbox=[ 760. 1186.  880. 1275.]), SingleCellStatic(id=282f4f4a-bc2b-413a-a35a-89d2afb6302f, timeframe=262, bbox=[ 764. 1187.  876. 1270.]), SingleCellStatic(id=44ee2050-70de-4004-b7bb-6fc27936216d, timeframe=263, bbox=[ 768. 1187.  881. 1267.]), SingleCellStatic(id=1e211900-517c-46b0-aa89-16d556af099a, timeframe=264, bbox=[ 773. 1186.  883. 1264.]), SingleCellStatic(id=fa047f98-9338-4a2e-a26e-12aa1a02fdce, timeframe=265, bbox=[ 822. 1196.  887. 1265.]), SingleCellStatic(id=2466ce33-c249-4d32-a269-db58eaeb31c5, timeframe=265, bbox=[ 756. 1174.  824. 1234.]), SingleCellStatic(id=a2f9bc66-0d8d-4ff5-83fd-f0623cdb9f84, timeframe=266, bbox=[ 827. 1196.  896. 1275.]), SingleCellStatic(id=466bfae8-6b56-49ac-8827-88e658e1d490, timeframe=266, bbox=[ 736. 1172.  820. 1235.]), SingleCellStatic(id=c99fcbb2-eee3-4111-bd94-7f31ea26dfb3, timeframe=267, bbox=[ 826. 1198.  897. 1285.]), SingleCellStatic(id=0b730d2b-1440-42b6-8006-8f00bb1abb87, timeframe=267, bbox=[ 715. 1170.  823. 1239.])]], 'apoptosis': [], 'normal': []}\n",
      "Loaded 8 annotated samples from datasets\\test_scs_EBSS_starvation\\XY1\\annotations\\mitosis\n",
      "Loaded 0 annotated samples from datasets\\test_scs_EBSS_starvation\\XY1\\annotations\\apoptosis\n",
      "Loaded 0 annotated samples from datasets\\test_scs_EBSS_starvation\\XY1\\annotations\\normal\n",
      "{'mitosis': [[SingleCellStatic(id=61a0958d-7e26-4418-a9a5-05d43da69283, timeframe=74, bbox=[1300. 1046. 1454. 1172.]), SingleCellStatic(id=f2070969-b6c7-4f20-b386-f384ad0e4ea0, timeframe=75, bbox=[1297. 1049. 1386. 1122.]), SingleCellStatic(id=09239529-f06f-4099-9fa6-b0f948382fae, timeframe=76, bbox=[1279. 1031. 1425. 1116.]), SingleCellStatic(id=02c4ae21-ec3f-45fe-9458-437315eb11dd, timeframe=77, bbox=[1307. 1059. 1398. 1128.]), SingleCellStatic(id=3cff8ff9-2904-46ed-9eb3-9941b0b51e43, timeframe=78, bbox=[1310. 1055. 1411. 1124.]), SingleCellStatic(id=f02fa009-a668-4402-b61f-0bc57b82106d, timeframe=79, bbox=[1308. 1054. 1414. 1126.]), SingleCellStatic(id=8f9f4905-8263-4d8d-94ad-056b50298bb2, timeframe=80, bbox=[1315. 1060. 1427. 1134.]), SingleCellStatic(id=0a62dd51-491c-4acb-9a43-2e250fec4794, timeframe=81, bbox=[1320. 1065. 1419. 1121.]), SingleCellStatic(id=603ca0a7-ba26-47fe-bd1d-d83ec57a45a8, timeframe=82, bbox=[1373. 1058. 1427. 1115.]), SingleCellStatic(id=a9459527-8e30-4413-9178-cdf7f95505f9, timeframe=82, bbox=[1304. 1073. 1373. 1134.]), SingleCellStatic(id=74a36316-dc3c-46df-8c4c-d90600ff52d8, timeframe=83, bbox=[1377. 1057. 1434. 1117.]), SingleCellStatic(id=af619ea2-3c12-4fc6-aec2-7192ee4ecdab, timeframe=83, bbox=[1307. 1065. 1369. 1123.])], [SingleCellStatic(id=9d939a81-2379-4a36-9137-61953125a145, timeframe=92, bbox=[1010. 1332. 1244. 1536.]), SingleCellStatic(id=64e45a5c-c27f-45f7-be3f-14b0984a1c68, timeframe=93, bbox=[1022. 1336. 1238. 1531.]), SingleCellStatic(id=d8525691-5d62-45f0-8c39-a1a97af269c4, timeframe=94, bbox=[1152. 1447. 1243. 1544.]), SingleCellStatic(id=cb6837b0-3e18-4fbb-a76a-679fb06bd671, timeframe=95, bbox=[1144. 1424. 1235. 1520.]), SingleCellStatic(id=540d5c67-1ff7-42f5-b4b4-9181226e714c, timeframe=96, bbox=[1142. 1413. 1233. 1513.]), SingleCellStatic(id=b7a1014c-68b0-4b79-929e-713c902e6e27, timeframe=97, bbox=[1147. 1412. 1239. 1510.]), SingleCellStatic(id=7c946b1f-90e0-49ea-9934-f5b345f873c5, timeframe=98, bbox=[1149. 1412. 1245. 1510.]), SingleCellStatic(id=b5ec2fe0-fa44-4f7a-a6e1-a045298fe5fc, timeframe=99, bbox=[1192. 1414. 1275. 1507.]), SingleCellStatic(id=745bbd3b-76e7-4020-b496-7db3275b9433, timeframe=100, bbox=[1196. 1405. 1283. 1510.]), SingleCellStatic(id=3883e7ca-d5e7-4af6-bb98-27a3d79d129a, timeframe=101, bbox=[1186. 1397. 1295. 1506.]), SingleCellStatic(id=e229e511-38d9-4696-823e-8bbceb236a0b, timeframe=102, bbox=[1180. 1395. 1291. 1501.]), SingleCellStatic(id=d9cd29a0-3950-4f18-ba0d-b337ed75b39c, timeframe=103, bbox=[1227. 1407. 1285. 1501.]), SingleCellStatic(id=53eb4d39-c79c-4ec3-8e3c-53cf72e4a48a, timeframe=103, bbox=[1165. 1396. 1230. 1506.]), SingleCellStatic(id=8c99e1db-1025-4383-93dc-8575e8fe7d4e, timeframe=104, bbox=[1217. 1429. 1281. 1516.])], [SingleCellStatic(id=d5d9001a-a55a-4f72-9532-b7f32700abfd, timeframe=227, bbox=[1366. 1252. 1449. 1362.]), SingleCellStatic(id=9a1a3865-ce03-4a59-9a6f-6da05c1e7156, timeframe=228, bbox=[1364. 1251. 1447. 1360.]), SingleCellStatic(id=baec634f-ae98-4914-8c1b-1435febf5c49, timeframe=229, bbox=[1370. 1250. 1442. 1348.]), SingleCellStatic(id=d270610d-65b0-41bd-a09f-c00d1e0ff933, timeframe=230, bbox=[1366. 1249. 1439. 1355.]), SingleCellStatic(id=a2a2d9b4-e387-4ef8-b397-8c776d8a2dea, timeframe=231, bbox=[1366. 1255. 1431. 1353.]), SingleCellStatic(id=0ce47477-c32f-4b39-8a73-4dc5af586897, timeframe=232, bbox=[1377. 1301. 1438. 1364.]), SingleCellStatic(id=5a93f9f4-c11a-4d59-8b1b-37b0d5211dfc, timeframe=232, bbox=[1376. 1240. 1427. 1301.]), SingleCellStatic(id=848eb3e5-c861-4bef-8ad4-e0bc9cfe75da, timeframe=233, bbox=[1374. 1300. 1441. 1365.]), SingleCellStatic(id=3e9c8f0e-6fcb-4170-83cb-1819a2411915, timeframe=233, bbox=[1377. 1239. 1431. 1302.]), SingleCellStatic(id=5ec105c2-f7fb-433e-bd0c-d542d50bd4e9, timeframe=234, bbox=[1377. 1299. 1443. 1365.]), SingleCellStatic(id=b9b52d5e-ae36-44e3-9dfb-d37f0743be15, timeframe=234, bbox=[1382. 1240. 1438. 1297.])], [SingleCellStatic(id=07acaf1f-b081-402d-8b12-4c33545a959f, timeframe=224, bbox=[1505. 1129. 1609. 1235.]), SingleCellStatic(id=94808da6-2fac-4837-b7f5-f4a42ab3509f, timeframe=225, bbox=[1512. 1138. 1612. 1238.]), SingleCellStatic(id=d0a48a77-d0ce-4d9a-8156-0a4142a28d05, timeframe=226, bbox=[1516. 1131. 1620. 1225.]), SingleCellStatic(id=e77b427c-b73c-4945-9f59-86d92062cb54, timeframe=227, bbox=[1518. 1112. 1614. 1216.]), SingleCellStatic(id=a7cc75cf-c3b5-468d-9cce-d90ff0b29fc6, timeframe=228, bbox=[1513. 1117. 1607. 1216.]), SingleCellStatic(id=bd58faba-44b7-48ec-ac94-cf54346b0b7a, timeframe=229, bbox=[1511. 1124. 1595. 1213.]), SingleCellStatic(id=4c49a42b-921e-4eef-b140-2a4be02befe1, timeframe=230, bbox=[1509. 1124. 1591. 1213.]), SingleCellStatic(id=55fe074e-e88d-4ea3-b1a7-a4f51930b18a, timeframe=231, bbox=[1507. 1125. 1585. 1213.]), SingleCellStatic(id=cc76a3a5-96de-46e4-a28c-2da9c1657d02, timeframe=232, bbox=[1505. 1131. 1583. 1212.]), SingleCellStatic(id=8ceb762e-0b4e-456d-92ef-047ceb681b00, timeframe=233, bbox=[1507. 1129. 1573. 1215.]), SingleCellStatic(id=ceaddbe6-0e80-4bc0-ba4f-3066bac29b42, timeframe=234, bbox=[1520. 1087. 1563. 1157.]), SingleCellStatic(id=43b1f1c8-c0ca-445a-9e5e-6eb33d3050fd, timeframe=234, bbox=[1511. 1155. 1565. 1231.]), SingleCellStatic(id=6bb6c8a1-ec95-436c-868a-a5641e443e22, timeframe=235, bbox=[1512. 1081. 1565. 1153.]), SingleCellStatic(id=2b279c95-423c-4097-9c99-9df1e5051913, timeframe=235, bbox=[1516. 1157. 1566. 1217.])], [SingleCellStatic(id=6d294019-276f-4636-88c2-c94f5871106f, timeframe=106, bbox=[1443.  892. 1537.  966.]), SingleCellStatic(id=8444b214-f5d4-4247-ab6d-aa1cc608611d, timeframe=107, bbox=[1445.  884. 1540.  969.]), SingleCellStatic(id=abf1f96c-25df-4d99-a23a-8bf15de0cf3f, timeframe=108, bbox=[1452.  897. 1534.  972.]), SingleCellStatic(id=5ce7d9e8-9d9c-43de-9047-a1e4e72d14c4, timeframe=109, bbox=[1456.  897. 1527.  969.]), SingleCellStatic(id=3499d716-58e6-4806-bddf-d71b39241b32, timeframe=110, bbox=[1452.  900. 1519.  968.]), SingleCellStatic(id=861ace4f-bd01-42e1-babe-93ca21949bf2, timeframe=111, bbox=[1448.  899. 1515.  969.]), SingleCellStatic(id=31c1aadd-e357-4e1f-a69c-25ce16d4e017, timeframe=112, bbox=[1446.  897. 1515.  966.]), SingleCellStatic(id=0b424aac-a03a-44cd-bb76-cf15f3d4e30e, timeframe=113, bbox=[1449.  899. 1513.  965.]), SingleCellStatic(id=dc828331-83af-4a9f-97ff-085af2914e57, timeframe=114, bbox=[1441.  900. 1517.  963.]), SingleCellStatic(id=a0d7a627-2a29-43dc-9afb-9cf9b3f53dfa, timeframe=115, bbox=[1418.  900. 1488.  959.]), SingleCellStatic(id=0b5831cd-30a7-4550-a78d-212d6044f15c, timeframe=116, bbox=[1480.  886. 1543.  951.]), SingleCellStatic(id=f888bbc6-003d-484c-b34a-69ad7857f0aa, timeframe=117, bbox=[1438.  902. 1499.  968.]), SingleCellStatic(id=5bef8008-a667-4ddd-9715-7dd13e41a9b6, timeframe=117, bbox=[1492.  886. 1537.  936.]), SingleCellStatic(id=0effd087-ba99-4fd8-9260-d4aff07803c9, timeframe=118, bbox=[1489.  895. 1531.  943.]), SingleCellStatic(id=27ed6220-8ab4-41e7-afb6-8b0a4ab4115b, timeframe=118, bbox=[1432.  900. 1488.  965.])], [SingleCellStatic(id=e6b95f5e-4fd3-41fd-8a3c-cae8f9312a50, timeframe=109, bbox=[1569.  975. 1661. 1086.]), SingleCellStatic(id=317b1f5d-bcb6-4dee-83a9-00a0ff901c95, timeframe=110, bbox=[1571.  976. 1655. 1081.]), SingleCellStatic(id=ebfa5d13-7458-41af-81e3-2c92d5c627b0, timeframe=111, bbox=[1568.  989. 1641. 1078.]), SingleCellStatic(id=574319ab-6345-4dac-b356-0e3121098f2d, timeframe=112, bbox=[1564.  988. 1632. 1074.]), SingleCellStatic(id=e95ebc15-3fd0-4304-875c-428990ee64d4, timeframe=113, bbox=[1562.  985. 1631. 1066.]), SingleCellStatic(id=5a720c32-fbc2-47de-b042-096685addad8, timeframe=114, bbox=[1563.  985. 1629. 1064.]), SingleCellStatic(id=59a1baa4-d911-468a-a603-9edab421700e, timeframe=115, bbox=[1569.  978. 1627. 1069.]), SingleCellStatic(id=489c18cd-ea76-4dc7-b285-54bbbb5b2197, timeframe=116, bbox=[1573.  973. 1626. 1022.]), SingleCellStatic(id=7a1b61b5-b79e-4c16-afa9-d9df160dd39b, timeframe=116, bbox=[1587. 1025. 1651. 1088.]), SingleCellStatic(id=0ca58bd6-605d-4de0-91ac-7737339bc353, timeframe=117, bbox=[1579.  958. 1632. 1024.]), SingleCellStatic(id=b55a7e4f-2542-4ae7-8e43-d427d254c7e8, timeframe=117, bbox=[1581. 1014. 1648. 1076.]), SingleCellStatic(id=9b09d9c2-fdef-4a33-83b2-04365b0e200c, timeframe=118, bbox=[1588.  951. 1647. 1014.]), SingleCellStatic(id=028c094a-18ef-476a-9c8c-376aff1eba44, timeframe=118, bbox=[1596. 1014. 1657. 1080.])], [SingleCellStatic(id=86c31717-f4b6-4f80-a081-27217a967bb5, timeframe=125, bbox=[1579. 1165. 1647. 1292.]), SingleCellStatic(id=85e365d0-2795-4200-8ece-dbe739254f92, timeframe=126, bbox=[1568. 1188. 1639. 1296.]), SingleCellStatic(id=4adfabd6-af35-42e2-a7aa-15afeea57dad, timeframe=127, bbox=[1554. 1204. 1627. 1288.]), SingleCellStatic(id=29e70537-ef94-45eb-8210-9824e0bc3815, timeframe=128, bbox=[1541. 1202. 1613. 1289.]), SingleCellStatic(id=5a0f583a-40d9-450c-b840-13dbd45cd02d, timeframe=129, bbox=[1539. 1203. 1609. 1284.]), SingleCellStatic(id=925ed921-c93f-4ae4-9e68-9684fcfe89d8, timeframe=130, bbox=[1532. 1206. 1601. 1293.]), SingleCellStatic(id=68ea3119-796e-4180-a097-b41f8dc2bb1b, timeframe=131, bbox=[1532. 1204. 1588. 1308.]), SingleCellStatic(id=13563d2f-1f40-43d9-8434-db3ac72c7146, timeframe=132, bbox=[1549. 1189. 1601. 1249.]), SingleCellStatic(id=769a236a-0b6e-484e-89c4-6f560d1b441a, timeframe=132, bbox=[1546. 1247. 1601. 1315.]), SingleCellStatic(id=2d0f55d8-fbd8-4167-86e0-5cf2dc2dec46, timeframe=133, bbox=[1558. 1182. 1619. 1244.]), SingleCellStatic(id=e0e01e60-c7dd-416a-8bc7-7a7b63f364f5, timeframe=133, bbox=[1548. 1240. 1614. 1306.]), SingleCellStatic(id=cef384a5-ef67-414d-b214-0dde1d519a01, timeframe=134, bbox=[1562. 1183. 1627. 1245.]), SingleCellStatic(id=e233acc4-4c65-4ecf-a8eb-53fe25a90a03, timeframe=134, bbox=[1558. 1245. 1627. 1303.])], [SingleCellStatic(id=5a688a30-c08f-4588-9e7e-cd5d6fb460a9, timeframe=127, bbox=[1468.  994. 1567. 1092.]), SingleCellStatic(id=1b18e13d-f90c-4d81-8e7b-ad07466623d5, timeframe=128, bbox=[1484.  999. 1569. 1096.]), SingleCellStatic(id=a8a38ba4-301d-46e6-af81-dac8de5fb9e3, timeframe=129, bbox=[1502. 1001. 1580. 1089.]), SingleCellStatic(id=284e598f-ed79-489e-9b68-a3caf9162b58, timeframe=130, bbox=[1507. 1001. 1584. 1087.]), SingleCellStatic(id=fb82574a-7354-4cf2-a9e9-6be97e86c0e3, timeframe=131, bbox=[1505. 1005. 1580. 1083.]), SingleCellStatic(id=055f94ab-91be-41d5-b2bc-2e05d602ae3f, timeframe=132, bbox=[1506. 1007. 1579. 1081.]), SingleCellStatic(id=6c51483f-ba59-4658-b43a-b695f0923da2, timeframe=133, bbox=[1507. 1001. 1572. 1080.]), SingleCellStatic(id=d7d57791-4f39-40cb-a773-718156e0b19b, timeframe=134, bbox=[1523. 1041. 1576. 1091.]), SingleCellStatic(id=8c95eb37-3a66-4757-af2b-495879af89a5, timeframe=134, bbox=[1488.  990. 1555. 1061.]), SingleCellStatic(id=9994da99-2ef7-4e97-96fd-4497a1a3837a, timeframe=135, bbox=[1541. 1046. 1594. 1100.]), SingleCellStatic(id=563ca39e-9ed2-418e-8028-6df4df332874, timeframe=135, bbox=[1495.  992. 1563. 1063.]), SingleCellStatic(id=94dd8071-afe1-4160-a4cf-0b2a22f60987, timeframe=136, bbox=[1544. 1058. 1603. 1120.]), SingleCellStatic(id=d5715420-0d0b-408e-8b56-cdfb9b50e19e, timeframe=136, bbox=[1483.  992. 1560. 1063.])], [SingleCellStatic(id=e14f1a39-f0fc-44e7-852b-8c42ffef0998, timeframe=139, bbox=[1256. 1106. 1383. 1228.]), SingleCellStatic(id=831be33d-4557-448d-960f-c14c35ca257d, timeframe=140, bbox=[1254. 1109. 1380. 1222.]), SingleCellStatic(id=cfa0ff9f-fa5d-434d-b39f-fb471e65159e, timeframe=141, bbox=[1264. 1119. 1369. 1223.]), SingleCellStatic(id=ba779865-3d71-42a8-b507-0ef465b4cbe8, timeframe=142, bbox=[1269. 1120. 1367. 1225.]), SingleCellStatic(id=b9c05955-9b22-45ee-a22b-f234e2b7bade, timeframe=143, bbox=[1277. 1124. 1359. 1226.]), SingleCellStatic(id=858b38aa-a10e-4980-bec7-f060b1906488, timeframe=144, bbox=[1277. 1124. 1357. 1228.]), SingleCellStatic(id=eb27f70d-5038-477c-b4a9-bc7aa18251d2, timeframe=145, bbox=[1282. 1128. 1353. 1227.]), SingleCellStatic(id=704a71a3-01f3-4034-bea8-7f946bf088d8, timeframe=146, bbox=[1297. 1170. 1356. 1227.]), SingleCellStatic(id=57296daf-ac59-4426-85d3-dd3be0ea7d7a, timeframe=146, bbox=[1279. 1125. 1341. 1185.]), SingleCellStatic(id=bef6e283-8527-401e-8769-5ef44249d996, timeframe=147, bbox=[1307. 1168. 1367. 1234.]), SingleCellStatic(id=17dd6414-e8bc-46b0-b958-c506325e69f9, timeframe=147, bbox=[1267. 1115. 1340. 1177.]), SingleCellStatic(id=5c1c68f1-8f0e-4e60-b83e-e46af38bff06, timeframe=148, bbox=[1309. 1164. 1380. 1231.]), SingleCellStatic(id=921a04ec-f6ec-4885-9560-d6304b104dc3, timeframe=148, bbox=[1246. 1108. 1334. 1175.])], [SingleCellStatic(id=ff6d8d33-cc51-4eda-a416-ceeb50c01fb0, timeframe=146, bbox=[1395. 1070. 1508. 1182.]), SingleCellStatic(id=c78470a5-3aea-401d-a514-3b7af13cddf6, timeframe=147, bbox=[1404. 1075. 1513. 1186.]), SingleCellStatic(id=eae6189d-4093-401f-8edb-238f4f0c1651, timeframe=148, bbox=[1410. 1079. 1508. 1177.]), SingleCellStatic(id=87b5b67d-33af-4ceb-8629-0fbdfc9ce1ae, timeframe=149, bbox=[1414. 1076. 1504. 1160.]), SingleCellStatic(id=cb8b6ba1-09c1-40eb-897d-498622a2953c, timeframe=150, bbox=[1408. 1077. 1508. 1172.]), SingleCellStatic(id=12bebfcd-0322-4675-9c33-bdcc100fafe9, timeframe=151, bbox=[1403. 1069. 1519. 1169.]), SingleCellStatic(id=6e0e7502-7fc3-4890-8f34-b1da25536aa3, timeframe=152, bbox=[1411. 1080. 1508. 1169.]), SingleCellStatic(id=3dd0f4c3-192b-4c39-8099-44e607788ca8, timeframe=153, bbox=[1435. 1075. 1499. 1136.]), SingleCellStatic(id=9c3e1a6b-d778-442b-b4c0-e2172770389c, timeframe=153, bbox=[1412. 1126. 1483. 1182.]), SingleCellStatic(id=24dee45a-898f-4e88-aff7-24aa33cb29aa, timeframe=154, bbox=[1429. 1062. 1503. 1138.]), SingleCellStatic(id=115d4098-841c-496f-b388-a86935482869, timeframe=154, bbox=[1405. 1123. 1475. 1207.]), SingleCellStatic(id=a65dc213-5809-4109-9a2a-329f69d4b741, timeframe=155, bbox=[1433. 1055. 1505. 1130.]), SingleCellStatic(id=e88f6052-7df7-4170-9206-c192700894f2, timeframe=155, bbox=[1399. 1134. 1479. 1209.])], [SingleCellStatic(id=af8a8cc6-8eb6-4897-95e3-d3c796602d31, timeframe=214, bbox=[1222. 1240. 1323. 1383.]), SingleCellStatic(id=d0db4251-9566-46a9-b779-acfae5d42e0d, timeframe=216, bbox=[1223. 1259. 1323. 1360.]), SingleCellStatic(id=950e0323-8ba4-48d1-afc1-fcb318a1630d, timeframe=217, bbox=[1224. 1252. 1325. 1361.]), SingleCellStatic(id=6c465c55-e68b-497c-9f4c-b17ecd4bc389, timeframe=218, bbox=[1231. 1252. 1325. 1360.]), SingleCellStatic(id=53f6bf87-cb2b-485f-aed4-4cdf6817b411, timeframe=219, bbox=[1240. 1257. 1329. 1359.]), SingleCellStatic(id=107598a1-b74b-460a-9a3e-f1c7c0349b08, timeframe=220, bbox=[1244. 1256. 1332. 1358.]), SingleCellStatic(id=ad87e8e5-d22d-45b5-80d4-1b5ea7312d43, timeframe=221, bbox=[1244. 1256. 1328. 1350.]), SingleCellStatic(id=2191df81-ec85-42ec-8ca3-dca949a30581, timeframe=222, bbox=[1283. 1281. 1336. 1356.]), SingleCellStatic(id=83179a5d-6e58-4799-9268-a5c8d3b60516, timeframe=222, bbox=[1232. 1244. 1299. 1313.]), SingleCellStatic(id=c6fd9925-853f-4846-a7bb-367094044fcf, timeframe=223, bbox=[1282. 1288. 1345. 1392.]), SingleCellStatic(id=ccc3f7b9-c6f8-4049-aabf-9a333e7141bf, timeframe=223, bbox=[1217. 1235. 1285. 1317.]), SingleCellStatic(id=8e4773d7-c0c0-4be1-8fb9-9c086bb37025, timeframe=224, bbox=[1267. 1284. 1348. 1380.]), SingleCellStatic(id=bf1b3d3c-30cb-4e68-93ea-458907a8b6ab, timeframe=224, bbox=[1208. 1233. 1279. 1329.])], [SingleCellStatic(id=cd7c706c-9c67-4955-a50c-9ece316e01a3, timeframe=221, bbox=[1520. 1273. 1621. 1364.]), SingleCellStatic(id=f857a2ff-c0d9-450b-821d-0ec7345a0a67, timeframe=222, bbox=[1521. 1270. 1624. 1368.]), SingleCellStatic(id=ab68410a-dab0-4117-9088-1fb9807c60cc, timeframe=223, bbox=[1517. 1272. 1622. 1360.]), SingleCellStatic(id=f26ee4be-ce8d-4022-8d2c-b61f8490873a, timeframe=224, bbox=[1522. 1268. 1615. 1357.]), SingleCellStatic(id=9b7928fb-59e6-4e88-b2bf-a65dcd2ae47a, timeframe=225, bbox=[1523. 1268. 1613. 1357.]), SingleCellStatic(id=a3866f7b-7c4f-45e2-b984-44aa3687098c, timeframe=227, bbox=[1522. 1269. 1606. 1359.]), SingleCellStatic(id=71a6b22f-e5bb-4ed3-b380-ebafc2032797, timeframe=228, bbox=[1520. 1273. 1601. 1356.]), SingleCellStatic(id=f7527653-6097-4b6e-be82-649669773924, timeframe=230, bbox=[1516. 1268. 1612. 1352.]), SingleCellStatic(id=047db562-16c9-4ac6-952c-b7767960309b, timeframe=231, bbox=[1562. 1268. 1617. 1327.]), SingleCellStatic(id=8247c5b2-270b-4cb1-bb3a-475d37573454, timeframe=231, bbox=[1507. 1290. 1568. 1360.]), SingleCellStatic(id=51fff033-4303-4d7e-8038-5832215050ba, timeframe=232, bbox=[1564. 1273. 1638. 1335.]), SingleCellStatic(id=d6bc4b62-0758-4abf-8def-ef96477ff186, timeframe=232, bbox=[1509. 1295. 1569. 1362.])]], 'apoptosis': [], 'normal': []}\n",
      "Loaded 12 annotated samples from datasets\\test_scs_EBSS_starvation\\XY16\\annotations\\mitosis\n",
      "Loaded 0 annotated samples from datasets\\test_scs_EBSS_starvation\\XY16\\annotations\\apoptosis\n",
      "Loaded 0 annotated samples from datasets\\test_scs_EBSS_starvation\\XY16\\annotations\\normal\n"
     ]
    }
   ],
   "source": [
    "# sample_json_dir = Path(\"./EBSS_starvation_24h_xy16_annotation\")\n",
    "\n",
    "sample_json_dirs = [Path(r\"./datasets/test_scs_EBSS_starvation/XY1/annotations\"), Path(r\"./datasets/test_scs_EBSS_starvation/XY16/annotations\")]\n",
    "\n",
    "def load_class2samples_from_json_dir(sample_json_dir: Path, class_subfolders = [\"mitosis\", \"apoptosis\", \"normal\"]) -> dict:\n",
    "    # sample_paths = glob.glob(str(sample_json_dir / \"*.json\"))\n",
    "    class2samples = {}\n",
    "    for subfolder in class_subfolders:\n",
    "        class2samples[subfolder] = []\n",
    "        sample_paths = glob.glob(str(sample_json_dir / subfolder / \"*.json\"))\n",
    "        for sample_path in sample_paths:\n",
    "            sample = SingleCellStatic.load_single_cells_json(sample_path)\n",
    "            class2samples[subfolder].append(sample)\n",
    "    return class2samples\n",
    "\n",
    "\n",
    "all_class2samples = None\n",
    "all_class2sample_extra_info = {}\n",
    "for sample_json_dir in sample_json_dirs:\n",
    "    _class2samples = load_class2samples_from_json_dir(sample_json_dir)\n",
    "    print(_class2samples)\n",
    "    for class_name in _class2samples:\n",
    "        # report how many samples loaded from the sample json dir\n",
    "        print(f\"Loaded {len(_class2samples[class_name])} annotated samples from {sample_json_dir / class_name}\")\n",
    "\n",
    "    if all_class2samples is None:\n",
    "        all_class2samples = _class2samples\n",
    "    for class_name in _class2samples:\n",
    "\n",
    "        all_class2samples[class_name] += _class2samples[class_name]\n",
    "        _extra_info =  [{\"src_dir\": sample_json_dir} for _ in range(len(_class2samples[class_name]))]\n",
    "        if class_name not in all_class2sample_extra_info:\n",
    "            all_class2sample_extra_info[class_name] = _extra_info\n",
    "        else:\n",
    "            all_class2sample_extra_info[class_name] += _extra_info\n",
    "           "
   ]
  },
  {
   "cell_type": "code",
   "execution_count": 3,
   "metadata": {},
   "outputs": [
    {
     "data": {
      "text/plain": [
       "{'mitosis': [{'src_dir': WindowsPath('datasets/test_scs_EBSS_starvation/XY1/annotations')},\n",
       "  {'src_dir': WindowsPath('datasets/test_scs_EBSS_starvation/XY1/annotations')},\n",
       "  {'src_dir': WindowsPath('datasets/test_scs_EBSS_starvation/XY1/annotations')},\n",
       "  {'src_dir': WindowsPath('datasets/test_scs_EBSS_starvation/XY1/annotations')},\n",
       "  {'src_dir': WindowsPath('datasets/test_scs_EBSS_starvation/XY1/annotations')},\n",
       "  {'src_dir': WindowsPath('datasets/test_scs_EBSS_starvation/XY1/annotations')},\n",
       "  {'src_dir': WindowsPath('datasets/test_scs_EBSS_starvation/XY1/annotations')},\n",
       "  {'src_dir': WindowsPath('datasets/test_scs_EBSS_starvation/XY1/annotations')},\n",
       "  {'src_dir': WindowsPath('datasets/test_scs_EBSS_starvation/XY1/annotations')},\n",
       "  {'src_dir': WindowsPath('datasets/test_scs_EBSS_starvation/XY1/annotations')},\n",
       "  {'src_dir': WindowsPath('datasets/test_scs_EBSS_starvation/XY1/annotations')},\n",
       "  {'src_dir': WindowsPath('datasets/test_scs_EBSS_starvation/XY1/annotations')},\n",
       "  {'src_dir': WindowsPath('datasets/test_scs_EBSS_starvation/XY1/annotations')},\n",
       "  {'src_dir': WindowsPath('datasets/test_scs_EBSS_starvation/XY1/annotations')},\n",
       "  {'src_dir': WindowsPath('datasets/test_scs_EBSS_starvation/XY1/annotations')},\n",
       "  {'src_dir': WindowsPath('datasets/test_scs_EBSS_starvation/XY1/annotations')},\n",
       "  {'src_dir': WindowsPath('datasets/test_scs_EBSS_starvation/XY16/annotations')},\n",
       "  {'src_dir': WindowsPath('datasets/test_scs_EBSS_starvation/XY16/annotations')},\n",
       "  {'src_dir': WindowsPath('datasets/test_scs_EBSS_starvation/XY16/annotations')},\n",
       "  {'src_dir': WindowsPath('datasets/test_scs_EBSS_starvation/XY16/annotations')},\n",
       "  {'src_dir': WindowsPath('datasets/test_scs_EBSS_starvation/XY16/annotations')},\n",
       "  {'src_dir': WindowsPath('datasets/test_scs_EBSS_starvation/XY16/annotations')},\n",
       "  {'src_dir': WindowsPath('datasets/test_scs_EBSS_starvation/XY16/annotations')},\n",
       "  {'src_dir': WindowsPath('datasets/test_scs_EBSS_starvation/XY16/annotations')},\n",
       "  {'src_dir': WindowsPath('datasets/test_scs_EBSS_starvation/XY16/annotations')},\n",
       "  {'src_dir': WindowsPath('datasets/test_scs_EBSS_starvation/XY16/annotations')},\n",
       "  {'src_dir': WindowsPath('datasets/test_scs_EBSS_starvation/XY16/annotations')},\n",
       "  {'src_dir': WindowsPath('datasets/test_scs_EBSS_starvation/XY16/annotations')}],\n",
       " 'apoptosis': [],\n",
       " 'normal': []}"
      ]
     },
     "execution_count": 3,
     "metadata": {},
     "output_type": "execute_result"
    }
   ],
   "source": [
    "all_class2sample_extra_info"
   ]
  },
  {
   "cell_type": "code",
   "execution_count": 4,
   "metadata": {},
   "outputs": [
    {
     "data": {
      "text/plain": [
       "28"
      ]
     },
     "execution_count": 4,
     "metadata": {},
     "output_type": "execute_result"
    }
   ],
   "source": [
    "len(all_class2samples[\"mitosis\"])"
   ]
  },
  {
   "attachments": {},
   "cell_type": "markdown",
   "metadata": {},
   "source": [
    "Automatically prepare normal samples\n",
    "\n",
    "require tracking done"
   ]
  },
  {
   "cell_type": "code",
   "execution_count": 5,
   "metadata": {},
   "outputs": [],
   "source": [
    "# get all scs from class_samples not in normal class\n",
    "exclude_scs = []\n",
    "total_non_normal_samples = 0\n",
    "for class_name, samples in all_class2samples.items():\n",
    "    if class_name != \"normal\":\n",
    "        for sample in samples:\n",
    "            exclude_scs.extend(sample)\n",
    "            total_non_normal_samples += 1\n",
    "\n",
    "exclude_scs = set(exclude_scs)\n",
    "exclude_scs_ids = {str(sc.id) for sc in exclude_scs}"
   ]
  },
  {
   "cell_type": "code",
   "execution_count": 6,
   "metadata": {},
   "outputs": [],
   "source": [
    "# from livecell_tracker.core.sct_operator import create_scs_edit_viewer\n",
    "# sct_operator = create_scs_edit_viewer(exclude_scs, img_dataset = list(exclude_scs)[0].img_dataset)"
   ]
  },
  {
   "attachments": {},
   "cell_type": "markdown",
   "metadata": {},
   "source": [
    "load all scs"
   ]
  },
  {
   "cell_type": "code",
   "execution_count": 7,
   "metadata": {},
   "outputs": [],
   "source": [
    "import json\n",
    "from livecell_tracker.core.single_cell import SingleCellTrajectoryCollection\n",
    "from livecell_tracker.track.sort_tracker_utils import (\n",
    "    track_SORT_bbox_from_scs\n",
    ")\n",
    "\n",
    "all_scs_json_path = [\"./datasets/test_scs_EBSS_starvation/XY1/single_cells.json\", \"./datasets/test_scs_EBSS_starvation/XY16/single_cells.json\"]\n",
    "# all_scs_json_path = \"./datasets/test_scs_EBSS_starvation/XY16/tmp_corrected_scs.json\"\n",
    "sctc = SingleCellTrajectoryCollection()\n",
    "for json_path in all_scs_json_path:\n",
    "    _scs = SingleCellStatic.load_single_cells_json(json_path)\n",
    "    tmp_sctc = track_SORT_bbox_from_scs(_scs, raw_imgs=_scs[0].img_dataset, min_hits=3, max_age=3)\n",
    "    tids = set(sctc.get_all_tids())\n",
    "    if len(tids) != 0:\n",
    "        max_tid = max(tids)\n",
    "    else:\n",
    "        max_tid = 0\n",
    "    for tid, traj in tmp_sctc:\n",
    "        traj.meta[\"src_dir\"] = json_path\n",
    "        traj.track_id = tid + max_tid + 1\n",
    "        sctc.add_trajectory(traj)\n",
    "        traj_scs = traj.get_all_scs()\n",
    "        for sc in traj_scs:\n",
    "            sc.meta[\"src_dir\"] = json_path\n",
    "    del tmp_sctc\n",
    "\n",
    "all_scs = SingleCellStatic.load_single_cells_jsons(all_scs_json_path)"
   ]
  },
  {
   "cell_type": "code",
   "execution_count": 8,
   "metadata": {},
   "outputs": [],
   "source": [
    "\n",
    "# with open(\"./EBSS_starvation_24h_xy16_annotation/single_cell_trajectory_collection.json\", \"r\") as file:\n",
    "#     json_dict = json.load(file)\n",
    "# sctc = SingleCellTrajectoryCollection().load_from_json_dict(json_dict)\n"
   ]
  },
  {
   "cell_type": "code",
   "execution_count": 11,
   "metadata": {},
   "outputs": [
    {
     "name": "stdout",
     "output_type": "stream",
     "text": [
      "some sc in exclude scs\n",
      "some sc in exclude scs\n",
      "some sc in exclude scs\n",
      "some sc in exclude scs\n",
      "some sc in exclude scs\n",
      "some sc in exclude scs\n",
      "some sc in exclude scs\n",
      "some sc in exclude scs\n"
     ]
    },
    {
     "data": {
      "text/plain": [
       "[[SingleCellStatic(id=056b6e7b-d2cb-4501-b3d2-924e9d149e74, timeframe=73, bbox=[417 387 601 585]),\n",
       "  SingleCellStatic(id=c6f083e2-fff1-47d9-a2b0-4feff712626b, timeframe=74, bbox=[421 392 603 580]),\n",
       "  SingleCellStatic(id=3b10c5f7-966a-4282-a661-78da785fff0e, timeframe=75, bbox=[416 391 595 579]),\n",
       "  SingleCellStatic(id=0816119c-6bdc-49cb-b857-0d43cbb03e61, timeframe=76, bbox=[420 390 600 586]),\n",
       "  SingleCellStatic(id=2e83a2af-01bc-4453-9f45-49a3c0e1d975, timeframe=77, bbox=[437 402 601 576]),\n",
       "  SingleCellStatic(id=34b6863b-baf4-4197-9554-f701711c59db, timeframe=78, bbox=[438 399 595 568]),\n",
       "  SingleCellStatic(id=6ba2fc6f-9c02-4c7b-beda-3fa7a0a1e84a, timeframe=79, bbox=[444 406 595 581]),\n",
       "  SingleCellStatic(id=97536b78-d230-4c98-9d79-ccac89189aed, timeframe=80, bbox=[443 406 595 576])],\n",
       " [SingleCellStatic(id=5e9559bc-f211-4481-b005-fb4ff850ed40, timeframe=173, bbox=[1302 1134 1403 1229]),\n",
       "  SingleCellStatic(id=174a1612-6faa-4700-a02f-7ae1a3eecb50, timeframe=174, bbox=[1228 1107 1404 1233]),\n",
       "  SingleCellStatic(id=69135572-f56d-4b80-bdbf-6e94ca1ec7a8, timeframe=175, bbox=[1301 1138 1405 1231]),\n",
       "  SingleCellStatic(id=dd783d10-ef47-4390-8557-f973fda4ed41, timeframe=176, bbox=[1305 1140 1401 1236])]]"
      ]
     },
     "execution_count": 11,
     "metadata": {},
     "output_type": "execute_result"
    }
   ],
   "source": [
    "# set numpy seed\n",
    "seed = 0\n",
    "np.random.seed(seed)\n",
    "\n",
    "objective_sample_num = total_non_normal_samples * 10\n",
    "\n",
    "normal_frame_len_range = (3, 10)\n",
    "counter = 0\n",
    "normal_samples = []\n",
    "normal_samples_extra_info = []\n",
    "max_trial_counter = 100000\n",
    "while counter < objective_sample_num and max_trial_counter > 0:\n",
    "    # randomly select a sct from sctc\n",
    "    # generate a list of scs\n",
    "    track_id = np.random.choice(list(sctc.track_id_to_trajectory.keys()))  \n",
    "    sct = sctc.get_trajectory(track_id)\n",
    "    # randomly select a length\n",
    "    frame_len = np.random.randint(*normal_frame_len_range)\n",
    "    # generate a sample\n",
    "    times = list(sct.timeframe_to_single_cell.keys())\n",
    "    times = sorted(times)\n",
    "    if len(times) <= frame_len:\n",
    "        continue\n",
    "    start_idx = np.random.randint(0, len(times) - frame_len)\n",
    "    start_time = times[start_idx]\n",
    "    end_time = times[start_idx + frame_len - 1]\n",
    "\n",
    "    sub_sct = sct.subsct(start_time, end_time)\n",
    "\n",
    "    is_some_sc_in_exclude_scs = False\n",
    "    for time, sc in sub_sct.timeframe_to_single_cell.items():\n",
    "        # print(\"sc.id:\", sc.id, type(sc.id))\n",
    "        if str(sc.id) in exclude_scs_ids:\n",
    "            is_some_sc_in_exclude_scs = True\n",
    "            break\n",
    "    if is_some_sc_in_exclude_scs:\n",
    "        print(\"some sc in exclude scs\")\n",
    "        continue\n",
    "    \n",
    "    new_sample = []\n",
    "    for time, sc in sub_sct.timeframe_to_single_cell.items():\n",
    "        new_sample.append(sc)\n",
    "    normal_samples.append(new_sample)\n",
    "    normal_samples_extra_info.append({\"src_dir\": sub_sct.get_all_scs()[0].meta[\"src_dir\"]})\n",
    "    counter += 1\n",
    "    max_trial_counter -= 1\n",
    "\n",
    "normal_samples[:2]"
   ]
  },
  {
   "cell_type": "code",
   "execution_count": 12,
   "metadata": {},
   "outputs": [],
   "source": [
    "all_class2samples[\"normal\"].extend(normal_samples)\n",
    "all_class2sample_extra_info[\"normal\"].extend(normal_samples_extra_info)"
   ]
  },
  {
   "cell_type": "code",
   "execution_count": 13,
   "metadata": {},
   "outputs": [
    {
     "data": {
      "text/plain": [
       "(280, 280)"
      ]
     },
     "execution_count": 13,
     "metadata": {},
     "output_type": "execute_result"
    }
   ],
   "source": [
    "len(all_class2samples[\"normal\"]), len(all_class2sample_extra_info[\"normal\"])"
   ]
  },
  {
   "attachments": {},
   "cell_type": "markdown",
   "metadata": {},
   "source": [
    "## Prepare videos and annotations for MMDetection"
   ]
  },
  {
   "cell_type": "code",
   "execution_count": 14,
   "metadata": {},
   "outputs": [
    {
     "data": {
      "text/plain": [
       "dict_keys(['mitosis', 'apoptosis', 'normal'])"
      ]
     },
     "execution_count": 14,
     "metadata": {},
     "output_type": "execute_result"
    }
   ],
   "source": [
    "classes = all_class2samples.keys()\n",
    "classes"
   ]
  },
  {
   "cell_type": "code",
   "execution_count": 15,
   "metadata": {},
   "outputs": [],
   "source": [
    "from livecell_tracker.core.utils import gray_img_to_rgb, rgb_img_to_gray\n",
    "from livecell_tracker.preprocess.utils import normalize_img_to_uint8"
   ]
  },
  {
   "cell_type": "code",
   "execution_count": 16,
   "metadata": {},
   "outputs": [],
   "source": [
    "from livecell_tracker.track.classify_utils import video_frames_and_masks_from_sample, combine_video_frames_and_masks"
   ]
  },
  {
   "cell_type": "code",
   "execution_count": 17,
   "metadata": {},
   "outputs": [],
   "source": [
    "from typing import List\n",
    "import cv2\n",
    "import numpy as np\n",
    "import pandas as pd\n",
    "\n",
    "from livecell_tracker.core.sc_video_utils import gen_mp4_from_frames, gen_samples_df, gen_samples_mp4s\n",
    "\n",
    "ver = 9\n",
    "# ver = \"-test\"\n",
    "data_dir = Path(f'notebook_results/mmaction_train_data_v{ver}')\n",
    "class_labels = ['mitosis', 'apoptosis', 'normal']\n",
    "class_label = \"mitosis\"\n",
    "frame_types = [\"video\", \"mask\", \"combined\"]\n",
    "fps = 3\n",
    "\n",
    "padding_pixels = [0, 20, 40, 50, 100, 200, 400]\n",
    "\n",
    "\n",
    "\n",
    "# split train and test data\n",
    "\n",
    "# get #samples from all_class2samples\n",
    "_split = 0.8\n",
    "\n",
    "train_class2samples = {}\n",
    "test_class2samples = {}\n",
    "train_class2sample_extra_info = {}\n",
    "test_class2sample_extra_info = {}\n",
    "\n",
    "# randomize train and test data\n",
    "\n",
    "\n",
    "for key in all_class2samples.keys():\n",
    "    randomized_indices = np.random.permutation(len(all_class2samples[key])).astype(int)\n",
    "    split_idx = int(len(all_class2samples[key]) * _split)\n",
    "    _train_indices = randomized_indices[:split_idx]\n",
    "    _test_indices = randomized_indices[split_idx:]\n",
    "    train_class2samples[key] = np.array(all_class2samples[key], dtype=object)[_train_indices]\n",
    "    test_class2samples[key] = np.array(all_class2samples[key], dtype=object)[_test_indices]\n",
    "\n",
    "    train_class2sample_extra_info[key] = np.array(all_class2sample_extra_info[key], dtype=object)[_train_indices]\n",
    "    test_class2sample_extra_info[key] = np.array(all_class2sample_extra_info[key], dtype=object)[_test_indices]\n",
    "\n"
   ]
  },
  {
   "cell_type": "code",
   "execution_count": 18,
   "metadata": {},
   "outputs": [
    {
     "data": {
      "text/plain": [
       "(224, 56)"
      ]
     },
     "execution_count": 18,
     "metadata": {},
     "output_type": "execute_result"
    }
   ],
   "source": [
    "len(train_class2samples[\"normal\"]), len(test_class2samples[\"normal\"])"
   ]
  },
  {
   "cell_type": "code",
   "execution_count": 19,
   "metadata": {},
   "outputs": [
    {
     "data": {
      "text/plain": [
       "(22, 6)"
      ]
     },
     "execution_count": 19,
     "metadata": {},
     "output_type": "execute_result"
    }
   ],
   "source": [
    "len(train_class2samples[\"mitosis\"]), len(test_class2samples[\"mitosis\"])"
   ]
  },
  {
   "cell_type": "code",
   "execution_count": 20,
   "metadata": {},
   "outputs": [
    {
     "data": {
      "text/plain": [
       "(95, 145, 3)"
      ]
     },
     "execution_count": 20,
     "metadata": {},
     "output_type": "execute_result"
    }
   ],
   "source": [
    "video_frames_and_masks_from_sample(train_class2samples[\"normal\"][6])[0][0].shape\n",
    "# train_class2samples[\"normal\"][6][1].show_panel()"
   ]
  },
  {
   "cell_type": "code",
   "execution_count": 21,
   "metadata": {},
   "outputs": [
    {
     "data": {
      "text/plain": [
       "<module 'livecell_tracker.track.classify_utils' from 'D:\\\\LiveCellTracker-dev\\\\livecell_tracker\\\\track\\\\classify_utils.py'>"
      ]
     },
     "execution_count": 21,
     "metadata": {},
     "output_type": "execute_result"
    }
   ],
   "source": [
    "import importlib\n",
    "import livecell_tracker\n",
    "importlib.reload(livecell_tracker.track.classify_utils)"
   ]
  },
  {
   "cell_type": "code",
   "execution_count": 22,
   "metadata": {},
   "outputs": [
    {
     "name": "stdout",
     "output_type": "stream",
     "text": [
      "video frames dtype: uint8\n",
      "video frames shape: (95, 145, 3)\n",
      "video frame masks dtype: uint8\n",
      "video frame masks shape: (95, 145, 3)\n",
      "combined_frames shape:  (95, 145, 3)\n"
     ]
    }
   ],
   "source": [
    "idx_to_check = 6\n",
    "video_frames, video_frame_masks = video_frames_and_masks_from_sample(train_class2samples[\"normal\"][idx_to_check], padding_pixels=0)\n",
    "print(\"video frames dtype:\", video_frames[0].dtype)\n",
    "print(\"video frames shape:\", video_frames[0].shape)\n",
    "print(\"video frame masks dtype:\", video_frame_masks[0].dtype)\n",
    "print(\"video frame masks shape:\", video_frame_masks[0].shape)\n",
    "combined_frames = livecell_tracker.track.classify_utils.combine_video_frames_and_masks(video_frames, video_frame_masks, edt_transform=True)\n",
    "combined_frames = np.array(combined_frames).astype(np.uint8)\n",
    "# combined_frames = np.maximum(combined_frames - 1, 0).astype(np.uint8)\n",
    "print(\"combined_frames shape: \", combined_frames[0].shape)\n",
    "gen_mp4_from_frames(combined_frames, \"./test_video_output.mp4\", fps=1)"
   ]
  },
  {
   "cell_type": "markdown",
   "metadata": {},
   "source": [
    "Visually check the generated frames' values"
   ]
  },
  {
   "cell_type": "code",
   "execution_count": null,
   "metadata": {},
   "outputs": [],
   "source": [
    "# channel = 2\n",
    "# plt.imshow(combined_frames[0][..., channel])\n",
    "# combined_frames[1][..., channel].max(), combined_frames[1][..., 0].shape"
   ]
  },
  {
   "cell_type": "code",
   "execution_count": null,
   "metadata": {},
   "outputs": [],
   "source": [
    "np.array(combined_frames).flatten().min()"
   ]
  },
  {
   "cell_type": "code",
   "execution_count": 23,
   "metadata": {},
   "outputs": [
    {
     "name": "stderr",
     "output_type": "stream",
     "text": [
      "100%|██████████| 22/22 [00:16<00:00,  1.32it/s]\n",
      "100%|██████████| 22/22 [00:17<00:00,  1.28it/s]\n",
      "100%|██████████| 22/22 [00:19<00:00,  1.15it/s]\n",
      "100%|██████████| 22/22 [00:19<00:00,  1.12it/s]\n",
      "100%|██████████| 22/22 [00:21<00:00,  1.01it/s]\n",
      "100%|██████████| 22/22 [00:28<00:00,  1.29s/it]\n",
      "100%|██████████| 22/22 [00:51<00:00,  2.34s/it]\n",
      "0it [00:00, ?it/s]\n",
      "0it [00:00, ?it/s]\n",
      "0it [00:00, ?it/s]\n",
      "0it [00:00, ?it/s]\n",
      "0it [00:00, ?it/s]\n",
      "0it [00:00, ?it/s]\n",
      "0it [00:00, ?it/s]\n",
      "100%|██████████| 224/224 [00:32<00:00,  6.88it/s]\n",
      "100%|██████████| 224/224 [00:34<00:00,  6.40it/s]\n",
      "100%|██████████| 224/224 [00:35<00:00,  6.36it/s]\n",
      "100%|██████████| 224/224 [00:37<00:00,  5.98it/s]\n",
      "100%|██████████| 224/224 [00:47<00:00,  4.74it/s]\n",
      "100%|██████████| 224/224 [01:19<00:00,  2.81it/s]\n",
      "100%|██████████| 224/224 [03:06<00:00,  1.20it/s]\n",
      "100%|██████████| 6/6 [00:09<00:00,  1.57s/it]\n",
      "100%|██████████| 6/6 [00:09<00:00,  1.62s/it]\n",
      "100%|██████████| 6/6 [00:09<00:00,  1.66s/it]\n",
      "100%|██████████| 6/6 [00:10<00:00,  1.73s/it]\n",
      "100%|██████████| 6/6 [00:10<00:00,  1.79s/it]\n",
      "100%|██████████| 6/6 [00:13<00:00,  2.27s/it]\n",
      "100%|██████████| 6/6 [00:21<00:00,  3.61s/it]\n",
      "0it [00:00, ?it/s]\n",
      "0it [00:00, ?it/s]\n",
      "0it [00:00, ?it/s]\n",
      "0it [00:00, ?it/s]\n",
      "0it [00:00, ?it/s]\n",
      "0it [00:00, ?it/s]\n",
      "0it [00:00, ?it/s]\n",
      "100%|██████████| 56/56 [00:21<00:00,  2.57it/s]\n",
      "100%|██████████| 56/56 [00:20<00:00,  2.71it/s]\n",
      "100%|██████████| 56/56 [00:22<00:00,  2.48it/s]\n",
      "100%|██████████| 56/56 [00:20<00:00,  2.71it/s]\n",
      "100%|██████████| 56/56 [00:22<00:00,  2.49it/s]\n",
      "100%|██████████| 56/56 [00:29<00:00,  1.88it/s]\n",
      "100%|██████████| 56/56 [00:54<00:00,  1.03it/s]\n"
     ]
    }
   ],
   "source": [
    "\n",
    "# # for debug\n",
    "# train_class2samples = {key: value[:5] for key, value in all_class2samples.items()}\n",
    "# test_class2samples = {key: value[:5] for key, value in all_class2samples.items()}\n",
    "# padding_pixels = [20]\n",
    "\n",
    "\n",
    "train_sample_info_df = gen_samples_df(train_class2samples, train_class2sample_extra_info, data_dir, class_labels, padding_pixels, frame_types, fps, prefix=\"train\")\n",
    "test_sample_info_df = gen_samples_df(test_class2samples, test_class2sample_extra_info, data_dir, class_labels, padding_pixels, frame_types, fps, prefix=\"test\")\n",
    "\n",
    "train_sample_info_df.to_csv(data_dir/f'train_data.txt', index=False, header=False, sep=' ', )\n",
    "test_sample_info_df.to_csv(data_dir/f'test_data.txt', index=False, header=False, sep=' ', )\n",
    "\n",
    "for selected_frame_type in frame_types:\n",
    "    train_df_path = data_dir/f'mmaction_train_data_{selected_frame_type}.txt'\n",
    "    train_selected_frame_type_df = train_sample_info_df[train_sample_info_df[\"frame_type\"] == selected_frame_type]\n",
    "    train_selected_frame_type_df = train_selected_frame_type_df.reset_index(drop=True)\n",
    "    train_selected_frame_type_df = train_selected_frame_type_df[[\"path\", \"label_index\"]]\n",
    "    train_selected_frame_type_df.to_csv(train_df_path, index=False, header=False, sep=' ')\n",
    "    \n",
    "    test_df_path = data_dir/f'mmaction_test_data_{selected_frame_type}.txt'\n",
    "    test_selected_frame_type_df = test_sample_info_df[test_sample_info_df[\"frame_type\"] == selected_frame_type]\n",
    "    test_selected_frame_type_df = test_selected_frame_type_df[[\"path\", \"label_index\"]]\n",
    "    test_selected_frame_type_df = test_selected_frame_type_df.reset_index(drop=True)\n",
    "    test_selected_frame_type_df.to_csv(test_df_path, index=False, header=False, sep=' ')\n",
    "\n",
    "\n",
    "# # the follwing code generates v1-v7 test data. The issue is that some of test data shows up in train data, through different padding values.\n",
    "# data_df_path = data_dir/'all_data.txt'\n",
    "# sample_df = gen_samples_df(data_dir, class_labels, padding_pixels, frame_types, fps)\n",
    "# sample_df.to_csv(data_df_path, index=False, header=False, sep=' ')\n",
    "# for selected_frame_type in frame_types:\n",
    "#     selected_frame_type_df = sample_df[sample_df[\"frame_type\"] == selected_frame_type]\n",
    "#     selected_frame_type_df = selected_frame_type_df.reset_index(drop=True)\n",
    "#     train_df_path = data_dir/f'train_data_{selected_frame_type}.txt'\n",
    "#     test_df_path = data_dir/f'test_data_{selected_frame_type}.txt'\n",
    "#     train_df = selected_frame_type_df.sample(frac=0.8, random_state=0, replace=False)\n",
    "#     test_df = selected_frame_type_df.drop(train_df.index, inplace=False)\n",
    "\n",
    "#     # only keep the path and label_index columns\n",
    "#     train_df = train_df[[\"path\", \"label_index\"]]\n",
    "#     test_df = test_df[[\"path\", \"label_index\"]]\n",
    "\n",
    "#     train_df.to_csv(train_df_path, index=False, header=False, sep=' ')\n",
    "#     test_df.to_csv(test_df_path, index=False, header=False, sep=' ')\n"
   ]
  },
  {
   "cell_type": "code",
   "execution_count": null,
   "metadata": {},
   "outputs": [],
   "source": [
    "train_class2samples"
   ]
  },
  {
   "attachments": {},
   "cell_type": "markdown",
   "metadata": {},
   "source": [
    "Check the videos"
   ]
  },
  {
   "cell_type": "code",
   "execution_count": 25,
   "metadata": {},
   "outputs": [],
   "source": [
    "\n",
    "video_paths = list(Path(data_dir/'videos').glob('*.mp4'))"
   ]
  },
  {
   "attachments": {},
   "cell_type": "markdown",
   "metadata": {},
   "source": [
    "Due to a `decord` package [issue](https://github.com/dmlc/decord/issues/150), to use mmaction2 we must check if the videos can be loaded by `decord` correctly."
   ]
  },
  {
   "cell_type": "code",
   "execution_count": 26,
   "metadata": {},
   "outputs": [
    {
     "name": "stdout",
     "output_type": "stream",
     "text": [
      "invalid video for decord (https://github.com/dmlc/decord/issues/150):  notebook_results\\mmaction_train_data_v9\\videos\\test_normal_33_combined_padding-0.mp4\n",
      "invalid video for decord (https://github.com/dmlc/decord/issues/150):  notebook_results\\mmaction_train_data_v9\\videos\\test_normal_33_mask_padding-0.mp4\n",
      "invalid video for decord (https://github.com/dmlc/decord/issues/150):  notebook_results\\mmaction_train_data_v9\\videos\\test_normal_33_raw_padding-0.mp4\n",
      "invalid video for decord (https://github.com/dmlc/decord/issues/150):  notebook_results\\mmaction_train_data_v9\\videos\\train_normal_204_combined_padding-0.mp4\n",
      "invalid video for decord (https://github.com/dmlc/decord/issues/150):  notebook_results\\mmaction_train_data_v9\\videos\\train_normal_204_mask_padding-0.mp4\n",
      "invalid video for decord (https://github.com/dmlc/decord/issues/150):  notebook_results\\mmaction_train_data_v9\\videos\\train_normal_204_raw_padding-0.mp4\n"
     ]
    }
   ],
   "source": [
    "import decord\n",
    "for path in video_paths:\n",
    "# for path in [\"./notebook_results/train_normal_6_raw_padding-0.mp4\"]:\n",
    "# for path in [\"./test_video_output.mp4\"]:\n",
    "    reader = decord.VideoReader(str(path))\n",
    "    reader.seek(0)\n",
    "    imgs = list()\n",
    "    frame_inds = range(0, len(reader))\n",
    "    for idx in frame_inds:\n",
    "        reader.seek(idx)\n",
    "        frame = reader.next()\n",
    "        imgs.append(frame.asnumpy())\n",
    "        frame = frame.asnumpy()\n",
    "\n",
    "        num_channels = frame.shape[-1]\n",
    "        if num_channels != 3:\n",
    "            print(\"invalid video for decord (https://github.com/dmlc/decord/issues/150): \", path)\n",
    "            break\n",
    "        # fig, axes = plt.subplots(1, num_channels, figsize=(20, 10))\n",
    "        # for i in range(num_channels):\n",
    "        #     axes[i].imshow(frame[:, :, i])\n",
    "        # plt.show()\n",
    "    del reader"
   ]
  },
  {
   "cell_type": "code",
   "execution_count": null,
   "metadata": {},
   "outputs": [],
   "source": [
    "decord.__version__"
   ]
  },
  {
   "attachments": {},
   "cell_type": "markdown",
   "metadata": {},
   "source": [
    "check if videos can be loaded by cv2 correctly"
   ]
  },
  {
   "cell_type": "code",
   "execution_count": null,
   "metadata": {},
   "outputs": [],
   "source": [
    "import cv2\n",
    "\n",
    "cap = cv2.VideoCapture(\"./test_video_output.mp4\")\n",
    "\n",
    "while True:\n",
    "    ret, frame = cap.read()\n",
    "    if not ret:\n",
    "        break\n",
    "    assert frame.shape[-1] == 3, \"frame should be in RGB format\"\n",
    "\n",
    "cap.release()\n",
    "cv2.destroyAllWindows()"
   ]
  },
  {
   "cell_type": "code",
   "execution_count": null,
   "metadata": {},
   "outputs": [],
   "source": [
    "# from sklearn.model_selection import train_test_split\n",
    "\n",
    "# train_df_path = data_dir/'train_data.csv'\n",
    "# test_df_path = data_dir/'test_data.csv'\n",
    "\n",
    "# # split train and test from df\n",
    "# train_df, test_df = train_test_split(df, test_size=0.2, random_state=42)\n",
    "# train_df.to_csv(train_df_path, index=False, header=False, sep=' ')\n",
    "# test_df.to_csv(test_df_path, index=False, header=False, sep=' ')\n"
   ]
  }
 ],
 "metadata": {
  "kernelspec": {
   "display_name": "livecell",
   "language": "python",
   "name": "python3"
  },
  "language_info": {
   "codemirror_mode": {
    "name": "ipython",
    "version": 3
   },
   "file_extension": ".py",
   "mimetype": "text/x-python",
   "name": "python",
   "nbconvert_exporter": "python",
   "pygments_lexer": "ipython3",
   "version": "3.9.16"
  },
  "orig_nbformat": 4
 },
 "nbformat": 4,
 "nbformat_minor": 2
}
