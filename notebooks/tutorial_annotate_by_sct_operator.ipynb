{
 "cells": [
  {
   "attachments": {},
   "cell_type": "markdown",
   "metadata": {},
   "source": [
    "# Annotate Mitosis Events\n",
    "can be applied to other cell events  \n",
    "Author: Ke\n",
    "\n"
   ]
  },
  {
   "cell_type": "code",
   "execution_count": 1,
   "metadata": {},
   "outputs": [],
   "source": [
    "import numpy as np\n",
    "import matplotlib.pyplot as plt\n",
    "from cellpose import models\n",
    "from cellpose.io import imread\n",
    "import glob\n",
    "from pathlib import Path\n",
    "from PIL import Image, ImageSequence\n",
    "from tqdm import tqdm\n",
    "import os\n",
    "import os.path\n",
    "# from livecell_tracker import segment\n",
    "from livecell_tracker import core\n",
    "from livecell_tracker.core import datasets\n",
    "from livecell_tracker.core.datasets import LiveCellImageDataset, SingleImageDataset\n",
    "from skimage import measure\n",
    "from livecell_tracker.core import SingleCellTrajectory, SingleCellStatic\n",
    "# import detectron2\n",
    "# from detectron2.utils.logger import setup_logger\n",
    "\n",
    "# setup_logger()\n",
    "\n",
    "# import some common libraries\n",
    "import numpy as np\n",
    "import os, json, cv2, random\n",
    "import cv2\n",
    "\n",
    "# import some common detectron2 utilities\n",
    "# from detectron2 import model_zoo\n",
    "# from detectron2.engine import DefaultPredictor\n",
    "# from detectron2.config import get_cfg\n",
    "# from detectron2.utils.visualizer import Visualizer\n",
    "# from detectron2.data import MetadataCatalog, DatasetCatalog\n",
    "# from livecell_tracker.segment.detectron_utils import gen_cfg\n",
    "\n",
    "# from livecell_tracker.segment.detectron_utils import (\n",
    "#     segment_detectron_wrapper,\n",
    "#     segment_images_by_detectron,\n",
    "#     convert_detectron_instance_pred_masks_to_binary_masks,\n",
    "#     convert_detectron_instances_to_label_masks,\n",
    "# )\n",
    "# from livecell_tracker.segment.detectron_utils import (\n",
    "#     convert_detectron_instance_pred_masks_to_binary_masks,\n",
    "#     convert_detectron_instances_to_label_masks,\n",
    "#     segment_images_by_detectron,\n",
    "#     segment_single_img_by_detectron_wrapper,\n",
    "# )\n"
   ]
  },
  {
   "attachments": {},
   "cell_type": "markdown",
   "metadata": {},
   "source": [
    "## Loading single cells from existing mask files"
   ]
  },
  {
   "attachments": {},
   "cell_type": "markdown",
   "metadata": {},
   "source": [
    "```LiveCellImageDataset, SingleCellImageDataset``` from livecell_tracker.core.datasets allow users to load images with ease, without reading directly into memories.  \n",
    "In `mask_dataset_path` please make sure that the sorted (alphabetically) file names correspond to the order of times.\n",
    " Note that the sorted mechanism provided is simply sort the url (file name) list according to string value. Please note that without proper left trailing zeroes, the order of final times may be incorrect. E.g. string  `T10` (10th file) is less than string `T2`. If you have your customized file patterns, please provide `LiveCellImageDataset` with a `time2url` dictionary to provide necessary time information mapped to file locations for reading time-lapsed data.\n",
    "`SingleCellImageDataset` takes a single image from the memory and makes it a single time point dataset, which can be handy when you would like to process imaging datasets. "
   ]
  },
  {
   "cell_type": "code",
   "execution_count": 2,
   "metadata": {},
   "outputs": [],
   "source": [
    "# dataset_dir_path = Path(\n",
    "#     \"../datasets/test_data_STAV-A549/DIC_data\"\n",
    "# )\n",
    "\n",
    "# mask_dataset_path = Path(\"../datasets/test_data_STAV-A549/mask_data\")\n",
    "\n",
    "# dataset_dir_path = Path(\n",
    "#     \"../datasets/EBSS_Starvation/tif_STAV-A549_VIM_24hours_NoTreat_NA_YL_Ti2e_2022-12-21/XY16/\"\n",
    "# )\n",
    "\n",
    "# mask_dataset_path = Path(\"../datasets/EBSS_Starvation/tif_STAV-A549_VIM_24hours_NoTreat_NA_YL_Ti2e_2022-12-21/out/XY16/seg\")\n",
    "raw_image_dir_path = Path(\n",
    "    \"../datasets/tutorial_data_EBSS_mitosis/raw_images\"\n",
    ")\n",
    "\n",
    "mask_dataset_path = Path(\"../datasets/tutorial_data_EBSS_mitosis/label_masks\")\n"
   ]
  },
  {
   "cell_type": "code",
   "execution_count": 3,
   "metadata": {},
   "outputs": [
    {
     "name": "stdout",
     "output_type": "stream",
     "text": [
      "39 png img file paths loaded;\n"
     ]
    },
    {
     "data": {
      "text/plain": [
       "39"
      ]
     },
     "execution_count": 3,
     "metadata": {},
     "output_type": "execute_result"
    }
   ],
   "source": [
    "mask_dataset = LiveCellImageDataset(mask_dataset_path, ext=\"png\")\n",
    "len(mask_dataset)"
   ]
  },
  {
   "cell_type": "code",
   "execution_count": 4,
   "metadata": {},
   "outputs": [],
   "source": [
    "time2url = sorted(glob.glob(str((Path(raw_image_dir_path) / Path(\"*_DIC.tif\")))))\n",
    "time2url = {i: path for i, path in enumerate(time2url)}\n",
    "dic_dataset = LiveCellImageDataset(time2url=time2url, ext=\"tif\")\n",
    "# dic_dataset = LiveCellImageDataset(dataset_dir_path, ext=\"tif\")"
   ]
  },
  {
   "cell_type": "code",
   "execution_count": 5,
   "metadata": {},
   "outputs": [
    {
     "data": {
      "text/plain": [
       "39"
      ]
     },
     "execution_count": 5,
     "metadata": {},
     "output_type": "execute_result"
    }
   ],
   "source": [
    "len(dic_dataset)"
   ]
  },
  {
   "attachments": {},
   "cell_type": "markdown",
   "metadata": {},
   "source": [
    "### Convert label masks to single objects"
   ]
  },
  {
   "cell_type": "code",
   "execution_count": 6,
   "metadata": {},
   "outputs": [
    {
     "name": "stderr",
     "output_type": "stream",
     "text": [
      "100%|██████████| 39/39 [00:21<00:00,  1.83it/s]\n"
     ]
    }
   ],
   "source": [
    "from skimage.measure import regionprops\n",
    "from livecell_tracker.segment.utils import prep_scs_from_mask_dataset\n",
    "single_cells = prep_scs_from_mask_dataset(mask_dataset, dic_dataset)"
   ]
  },
  {
   "cell_type": "code",
   "execution_count": 7,
   "metadata": {},
   "outputs": [],
   "source": [
    "single_cells_by_time = {}\n",
    "for cell in single_cells:\n",
    "    if cell.timeframe not in single_cells_by_time:\n",
    "        single_cells_by_time[cell.timeframe] = []\n",
    "    single_cells_by_time[cell.timeframe].append(cell)"
   ]
  },
  {
   "cell_type": "code",
   "execution_count": 8,
   "metadata": {},
   "outputs": [
    {
     "name": "stdout",
     "output_type": "stream",
     "text": [
      "1 14\n",
      "3 18\n",
      "6 22\n",
      "9 18\n",
      "11 22\n",
      "4 23\n",
      "2 22\n",
      "5 20\n",
      "7 21\n",
      "16 15\n",
      "13 20\n",
      "0 20\n",
      "17 17\n",
      "18 16\n",
      "19 16\n",
      "10 22\n",
      "22 20\n",
      "24 18\n",
      "12 19\n",
      "20 16\n",
      "21 18\n",
      "15 17\n",
      "26 20\n",
      "25 21\n",
      "23 17\n",
      "28 23\n",
      "14 20\n",
      "29 18\n",
      "8 19\n",
      "30 20\n",
      "27 19\n",
      "32 18\n",
      "34 19\n",
      "31 18\n",
      "35 17\n",
      "37 17\n",
      "38 17\n",
      "33 18\n",
      "36 17\n"
     ]
    }
   ],
   "source": [
    "for time in single_cells_by_time:\n",
    "    print(time, len(single_cells_by_time[time]))"
   ]
  },
  {
   "cell_type": "code",
   "execution_count": 9,
   "metadata": {},
   "outputs": [
    {
     "name": "stderr",
     "output_type": "stream",
     "text": [
      "D:\\LiveCellTracker-dev\\livecell_tracker\\preprocess\\correct_bg.py:20: FutureWarning: `selem` is a deprecated argument name for `median`. It will be removed in version 1.0. Please use `footprint` instead.\n",
      "  image_median = filters.rank.median(image, selem=selem)\n",
      "c:\\Users\\dummy\\anaconda3\\envs\\livecell-work\\lib\\site-packages\\skimage\\filters\\rank\\generic.py:262: UserWarning: Bad rank filter performance is expected due to a large number of bins (26172), equivalent to an approximate bitdepth of 14.7.\n",
      "  image, footprint, out, mask, n_bins = _preprocess_input(image, footprint,\n"
     ]
    }
   ],
   "source": [
    "from livecell_tracker.preprocess.correct_bg import correct_background_bisplrep, correct_background_median_gamma\n",
    "from livecell_tracker.preprocess.utils import normalize_img_to_uint8\n",
    "import numpy as np\n",
    "import scipy\n",
    "import scipy.interpolate as interp\n",
    "from skimage import exposure, filters, morphology\n",
    "\n",
    "sc = single_cells[0].copy()\n",
    "\n",
    "padding_size = 30\n",
    "# sc.show(crop=True)\n",
    "sc_img = sc.get_img_crop(padding=padding_size)\n",
    "original_sc = sc_img\n",
    "\n",
    "bisplrep_sc_img = normalize_img_to_uint8(sc_img)\n",
    "bisplrep_sc_img = correct_background_bisplrep(sc_img, sample_step=5, s=1e20)\n",
    "\n",
    "gamma_sc_img = sc.get_img_crop(padding=padding_size)\n",
    "gamma_sc_img = normalize_img_to_uint8(sc_img)\n",
    "gamma_sc_img = correct_background_median_gamma(sc_img, disk_size=2)"
   ]
  },
  {
   "cell_type": "code",
   "execution_count": 10,
   "metadata": {},
   "outputs": [],
   "source": [
    "sc1 = single_cells[1]\n",
    "sc2 = single_cells[2]"
   ]
  },
  {
   "attachments": {},
   "cell_type": "markdown",
   "metadata": {},
   "source": [
    "## Tracking based on single cells"
   ]
  },
  {
   "cell_type": "code",
   "execution_count": 11,
   "metadata": {},
   "outputs": [
    {
     "name": "stdout",
     "output_type": "stream",
     "text": [
      "matching image path: ../datasets/tutorial_data_EBSS_mitosis/raw_images/STAV-A549_VIM_24hours_NoTreat_NA_YL_Ti2e_2022-12-21_T080_XY16_DIC.tif\n",
      "matching image path: ../datasets/tutorial_data_EBSS_mitosis/raw_images/STAV-A549_VIM_24hours_NoTreat_NA_YL_Ti2e_2022-12-21_T081_XY16_DIC.tif\n",
      "matching image path: ../datasets/tutorial_data_EBSS_mitosis/raw_images/STAV-A549_VIM_24hours_NoTreat_NA_YL_Ti2e_2022-12-21_T082_XY16_DIC.tif\n",
      "matching image path: ../datasets/tutorial_data_EBSS_mitosis/raw_images/STAV-A549_VIM_24hours_NoTreat_NA_YL_Ti2e_2022-12-21_T083_XY16_DIC.tif\n",
      "matching image path: ../datasets/tutorial_data_EBSS_mitosis/raw_images/STAV-A549_VIM_24hours_NoTreat_NA_YL_Ti2e_2022-12-21_T084_XY16_DIC.tif\n",
      "matching image path: ../datasets/tutorial_data_EBSS_mitosis/raw_images/STAV-A549_VIM_24hours_NoTreat_NA_YL_Ti2e_2022-12-21_T085_XY16_DIC.tif\n",
      "matching image path: ../datasets/tutorial_data_EBSS_mitosis/raw_images/STAV-A549_VIM_24hours_NoTreat_NA_YL_Ti2e_2022-12-21_T086_XY16_DIC.tif\n",
      "matching image path: ../datasets/tutorial_data_EBSS_mitosis/raw_images/STAV-A549_VIM_24hours_NoTreat_NA_YL_Ti2e_2022-12-21_T087_XY16_DIC.tif\n",
      "matching image path: ../datasets/tutorial_data_EBSS_mitosis/raw_images/STAV-A549_VIM_24hours_NoTreat_NA_YL_Ti2e_2022-12-21_T088_XY16_DIC.tif\n",
      "matching image path: ../datasets/tutorial_data_EBSS_mitosis/raw_images/STAV-A549_VIM_24hours_NoTreat_NA_YL_Ti2e_2022-12-21_T089_XY16_DIC.tif\n",
      "matching image path: ../datasets/tutorial_data_EBSS_mitosis/raw_images/STAV-A549_VIM_24hours_NoTreat_NA_YL_Ti2e_2022-12-21_T090_XY16_DIC.tif\n",
      "matching image path: ../datasets/tutorial_data_EBSS_mitosis/raw_images/STAV-A549_VIM_24hours_NoTreat_NA_YL_Ti2e_2022-12-21_T091_XY16_DIC.tif\n",
      "matching image path: ../datasets/tutorial_data_EBSS_mitosis/raw_images/STAV-A549_VIM_24hours_NoTreat_NA_YL_Ti2e_2022-12-21_T092_XY16_DIC.tif\n",
      "matching image path: ../datasets/tutorial_data_EBSS_mitosis/raw_images/STAV-A549_VIM_24hours_NoTreat_NA_YL_Ti2e_2022-12-21_T093_XY16_DIC.tif\n",
      "matching image path: ../datasets/tutorial_data_EBSS_mitosis/raw_images/STAV-A549_VIM_24hours_NoTreat_NA_YL_Ti2e_2022-12-21_T094_XY16_DIC.tif\n",
      "matching image path: ../datasets/tutorial_data_EBSS_mitosis/raw_images/STAV-A549_VIM_24hours_NoTreat_NA_YL_Ti2e_2022-12-21_T095_XY16_DIC.tif\n",
      "matching image path: ../datasets/tutorial_data_EBSS_mitosis/raw_images/STAV-A549_VIM_24hours_NoTreat_NA_YL_Ti2e_2022-12-21_T096_XY16_DIC.tif\n",
      "matching image path: ../datasets/tutorial_data_EBSS_mitosis/raw_images/STAV-A549_VIM_24hours_NoTreat_NA_YL_Ti2e_2022-12-21_T097_XY16_DIC.tif\n",
      "matching image path: ../datasets/tutorial_data_EBSS_mitosis/raw_images/STAV-A549_VIM_24hours_NoTreat_NA_YL_Ti2e_2022-12-21_T098_XY16_DIC.tif\n",
      "matching image path: ../datasets/tutorial_data_EBSS_mitosis/raw_images/STAV-A549_VIM_24hours_NoTreat_NA_YL_Ti2e_2022-12-21_T099_XY16_DIC.tif\n",
      "matching image path: ../datasets/tutorial_data_EBSS_mitosis/raw_images/STAV-A549_VIM_24hours_NoTreat_NA_YL_Ti2e_2022-12-21_T100_XY16_DIC.tif\n",
      "matching image path: ../datasets/tutorial_data_EBSS_mitosis/raw_images/STAV-A549_VIM_24hours_NoTreat_NA_YL_Ti2e_2022-12-21_T101_XY16_DIC.tif\n",
      "matching image path: ../datasets/tutorial_data_EBSS_mitosis/raw_images/STAV-A549_VIM_24hours_NoTreat_NA_YL_Ti2e_2022-12-21_T102_XY16_DIC.tif\n",
      "matching image path: ../datasets/tutorial_data_EBSS_mitosis/raw_images/STAV-A549_VIM_24hours_NoTreat_NA_YL_Ti2e_2022-12-21_T103_XY16_DIC.tif\n",
      "matching image path: ../datasets/tutorial_data_EBSS_mitosis/raw_images/STAV-A549_VIM_24hours_NoTreat_NA_YL_Ti2e_2022-12-21_T104_XY16_DIC.tif\n",
      "matching image path: ../datasets/tutorial_data_EBSS_mitosis/raw_images/STAV-A549_VIM_24hours_NoTreat_NA_YL_Ti2e_2022-12-21_T105_XY16_DIC.tif\n",
      "matching image path: ../datasets/tutorial_data_EBSS_mitosis/raw_images/STAV-A549_VIM_24hours_NoTreat_NA_YL_Ti2e_2022-12-21_T106_XY16_DIC.tif\n",
      "matching image path: ../datasets/tutorial_data_EBSS_mitosis/raw_images/STAV-A549_VIM_24hours_NoTreat_NA_YL_Ti2e_2022-12-21_T107_XY16_DIC.tif\n",
      "matching image path: ../datasets/tutorial_data_EBSS_mitosis/raw_images/STAV-A549_VIM_24hours_NoTreat_NA_YL_Ti2e_2022-12-21_T108_XY16_DIC.tif\n",
      "matching image path: ../datasets/tutorial_data_EBSS_mitosis/raw_images/STAV-A549_VIM_24hours_NoTreat_NA_YL_Ti2e_2022-12-21_T109_XY16_DIC.tif\n",
      "matching image path: ../datasets/tutorial_data_EBSS_mitosis/raw_images/STAV-A549_VIM_24hours_NoTreat_NA_YL_Ti2e_2022-12-21_T110_XY16_DIC.tif\n",
      "matching image path: ../datasets/tutorial_data_EBSS_mitosis/raw_images/STAV-A549_VIM_24hours_NoTreat_NA_YL_Ti2e_2022-12-21_T111_XY16_DIC.tif\n",
      "matching image path: ../datasets/tutorial_data_EBSS_mitosis/raw_images/STAV-A549_VIM_24hours_NoTreat_NA_YL_Ti2e_2022-12-21_T112_XY16_DIC.tif\n",
      "matching image path: ../datasets/tutorial_data_EBSS_mitosis/raw_images/STAV-A549_VIM_24hours_NoTreat_NA_YL_Ti2e_2022-12-21_T113_XY16_DIC.tif\n",
      "matching image path: ../datasets/tutorial_data_EBSS_mitosis/raw_images/STAV-A549_VIM_24hours_NoTreat_NA_YL_Ti2e_2022-12-21_T114_XY16_DIC.tif\n",
      "matching image path: ../datasets/tutorial_data_EBSS_mitosis/raw_images/STAV-A549_VIM_24hours_NoTreat_NA_YL_Ti2e_2022-12-21_T115_XY16_DIC.tif\n",
      "matching image path: ../datasets/tutorial_data_EBSS_mitosis/raw_images/STAV-A549_VIM_24hours_NoTreat_NA_YL_Ti2e_2022-12-21_T116_XY16_DIC.tif\n",
      "matching image path: ../datasets/tutorial_data_EBSS_mitosis/raw_images/STAV-A549_VIM_24hours_NoTreat_NA_YL_Ti2e_2022-12-21_T117_XY16_DIC.tif\n",
      "matching image path: ../datasets/tutorial_data_EBSS_mitosis/raw_images/STAV-A549_VIM_24hours_NoTreat_NA_YL_Ti2e_2022-12-21_T118_XY16_DIC.tif\n"
     ]
    }
   ],
   "source": [
    "from typing import List\n",
    "from livecell_tracker.track.sort_tracker_utils import (\n",
    "    gen_SORT_detections_input_from_contours,\n",
    "    update_traj_collection_by_SORT_tracker_detection,\n",
    "    track_SORT_bbox_from_contours,\n",
    "    track_SORT_bbox_from_scs\n",
    ")\n",
    "\n",
    "\n",
    "traj_collection = track_SORT_bbox_from_scs(single_cells, dic_dataset, mask_dataset=mask_dataset, max_age=1, min_hits=1)"
   ]
  },
  {
   "attachments": {},
   "cell_type": "markdown",
   "metadata": {},
   "source": [
    "generate movies"
   ]
  },
  {
   "cell_type": "code",
   "execution_count": 12,
   "metadata": {},
   "outputs": [],
   "source": [
    "# from livecell_tracker.track.movie import generate_single_trajectory_movie\n",
    "\n",
    "# for track_id, traj in traj_collection:\n",
    "#     generate_single_trajectory_movie(traj, save_path=f\"./notebook_results/general_tutorial/track_movies/track_{track_id}.gif\")"
   ]
  },
  {
   "cell_type": "code",
   "execution_count": 13,
   "metadata": {},
   "outputs": [
    {
     "data": {
      "text/plain": [
       "<Axes: ylabel='Count'>"
      ]
     },
     "execution_count": 13,
     "metadata": {},
     "output_type": "execute_result"
    },
    {
     "data": {
      "image/png": "[encoded data removed]",
      "text/plain": [
       "<Figure size 640x480 with 1 Axes>"
      ]
     },
     "metadata": {},
     "output_type": "display_data"
    }
   ],
   "source": [
    "traj_collection.histogram_traj_length()"
   ]
  },
  {
   "cell_type": "code",
   "execution_count": 14,
   "metadata": {},
   "outputs": [],
   "source": [
    "# for track_id, traj in traj_collection:\n",
    "#     print(\"track_id=\", track_id)\n",
    "#     traj.timeframe_to_single_cell[list(traj.timeframe_to_single_cell.keys())[0]].show_panel(figsize=(20, 5))\n",
    "#     plt.show()\n",
    "    "
   ]
  },
  {
   "cell_type": "code",
   "execution_count": 15,
   "metadata": {},
   "outputs": [],
   "source": [
    "%gui qt\n",
    "from livecell_tracker.core.napari_visualizer import NapariVisualizer\n",
    "import napari\n",
    "from skimage import data\n"
   ]
  },
  {
   "cell_type": "code",
   "execution_count": 16,
   "metadata": {},
   "outputs": [],
   "source": [
    "from livecell_tracker.core.single_cell import SingleCellStatic, SingleCellTrajectory, SingleCellTrajectoryCollection\n",
    "import numpy as np\n",
    "from napari.viewer import Viewer\n",
    "from livecell_tracker.core.visualizer import Visualizer\n",
    "\n",
    "from livecell_tracker.core.single_cell import SingleCellStatic, SingleCellTrajectory, SingleCellTrajectoryCollection\n",
    "import numpy as np\n",
    "from napari.viewer import Viewer\n",
    "from livecell_tracker.core.visualizer import Visualizer\n",
    "\n",
    "\n",
    "# viewer = napari.view_image(dic_dataset.to_dask(), name='dic_image', cache=True)\n",
    "# shape_layer = NapariVisualizer.viz_trajectories(traj_collection, viewer, contour_sample_num=20)"
   ]
  },
  {
   "attachments": {},
   "cell_type": "markdown",
   "metadata": {},
   "source": [
    "### Manually or programmatically correct trajectories via SCTOperator"
   ]
  },
  {
   "cell_type": "code",
   "execution_count": 17,
   "metadata": {},
   "outputs": [],
   "source": [
    "import copy\n",
    "from functools import partial\n",
    "from typing import Optional\n",
    "from magicgui import magicgui\n",
    "from magicgui.widgets import Container, PushButton, Widget, create_widget\n",
    "from napari.layers import Shapes\n",
    "from livecell_tracker.core.single_cell import SingleCellTrajectoryCollection\n",
    "\n",
    "\n",
    "class SctOperator:\n",
    "    CONNECT_MODE = 0\n",
    "    DISCONNECT_MODE = 1\n",
    "    ADD_MOTHER_DAUGHER_MODE = 2\n",
    "    DELETE_TRAJECTORY_MODE = 3\n",
    "    ANNOTATE_CLICK_MODE = 4\n",
    "\n",
    "    def __init__(\n",
    "        self,\n",
    "        traj_collection: SingleCellTrajectoryCollection,\n",
    "        shape_layer: Shapes,\n",
    "        viewer,\n",
    "        operator=\"connect\",\n",
    "        magicgui_container=None,\n",
    "    ):\n",
    "        self.select_info = []  # [cur_sct, cur_sc, selected_shape_index]\n",
    "        self.operator = operator\n",
    "        self.shape_layer: Optional[Shapes] = shape_layer\n",
    "        self.setup_shape_layer(shape_layer)\n",
    "        self.traj_collection = traj_collection\n",
    "        self.viewer = viewer\n",
    "        self.magicgui_container = magicgui_container\n",
    "        self.mode = SctOperator.CONNECT_MODE\n",
    "        self.annotate_click_samples = []\n",
    "\n",
    "    def select_shape(self, event, shape_layer=None):\n",
    "        if shape_layer is None:\n",
    "            shape_layer = self.shape_layer\n",
    "        print(\"current shape layer shape properties: \", event)\n",
    "        current_properties = shape_layer.current_properties\n",
    "        assert len(current_properties[\"sc\"]) == 1 and len(current_properties[\"track_id\"]) == 1\n",
    "        if len(shape_layer.selected_data) > 1:\n",
    "            print(\"Please select only one shape at a time for connecting trajectories\")\n",
    "            return\n",
    "        if len(shape_layer.selected_data) == 0:\n",
    "            print(\"No shape selected, please select a shape to connect trajectories\")\n",
    "            return\n",
    "        selected_shape_index = list(shape_layer.selected_data)[0]\n",
    "\n",
    "        shape_indices_in_select_info = set([info[2] for info in self.select_info])\n",
    "        if selected_shape_index in shape_indices_in_select_info:\n",
    "            print(\"shape already selected, please select another shape\")\n",
    "            return\n",
    "\n",
    "        cur_sc = current_properties[\"sc\"][0]\n",
    "        cur_track_id = current_properties[\"track_id\"][0]\n",
    "        cur_sct = self.traj_collection[cur_track_id]\n",
    "\n",
    "        print(\"setting face color of selected shape...\")\n",
    "        if self.mode == self.CONNECT_MODE:\n",
    "            selection_face_color = (1, 0, 0, 1)\n",
    "            selection_status_text = \"connect\"\n",
    "        elif self.mode == self.DISCONNECT_MODE:\n",
    "            selection_face_color = (0, 1, 0, 1)\n",
    "            selection_status_text = \"disconnect\"\n",
    "        elif self.mode == self.ADD_MOTHER_DAUGHER_MODE:\n",
    "            print(\"len of select_info\", len(self.select_info))\n",
    "            if len(self.select_info) == 0:\n",
    "                selection_face_color = (1, 0, 0, 1)\n",
    "                selection_status_text = \"mother\"\n",
    "            else:\n",
    "                selection_face_color = (0, 0, 1, 1)\n",
    "                selection_status_text = \"daughter\"\n",
    "        elif self.mode == self.DELETE_TRAJECTORY_MODE:\n",
    "            selection_face_color = (0, 0, 0, 1)\n",
    "            selection_status_text = \"delete?\"\n",
    "        elif self.mode == self.ANNOTATE_CLICK_MODE:\n",
    "            selection_face_color = (102/255, 179/255, 1, 1)\n",
    "            selection_status_text = \"selected\"\n",
    "\n",
    "        face_colors = list(shape_layer.face_color)\n",
    "        face_colors[selected_shape_index] = selection_face_color\n",
    "        shape_layer.face_color = face_colors\n",
    "\n",
    "        properties = shape_layer.properties.copy()\n",
    "        properties[\"status\"][selected_shape_index] = selection_status_text\n",
    "        shape_layer.properties = properties\n",
    "        shape = shape_layer.data[selected_shape_index]\n",
    "        # slice_index = viewer.dims.current_step[0]\n",
    "        self.select_info.append((cur_sct, cur_sc, selected_shape_index))\n",
    "        print(\"<selection complete>\")\n",
    "        return cur_sct, cur_sc, selected_shape_index\n",
    "\n",
    "    def update_shape_layer(self, shape_index, track_id, sc, face_color):\n",
    "        properties = self.shape_layer.properties\n",
    "        properties[\"track_id\"][shape_index] = track_id\n",
    "        properties[\"sc\"][shape_index] = sc\n",
    "        properties[\"status\"][shape_index] = \"\"\n",
    "        self.shape_layer.properties = properties\n",
    "        face_colors = list(self.shape_layer.face_color)\n",
    "        face_colors[shape_index] = face_color\n",
    "        self.shape_layer.face_color = face_colors\n",
    "\n",
    "    def update_shape_layer_by_track_id(self, track_id, face_color, new_track_id):\n",
    "        properties = self.shape_layer.properties.copy()\n",
    "        face_colors = list(self.shape_layer.face_color)\n",
    "        new_track_ids = properties[\"track_id\"].copy()\n",
    "        for shape_index in range(len(self.shape_layer.properties[\"track_id\"])):\n",
    "            if properties[\"track_id\"][shape_index] == track_id:\n",
    "                sc = properties[\"sc\"][shape_index]\n",
    "                new_track_ids[shape_index] = new_track_id\n",
    "                face_colors[shape_index] = face_color\n",
    "        properties[\"track_id\"] = new_track_ids\n",
    "        self.shape_layer.properties = properties\n",
    "        self.shape_layer.face_color = face_colors\n",
    "        print(\"<update track_id properties complete>\")\n",
    "\n",
    "    def connect_two_scts(self):\n",
    "        assert len(self.select_info) == 2, \"Please select two shapes to connect.\"\n",
    "        sct1, sc1, shape_index1 = self.select_info[0]\n",
    "        sct2, sc2, shape_index2 = self.select_info[1]\n",
    "        if sct1 == sct2:\n",
    "            print(\"Skipping connecting two shapes from the same trajectory...\")\n",
    "            return\n",
    "        print(\"connecting two shapes from different trajectories...\")\n",
    "        sct1_span = sct1.get_timeframe_span()\n",
    "        sct2_span = sct2.get_timeframe_span()\n",
    "\n",
    "        if sct1_span[1] < sct2_span[0] or sct2_span[1] < sct1_span[0]:\n",
    "            res_traj = sct1.copy()\n",
    "            res_traj.add_nonoverlapping_sct(sct2)\n",
    "            self.traj_collection.pop_trajectory(sct1.track_id)\n",
    "            self.traj_collection.pop_trajectory(sct2.track_id)\n",
    "            self.traj_collection.add_trajectory(res_traj)\n",
    "\n",
    "            # self.viewer.layers.remove(self.shape_layer)\n",
    "            # self.shape_layer = NapariVisualizer.viz_trajectories(self.traj_collection, self.viewer, contour_sample_num=20)\n",
    "            # self.setup_shape_layer(self.shape_layer)\n",
    "            new_face_color = self.original_face_colors[shape_index1]\n",
    "            self.clear_selection()\n",
    "            self.update_shape_layer_by_track_id(\n",
    "                sct1.track_id, face_color=new_face_color, new_track_id=res_traj.track_id\n",
    "            )\n",
    "            self.update_shape_layer_by_track_id(\n",
    "                sct2.track_id, face_color=new_face_color, new_track_id=res_traj.track_id\n",
    "            )\n",
    "            self.store_shape_layer_info()\n",
    "\n",
    "        else:\n",
    "            raise NotImplementedError(\"Two trajectories are overlapping, notImplemented for now...\")\n",
    "        print(\"connect operation complete!\")\n",
    "\n",
    "    def clear_selection(self):\n",
    "        print(\"clearing selection...\")\n",
    "        self.select_info = []\n",
    "        self.shape_layer.face_color = list(self.original_face_colors)\n",
    "        self.shape_layer.properties = self.original_properties\n",
    "        print(\"<clear complete>\")\n",
    "\n",
    "    def setup_shape_layer(self, shape_layer: Shapes):\n",
    "        self.shape_layer = shape_layer\n",
    "        shape_layer.events.current_properties.connect(self.select_shape)\n",
    "        self.store_shape_layer_info()\n",
    "\n",
    "    def store_shape_layer_info(self):\n",
    "        # w/o deepcopy, the original_face_colors will be changed when shape_layer.face_color is changed...\n",
    "        self.original_face_colors = copy.deepcopy(list(self.shape_layer.face_color))\n",
    "        self.original_properties = copy.deepcopy(self.shape_layer.properties.copy())\n",
    "\n",
    "    def disconnect_sct(self):\n",
    "        assert len(self.select_info) == 1, \"Please select one shape to disconnect.\"\n",
    "        sct, sc, old_shape_index = self.select_info[0]\n",
    "        print(\"disconnecting shape...\")\n",
    "        old_traj = self.traj_collection.pop_trajectory(sct.track_id)\n",
    "        new_sct1, new_sct2 = old_traj.split(sc.timeframe)\n",
    "        self.traj_collection.add_trajectory(new_sct1)\n",
    "        self.traj_collection.add_trajectory(new_sct2)\n",
    "\n",
    "        color_1, color_2 = self.original_face_colors[old_shape_index], self.original_face_colors[old_shape_index]\n",
    "        new_span_1 = new_sct1.get_timeframe_span()\n",
    "        new_span_2 = new_sct2.get_timeframe_span()\n",
    "\n",
    "        old_track_id = sct.track_id\n",
    "\n",
    "        # obtain all shapes belonged to old trajectory\n",
    "        old_track_shape_indices = []\n",
    "        for i in range(len(self.shape_layer.properties[\"track_id\"])):\n",
    "            if self.shape_layer.properties[\"track_id\"][i] == old_track_id:\n",
    "                old_track_shape_indices.append(i)\n",
    "\n",
    "        # update the shapes belonged to the new trajectory 1\n",
    "        mutable_properties = self.shape_layer.properties.copy()\n",
    "        mutable_face_colors = list(self.shape_layer.face_color)\n",
    "        traj1_shape_indices = [idx for idx in old_track_shape_indices if idx < old_shape_index]\n",
    "        for shape_index in traj1_shape_indices:\n",
    "            mutable_properties[\"track_id\"][shape_index] = new_sct1.track_id\n",
    "            mutable_face_colors[shape_index] = color_1\n",
    "        # update the shapes belonged to the new trajectory 1\n",
    "        traj2_shape_indices = [idx for idx in old_track_shape_indices if idx >= old_shape_index]\n",
    "        for shape_index in traj2_shape_indices:\n",
    "            mutable_properties[\"track_id\"][shape_index] = new_sct2.track_id\n",
    "            mutable_face_colors[shape_index] = color_2\n",
    "\n",
    "        mutable_properties[\"status\"][old_shape_index] = \"\"\n",
    "        self.shape_layer.properties = mutable_properties\n",
    "        self.shape_layer.face_color = mutable_face_colors\n",
    "\n",
    "        # # slow version below by removing and adding the entire shape layer\n",
    "        # self.viewer.layers.remove(self.shape_layer)\n",
    "        # self.shape_layer = NapariVisualizer.viz_trajectories(self.traj_collection, self.viewer, contour_sample_num=20)\n",
    "        # self.setup_shape_layer(self.shape_layer)\n",
    "\n",
    "        self.store_shape_layer_info()\n",
    "        self.clear_selection()\n",
    "        print(\"<disconnect operation complete>\")\n",
    "\n",
    "    def add_mother_daughter_relation(self):\n",
    "        assert len(self.select_info) >= 2, \"Please select >2 shapes to add mother daughter relation.\"\n",
    "        mother_sct, mother_sc, mother_shape_index = self.select_info[0]\n",
    "        for i in range(1, len(self.select_info)):\n",
    "            daughter_sct, daughter_sc, daughter_shape_index = self.select_info[i]\n",
    "            assert mother_sct != daughter_sct, \"mother and daughter cannot be from the same trajectory!\"\n",
    "            mother_sct.add_daughter(daughter_sct)\n",
    "            daughter_sct.add_mother(mother_sct)\n",
    "        self.clear_selection()\n",
    "        print(\"<add mother-daughter relation operation complete>\")\n",
    "\n",
    "    def delete_selected_sct(self):\n",
    "        assert len(self.select_info) == 1, \"Please select one shape to delete.\"\n",
    "        sct, sc, shape_index = self.select_info[0]\n",
    "        print(\"deleting shape...\")\n",
    "        self.shape_layer.selected_data = [shape_index]\n",
    "        self.shape_layer.remove_selected()\n",
    "        self.traj_collection.pop_trajectory(sct.track_id)\n",
    "        self.store_shape_layer_info()\n",
    "        self.clear_selection()\n",
    "        print(\"<delete operation complete>\")\n",
    "\n",
    "    def annotate_click(self):\n",
    "        print(\"<annotating click>: adding a sample\")\n",
    "        sample = []\n",
    "        for selected_shape in self.select_info:\n",
    "            sct, sc, shape_index = selected_shape\n",
    "            sample.append(sc)\n",
    "        self.annotate_click_samples.append(sample)\n",
    "        self.clear_selection()\n",
    "        print(\"<annotate click operation complete>\")\n",
    "\n",
    "    def hide_function_widgets(self):\n",
    "        for i in range(2, len(self.magicgui_container)):\n",
    "            self.magicgui_container[i].hide()\n",
    "\n",
    "    def show_selected_mode_widget(self):\n",
    "        if self.mode == self.CONNECT_MODE:\n",
    "            self.magicgui_container[2].show()\n",
    "        elif self.mode == self.DISCONNECT_MODE:\n",
    "            self.magicgui_container[3].show()\n",
    "        elif self.mode == self.ADD_MOTHER_DAUGHER_MODE:\n",
    "            self.magicgui_container[4].show()\n",
    "        elif self.mode == self.DELETE_TRAJECTORY_MODE:\n",
    "            self.magicgui_container[5].show()\n",
    "        elif self.mode == self.ANNOTATE_CLICK_MODE:\n",
    "            self.magicgui_container[6].show()\n",
    "        else:\n",
    "            raise ValueError(\"Invalid mode!\")\n",
    "\n",
    "\n",
    "def create_sct_napari_ui(sct_operator: SctOperator):\n",
    "    \"\"\"Usage\n",
    "    # viewer = napari.view_image(dic_dataset.to_dask(), name=\"dic_image\", cache=True)\n",
    "    # shape_layer = NapariVisualizer.viz_trajectories(traj_collection, viewer, contour_sample_num=20)\n",
    "    # sct_operator = SctOperator(traj_collection, shape_layer, viewer)\n",
    "    # sct_operator.setup_shape_layer(shape_layer)\n",
    "\n",
    "    Parameters\n",
    "    ----------\n",
    "    sct_operator : SctOperator\n",
    "        _description_\n",
    "    \"\"\"\n",
    "\n",
    "    @magicgui(call_button=\"connect\")\n",
    "    def connect_widget():\n",
    "        print(\"connect callback fired!\")\n",
    "        sct_operator.connect_two_scts()\n",
    "\n",
    "    @magicgui(call_button=\"clear selection\")\n",
    "    def clear_selection_widget():\n",
    "        print(\"clear selection callback fired!\")\n",
    "        sct_operator.clear_selection()\n",
    "\n",
    "    @magicgui(call_button=\"disconnect\")\n",
    "    def disconnect_widget():\n",
    "        print(\"disconnect callback fired!\")\n",
    "        sct_operator.disconnect_sct()\n",
    "\n",
    "    @magicgui(call_button=\"add mother/daughter relation\")\n",
    "    def add_mother_daughter_relation_widget():\n",
    "        print(\"add mother/daughter relation callback fired!\")\n",
    "        sct_operator.add_mother_daughter_relation()\n",
    "\n",
    "\n",
    "    @magicgui(call_button=\"delete trajectory\")\n",
    "    def delete_trajectory_widget():\n",
    "        print(\"delete trajectory callback fired!\")\n",
    "        sct_operator.delete_selected_sct()\n",
    "\n",
    "    @magicgui(call_button=\"click&annotate\")\n",
    "    def annotate_click_widget():\n",
    "        print(\"annotate callback fired!\")\n",
    "        # sct_operator.delete_selected_sct()\n",
    "        sct_operator.annotate_click()\n",
    "\n",
    "    @magicgui(\n",
    "        auto_call=True, mode={\"choices\": [\"connect\", \"disconnect\", \"add mother/daughter relation\", \"delete trajectory\", \"click&annotate\"]}\n",
    "    )\n",
    "    def switch_mode_widget(mode):\n",
    "        print(\"switch mode callback fired!\")\n",
    "        print(\"mode changed to\", mode)\n",
    "        if mode == \"connect\":\n",
    "            sct_operator.mode = sct_operator.CONNECT_MODE\n",
    "        elif mode == \"disconnect\":\n",
    "            sct_operator.mode = sct_operator.DISCONNECT_MODE\n",
    "        elif mode == \"add mother/daughter relation\":\n",
    "            sct_operator.mode = sct_operator.ADD_MOTHER_DAUGHER_MODE\n",
    "        elif mode == \"delete trajectory\":\n",
    "            sct_operator.mode = sct_operator.DELETE_TRAJECTORY_MODE\n",
    "        elif mode == \"click&annotate\":\n",
    "            sct_operator.mode = sct_operator.ANNOTATE_CLICK_MODE\n",
    "        sct_operator.hide_function_widgets()\n",
    "        sct_operator.show_selected_mode_widget()\n",
    "        sct_operator.clear_selection()\n",
    "\n",
    "    container = Container(\n",
    "        widgets=[\n",
    "            switch_mode_widget,\n",
    "            clear_selection_widget,\n",
    "            connect_widget,\n",
    "            disconnect_widget,\n",
    "            add_mother_daughter_relation_widget,\n",
    "            delete_trajectory_widget,\n",
    "            annotate_click_widget,\n",
    "        ],\n",
    "        labels=False,\n",
    "    )\n",
    "\n",
    "    sct_operator.magicgui_container = container\n",
    "    sct_operator.hide_function_widgets()\n",
    "    sct_operator.show_selected_mode_widget()\n",
    "    sct_operator.viewer.window.add_dock_widget(container, name=\"SCT Operator\")\n"
   ]
  },
  {
   "cell_type": "code",
   "execution_count": 18,
   "metadata": {},
   "outputs": [],
   "source": [
    "import napari\n",
    "# from livecell_tracker.core.sct_operator import SctOperator, create_sct_napari_ui\n",
    "viewer = napari.view_image(dic_dataset.to_dask(), name=\"dic_image\", cache=True)\n",
    "shape_layer = NapariVisualizer.gen_trajectories_shapes(traj_collection, viewer, contour_sample_num=20)\n",
    "shape_layer.mode = \"select\"\n",
    "\n",
    "sct_operator = SctOperator(traj_collection, shape_layer, viewer)\n",
    "# sct_operator.setup_shape_layer(shape_layer)\n",
    "create_sct_napari_ui(sct_operator)"
   ]
  },
  {
   "attachments": {},
   "cell_type": "markdown",
   "metadata": {},
   "source": [
    "Now please annotate some cells in the napari UI by choosing \"click&annotate\""
   ]
  },
  {
   "attachments": {},
   "cell_type": "markdown",
   "metadata": {},
   "source": [
    "Save programmatically"
   ]
  },
  {
   "cell_type": "code",
   "execution_count": 21,
   "metadata": {},
   "outputs": [],
   "source": [
    "sample_out_dir = Path(\"./test_sample_out\")\n",
    "filename_pattern = \"sample_{sample_index}.json\"\n",
    "sample_out_dir.mkdir(exist_ok=True)\n",
    "sample_dataset_dir = sample_out_dir / \"datasets\"\n",
    "samples = sct_operator.annotate_click_samples\n",
    "sample_paths = []\n",
    "\n",
    "for i, sample in enumerate(samples):\n",
    "    sample_json_path = sample_out_dir / (filename_pattern.format(sample_index=i))\n",
    "    SingleCellStatic.write_single_cells_json(sample, sample_json_path, dataset_dir = sample_dataset_dir)\n",
    "    sample_paths.append(sample_json_path)"
   ]
  },
  {
   "attachments": {},
   "cell_type": "markdown",
   "metadata": {},
   "source": [
    "### Check if samples are saved successfully"
   ]
  },
  {
   "cell_type": "code",
   "execution_count": 22,
   "metadata": {},
   "outputs": [
    {
     "name": "stdout",
     "output_type": "stream",
     "text": [
      "[SingleCellStatic(id=629c1f13-7bca-4488-a8b2-9cc02625aef7, timeframe=19, bbox=[1417. 1168. 1537. 1259.]), SingleCellStatic(id=7fd0baac-5fb3-4123-8793-a0b625e4825a, timeframe=19, bbox=[1335. 1283. 1483. 1548.]), SingleCellStatic(id=03c47ae8-9d3a-4e1b-b73c-faec6535bf71, timeframe=19, bbox=[1560. 1199. 1631. 1297.])]\n"
     ]
    }
   ],
   "source": [
    "# Load and Check if samples are saved successfully\n",
    "sample_path = sample_paths[0]\n",
    "sample = SingleCellStatic.load_single_cells_json(sample_path, dataset_json_dir = sample_dataset_dir)\n",
    "print(sample)"
   ]
  }
 ],
 "metadata": {
  "kernelspec": {
   "display_name": "livecell-work",
   "language": "python",
   "name": "python3"
  },
  "language_info": {
   "codemirror_mode": {
    "name": "ipython",
    "version": 3
   },
   "file_extension": ".py",
   "mimetype": "text/x-python",
   "name": "python",
   "nbconvert_exporter": "python",
   "pygments_lexer": "ipython3",
   "version": "3.9.16"
  },
  "orig_nbformat": 4
 },
 "nbformat": 4,
 "nbformat_minor": 2
}
