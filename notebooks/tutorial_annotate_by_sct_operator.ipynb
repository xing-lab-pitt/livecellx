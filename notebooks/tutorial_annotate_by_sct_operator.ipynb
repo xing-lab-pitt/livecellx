{
 "cells": [
  {
   "attachments": {},
   "cell_type": "markdown",
   "metadata": {},
   "source": [
    "# Annotate Mitosis Events\n",
    "can be applied to other cell events  \n",
    "Author: Ke\n",
    "\n"
   ]
  },
  {
   "cell_type": "code",
   "execution_count": null,
   "metadata": {},
   "outputs": [],
   "source": [
    "import numpy as np\n",
    "import matplotlib.pyplot as plt\n",
    "from cellpose import models\n",
    "from cellpose.io import imread\n",
    "import glob\n",
    "from pathlib import Path\n",
    "from PIL import Image, ImageSequence\n",
    "from tqdm import tqdm\n",
    "import os\n",
    "import os.path\n",
    "# from livecell_tracker import segment\n",
    "from livecell_tracker import core\n",
    "from livecell_tracker.core import datasets\n",
    "from livecell_tracker.core.datasets import LiveCellImageDataset, SingleImageDataset\n",
    "from skimage import measure\n",
    "from livecell_tracker.core import SingleCellTrajectory, SingleCellStatic\n",
    "# import detectron2\n",
    "# from detectron2.utils.logger import setup_logger\n",
    "\n",
    "# setup_logger()\n",
    "\n",
    "# import some common libraries\n",
    "import numpy as np\n",
    "import os, json, cv2, random\n",
    "import cv2\n",
    "\n",
    "# import some common detectron2 utilities\n",
    "# from detectron2 import model_zoo\n",
    "# from detectron2.engine import DefaultPredictor\n",
    "# from detectron2.config import get_cfg\n",
    "# from detectron2.utils.visualizer import Visualizer\n",
    "# from detectron2.data import MetadataCatalog, DatasetCatalog\n",
    "# from livecell_tracker.segment.detectron_utils import gen_cfg\n",
    "\n",
    "# from livecell_tracker.segment.detectron_utils import (\n",
    "#     segment_detectron_wrapper,\n",
    "#     segment_images_by_detectron,\n",
    "#     convert_detectron_instance_pred_masks_to_binary_masks,\n",
    "#     convert_detectron_instances_to_label_masks,\n",
    "# )\n",
    "# from livecell_tracker.segment.detectron_utils import (\n",
    "#     convert_detectron_instance_pred_masks_to_binary_masks,\n",
    "#     convert_detectron_instances_to_label_masks,\n",
    "#     segment_images_by_detectron,\n",
    "#     segment_single_img_by_detectron_wrapper,\n",
    "# )\n"
   ]
  },
  {
   "attachments": {},
   "cell_type": "markdown",
   "metadata": {},
   "source": [
    "## Loading single cells from existing mask files"
   ]
  },
  {
   "attachments": {},
   "cell_type": "markdown",
   "metadata": {},
   "source": [
    "```LiveCellImageDataset, SingleCellImageDataset``` from livecell_tracker.core.datasets allow users to load images with ease, without reading directly into memories.  \n",
    "In `mask_dataset_path` please make sure that the sorted (alphabetically) file names correspond to the order of times.\n",
    " Note that the sorted mechanism provided is simply sort the url (file name) list according to string value. Please note that without proper left trailing zeroes, the order of final times may be incorrect. E.g. string  `T10` (10th file) is less than string `T2`. If you have your customized file patterns, please provide `LiveCellImageDataset` with a `time2url` dictionary to provide necessary time information mapped to file locations for reading time-lapsed data.\n",
    "`SingleCellImageDataset` takes a single image from the memory and makes it a single time point dataset, which can be handy when you would like to process imaging datasets. "
   ]
  },
  {
   "cell_type": "code",
   "execution_count": null,
   "metadata": {},
   "outputs": [],
   "source": [
    "# dataset_dir_path = Path(\n",
    "#     \"../datasets/test_data_STAV-A549/DIC_data\"\n",
    "# )\n",
    "\n",
    "# mask_dataset_path = Path(\"../datasets/test_data_STAV-A549/mask_data\")\n",
    "\n",
    "# dataset_dir_path = Path(\n",
    "#     \"../datasets/EBSS_Starvation/tif_STAV-A549_VIM_24hours_NoTreat_NA_YL_Ti2e_2022-12-21/XY16/\"\n",
    "# )\n",
    "\n",
    "# mask_dataset_path = Path(\"../datasets/EBSS_Starvation/tif_STAV-A549_VIM_24hours_NoTreat_NA_YL_Ti2e_2022-12-21/out/XY16/seg\")\n",
    "raw_image_dir_path = Path(\n",
    "    \"../datasets/tutorial_data_EBSS_mitosis/raw_images\"\n",
    ")\n",
    "\n",
    "mask_dataset_path = Path(\"../datasets/tutorial_data_EBSS_mitosis/label_masks\")\n"
   ]
  },
  {
   "cell_type": "code",
   "execution_count": null,
   "metadata": {},
   "outputs": [],
   "source": [
    "mask_dataset = LiveCellImageDataset(mask_dataset_path, ext=\"png\")\n",
    "len(mask_dataset)"
   ]
  },
  {
   "cell_type": "code",
   "execution_count": null,
   "metadata": {},
   "outputs": [],
   "source": [
    "time2url = sorted(glob.glob(str((Path(raw_image_dir_path) / Path(\"*_DIC.tif\")))))\n",
    "time2url = {i: path for i, path in enumerate(time2url)}\n",
    "dic_dataset = LiveCellImageDataset(time2url=time2url, ext=\"tif\")\n",
    "# dic_dataset = LiveCellImageDataset(dataset_dir_path, ext=\"tif\")"
   ]
  },
  {
   "cell_type": "code",
   "execution_count": null,
   "metadata": {},
   "outputs": [],
   "source": [
    "len(dic_dataset)"
   ]
  },
  {
   "attachments": {},
   "cell_type": "markdown",
   "metadata": {},
   "source": [
    "### Convert label masks to single objects"
   ]
  },
  {
   "cell_type": "code",
   "execution_count": null,
   "metadata": {},
   "outputs": [],
   "source": [
    "from skimage.measure import regionprops\n",
    "from livecell_tracker.segment.utils import prep_scs_from_mask_dataset\n",
    "single_cells = prep_scs_from_mask_dataset(mask_dataset, dic_dataset)"
   ]
  },
  {
   "cell_type": "code",
   "execution_count": null,
   "metadata": {},
   "outputs": [],
   "source": [
    "single_cells_by_time = {}\n",
    "for cell in single_cells:\n",
    "    if cell.timeframe not in single_cells_by_time:\n",
    "        single_cells_by_time[cell.timeframe] = []\n",
    "    single_cells_by_time[cell.timeframe].append(cell)"
   ]
  },
  {
   "attachments": {},
   "cell_type": "markdown",
   "metadata": {},
   "source": [
    "## Tracking based on single cells"
   ]
  },
  {
   "cell_type": "code",
   "execution_count": null,
   "metadata": {},
   "outputs": [],
   "source": [
    "from typing import List\n",
    "from livecell_tracker.track.sort_tracker_utils import (\n",
    "    gen_SORT_detections_input_from_contours,\n",
    "    update_traj_collection_by_SORT_tracker_detection,\n",
    "    track_SORT_bbox_from_contours,\n",
    "    track_SORT_bbox_from_scs\n",
    ")\n",
    "\n",
    "\n",
    "traj_collection = track_SORT_bbox_from_scs(single_cells, dic_dataset, mask_dataset=mask_dataset, max_age=1, min_hits=1)"
   ]
  },
  {
   "cell_type": "code",
   "execution_count": null,
   "metadata": {},
   "outputs": [],
   "source": [
    "traj_collection.histogram_traj_length()"
   ]
  },
  {
   "cell_type": "code",
   "execution_count": null,
   "metadata": {},
   "outputs": [],
   "source": [
    "%gui qt\n",
    "from livecell_tracker.core.napari_visualizer import NapariVisualizer\n",
    "import napari\n",
    "from skimage import data\n"
   ]
  },
  {
   "cell_type": "code",
   "execution_count": null,
   "metadata": {},
   "outputs": [],
   "source": [
    "from livecell_tracker.core.single_cell import SingleCellStatic, SingleCellTrajectory, SingleCellTrajectoryCollection\n",
    "import numpy as np\n",
    "from napari.viewer import Viewer\n",
    "from livecell_tracker.core.visualizer import Visualizer\n",
    "\n",
    "from livecell_tracker.core.single_cell import SingleCellStatic, SingleCellTrajectory, SingleCellTrajectoryCollection\n",
    "import numpy as np\n",
    "from napari.viewer import Viewer\n",
    "from livecell_tracker.core.visualizer import Visualizer"
   ]
  },
  {
   "attachments": {},
   "cell_type": "markdown",
   "metadata": {},
   "source": [
    "### Manually or programmatically correct trajectories via SCTOperator"
   ]
  },
  {
   "cell_type": "code",
   "execution_count": null,
   "metadata": {},
   "outputs": [],
   "source": [
    "import napari\n",
    "from livecell_tracker.core.sct_operator import SctOperator, create_sct_napari_ui\n",
    "viewer = napari.view_image(dic_dataset.to_dask(), name=\"dic_image\", cache=True)\n",
    "shape_layer = NapariVisualizer.gen_trajectories_shapes(traj_collection, viewer, contour_sample_num=20)\n",
    "shape_layer.mode = \"select\"\n",
    "\n",
    "sct_operator = SctOperator(traj_collection, shape_layer, viewer)\n",
    "# sct_operator.setup_shape_layer(shape_layer)\n",
    "create_sct_napari_ui(sct_operator)"
   ]
  },
  {
   "attachments": {},
   "cell_type": "markdown",
   "metadata": {},
   "source": [
    "Now please annotate some cells in the napari UI by choosing \"click&annotate\""
   ]
  },
  {
   "attachments": {},
   "cell_type": "markdown",
   "metadata": {},
   "source": [
    "Save programmatically"
   ]
  },
  {
   "cell_type": "code",
   "execution_count": null,
   "metadata": {},
   "outputs": [],
   "source": [
    "sample_out_dir = Path(\"./test_sample_out\")\n",
    "sample_dataset_dir = sample_out_dir / \"datasets\"\n",
    "filename_pattern = \"sample_{sample_index}.json\"\n",
    "sample_paths = sct_operator.save_annotations(sample_out_dir, filename_pattern)"
   ]
  },
  {
   "attachments": {},
   "cell_type": "markdown",
   "metadata": {},
   "source": [
    "### Check if samples are saved successfully"
   ]
  },
  {
   "cell_type": "code",
   "execution_count": null,
   "metadata": {},
   "outputs": [],
   "source": [
    "# Load and Check if samples are saved successfully\n",
    "sample_path = sample_paths[0]\n",
    "sample = SingleCellStatic.load_single_cells_json(sample_path, dataset_json_dir = sample_dataset_dir)\n",
    "print(sample)"
   ]
  }
 ],
 "metadata": {
  "kernelspec": {
   "display_name": "livecell-work",
   "language": "python",
   "name": "python3"
  },
  "language_info": {
   "codemirror_mode": {
    "name": "ipython",
    "version": 3
   },
   "file_extension": ".py",
   "mimetype": "text/x-python",
   "name": "python",
   "nbconvert_exporter": "python",
   "pygments_lexer": "ipython3",
   "version": "3.9.16"
  },
  "orig_nbformat": 4
 },
 "nbformat": 4,
 "nbformat_minor": 2
}
