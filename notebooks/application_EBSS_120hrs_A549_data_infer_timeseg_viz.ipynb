{
 "cells": [
  {
   "cell_type": "markdown",
   "metadata": {},
   "source": [
    "# LivecellAction: Visualize EBSS120 hours untreated dataset prediction results"
   ]
  },
  {
   "cell_type": "markdown",
   "metadata": {},
   "source": [
    "### Loading sample data and create a sample trajectory collection"
   ]
  },
  {
   "cell_type": "code",
   "execution_count": null,
   "metadata": {},
   "outputs": [],
   "source": [
    "from pathlib import Path\n",
    "from livecellx.sample_data import tutorial_three_image_sys\n",
    "\n",
    "from livecellx.core.io_sc import prep_scs_from_mask_dataset\n",
    "\n",
    "from livecellx.core.single_cell import (\n",
    "    SingleCellStatic,\n",
    "    SingleCellTrajectory,\n",
    "    SingleCellTrajectoryCollection,\n",
    ")\n",
    "\n",
    "\n",
    "# scs_path = r\"D:\\LiveCellTracker-dev\\notebooks\\application_results\\5days_notreat_XY03_max_age=3_min_hits=1\\5days_notreat_XY03_max_age=3_min_hits=1.json\"\n",
    "# scs_path = (\n",
    "#     Path(\n",
    "#         r\"D:\\LiveCellTracker-dev\\notebooks\\application_results\\Gaohan_5days_notreat\\pos_scs\"\n",
    "#     )\n",
    "#     / \"XY03_scs.json\"\n",
    "# )\n",
    "# scs_path = scs_path.as_posix()\n",
    "# scs = SingleCellStatic.load_single_cells_json(scs_path)\n",
    "\n",
    "sctc_path = r\"D:\\LiveCellTracker-dev\\datasets\\DIC-Nikon-gt\\tifs_CFP_A549_VIM_120hr_NoTreat_NA_YL_Ti2e_2023-03-22\\GH-XY03_traj\\traj_XY03.json\"\n",
    "sctc = SingleCellTrajectoryCollection.load_from_json_file(sctc_path)\n",
    "\n",
    "# single_cells = prep_scs_from_mask_dataset(mask_dataset, dic_dataset)"
   ]
  },
  {
   "cell_type": "code",
   "execution_count": null,
   "metadata": {},
   "outputs": [],
   "source": [
    "len(sctc)"
   ]
  },
  {
   "cell_type": "code",
   "execution_count": null,
   "metadata": {},
   "outputs": [],
   "source": [
    "for sc in sctc.get_all_scs():\n",
    "    sc.mask_dataset = None"
   ]
  },
  {
   "cell_type": "code",
   "execution_count": null,
   "metadata": {},
   "outputs": [],
   "source": [
    "sctc.get_all_scs()[0].show_panel(padding=100)"
   ]
  },
  {
   "cell_type": "code",
   "execution_count": null,
   "metadata": {},
   "outputs": [],
   "source": [
    "from typing import List\n",
    "from livecellx.track.sort_tracker_utils import (\n",
    "    gen_SORT_detections_input_from_contours,\n",
    "    update_traj_collection_by_SORT_tracker_detection,\n",
    "    track_SORT_bbox_from_contours,\n",
    "    track_SORT_bbox_from_scs,\n",
    ")\n",
    "\n",
    "\n",
    "dic_dataset = sctc.get_all_scs()[0].img_dataset\n",
    "mask_dataset = None\n",
    "\n",
    "\n",
    "traj_collection = sctc\n",
    "# traj_collection = track_SORT_bbox_from_scs(\n",
    "#     scs, dic_dataset, mask_dataset=None, max_age=5, min_hits=1\n",
    "# )\n",
    "# traj_collection = track_SORT_bbox_from_scs(single_cells, dic_dataset, mask_dataset=mask_dataset, max_age=0, min_hits=1)"
   ]
  },
  {
   "cell_type": "markdown",
   "metadata": {},
   "source": [
    "### Call livecellx.core.sct_operator.create_sctc_edit_viewer_by_interval to create the interface\n",
    "If key does not work after you click the slice bar at the bottom, please click the canvas (middle) and try again."
   ]
  },
  {
   "cell_type": "code",
   "execution_count": null,
   "metadata": {},
   "outputs": [],
   "source": [
    "traj_collection.remove_empty_sct()"
   ]
  },
  {
   "cell_type": "code",
   "execution_count": null,
   "metadata": {},
   "outputs": [],
   "source": [
    "len(traj_collection)"
   ]
  },
  {
   "cell_type": "code",
   "execution_count": null,
   "metadata": {},
   "outputs": [],
   "source": [
    "import tqdm \n",
    "dic_dataset.max_cache_size = 1500\n",
    "for time in tqdm.tqdm(dic_dataset.times):\n",
    "    dic_dataset.get_img_by_time(time)\n",
    "    "
   ]
  },
  {
   "cell_type": "code",
   "execution_count": null,
   "metadata": {},
   "outputs": [],
   "source": [
    "traj_collection.remove_empty_sct()\n",
    "len(traj_collection)"
   ]
  },
  {
   "cell_type": "code",
   "execution_count": null,
   "metadata": {},
   "outputs": [],
   "source": [
    "from livecellx.core.sct_operator import (\n",
    "    create_scs_edit_viewer,\n",
    "    SctOperator,\n",
    "    create_scs_edit_viewer_by_interval,\n",
    "    _get_viewer_sct_operator,\n",
    "    create_sctc_edit_viewer_by_interval,\n",
    ")\n",
    "import livecellx\n",
    "import importlib\n",
    "\n",
    "# sct_opeartor = livecellx.core.sct_operator.create_sctc_edit_viewer_by_interval(traj_collection, img_dataset=dic_dataset, span_interval=3)\n",
    "# sct_opeartor = livecellx.core.sct_operator.create_sctc_edit_viewer_by_interval(traj_collection, img_dataset=dic_dataset, span_interval=3, contour_sample_num=100, viewer=sct_operator.viewer)"
   ]
  },
  {
   "cell_type": "code",
   "execution_count": null,
   "metadata": {},
   "outputs": [],
   "source": [
    "import pandas as pd\n",
    "# timeseg_csv_path = r\"D:\\LiveCellTracker-dev\\notebooks\\notebook_results\\Nikon_EBSS_120hr_XY03-timesformer-default-divst-v13-st-combined-random-crop-sequential-20231216-203127\\all_mitosis_seg_info.csv\"\n",
    "timeseg_csv_path = r\"D:\\LiveCellTracker-dev\\notebooks\\notebook_results\\Nikon_EBSS_120hr_XY03-timesformer-default-divst-v13-st-combined-random-crop-20231216-154700\\all_mitosis_seg_info.csv\"\n",
    "timeseg_df = pd.read_csv(timeseg_csv_path)\n",
    "timeseg_df.columns"
   ]
  },
  {
   "cell_type": "code",
   "execution_count": null,
   "metadata": {},
   "outputs": [],
   "source": [
    "importlib.reload(livecellx.core.single_cell)\n",
    "importlib.reload(livecellx.core.sct_operator)\n",
    "importlib.reload(livecellx.core.sc_seg_operator)\n",
    "importlib.reload(livecellx.core.napari_visualizer)\n",
    "\n",
    "all_tids = timeseg_df[\"tid\"].unique()\n",
    "pred_mitosis_traj_collection = SingleCellTrajectoryCollection()\n",
    "for tid in all_tids:\n",
    "    pred_mitosis_traj_collection.add_trajectory(sctc.get_trajectory(tid))\n",
    "sct_operator = livecellx.core.sct_operator.create_sctc_edit_viewer_by_interval(\n",
    "    pred_mitosis_traj_collection, img_dataset=dic_dataset, span_interval=200, contour_sample_num=15\n",
    ")"
   ]
  },
  {
   "cell_type": "code",
   "execution_count": null,
   "metadata": {},
   "outputs": [],
   "source": [
    "len(pred_mitosis_traj_collection.get_all_scs())"
   ]
  },
  {
   "cell_type": "code",
   "execution_count": null,
   "metadata": {},
   "outputs": [],
   "source": [
    "def is_mitosis_timeseg(tid, time, timeseg_df) -> bool:\n",
    "    # timeseg_df's columns are tid, start, end\n",
    "    # test if a (tid, timeframe) is in [start, end]\n",
    "    tid_df = timeseg_df[timeseg_df[\"tid\"] == tid]\n",
    "    return ((tid_df[\"start\"] <= time) & (tid_df[\"end\"] >= time)).any()\n"
   ]
  },
  {
   "cell_type": "code",
   "execution_count": null,
   "metadata": {},
   "outputs": [],
   "source": [
    "new_properties = sct_operator.shape_layer.properties\n",
    "face_colors = []\n",
    "for idx in range(len(sct_operator.shape_layer.properties[\"sc\"])):\n",
    "    track_id = sct_operator.shape_layer.properties[\"track_id\"][idx]\n",
    "    sc = sct_operator.shape_layer.properties[\"sc\"][idx]\n",
    "    new_properties[\"status\"][idx] = \"\"\n",
    "    if is_mitosis_timeseg(track_id, sc.timeframe, timeseg_df):\n",
    "        new_properties[\"status\"][idx] = \"mitosis\"\n",
    "        face_colors.append((1, 1, 1, 0.5))\n",
    "    else:\n",
    "        face_colors.append((0, 0, 0, 0))\n",
    "    \n",
    "\n",
    "# Set the new properties to take effect because the properties attribute is immutable[?]\n",
    "sct_operator.shape_layer.properties = new_properties\n",
    "sct_operator.shape_layer.face_color = face_colors"
   ]
  },
  {
   "cell_type": "code",
   "execution_count": null,
   "metadata": {},
   "outputs": [],
   "source": [
    "sct_operator.meta[\"_contour_sample_num\"] = 10\n",
    "sct_operator.meta[\"_span_interval\"] = 300"
   ]
  }
 ],
 "metadata": {
  "kernelspec": {
   "display_name": "livecell-work",
   "language": "python",
   "name": "python3"
  },
  "language_info": {
   "codemirror_mode": {
    "name": "ipython",
    "version": 3
   },
   "file_extension": ".py",
   "mimetype": "text/x-python",
   "name": "python",
   "nbconvert_exporter": "python",
   "pygments_lexer": "ipython3",
   "version": "3.9.16"
  }
 },
 "nbformat": 4,
 "nbformat_minor": 2
}
