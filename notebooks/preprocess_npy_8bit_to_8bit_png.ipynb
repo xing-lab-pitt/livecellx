{
 "cells": [
  {
   "cell_type": "code",
   "execution_count": 19,
   "metadata": {},
   "outputs": [],
   "source": [
    "from PIL import Image, ImageSequence\n",
    "import glob\n",
    "import numpy as np\n",
    "import os\n",
    "import matplotlib.pyplot as plt"
   ]
  },
  {
   "cell_type": "code",
   "execution_count": 2,
   "metadata": {},
   "outputs": [
    {
     "name": "stderr",
     "output_type": "stream",
     "text": [
      "A subdirectory or file tmp already exists.\n"
     ]
    }
   ],
   "source": [
    "!mkdir tmp"
   ]
  },
  {
   "cell_type": "code",
   "execution_count": 12,
   "metadata": {},
   "outputs": [],
   "source": [
    "# path = '''D://xing-vimentin-dic-pipeline//src//livecell_dev//cxa-data//june_2022_data//day0Notreat_Group 1_wellA1_RI_MIP_stitched.tiff'''\n",
    "# path = '''D://xing-vimentin-dic-pipeline//src//livecell_dev//cxa-data//june_2022_data//restart_day0_Group 1_wellA1_RI_MIP_stitched.tiff'''\n",
    "from pathlib import Path\n",
    "dir_path = Path('''D:/LiveCellTracker-dev/datasets/wayne/seg_images''')\n",
    "ext = \"npy\"\n",
    "npy_path_list = sorted(glob.glob(str(Path(dir_path) / (\"*.%s\" % (ext)))))\n"
   ]
  },
  {
   "cell_type": "code",
   "execution_count": 35,
   "metadata": {},
   "outputs": [
    {
     "name": "stdout",
     "output_type": "stream",
     "text": [
      "uint8\n",
      "(27, 200, 200)\n"
     ]
    },
    {
     "data": {
      "text/plain": [
       "<matplotlib.image.AxesImage at 0x1ef60ad9700>"
      ]
     },
     "execution_count": 35,
     "metadata": {},
     "output_type": "execute_result"
    },
    {
     "data": {
      "image/png": "[encoded data removed]",
      "text/plain": [
       "<Figure size 432x288 with 1 Axes>"
      ]
     },
     "metadata": {
      "needs_background": "light"
     },
     "output_type": "display_data"
    }
   ],
   "source": [
    "img = np.load(npy_path_list[1])\n",
    "print(img.dtype)\n",
    "print(img.shape)\n",
    "plt.imshow(img[20, :, :])"
   ]
  },
  {
   "cell_type": "code",
   "execution_count": 31,
   "metadata": {},
   "outputs": [
    {
     "name": "stdout",
     "output_type": "stream",
     "text": [
      "ndigits: 4\n",
      "#################################################\n",
      "uint8\n",
      "(3, 200, 200)\n",
      "#################################################\n",
      "uint8\n",
      "(27, 200, 200)\n"
     ]
    },
    {
     "name": "stderr",
     "output_type": "stream",
     "text": [
      "A subdirectory or file tmp_dir_path already exists.\n"
     ]
    },
    {
     "ename": "TypeError",
     "evalue": "Cannot handle this data type: (1, 1, 27), |u1",
     "output_type": "error",
     "traceback": [
      "\u001b[1;31m---------------------------------------------------------------------------\u001b[0m",
      "\u001b[1;31mKeyError\u001b[0m                                  Traceback (most recent call last)",
      "File \u001b[1;32mc:/Users/dummy/Anaconda3/envs/cv-general/lib/site-packages/PIL/Image.py:2928\u001b[0m, in \u001b[0;36mfromarray\u001b[1;34m(obj, mode)\u001b[0m\n\u001b[0;32m   2927\u001b[0m \u001b[39mtry\u001b[39;00m:\n\u001b[1;32m-> 2928\u001b[0m     mode, rawmode \u001b[39m=\u001b[39m _fromarray_typemap[typekey]\n\u001b[0;32m   2929\u001b[0m \u001b[39mexcept\u001b[39;00m \u001b[39mKeyError\u001b[39;00m \u001b[39mas\u001b[39;00m e:\n",
      "\u001b[1;31mKeyError\u001b[0m: ((1, 1, 27), '|u1')",
      "\nThe above exception was the direct cause of the following exception:\n",
      "\u001b[1;31mTypeError\u001b[0m                                 Traceback (most recent call last)",
      "\u001b[1;32md:/LiveCellTracker-dev/notebooks/preprocess_npy_8bit_to_8bit_png.ipynb Cell 4\u001b[0m in \u001b[0;36m<cell line: 8>\u001b[1;34m()\u001b[0m\n\u001b[0;32m     <a href='vscode-notebook-cell:/d%3A/LiveCellTracker-dev/notebooks/preprocess_npy_8bit_to_8bit_png.ipynb#W3sZmlsZQ%3D%3D?line=13'>14</a>\u001b[0m plt\u001b[39m.\u001b[39mimshow(img[\u001b[39m0\u001b[39m, :, :])\n\u001b[0;32m     <a href='vscode-notebook-cell:/d%3A/LiveCellTracker-dev/notebooks/preprocess_npy_8bit_to_8bit_png.ipynb#W3sZmlsZQ%3D%3D?line=14'>15</a>\u001b[0m img \u001b[39m=\u001b[39m img\u001b[39m.\u001b[39mswapaxes(\u001b[39m0\u001b[39m, \u001b[39m2\u001b[39m)\n\u001b[1;32m---> <a href='vscode-notebook-cell:/d%3A/LiveCellTracker-dev/notebooks/preprocess_npy_8bit_to_8bit_png.ipynb#W3sZmlsZQ%3D%3D?line=15'>16</a>\u001b[0m img \u001b[39m=\u001b[39m Image\u001b[39m.\u001b[39;49mfromarray(img)\n\u001b[0;32m     <a href='vscode-notebook-cell:/d%3A/LiveCellTracker-dev/notebooks/preprocess_npy_8bit_to_8bit_png.ipynb#W3sZmlsZQ%3D%3D?line=16'>17</a>\u001b[0m img\u001b[39m.\u001b[39msave(Path(tmp_dir_path) \u001b[39m/\u001b[39m os\u001b[39m.\u001b[39mpath\u001b[39m.\u001b[39mbasename(path\u001b[39m.\u001b[39mreplace(\u001b[39m\"\u001b[39m\u001b[39m.npy\u001b[39m\u001b[39m\"\u001b[39m, \u001b[39m\"\u001b[39m\u001b[39m.png\u001b[39m\u001b[39m\"\u001b[39m)))\n",
      "File \u001b[1;32mc:/Users/dummy/Anaconda3/envs/cv-general/lib/site-packages/PIL/Image.py:2930\u001b[0m, in \u001b[0;36mfromarray\u001b[1;34m(obj, mode)\u001b[0m\n\u001b[0;32m   2928\u001b[0m         mode, rawmode \u001b[39m=\u001b[39m _fromarray_typemap[typekey]\n\u001b[0;32m   2929\u001b[0m     \u001b[39mexcept\u001b[39;00m \u001b[39mKeyError\u001b[39;00m \u001b[39mas\u001b[39;00m e:\n\u001b[1;32m-> 2930\u001b[0m         \u001b[39mraise\u001b[39;00m \u001b[39mTypeError\u001b[39;00m(\u001b[39m\"\u001b[39m\u001b[39mCannot handle this data type: \u001b[39m\u001b[39m%s\u001b[39;00m\u001b[39m, \u001b[39m\u001b[39m%s\u001b[39;00m\u001b[39m\"\u001b[39m \u001b[39m%\u001b[39m typekey) \u001b[39mfrom\u001b[39;00m \u001b[39me\u001b[39;00m\n\u001b[0;32m   2931\u001b[0m \u001b[39melse\u001b[39;00m:\n\u001b[0;32m   2932\u001b[0m     rawmode \u001b[39m=\u001b[39m mode\n",
      "\u001b[1;31mTypeError\u001b[0m: Cannot handle this data type: (1, 1, 27), |u1"
     ]
    },
    {
     "data": {
      "image/png": "[encoded data removed]",
      "text/plain": [
       "<Figure size 432x288 with 1 Axes>"
      ]
     },
     "metadata": {
      "needs_background": "light"
     },
     "output_type": "display_data"
    }
   ],
   "source": [
    "ndigits = len(str(len(npy_path_list)))\n",
    "print(\"ndigits: %d\" % (ndigits))\n",
    "def gen_T_filename(frame, ndigits):\n",
    "    return \"T%s.tif\" % (str(frame).zfill(ndigits))\n",
    "\n",
    "tmp_dir_path = \"./tmp\"\n",
    "!mkdir tmp_dir_path\n",
    "for i, path in enumerate(npy_path_list):\n",
    "    img = np.load(path)\n",
    "    img = img.astype(np.uint8)\n",
    "    print(\"#################################################\")\n",
    "    print(img.dtype)\n",
    "    print(img.shape)\n",
    "    plt.imshow(img[0, :, :])\n",
    "    img = img.swapaxes(0, 2)\n",
    "    img = Image.fromarray(img)\n",
    "    img.save(Path(tmp_dir_path) / os.path.basename(path.replace(\".npy\", \".png\")))"
   ]
  }
 ],
 "metadata": {
  "kernelspec": {
   "display_name": "Python 3.8.13 ('cv-general')",
   "language": "python",
   "name": "python3"
  },
  "language_info": {
   "codemirror_mode": {
    "name": "ipython",
    "version": 3
   },
   "file_extension": ".py",
   "mimetype": "text/x-python",
   "name": "python",
   "nbconvert_exporter": "python",
   "pygments_lexer": "ipython3",
   "version": "3.8.13"
  },
  "orig_nbformat": 4,
  "vscode": {
   "interpreter": {
    "hash": "b5dfbec2055422cee39dc040b31dfffa8b21a342109231ab17bc6ff9949c7133"
   }
  }
 },
 "nbformat": 4,
 "nbformat_minor": 2
}
