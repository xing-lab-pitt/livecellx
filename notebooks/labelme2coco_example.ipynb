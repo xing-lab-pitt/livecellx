{
 "cells": [
  {
   "cell_type": "code",
   "execution_count": 1,
   "metadata": {},
   "outputs": [],
   "source": [
    "import os\n",
    "import sys\n",
    "\n",
    "sys.path.append(\"..\")\n"
   ]
  },
  {
   "cell_type": "code",
   "execution_count": 2,
   "metadata": {},
   "outputs": [],
   "source": [
    "import livecell_tracker\n"
   ]
  },
  {
   "cell_type": "code",
   "execution_count": 5,
   "metadata": {},
   "outputs": [
    {
     "name": "stdout",
     "output_type": "stream",
     "text": [
      "There are 63 listed files in folder annotation_results.\n"
     ]
    },
    {
     "name": "stderr",
     "output_type": "stream",
     "text": [
      "Converting labelme annotations to COCO format:   3%|▎         | 2/63 [00:00<00:04, 14.39it/s]"
     ]
    },
    {
     "name": "stdout",
     "output_type": "stream",
     "text": [
      "dataset_folder_path:  D:\\xing-vimentin-dic-pipeline\\src\\livecell_dev\\cxa-data\\june_2022_data_8bit_png\n",
      "dataset_name:  day0_Notreat_Group1_wellA1_RI_MIP_stitched\n",
      "temp:  D:\\xing-vimentin-dic-pipeline\\src\\livecell_dev\\cxa-data\\june_2022_data_8bit_png\\day0_Notreat_Group1_wellA1_RI_MIP_stitched\\T001.png\n",
      "loading image from: D:\\xing-vimentin-dic-pipeline\\src\\livecell_dev\\cxa-data\\june_2022_data_8bit_png\\day0_Notreat_Group1_wellA1_RI_MIP_stitched\\T001.png\n",
      "dataset_folder_path:  D:\\xing-vimentin-dic-pipeline\\src\\livecell_dev\\cxa-data\\june_2022_data_8bit_png\n",
      "dataset_name:  day0_Notreat_Group1_wellA1_RI_MIP_stitched\n",
      "temp:  D:\\xing-vimentin-dic-pipeline\\src\\livecell_dev\\cxa-data\\june_2022_data_8bit_png\\day0_Notreat_Group1_wellA1_RI_MIP_stitched\\T050.png\n",
      "loading image from: D:\\xing-vimentin-dic-pipeline\\src\\livecell_dev\\cxa-data\\june_2022_data_8bit_png\\day0_Notreat_Group1_wellA1_RI_MIP_stitched\\T050.png\n",
      "dataset_folder_path:  D:\\xing-vimentin-dic-pipeline\\src\\livecell_dev\\cxa-data\\june_2022_data_8bit_png\n",
      "dataset_name:  day0_Notreat_Group1_wellA1_RI_MIP_stitched\n",
      "temp:  D:\\xing-vimentin-dic-pipeline\\src\\livecell_dev\\cxa-data\\june_2022_data_8bit_png\\day0_Notreat_Group1_wellA1_RI_MIP_stitched\\T100.png\n",
      "loading image from: D:\\xing-vimentin-dic-pipeline\\src\\livecell_dev\\cxa-data\\june_2022_data_8bit_png\\day0_Notreat_Group1_wellA1_RI_MIP_stitched\\T100.png\n"
     ]
    },
    {
     "name": "stderr",
     "output_type": "stream",
     "text": [
      "Converting labelme annotations to COCO format:   6%|▋         | 4/63 [00:00<00:04, 12.16it/s]"
     ]
    },
    {
     "name": "stdout",
     "output_type": "stream",
     "text": [
      "dataset_folder_path:  D:\\xing-vimentin-dic-pipeline\\src\\livecell_dev\\cxa-data\\june_2022_data_8bit_png\n",
      "dataset_name:  restart_day0_Group 1_wellA1_RI_MIP_stitched\n",
      "temp:  D:\\xing-vimentin-dic-pipeline\\src\\livecell_dev\\cxa-data\\june_2022_data_8bit_png\\restart_day0_Group 1_wellA1_RI_MIP_stitched\\T001.png\n",
      "loading image from: D:\\xing-vimentin-dic-pipeline\\src\\livecell_dev\\cxa-data\\june_2022_data_8bit_png\\restart_day0_Group 1_wellA1_RI_MIP_stitched\\T001.png\n",
      "dataset_folder_path:  D:\\xing-vimentin-dic-pipeline\\src\\livecell_dev\\cxa-data\\june_2022_data_8bit_png\n",
      "dataset_name:  restart_day0_Group 1_wellA1_RI_MIP_stitched\n",
      "temp:  D:\\xing-vimentin-dic-pipeline\\src\\livecell_dev\\cxa-data\\june_2022_data_8bit_png\\restart_day0_Group 1_wellA1_RI_MIP_stitched\\T050.png\n",
      "loading image from: D:\\xing-vimentin-dic-pipeline\\src\\livecell_dev\\cxa-data\\june_2022_data_8bit_png\\restart_day0_Group 1_wellA1_RI_MIP_stitched\\T050.png\n",
      "dataset_folder_path:  D:\\xing-vimentin-dic-pipeline\\src\\livecell_dev\\cxa-data\\june_2022_data_8bit_png\n",
      "dataset_name:  restart_day0_Group 1_wellA1_RI_MIP_stitched\n",
      "temp:  D:\\xing-vimentin-dic-pipeline\\src\\livecell_dev\\cxa-data\\june_2022_data_8bit_png\\restart_day0_Group 1_wellA1_RI_MIP_stitched\\T100.png\n",
      "loading image from: D:\\xing-vimentin-dic-pipeline\\src\\livecell_dev\\cxa-data\\june_2022_data_8bit_png\\restart_day0_Group 1_wellA1_RI_MIP_stitched\\T100.png\n"
     ]
    },
    {
     "name": "stderr",
     "output_type": "stream",
     "text": [
      "Converting labelme annotations to COCO format:  13%|█▎        | 8/63 [00:00<00:05, 10.77it/s]"
     ]
    },
    {
     "name": "stdout",
     "output_type": "stream",
     "text": [
      "dataset_folder_path:  D:\\xing-vimentin-dic-pipeline\\src\\livecell_dev\\cxa-data\\june_2022_data_8bit_png\n",
      "dataset_name:  restart_day0_Group 1_wellA1_RI_MIP_stitched\n",
      "temp:  D:\\xing-vimentin-dic-pipeline\\src\\livecell_dev\\cxa-data\\june_2022_data_8bit_png\\restart_day0_Group 1_wellA1_RI_MIP_stitched\\T150.png\n",
      "loading image from: D:\\xing-vimentin-dic-pipeline\\src\\livecell_dev\\cxa-data\\june_2022_data_8bit_png\\restart_day0_Group 1_wellA1_RI_MIP_stitched\\T150.png\n",
      "dataset_folder_path:  D:\\xing-vimentin-dic-pipeline\\src\\livecell_dev\\cxa-data\\june_2022_data_8bit_png\n",
      "dataset_name:  restart_day0_Group 1_wellA1_RI_MIP_stitched\n",
      "temp:  D:\\xing-vimentin-dic-pipeline\\src\\livecell_dev\\cxa-data\\june_2022_data_8bit_png\\restart_day0_Group 1_wellA1_RI_MIP_stitched\\T200.png\n",
      "loading image from: D:\\xing-vimentin-dic-pipeline\\src\\livecell_dev\\cxa-data\\june_2022_data_8bit_png\\restart_day0_Group 1_wellA1_RI_MIP_stitched\\T200.png\n",
      "dataset_folder_path:  D:\\xing-vimentin-dic-pipeline\\src\\livecell_dev\\cxa-data\\june_2022_data_8bit_png\n",
      "dataset_name:  restart_day0_Group 1_wellA1_RI_MIP_stitched\n",
      "temp:  D:\\xing-vimentin-dic-pipeline\\src\\livecell_dev\\cxa-data\\june_2022_data_8bit_png\\restart_day0_Group 1_wellA1_RI_MIP_stitched\\T250.png\n",
      "loading image from: D:\\xing-vimentin-dic-pipeline\\src\\livecell_dev\\cxa-data\\june_2022_data_8bit_png\\restart_day0_Group 1_wellA1_RI_MIP_stitched\\T250.png\n"
     ]
    },
    {
     "name": "stderr",
     "output_type": "stream",
     "text": [
      "Converting labelme annotations to COCO format:  16%|█▌        | 10/63 [00:00<00:04, 10.97it/s]"
     ]
    },
    {
     "name": "stdout",
     "output_type": "stream",
     "text": [
      "dataset_folder_path:  D:\\xing-vimentin-dic-pipeline\\src\\livecell_dev\\cxa-data\\june_2022_data_8bit_png\n",
      "dataset_name:  restart_day2_Group 1_wellA1_RI_MIP_stitched\n",
      "temp:  D:\\xing-vimentin-dic-pipeline\\src\\livecell_dev\\cxa-data\\june_2022_data_8bit_png\\restart_day2_Group 1_wellA1_RI_MIP_stitched\\T001.png\n",
      "loading image from: D:\\xing-vimentin-dic-pipeline\\src\\livecell_dev\\cxa-data\\june_2022_data_8bit_png\\restart_day2_Group 1_wellA1_RI_MIP_stitched\\T001.png\n",
      "dataset_folder_path:  D:\\xing-vimentin-dic-pipeline\\src\\livecell_dev\\cxa-data\\june_2022_data_8bit_png\n",
      "dataset_name:  restart_day2_Group 1_wellA1_RI_MIP_stitched\n",
      "temp:  D:\\xing-vimentin-dic-pipeline\\src\\livecell_dev\\cxa-data\\june_2022_data_8bit_png\\restart_day2_Group 1_wellA1_RI_MIP_stitched\\T050.png\n",
      "loading image from: D:\\xing-vimentin-dic-pipeline\\src\\livecell_dev\\cxa-data\\june_2022_data_8bit_png\\restart_day2_Group 1_wellA1_RI_MIP_stitched\\T050.png\n",
      "dataset_folder_path:  D:\\xing-vimentin-dic-pipeline\\src\\livecell_dev\\cxa-data\\june_2022_data_8bit_png\n",
      "dataset_name:  restart_day2_Group 1_wellA1_RI_MIP_stitched\n",
      "temp:  D:\\xing-vimentin-dic-pipeline\\src\\livecell_dev\\cxa-data\\june_2022_data_8bit_png\\restart_day2_Group 1_wellA1_RI_MIP_stitched\\T100.png\n",
      "loading image from: D:\\xing-vimentin-dic-pipeline\\src\\livecell_dev\\cxa-data\\june_2022_data_8bit_png\\restart_day2_Group 1_wellA1_RI_MIP_stitched\\T100.png\n"
     ]
    },
    {
     "name": "stderr",
     "output_type": "stream",
     "text": [
      "Converting labelme annotations to COCO format:  22%|██▏       | 14/63 [00:01<00:04, 10.76it/s]"
     ]
    },
    {
     "name": "stdout",
     "output_type": "stream",
     "text": [
      "dataset_folder_path:  D:\\xing-vimentin-dic-pipeline\\src\\livecell_dev\\cxa-data\\june_2022_data_8bit_png\n",
      "dataset_name:  restart_day2_Group 1_wellA1_RI_MIP_stitched\n",
      "temp:  D:\\xing-vimentin-dic-pipeline\\src\\livecell_dev\\cxa-data\\june_2022_data_8bit_png\\restart_day2_Group 1_wellA1_RI_MIP_stitched\\T150.png\n",
      "loading image from: D:\\xing-vimentin-dic-pipeline\\src\\livecell_dev\\cxa-data\\june_2022_data_8bit_png\\restart_day2_Group 1_wellA1_RI_MIP_stitched\\T150.png\n",
      "dataset_folder_path:  D:\\xing-vimentin-dic-pipeline\\src\\livecell_dev\\cxa-data\\june_2022_data_8bit_png\n",
      "dataset_name:  restart_day2_Group 1_wellA1_RI_MIP_stitched\n",
      "temp:  D:\\xing-vimentin-dic-pipeline\\src\\livecell_dev\\cxa-data\\june_2022_data_8bit_png\\restart_day2_Group 1_wellA1_RI_MIP_stitched\\T200.png\n",
      "loading image from: D:\\xing-vimentin-dic-pipeline\\src\\livecell_dev\\cxa-data\\june_2022_data_8bit_png\\restart_day2_Group 1_wellA1_RI_MIP_stitched\\T200.png\n",
      "dataset_folder_path:  D:\\xing-vimentin-dic-pipeline\\src\\livecell_dev\\cxa-data\\june_2022_data_8bit_png\n",
      "dataset_name:  restart_day2_Group 1_wellA1_RI_MIP_stitched\n",
      "temp:  D:\\xing-vimentin-dic-pipeline\\src\\livecell_dev\\cxa-data\\june_2022_data_8bit_png\\restart_day2_Group 1_wellA1_RI_MIP_stitched\\T250.png\n",
      "loading image from: D:\\xing-vimentin-dic-pipeline\\src\\livecell_dev\\cxa-data\\june_2022_data_8bit_png\\restart_day2_Group 1_wellA1_RI_MIP_stitched\\T250.png\n"
     ]
    },
    {
     "name": "stderr",
     "output_type": "stream",
     "text": [
      "Converting labelme annotations to COCO format:  29%|██▊       | 18/63 [00:01<00:03, 11.42it/s]"
     ]
    },
    {
     "name": "stdout",
     "output_type": "stream",
     "text": [
      "dataset_folder_path:  D:\\xing-vimentin-dic-pipeline\\src\\livecell_dev\\cxa-data\\june_2022_data_8bit_png\n",
      "dataset_name:  restart_day2_Group 1_wellA1_RI_MIP_stitched\n",
      "temp:  D:\\xing-vimentin-dic-pipeline\\src\\livecell_dev\\cxa-data\\june_2022_data_8bit_png\\restart_day2_Group 1_wellA1_RI_MIP_stitched\\T300.png\n",
      "loading image from: D:\\xing-vimentin-dic-pipeline\\src\\livecell_dev\\cxa-data\\june_2022_data_8bit_png\\restart_day2_Group 1_wellA1_RI_MIP_stitched\\T300.png\n",
      "dataset_folder_path:  D:\\xing-vimentin-dic-pipeline\\src\\livecell_dev\\cxa-data\\june_2022_data_8bit_png\n",
      "dataset_name:  restart_day2_Group 1_wellA1_RI_MIP_stitched\n",
      "temp:  D:\\xing-vimentin-dic-pipeline\\src\\livecell_dev\\cxa-data\\june_2022_data_8bit_png\\restart_day2_Group 1_wellA1_RI_MIP_stitched\\T350.png\n",
      "loading image from: D:\\xing-vimentin-dic-pipeline\\src\\livecell_dev\\cxa-data\\june_2022_data_8bit_png\\restart_day2_Group 1_wellA1_RI_MIP_stitched\\T350.png\n",
      "dataset_folder_path:  D:\\xing-vimentin-dic-pipeline\\src\\livecell_dev\\cxa-data\\june_2022_data_8bit_png\n",
      "dataset_name:  restart_day2_Group 1_wellA1_RI_MIP_stitched\n",
      "temp:  D:\\xing-vimentin-dic-pipeline\\src\\livecell_dev\\cxa-data\\june_2022_data_8bit_png\\restart_day2_Group 1_wellA1_RI_MIP_stitched\\T400.png\n",
      "loading image from: D:\\xing-vimentin-dic-pipeline\\src\\livecell_dev\\cxa-data\\june_2022_data_8bit_png\\restart_day2_Group 1_wellA1_RI_MIP_stitched\\T400.png\n"
     ]
    },
    {
     "name": "stderr",
     "output_type": "stream",
     "text": [
      "Converting labelme annotations to COCO format:  32%|███▏      | 20/63 [00:01<00:03, 11.11it/s]"
     ]
    },
    {
     "name": "stdout",
     "output_type": "stream",
     "text": [
      "dataset_folder_path:  D:\\xing-vimentin-dic-pipeline\\src\\livecell_dev\\cxa-data\\june_2022_data_8bit_png\n",
      "dataset_name:  restart_day2_Group 1_wellA1_RI_MIP_stitched\n",
      "temp:  D:\\xing-vimentin-dic-pipeline\\src\\livecell_dev\\cxa-data\\june_2022_data_8bit_png\\restart_day2_Group 1_wellA1_RI_MIP_stitched\\T450.png\n",
      "loading image from: D:\\xing-vimentin-dic-pipeline\\src\\livecell_dev\\cxa-data\\june_2022_data_8bit_png\\restart_day2_Group 1_wellA1_RI_MIP_stitched\\T450.png\n",
      "dataset_folder_path:  D:\\xing-vimentin-dic-pipeline\\src\\livecell_dev\\cxa-data\\june_2022_data_8bit_png\n",
      "dataset_name:  restart_day2_Group 1_wellA1_RI_MIP_stitched\n",
      "temp:  D:\\xing-vimentin-dic-pipeline\\src\\livecell_dev\\cxa-data\\june_2022_data_8bit_png\\restart_day2_Group 1_wellA1_RI_MIP_stitched\\T500.png\n",
      "loading image from: D:\\xing-vimentin-dic-pipeline\\src\\livecell_dev\\cxa-data\\june_2022_data_8bit_png\\restart_day2_Group 1_wellA1_RI_MIP_stitched\\T500.png\n",
      "dataset_folder_path:  D:\\xing-vimentin-dic-pipeline\\src\\livecell_dev\\cxa-data\\june_2022_data_8bit_png\n",
      "dataset_name:  restart_day2_Group 1_wellA1_RI_MIP_stitched\n",
      "temp:  D:\\xing-vimentin-dic-pipeline\\src\\livecell_dev\\cxa-data\\june_2022_data_8bit_png\\restart_day2_Group 1_wellA1_RI_MIP_stitched\\T550.png\n",
      "loading image from: D:\\xing-vimentin-dic-pipeline\\src\\livecell_dev\\cxa-data\\june_2022_data_8bit_png\\restart_day2_Group 1_wellA1_RI_MIP_stitched\\T550.png\n"
     ]
    },
    {
     "name": "stderr",
     "output_type": "stream",
     "text": [
      "Converting labelme annotations to COCO format:  40%|███▉      | 25/63 [00:02<00:02, 14.02it/s]"
     ]
    },
    {
     "name": "stdout",
     "output_type": "stream",
     "text": [
      "dataset_folder_path:  D:\\xing-vimentin-dic-pipeline\\src\\livecell_dev\\cxa-data\\june_2022_data_8bit_png\n",
      "dataset_name:  day0_Notreat_Group1_wellA1_RI_MIP_stitched\n",
      "temp:  D:\\xing-vimentin-dic-pipeline\\src\\livecell_dev\\cxa-data\\june_2022_data_8bit_png\\day0_Notreat_Group1_wellA1_RI_MIP_stitched\\T001.png\n",
      "loading image from: D:\\xing-vimentin-dic-pipeline\\src\\livecell_dev\\cxa-data\\june_2022_data_8bit_png\\day0_Notreat_Group1_wellA1_RI_MIP_stitched\\T001.png\n",
      "dataset_folder_path:  D:\\xing-vimentin-dic-pipeline\\src\\livecell_dev\\cxa-data\\june_2022_data_8bit_png\n",
      "dataset_name:  day0_Notreat_Group1_wellA1_RI_MIP_stitched\n",
      "temp:  D:\\xing-vimentin-dic-pipeline\\src\\livecell_dev\\cxa-data\\june_2022_data_8bit_png\\day0_Notreat_Group1_wellA1_RI_MIP_stitched\\T050.png\n",
      "loading image from: D:\\xing-vimentin-dic-pipeline\\src\\livecell_dev\\cxa-data\\june_2022_data_8bit_png\\day0_Notreat_Group1_wellA1_RI_MIP_stitched\\T050.png\n",
      "dataset_folder_path:  D:\\xing-vimentin-dic-pipeline\\src\\livecell_dev\\cxa-data\\june_2022_data_8bit_png\n",
      "dataset_name:  day0_Notreat_Group1_wellA1_RI_MIP_stitched\n",
      "temp:  D:\\xing-vimentin-dic-pipeline\\src\\livecell_dev\\cxa-data\\june_2022_data_8bit_png\\day0_Notreat_Group1_wellA1_RI_MIP_stitched\\T100.png\n",
      "loading image from: D:\\xing-vimentin-dic-pipeline\\src\\livecell_dev\\cxa-data\\june_2022_data_8bit_png\\day0_Notreat_Group1_wellA1_RI_MIP_stitched\\T100.png\n",
      "dataset_folder_path:  D:\\xing-vimentin-dic-pipeline\\src\\livecell_dev\\cxa-data\\june_2022_data_8bit_png\n",
      "dataset_name:  restart_day0_Group 1_wellA1_RI_MIP_stitched\n",
      "temp:  D:\\xing-vimentin-dic-pipeline\\src\\livecell_dev\\cxa-data\\june_2022_data_8bit_png\\restart_day0_Group 1_wellA1_RI_MIP_stitched\\T001.png\n",
      "loading image from: D:\\xing-vimentin-dic-pipeline\\src\\livecell_dev\\cxa-data\\june_2022_data_8bit_png\\restart_day0_Group 1_wellA1_RI_MIP_stitched\\T001.png\n",
      "dataset_folder_path:  D:\\xing-vimentin-dic-pipeline\\src\\livecell_dev\\cxa-data\\june_2022_data_8bit_png\n",
      "dataset_name:  restart_day0_Group 1_wellA1_RI_MIP_stitched\n",
      "temp:  D:\\xing-vimentin-dic-pipeline\\src\\livecell_dev\\cxa-data\\june_2022_data_8bit_png\\restart_day0_Group 1_wellA1_RI_MIP_stitched\\T050.png\n",
      "loading image from: D:\\xing-vimentin-dic-pipeline\\src\\livecell_dev\\cxa-data\\june_2022_data_8bit_png\\restart_day0_Group 1_wellA1_RI_MIP_stitched\\T050.png\n"
     ]
    },
    {
     "name": "stderr",
     "output_type": "stream",
     "text": [
      "Converting labelme annotations to COCO format:  51%|█████     | 32/63 [00:02<00:01, 21.49it/s]"
     ]
    },
    {
     "name": "stdout",
     "output_type": "stream",
     "text": [
      "dataset_folder_path:  D:\\xing-vimentin-dic-pipeline\\src\\livecell_dev\\cxa-data\\june_2022_data_8bit_png\n",
      "dataset_name:  restart_day0_Group 1_wellA1_RI_MIP_stitched\n",
      "temp:  D:\\xing-vimentin-dic-pipeline\\src\\livecell_dev\\cxa-data\\june_2022_data_8bit_png\\restart_day0_Group 1_wellA1_RI_MIP_stitched\\T100.png\n",
      "loading image from: D:\\xing-vimentin-dic-pipeline\\src\\livecell_dev\\cxa-data\\june_2022_data_8bit_png\\restart_day0_Group 1_wellA1_RI_MIP_stitched\\T100.png\n",
      "dataset_folder_path:  D:\\xing-vimentin-dic-pipeline\\src\\livecell_dev\\cxa-data\\june_2022_data_8bit_png\n",
      "dataset_name:  restart_day0_Group 1_wellA1_RI_MIP_stitched\n",
      "temp:  D:\\xing-vimentin-dic-pipeline\\src\\livecell_dev\\cxa-data\\june_2022_data_8bit_png\\restart_day0_Group 1_wellA1_RI_MIP_stitched\\T150.png\n",
      "loading image from: D:\\xing-vimentin-dic-pipeline\\src\\livecell_dev\\cxa-data\\june_2022_data_8bit_png\\restart_day0_Group 1_wellA1_RI_MIP_stitched\\T150.png\n",
      "dataset_folder_path:  D:\\xing-vimentin-dic-pipeline\\src\\livecell_dev\\cxa-data\\june_2022_data_8bit_png\n",
      "dataset_name:  restart_day0_Group 1_wellA1_RI_MIP_stitched\n",
      "temp:  D:\\xing-vimentin-dic-pipeline\\src\\livecell_dev\\cxa-data\\june_2022_data_8bit_png\\restart_day0_Group 1_wellA1_RI_MIP_stitched\\T200.png\n",
      "loading image from: D:\\xing-vimentin-dic-pipeline\\src\\livecell_dev\\cxa-data\\june_2022_data_8bit_png\\restart_day0_Group 1_wellA1_RI_MIP_stitched\\T200.png\n",
      "dataset_folder_path:  D:\\xing-vimentin-dic-pipeline\\src\\livecell_dev\\cxa-data\\june_2022_data_8bit_png\n",
      "dataset_name:  restart_day0_Group 1_wellA1_RI_MIP_stitched\n",
      "temp:  D:\\xing-vimentin-dic-pipeline\\src\\livecell_dev\\cxa-data\\june_2022_data_8bit_png\\restart_day0_Group 1_wellA1_RI_MIP_stitched\\T250.png\n",
      "loading image from: D:\\xing-vimentin-dic-pipeline\\src\\livecell_dev\\cxa-data\\june_2022_data_8bit_png\\restart_day0_Group 1_wellA1_RI_MIP_stitched\\T250.png\n",
      "dataset_folder_path:  D:\\xing-vimentin-dic-pipeline\\src\\livecell_dev\\cxa-data\\june_2022_data_8bit_png\n",
      "dataset_name:  restart_day2_Group 1_wellA1_RI_MIP_stitched\n",
      "temp:  D:\\xing-vimentin-dic-pipeline\\src\\livecell_dev\\cxa-data\\june_2022_data_8bit_png\\restart_day2_Group 1_wellA1_RI_MIP_stitched\\T001.png\n",
      "loading image from: D:\\xing-vimentin-dic-pipeline\\src\\livecell_dev\\cxa-data\\june_2022_data_8bit_png\\restart_day2_Group 1_wellA1_RI_MIP_stitched\\T001.png\n",
      "dataset_folder_path:  D:\\xing-vimentin-dic-pipeline\\src\\livecell_dev\\cxa-data\\june_2022_data_8bit_png\n",
      "dataset_name:  restart_day2_Group 1_wellA1_RI_MIP_stitched\n",
      "temp:  D:\\xing-vimentin-dic-pipeline\\src\\livecell_dev\\cxa-data\\june_2022_data_8bit_png\\restart_day2_Group 1_wellA1_RI_MIP_stitched\\T050.png\n",
      "loading image from: D:\\xing-vimentin-dic-pipeline\\src\\livecell_dev\\cxa-data\\june_2022_data_8bit_png\\restart_day2_Group 1_wellA1_RI_MIP_stitched\\T050.png\n",
      "dataset_folder_path:  D:\\xing-vimentin-dic-pipeline\\src\\livecell_dev\\cxa-data\\june_2022_data_8bit_png\n",
      "dataset_name:  restart_day2_Group 1_wellA1_RI_MIP_stitched\n",
      "temp:  D:\\xing-vimentin-dic-pipeline\\src\\livecell_dev\\cxa-data\\june_2022_data_8bit_png\\restart_day2_Group 1_wellA1_RI_MIP_stitched\\T100.png\n",
      "loading image from: D:\\xing-vimentin-dic-pipeline\\src\\livecell_dev\\cxa-data\\june_2022_data_8bit_png\\restart_day2_Group 1_wellA1_RI_MIP_stitched\\T100.png\n",
      "dataset_folder_path:  D:\\xing-vimentin-dic-pipeline\\src\\livecell_dev\\cxa-data\\june_2022_data_8bit_png\n",
      "dataset_name:  restart_day2_Group 1_wellA1_RI_MIP_stitched\n",
      "temp:  D:\\xing-vimentin-dic-pipeline\\src\\livecell_dev\\cxa-data\\june_2022_data_8bit_png\\restart_day2_Group 1_wellA1_RI_MIP_stitched\\T150.png\n",
      "loading image from: D:\\xing-vimentin-dic-pipeline\\src\\livecell_dev\\cxa-data\\june_2022_data_8bit_png\\restart_day2_Group 1_wellA1_RI_MIP_stitched\\T150.png\n",
      "dataset_folder_path:  D:\\xing-vimentin-dic-pipeline\\src\\livecell_dev\\cxa-data\\june_2022_data_8bit_png\n",
      "dataset_name:  restart_day2_Group 1_wellA1_RI_MIP_stitched\n",
      "temp:  D:\\xing-vimentin-dic-pipeline\\src\\livecell_dev\\cxa-data\\june_2022_data_8bit_png\\restart_day2_Group 1_wellA1_RI_MIP_stitched\\T200.png\n",
      "loading image from: D:\\xing-vimentin-dic-pipeline\\src\\livecell_dev\\cxa-data\\june_2022_data_8bit_png\\restart_day2_Group 1_wellA1_RI_MIP_stitched\\T200.png\n"
     ]
    },
    {
     "name": "stderr",
     "output_type": "stream",
     "text": [
      "Converting labelme annotations to COCO format:  62%|██████▏   | 39/63 [00:02<00:00, 24.15it/s]"
     ]
    },
    {
     "name": "stdout",
     "output_type": "stream",
     "text": [
      "dataset_folder_path:  D:\\xing-vimentin-dic-pipeline\\src\\livecell_dev\\cxa-data\\june_2022_data_8bit_png\n",
      "dataset_name:  restart_day2_Group 1_wellA1_RI_MIP_stitched\n",
      "temp:  D:\\xing-vimentin-dic-pipeline\\src\\livecell_dev\\cxa-data\\june_2022_data_8bit_png\\restart_day2_Group 1_wellA1_RI_MIP_stitched\\T250.png\n",
      "loading image from: D:\\xing-vimentin-dic-pipeline\\src\\livecell_dev\\cxa-data\\june_2022_data_8bit_png\\restart_day2_Group 1_wellA1_RI_MIP_stitched\\T250.png\n",
      "dataset_folder_path:  D:\\xing-vimentin-dic-pipeline\\src\\livecell_dev\\cxa-data\\june_2022_data_8bit_png\n",
      "dataset_name:  restart_day2_Group 1_wellA1_RI_MIP_stitched\n",
      "temp:  D:\\xing-vimentin-dic-pipeline\\src\\livecell_dev\\cxa-data\\june_2022_data_8bit_png\\restart_day2_Group 1_wellA1_RI_MIP_stitched\\T300.png\n",
      "loading image from: D:\\xing-vimentin-dic-pipeline\\src\\livecell_dev\\cxa-data\\june_2022_data_8bit_png\\restart_day2_Group 1_wellA1_RI_MIP_stitched\\T300.png\n",
      "dataset_folder_path:  D:\\xing-vimentin-dic-pipeline\\src\\livecell_dev\\cxa-data\\june_2022_data_8bit_png\n",
      "dataset_name:  restart_day2_Group 1_wellA1_RI_MIP_stitched\n",
      "temp:  D:\\xing-vimentin-dic-pipeline\\src\\livecell_dev\\cxa-data\\june_2022_data_8bit_png\\restart_day2_Group 1_wellA1_RI_MIP_stitched\\T350.png\n",
      "loading image from: D:\\xing-vimentin-dic-pipeline\\src\\livecell_dev\\cxa-data\\june_2022_data_8bit_png\\restart_day2_Group 1_wellA1_RI_MIP_stitched\\T350.png\n",
      "dataset_folder_path:  D:\\xing-vimentin-dic-pipeline\\src\\livecell_dev\\cxa-data\\june_2022_data_8bit_png\n",
      "dataset_name:  restart_day2_Group 1_wellA1_RI_MIP_stitched\n",
      "temp:  D:\\xing-vimentin-dic-pipeline\\src\\livecell_dev\\cxa-data\\june_2022_data_8bit_png\\restart_day2_Group 1_wellA1_RI_MIP_stitched\\T400.png\n",
      "loading image from: D:\\xing-vimentin-dic-pipeline\\src\\livecell_dev\\cxa-data\\june_2022_data_8bit_png\\restart_day2_Group 1_wellA1_RI_MIP_stitched\\T400.png\n",
      "dataset_folder_path:  D:\\xing-vimentin-dic-pipeline\\src\\livecell_dev\\cxa-data\\june_2022_data_8bit_png\n",
      "dataset_name:  restart_day2_Group 1_wellA1_RI_MIP_stitched\n",
      "temp:  D:\\xing-vimentin-dic-pipeline\\src\\livecell_dev\\cxa-data\\june_2022_data_8bit_png\\restart_day2_Group 1_wellA1_RI_MIP_stitched\\T450.png\n",
      "loading image from: D:\\xing-vimentin-dic-pipeline\\src\\livecell_dev\\cxa-data\\june_2022_data_8bit_png\\restart_day2_Group 1_wellA1_RI_MIP_stitched\\T450.png\n"
     ]
    },
    {
     "name": "stderr",
     "output_type": "stream",
     "text": [
      "Converting labelme annotations to COCO format:  67%|██████▋   | 42/63 [00:02<00:00, 24.19it/s]"
     ]
    },
    {
     "name": "stdout",
     "output_type": "stream",
     "text": [
      "dataset_folder_path:  D:\\xing-vimentin-dic-pipeline\\src\\livecell_dev\\cxa-data\\june_2022_data_8bit_png\n",
      "dataset_name:  restart_day2_Group 1_wellA1_RI_MIP_stitched\n",
      "temp:  D:\\xing-vimentin-dic-pipeline\\src\\livecell_dev\\cxa-data\\june_2022_data_8bit_png\\restart_day2_Group 1_wellA1_RI_MIP_stitched\\T500.png\n",
      "loading image from: D:\\xing-vimentin-dic-pipeline\\src\\livecell_dev\\cxa-data\\june_2022_data_8bit_png\\restart_day2_Group 1_wellA1_RI_MIP_stitched\\T500.png\n",
      "dataset_folder_path:  D:\\xing-vimentin-dic-pipeline\\src\\livecell_dev\\cxa-data\\june_2022_data_8bit_png\n",
      "dataset_name:  restart_day2_Group 1_wellA1_RI_MIP_stitched\n",
      "temp:  D:\\xing-vimentin-dic-pipeline\\src\\livecell_dev\\cxa-data\\june_2022_data_8bit_png\\restart_day2_Group 1_wellA1_RI_MIP_stitched\\T550.png\n",
      "loading image from: D:\\xing-vimentin-dic-pipeline\\src\\livecell_dev\\cxa-data\\june_2022_data_8bit_png\\restart_day2_Group 1_wellA1_RI_MIP_stitched\\T550.png\n",
      "dataset_folder_path:  D:\\xing-vimentin-dic-pipeline\\src\\livecell_dev\\cxa-data\\june_2022_data_8bit_png\n",
      "dataset_name:  day0_Notreat_Group1_wellA1_RI_MIP_stitched\n",
      "temp:  D:\\xing-vimentin-dic-pipeline\\src\\livecell_dev\\cxa-data\\june_2022_data_8bit_png\\day0_Notreat_Group1_wellA1_RI_MIP_stitched\\T001.png\n",
      "loading image from: D:\\xing-vimentin-dic-pipeline\\src\\livecell_dev\\cxa-data\\june_2022_data_8bit_png\\day0_Notreat_Group1_wellA1_RI_MIP_stitched\\T001.png\n",
      "dataset_folder_path:  D:\\xing-vimentin-dic-pipeline\\src\\livecell_dev\\cxa-data\\june_2022_data_8bit_png\n",
      "dataset_name:  day0_Notreat_Group1_wellA1_RI_MIP_stitched\n",
      "temp:  D:\\xing-vimentin-dic-pipeline\\src\\livecell_dev\\cxa-data\\june_2022_data_8bit_png\\day0_Notreat_Group1_wellA1_RI_MIP_stitched\\T050.png\n",
      "loading image from: D:\\xing-vimentin-dic-pipeline\\src\\livecell_dev\\cxa-data\\june_2022_data_8bit_png\\day0_Notreat_Group1_wellA1_RI_MIP_stitched\\T050.png\n"
     ]
    },
    {
     "name": "stderr",
     "output_type": "stream",
     "text": [
      "Converting labelme annotations to COCO format:  76%|███████▌  | 48/63 [00:02<00:00, 21.98it/s]"
     ]
    },
    {
     "name": "stdout",
     "output_type": "stream",
     "text": [
      "dataset_folder_path:  D:\\xing-vimentin-dic-pipeline\\src\\livecell_dev\\cxa-data\\june_2022_data_8bit_png\n",
      "dataset_name:  day0_Notreat_Group1_wellA1_RI_MIP_stitched\n",
      "temp:  D:\\xing-vimentin-dic-pipeline\\src\\livecell_dev\\cxa-data\\june_2022_data_8bit_png\\day0_Notreat_Group1_wellA1_RI_MIP_stitched\\T100.png\n",
      "loading image from: D:\\xing-vimentin-dic-pipeline\\src\\livecell_dev\\cxa-data\\june_2022_data_8bit_png\\day0_Notreat_Group1_wellA1_RI_MIP_stitched\\T100.png\n",
      "dataset_folder_path:  D:\\xing-vimentin-dic-pipeline\\src\\livecell_dev\\cxa-data\\june_2022_data_8bit_png\n",
      "dataset_name:  restart_day0_Group 1_wellA1_RI_MIP_stitched\n",
      "temp:  D:\\xing-vimentin-dic-pipeline\\src\\livecell_dev\\cxa-data\\june_2022_data_8bit_png\\restart_day0_Group 1_wellA1_RI_MIP_stitched\\T001.png\n",
      "loading image from: D:\\xing-vimentin-dic-pipeline\\src\\livecell_dev\\cxa-data\\june_2022_data_8bit_png\\restart_day0_Group 1_wellA1_RI_MIP_stitched\\T001.png\n",
      "dataset_folder_path:  D:\\xing-vimentin-dic-pipeline\\src\\livecell_dev\\cxa-data\\june_2022_data_8bit_png\n",
      "dataset_name:  restart_day0_Group 1_wellA1_RI_MIP_stitched\n",
      "temp:  D:\\xing-vimentin-dic-pipeline\\src\\livecell_dev\\cxa-data\\june_2022_data_8bit_png\\restart_day0_Group 1_wellA1_RI_MIP_stitched\\T050.png\n",
      "loading image from: D:\\xing-vimentin-dic-pipeline\\src\\livecell_dev\\cxa-data\\june_2022_data_8bit_png\\restart_day0_Group 1_wellA1_RI_MIP_stitched\\T050.png\n",
      "dataset_folder_path:  D:\\xing-vimentin-dic-pipeline\\src\\livecell_dev\\cxa-data\\june_2022_data_8bit_png\n",
      "dataset_name:  restart_day0_Group 1_wellA1_RI_MIP_stitched\n",
      "temp:  D:\\xing-vimentin-dic-pipeline\\src\\livecell_dev\\cxa-data\\june_2022_data_8bit_png\\restart_day0_Group 1_wellA1_RI_MIP_stitched\\T100.png\n",
      "loading image from: D:\\xing-vimentin-dic-pipeline\\src\\livecell_dev\\cxa-data\\june_2022_data_8bit_png\\restart_day0_Group 1_wellA1_RI_MIP_stitched\\T100.png\n",
      "dataset_folder_path:  D:\\xing-vimentin-dic-pipeline\\src\\livecell_dev\\cxa-data\\june_2022_data_8bit_png\n",
      "dataset_name:  restart_day0_Group 1_wellA1_RI_MIP_stitched\n",
      "temp:  D:\\xing-vimentin-dic-pipeline\\src\\livecell_dev\\cxa-data\\june_2022_data_8bit_png\\restart_day0_Group 1_wellA1_RI_MIP_stitched\\T150.png\n",
      "loading image from: D:\\xing-vimentin-dic-pipeline\\src\\livecell_dev\\cxa-data\\june_2022_data_8bit_png\\restart_day0_Group 1_wellA1_RI_MIP_stitched\\T150.png\n"
     ]
    },
    {
     "name": "stderr",
     "output_type": "stream",
     "text": [
      "Converting labelme annotations to COCO format:  81%|████████  | 51/63 [00:03<00:00, 22.38it/s]"
     ]
    },
    {
     "name": "stdout",
     "output_type": "stream",
     "text": [
      "dataset_folder_path:  D:\\xing-vimentin-dic-pipeline\\src\\livecell_dev\\cxa-data\\june_2022_data_8bit_png\n",
      "dataset_name:  restart_day0_Group 1_wellA1_RI_MIP_stitched\n",
      "temp:  D:\\xing-vimentin-dic-pipeline\\src\\livecell_dev\\cxa-data\\june_2022_data_8bit_png\\restart_day0_Group 1_wellA1_RI_MIP_stitched\\T200.png\n",
      "loading image from: D:\\xing-vimentin-dic-pipeline\\src\\livecell_dev\\cxa-data\\june_2022_data_8bit_png\\restart_day0_Group 1_wellA1_RI_MIP_stitched\\T200.png\n",
      "dataset_folder_path:  D:\\xing-vimentin-dic-pipeline\\src\\livecell_dev\\cxa-data\\june_2022_data_8bit_png\n",
      "dataset_name:  restart_day0_Group 1_wellA1_RI_MIP_stitched\n",
      "temp:  D:\\xing-vimentin-dic-pipeline\\src\\livecell_dev\\cxa-data\\june_2022_data_8bit_png\\restart_day0_Group 1_wellA1_RI_MIP_stitched\\T250.png\n",
      "loading image from: D:\\xing-vimentin-dic-pipeline\\src\\livecell_dev\\cxa-data\\june_2022_data_8bit_png\\restart_day0_Group 1_wellA1_RI_MIP_stitched\\T250.png\n",
      "dataset_folder_path:  D:\\xing-vimentin-dic-pipeline\\src\\livecell_dev\\cxa-data\\june_2022_data_8bit_png\n",
      "dataset_name:  restart_day2_Group 1_wellA1_RI_MIP_stitched\n",
      "temp:  D:\\xing-vimentin-dic-pipeline\\src\\livecell_dev\\cxa-data\\june_2022_data_8bit_png\\restart_day2_Group 1_wellA1_RI_MIP_stitched\\T001.png\n",
      "loading image from: D:\\xing-vimentin-dic-pipeline\\src\\livecell_dev\\cxa-data\\june_2022_data_8bit_png\\restart_day2_Group 1_wellA1_RI_MIP_stitched\\T001.png\n",
      "dataset_folder_path:  D:\\xing-vimentin-dic-pipeline\\src\\livecell_dev\\cxa-data\\june_2022_data_8bit_png\n",
      "dataset_name:  restart_day2_Group 1_wellA1_RI_MIP_stitched\n",
      "temp:  D:\\xing-vimentin-dic-pipeline\\src\\livecell_dev\\cxa-data\\june_2022_data_8bit_png\\restart_day2_Group 1_wellA1_RI_MIP_stitched\\T050.png\n",
      "loading image from: D:\\xing-vimentin-dic-pipeline\\src\\livecell_dev\\cxa-data\\june_2022_data_8bit_png\\restart_day2_Group 1_wellA1_RI_MIP_stitched\\T050.png\n"
     ]
    },
    {
     "name": "stderr",
     "output_type": "stream",
     "text": [
      "Converting labelme annotations to COCO format:  90%|█████████ | 57/63 [00:03<00:00, 19.83it/s]"
     ]
    },
    {
     "name": "stdout",
     "output_type": "stream",
     "text": [
      "dataset_folder_path:  D:\\xing-vimentin-dic-pipeline\\src\\livecell_dev\\cxa-data\\june_2022_data_8bit_png\n",
      "dataset_name:  restart_day2_Group 1_wellA1_RI_MIP_stitched\n",
      "temp:  D:\\xing-vimentin-dic-pipeline\\src\\livecell_dev\\cxa-data\\june_2022_data_8bit_png\\restart_day2_Group 1_wellA1_RI_MIP_stitched\\T100.png\n",
      "loading image from: D:\\xing-vimentin-dic-pipeline\\src\\livecell_dev\\cxa-data\\june_2022_data_8bit_png\\restart_day2_Group 1_wellA1_RI_MIP_stitched\\T100.png\n",
      "dataset_folder_path:  D:\\xing-vimentin-dic-pipeline\\src\\livecell_dev\\cxa-data\\june_2022_data_8bit_png\n",
      "dataset_name:  restart_day2_Group 1_wellA1_RI_MIP_stitched\n",
      "temp:  D:\\xing-vimentin-dic-pipeline\\src\\livecell_dev\\cxa-data\\june_2022_data_8bit_png\\restart_day2_Group 1_wellA1_RI_MIP_stitched\\T150.png\n",
      "loading image from: D:\\xing-vimentin-dic-pipeline\\src\\livecell_dev\\cxa-data\\june_2022_data_8bit_png\\restart_day2_Group 1_wellA1_RI_MIP_stitched\\T150.png\n",
      "dataset_folder_path:  D:\\xing-vimentin-dic-pipeline\\src\\livecell_dev\\cxa-data\\june_2022_data_8bit_png\n",
      "dataset_name:  restart_day2_Group 1_wellA1_RI_MIP_stitched\n",
      "temp:  D:\\xing-vimentin-dic-pipeline\\src\\livecell_dev\\cxa-data\\june_2022_data_8bit_png\\restart_day2_Group 1_wellA1_RI_MIP_stitched\\T200.png\n",
      "loading image from: D:\\xing-vimentin-dic-pipeline\\src\\livecell_dev\\cxa-data\\june_2022_data_8bit_png\\restart_day2_Group 1_wellA1_RI_MIP_stitched\\T200.png\n",
      "dataset_folder_path:  D:\\xing-vimentin-dic-pipeline\\src\\livecell_dev\\cxa-data\\june_2022_data_8bit_png\n",
      "dataset_name:  restart_day2_Group 1_wellA1_RI_MIP_stitched\n",
      "temp:  D:\\xing-vimentin-dic-pipeline\\src\\livecell_dev\\cxa-data\\june_2022_data_8bit_png\\restart_day2_Group 1_wellA1_RI_MIP_stitched\\T250.png\n",
      "loading image from: D:\\xing-vimentin-dic-pipeline\\src\\livecell_dev\\cxa-data\\june_2022_data_8bit_png\\restart_day2_Group 1_wellA1_RI_MIP_stitched\\T250.png\n"
     ]
    },
    {
     "name": "stderr",
     "output_type": "stream",
     "text": [
      "Converting labelme annotations to COCO format:  95%|█████████▌| 60/63 [00:03<00:00, 18.35it/s]"
     ]
    },
    {
     "name": "stdout",
     "output_type": "stream",
     "text": [
      "dataset_folder_path:  D:\\xing-vimentin-dic-pipeline\\src\\livecell_dev\\cxa-data\\june_2022_data_8bit_png\n",
      "dataset_name:  restart_day2_Group 1_wellA1_RI_MIP_stitched\n",
      "temp:  D:\\xing-vimentin-dic-pipeline\\src\\livecell_dev\\cxa-data\\june_2022_data_8bit_png\\restart_day2_Group 1_wellA1_RI_MIP_stitched\\T300.png\n",
      "loading image from: D:\\xing-vimentin-dic-pipeline\\src\\livecell_dev\\cxa-data\\june_2022_data_8bit_png\\restart_day2_Group 1_wellA1_RI_MIP_stitched\\T300.png\n",
      "dataset_folder_path:  D:\\xing-vimentin-dic-pipeline\\src\\livecell_dev\\cxa-data\\june_2022_data_8bit_png\n",
      "dataset_name:  restart_day2_Group 1_wellA1_RI_MIP_stitched\n",
      "temp:  D:\\xing-vimentin-dic-pipeline\\src\\livecell_dev\\cxa-data\\june_2022_data_8bit_png\\restart_day2_Group 1_wellA1_RI_MIP_stitched\\T350.png\n",
      "loading image from: D:\\xing-vimentin-dic-pipeline\\src\\livecell_dev\\cxa-data\\june_2022_data_8bit_png\\restart_day2_Group 1_wellA1_RI_MIP_stitched\\T350.png\n",
      "dataset_folder_path:  D:\\xing-vimentin-dic-pipeline\\src\\livecell_dev\\cxa-data\\june_2022_data_8bit_png\n",
      "dataset_name:  restart_day2_Group 1_wellA1_RI_MIP_stitched\n",
      "temp:  D:\\xing-vimentin-dic-pipeline\\src\\livecell_dev\\cxa-data\\june_2022_data_8bit_png\\restart_day2_Group 1_wellA1_RI_MIP_stitched\\T400.png\n",
      "loading image from: D:\\xing-vimentin-dic-pipeline\\src\\livecell_dev\\cxa-data\\june_2022_data_8bit_png\\restart_day2_Group 1_wellA1_RI_MIP_stitched\\T400.png\n",
      "dataset_folder_path:  D:\\xing-vimentin-dic-pipeline\\src\\livecell_dev\\cxa-data\\june_2022_data_8bit_png\n",
      "dataset_name:  restart_day2_Group 1_wellA1_RI_MIP_stitched\n",
      "temp:  D:\\xing-vimentin-dic-pipeline\\src\\livecell_dev\\cxa-data\\june_2022_data_8bit_png\\restart_day2_Group 1_wellA1_RI_MIP_stitched\\T450.png\n",
      "loading image from: D:\\xing-vimentin-dic-pipeline\\src\\livecell_dev\\cxa-data\\june_2022_data_8bit_png\\restart_day2_Group 1_wellA1_RI_MIP_stitched\\T450.png\n"
     ]
    },
    {
     "name": "stderr",
     "output_type": "stream",
     "text": [
      "Converting labelme annotations to COCO format: 100%|██████████| 63/63 [00:03<00:00, 16.65it/s]\n"
     ]
    },
    {
     "name": "stdout",
     "output_type": "stream",
     "text": [
      "dataset_folder_path:  D:\\xing-vimentin-dic-pipeline\\src\\livecell_dev\\cxa-data\\june_2022_data_8bit_png\n",
      "dataset_name:  restart_day2_Group 1_wellA1_RI_MIP_stitched\n",
      "temp:  D:\\xing-vimentin-dic-pipeline\\src\\livecell_dev\\cxa-data\\june_2022_data_8bit_png\\restart_day2_Group 1_wellA1_RI_MIP_stitched\\T500.png\n",
      "loading image from: D:\\xing-vimentin-dic-pipeline\\src\\livecell_dev\\cxa-data\\june_2022_data_8bit_png\\restart_day2_Group 1_wellA1_RI_MIP_stitched\\T500.png\n",
      "dataset_folder_path:  D:\\xing-vimentin-dic-pipeline\\src\\livecell_dev\\cxa-data\\june_2022_data_8bit_png\n",
      "dataset_name:  restart_day2_Group 1_wellA1_RI_MIP_stitched\n",
      "temp:  D:\\xing-vimentin-dic-pipeline\\src\\livecell_dev\\cxa-data\\june_2022_data_8bit_png\\restart_day2_Group 1_wellA1_RI_MIP_stitched\\T550.png\n",
      "loading image from: D:\\xing-vimentin-dic-pipeline\\src\\livecell_dev\\cxa-data\\june_2022_data_8bit_png\\restart_day2_Group 1_wellA1_RI_MIP_stitched\\T550.png\n"
     ]
    },
    {
     "name": "stderr",
     "output_type": "stream",
     "text": [
      "09/09/2022 11:27:54 - INFO - livecell_tracker.annotation.labelme2coco -   Training split in COCO format is exported to labelme2coco_test_output_8bit_png\\train.json\n",
      "09/09/2022 11:27:54 - INFO - livecell_tracker.annotation.labelme2coco -   Validation split in COCO format is exported to labelme2coco_test_output_8bit_png\\val.json\n"
     ]
    }
   ],
   "source": [
    "import livecell_tracker.segment\n",
    "import livecell_tracker.annotation\n",
    "import livecell_tracker.annotation.labelme2coco\n",
    "\n",
    "labelme_json_folder = r\"\"\"D:\\xing-vimentin-dic-pipeline\\src\\livecell_dev\\cxa-data\\cxa_training_data\\annotation_results\"\"\"\n",
    "# dataset_folder_path = r\"\"\"D:\\xing-vimentin-dic-pipeline\\src\\livecell_dev\\cxa-data\\june_2022_data\"\"\"\n",
    "dataset_folder_path = r\"\"\"D:\\xing-vimentin-dic-pipeline\\src\\livecell_dev\\cxa-data\\june_2022_data_8bit_png\"\"\"\n",
    "export_dir = \"./labelme2coco_test_output_8bit_png/\"\n",
    "os.makedirs(export_dir, exist_ok=True)\n",
    "livecell_tracker.annotation.labelme2coco.convert(\n",
    "    labelme_json_folder,\n",
    "    export_dir,\n",
    "    train_split_rate=0.9,\n",
    "    dataset_folder_path=dataset_folder_path,\n",
    "    # is_image_image_in_json_folder=True,\n",
    "    # image_file_ext=\"tif\",\n",
    "    image_file_ext=\"png\",\n",
    ")\n",
    "# livecell_tracker.preprocess.labelme2coco.get_coco_from_labelme_folder(labelme_json_folder)\n"
   ]
  },
  {
   "cell_type": "markdown",
   "metadata": {},
   "source": []
  }
 ],
 "metadata": {
  "kernelspec": {
   "display_name": "Python 3.8.13 ('cv-general')",
   "language": "python",
   "name": "python3"
  },
  "language_info": {
   "codemirror_mode": {
    "name": "ipython",
    "version": 3
   },
   "file_extension": ".py",
   "mimetype": "text/x-python",
   "name": "python",
   "nbconvert_exporter": "python",
   "pygments_lexer": "ipython3",
   "version": "3.8.13"
  },
  "orig_nbformat": 4,
  "vscode": {
   "interpreter": {
    "hash": "b5dfbec2055422cee39dc040b31dfffa8b21a342109231ab17bc6ff9949c7133"
   }
  }
 },
 "nbformat": 4,
 "nbformat_minor": 2
}
