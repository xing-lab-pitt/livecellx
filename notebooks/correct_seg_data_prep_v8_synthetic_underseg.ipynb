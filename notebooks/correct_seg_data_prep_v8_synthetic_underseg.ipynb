{
 "cells": [
  {
   "cell_type": "code",
   "execution_count": null,
   "metadata": {},
   "outputs": [],
   "source": [
    "import numpy as np\n",
    "import json\n",
    "from livecell_tracker.core import (\n",
    "    SingleCellTrajectory,\n",
    "    SingleCellStatic,\n",
    "    SingleCellTrajectoryCollection,\n",
    ")\n",
    "from livecell_tracker.segment.detectron_utils import (\n",
    "    convert_detectron_instance_pred_masks_to_binary_masks,\n",
    "    convert_detectron_instances_to_label_masks,\n",
    "    segment_images_by_detectron,\n",
    "    segment_single_img_by_detectron_wrapper,\n",
    ")\n",
    "from livecell_tracker.core.datasets import LiveCellImageDataset\n",
    "from livecell_tracker.preprocess.utils import (\n",
    "    overlay,\n",
    "    enhance_contrast,\n",
    "    normalize_img_to_uint8,\n",
    ")\n",
    "import matplotlib.pyplot as plt\n",
    "import os\n",
    "from tqdm import tqdm\n",
    "from pathlib import Path\n",
    "import pandas as pd"
   ]
  },
  {
   "cell_type": "markdown",
   "metadata": {},
   "source": [
    "## Convert Labelme Json to COCO Json"
   ]
  },
  {
   "cell_type": "markdown",
   "metadata": {},
   "source": [
    "run the following code once for generating coco json\n",
    "```\n",
    "import livecell_tracker.segment\n",
    "import livecell_tracker.annotation\n",
    "import livecell_tracker.annotation.labelme2coco\n",
    "import os\n",
    "labelme_json_folder = r\"\"\"../datasets/a549_ccnn/annotation_data\"\"\"\n",
    "dataset_folder_path = r\"\"\"../datasets/a549_ccnn/original_data\"\"\"\n",
    "export_dir = \"./notebook_results/correction_cnn_v0.0.0/\"\n",
    "os.makedirs(export_dir, exist_ok=True)\n",
    "livecell_tracker.annotation.labelme2coco.convert(\n",
    "    labelme_json_folder,\n",
    "    export_dir,\n",
    "    train_split_rate=0.9,\n",
    "    dataset_folder_path=dataset_folder_path,\n",
    "    # is_image_in_json_folder=True,\n",
    "    image_file_ext=\"tif\",\n",
    "    # image_file_ext=\"png\",\n",
    ")\n",
    "```"
   ]
  },
  {
   "cell_type": "markdown",
   "metadata": {},
   "source": [
    "## Load COCO into SingleCell Objects"
   ]
  },
  {
   "cell_type": "code",
   "execution_count": null,
   "metadata": {},
   "outputs": [],
   "source": [
    "from pycocotools.coco import COCO\n",
    "\n",
    "# coco_data = COCO(\"../datasets/a549_ccnn/a549_ccnn_coco_v0.0.0/train.json\")\n",
    "# out_dir = Path(\"./notebook_results/a549_ccp_vim/train_data_v8/\")\n",
    "coco_data = COCO(\"../datasets/a549_ccnn/a549_ccnn_coco_v0.0.0/val.json\")\n",
    "out_dir = Path(\"./notebook_results/a549_ccp_vim/test_data_v8/\")\n",
    "\n",
    "coco_data.anns.keys(), coco_data.anns[1].keys(), coco_data.anns[1][\"segmentation\"][0][\n",
    "    :5\n",
    "]\n"
   ]
  },
  {
   "cell_type": "code",
   "execution_count": null,
   "metadata": {},
   "outputs": [],
   "source": [
    "coco_data.imgs.keys(), coco_data.imgs[1].keys(), coco_data.imgs[1][\"file_name\"],\n"
   ]
  },
  {
   "cell_type": "code",
   "execution_count": null,
   "metadata": {},
   "outputs": [],
   "source": [
    "from typing import List\n",
    "\n",
    "from livecell_tracker.annotation.coco_utils import coco_to_sc\n",
    "\n",
    "single_cells = coco_to_sc(coco_data)\n",
    "\n",
    "\n",
    "# # for testing\n",
    "# single_cells = single_cells[:20]\n",
    "\n",
    "fig, axes = plt.subplots(1, 3, figsize=(10, 5))\n",
    "cell_id = 10\n",
    "axes[0].imshow(single_cells[cell_id].get_img_crop(padding=100))\n",
    "axes[1].imshow(single_cells[cell_id].get_contour_mask_closed_form(padding=100))\n",
    "axes[2].imshow(single_cells[cell_id].get_contour_mask(padding=100))\n"
   ]
  },
  {
   "cell_type": "code",
   "execution_count": null,
   "metadata": {},
   "outputs": [],
   "source": [
    "len(single_cells)"
   ]
  },
  {
   "cell_type": "markdown",
   "metadata": {},
   "source": [
    "save a list of single cell objects"
   ]
  },
  {
   "cell_type": "code",
   "execution_count": null,
   "metadata": {},
   "outputs": [],
   "source": [
    "SingleCellStatic.write_single_cells_json(\n",
    "    single_cells, \"../datasets/a549_ccnn/single_cells.json\"\n",
    ")\n"
   ]
  },
  {
   "cell_type": "code",
   "execution_count": null,
   "metadata": {},
   "outputs": [],
   "source": [
    "contour_mask = single_cells[cell_id].get_contour_mask(padding=100)\n",
    "contour_mask.astype(np.uint8)\n"
   ]
  },
  {
   "cell_type": "code",
   "execution_count": null,
   "metadata": {},
   "outputs": [],
   "source": [
    "import cv2 as cv\n",
    "from livecell_tracker.preprocess.utils import dilate_or_erode_mask\n",
    "\n",
    "plt.imshow(dilate_or_erode_mask(contour_mask.astype(np.uint8), 1))\n"
   ]
  },
  {
   "cell_type": "code",
   "execution_count": null,
   "metadata": {},
   "outputs": [],
   "source": [
    "sample_sc = single_cells[cell_id]\n",
    "sample_sc.meta"
   ]
  },
  {
   "cell_type": "code",
   "execution_count": null,
   "metadata": {},
   "outputs": [],
   "source": [
    "import glob\n",
    "\n",
    "raw_img_dataset = sample_sc.img_dataset\n",
    "seg_data_dir = \"../datasets/a549_ccnn/seg_tiles_CCP_A549-VIM_lessThan24hr_Calcein_1mg-ml_DP_Ti2e_2022-9-11\"\n",
    "seg_paths = glob.glob(os.path.join(seg_data_dir, \"*.png\"))\n",
    "print(\"sample seg paths:\", seg_paths[:2])\n",
    "matched_time2seg = {}\n",
    "# for time, img_path in raw_img_dataset.time2url.items():\n",
    "#     substr = os.path.basename(img_path).split(\".\")[0]\n",
    "#     print(\"substr:\", substr)\n",
    "#     for seg_path\n",
    "#     break\n",
    "corrected_indices = []\n",
    "for seg_path in seg_paths:\n",
    "    substr = os.path.basename(seg_path).split(\".\")[0] # get rid of extension\n",
    "    substr = substr[4:]  # get rid of seg_ prefix\n",
    "    img, path, index = raw_img_dataset.get_img_by_url(\n",
    "        substr, return_path_and_time=True, ignore_missing=True\n",
    "    )\n",
    "    if path is None:\n",
    "        print(\"skip due to substr not found:\", substr)\n",
    "        continue\n",
    "    matched_time2seg[index] = seg_path\n",
    "\n",
    "crappy_seg_data = LiveCellImageDataset(time2url=matched_time2seg, ext=\"png\")\n",
    "sample_sc.mask_dataset = crappy_seg_data\n",
    "assert len(crappy_seg_data) == len(raw_img_dataset)\n"
   ]
  },
  {
   "attachments": {},
   "cell_type": "markdown",
   "metadata": {},
   "source": [
    "## Generate Synthetic Undersegmentation data"
   ]
  },
  {
   "cell_type": "code",
   "execution_count": null,
   "metadata": {},
   "outputs": [],
   "source": [
    "sc1 = single_cells[10]\n",
    "sc2 = single_cells[1]\n",
    "\n",
    "padding=20\n",
    "fig, axes = plt.subplots(2, 3, figsize=(10, 5))\n",
    "sc1.show(padding=padding, ax=axes[0][0])\n",
    "sc1.show_contour_img(padding=padding, ax=axes[0][1])\n",
    "sc1.show_contour_mask(padding=padding, ax=axes[0][2])\n",
    "sc2.show(padding=padding, ax=axes[1][0])\n",
    "sc2.show_contour_img(padding=padding, ax=axes[1][1])\n",
    "sc2.show_contour_mask(padding=padding, ax=axes[1][2])"
   ]
  },
  {
   "cell_type": "code",
   "execution_count": null,
   "metadata": {},
   "outputs": [],
   "source": [
    "from livecell_tracker.segment.ou_simulator import combine_two_scs_monte_carlo, compute_distance_by_contour,viz_check_combined_sc_result, gen_gauss_sc_bg, gen_sc_bg_crop, gen_synthetic_nonoverlap_scs, gen_synthetic_overlap_scs, gen_underseg_scs_sample, gen_aug_diff_mask, gen_underseg_scs, _gen_underseg_scs_sample_wrapper, compute_two_contours_min_distance, merge_two_scs_nonoverlap, merge_two_scs_overlap, move_util_in_range"
   ]
  },
  {
   "cell_type": "markdown",
   "metadata": {},
   "source": [
    "combine two scs using monte carlo"
   ]
  },
  {
   "cell_type": "code",
   "execution_count": null,
   "metadata": {},
   "outputs": [],
   "source": [
    "# bg_scale = 3.0\n",
    "\n",
    "# for i in range(4):\n",
    "#     new_sc1, new_sc2 = combine_two_scs_monte_carlo(sc1, sc2, bg_img=None)\n",
    "#     viz_check_combined_sc_result(new_sc1, new_sc2)\n",
    "\n",
    "# for i in range(4):\n",
    "#     new_sc1, new_sc2 = combine_two_scs_monte_carlo(sc1, sc2, bg_img=None, fix_sc1=True)\n",
    "#     viz_check_combined_sc_result(new_sc1, new_sc2)"
   ]
  },
  {
   "cell_type": "code",
   "execution_count": null,
   "metadata": {},
   "outputs": [],
   "source": [
    "# viz_check_combined_sc_result(new_sc1, new_sc2)"
   ]
  },
  {
   "attachments": {},
   "cell_type": "markdown",
   "metadata": {},
   "source": [
    "check overseg synthesis"
   ]
  },
  {
   "cell_type": "code",
   "execution_count": null,
   "metadata": {},
   "outputs": [],
   "source": [
    "# # check results\n",
    "# for i in tqdm(range(4)):\n",
    "#     new_sc1, new_sc2, _, is_success = gen_synthetic_overlap_scs(sc1, sc2)\n",
    "#     viz_check_combined_sc_result(new_sc1, new_sc2)"
   ]
  },
  {
   "attachments": {},
   "cell_type": "markdown",
   "metadata": {},
   "source": [
    "### Generate synthetic non-overlapping underseg cells "
   ]
  },
  {
   "attachments": {},
   "cell_type": "markdown",
   "metadata": {},
   "source": [
    "example: compute distance of two single cells"
   ]
  },
  {
   "cell_type": "code",
   "execution_count": null,
   "metadata": {},
   "outputs": [],
   "source": [
    "\n",
    "sc3 = single_cells[3]\n",
    "# fig, axes = plt.subplots(1, 3, figsize=(10, 5))\n",
    "# sc1.show_contour_img(ax=axes[0], padding=10000)\n",
    "# sc2.show_contour_img(ax=axes[1], padding=10000)\n",
    "# sc3.show_contour_img(ax=axes[2], padding=10000)\n",
    "\n",
    "\n",
    "compute_distance_by_contour(sc1, sc2), compute_distance_by_contour(sc1, sc3), compute_distance_by_contour(sc2, sc3)"
   ]
  },
  {
   "attachments": {},
   "cell_type": "markdown",
   "metadata": {},
   "source": [
    "example: generate a gaussian background"
   ]
  },
  {
   "cell_type": "code",
   "execution_count": null,
   "metadata": {},
   "outputs": [],
   "source": [
    "plt.imshow(gen_gauss_sc_bg(sc1, (512, 512)))"
   ]
  },
  {
   "attachments": {},
   "cell_type": "markdown",
   "metadata": {},
   "source": [
    "example: generate a backgroudn according to bg"
   ]
  },
  {
   "cell_type": "code",
   "execution_count": null,
   "metadata": {},
   "outputs": [],
   "source": [
    "\n",
    "plt.imshow(gen_sc_bg_crop(sc1, (512, 512)))"
   ]
  },
  {
   "cell_type": "code",
   "execution_count": null,
   "metadata": {},
   "outputs": [],
   "source": [
    "\n",
    "\n",
    "# # check results\n",
    "# min_dist = 30\n",
    "# max_dist = 100\n",
    "# for i in tqdm(range(2)):\n",
    "#     new_sc1, new_sc2, _, is_success = gen_synthetic_nonoverlap_scs(sc1, sc2, gen_bg_func=gen_sc_bg_crop, min_dist=min_dist, max_dist=max_dist, dist_per_move=30)\n",
    "#     viz_check_combined_sc_result(new_sc1, new_sc2)\n",
    "\n",
    "# for i in tqdm(range(2)):\n",
    "#     new_sc1, new_sc2, _, is_success = gen_synthetic_nonoverlap_scs(sc1, sc2, gen_bg_func=gen_gauss_sc_bg, min_dist=min_dist, max_dist=max_dist, dist_per_move=30)\n",
    "#     viz_check_combined_sc_result(new_sc1, new_sc2)"
   ]
  },
  {
   "attachments": {},
   "cell_type": "markdown",
   "metadata": {},
   "source": [
    "example: generate nonoverlap scs and move them together"
   ]
  },
  {
   "cell_type": "code",
   "execution_count": null,
   "metadata": {},
   "outputs": [],
   "source": [
    "import random\n",
    "# for i in tqdm(range(20)):\n",
    "#     # randomly choose sc1 and sc2\n",
    "#     sc1, sc2 = random.sample(single_cells, 2)\n",
    "#     new_sc1, new_sc2, _, is_success = gen_synthetic_nonoverlap_scs(sc1, sc2, gen_bg_func=gen_gauss_sc_bg, min_dist=10, max_dist=1000,  min_reserved_area_percent=1)\n",
    "#     viz_check_combined_sc_result(new_sc1, new_sc2)\n",
    "#     # move_two_syn_scs_close_or_apart(new_sc1, new_sc2, dist=40, bg_img=gen_gauss_sc_bg(new_sc1, shape=new_sc1.get_img().shape), inplace=True)\n",
    "#     move_util_in_range(new_sc1, new_sc2, dist_per_move=30, bg_img=gen_gauss_sc_bg(new_sc1, shape=new_sc1.get_img().shape), min_dist=10, max_dist=40, inplace=True, max_move=100)\n",
    "#     viz_check_combined_sc_result(new_sc1, new_sc2)"
   ]
  },
  {
   "cell_type": "code",
   "execution_count": null,
   "metadata": {},
   "outputs": [],
   "source": [
    "from typing import Tuple\n",
    "from skimage.measure import regionprops\n",
    "import pandas as pd\n",
    "from livecell_tracker.core.io_utils import save_tiff\n",
    "from livecell_tracker.segment.ou_utils import csn_augment_helper, underseg_overlay_gt_masks, gen_aug_diff_mask\n"
   ]
  },
  {
   "attachments": {},
   "cell_type": "markdown",
   "metadata": {},
   "source": [
    "check sc areas \n",
    "```\n",
    "for sc in single_cells:\n",
    "    prop = sc.compute_regionprops()\n",
    "    assert prop.area > 5\n",
    "```"
   ]
  },
  {
   "cell_type": "code",
   "execution_count": null,
   "metadata": {},
   "outputs": [],
   "source": [
    "import itertools\n",
    "from skimage.measure import find_contours\n",
    "import cv2"
   ]
  },
  {
   "attachments": {},
   "cell_type": "markdown",
   "metadata": {},
   "source": [
    "Viz merge two cells"
   ]
  },
  {
   "attachments": {},
   "cell_type": "markdown",
   "metadata": {},
   "source": [
    "Overlap case"
   ]
  },
  {
   "cell_type": "code",
   "execution_count": null,
   "metadata": {},
   "outputs": [],
   "source": [
    "new_sc1, new_sc2, _, _ = gen_synthetic_overlap_scs(sc1, sc2, min_reserved_area_percent=1)\n",
    "sc3, is_success = merge_two_scs_overlap(new_sc1, new_sc2)\n",
    "if is_success:\n",
    "    sc3.show()"
   ]
  },
  {
   "attachments": {},
   "cell_type": "markdown",
   "metadata": {},
   "source": [
    "Nonoverlap case"
   ]
  },
  {
   "cell_type": "code",
   "execution_count": null,
   "metadata": {},
   "outputs": [],
   "source": [
    "for i in range(1):\n",
    "    sc1, sc2 = random.sample(single_cells, 2)\n",
    "    new_sc1, new_sc2, _, _ = gen_synthetic_nonoverlap_scs(sc1, sc2, gen_bg_func=gen_gauss_sc_bg, min_dist=10, max_dist=50, bg_scale=2, min_reserved_area_percent=1)\n",
    "    sc3, is_success = merge_two_scs_nonoverlap(new_sc1, new_sc2)\n",
    "    if is_success:\n",
    "        sc3.show()\n",
    "        plt.show()"
   ]
  },
  {
   "attachments": {},
   "cell_type": "markdown",
   "metadata": {},
   "source": [
    "show nonoverlap merge case: merge by dilation. sc3 represents a generated under-segmentation case."
   ]
  },
  {
   "cell_type": "code",
   "execution_count": null,
   "metadata": {},
   "outputs": [],
   "source": [
    "new_sc1, new_sc2, _, _ = gen_synthetic_nonoverlap_scs(sc1, sc2, gen_bg_func=gen_sc_bg_crop)\n",
    "sc3, is_success = merge_two_scs_nonoverlap(new_sc1, new_sc2)\n",
    "if is_success:\n",
    "    fig, axes = plt.subplots(1, 4)\n",
    "    padding = 100\n",
    "    new_sc1.show_mask(ax=axes[0], crop=True, padding=padding)\n",
    "    axes[0].set_title(\"sc1\")\n",
    "    new_sc2.show_mask(ax=axes[1], crop=True, padding=padding)\n",
    "    axes[1].set_title(\"sc2\")\n",
    "    sc3.show_mask(ax=axes[2], crop=True, padding=padding)\n",
    "    axes[2].set_title(\"sc3\")\n",
    "\n",
    "    axes[3].imshow(new_sc1.get_mask() + new_sc2.get_mask())\n"
   ]
  },
  {
   "cell_type": "code",
   "execution_count": null,
   "metadata": {},
   "outputs": [],
   "source": [
    "def test_gen_underseg_scs():\n",
    "    subdir = Path(\"synthetic_underseg_overlap\")\n",
    "    underseg_out_dir = out_dir / subdir\n",
    "    gen_underseg_scs(scs=single_cells, save_dir=underseg_out_dir, sample_id_offset=0, num_cells=4, total_sample_num=1)\n",
    "    gen_underseg_scs(scs=single_cells, save_dir=underseg_out_dir, sample_id_offset=1, num_cells=4, total_sample_num=1)\n",
    "\n",
    "def gen_syn_overlap_underseg_data_v8(sample_num=10):\n",
    "    subdir = Path(\"synthetic_underseg_overlap\")\n",
    "    underseg_out_dir = out_dir / subdir\n",
    "    # generate training data\n",
    "    gen_underseg_scs(scs=single_cells, save_dir=underseg_out_dir, sample_id_offset=0, num_cells=4, total_sample_num=sample_num)\n",
    "    gen_underseg_scs(scs=single_cells, save_dir=underseg_out_dir, sample_id_offset=sample_num, num_cells=3, total_sample_num=sample_num)\n",
    "    gen_underseg_scs(scs=single_cells, save_dir=underseg_out_dir, sample_id_offset=sample_num * 2, num_cells=2, total_sample_num=sample_num * 2)\n",
    "\n",
    "\n",
    "def gen_syn_overlap_underseg_test_data_v8(sample_num = 100):\n",
    "    def _save_all_df(all_df):\n",
    "        all_df.to_csv(out_dir / \"synthetic_underseg_overlap\" / \"data.csv\", index=False)\n",
    "\n",
    "    subdir = Path(\"synthetic_underseg_overlap\")\n",
    "    underseg_out_dir = out_dir / subdir\n",
    "    # generate training data\n",
    "    all_df = gen_underseg_scs(scs=single_cells, save_dir=underseg_out_dir, sample_id_offset=0, num_cells=4, total_sample_num=sample_num)\n",
    "    _save_all_df(all_df)\n",
    "    df = gen_underseg_scs(scs=single_cells, save_dir=underseg_out_dir, sample_id_offset=sample_num, num_cells=3, total_sample_num=sample_num)\n",
    "    all_df = pd.concat([all_df, df], ignore_index=True)\n",
    "    _save_all_df(all_df)\n",
    "    df = gen_underseg_scs(scs=single_cells, save_dir=underseg_out_dir, sample_id_offset=sample_num * 2, num_cells=2, total_sample_num=sample_num * 2)\n",
    "    all_df = pd.concat([all_df, df], ignore_index=True)\n",
    "    _save_all_df(all_df)\n",
    "\n",
    "\n",
    "\n",
    "def gen_syn_nonoverlap_underseg_train_data(gen_bg_func, subdir, sample_num = 10):\n",
    "    underseg_out_dir = out_dir / subdir\n",
    "    def _save_all_df(all_df):\n",
    "        all_df.to_csv(underseg_out_dir / \"data.csv\", index=False)\n",
    "\n",
    "    # generate training data    \n",
    "    generator_args = {\n",
    "        \"min_dist\": 3,\n",
    "        \"max_dist\": 20,\n",
    "        \"bg_scale\": 3,\n",
    "        \"gen_bg_func\": gen_bg_func\n",
    "    }\n",
    "    all_df = gen_underseg_scs(scs=single_cells, save_dir=underseg_out_dir, sample_id_offset=0, num_cells=4, total_sample_num=sample_num, sc_generator_func=gen_synthetic_nonoverlap_scs, sc_generator_func_kwargs=generator_args, merge_func=merge_two_scs_nonoverlap)\n",
    "    _save_all_df(all_df)\n",
    "    df = gen_underseg_scs(scs=single_cells, save_dir=underseg_out_dir, sample_id_offset=sample_num, num_cells=3, total_sample_num=sample_num, sc_generator_func=gen_synthetic_nonoverlap_scs, sc_generator_func_kwargs=generator_args, merge_func=merge_two_scs_nonoverlap)\n",
    "    all_df = pd.concat([all_df, df], ignore_index=True)\n",
    "    _save_all_df(all_df)\n",
    "    df = gen_underseg_scs(scs=single_cells, save_dir=underseg_out_dir, sample_id_offset=sample_num * 2, num_cells=2, total_sample_num=sample_num * 2, sc_generator_func=gen_synthetic_nonoverlap_scs, sc_generator_func_kwargs=generator_args, merge_func=merge_two_scs_nonoverlap)\n",
    "    all_df = pd.concat([all_df, df], ignore_index=True)\n",
    "    _save_all_df(all_df)\n"
   ]
  },
  {
   "attachments": {},
   "cell_type": "markdown",
   "metadata": {},
   "source": [
    "Single core version for testing"
   ]
  },
  {
   "attachments": {},
   "cell_type": "markdown",
   "metadata": {},
   "source": [
    "check if each single cell has mask ground truth information"
   ]
  },
  {
   "cell_type": "code",
   "execution_count": null,
   "metadata": {},
   "outputs": [],
   "source": [
    "for sc in single_cells:\n",
    "    assert (sc.mask_dataset is not None) or (sc.contour is not None)"
   ]
  },
  {
   "cell_type": "code",
   "execution_count": null,
   "metadata": {},
   "outputs": [],
   "source": [
    "# for i in range(50):\n",
    "#     tmp_scs = random.sample(single_cells, 3)\n",
    "#     gen_underseg_scs_sample(scs=tmp_scs, num_cells=3, viz_check=True, sc_generator_func=gen_synthetic_nonoverlap_scs, sc_generator_func_kwargs={\"min_dist\": 1, \"max_dist\": 20, \"bg_scale\": 3, \"gen_bg_func\": gen_gauss_sc_bg}, merge_func=merge_two_scs_nonoverlap)"
   ]
  },
  {
   "cell_type": "code",
   "execution_count": null,
   "metadata": {},
   "outputs": [],
   "source": [
    "def test_gen():\n",
    "    subdir = Path(\"synthetic_underseg_nonoverlap_test\")\n",
    "    underseg_out_dir = out_dir / subdir\n",
    "    generator_args = {\"min_dist\": 10, \"max_dist\": 30, \"bg_scale\": 3, \"gen_bg_func\": gen_gauss_sc_bg}\n",
    "    df = gen_underseg_scs(\n",
    "        scs=single_cells,\n",
    "        save_dir=underseg_out_dir,\n",
    "        sample_id_offset=0,\n",
    "        num_cells=3,\n",
    "        total_sample_num=50,\n",
    "        sc_generator_func=gen_synthetic_nonoverlap_scs,\n",
    "        sc_generator_func_kwargs=generator_args,\n",
    "        merge_func=merge_two_scs_nonoverlap,\n",
    "        viz_check=True,\n",
    "        parallel=False,\n",
    "    )\n"
   ]
  },
  {
   "cell_type": "code",
   "execution_count": null,
   "metadata": {},
   "outputs": [],
   "source": [
    "# test_gen()"
   ]
  },
  {
   "cell_type": "code",
   "execution_count": null,
   "metadata": {},
   "outputs": [],
   "source": [
    "# train data\n",
    "# gen_syn_nonoverlap_underseg_train_data(gen_bg_func=gen_gauss_sc_bg, subdir=Path(\"synthetic_underseg_nonoverlap_gauss\"), sample_num=500);\n",
    "\n",
    "# test data\n",
    "gen_syn_nonoverlap_underseg_train_data(gen_bg_func=gen_gauss_sc_bg, subdir=Path(\"synthetic_underseg_nonoverlap_gauss\"), sample_num=100)"
   ]
  },
  {
   "cell_type": "code",
   "execution_count": null,
   "metadata": {},
   "outputs": [],
   "source": [
    "# gen_syn_underseg_data_v8(sample_num=1000)\n",
    "# gen_syn_overlap_underseg_test_data_v8()"
   ]
  },
  {
   "cell_type": "code",
   "execution_count": null,
   "metadata": {},
   "outputs": [],
   "source": [
    "# gen_underseg_scs(scs=single_cells, total_sample_num=5, save_dir=None, num_cells=3, viz_check=True)"
   ]
  },
  {
   "cell_type": "code",
   "execution_count": null,
   "metadata": {},
   "outputs": [],
   "source": [
    "# gen_underseg_scs(scs=single_cells, total_sample_num=5, save_dir=None, num_cells=2, viz_check=True)"
   ]
  },
  {
   "cell_type": "code",
   "execution_count": null,
   "metadata": {},
   "outputs": [],
   "source": [
    "dataframes = []\n",
    "for subdir in out_dir.iterdir():\n",
    "    if subdir.is_dir():\n",
    "        data_path = subdir / \"data.csv\"\n",
    "        dataframe = pd.read_csv(data_path)\n",
    "        dataframe[\"subdir\"] = subdir.name\n",
    "        dataframes.append(dataframe)\n",
    "combined_dataframe = pd.concat(dataframes)\n",
    "combined_dataframe.to_csv(out_dir / \"train_data.csv\", index=False)"
   ]
  },
  {
   "attachments": {},
   "cell_type": "markdown",
   "metadata": {},
   "source": [
    "Now we need to handle two cases:\n",
    "1) there is any overlap between two objects  \n",
    "    a) simply dilate and create underseg cases  \n",
    "2) there is no overlap (future work) \n",
    "    b) fill in the pixels in-between the two objects  \n",
    "    c) "
   ]
  },
  {
   "attachments": {},
   "cell_type": "markdown",
   "metadata": {},
   "source": [
    "## Combine data.csv files generated in each subfolder"
   ]
  },
  {
   "cell_type": "code",
   "execution_count": null,
   "metadata": {},
   "outputs": [],
   "source": [
    "dataframes = []\n",
    "for subdir in out_dir.iterdir():\n",
    "    if subdir.is_dir():\n",
    "        data_path = subdir / \"data.csv\"\n",
    "        dataframe = pd.read_csv(data_path)\n",
    "        dataframe[\"subdir\"] = subdir.name\n",
    "        dataframes.append(dataframe)\n",
    "combined_dataframe = pd.concat(dataframes)\n",
    "combined_dataframe.to_csv(out_dir / \"train_data.csv\", index=False)"
   ]
  },
  {
   "cell_type": "code",
   "execution_count": null,
   "metadata": {},
   "outputs": [],
   "source": [
    "len(combined_dataframe)"
   ]
  }
 ],
 "metadata": {
  "kernelspec": {
   "display_name": "livecell",
   "language": "python",
   "name": "python3"
  },
  "language_info": {
   "codemirror_mode": {
    "name": "ipython",
    "version": 3
   },
   "file_extension": ".py",
   "mimetype": "text/x-python",
   "name": "python",
   "nbconvert_exporter": "python",
   "pygments_lexer": "ipython3",
   "version": "3.10.8"
  },
  "orig_nbformat": 4,
  "vscode": {
   "interpreter": {
    "hash": "d9c7226d793827cd27273ad20fbb4775c3cb91053ab9378a09de5f8c6f258919"
   }
  }
 },
 "nbformat": 4,
 "nbformat_minor": 2
}
