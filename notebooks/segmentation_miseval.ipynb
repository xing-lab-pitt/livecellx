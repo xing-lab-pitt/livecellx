{
 "cells": [
  {
   "cell_type": "markdown",
   "metadata": {},
   "source": [
    "## Evaluation by Miseval"
   ]
  },
  {
   "cell_type": "code",
   "execution_count": 1,
   "metadata": {},
   "outputs": [],
   "source": [
    "from typing import Dict\n",
    "from miseval import evaluate\n",
    "import numpy as np\n",
    "from pathlib import Path\n",
    "from livecell_tracker.core.datasets import LiveCellImageDataset\n",
    "def eval_miseval(gt_img: np.array, pred_img: np.array, miseval_eval_kwargs: Dict):\n",
    "    dice_list = evaluate(gt_img, pred_img, **miseval_eval_kwargs)\n",
    "\n",
    "gt_dir = Path(\"../cxa-data/test_data/seg_eval/gt\")\n",
    "pred_dir = Path(\"../cxa-data/test_data/seg_eval/pred\")\n",
    "\n",
    "LiveCellImageDataset()\n",
    "miseval_eval_kwargs = dict(metric=\"DSC\", multi_class=True, n_classes=5)"
   ]
  }
 ],
 "metadata": {
  "kernelspec": {
   "display_name": "Python 3.8.13 ('cv-general')",
   "language": "python",
   "name": "python3"
  },
  "language_info": {
   "codemirror_mode": {
    "name": "ipython",
    "version": 3
   },
   "file_extension": ".py",
   "mimetype": "text/x-python",
   "name": "python",
   "nbconvert_exporter": "python",
   "pygments_lexer": "ipython3",
   "version": "3.8.13"
  },
  "orig_nbformat": 4,
  "vscode": {
   "interpreter": {
    "hash": "b5dfbec2055422cee39dc040b31dfffa8b21a342109231ab17bc6ff9949c7133"
   }
  }
 },
 "nbformat": 4,
 "nbformat_minor": 2
}
