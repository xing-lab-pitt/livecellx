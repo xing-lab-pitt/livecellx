{
 "cells": [
  {
   "cell_type": "code",
   "execution_count": 2,
   "metadata": {},
   "outputs": [],
   "source": [
    "import btrack"
   ]
  },
  {
   "cell_type": "code",
   "execution_count": 4,
   "metadata": {},
   "outputs": [
    {
     "name": "stderr",
     "output_type": "stream",
     "text": [
      "Downloading data from 'https://raw.githubusercontent.com/lowe-lab-ucl/btrack-examples/main/registry.txt' to file 'C:\\Users\\dummy\\AppData\\Local\\btrack-examples\\btrack-examples\\Cache\\76e32f5bf79418e63bc091adc2fd4736-registry.txt'.\n",
      "Downloading file 'examples/cell_config.json' from 'https://raw.githubusercontent.com/lowe-lab-ucl/btrack-examples/main/examples/cell_config.json' to 'C:\\Users\\dummy\\AppData\\Local\\btrack-examples\\btrack-examples\\Cache'.\n"
     ]
    }
   ],
   "source": [
    "from btrack import datasets as btrack_datasets\n",
    "CONFIG_FILE = btrack_datasets.cell_config()"
   ]
  },
  {
   "cell_type": "code",
   "execution_count": 5,
   "metadata": {},
   "outputs": [
    {
     "data": {
      "text/plain": [
       "'C:\\\\Users\\\\dummy\\\\AppData\\\\Local\\\\btrack-examples\\\\btrack-examples\\\\Cache\\\\examples\\\\cell_config.json'"
      ]
     },
     "execution_count": 5,
     "metadata": {},
     "output_type": "execute_result"
    }
   ],
   "source": [
    "CONFIG_FILE"
   ]
  },
  {
   "cell_type": "code",
   "execution_count": 6,
   "metadata": {},
   "outputs": [
    {
     "name": "stderr",
     "output_type": "stream",
     "text": [
      "[INFO][2022/10/24 11:55:24 PM] Loaded btrack: c:\\Users\\dummy\\Anaconda3\\envs\\cv-general\\lib\\site-packages\\btrack\\libs\\libtracker.DLL\n",
      "[INFO][2022/10/24 11:55:24 PM] btrack (v0.4.6) library imported\n",
      "[INFO][2022/10/24 11:55:24 PM] Starting BayesianTracker session\n",
      "[INFO][2022/10/24 11:55:24 PM] Loading configuration file: C:\\Users\\dummy\\AppData\\Local\\btrack-examples\\btrack-examples\\Cache\\examples\\cell_config.json\n",
      "[INFO][2022/10/24 11:55:24 PM] Ending BayesianTracker session\n"
     ]
    },
    {
     "ename": "NameError",
     "evalue": "name 'objects' is not defined",
     "output_type": "error",
     "traceback": [
      "\u001b[1;31m---------------------------------------------------------------------------\u001b[0m",
      "\u001b[1;31mNameError\u001b[0m                                 Traceback (most recent call last)",
      "\u001b[1;32md:\\LiveCellTracker-dev\\notebooks\\track_btrack.ipynb Cell 4\u001b[0m in \u001b[0;36m<cell line: 10>\u001b[1;34m()\u001b[0m\n\u001b[0;32m     <a href='vscode-notebook-cell:/d%3A/LiveCellTracker-dev/notebooks/track_btrack.ipynb#W1sZmlsZQ%3D%3D?line=15'>16</a>\u001b[0m tracker\u001b[39m.\u001b[39mfeatures \u001b[39m=\u001b[39m FEATURES\n\u001b[0;32m     <a href='vscode-notebook-cell:/d%3A/LiveCellTracker-dev/notebooks/track_btrack.ipynb#W1sZmlsZQ%3D%3D?line=17'>18</a>\u001b[0m \u001b[39m# append the objects to be tracked\u001b[39;00m\n\u001b[1;32m---> <a href='vscode-notebook-cell:/d%3A/LiveCellTracker-dev/notebooks/track_btrack.ipynb#W1sZmlsZQ%3D%3D?line=18'>19</a>\u001b[0m tracker\u001b[39m.\u001b[39mappend(objects)\n\u001b[0;32m     <a href='vscode-notebook-cell:/d%3A/LiveCellTracker-dev/notebooks/track_btrack.ipynb#W1sZmlsZQ%3D%3D?line=20'>21</a>\u001b[0m \u001b[39m# set the tracking volume\u001b[39;00m\n\u001b[0;32m     <a href='vscode-notebook-cell:/d%3A/LiveCellTracker-dev/notebooks/track_btrack.ipynb#W1sZmlsZQ%3D%3D?line=21'>22</a>\u001b[0m tracker\u001b[39m.\u001b[39mvolume\u001b[39m=\u001b[39m((\u001b[39m0\u001b[39m, \u001b[39m1600\u001b[39m), (\u001b[39m0\u001b[39m, \u001b[39m1200\u001b[39m))\n",
      "\u001b[1;31mNameError\u001b[0m: name 'objects' is not defined"
     ]
    }
   ],
   "source": [
    "FEATURES = [\n",
    "    \"area\", \n",
    "    \"major_axis_length\", \n",
    "    \"minor_axis_length\", \n",
    "    \"orientation\", \n",
    "    \"solidity\"\n",
    "]\n",
    "\n",
    "# initialise a tracker session using a context manager\n",
    "with btrack.BayesianTracker() as tracker:\n",
    "    # configure the tracker using a config file\n",
    "    tracker.configure(CONFIG_FILE)\n",
    "    tracker.max_search_radius = 50\n",
    "    tracker.tracking_updates = [\"MOTION\", \"VISUAL\"]\n",
    "    tracker.features = FEATURES\n",
    "\n",
    "    # append the objects to be tracked\n",
    "    tracker.append(objects)\n",
    "\n",
    "    # set the tracking volume\n",
    "    tracker.volume=((0, 1600), (0, 1200))\n",
    "\n",
    "    # track them (in interactive mode)\n",
    "    tracker.track(step_size=100)\n",
    "\n",
    "    # generate hypotheses and run the global optimizer\n",
    "    tracker.optimize()\n",
    "\n",
    "    # get the tracks in a format for napari visualization\n",
    "    data, properties, graph = tracker.to_napari()\n",
    "    \n",
    "    # store the tracks\n",
    "    tracks = tracker.tracks\n",
    "    \n",
    "    # store the configuration\n",
    "    cfg = tracker.configuration\n",
    "    \n",
    "    # export the track data "
   ]
  }
 ],
 "metadata": {
  "kernelspec": {
   "display_name": "Python 3.8.13 ('cv-general')",
   "language": "python",
   "name": "python3"
  },
  "language_info": {
   "codemirror_mode": {
    "name": "ipython",
    "version": 3
   },
   "file_extension": ".py",
   "mimetype": "text/x-python",
   "name": "python",
   "nbconvert_exporter": "python",
   "pygments_lexer": "ipython3",
   "version": "3.8.13"
  },
  "orig_nbformat": 4,
  "vscode": {
   "interpreter": {
    "hash": "b5dfbec2055422cee39dc040b31dfffa8b21a342109231ab17bc6ff9949c7133"
   }
  }
 },
 "nbformat": 4,
 "nbformat_minor": 2
}
