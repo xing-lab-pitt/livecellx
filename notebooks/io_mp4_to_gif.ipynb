{
 "cells": [
  {
   "cell_type": "code",
   "execution_count": null,
   "metadata": {},
   "outputs": [],
   "source": [
    "!pip install moviepy"
   ]
  },
  {
   "cell_type": "code",
   "execution_count": null,
   "metadata": {},
   "outputs": [],
   "source": [
    "# Import required libraries\n",
    "from pathlib import Path\n",
    "import moviepy.editor as mp\n",
    "import os\n",
    "\n",
    "# Set input and output file paths\n",
    "input_path = 'input.mp4'\n",
    "output_path = 'output_temp.gif'\n",
    "\n",
    "def convert_mp4_to_gif(input_path, output_path, fps=10):\n",
    "    # Load video file using moviepy\n",
    "    clip = mp.VideoFileClip(input_path)\n",
    "\n",
    "    # Convert video to GIF\n",
    "    clip.write_gif(output_path, fps=fps)\n",
    "\n",
    "    # Check if output file exists\n",
    "    if os.path.exists(output_path):\n",
    "        print('GIF conversion successful!')\n",
    "    else:\n",
    "        print('GIF conversion failed.')\n",
    "\n",
    "input_paths = [r\"D:\\LiveCellTracker-dev\\notebooks\\notebook_results\\mmaction_train_data_v10-drop-div\\videos\\train_mitosis_1_raw_padding-50.mp4\",\n",
    "               r\"D:\\LiveCellTracker-dev\\notebooks\\notebook_results\\mmaction_train_data_v10-drop-div\\videos\\train_mitosis_1_combined_padding-50.mp4\",\n",
    "               r\"D:\\LiveCellTracker-dev\\notebooks\\notebook_results\\mmaction_train_data_v10-drop-div\\videos\\train_mitosis_1_mask_padding-50.mp4\",\n",
    "                r\"D:\\LiveCellTracker-dev\\notebooks\\notebook_results\\mmaction_train_data_v10-drop-div\\videos\\train_mitosis_2_raw_padding-50.mp4\",\n",
    "               r\"D:\\LiveCellTracker-dev\\notebooks\\notebook_results\\mmaction_train_data_v10-drop-div\\videos\\train_mitosis_2_combined_padding-50.mp4\",\n",
    "               r\"D:\\LiveCellTracker-dev\\notebooks\\notebook_results\\mmaction_train_data_v10-drop-div\\videos\\train_mitosis_2_mask_padding-50.mp4\"]\n",
    "\n",
    "\n",
    "output_dir = Path(\"gif_out\")\n",
    "output_dir.mkdir(exist_ok=True)\n",
    "for input_path in input_paths:\n",
    "    output_path = output_dir / Path(input_path).name.replace(\".mp4\", \".gif\")\n",
    "    convert_mp4_to_gif(input_path, output_path)"
   ]
  }
 ],
 "metadata": {
  "kernelspec": {
   "display_name": "livecell-work",
   "language": "python",
   "name": "python3"
  },
  "language_info": {
   "codemirror_mode": {
    "name": "ipython",
    "version": 3
   },
   "file_extension": ".py",
   "mimetype": "text/x-python",
   "name": "python",
   "nbconvert_exporter": "python",
   "pygments_lexer": "ipython3",
   "version": "3.9.16"
  },
  "orig_nbformat": 4
 },
 "nbformat": 4,
 "nbformat_minor": 2
}
