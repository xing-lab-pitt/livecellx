{
 "cells": [
  {
   "cell_type": "code",
   "execution_count": null,
   "metadata": {},
   "outputs": [],
   "source": [
    "from pathlib import Path\n",
    "import os.path"
   ]
  },
  {
   "cell_type": "code",
   "execution_count": null,
   "metadata": {},
   "outputs": [],
   "source": [
    "out_dir = Path(\"./figure_mitosis_trajs_viz_Nikon_and_CXA_3-4_2024\")\n",
    "out_dir.mkdir(exist_ok=True)"
   ]
  },
  {
   "cell_type": "code",
   "execution_count": null,
   "metadata": {},
   "outputs": [],
   "source": [
    "from livecellx.track.classify_utils import load_class2samples_from_json_dir, load_all_json_dirs\n",
    "\n",
    "\n",
    "sample_json_dirs_v0 = [Path(r\"../datasets/test_scs_EBSS_starvation/XY1/annotations\"), Path(r\"./datasets/test_scs_EBSS_starvation/XY16/annotations\")]\n",
    "round1_json_dirs = sample_json_dirs_v0 + [\n",
    "    Path(r\"../datasets/mitosis-annotations-2023/shiman_XY01/XY01\"),\n",
    "Path(r\"../datasets/mitosis-annotations-2023/shiman_XY09/XY09\"),\n",
    "Path(r\"../datasets/mitosis-annotations-2023/shiman_XY10/XY10\"),\n",
    "Path(r\"../datasets/mitosis-annotations-2023/Yajushi/tifs_CFP_A549-VIM_lessThan24hr_NoTreat_NA_YL_Ti2e_2022-10-19/XY1/annotations\"),\n",
    "]\n",
    "\n",
    "round2_json_dirs = [\n",
    "Path(r\"../datasets/mitosis-annotations-2023/shiman_CXA_high_density/C0.5^4/\"),\n",
    "Path(r\"../datasets/mitosis-annotations-2023/shiman_CXA_high_density/C0.75^4/\"),\n",
    "Path(r\"../datasets/mitosis-annotations-2023/shiman_CXA_high_density/C10^3/\"),\\\n",
    "Path(r\"../datasets/mitosis-annotations-2023/shiman_CXA_high_density/C10^4/\")\n",
    "] + [\n",
    "    Path(f\"../datasets/mitosis-annotations-2023/Gaohan_tifs_CFP_A549-VIM_lessThan24hr_NoTreat_NA_YL_Ti2e_2022-10-19/XY{pos}/annotations\") for pos in range(4, 14)\n",
    "]\n",
    "\n",
    "cxa_annotation_dirs = [\n",
    "Path(r\"../datasets/mitosis-annotations-2023/shiman_CXA_high_density/C0.5^4/\"),\n",
    "Path(r\"../datasets/mitosis-annotations-2023/shiman_CXA_high_density/C0.75^4/\"),\n",
    "Path(r\"../datasets/mitosis-annotations-2023/shiman_CXA_high_density/C10^3/\"),\\\n",
    "Path(r\"../datasets/mitosis-annotations-2023/shiman_CXA_high_density/C10^4/\")\n",
    "] + [\n",
    "    Path(r\"../datasets/mitosis-annotations-2023/shiman_CXA_normal/0.25^4/\"),\n",
    "    Path(r\"../datasets/mitosis-annotations-2023/shiman_CXA_normal/C0.5^4/\"),\n",
    "    Path(r\"../datasets/mitosis-annotations-2023/shiman_CXA_normal/C10^3/\")\n",
    "]\n",
    "sample_json_dirs = set(sample_json_dirs_v0 + round1_json_dirs + round2_json_dirs + cxa_annotation_dirs)\n",
    "all_class2samples, all_class2sample_extra_info = load_all_json_dirs(sample_json_dirs)"
   ]
  },
  {
   "cell_type": "code",
   "execution_count": null,
   "metadata": {},
   "outputs": [],
   "source": [
    "all_class2samples[\"mitosis\"][0][0].meta"
   ]
  },
  {
   "cell_type": "code",
   "execution_count": null,
   "metadata": {},
   "outputs": [],
   "source": [
    "for key in all_class2samples:\n",
    "    print(key, len(all_class2samples[key]))"
   ]
  },
  {
   "cell_type": "code",
   "execution_count": null,
   "metadata": {},
   "outputs": [],
   "source": [
    "mitosis_sampels = all_class2samples[\"mitosis\"]\n",
    "mitosis_sampels[0][0].meta"
   ]
  },
  {
   "cell_type": "markdown",
   "metadata": {},
   "source": [
    "check if sc has image data for future feature calculation"
   ]
  },
  {
   "cell_type": "code",
   "execution_count": null,
   "metadata": {},
   "outputs": [],
   "source": [
    "# for idx, sample in enumerate(mitosis_sampels):\n",
    "#     for sc in sample:\n",
    "#         sc.get_img()"
   ]
  },
  {
   "cell_type": "markdown",
   "metadata": {},
   "source": [
    "Store sample index in all_class2samples to each single cell for future use"
   ]
  },
  {
   "cell_type": "code",
   "execution_count": null,
   "metadata": {},
   "outputs": [],
   "source": [
    "\n",
    "import numpy as np\n",
    "\n",
    "\n",
    "for idx, sample in enumerate(mitosis_sampels):\n",
    "    if len(sample) == 0:\n",
    "        continue\n",
    "    _first_time = sample[0].timeframe\n",
    "    _time2scs = {}\n",
    "    for sc in sample:\n",
    "        if sc.timeframe not in _time2scs:\n",
    "            _time2scs[sc.timeframe] = []\n",
    "        _time2scs[sc.timeframe].append(sc)\n",
    "    \n",
    "    # find the smallest time with more than one scs\n",
    "    _first_div_time = None\n",
    "    for time in sorted(_time2scs.keys()):\n",
    "        if len(_time2scs[time]) > 1:\n",
    "            _first_div_time = time\n",
    "            break\n",
    "    # print(\"_first time\", _first_time, \"_first_div_time\", _first_div_time)\n",
    "    for sc in sample:\n",
    "        # assert \"_sample_idx\" not in sc.meta\n",
    "        # assert \"mitosis_relative_time\" not in sc.meta\n",
    "        sc.meta[\"_sample_idx\"] = idx\n",
    "        sc.meta[\"mitosis_relative_time\"] = sc.timeframe - _first_time\n",
    "\n",
    "        sc.meta[\"_mitosis_first_div_time\"] = _first_div_time\n",
    "        if _first_div_time is None:\n",
    "            sc.meta[\"mitosis_div_relative_time\"] = None\n",
    "            # sc.show(crop=True, padding=200)\n",
    "            # import matplotlib.pyplot as plt\n",
    "            # plt.show()\n",
    "        else:\n",
    "            sc.meta[\"mitosis_div_relative_time\"] = sc.timeframe - _first_div_time\n",
    "\n",
    "    # calculate normalized mitosis_div_relative_time across the cells in the sample\n",
    "    all_mitosis_div_relative_time = np.array([sc.meta[\"mitosis_div_relative_time\"] for sc in sample if sc.meta[\"mitosis_div_relative_time\"] is not None])\n",
    "    if len(all_mitosis_div_relative_time) == 0:\n",
    "        for sc in sample:\n",
    "            sc.meta[\"mitosis_div_relative_time_normalized\"] = None\n",
    "        continue\n",
    "    mean_div_time = np.mean(all_mitosis_div_relative_time)\n",
    "    std_div_time = np.std(all_mitosis_div_relative_time)\n",
    "    if std_div_time == 0:\n",
    "        std_div_time = 1\n",
    "\n",
    "    for sc in sample:\n",
    "        if sc.meta[\"mitosis_div_relative_time\"] is None:\n",
    "            continue\n",
    "        else:\n",
    "            sc.meta[\"mitosis_div_relative_time_normalized\"] = (sc.meta[\"mitosis_div_relative_time\"] - mean_div_time) / std_div_time\n",
    "\n",
    "\n",
    "# report how many scs are without first_div_time\n",
    "scs_without_div = [sc for sample in mitosis_sampels for sc in sample if sc.meta[\"mitosis_div_relative_time\"] is None]\n",
    "sample_ids_without_divs = set(sc.meta[\"_sample_idx\"] for sc in scs_without_div)\n",
    "print(\"scs_without_div\", len(scs_without_div))\n",
    "print(\"sample_ids_without_divs\", sample_ids_without_divs)\n",
    "\n",
    "print(\"#samples ids without divs\", len(sample_ids_without_divs), \"total #samples\", len(mitosis_sampels))"
   ]
  },
  {
   "cell_type": "code",
   "execution_count": null,
   "metadata": {},
   "outputs": [],
   "source": [
    "all_scs = [sc for sample in mitosis_sampels for sc in sample]"
   ]
  },
  {
   "cell_type": "code",
   "execution_count": null,
   "metadata": {},
   "outputs": [],
   "source": [
    "processed_scs_path = out_dir / \"processed_scs.json\""
   ]
  },
  {
   "cell_type": "code",
   "execution_count": null,
   "metadata": {},
   "outputs": [],
   "source": [
    "from livecellx.core.single_cell import SingleCellStatic\n",
    "from livecellx.trajectory.feature_extractors import compute_haralick_features, compute_skimage_regionprops, parallelize_compute_features\n",
    "from livecellx.preprocess.utils import normalize_img_to_uint8\n",
    "from livecellx.core.parallel import parallelize\n",
    "\n",
    "def compute_skimage_regionprops_wrapper(**input):\n",
    "    sc = input[\"sc\"]\n",
    "    compute_skimage_regionprops(**input)\n",
    "    return sc\n",
    "\n",
    "FORCE_RECALCULATE = False # if we force recalculate the features\n",
    "\n",
    "if processed_scs_path.exists() and (not FORCE_RECALCULATE):\n",
    "    processed_scs = SingleCellStatic.load_single_cells_json(out_dir / \"processed_scs.json\")\n",
    "else:\n",
    "    inputs = []\n",
    "    for sc in all_scs:\n",
    "        # features = compute_skimage_regionprops(sc, preprocess_img_func=normalize_img_to_uint8, sc_level_normalize=True)\n",
    "        inputs.append({\n",
    "            \"sc\": sc,\n",
    "            \"feature_key\": \"skimage\",\n",
    "            \"preprocess_img_func\": normalize_img_to_uint8,\n",
    "            \"sc_level_normalize\": True,\n",
    "        })\n",
    "\n",
    "    processed_scs = parallelize(compute_skimage_regionprops_wrapper, inputs)\n",
    "    from livecellx.core.single_cell import SingleCellStatic\n",
    "\n",
    "    SingleCellStatic.write_single_cells_json(processed_scs, processed_scs_path, dataset_dir= out_dir / \"datasets\")\n",
    "\n",
    "# # a for loop for computing\n",
    "# import tqdm\n",
    "# processed_scs = []\n",
    "# for input in tqdm.tqdm(inputs):\n",
    "#     sc = input[\"sc\"]\n",
    "#     compute_skimage_regionprops(**input)\n",
    "#     processed_scs.append(sc)\n",
    "mitosis_processed_scs = processed_scs"
   ]
  },
  {
   "cell_type": "code",
   "execution_count": null,
   "metadata": {},
   "outputs": [],
   "source": [
    "sample_sc = mitosis_sampels[0][0]\n",
    "sample_sc.meta.keys()\n",
    "meta_keys = ['img_dataset_json_path', 'mask_dataset_json_path', '_sample_idx', 'mitosis_relative_time']"
   ]
  },
  {
   "cell_type": "code",
   "execution_count": null,
   "metadata": {},
   "outputs": [],
   "source": [
    "from livecellx.core.single_cell import create_sc_table\n",
    "\n",
    "sc_table_with_time = create_sc_table(processed_scs, add_time=True, add_sc_id=True, meta_keys=meta_keys)\n",
    "cell_features_2 = create_sc_table(processed_scs, add_time=False)"
   ]
  },
  {
   "cell_type": "code",
   "execution_count": null,
   "metadata": {},
   "outputs": [],
   "source": [
    "# save the tables\n",
    "sc_table_with_time.to_csv(out_dir / \"mitosis_scs_table_with_time.csv\")"
   ]
  },
  {
   "cell_type": "code",
   "execution_count": null,
   "metadata": {},
   "outputs": [],
   "source": [
    "sc_table_with_time[:2]"
   ]
  },
  {
   "cell_type": "code",
   "execution_count": null,
   "metadata": {},
   "outputs": [],
   "source": [
    "import umap\n",
    "reducer = umap.UMAP()\n",
    "# drop NAN in sc_feature_table\n",
    "cell_features_2 = cell_features_2.dropna(axis=1)\n",
    "\n",
    "embedding = reducer.fit_transform(cell_features_2)"
   ]
  },
  {
   "cell_type": "code",
   "execution_count": null,
   "metadata": {},
   "outputs": [],
   "source": [
    "import matplotlib.pyplot as plt\n",
    "plt.scatter(\n",
    "    embedding[:, 0],\n",
    "    embedding[:, 1],\n",
    "    c=[sc.timeframe for sc in processed_scs],\n",
    "    alpha=0.5,\n",
    ")\n",
    "plt.title(\"Ignore this figure: meaningless timeframe\")\n",
    "plt.xlabel(\"UMAP_1\")\n",
    "plt.ylabel(\"UMAP_2\")\n",
    "# add colorbar\n",
    "plt.colorbar()"
   ]
  },
  {
   "cell_type": "code",
   "execution_count": null,
   "metadata": {},
   "outputs": [],
   "source": [
    "plt_fontsize = 14"
   ]
  },
  {
   "cell_type": "code",
   "execution_count": null,
   "metadata": {},
   "outputs": [],
   "source": [
    "mitosis_relative_times = [sc.meta[\"mitosis_relative_time\"] for sc in processed_scs]\n",
    "\n",
    "# plot distribution of mitosis relative times\n",
    "import seaborn as sns\n",
    "plt.figure(figsize=(8, 6))\n",
    "sns.displot(mitosis_relative_times, kde=True, height=6, aspect=1.5)\n",
    "plt.title(\"Distribution of mitosis relative times\", fontsize=plt_fontsize)\n",
    "plt.xlabel(\"Mitosis relative time\", fontsize=plt_fontsize)\n",
    "plt.ylabel(\"Count\", fontsize=plt_fontsize)\n",
    "plt.xticks(fontsize=plt_fontsize)\n",
    "plt.yticks(fontsize=plt_fontsize)\n",
    "plt.show()"
   ]
  },
  {
   "cell_type": "code",
   "execution_count": null,
   "metadata": {},
   "outputs": [],
   "source": [
    "feature_colors = [sc.meta[\"mitosis_relative_time\"] for sc in processed_scs]\n",
    "feature_colors = [min(10, x) for x in feature_colors]"
   ]
  },
  {
   "cell_type": "code",
   "execution_count": null,
   "metadata": {},
   "outputs": [],
   "source": [
    "mitosis_sampels[37][2]"
   ]
  },
  {
   "cell_type": "code",
   "execution_count": null,
   "metadata": {},
   "outputs": [],
   "source": [
    "import matplotlib.pyplot as plt\n",
    "\n",
    "large_thresholds = [10, 15, 20, 25, 30, 35, 40, 45, 50]\n",
    "\n",
    "def print_stats(processed_scs, threshold):\n",
    "    large_mitosis_relative_time_scs = [sc for sc in processed_scs if sc.meta[\"mitosis_relative_time\"] > threshold]\n",
    "    tmp_unique_long_samples = set()\n",
    "    for sc in large_mitosis_relative_time_scs:\n",
    "        if '_labels' not in sc.meta:\n",
    "            tmp_unique_long_samples.add(sc.meta['_sample_idx'])\n",
    "            continue\n",
    "    return len(tmp_unique_long_samples), len(large_mitosis_relative_time_scs)\n",
    "\n",
    "# Get the number of unique long samples and total long samples for each threshold\n",
    "num_unique_long_samples = []\n",
    "num_total_long_scs = []\n",
    "for threshold in large_thresholds:\n",
    "    unique_long_samples, total_long_samples = print_stats(processed_scs, threshold)\n",
    "    num_unique_long_samples.append(unique_long_samples)\n",
    "    num_total_long_scs.append(total_long_samples)\n",
    "\n",
    "# Set the figure size\n",
    "plt.figure(figsize=(8, 6))\n",
    "\n",
    "# Plot the data as a scatter plot\n",
    "plt.plot(large_thresholds, num_unique_long_samples, color='blue', label='#long samples')\n",
    "# plt.scatter(large_thresholds, num_total_long_samples, color='orange', label='Total Long Samples')\n",
    "\n",
    "# Add text labels to the scatter points\n",
    "for i in range(len(large_thresholds)):\n",
    "    plt.text(large_thresholds[i] + 0.7, num_unique_long_samples[i] + 0.1, str(num_unique_long_samples[i]), fontsize=12, ha='center', va='bottom')\n",
    "    # plt.text(large_thresholds[i], num_total_long_samples[i], str(num_total_long_samples[i]), fontsize=12, ha='center', va='bottom')\n",
    "\n",
    "# Set the x and y axis labels with larger font size\n",
    "plt.xlabel(\"Sample Length Threshold\", fontsize=14)\n",
    "plt.ylabel(\"Number of Samples\", fontsize=14)\n",
    "\n",
    "# Set the x and y axis tick labels with larger font size\n",
    "plt.xticks(fontsize=12)\n",
    "plt.yticks(fontsize=12)\n",
    "\n",
    "# Add a title to the plot\n",
    "plt.title(\"Number of Samples vs. Sample Length Threshold\", fontsize=plt_fontsize)\n",
    "plt.xlabel(\"Sample Length Threshold\", fontsize=plt_fontsize)\n",
    "plt.ylabel(\"Number of Samples\", fontsize=plt_fontsize)\n",
    "\n",
    "# Add a legend to the plot\n",
    "plt.legend(fontsize=12)\n",
    "\n",
    "# remove the spines\n",
    "ax = plt.gca()\n",
    "ax.spines['top'].set_visible(False)\n",
    "ax.spines['right'].set_visible(False)\n",
    "\n",
    "# Show the plot\n",
    "plt.show()"
   ]
  },
  {
   "cell_type": "code",
   "execution_count": null,
   "metadata": {},
   "outputs": [],
   "source": [
    "cell_features_2.columns"
   ]
  },
  {
   "cell_type": "code",
   "execution_count": null,
   "metadata": {},
   "outputs": [],
   "source": [
    "import matplotlib.pyplot as plt\n",
    "fig, axes = plt.subplots(1, 4, figsize=(20, 5))\n",
    "axes[0].scatter(\n",
    "    embedding[:, 0],\n",
    "    embedding[:, 1],\n",
    "    c=cell_features_2[\"skimage_area\"],\n",
    "    cmap=\"inferno\",\n",
    "    alpha=0.5,\n",
    ")\n",
    "axes[0].set_xlabel(\"UMAP_1\")\n",
    "axes[0].set_ylabel(\"UMAP_2\")\n",
    "axes[0].set_title(\"Mitosis: area\")\n",
    "# add colorbar\n",
    "# axes[0].colorbar()\n",
    "\n",
    "axes[1].scatter(\n",
    "    embedding[:, 0],\n",
    "    embedding[:, 1],\n",
    "    c=feature_colors,\n",
    "    cmap=\"inferno\",\n",
    "    alpha=0.5,\n",
    ")\n",
    "axes[1].set_xlabel(\"UMAP_1\")\n",
    "axes[1].set_ylabel(\"UMAP_2\")\n",
    "axes[1].set_title(\"Mitosis: relative time\")\n",
    "\n",
    "axes[2].scatter(\n",
    "    embedding[:, 0],\n",
    "    embedding[:, 1],\n",
    "    c=cell_features_2[\"skimage_eccentricity\"],\n",
    "    cmap=\"inferno\",\n",
    "    alpha=0.5,\n",
    ")\n",
    "axes[2].set_xlabel(\"UMAP_1\")\n",
    "axes[2].set_ylabel(\"UMAP_2\")\n",
    "axes[2].set_title(\"Mitosis: eccentricity\")\n",
    "\n",
    "\n",
    "axes[3].scatter(\n",
    "    embedding[:, 0],\n",
    "    embedding[:, 1],\n",
    "    c=cell_features_2[\"skimage_orientation\"],\n",
    "    cmap=\"inferno\",\n",
    "    alpha=0.5,\n",
    ")\n",
    "axes[3].set_xlabel(\"UMAP_1\")\n",
    "axes[3].set_ylabel(\"UMAP_2\")\n",
    "axes[3].set_title(\"Mitosis: skimage_orientation\")"
   ]
  },
  {
   "cell_type": "code",
   "execution_count": null,
   "metadata": {},
   "outputs": [],
   "source": [
    "import seaborn as sns\n",
    "import pandas as pd\n",
    "# Create a DataFrame with the mitosis colors and corresponding skimage areas\n",
    "data = pd.DataFrame({\n",
    "    \"mitosis_color\": feature_colors,\n",
    "    \"skimage_area\": cell_features_2[\"skimage_area\"]\n",
    "})\n",
    "\n",
    "# Draw a boxplot for each mitosis color\n",
    "fig, ax = plt.subplots(figsize=(10, 6))\n",
    "sns.boxplot(x=\"mitosis_color\", y=\"skimage_area\", data=data, width=0.5, palette=\"colorblind\", ax=ax)\n",
    "plt.xlabel(\"mitosis: relative time\")\n",
    "plt.ylabel(\"area\")"
   ]
  },
  {
   "cell_type": "code",
   "execution_count": null,
   "metadata": {},
   "outputs": [],
   "source": [
    "cell_features_2.columns"
   ]
  },
  {
   "cell_type": "code",
   "execution_count": null,
   "metadata": {},
   "outputs": [],
   "source": [
    "import seaborn as sns\n",
    "import pandas as pd\n",
    "# Create a DataFrame with the mitosis colors and corresponding skimage areas\n",
    "\n",
    "def viz_boxplot(key, mitosis_times, use_abs_vals=False):\n",
    "    vals = cell_features_2[key]\n",
    "\n",
    "    if use_abs_vals:\n",
    "        vals = vals.abs()\n",
    "    data = pd.DataFrame({\n",
    "        \"mitosis: relative time\": mitosis_times,\n",
    "        key: vals\n",
    "    })\n",
    "\n",
    "    # Draw a boxplot for each mitosis color\n",
    "    sns.boxplot(x=\"mitosis: relative time\", y=key, data=data)\n",
    "# viz_boxplot(\"skimage_area\", clipped_mitosis_time)\n",
    "\n",
    "\"\"\"eccentricity: float\n",
    "Eccentricity of the ellipse that has the same second-moments as the region. \n",
    "The eccentricity is the ratio of the focal distance (distance between focal points) over the major axis length. \n",
    "The value is in the interval [0, 1). When it is 0, the ellipse becomes a circle.\"\"\"\n",
    "# viz_boxplot(\"skimage_eccentricity\", clipped_mitosis_time, use_abs_vals=True)\n",
    "# viz_boxplot(\"skimage_axis_minor_length\", clipped_mitosis_time)\n",
    "viz_boxplot(\"skimage_axis_major_length\", feature_colors)\n",
    "# viz_boxplot(\"skimage_orientation\", clipped_mitosis_time)"
   ]
  },
  {
   "cell_type": "code",
   "execution_count": null,
   "metadata": {},
   "outputs": [],
   "source": [
    "from livecellx.core.single_cell import create_sc_table\n",
    "normalized_img_features = create_sc_table(processed_scs, normalize_features=True)\n",
    "# drop na\n",
    "normalized_img_features = normalized_img_features.dropna(axis=1, how=\"all\")\n",
    "reducer = umap.UMAP()\n",
    "embedding = reducer.fit_transform(normalized_img_features)\n",
    "\n",
    "fig, axes = plt.subplots(1, 3, figsize=(10, 5))\n",
    "scatter_time = axes[0].scatter(\n",
    "    embedding[:, 0],\n",
    "    embedding[:, 1],\n",
    "    c=feature_colors,\n",
    "    alpha=0.5,\n",
    ")\n",
    "colorbar = fig.colorbar(scatter_time, ax=axes[0], label=\"Time\")\n",
    "\n",
    "scatter_area = axes[1].scatter(\n",
    "    embedding[:, 0],\n",
    "    embedding[:, 1],\n",
    "    c=normalized_img_features[\"skimage_area\"],\n",
    ")\n",
    "colorbar = fig.colorbar(scatter_area, ax=axes[1], label=\"Area\")\n",
    "\n",
    "scatter_src = axes[2].scatter(\n",
    "    embedding[:, 0],\n",
    "    embedding[:, 1],\n",
    "    c=normalized_img_features[\"skimage_solidity\"],\n",
    ")\n"
   ]
  },
  {
   "cell_type": "code",
   "execution_count": null,
   "metadata": {},
   "outputs": [],
   "source": [
    "import plotly.graph_objects as go\n",
    "import plotly.subplots as sp\n",
    "import numpy as np\n",
    "\n",
    "def visualize_scs_skimage_plotly(scs, embedding, feature_table, feature=\"\", color_vals=None, title=\"UMAP Embedding\", clip_min=None, clip_max=None, cmap=\"Blues\", alpha=1):\n",
    "    fig = sp.make_subplots(rows=1, cols=1, subplot_titles=())\n",
    "    if color_vals is None:\n",
    "        color_vals = feature_table[feature]\n",
    "    if clip_min or clip_max:\n",
    "        color_vals = np.clip(color_vals, clip_min, clip_max)\n",
    "    scatter_go = go.Scatter(\n",
    "        x=embedding[:, 0],\n",
    "        y=embedding[:, 1],\n",
    "        mode=\"markers\",\n",
    "        opacity=alpha,\n",
    "        marker=dict(color=color_vals, colorscale=cmap, colorbar=dict(title=feature, x=1, yanchor=\"middle\", len=0.5)),\n",
    "        text=[f\"Timeframe: {sc.timeframe}<br>sc id: {sc.id}<br>sc idx: {idx}\" for idx, sc in enumerate(scs)],\n",
    "    )\n",
    "    scatter_go.on_click(lambda trace, points, state: display(points))\n",
    "    fig.append_trace(scatter_go, row=1, col=1)\n",
    "    fig.update_layout(height=600, width=800, title_text=title, clickmode=\"event\", plot_bgcolor='rgb(1,1,1)', xaxis=dict(showgrid=False), yaxis=dict(showgrid=False))\n",
    "    fig.show()"
   ]
  },
  {
   "cell_type": "code",
   "execution_count": null,
   "metadata": {},
   "outputs": [],
   "source": [
    "processed_scs[2527].meta"
   ]
  },
  {
   "cell_type": "code",
   "execution_count": null,
   "metadata": {},
   "outputs": [],
   "source": [
    "processed_scs[2527].show_panel()\n",
    "embedding[2527]"
   ]
  },
  {
   "cell_type": "code",
   "execution_count": null,
   "metadata": {},
   "outputs": [],
   "source": [
    "# processed_scs[2527].show(crop=True, padding=200)\n",
    "processed_scs[2527].show_contour_img(padding=200)"
   ]
  },
  {
   "cell_type": "code",
   "execution_count": null,
   "metadata": {},
   "outputs": [],
   "source": [
    "len(processed_scs) - 288"
   ]
  },
  {
   "cell_type": "code",
   "execution_count": null,
   "metadata": {},
   "outputs": [],
   "source": [
    "is_CXA = [sc.meta[\"sample_src_dir\"].find(\"CXA\") != -1 for sc in processed_scs]\n",
    "reversed_processed_scs = processed_scs[::-1]\n",
    "reversed_is_CXA = is_CXA[::-1]\n",
    "reversed_embedding = embedding[::-1]\n",
    "is_CXA = np.array(is_CXA)\n",
    "visualize_scs_skimage_plotly\n",
    "# Build figure\n",
    "fig = go.Figure()\n",
    "\n",
    "fig.add_trace(\n",
    "    go.Scatter(\n",
    "        mode='markers',\n",
    "        x=embedding[is_CXA, 0],\n",
    "        y=embedding[is_CXA, 1],\n",
    "        marker=dict(\n",
    "            color='LightSkyBlue',\n",
    "            size=20,\n",
    "            line=dict(\n",
    "                color='Blue',\n",
    "                width=2\n",
    "            )\n",
    "        ),\n",
    "        name='CXA'\n",
    "    )\n",
    ")\n",
    "\n",
    "# Add trace with large markers\n",
    "fig.add_trace(\n",
    "    go.Scatter(\n",
    "        mode='markers',\n",
    "        x=embedding[~is_CXA, 0],\n",
    "        y=embedding[~is_CXA, 1],\n",
    "        opacity=0.5,\n",
    "        marker=dict(\n",
    "            color='LightSkyBlue',\n",
    "            size=5,\n",
    "            line=dict(\n",
    "                color='MediumPurple',\n",
    "                width=5,\n",
    "            )\n",
    "        ),\n",
    "        showlegend=True,\n",
    "        name='Nikon'\n",
    "    )\n",
    ")\n",
    "fig.update_layout(height=600, width=800, title_text=\"UMAP\", clickmode=\"event\", xaxis=dict(showgrid=False), yaxis=dict(showgrid=False))\n",
    "fig.show()"
   ]
  },
  {
   "cell_type": "code",
   "execution_count": null,
   "metadata": {},
   "outputs": [],
   "source": [
    "visualize_scs_skimage_plotly(processed_scs, embedding, normalized_img_features, \"skimage_area\", clip_max=2)"
   ]
  },
  {
   "cell_type": "markdown",
   "metadata": {},
   "source": [
    "CXA mitotic cells latter phase"
   ]
  },
  {
   "cell_type": "code",
   "execution_count": null,
   "metadata": {},
   "outputs": [],
   "source": [
    "for idx, _sc in enumerate(processed_scs):\n",
    "    if _sc.meta[\"sample_src_dir\"].find(\"CXA\") != -1:\n",
    "        if 6 <= embedding[idx][0] <= 10 and  6 < embedding[idx][1] < 20:\n",
    "            _sc.show(crop=True, padding=20)\n",
    "            plt.show()\n",
    "            break"
   ]
  },
  {
   "cell_type": "code",
   "execution_count": null,
   "metadata": {},
   "outputs": [],
   "source": []
  },
  {
   "cell_type": "code",
   "execution_count": null,
   "metadata": {},
   "outputs": [],
   "source": [
    "for idx, _sc in enumerate(processed_scs):\n",
    "    if _sc.meta[\"sample_src_dir\"].find(\"CXA\") != -1:\n",
    "        if 6 <= embedding[idx][0] <= 10 and  6 < embedding[idx][1] < 20:\n",
    "            print(idx, _sc.meta[\"sample_src_dir\"], _sc.meta[\"mitosis_relative_time\"])\n",
    "            _sc.show(crop=True, padding=20)\n",
    "            print(\"embedding:\", embedding[idx])\n",
    "            plt.show()"
   ]
  },
  {
   "cell_type": "code",
   "execution_count": null,
   "metadata": {},
   "outputs": [],
   "source": [
    "# processed_scs[2681].show_panel(padding=200)\n",
    "# processed_scs[2652].show_panel(padding=200)\n",
    "processed_scs[2627].show_panel(padding=200)\n",
    "embedding[2627]"
   ]
  },
  {
   "cell_type": "markdown",
   "metadata": {},
   "source": [
    "CXA mitotic cell early subphase"
   ]
  },
  {
   "cell_type": "code",
   "execution_count": null,
   "metadata": {},
   "outputs": [],
   "source": [
    "for idx, _sc in enumerate(processed_scs):\n",
    "    if _sc.meta[\"sample_src_dir\"].find(\"CXA\") != -1:\n",
    "        if embedding[idx][0] < 3:\n",
    "            print(idx, _sc.meta[\"sample_src_dir\"], _sc.meta[\"mitosis_relative_time\"])"
   ]
  },
  {
   "cell_type": "code",
   "execution_count": null,
   "metadata": {},
   "outputs": [],
   "source": [
    "\n",
    "# processed_scs[2684].show_panel(padding=200)\n",
    "processed_scs[2682].show_panel(padding=200)\n",
    "embedding[2682]"
   ]
  },
  {
   "cell_type": "code",
   "execution_count": null,
   "metadata": {},
   "outputs": [],
   "source": [
    "import plotly.graph_objs as go\n",
    "import plotly.subplots as sp\n",
    "import numpy as np\n",
    "\n",
    "scs = processed_scs\n",
    "fig = sp.make_subplots(rows=1, cols=2, subplot_titles=(\"Time\", \"Area\"), horizontal_spacing=0.1)\n",
    "\n",
    "mitosis_time_np = np.array(feature_colors, dtype=int)\n",
    "scatter_time = go.Scatter(\n",
    "    x=embedding[:, 0],\n",
    "    y=embedding[:, 1],\n",
    "    mode=\"markers\",\n",
    "    marker=dict(\n",
    "        color=feature_colors, colorbar=dict(title=\"Time\", x=0.45, yanchor=\"middle\", len=0.5), \n",
    "        colorscale=\"blues\"\n",
    "        # colorscale=\"blackbody\",\n",
    "    ),\n",
    "    text=[f\"Timeframe: {sc.timeframe}<br>sc id: {sc.id}\" for sc in scs],\n",
    "    customdata=[sc.id for sc in scs],\n",
    "    name=\"Time\",\n",
    ")\n",
    "\n",
    "unique_mitosis_time_points = np.unique(mitosis_time_np)\n",
    "for i, time_point in enumerate(unique_mitosis_time_points):\n",
    "    if len(np.where(mitosis_time_np == time_point)) == 0:\n",
    "        continue\n",
    "    indices = np.where(mitosis_time_np == time_point)[0]\n",
    "    mean_position = np.mean(embedding[indices], axis=0)\n",
    "    x = mean_position[0]\n",
    "    y = mean_position[1]\n",
    "    annotation = go.layout.Annotation(\n",
    "        x=x,\n",
    "        y=y,\n",
    "        text=str(time_point),\n",
    "        showarrow=False,\n",
    "        font=dict(size=13, color=\"black\"),\n",
    "        bgcolor=\"rgba(255,255,255,0.5)\",\n",
    "        bordercolor=\"black\",\n",
    "        borderwidth=0,\n",
    "        borderpad=3,\n",
    "        xshift=5,\n",
    "        yshift=5,\n",
    "    )\n",
    "    fig.add_annotation(annotation)\n",
    "\n",
    "scatter_area = go.Scatter(\n",
    "    x=embedding[:, 0],\n",
    "    y=embedding[:, 1],\n",
    "    mode=\"markers\",\n",
    "    marker=dict(\n",
    "        color=normalized_img_features[\"skimage_area\"], colorbar=dict(title=\"Area\", x=1, yanchor=\"middle\", len=0.5)\n",
    "    ),\n",
    "    name=\"Area\",\n",
    ")\n",
    "fig.append_trace(scatter_time, row=1, col=1)\n",
    "fig.add_trace(scatter_area, row=1, col=2)\n",
    "\n",
    "\n",
    "# add X and Y labels\n",
    "# fig.update_xaxes(title_text=\"UMAP_1\", row=1, col=1)\n",
    "# fig.update_yaxes(title_text=\"UMAP_2\", row=1, col=1)\n",
    "\n",
    "# fig.update_xaxes(title_text=\"UMAP_1\", row=1, col=2)\n",
    "# fig.update_yaxes(title_text=\"UMAP_2\", row=1, col=2)\n",
    "\n",
    "\n",
    "fig.update_layout(height=500, width=1000, title_text=\"UMAP Embedding\", clickmode=\"event\", showlegend=False, xaxis=dict(showgrid=False), yaxis=dict(showgrid=False))\n"
   ]
  },
  {
   "cell_type": "markdown",
   "metadata": {},
   "source": [
    "unnormalized feature"
   ]
  },
  {
   "cell_type": "code",
   "execution_count": null,
   "metadata": {},
   "outputs": [],
   "source": [
    "from livecellx.core.single_cell import create_sc_table\n",
    "unnormalized_img_features = create_sc_table(processed_scs, normalize_features=False)\n",
    "# drop na\n",
    "unnormalized_img_features = unnormalized_img_features.dropna(axis=1, how=\"all\")\n",
    "reducer = umap.UMAP()\n",
    "unnormalized_embedding = reducer.fit_transform(unnormalized_img_features)\n",
    "\n",
    "fig, axes = plt.subplots(1, 2, figsize=(10, 5))\n",
    "scatter_time = axes[0].scatter(\n",
    "    embedding[:, 0],\n",
    "    embedding[:, 1],\n",
    "    c=feature_colors,\n",
    ")\n",
    "colorbar = fig.colorbar(scatter_time, ax=axes[0], label=\"Time\")\n",
    "\n",
    "scatter_area = axes[1].scatter(\n",
    "    embedding[:, 0],\n",
    "    embedding[:, 1],\n",
    "    c=unnormalized_img_features[\"skimage_centroid_weighted_local-0\"],\n",
    ")\n",
    "colorbar = fig.colorbar(scatter_area, ax=axes[1], label=\"Area\")\n"
   ]
  },
  {
   "cell_type": "code",
   "execution_count": null,
   "metadata": {},
   "outputs": [],
   "source": [
    "import plotly.graph_objs as go\n",
    "import plotly.subplots as sp\n",
    "import numpy as np\n",
    "\n",
    "scs = processed_scs\n",
    "fig = sp.make_subplots(rows=1, cols=2, subplot_titles=(\"Time\", \"Area\"))\n",
    "\n",
    "mitosis_time_np = np.array(feature_colors, dtype=int)\n",
    "scatter_time = go.Scatter(\n",
    "    x=unnormalized_embedding[:, 0],\n",
    "    y=unnormalized_embedding[:, 1],\n",
    "    mode=\"markers\",\n",
    "    marker=dict(color=feature_colors, colorbar=dict(title=\"Time\", x=0.45, yanchor=\"middle\", len=0.5)),\n",
    "    text=[f\"Timeframe: {sc.timeframe}<br>sc id: {sc.id}<br>Mitosis: {sc.meta['mitosis_relative_time']}\" for sc in scs],\n",
    "    customdata=[sc.id for sc in scs],\n",
    ")\n",
    "\n",
    "unique_mitosis_time_points = np.unique(mitosis_time_np)\n",
    "for i, time_point in enumerate(unique_mitosis_time_points):\n",
    "    if len(np.where(mitosis_time_np == time_point)) == 0:\n",
    "        continue\n",
    "    indices = np.where(mitosis_time_np == time_point)[0]\n",
    "    mean_position = np.mean(unnormalized_embedding[indices], axis=0)\n",
    "    x = mean_position[0]\n",
    "    y = mean_position[1]\n",
    "    annotation = go.layout.Annotation(\n",
    "        x=x,\n",
    "        y=y,\n",
    "        text=str(time_point),\n",
    "        showarrow=False,\n",
    "        font=dict(size=20, color=\"white\"),\n",
    "        xshift=5,\n",
    "        yshift=5,\n",
    "    )\n",
    "    fig.add_annotation(annotation)\n",
    "\n",
    "scatter_area = go.Scatter(\n",
    "    x=unnormalized_embedding[:, 0],\n",
    "    y=unnormalized_embedding[:, 1],\n",
    "    mode=\"markers\",\n",
    "    marker=dict(color=normalized_img_features[\"skimage_area\"], colorbar=dict(title=\"Area\", x=1, yanchor=\"middle\", len=0.5)),\n",
    ")\n",
    "fig.append_trace(scatter_time, row=1, col=1)\n",
    "fig.add_trace(scatter_area, row=1, col=2)\n",
    "\n",
    "fig.update_layout(height=500, width=1000, title_text=\"UMAP Embedding\", clickmode=\"event\", showlegend=False)"
   ]
  },
  {
   "cell_type": "markdown",
   "metadata": {},
   "source": [
    "### PCA analysis on mitosis cells"
   ]
  },
  {
   "cell_type": "code",
   "execution_count": null,
   "metadata": {},
   "outputs": [],
   "source": [
    "import numpy as np\n",
    "from sklearn.decomposition import PCA\n",
    "\n",
    "pca = PCA(n_components=30)\n",
    "pca.fit(normalized_img_features)\n",
    "mitosis_pca_img_features = pca.transform(normalized_img_features)"
   ]
  },
  {
   "cell_type": "code",
   "execution_count": null,
   "metadata": {},
   "outputs": [],
   "source": [
    "mitosis_pca = pca"
   ]
  },
  {
   "cell_type": "code",
   "execution_count": null,
   "metadata": {},
   "outputs": [],
   "source": [
    "# plot the transformed data\n",
    "import matplotlib.pyplot as plt\n",
    "\n",
    "plt.scatter(mitosis_pca_img_features[:, 0], mitosis_pca_img_features[:, 1])\n",
    "plt.xlabel(\"PC1\")\n",
    "plt.ylabel(\"PC2\")\n",
    "plt.show()"
   ]
  },
  {
   "cell_type": "code",
   "execution_count": null,
   "metadata": {},
   "outputs": [],
   "source": [
    "mitosis_pca_img_features.T.shape, normalized_img_features.shape\n"
   ]
  },
  {
   "cell_type": "code",
   "execution_count": null,
   "metadata": {},
   "outputs": [],
   "source": [
    "def compute_dims_corr(cell_features_1: pd.DataFrame, cell_features_2: pd.DataFrame, sort_by_abs=True):\n",
    "    feature_cols = cell_features_2.columns\n",
    "    feature_corr_df = pd.DataFrame()\n",
    "    for feature in feature_cols:\n",
    "        for dim in cell_features_1.columns:\n",
    "            _embedding = cell_features_1[dim]\n",
    "            # suffer from NAN\n",
    "            # corr = np.corrcoef(np.array(sc_feature_table[feature]), _embedding)[0, 1]\n",
    "\n",
    "            # avoid and exclude NA values\n",
    "            _tmp_df = pd.DataFrame({\"embedding\": _embedding, \"feature\": cell_features_2[feature]})\n",
    "            all_corrs = _tmp_df.corr()\n",
    "            corr = all_corrs[\"feature\"].loc[\"embedding\"]\n",
    "            new_df = pd.DataFrame({\"feature\": [feature], \"corr\": [corr], \"dim\": [dim]})\n",
    "            feature_corr_df = pd.concat([feature_corr_df, new_df], ignore_index=True)\n",
    "\n",
    "    # sort feature_corr_df by corr\n",
    "    dim2feature_corr_df = {}\n",
    "    for dim in cell_features_1.columns:\n",
    "        dim2feature_corr_df[dim] = feature_corr_df[feature_corr_df[\"dim\"] == dim]\\\n",
    "            .sort_values(by=\"corr\", ascending=False, key=lambda x: abs(x))\n",
    "        # add a rank column\n",
    "        dim2feature_corr_df[dim][\"rank\"] = np.arange(len(dim2feature_corr_df[dim]))\n",
    "    return dim2feature_corr_df\n",
    "\n",
    "mitosis_pca_img_features = pd.DataFrame(mitosis_pca_img_features, columns=[f\"PC{i}\" for i in range(mitosis_pca_img_features.shape[1])])\n",
    "# compute_dims_corr(pca_img_features, normalized_img_features)"
   ]
  },
  {
   "cell_type": "code",
   "execution_count": null,
   "metadata": {},
   "outputs": [],
   "source": [
    "# create a line chart of the explained variance\n",
    "explained_var = mitosis_pca.explained_variance_ratio_\n",
    "cumulative_var = np.cumsum(explained_var)\n",
    "line_chart = go.Scatter(x=np.arange(1, len(explained_var) + 1), y=cumulative_var, mode=\"lines+markers\")\n",
    "\n",
    "\n",
    "# add a vertical line at the elbow point\n",
    "elbow_point = 14\n",
    "line_shape = go.layout.Shape(type=\"line\", x0=elbow_point, y0=0, x1=elbow_point, y1=1, line=dict(color=\"red\", width=2, dash=\"dash\"))\n",
    "# add a horizontal line at y=0.9\n",
    "hline_shape = go.layout.Shape(type=\"line\", x0=0, y0=0.9, x1=len(explained_var), y1=0.9, line=dict(color=\"red\", width=2, dash=\"dash\"))\n",
    "\n",
    "layout = go.Layout(title=\"Mitosis PCA\", xaxis=dict(title=\"Number of Components\", tickvals=list(range(0, len(explained_var), 2)) + [12],), yaxis=dict(title=\"Cumulative Explained Variance\",tickvals=[0.2, 0.4, 0.6, 0.8, 0.9, 1],), shapes=[], width=800, height=600)\n",
    "\n",
    "fig = go.Figure(data=[line_chart], layout=layout)\n",
    "fig.add_shape(line_shape)\n",
    "fig.add_shape(hline_shape)\n",
    "fig.show()"
   ]
  },
  {
   "cell_type": "code",
   "execution_count": null,
   "metadata": {},
   "outputs": [],
   "source": [
    "pc_col_names = [f\"PC{i}\" for i in range(mitosis_pca_img_features.shape[1])]\n",
    "not_mitosis_cells_pca_img_features_df = pd.DataFrame(mitosis_pca_img_features, columns=pc_col_names)\n",
    "pc2df = compute_dims_corr(mitosis_pca_img_features, normalized_img_features)\n",
    "print(\"pc2df:\", pc2df[\"PC0\"][:2])\n",
    "topk_pc = 12\n",
    "topk_features = 5\n",
    "topk_pc_rank_df = pd.concat([pc2df[f\"PC{i}\"][:topk_features] for i in range(topk_pc)], ignore_index=True)\n",
    "import plotly.graph_objs as go\n",
    "\n",
    "# create a bar chart of the \"corr\" column\n",
    "topk_pc_rank_df[\"abs_corr\"] = topk_pc_rank_df[\"corr\"].abs()\n",
    "topk_pc_rank_df = topk_pc_rank_df.sort_values(by='abs_corr')\n",
    "bar_chart = go.Bar(y=topk_pc_rank_df[\"feature\"], x=topk_pc_rank_df[\"abs_corr\"], orientation=\"h\")\n",
    "layout = go.Layout(\n",
    "    title=\"Top-%d PC Rank of Mitotic Cells\" % (topk_pc),\n",
    "    xaxis=dict(title=\"Correlation\"),\n",
    "    yaxis=dict(title=\"Feature\"),\n",
    "    width=800,\n",
    "    height=600,\n",
    ")\n",
    "# hide y-axis title\n",
    "layout[\"yaxis\"][\"title\"] = \"\"\n",
    "fig = go.Figure(data=[bar_chart], layout=layout)\n",
    "fig.show()\n"
   ]
  },
  {
   "cell_type": "markdown",
   "metadata": {},
   "source": [
    "### Visualize non mitosis cells' label-free features  \n",
    "We will next visualize our mistosis data V12.\n",
    "Note that for obtaining a list of normal cells, tracking is not required. However, to reproduce V12 normal single cells that are used in our training, we need to track cells, generate samples and then get a list of normal cells for analysis usage. Tracking information may be retrained in this case for visualization purpose later."
   ]
  },
  {
   "cell_type": "code",
   "execution_count": null,
   "metadata": {},
   "outputs": [],
   "source": [
    "# get all scs from class_samples not in normal class\n",
    "exclude_scs = []\n",
    "total_non_normal_samples = 0\n",
    "for class_name, samples in all_class2samples.items():\n",
    "    if class_name != \"normal\":\n",
    "        for sample in samples:\n",
    "            exclude_scs.extend(sample)\n",
    "            total_non_normal_samples += 1\n",
    "exclude_scs = set(exclude_scs)\n",
    "exclude_scs_ids = {str(sc.id) for sc in exclude_scs}"
   ]
  },
  {
   "cell_type": "markdown",
   "metadata": {},
   "source": [
    "Load all V12 normal sample source.  "
   ]
  },
  {
   "cell_type": "code",
   "execution_count": null,
   "metadata": {},
   "outputs": [],
   "source": [
    "import json\n",
    "from livecellx.core.single_cell import SingleCellTrajectoryCollection\n",
    "from livecellx.track.sort_tracker_utils import (\n",
    "    track_SORT_bbox_from_scs\n",
    ")\n",
    "all_scs_json_path = [\"./datasets/test_scs_EBSS_starvation/XY1/single_cells.json\", \"./datasets/test_scs_EBSS_starvation/XY16/single_cells.json\"]\n",
    "sctc = SingleCellTrajectoryCollection()\n",
    "for json_path in all_scs_json_path:\n",
    "    print(\"json path:\", json_path)\n",
    "    _scs = SingleCellStatic.load_single_cells_json(json_path)\n",
    "    tmp_sctc = track_SORT_bbox_from_scs(_scs, raw_imgs=_scs[0].img_dataset, min_hits=3, max_age=3)\n",
    "    tids = set(sctc.get_all_tids())\n",
    "    if len(tids) != 0:\n",
    "        max_tid = max(tids)\n",
    "    else:\n",
    "        max_tid = 0\n",
    "    for tid, traj in tmp_sctc:\n",
    "        traj.meta[\"src_dir\"] = json_path\n",
    "        traj.track_id = tid + max_tid + 1\n",
    "        sctc.add_trajectory(traj)\n",
    "        traj_scs = traj.get_all_scs()\n",
    "        for sc in traj_scs:\n",
    "            sc.meta[\"src_dir\"] = json_path\n",
    "    del tmp_sctc\n",
    "\n",
    "all_scs = SingleCellStatic.load_single_cells_jsons(all_scs_json_path)"
   ]
  },
  {
   "cell_type": "code",
   "execution_count": null,
   "metadata": {},
   "outputs": [],
   "source": [
    "# # set numpy seed\n",
    "# seed = 0\n",
    "# np.random.seed(seed)\n",
    "\n",
    "# objective_sample_num = total_non_normal_samples * 10\n",
    "\n",
    "# normal_frame_len_range = (3, 10)\n",
    "# counter = 0\n",
    "# normal_samples = []\n",
    "# normal_samples_extra_info = []\n",
    "# max_trial_counter = 100000\n",
    "# while counter < objective_sample_num and max_trial_counter > 0:\n",
    "#     # randomly select a sct from sctc\n",
    "#     # generate a list of scs\n",
    "#     track_id = np.random.choice(list(sctc.track_id_to_trajectory.keys()))  \n",
    "#     sct = sctc.get_trajectory(track_id)\n",
    "#     # randomly select a length\n",
    "#     frame_len = np.random.randint(*normal_frame_len_range)\n",
    "#     # generate a sample\n",
    "#     times = list(sct.timeframe_to_single_cell.keys())\n",
    "#     times = sorted(times)\n",
    "#     if len(times) <= frame_len:\n",
    "#         continue\n",
    "#     start_idx = np.random.randint(0, len(times) - frame_len)\n",
    "#     start_time = times[start_idx]\n",
    "#     end_time = times[start_idx + frame_len - 1]\n",
    "\n",
    "#     sub_sct = sct.subsct(start_time, end_time)\n",
    "\n",
    "#     is_some_sc_in_exclude_scs = False\n",
    "#     for time, sc in sub_sct.timeframe_to_single_cell.items():\n",
    "#         # print(\"sc.id:\", sc.id, type(sc.id))\n",
    "#         if str(sc.id) in exclude_scs_ids:\n",
    "#             is_some_sc_in_exclude_scs = True\n",
    "#             break\n",
    "#     if is_some_sc_in_exclude_scs:\n",
    "#         print(\"some sc in the exclude scs list\")\n",
    "#         continue\n",
    "    \n",
    "#     new_sample = []\n",
    "#     for time, sc in sub_sct.timeframe_to_single_cell.items():\n",
    "#         new_sample.append(sc)\n",
    "#     normal_samples.append(new_sample)\n",
    "#     normal_samples_extra_info.append({\"src_dir\": sub_sct.get_all_scs()[0].meta[\"src_dir\"]})\n",
    "#     counter += 1\n",
    "#     max_trial_counter -= 1\n",
    "\n",
    "import livecellx\n",
    "from livecellx.core.single_cell import sample_samples_from_sctc\n",
    "# import importlib\n",
    "# importlib.reload(livecellx)\n",
    "# importlib.reload(livecellx.core.single_cell)\n",
    "\n",
    "objective_sample_num = total_non_normal_samples * 10\n",
    "\n",
    "normal_samples, normal_samples_extra_info = sample_samples_from_sctc(sctc, exclude_scs_ids=exclude_scs_ids, objective_sample_num=objective_sample_num, seed=0, length_range=(6, 10), max_trial_counter=10000)"
   ]
  },
  {
   "cell_type": "code",
   "execution_count": null,
   "metadata": {},
   "outputs": [],
   "source": [
    "len(all_class2samples[\"normal\"]), len(normal_samples)"
   ]
  },
  {
   "cell_type": "code",
   "execution_count": null,
   "metadata": {},
   "outputs": [],
   "source": [
    "not_mitosis_scs = [sc for sample in normal_samples for sc in sample] + [sc for sample in all_class2samples[\"normal\"] for sc in sample]\n",
    "not_mitosis_scs = list(set(not_mitosis_scs))\n",
    "\n",
    "print(\"# Not mitosis scs\", len(not_mitosis_scs))"
   ]
  },
  {
   "cell_type": "markdown",
   "metadata": {},
   "source": [
    "### PCA on normal_scs and calculate correlation"
   ]
  },
  {
   "cell_type": "code",
   "execution_count": null,
   "metadata": {},
   "outputs": [],
   "source": [
    "import importlib\n",
    "import livecellx\n",
    "importlib.reload(livecellx.trajectory.feature_extractors)\n",
    "from livecellx.trajectory.feature_extractors import compute_haralick_features, compute_skimage_regionprops, parallelize_compute_features\n",
    "from livecellx.preprocess.utils import normalize_img_to_uint8\n",
    "from livecellx.core.parallel import parallelize\n",
    "\n",
    "processed_not_mitosis_scs_save_path = out_dir / \"processed_normal_scs.json\"\n",
    "if processed_not_mitosis_scs_save_path.exists():\n",
    "    not_mitosis_scs = SingleCellStatic.load_single_cells_json(out_dir / \"processed_normal_scs.json\")\n",
    "else:\n",
    "    outputs = parallelize_compute_features(not_mitosis_scs, compute_skimage_regionprops, dict(preprocess_img_func=normalize_img_to_uint8, sc_level_normalize=True))\n",
    "    not_mitosis_features = outputs[0]\n",
    "    not_mitosis_scs = outputs[1]\n",
    "    SingleCellStatic.write_single_cells_json(not_mitosis_scs, processed_not_mitosis_scs_save_path, dataset_dir= out_dir / \"datasets\")"
   ]
  },
  {
   "cell_type": "code",
   "execution_count": null,
   "metadata": {},
   "outputs": [],
   "source": [
    "import plotly.graph_objs as go\n",
    "import plotly.subplots as sp\n",
    "import numpy as np\n",
    "\n",
    "not_mitosis_cells_pca = PCA(n_components=30)\n",
    "not_mitosis_cells_normalized_img_features = create_sc_table(not_mitosis_scs, normalize_features=True)\n",
    "not_mitosis_cells_normalized_img_features = not_mitosis_cells_normalized_img_features.dropna(axis=1, how=\"all\")\n",
    "not_mitosis_cells_pca.fit(not_mitosis_cells_normalized_img_features)\n",
    "not_mitosis_cells_pca_img_features = not_mitosis_cells_pca.transform(not_mitosis_cells_normalized_img_features)\n"
   ]
  },
  {
   "cell_type": "code",
   "execution_count": null,
   "metadata": {},
   "outputs": [],
   "source": [
    "cumulative_var"
   ]
  },
  {
   "cell_type": "code",
   "execution_count": null,
   "metadata": {},
   "outputs": [],
   "source": [
    "# create a line chart of the explained variance\n",
    "explained_var = not_mitosis_cells_pca.explained_variance_ratio_\n",
    "cumulative_var = np.cumsum(explained_var)\n",
    "line_chart = go.Scatter(x=np.arange(1, len(explained_var) + 1), y=cumulative_var, mode=\"lines+markers\")\n",
    "\n",
    "\n",
    "# add a vertical line at the elbow point\n",
    "elbow_point = 12\n",
    "line_shape = go.layout.Shape(type=\"line\", x0=elbow_point, y0=0, x1=elbow_point, y1=1, line=dict(color=\"red\", width=2, dash=\"dash\"))\n",
    "# add a horizontal line at y=0.9\n",
    "hline_shape = go.layout.Shape(type=\"line\", x0=0, y0=0.9, x1=len(explained_var), y1=0.9, line=dict(color=\"red\", width=2, dash=\"dash\"))\n",
    "\n",
    "layout = go.Layout(title=\"Interphase PCA\", xaxis=dict(title=\"Number of Components\", tickvals=list(range(0, len(explained_var), 2)) + [12],), yaxis=dict(title=\"Cumulative Explained Variance\",tickvals=[0.2, 0.4, 0.6, 0.8, 0.9, 1],), shapes=[], width=800, height=600)\n",
    "\n",
    "fig = go.Figure(data=[line_chart], layout=layout)\n",
    "fig.add_shape(line_shape)\n",
    "fig.add_shape(hline_shape)\n",
    "fig.show()"
   ]
  },
  {
   "cell_type": "code",
   "execution_count": null,
   "metadata": {},
   "outputs": [],
   "source": [
    "visualize_scs_skimage_plotly(not_mitosis_scs, not_mitosis_cells_pca_img_features, not_mitosis_cells_normalized_img_features, feature=\"skimage_area\", title=\"Normal cells: area\", clip_max=1)"
   ]
  },
  {
   "cell_type": "code",
   "execution_count": null,
   "metadata": {},
   "outputs": [],
   "source": [
    "# calculate UMAP for normal/other cells\n",
    "umap_reducer = umap.UMAP()\n",
    "not_mitosis_cells_umap_embedding = umap_reducer.fit_transform(not_mitosis_cells_pca_img_features)"
   ]
  },
  {
   "cell_type": "code",
   "execution_count": null,
   "metadata": {},
   "outputs": [],
   "source": [
    "def viz_by_sc_id(scs, sc_id):\n",
    "    for sc in scs:\n",
    "        if sc.id == sc_id:\n",
    "            sc.show(crop=True, padding=200)\n",
    "viz_by_sc_id(not_mitosis_scs, 0)"
   ]
  },
  {
   "cell_type": "code",
   "execution_count": null,
   "metadata": {},
   "outputs": [],
   "source": [
    "visualize_scs_skimage_plotly(not_mitosis_scs, not_mitosis_cells_umap_embedding, not_mitosis_cells_normalized_img_features, feature=\"skimage_area\", title=\"Normal cells: area\", clip_min=0, clip_max=1)"
   ]
  },
  {
   "cell_type": "code",
   "execution_count": null,
   "metadata": {},
   "outputs": [],
   "source": [
    "visualize_scs_skimage_plotly(not_mitosis_scs, not_mitosis_cells_umap_embedding, not_mitosis_cells_normalized_img_features, feature=\"skimage_moments-0-1\", title=\"Normal cells: area\", clip_min=0, clip_max=1)"
   ]
  },
  {
   "cell_type": "code",
   "execution_count": null,
   "metadata": {},
   "outputs": [],
   "source": [
    "topk_pc_rank_df[\"feature\"] = [\"mitotic-\" + x for x in topk_pc_rank_df[\"feature\"]]"
   ]
  },
  {
   "cell_type": "code",
   "execution_count": null,
   "metadata": {},
   "outputs": [],
   "source": [
    "import plotly.graph_objs as go\n",
    "\n",
    "pc_col_names = [f\"PC{i}\" for i in range(not_mitosis_cells_pca_img_features.shape[1])]\n",
    "not_mitosis_cells_pca_img_features_df = pd.DataFrame(not_mitosis_cells_pca_img_features, columns=pc_col_names)\n",
    "not_mitosis_pc2df = compute_dims_corr(not_mitosis_cells_pca_img_features_df, not_mitosis_cells_normalized_img_features)\n",
    "\n",
    "topk_pc = 12\n",
    "topk_features = 5\n",
    "not_mitosis_topk_pc_rank_df = pd.concat([not_mitosis_pc2df[f\"PC{i}\"][:topk_features] for i in range(topk_pc)], ignore_index=True)\n",
    "\n",
    "# create a bar chart of the \"corr\" column\n",
    "not_mitosis_topk_pc_rank_df[\"abs_corr\"] = not_mitosis_topk_pc_rank_df[\"corr\"].abs()\n",
    "not_mitosis_topk_pc_rank_df = not_mitosis_topk_pc_rank_df.sort_values(by='abs_corr')\n",
    "\n",
    "# topk_pc_rank_df[\"color\"] = \"red\"\n",
    "# not_mitosis_topk_pc_rank_df[\"color\"] = \"blue\"\n",
    "topk_pc_rank_df[\"color\"] = \"green\"\n",
    "not_mitosis_topk_pc_rank_df[\"color\"] = \"purple\"\n",
    "\n",
    "combined_pc_rank_df = pd.concat([topk_pc_rank_df, not_mitosis_topk_pc_rank_df], ignore_index=True)\n",
    "\n",
    "# Replace \"skimage_\" with \"\"\n",
    "combined_pc_rank_df[\"feature\"] = combined_pc_rank_df[\"feature\"].str.replace(\"skimage_\", \"\")\n",
    "# bar_chart = go.Bar(y=not_mitosis_topk_pc_rank_df[\"feature\"], x=not_mitosis_topk_pc_rank_df[\"abs_corr\"], orientation=\"h\")\n",
    "# bar_chart = go.Bar(y=topk_pc_rank_df[\"feature\"], x=not_mitosis_topk_pc_rank_df[\"abs_corr\"], orientation=\"h\", marker=dict(color=\"red\"))\n",
    "\n",
    "combined_pc_rank_df = combined_pc_rank_df.sort_values(by=\"abs_corr\")\n",
    "combined_pc_rank_df.to_csv(\"./tmp/combined_pc_rank_df.csv\")\n",
    "# combined_pc_rank_df = combined_pc_rank_df[-40:]\n",
    "bar_chart = go.Bar(y=combined_pc_rank_df[\"feature\"], x=combined_pc_rank_df[\"abs_corr\"], orientation=\"h\", marker=dict(color=combined_pc_rank_df[\"color\"]))\n",
    "\n",
    "layout = go.Layout(\n",
    "    title=\"Top-%d PC Rank of Interphase and Mitotic Cells\" % (topk_pc),\n",
    "    xaxis=dict(title=\"Correlation\"),\n",
    "    yaxis=dict(title=\"Feature\"),\n",
    "    width=800,\n",
    "    height=1600,\n",
    ")\n",
    "layout[\"yaxis\"][\"title\"] = \"\"\n",
    "fig = go.Figure(data=[bar_chart], layout=layout)\n",
    "fig.show()\n"
   ]
  },
  {
   "cell_type": "code",
   "execution_count": null,
   "metadata": {},
   "outputs": [],
   "source": [
    "import plotly\n",
    "import plotly.io as pio\n",
    "# import importlib\n",
    "# importlib.reload(plotly.io)\n",
    "\n",
    "plotly.io.write_image(fig, './tmp/Figure-PCA-top-pc-features.png', scale=2)"
   ]
  },
  {
   "cell_type": "code",
   "execution_count": null,
   "metadata": {},
   "outputs": [],
   "source": [
    "# find all features in topk_pc_rank_df but not in not_mitosis_topk_pc_rank_df\n",
    "\n",
    "mitosis_features = topk_pc_rank_df[\"feature\"].unique()\n",
    "not_mitosis_features = not_mitosis_topk_pc_rank_df[\"feature\"].unique()\n",
    "not_mitosis_features = set(not_mitosis_features)\n",
    "mitosis_features = [feature.replace(\"mitotic-\", \"\") for feature in mitosis_features]\n",
    "mitosis_features = set(mitosis_features)\n",
    "\n",
    "mitosis_features - not_mitosis_features"
   ]
  },
  {
   "cell_type": "code",
   "execution_count": null,
   "metadata": {},
   "outputs": [],
   "source": [
    "[feature for feature in mitosis_features if feature.find(\"area\") != -1], [feature for feature in not_mitosis_features if feature.find(\"area\") != -1]"
   ]
  },
  {
   "cell_type": "code",
   "execution_count": null,
   "metadata": {},
   "outputs": [],
   "source": [
    "mitosis_normalized_feature = normalized_img_features\n",
    "not_mitosis_cells_normalized_img_features, normalized_img_features\n",
    "assert set(mitosis_normalized_feature.columns) == set(not_mitosis_cells_normalized_img_features)"
   ]
  },
  {
   "cell_type": "markdown",
   "metadata": {},
   "source": [
    "### Define the labels of mitosis and interphase cells\n",
    "0 - mitosis  \n",
    "1 - interphase  "
   ]
  },
  {
   "cell_type": "code",
   "execution_count": null,
   "metadata": {},
   "outputs": [],
   "source": [
    "# merge the two tables and add a label according to the class\n",
    "mitosis_normalized_feature[\"label\"] = 0\n",
    "not_mitosis_cells_normalized_img_features[\"label\"] = 1\n",
    "\n",
    "all_cells_merged_features_df = pd.concat([mitosis_normalized_feature, not_mitosis_cells_normalized_img_features], ignore_index=True)"
   ]
  },
  {
   "cell_type": "code",
   "execution_count": null,
   "metadata": {},
   "outputs": [],
   "source": [
    "len(all_cells_merged_features_df.columns)"
   ]
  },
  {
   "cell_type": "code",
   "execution_count": null,
   "metadata": {},
   "outputs": [],
   "source": [
    "# train a model to predict mitosis relative time\n",
    "\n",
    "assert len(normalized_img_features) == len(mitosis_processed_scs) and len(not_mitosis_cells_normalized_img_features) == len(not_mitosis_scs)\n"
   ]
  },
  {
   "cell_type": "markdown",
   "metadata": {},
   "source": [
    "### Predict mitosis relative time"
   ]
  },
  {
   "cell_type": "code",
   "execution_count": null,
   "metadata": {},
   "outputs": [],
   "source": [
    "for sc in mitosis_processed_scs:\n",
    "    assert \"mitosis_div_relative_time\" in sc.meta, sc"
   ]
  },
  {
   "cell_type": "code",
   "execution_count": null,
   "metadata": {},
   "outputs": [],
   "source": [
    "normalized_img_features[\"mitosis_relative_time\"] = [sc.meta[\"mitosis_relative_time\"] for sc in mitosis_processed_scs]\n",
    "normalized_img_features[\"mitosis_div_relative_time\"] = [sc.meta[\"mitosis_div_relative_time\"] for sc in mitosis_processed_scs]\n",
    "normalized_img_features[\"mitosis_div_relative_time_normalized\"] = [sc.meta[\"mitosis_div_relative_time_normalized\"] for sc in mitosis_processed_scs]\n",
    "\n",
    "# clip the mitosis relative time to 10\n",
    "normalized_img_features[\"mitosis_relative_time\"] = np.clip(normalized_img_features[\"mitosis_relative_time\"], 0, 10)\n",
    "normalized_img_features[\"mitosis_div_relative_time\"] = np.clip(normalized_img_features[\"mitosis_div_relative_time\"], -10, 10)\n",
    "normalized_img_features[\"mitosis_div_relative_time_normalized\"] = np.clip(normalized_img_features[\"mitosis_div_relative_time_normalized\"], -10, 10)\n",
    "not_mitosis_cells_normalized_img_features[\"mitosis_relative_time\"] = [0 for sc in not_mitosis_scs]\n",
    "\n",
    "all_cells_merged_features_df = pd.concat([normalized_img_features, not_mitosis_cells_normalized_img_features], ignore_index=True)"
   ]
  },
  {
   "cell_type": "code",
   "execution_count": null,
   "metadata": {},
   "outputs": [],
   "source": [
    "mitosis_normalized_feature[\"relative_time\"] = [sc.meta[\"mitosis_relative_time\"] for sc in mitosis_processed_scs]\n",
    "\n",
    "\n",
    "min_relative_time, max_relative_time = 1, 15\n",
    "filtered_mitosis_normalized_feature = mitosis_normalized_feature[mitosis_normalized_feature[\"relative_time\"] >= min_relative_time]\n",
    "filtered_mitosis_normalized_feature = filtered_mitosis_normalized_feature[mitosis_normalized_feature[\"relative_time\"] <= max_relative_time]\n",
    "filtered_mitosis_normalized_feature.drop(\"relative_time\", axis=1, inplace=True)\n",
    "# filtered_mitosis_normalized_feature.drop(\"mitosis_relative_time\", axis=1, inplace=True)"
   ]
  },
  {
   "cell_type": "code",
   "execution_count": null,
   "metadata": {},
   "outputs": [],
   "source": [
    "len(normalized_img_features), len(filtered_mitosis_normalized_feature)"
   ]
  },
  {
   "cell_type": "code",
   "execution_count": null,
   "metadata": {},
   "outputs": [],
   "source": [
    "filtered_mitosis_normalized_feature.columns"
   ]
  },
  {
   "cell_type": "code",
   "execution_count": null,
   "metadata": {},
   "outputs": [],
   "source": [
    "from sklearn.model_selection import train_test_split\n",
    "from sklearn.linear_model import LinearRegression, Lasso\n",
    "from sklearn.metrics import mean_squared_error\n",
    "\n",
    "# define features (X) and target (y)\n",
    "# X = all_cells_merged_features_df.drop('mitosis_relative_time', axis=1)\n",
    "# y = all_cells_merged_features_df['mitosis_relative_time']\n",
    "\n",
    "# X = normalized_img_features.drop('mitosis_relative_time', axis=1)\n",
    "# y = normalized_img_features['mitosis_relative_time']\n",
    "X = filtered_mitosis_normalized_feature.drop('mitosis_relative_time', axis=1).drop(\"mitosis_div_relative_time\", axis=1).drop(\"mitosis_div_relative_time_normalized\", axis=1)\n",
    "y = filtered_mitosis_normalized_feature['mitosis_relative_time']\n",
    "\n",
    "# split the data into training and testing sets\n",
    "X_train, X_test, y_train, y_test = train_test_split(X, y, test_size=0.2, random_state=42)\n",
    "\n",
    "# train a linear regression model\n",
    "# lr_model = LinearRegression()\n",
    "mitosis_time_lr_model = Lasso(alpha=0.01, max_iter=1000000)\n",
    "mitosis_time_lr_model.fit(X_train, y_train)\n",
    "\n",
    "\n",
    "# print training loss\n",
    "y_pred_train = mitosis_time_lr_model.predict(X_train)\n",
    "train_loss = np.sqrt(mean_squared_error(y_train, y_pred_train))\n",
    "print(\"MSE train loss:\", train_loss)\n",
    "\n",
    "# make predictions on the testing data\n",
    "y_pred = mitosis_time_lr_model.predict(X_test)\n",
    "\n",
    "# compute the RMSE of the predictions\n",
    "rmse_mitosis_time = np.sqrt(mean_squared_error(y_test, y_pred))\n",
    "print(\"RMSE: \", rmse_mitosis_time)"
   ]
  },
  {
   "cell_type": "markdown",
   "metadata": {},
   "source": [
    "Predict on div_time instead of mitosis relative time"
   ]
  },
  {
   "cell_type": "code",
   "execution_count": null,
   "metadata": {},
   "outputs": [],
   "source": [
    "from sklearn.model_selection import train_test_split\n",
    "from sklearn.linear_model import LinearRegression, Lasso\n",
    "from sklearn.metrics import mean_squared_error\n",
    "from sklearn.svm import SVR\n",
    "# define features (X) and target (y)\n",
    "# X = all_cells_merged_features_df.drop('mitosis_relative_time', axis=1)\n",
    "# y = all_cells_merged_features_df['mitosis_relative_time']\n",
    "\n",
    "# X = normalized_img_features.drop('mitosis_relative_time', axis=1)\n",
    "# y = normalized_img_features['mitosis_relative_time']\n",
    "\n",
    "no_na_filtered_mitosis_normalized_feature = filtered_mitosis_normalized_feature.dropna()\n",
    "\n",
    "\n",
    "# # filter by relative division time\n",
    "# no_na_filtered_mitosis_normalized_feature = no_na_filtered_mitosis_normalized_feature[no_na_filtered_mitosis_normalized_feature[\"mitosis_div_relative_time_normalized\"] < 0]\n",
    "\n",
    "X = no_na_filtered_mitosis_normalized_feature.drop('mitosis_relative_time', axis=1)\\\n",
    "    .drop(\"mitosis_div_relative_time\", axis=1)\\\n",
    "    .drop(\"mitosis_div_relative_time_normalized\", axis=1)\n",
    "# y = no_na_filtered_mitosis_normalized_feature[\"mitosis_div_relative_time\"].abs()\n",
    "y = no_na_filtered_mitosis_normalized_feature[\"mitosis_div_relative_time_normalized\"].abs()\n",
    "\n",
    "# split the data into training and testing sets\n",
    "X_train, X_test, y_train, y_test = train_test_split(X, y, test_size=0.2, random_state=42)\n",
    "\n",
    "# train a linear regression model\n",
    "# lr_model = LinearRegression()\n",
    "div_time_lr_model = Lasso(alpha=0.0005, max_iter=1000000)\n",
    "# div_time_lr_model = SVR(kernel='rbf', C=1.0, epsilon=0.2)\n",
    "\n",
    "div_time_lr_model.fit(X_train, y_train)\n",
    "\n",
    "# make predictions on the testing data\n",
    "y_pred = div_time_lr_model.predict(X_test)\n",
    "\n",
    "# print training loss\n",
    "y_pred_train = div_time_lr_model.predict(X_train)\n",
    "train_loss = np.sqrt(mean_squared_error(y_train, y_pred_train))\n",
    "print(\"MSE train loss:\", train_loss)\n",
    "\n",
    "# compute the RMSE of the predictions\n",
    "rmse_div_time = np.sqrt(mean_squared_error(y_test, y_pred))\n",
    "print(\"RMSE: \", rmse_div_time)"
   ]
  },
  {
   "cell_type": "code",
   "execution_count": null,
   "metadata": {},
   "outputs": [],
   "source": [
    "import matplotlib.pyplot as plt\n",
    "\n",
    "lr_model = div_time_lr_model\n",
    "# make predictions on the training data\n",
    "y_train_pred = lr_model.predict(X_train)\n",
    "\n",
    "# compute the RMSE of the predictions\n",
    "train_rmse = np.sqrt(mean_squared_error(y_train, y_train_pred))\n",
    "test_rmse = np.sqrt(mean_squared_error(y_test, y_pred))\n",
    "\n",
    "# create a scatter plot of actual vs. predicted values\n",
    "plt.figure(figsize=(10, 12), dpi=300)\n",
    "plt.scatter(y_train, y_train_pred, color='blue', label=f'Train, RMSE={train_rmse:.2f}', alpha=0.1)\n",
    "plt.scatter(y_test, y_pred, color='red', label=f'Test, RMSE={test_rmse:.2f}', alpha=0.1)\n",
    "plt.plot([y.min(), y.max()], [y.min(), y.max()], 'k--', lw=3, label='Perfect prediction')\n",
    "# plt.plot([0, 5], [0, 5], 'k--', lw=3, label='Perfect prediction')\n",
    "plt.xlabel('Actual')\n",
    "plt.ylabel('Predicted')\n",
    "plt.title('Actual vs. Predicted Values')\n",
    "plt.xlim(0, 2.5)  # set the x-axis limits\n",
    "plt.ylim(0, 2.5)  # set the y-axis limits\n",
    "plt.legend()\n",
    "plt.show()"
   ]
  },
  {
   "cell_type": "markdown",
   "metadata": {},
   "source": [
    "Predict on HeLa cells"
   ]
  },
  {
   "cell_type": "code",
   "execution_count": null,
   "metadata": {},
   "outputs": [],
   "source": [
    "# import matplotlib.pyplot as plt\n",
    "\n",
    "# # make predictions on the testing data\n",
    "# y_pred = lr_model.predict(X_test)\n",
    "\n",
    "# # create a scatter plot of actual vs predicted values\n",
    "\n",
    "# plt.scatter(y_test, y_pred)\n",
    "# plt.xlabel('Actual Values')\n",
    "# plt.ylabel('Predicted Values')\n",
    "# plt.title('Actual vs Predicted Values')\n",
    "# plt.show()"
   ]
  },
  {
   "cell_type": "code",
   "execution_count": null,
   "metadata": {},
   "outputs": [],
   "source": [
    "# from sklearn.svm import SVR\n",
    "\n",
    "# # define features (X) and target (y)\n",
    "# X = normalized_img_features.drop('mitosis_relative_time', axis=1)\n",
    "# y = normalized_img_features['mitosis_relative_time']\n",
    "\n",
    "# # split the data into training and testing sets\n",
    "# X_train, X_test, y_train, y_test = train_test_split(X, y, test_size=0.2, random_state=42)\n",
    "\n",
    "# # train a SVR model\n",
    "# svr_model = SVR(kernel='linear')  # you can change the kernel as needed\n",
    "# svr_model.fit(X_train, y_train)\n",
    "\n",
    "# # make predictions on the testing data\n",
    "# y_pred = svr_model.predict(X_test)\n",
    "\n",
    "# # compute the RMSE of the predictions\n",
    "# rmse = np.sqrt(mean_squared_error(y_test, y_pred))\n",
    "# print(\"RMSE: \", rmse)"
   ]
  },
  {
   "cell_type": "code",
   "execution_count": null,
   "metadata": {},
   "outputs": [],
   "source": [
    "len(mitosis_normalized_feature), len(mitosis_processed_scs), len(not_mitosis_scs), len(not_mitosis_cells_normalized_img_features)"
   ]
  },
  {
   "cell_type": "markdown",
   "metadata": {},
   "source": [
    "## Logistic regression\n",
    "Filter according to mitosis relative time"
   ]
  },
  {
   "cell_type": "code",
   "execution_count": null,
   "metadata": {},
   "outputs": [],
   "source": [
    "mitosis_normalized_feature[\"relative_time\"] = [sc.meta[\"mitosis_relative_time\"] for sc in mitosis_processed_scs]\n",
    "\n",
    "min_relative_time, max_relative_time = 1, 15\n",
    "filtered_mitosis_normalized_feature = mitosis_normalized_feature[mitosis_normalized_feature[\"relative_time\"] >= min_relative_time]\n",
    "\n",
    "filtered_mitosis_normalized_feature = filtered_mitosis_normalized_feature[mitosis_normalized_feature[\"relative_time\"] <= max_relative_time]\n",
    "filtered_mitosis_normalized_feature.drop(\"relative_time\", axis=1, inplace=True)"
   ]
  },
  {
   "cell_type": "code",
   "execution_count": null,
   "metadata": {},
   "outputs": [],
   "source": [
    "len(mitosis_normalized_feature)"
   ]
  },
  {
   "cell_type": "code",
   "execution_count": null,
   "metadata": {},
   "outputs": [],
   "source": [
    "filtered_mitosis_normalized_feature.drop(\"mitosis_relative_time\", axis=1, inplace=True)"
   ]
  },
  {
   "cell_type": "code",
   "execution_count": null,
   "metadata": {},
   "outputs": [],
   "source": [
    "if \"mitosis_relative_time\" in not_mitosis_cells_normalized_img_features:\n",
    "    not_mitosis_cells_normalized_img_features.drop(\"mitosis_relative_time\", axis=1, inplace=True)"
   ]
  },
  {
   "cell_type": "code",
   "execution_count": null,
   "metadata": {},
   "outputs": [],
   "source": [
    "all_cells_merged_features_df.dropna()[\"label\"].unique()"
   ]
  },
  {
   "cell_type": "code",
   "execution_count": null,
   "metadata": {},
   "outputs": [],
   "source": [
    "\", \".join(all_cells_merged_features_df.columns)"
   ]
  },
  {
   "cell_type": "code",
   "execution_count": null,
   "metadata": {},
   "outputs": [],
   "source": [
    "# merge the two tables and add a label according to the class\n",
    "filtered_mitosis_normalized_feature[\"label\"] = 0\n",
    "not_mitosis_cells_normalized_img_features[\"label\"] = 1\n",
    "\n",
    "all_cells_merged_features_df = pd.concat([filtered_mitosis_normalized_feature, not_mitosis_cells_normalized_img_features], ignore_index=True)\n",
    "\n",
    "all_cells_merged_features_df = all_cells_merged_features_df.drop(\"mitosis_relative_times\", axis=1, errors=\"ignore\").drop(\"relative_time\", errors=\"ignore\", axis=1).drop(\"mitosis_div_relative_time_normalized\", axis=1).drop(\"mitosis_div_relative_time\", axis=1)\n",
    "\n",
    "assert \"mitosis_relative_time\" not in all_cells_merged_features_df.columns\n",
    "assert \"relative_time\" not in all_cells_merged_features_df.columns\n",
    "# Train a linear regression model to predict the label\n",
    "\n",
    "from sklearn.linear_model import LogisticRegression\n",
    "from sklearn.model_selection import train_test_split\n",
    "from sklearn.metrics import accuracy_score\n",
    "\n",
    "# split the data into train and test\n",
    "X = all_cells_merged_features_df.dropna().drop(columns=[\"label\"])\n",
    "y = all_cells_merged_features_df.dropna()[\"label\"]\n",
    "X_train, X_test, y_train, y_test = train_test_split(X, y, test_size=0.2, random_state=0)\n",
    "X_train.to_csv(out_dir / \"X_train.csv\", index=False)\n",
    "X_test.to_csv(out_dir / \"X_test.csv\", index=False)\n",
    "y_train.to_csv(out_dir / \"y_train.csv\", index=False)\n",
    "y_test.to_csv(out_dir / \"y_test.csv\", index=False)\n",
    "\n",
    "all_df = pd.concat([mitosis_normalized_feature, not_mitosis_cells_normalized_img_features], ignore_index=True)\n",
    "all_df.to_csv(out_dir / \"all_df_with_times.csv\", index=False)"
   ]
  },
  {
   "cell_type": "code",
   "execution_count": null,
   "metadata": {},
   "outputs": [],
   "source": [
    "all_df.columns"
   ]
  },
  {
   "cell_type": "code",
   "execution_count": null,
   "metadata": {},
   "outputs": [],
   "source": [
    "from sklearn.metrics import classification_report, confusion_matrix\n",
    "\n",
    "def lr_model():\n",
    "    # train a logistic regression model\n",
    "    # lr_model = LogisticRegression(n_jobs=-1, solver='saga', max_iter=100000)\n",
    "    lr_model = LogisticRegression(n_jobs=-1, solver='newton-cg', max_iter=10000, penalty=None)\n",
    "    lr_model.fit(X_train, y_train)\n",
    "\n",
    "\n",
    "    y_pred = lr_model.predict(X_train)\n",
    "\n",
    "    # compute the accuracy\n",
    "    accuracy = accuracy_score(y_train, y_pred)\n",
    "    print (\"#\" * 40, \"Train\", \"#\" * 40)\n",
    "    print(\"Accuracy:\", accuracy)\n",
    "\n",
    "    # print classification report\n",
    "    print(\"Classification Report:\")\n",
    "    print(classification_report(y_train, y_pred, digits=4))\n",
    "\n",
    "    # print confusion matrix\n",
    "    print(\"Confusion Matrix:\")\n",
    "    print(confusion_matrix(y_train, y_pred))\n",
    "\n",
    "    print(\"#\" * 40, \"Test\", \"#\" * 40)\n",
    "    y_pred = lr_model.predict(X_test)\n",
    "\n",
    "    # compute the accuracy\n",
    "    accuracy = accuracy_score(y_test, y_pred)\n",
    "    print(\"Accuracy:\", accuracy)\n",
    "\n",
    "    # print classification report\n",
    "    print(\"Classification Report:\")\n",
    "    print(classification_report(y_test, y_pred, digits=4))\n",
    "\n",
    "    # print confusion matrix\n",
    "    print(\"Confusion Matrix:\")\n",
    "    print(confusion_matrix(y_test, y_pred))\n"
   ]
  },
  {
   "cell_type": "code",
   "execution_count": null,
   "metadata": {},
   "outputs": [],
   "source": [
    "from sklearn.metrics import classification_report, confusion_matrix\n",
    "\n",
    "# train a logistic regression model\n",
    "# lr_model = LogisticRegression(n_jobs=-1, solver='saga', max_iter=100000)\n",
    "lr_model = LogisticRegression(n_jobs=-1, solver='newton-cg', max_iter=10000, penalty=None)\n",
    "lr_model.fit(X_train, y_train)\n",
    "\n",
    "\n",
    "y_pred = lr_model.predict(X_train)\n",
    "\n",
    "# compute the accuracy\n",
    "accuracy = accuracy_score(y_train, y_pred)\n",
    "print (\"#\" * 40, \"Train\", \"#\" * 40)\n",
    "print(\"Accuracy:\", accuracy)\n",
    "\n",
    "# print classification report\n",
    "print(\"Classification Report:\")\n",
    "print(classification_report(y_train, y_pred, digits=4))\n",
    "\n",
    "# print confusion matrix\n",
    "print(\"Confusion Matrix:\")\n",
    "print(confusion_matrix(y_train, y_pred))\n",
    "\n",
    "print(\"#\" * 40, \"Test\", \"#\" * 40)\n",
    "y_pred = lr_model.predict(X_test)\n",
    "\n",
    "# compute the accuracy\n",
    "accuracy = accuracy_score(y_test, y_pred)\n",
    "print(\"Accuracy:\", accuracy)\n",
    "\n",
    "# print classification report\n",
    "print(\"Classification Report:\")\n",
    "print(classification_report(y_test, y_pred, digits=4))\n",
    "\n",
    "# print confusion matrix\n",
    "print(\"Confusion Matrix:\")\n",
    "print(confusion_matrix(y_test, y_pred))\n"
   ]
  },
  {
   "cell_type": "markdown",
   "metadata": {},
   "source": [
    "## Load and predict on hela cells"
   ]
  },
  {
   "cell_type": "code",
   "execution_count": null,
   "metadata": {},
   "outputs": [],
   "source": [
    "hela_json_dirs = [\n",
    "    Path(r\"../datasets/mitosis-annotations-2023/DIC-C2DH-HeLa/01_annotation\"),\n",
    "    Path(r\"../datasets/mitosis-annotations-2023/DIC-C2DH-HeLa/02_annotation\")\n",
    "]\n",
    "\n",
    "hela_all_class2samples, hela_all_class2sample_extra_info = load_all_json_dirs(hela_json_dirs)\n",
    "hela_scs = []\n",
    "for cls in hela_all_class2samples:\n",
    "    for sample in hela_all_class2samples[cls]:\n",
    "        hela_scs.extend(sample)\n",
    "print(\"#hela scs:\", len(hela_scs))"
   ]
  },
  {
   "cell_type": "code",
   "execution_count": null,
   "metadata": {},
   "outputs": [],
   "source": [
    "all_hela_cells_path = \"../datasets/mitosis-annotations-2023/DIC-C2DH-HeLa/01_annotation/single_cells.json\"\n",
    "all_hela_scs = SingleCellStatic.load_single_cells_json(all_hela_cells_path)\n",
    "\n",
    "mitosis_hela_cells = [sc for sc in sample for sample in hela_all_class2samples[\"mitosis\"]]\n",
    "mitosis_hela_cell_ids = [sc.id for sc in mitosis_hela_cells]\n",
    "print(f\"{len(all_hela_scs)} loaded\")\n",
    "all_non_mitosis_hela_scs = [sc for sc in all_hela_scs if sc.id not in mitosis_hela_cell_ids]\n",
    "\n",
    "print(f\"{len(all_non_mitosis_hela_scs)} interphase cells\")"
   ]
  },
  {
   "cell_type": "code",
   "execution_count": null,
   "metadata": {},
   "outputs": [],
   "source": [
    "from livecellx.trajectory.feature_extractors import parallelize_compute_features\n",
    "# compute features for hela_scs\n",
    "non_mitosis_hela_processed_scs_save_path = out_dir / \"processed_interphase_hela_scs.json\"\n",
    "if non_mitosis_hela_processed_scs_save_path.exists():\n",
    "    processed_non_mitosis_hela_scs = SingleCellStatic.load_single_cells_json(non_mitosis_hela_processed_scs_save_path)\n",
    "else:\n",
    "    _, processed_non_mitosis_hela_scs = parallelize_compute_features(all_non_mitosis_hela_scs, compute_skimage_regionprops, {\"feature_key\": \"skimage\",\n",
    "            \"preprocess_img_func\": normalize_img_to_uint8,\n",
    "            \"sc_level_normalize\": True,\n",
    "        })\n",
    "    SingleCellStatic.write_single_cells_json(processed_non_mitosis_hela_scs, non_mitosis_hela_processed_scs_save_path, dataset_dir= out_dir / \"datasets\")\n",
    "\n",
    "non_mitosis_processed_hela_scs = processed_non_mitosis_hela_scs"
   ]
  },
  {
   "cell_type": "code",
   "execution_count": null,
   "metadata": {},
   "outputs": [],
   "source": [
    "from livecellx.trajectory.feature_extractors import parallelize_compute_features\n",
    "# compute features for hela_scs\n",
    "hela_processed_scs_save_path = out_dir / \"processed_hela_scs.json\"\n",
    "if hela_processed_scs_save_path.exists():\n",
    "    processed_hela_scs = SingleCellStatic.load_single_cells_json(hela_processed_scs_save_path)\n",
    "else:\n",
    "    _, processed_hela_scs = parallelize_compute_features(hela_scs, compute_skimage_regionprops, {\"feature_key\": \"skimage\",\n",
    "            \"preprocess_img_func\": normalize_img_to_uint8,\n",
    "            \"sc_level_normalize\": True,\n",
    "        })\n",
    "    SingleCellStatic.write_single_cells_json(processed_hela_scs, hela_processed_scs_save_path, dataset_dir= out_dir / \"datasets\")\n",
    "\n",
    "mitosis_hela_cells = processed_hela_scs"
   ]
  },
  {
   "cell_type": "code",
   "execution_count": null,
   "metadata": {},
   "outputs": [],
   "source": [
    "hela_mitosis_normalized_img_features = create_sc_table(processed_hela_scs, normalize_features=True)"
   ]
  },
  {
   "cell_type": "code",
   "execution_count": null,
   "metadata": {},
   "outputs": [],
   "source": [
    "set(filtered_mitosis_normalized_feature.columns).difference(set(hela_mitosis_normalized_img_features.columns))"
   ]
  },
  {
   "cell_type": "code",
   "execution_count": null,
   "metadata": {},
   "outputs": [],
   "source": [
    "set(hela_mitosis_normalized_img_features.columns).difference(set(filtered_mitosis_normalized_feature.columns))"
   ]
  },
  {
   "cell_type": "code",
   "execution_count": null,
   "metadata": {},
   "outputs": [],
   "source": [
    "len(set(hela_mitosis_normalized_img_features.columns)), len(set(filtered_mitosis_normalized_feature.columns))"
   ]
  },
  {
   "cell_type": "code",
   "execution_count": null,
   "metadata": {},
   "outputs": [],
   "source": [
    "lr_features = lr_model.feature_names_in_\n",
    "hela_mitosis_normalized_img_features = hela_mitosis_normalized_img_features[lr_features]"
   ]
  },
  {
   "cell_type": "code",
   "execution_count": null,
   "metadata": {},
   "outputs": [],
   "source": [
    "# assert len(set(hela_mitosis_normalized_img_features.columns)) == (len(set(filtered_mitosis_normalized_feature.columns)) - 1) # minus label"
   ]
  },
  {
   "cell_type": "code",
   "execution_count": null,
   "metadata": {},
   "outputs": [],
   "source": [
    "non_mitosis_hela_mitosis_normalized_img_features = create_sc_table(non_mitosis_processed_hela_scs, normalize_features=True)\n",
    "hela_non_mitosis_normalized_img_features = non_mitosis_hela_mitosis_normalized_img_features[lr_features]"
   ]
  },
  {
   "cell_type": "code",
   "execution_count": null,
   "metadata": {},
   "outputs": [],
   "source": [
    "hela_all = pd.concat([hela_mitosis_normalized_img_features, hela_non_mitosis_normalized_img_features], ignore_index=True)\n",
    "hela_all_y_labels = [0 for _ in range(len(hela_mitosis_normalized_img_features))] + [1 for _ in range(len(hela_non_mitosis_normalized_img_features))]\n",
    "\n",
    "hela_preds = lr_model.predict(hela_all)\n",
    "accuracy = lr_model.score(hela_all, hela_all_y_labels)\n",
    "print(\"Accuracy:\", accuracy * 100)\n",
    "\n",
    "# print confusion matrix\n",
    "print(\"Confusion Matrix:\")\n",
    "print(confusion_matrix(hela_all_y_labels, hela_preds))\n"
   ]
  },
  {
   "cell_type": "code",
   "execution_count": null,
   "metadata": {},
   "outputs": [],
   "source": [
    "all_hela_cells_path = \"../datasets/mitosis-annotations-2023/DIC-C2DH-HeLa/01_annotation/single_cells.json\"\n",
    "all_hela_scs = SingleCellStatic.load_single_cells_json(all_hela_cells_path)\n",
    "\n",
    "mitosis_hela_cell_ids = [sc.id for sc in mitosis_hela_cells]\n",
    "print(f\"{len(all_hela_scs)} loaded\")\n",
    "all_non_mitosis_hela_scs = [sc for sc in all_hela_scs if sc.id not in mitosis_hela_cell_ids]\n",
    "\n",
    "print(f\"{len(all_non_mitosis_hela_scs)} interphase cells\")"
   ]
  },
  {
   "cell_type": "code",
   "execution_count": null,
   "metadata": {},
   "outputs": [],
   "source": [
    "from livecellx.trajectory.feature_extractors import parallelize_compute_features\n",
    "# compute features for hela_scs\n",
    "non_mitosis_hela_processed_scs_save_path = out_dir / \"processed_interphase_hela_scs.json\"\n",
    "if non_mitosis_hela_processed_scs_save_path.exists():\n",
    "    processed_non_mitosis_hela_scs = SingleCellStatic.load_single_cells_json(non_mitosis_hela_processed_scs_save_path)\n",
    "else:\n",
    "    _, processed_non_mitosis_hela_scs = parallelize_compute_features(all_non_mitosis_hela_scs, compute_skimage_regionprops, {\"feature_key\": \"skimage\",\n",
    "            \"preprocess_img_func\": normalize_img_to_uint8,\n",
    "            \"sc_level_normalize\": True,\n",
    "        })\n",
    "    SingleCellStatic.write_single_cells_json(processed_non_mitosis_hela_scs, non_mitosis_hela_processed_scs_save_path, dataset_dir= out_dir / \"datasets\")\n",
    "\n",
    "non_mitosis_processed_hela_scs = processed_non_mitosis_hela_scs"
   ]
  },
  {
   "cell_type": "code",
   "execution_count": null,
   "metadata": {},
   "outputs": [],
   "source": [
    "non_mitosis_hela_mitosis_normalized_img_features = create_sc_table(non_mitosis_processed_hela_scs, normalize_features=True)\n",
    "hela_non_mitosis_normalized_img_features = non_mitosis_hela_mitosis_normalized_img_features[lr_features]"
   ]
  },
  {
   "cell_type": "code",
   "execution_count": null,
   "metadata": {},
   "outputs": [],
   "source": [
    "len(hela_non_mitosis_normalized_img_features)"
   ]
  },
  {
   "cell_type": "code",
   "execution_count": null,
   "metadata": {},
   "outputs": [],
   "source": [
    "hela_all = pd.concat([hela_mitosis_normalized_img_features, hela_non_mitosis_normalized_img_features], ignore_index=True)\n",
    "hela_all_y_labels = [0 for _ in range(len(hela_mitosis_normalized_img_features))] + [1 for _ in range(len(hela_non_mitosis_normalized_img_features))]\n",
    "hela_all.to_csv(out_dir / \"hela_all.csv\", index=False)\n",
    "hela_all_y_labels = pd.Series(hela_all_y_labels)\n",
    "hela_all_y_labels.to_csv(out_dir / \"hela_all_y_labels.csv\", index=False)"
   ]
  },
  {
   "cell_type": "code",
   "execution_count": null,
   "metadata": {},
   "outputs": [],
   "source": [
    "\n",
    "accuracy = lr_model.score(hela_all, hela_all_y_labels)\n",
    "print(\"Accuracy:\", accuracy * 100)"
   ]
  },
  {
   "cell_type": "code",
   "execution_count": null,
   "metadata": {},
   "outputs": [],
   "source": [
    "hela_all_predicted_labels = lr_model.predict(hela_all)\n",
    "print(\"Classification Report:\")\n",
    "print(classification_report(hela_all_y_labels, hela_all_predicted_labels, digits=4))"
   ]
  }
 ],
 "metadata": {
  "kernelspec": {
   "display_name": "livecell-work",
   "language": "python",
   "name": "python3"
  },
  "language_info": {
   "codemirror_mode": {
    "name": "ipython",
    "version": 3
   },
   "file_extension": ".py",
   "mimetype": "text/x-python",
   "name": "python",
   "nbconvert_exporter": "python",
   "pygments_lexer": "ipython3",
   "version": "3.10.8"
  }
 },
 "nbformat": 4,
 "nbformat_minor": 2
}
