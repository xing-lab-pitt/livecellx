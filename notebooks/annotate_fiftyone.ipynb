{
 "cells": [
  {
   "cell_type": "code",
   "execution_count": 1,
   "metadata": {},
   "outputs": [
    {
     "name": "stdout",
     "output_type": "stream",
     "text": [
      "Requirement already satisfied: fiftyone in c:/users/dummy/anaconda3/envs/cv-general/lib/site-packages (0.16.6)\n",
      "Requirement already satisfied: future in c:/users/dummy/anaconda3/envs/cv-general/lib/site-packages (from fiftyone) (0.18.2)\n",
      "Requirement already satisfied: numpy in c:/users/dummy/anaconda3/envs/cv-general/lib/site-packages (from fiftyone) (1.22.3)\n",
      "Requirement already satisfied: starlette==0.16.0 in c:/users/dummy/anaconda3/envs/cv-general/lib/site-packages (from fiftyone) (0.16.0)\n",
      "Requirement already satisfied: fiftyone-db<0.4,>=0.3 in c:/users/dummy/anaconda3/envs/cv-general/lib/site-packages (from fiftyone) (0.3.0)\n",
      "Requirement already satisfied: packaging in c:/users/dummy/anaconda3/envs/cv-general/lib/site-packages (from fiftyone) (21.3)\n",
      "Requirement already satisfied: ndjson in c:/users/dummy/anaconda3/envs/cv-general/lib/site-packages (from fiftyone) (0.3.1)\n",
      "Requirement already satisfied: argcomplete in c:/users/dummy/anaconda3/envs/cv-general/lib/site-packages (from fiftyone) (2.0.0)\n",
      "Requirement already satisfied: PyYAML in c:/users/dummy/anaconda3/envs/cv-general/lib/site-packages (from fiftyone) (5.1)\n",
      "Requirement already satisfied: plotly>=4.14 in c:/users/dummy/anaconda3/envs/cv-general/lib/site-packages (from fiftyone) (5.10.0)\n",
      "Requirement already satisfied: pandas in c:/users/dummy/anaconda3/envs/cv-general/lib/site-packages (from fiftyone) (1.4.3)\n",
      "Requirement already satisfied: fiftyone-brain<0.10,>=0.9 in c:/users/dummy/anaconda3/envs/cv-general/lib/site-packages (from fiftyone) (0.9.0)\n",
      "Requirement already satisfied: Jinja2>=3 in c:/users/dummy/anaconda3/envs/cv-general/lib/site-packages (from fiftyone) (3.1.2)\n",
      "Requirement already satisfied: boto3 in c:/users/dummy/anaconda3/envs/cv-general/lib/site-packages (from fiftyone) (1.24.68)\n",
      "Requirement already satisfied: eventlet in c:/users/dummy/anaconda3/envs/cv-general/lib/site-packages (from fiftyone) (0.33.1)\n",
      "Requirement already satisfied: sse-starlette<1,>=0.10.3 in c:/users/dummy/anaconda3/envs/cv-general/lib/site-packages (from fiftyone) (0.10.3)\n",
      "Requirement already satisfied: scikit-learn in c:/users/dummy/anaconda3/envs/cv-general/lib/site-packages (from fiftyone) (1.0.2)\n",
      "Requirement already satisfied: Deprecated in c:/users/dummy/anaconda3/envs/cv-general/lib/site-packages (from fiftyone) (1.2.13)\n",
      "Requirement already satisfied: dacite>=1.6.0 in c:/users/dummy/anaconda3/envs/cv-general/lib/site-packages (from fiftyone) (1.6.0)\n",
      "Requirement already satisfied: kaleido in c:/users/dummy/anaconda3/envs/cv-general/lib/site-packages (from fiftyone) (0.2.1)\n",
      "Requirement already satisfied: aiofiles in c:/users/dummy/anaconda3/envs/cv-general/lib/site-packages (from fiftyone) (22.1.0)\n",
      "Requirement already satisfied: motor<3,>=2.3 in c:/users/dummy/anaconda3/envs/cv-general/lib/site-packages (from fiftyone) (2.5.1)\n",
      "Requirement already satisfied: mongoengine==0.20.0 in c:/users/dummy/anaconda3/envs/cv-general/lib/site-packages (from fiftyone) (0.20.0)\n",
      "Requirement already satisfied: setuptools in c:/users/dummy/anaconda3/envs/cv-general/lib/site-packages (from fiftyone) (58.0.4)\n",
      "Requirement already satisfied: hypercorn>=0.13.2 in c:/users/dummy/anaconda3/envs/cv-general/lib/site-packages (from fiftyone) (0.14.3)\n",
      "Requirement already satisfied: strawberry-graphql==0.96.0 in c:/users/dummy/anaconda3/envs/cv-general/lib/site-packages (from fiftyone) (0.96.0)\n",
      "Requirement already satisfied: Pillow>=6.2 in c:/users/dummy/anaconda3/envs/cv-general/lib/site-packages (from fiftyone) (9.1.0)\n",
      "Requirement already satisfied: voxel51-eta<0.9,>=0.8 in c:/users/dummy/anaconda3/envs/cv-general/lib/site-packages (from fiftyone) (0.8.0)\n",
      "Requirement already satisfied: matplotlib in c:/users/dummy/anaconda3/envs/cv-general/lib/site-packages (from fiftyone) (3.5.2)\n",
      "Requirement already satisfied: scikit-image in c:/users/dummy/anaconda3/envs/cv-general/lib/site-packages (from fiftyone) (0.19.3)\n",
      "Requirement already satisfied: universal-analytics-python3<2,>=1.0.1 in c:/users/dummy/anaconda3/envs/cv-general/lib/site-packages (from fiftyone) (1.1.1)\n",
      "Requirement already satisfied: psutil in c:/users/dummy/anaconda3/envs/cv-general/lib/site-packages (from fiftyone) (5.9.0)\n",
      "Requirement already satisfied: retrying in c:/users/dummy/anaconda3/envs/cv-general/lib/site-packages (from fiftyone) (1.3.3)\n",
      "Requirement already satisfied: tabulate in c:/users/dummy/anaconda3/envs/cv-general/lib/site-packages (from fiftyone) (0.8.10)\n",
      "Requirement already satisfied: sseclient-py<2,>=1.7.2 in c:/users/dummy/anaconda3/envs/cv-general/lib/site-packages (from fiftyone) (1.7.2)\n",
      "Requirement already satisfied: xmltodict in c:/users/dummy/anaconda3/envs/cv-general/lib/site-packages (from fiftyone) (0.13.0)\n",
      "Requirement already satisfied: pprintpp in c:/users/dummy/anaconda3/envs/cv-general/lib/site-packages (from fiftyone) (0.4.0)\n",
      "Requirement already satisfied: pytz in c:/users/dummy/anaconda3/envs/cv-general/lib/site-packages (from fiftyone) (2022.1)\n",
      "Requirement already satisfied: opencv-python-headless in c:/users/dummy/anaconda3/envs/cv-general/lib/site-packages (from fiftyone) (4.6.0.66)\n",
      "Requirement already satisfied: pymongo<4,>=3.11 in c:/users/dummy/anaconda3/envs/cv-general/lib/site-packages (from fiftyone) (3.12.3)\n",
      "Requirement already satisfied: anyio<4,>=3.0.0 in c:/users/dummy/anaconda3/envs/cv-general/lib/site-packages (from starlette==0.16.0->fiftyone) (3.6.1)\n",
      "Requirement already satisfied: pygments<3.0,>=2.3 in c:/users/dummy/anaconda3/envs/cv-general/lib/site-packages (from strawberry-graphql==0.96.0->fiftyone) (2.11.2)\n",
      "Requirement already satisfied: backports.cached-property<2.0.0,>=1.0.1 in c:/users/dummy/anaconda3/envs/cv-general/lib/site-packages (from strawberry-graphql==0.96.0->fiftyone) (1.0.2)\n",
      "Requirement already satisfied: click<9.0,>=7.0 in c:/users/dummy/appdata/roaming/python/python38/site-packages (from strawberry-graphql==0.96.0->fiftyone) (8.0.4)\n",
      "Requirement already satisfied: graphql-core<3.2.0,>=3.1.0 in c:/users/dummy/anaconda3/envs/cv-general/lib/site-packages (from strawberry-graphql==0.96.0->fiftyone) (3.1.7)\n",
      "Requirement already satisfied: typing_extensions<5.0.0,>=3.7.4 in c:/users/dummy/anaconda3/envs/cv-general/lib/site-packages (from strawberry-graphql==0.96.0->fiftyone) (4.1.1)\n",
      "Requirement already satisfied: sentinel<0.4.0,>=0.3.0 in c:/users/dummy/anaconda3/envs/cv-general/lib/site-packages (from strawberry-graphql==0.96.0->fiftyone) (0.3.0)\n",
      "Requirement already satisfied: python-multipart<0.0.6,>=0.0.5 in c:/users/dummy/anaconda3/envs/cv-general/lib/site-packages (from strawberry-graphql==0.96.0->fiftyone) (0.0.5)\n",
      "Requirement already satisfied: python-dateutil<3.0.0,>=2.7.0 in c:/users/dummy/anaconda3/envs/cv-general/lib/site-packages (from strawberry-graphql==0.96.0->fiftyone) (2.8.2)\n",
      "Requirement already satisfied: idna>=2.8 in c:/users/dummy/anaconda3/envs/cv-general/lib/site-packages (from anyio<4,>=3.0.0->starlette==0.16.0->fiftyone) (3.3)\n",
      "Requirement already satisfied: sniffio>=1.1 in c:/users/dummy/anaconda3/envs/cv-general/lib/site-packages (from anyio<4,>=3.0.0->starlette==0.16.0->fiftyone) (1.3.0)\n",
      "Requirement already satisfied: colorama in c:/users/dummy/anaconda3/envs/cv-general/lib/site-packages (from click<9.0,>=7.0->strawberry-graphql==0.96.0->fiftyone) (0.4.4)\n",
      "Requirement already satisfied: scipy>=1.2.0 in c:/users/dummy/anaconda3/envs/cv-general/lib/site-packages (from fiftyone-brain<0.10,>=0.9->fiftyone) (1.8.0)\n",
      "Requirement already satisfied: wsproto>=0.14.0 in c:/users/dummy/anaconda3/envs/cv-general/lib/site-packages (from hypercorn>=0.13.2->fiftyone) (1.2.0)\n",
      "Requirement already satisfied: toml in c:/users/dummy/anaconda3/envs/cv-general/lib/site-packages (from hypercorn>=0.13.2->fiftyone) (0.10.2)\n",
      "Requirement already satisfied: priority in c:/users/dummy/anaconda3/envs/cv-general/lib/site-packages (from hypercorn>=0.13.2->fiftyone) (2.0.0)\n",
      "Requirement already satisfied: h11 in c:/users/dummy/anaconda3/envs/cv-general/lib/site-packages (from hypercorn>=0.13.2->fiftyone) (0.12.0)\n",
      "Requirement already satisfied: h2>=3.1.0 in c:/users/dummy/anaconda3/envs/cv-general/lib/site-packages (from hypercorn>=0.13.2->fiftyone) (4.1.0)\n",
      "Requirement already satisfied: hyperframe<7,>=6.0 in c:/users/dummy/anaconda3/envs/cv-general/lib/site-packages (from h2>=3.1.0->hypercorn>=0.13.2->fiftyone) (6.0.1)\n",
      "Requirement already satisfied: hpack<5,>=4.0 in c:/users/dummy/anaconda3/envs/cv-general/lib/site-packages (from h2>=3.1.0->hypercorn>=0.13.2->fiftyone) (4.0.0)\n",
      "Requirement already satisfied: MarkupSafe>=2.0 in c:/users/dummy/anaconda3/envs/cv-general/lib/site-packages (from Jinja2>=3->fiftyone) (2.1.1)\n",
      "Requirement already satisfied: tenacity>=6.2.0 in c:/users/dummy/anaconda3/envs/cv-general/lib/site-packages (from plotly>=4.14->fiftyone) (8.0.1)\n",
      "Requirement already satisfied: six>=1.5 in c:/users/dummy/anaconda3/envs/cv-general/lib/site-packages (from python-dateutil<3.0.0,>=2.7.0->strawberry-graphql==0.96.0->fiftyone) (1.16.0)\n",
      "Requirement already satisfied: httpx>=0.10.0 in c:/users/dummy/anaconda3/envs/cv-general/lib/site-packages (from universal-analytics-python3<2,>=1.0.1->fiftyone) (0.23.0)\n",
      "Requirement already satisfied: rfc3986[idna2008]<2,>=1.3 in c:/users/dummy/anaconda3/envs/cv-general/lib/site-packages (from httpx>=0.10.0->universal-analytics-python3<2,>=1.0.1->fiftyone) (1.5.0)\n",
      "Requirement already satisfied: httpcore<0.16.0,>=0.15.0 in c:/users/dummy/anaconda3/envs/cv-general/lib/site-packages (from httpx>=0.10.0->universal-analytics-python3<2,>=1.0.1->fiftyone) (0.15.0)\n",
      "Requirement already satisfied: certifi in c:/users/dummy/anaconda3/envs/cv-general/lib/site-packages (from httpx>=0.10.0->universal-analytics-python3<2,>=1.0.1->fiftyone) (2021.10.8)\n",
      "Requirement already satisfied: sortedcontainers in c:/users/dummy/anaconda3/envs/cv-general/lib/site-packages (from voxel51-eta<0.9,>=0.8->fiftyone) (2.4.0)\n",
      "Requirement already satisfied: glob2 in c:/users/dummy/anaconda3/envs/cv-general/lib/site-packages (from voxel51-eta<0.9,>=0.8->fiftyone) (0.7)\n",
      "Requirement already satisfied: dill in c:/users/dummy/anaconda3/envs/cv-general/lib/site-packages (from voxel51-eta<0.9,>=0.8->fiftyone) (0.3.5.1)\n",
      "Requirement already satisfied: patool in c:/users/dummy/anaconda3/envs/cv-general/lib/site-packages (from voxel51-eta<0.9,>=0.8->fiftyone) (1.12)\n",
      "Requirement already satisfied: urllib3 in c:/users/dummy/anaconda3/envs/cv-general/lib/site-packages (from voxel51-eta<0.9,>=0.8->fiftyone) (1.26.9)\n",
      "Requirement already satisfied: tzlocal in c:/users/dummy/anaconda3/envs/cv-general/lib/site-packages (from voxel51-eta<0.9,>=0.8->fiftyone) (4.2)\n",
      "Requirement already satisfied: requests in c:/users/dummy/anaconda3/envs/cv-general/lib/site-packages (from voxel51-eta<0.9,>=0.8->fiftyone) (2.27.1)\n",
      "Requirement already satisfied: jmespath<2.0.0,>=0.7.1 in c:/users/dummy/anaconda3/envs/cv-general/lib/site-packages (from boto3->fiftyone) (1.0.1)\n",
      "Requirement already satisfied: s3transfer<0.7.0,>=0.6.0 in c:/users/dummy/anaconda3/envs/cv-general/lib/site-packages (from boto3->fiftyone) (0.6.0)\n",
      "Requirement already satisfied: botocore<1.28.0,>=1.27.68 in c:/users/dummy/anaconda3/envs/cv-general/lib/site-packages (from boto3->fiftyone) (1.27.68)\n",
      "Requirement already satisfied: wrapt<2,>=1.10 in c:/users/dummy/anaconda3/envs/cv-general/lib/site-packages (from Deprecated->fiftyone) (1.14.1)\n",
      "Requirement already satisfied: dnspython>=1.15.0 in c:/users/dummy/anaconda3/envs/cv-general/lib/site-packages (from eventlet->fiftyone) (2.2.1)\n",
      "Requirement already satisfied: greenlet>=0.3 in c:/users/dummy/anaconda3/envs/cv-general/lib/site-packages (from eventlet->fiftyone) (1.1.3)\n",
      "Requirement already satisfied: cycler>=0.10 in c:/users/dummy/anaconda3/envs/cv-general/lib/site-packages (from matplotlib->fiftyone) (0.11.0)\n",
      "Requirement already satisfied: fonttools>=4.22.0 in c:/users/dummy/anaconda3/envs/cv-general/lib/site-packages (from matplotlib->fiftyone) (4.34.4)\n",
      "Requirement already satisfied: kiwisolver>=1.0.1 in c:/users/dummy/anaconda3/envs/cv-general/lib/site-packages (from matplotlib->fiftyone) (1.4.3)\n",
      "Requirement already satisfied: pyparsing>=2.2.1 in c:/users/dummy/anaconda3/envs/cv-general/lib/site-packages (from matplotlib->fiftyone) (3.0.7)\n",
      "Requirement already satisfied: charset-normalizer~=2.0.0 in c:/users/dummy/anaconda3/envs/cv-general/lib/site-packages (from requests->voxel51-eta<0.9,>=0.8->fiftyone) (2.0.12)\n",
      "Requirement already satisfied: imageio>=2.4.1 in c:/users/dummy/anaconda3/envs/cv-general/lib/site-packages (from scikit-image->fiftyone) (2.21.2)\n",
      "Requirement already satisfied: PyWavelets>=1.1.1 in c:/users/dummy/anaconda3/envs/cv-general/lib/site-packages (from scikit-image->fiftyone) (1.3.0)\n",
      "Requirement already satisfied: tifffile>=2019.7.26 in c:/users/dummy/anaconda3/envs/cv-general/lib/site-packages (from scikit-image->fiftyone) (2022.5.4)\n",
      "Requirement already satisfied: networkx>=2.2 in c:/users/dummy/anaconda3/envs/cv-general/lib/site-packages (from scikit-image->fiftyone) (2.8.6)\n",
      "Requirement already satisfied: threadpoolctl>=2.0.0 in c:/users/dummy/anaconda3/envs/cv-general/lib/site-packages (from scikit-learn->fiftyone) (3.1.0)\n",
      "Requirement already satisfied: joblib>=0.11 in c:/users/dummy/anaconda3/envs/cv-general/lib/site-packages (from scikit-learn->fiftyone) (1.1.0)\n",
      "Requirement already satisfied: pytz-deprecation-shim in c:/users/dummy/anaconda3/envs/cv-general/lib/site-packages (from tzlocal->voxel51-eta<0.9,>=0.8->fiftyone) (0.1.0.post0)\n",
      "Requirement already satisfied: backports.zoneinfo in c:/users/dummy/anaconda3/envs/cv-general/lib/site-packages (from tzlocal->voxel51-eta<0.9,>=0.8->fiftyone) (0.2.1)\n",
      "Requirement already satisfied: tzdata in c:/users/dummy/anaconda3/envs/cv-general/lib/site-packages (from tzlocal->voxel51-eta<0.9,>=0.8->fiftyone) (2022.2)\n"
     ]
    },
    {
     "name": "stderr",
     "output_type": "stream",
     "text": [
      "WARNING: Ignoring invalid distribution -pencv-python (c:/users/dummy/appdata/roaming/python/python38/site-packages)\n",
      "WARNING: Ignoring invalid distribution -pencv-python (c:/users/dummy/appdata/roaming/python/python38/site-packages)\n",
      "WARNING: Ignoring invalid distribution -pencv-python (c:/users/dummy/appdata/roaming/python/python38/site-packages)\n",
      "WARNING: Ignoring invalid distribution -pencv-python (c:/users/dummy/appdata/roaming/python/python38/site-packages)\n",
      "WARNING: Ignoring invalid distribution -pencv-python (c:/users/dummy/appdata/roaming/python/python38/site-packages)\n",
      "WARNING: Ignoring invalid distribution -pencv-python (c:/users/dummy/appdata/roaming/python/python38/site-packages)\n"
     ]
    }
   ],
   "source": [
    "!pip install fiftyone"
   ]
  },
  {
   "cell_type": "code",
   "execution_count": 5,
   "metadata": {},
   "outputs": [
    {
     "name": "stdout",
     "output_type": "stream",
     "text": [
      "Dataset already downloaded\n",
      "Loading existing dataset 'quickstart'. To reload from disk, either delete the existing dataset or provide a custom `dataset_name` to use\n"
     ]
    },
    {
     "data": {
      "text/html": [
       "\n",
       "        <iframe\n",
       "            width=\"100%\"\n",
       "            height=\"800\"\n",
       "            src=\"http://localhost:8000/?context=ipython&subscription=b06e1d84-4e76-42d7-a75d-b8e2a10c654c\"\n",
       "            frameborder=\"0\"\n",
       "            allowfullscreen\n",
       "            \n",
       "        ></iframe>\n",
       "        "
      ],
      "text/plain": [
       "<IPython.lib.display.IFrame at 0x2040e282520>"
      ]
     },
     "metadata": {},
     "output_type": "display_data"
    },
    {
     "name": "stdout",
     "output_type": "stream",
     "text": [
      "Notebook sessions cannot wait\n"
     ]
    }
   ],
   "source": [
    "import fiftyone as fo\n",
    "import fiftyone.zoo as foz\n",
    "\n",
    "dataset = foz.load_zoo_dataset(\"quickstart\")\n",
    "session = fo.launch_app(dataset, port=8000)"
   ]
  }
 ],
 "metadata": {
  "kernelspec": {
   "display_name": "Python 3.8.13 ('cv-general')",
   "language": "python",
   "name": "python3"
  },
  "language_info": {
   "codemirror_mode": {
    "name": "ipython",
    "version": 3
   },
   "file_extension": ".py",
   "mimetype": "text/x-python",
   "name": "python",
   "nbconvert_exporter": "python",
   "pygments_lexer": "ipython3",
   "version": "3.8.13"
  },
  "orig_nbformat": 4,
  "vscode": {
   "interpreter": {
    "hash": "b5dfbec2055422cee39dc040b31dfffa8b21a342109231ab17bc6ff9949c7133"
   }
  }
 },
 "nbformat": 4,
 "nbformat_minor": 2
}
