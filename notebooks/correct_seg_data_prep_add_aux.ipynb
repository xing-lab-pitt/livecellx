{
 "cells": [
  {
   "cell_type": "markdown",
   "metadata": {},
   "source": [
    "Add class labels to different cases"
   ]
  },
  {
   "cell_type": "code",
   "execution_count": 26,
   "metadata": {},
   "outputs": [],
   "source": [
    "import pandas as pd\n",
    "import os\n",
    "from pathlib import Path\n",
    "from livecellx.core.datasets import read_img_default\n",
    "from livecellx.segment.ou_utils import csn_augment_helper\n",
    "import numpy as np\n",
    "import skimage.measure\n",
    "\n",
    "\n",
    "\n",
    "# data_df_path = r\"./notebook_results/a549_ccp_vim/train_data_v11/train_data.csv\"\n",
    "data_df_path = r\"./notebook_results/a549_ccp_vim/test_data_v11/train_data.csv\"\n",
    "data_df = pd.read_csv(data_df_path)"
   ]
  },
  {
   "cell_type": "code",
   "execution_count": 27,
   "metadata": {},
   "outputs": [
    {
     "name": "stdout",
     "output_type": "stream",
     "text": [
      "['real_overseg_td1_XY5' 'real_overseg_td1_XY5_dropout'\n",
      " 'real_underseg_cases' 'real_overseg_td1_XY6'\n",
      " 'real_overseg_td1_XY6_dropout']\n"
     ]
    }
   ],
   "source": [
    "print(data_df[\"subdir\"].unique())"
   ]
  },
  {
   "cell_type": "code",
   "execution_count": 28,
   "metadata": {},
   "outputs": [],
   "source": [
    "# \"ou_aux\" column Mapping rules: \n",
    "# contain dropout -> dropout\n",
    "# contain overseg -> overseg\n",
    "# contain underseg -> underseg\n",
    "# contain correct -> correct\n",
    "\n",
    "subdir_aux_mapping = {}\n",
    "for subdir in data_df[\"subdir\"].unique():\n",
    "    if \"dropout\" in subdir:\n",
    "        subdir_aux_mapping[subdir] = \"dropout\"\n",
    "    elif \"overseg\" in subdir:\n",
    "        subdir_aux_mapping[subdir] = \"overseg\"\n",
    "    elif \"underseg\" in subdir:\n",
    "        subdir_aux_mapping[subdir] = \"underseg\"\n",
    "    elif \"correct\" in subdir:\n",
    "        subdir_aux_mapping[subdir] = \"correct\"\n",
    "    else:\n",
    "        raise ValueError(\"subdir not recognized: {}\".format(subdir))"
   ]
  },
  {
   "cell_type": "code",
   "execution_count": 29,
   "metadata": {},
   "outputs": [
    {
     "name": "stdout",
     "output_type": "stream",
     "text": [
      "subdir_aux_mapping: {'real_overseg_td1_XY5': 'overseg', 'real_overseg_td1_XY5_dropout': 'dropout', 'real_underseg_cases': 'underseg', 'real_overseg_td1_XY6': 'overseg', 'real_overseg_td1_XY6_dropout': 'dropout'}\n",
      "subdir: real_overseg_td1_XY5, aux: overseg\n",
      "subdir: real_overseg_td1_XY5_dropout, aux: dropout\n",
      "subdir: real_underseg_cases, aux: underseg\n",
      "subdir: real_overseg_td1_XY6, aux: overseg\n",
      "subdir: real_overseg_td1_XY6_dropout, aux: dropout\n"
     ]
    }
   ],
   "source": [
    "print(\"subdir_aux_mapping: {}\".format(subdir_aux_mapping))\n",
    "\n",
    "# Print pairs of subdir and aux\n",
    "for subdir, aux in subdir_aux_mapping.items():\n",
    "    print(\"subdir: {}, aux: {}\".format(subdir, aux))"
   ]
  },
  {
   "cell_type": "code",
   "execution_count": 30,
   "metadata": {},
   "outputs": [],
   "source": [
    "ou_aux_col = []\n",
    "\n",
    "for row in data_df.iterrows():\n",
    "    subdir = row[1][\"subdir\"]\n",
    "    if subdir not in subdir_aux_mapping:\n",
    "        raise ValueError(\"subdir not recognized: {}\".format(subdir))\n",
    "    ou_aux_col.append(subdir_aux_mapping[subdir])\n",
    "\n",
    "data_df[\"ou_aux\"] = ou_aux_col"
   ]
  },
  {
   "cell_type": "code",
   "execution_count": 31,
   "metadata": {},
   "outputs": [
    {
     "name": "stdout",
     "output_type": "stream",
     "text": [
      "underseg    70\n",
      "dropout     57\n",
      "overseg     30\n",
      "Name: ou_aux, dtype: int64\n"
     ]
    }
   ],
   "source": [
    "# Report the number of rows in each ou_aux category\n",
    "print(data_df[\"ou_aux\"].value_counts()) "
   ]
  },
  {
   "cell_type": "code",
   "execution_count": 32,
   "metadata": {},
   "outputs": [
    {
     "data": {
      "text/plain": [
       "PosixPath('notebook_results/a549_ccp_vim/test_data_v11')"
      ]
     },
     "execution_count": 32,
     "metadata": {},
     "output_type": "execute_result"
    }
   ],
   "source": [
    "Path(data_df_path).parent"
   ]
  },
  {
   "cell_type": "code",
   "execution_count": 33,
   "metadata": {},
   "outputs": [],
   "source": [
    "# append \"aux\" to csv file\n",
    "out_data_df_path = Path(data_df_path).parent / \"train_data_aux.csv\"\n",
    "data_df.to_csv(out_data_df_path, index=False)"
   ]
  }
 ],
 "metadata": {
  "kernelspec": {
   "display_name": "livecell",
   "language": "python",
   "name": "python3"
  },
  "language_info": {
   "codemirror_mode": {
    "name": "ipython",
    "version": 3
   },
   "file_extension": ".py",
   "mimetype": "text/x-python",
   "name": "python",
   "nbconvert_exporter": "python",
   "pygments_lexer": "ipython3",
   "version": "3.10.8"
  }
 },
 "nbformat": 4,
 "nbformat_minor": 2
}
