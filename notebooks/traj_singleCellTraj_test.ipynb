{
 "cells": [
  {
   "cell_type": "code",
   "execution_count": 1,
   "metadata": {},
   "outputs": [
    {
     "name": "stdout",
     "output_type": "stream",
     "text": [
      "Requirement already satisfied: pims in c:/users/dummy/anaconda3/envs/cv-general/lib/site-packages (0.6.1)\n",
      "Requirement already satisfied: slicerator>=0.9.8 in c:/users/dummy/anaconda3/envs/cv-general/lib/site-packages (from pims) (1.1.0)\n",
      "Requirement already satisfied: numpy>=1.19 in c:/users/dummy/anaconda3/envs/cv-general/lib/site-packages (from pims) (1.22.3)\n",
      "Requirement already satisfied: imageio in c:/users/dummy/anaconda3/envs/cv-general/lib/site-packages (from pims) (2.21.2)\n",
      "Requirement already satisfied: pillow>=8.3.2 in c:/users/dummy/anaconda3/envs/cv-general/lib/site-packages (from imageio->pims) (9.1.0)\n",
      "Note: you may need to restart the kernel to use updated packages.\n"
     ]
    },
    {
     "name": "stderr",
     "output_type": "stream",
     "text": [
      "WARNING: Ignoring invalid distribution -pencv-python (c:/users/dummy/appdata/roaming/python/python38/site-packages)\n",
      "WARNING: Ignoring invalid distribution -pencv-python (c:/users/dummy/appdata/roaming/python/python38/site-packages)\n",
      "WARNING: Ignoring invalid distribution -pencv-python (c:/users/dummy/appdata/roaming/python/python38/site-packages)\n",
      "WARNING: Ignoring invalid distribution -pencv-python (c:/users/dummy/appdata/roaming/python/python38/site-packages)\n",
      "WARNING: Ignoring invalid distribution -pencv-python (c:/users/dummy/appdata/roaming/python/python38/site-packages)\n",
      "WARNING: Ignoring invalid distribution -pencv-python (c:/users/dummy/appdata/roaming/python/python38/site-packages)\n"
     ]
    }
   ],
   "source": [
    "pip install pims"
   ]
  },
  {
   "cell_type": "code",
   "execution_count": 3,
   "metadata": {},
   "outputs": [
    {
     "name": "stdout",
     "output_type": "stream",
     "text": [
      "<legacy_utils.contour_class.Contour object at 0x000001801F53A130>\n"
     ]
    }
   ],
   "source": [
    "import pickle\n",
    "import sys\n",
    "sys.path.insert(0, r\"D:/xing-vimentin-dic-pipeline/src/3-compute\")\n",
    "path = r'''D:/xing-vimentin-dic-pipeline/src/3-compute/tools/py3_a549_mean_cell_contour.pkl'''\n",
    "\n",
    "with open(path, 'rb') as f:\n",
    "    mean_contour = pickle.load(f)\n",
    "    print(mean_contour)\n"
   ]
  },
  {
   "cell_type": "code",
   "execution_count": 6,
   "metadata": {},
   "outputs": [
    {
     "data": {
      "text/plain": [
       "<matplotlib.collections.PathCollection at 0x18046206ca0>"
      ]
     },
     "execution_count": 6,
     "metadata": {},
     "output_type": "execute_result"
    },
    {
     "data": {
      "image/png": "[encoded data removed]",
      "text/plain": [
       "<Figure size 432x288 with 1 Axes>"
      ]
     },
     "metadata": {
      "needs_background": "light"
     },
     "output_type": "display_data"
    }
   ],
   "source": [
    "import matplotlib.pyplot as plt\n",
    "plt.scatter(mean_contour.points[:, 0], mean_contour.points[:, 1])"
   ]
  }
 ],
 "metadata": {
  "kernelspec": {
   "display_name": "Python 3.8.13 ('cv-general')",
   "language": "python",
   "name": "python3"
  },
  "language_info": {
   "codemirror_mode": {
    "name": "ipython",
    "version": 3
   },
   "file_extension": ".py",
   "mimetype": "text/x-python",
   "name": "python",
   "nbconvert_exporter": "python",
   "pygments_lexer": "ipython3",
   "version": "3.8.13"
  },
  "orig_nbformat": 4,
  "vscode": {
   "interpreter": {
    "hash": "b5dfbec2055422cee39dc040b31dfffa8b21a342109231ab17bc6ff9949c7133"
   }
  }
 },
 "nbformat": 4,
 "nbformat_minor": 2
}
