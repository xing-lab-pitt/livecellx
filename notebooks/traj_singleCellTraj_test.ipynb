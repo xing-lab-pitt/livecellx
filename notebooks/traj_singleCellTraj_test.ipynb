{
 "cells": [
  {
   "cell_type": "code",
   "execution_count": 1,
   "metadata": {},
   "outputs": [
    {
     "name": "stdout",
     "output_type": "stream",
     "text": [
      "Note: you may need to restart the kernel to use updated packages.Collecting pims\n",
      "  Downloading PIMS-0.6.1.tar.gz (86 kB)\n",
      "Requirement already satisfied: imageio in c:\\users\\dummy\\anaconda3\\envs\\cv-general\\lib\\site-packages (from pims) (2.21.2)\n",
      "Requirement already satisfied: numpy>=1.19 in c:\\users\\dummy\\anaconda3\\envs\\cv-general\\lib\\site-packages (from pims) (1.22.3)\n",
      "Collecting slicerator>=0.9.8\n",
      "  Downloading slicerator-1.1.0-py3-none-any.whl (10 kB)\n",
      "Requirement already satisfied: pillow>=8.3.2 in c:\\users\\dummy\\anaconda3\\envs\\cv-general\\lib\\site-packages (from imageio->pims) (9.1.0)\n",
      "Building wheels for collected packages: pims\n",
      "  Building wheel for pims (setup.py): started\n",
      "  Building wheel for pims (setup.py): finished with status 'done'\n",
      "  Created wheel for pims: filename=PIMS-0.6.1-py3-none-any.whl size=83692 sha256=baadbca7ff3cf60f78193fa9bb7a259849211e1e0e8828c6853e003d3c8000cb\n",
      "  Stored in directory: c:\\users\\dummy\\appdata\\local\\pip\\cache\\wheels\\5c\\bd\\a9\\9cede777cb4fcdd2ba712cdb0d0c9082aba544322eb5ad7af1\n",
      "Successfully built pims\n",
      "Installing collected packages: slicerator, pims\n",
      "Successfully installed pims-0.6.1 slicerator-1.1.0\n",
      "\n"
     ]
    },
    {
     "name": "stderr",
     "output_type": "stream",
     "text": [
      "WARNING: Ignoring invalid distribution -pencv-python (c:\\users\\dummy\\appdata\\roaming\\python\\python38\\site-packages)\n",
      "WARNING: Ignoring invalid distribution -pencv-python (c:\\users\\dummy\\appdata\\roaming\\python\\python38\\site-packages)\n",
      "WARNING: Ignoring invalid distribution -pencv-python (c:\\users\\dummy\\appdata\\roaming\\python\\python38\\site-packages)\n",
      "WARNING: Ignoring invalid distribution -pencv-python (c:\\users\\dummy\\appdata\\roaming\\python\\python38\\site-packages)\n",
      "WARNING: Ignoring invalid distribution -pencv-python (c:\\users\\dummy\\appdata\\roaming\\python\\python38\\site-packages)\n",
      "WARNING: Ignoring invalid distribution -pencv-python (c:\\users\\dummy\\appdata\\roaming\\python\\python38\\site-packages)\n"
     ]
    }
   ],
   "source": [
    "pip install pims"
   ]
  },
  {
   "cell_type": "code",
   "execution_count": 5,
   "metadata": {},
   "outputs": [
    {
     "name": "stdout",
     "output_type": "stream",
     "text": [
      "<legacy_utils.contour_class.Contour object at 0x0000014CFA7B6BB0>\n"
     ]
    }
   ],
   "source": [
    "import pickle\n",
    "import sys\n",
    "sys.path.insert(0, r\"../../3-compute/\")\n",
    "path = r'''D:\\xing-vimentin-dic-pipeline\\src\\3-compute\\tools\\py3_a549_mean_cell_contour.pkl'''\n",
    "\n",
    "with open(path, 'rb') as f:\n",
    "    mean_contour = pickle.load(f)\n",
    "    print(mean_contour)\n"
   ]
  }
 ],
 "metadata": {
  "kernelspec": {
   "display_name": "Python 3.8.13 ('cv-general')",
   "language": "python",
   "name": "python3"
  },
  "language_info": {
   "codemirror_mode": {
    "name": "ipython",
    "version": 3
   },
   "file_extension": ".py",
   "mimetype": "text/x-python",
   "name": "python",
   "nbconvert_exporter": "python",
   "pygments_lexer": "ipython3",
   "version": "3.8.13"
  },
  "orig_nbformat": 4,
  "vscode": {
   "interpreter": {
    "hash": "b5dfbec2055422cee39dc040b31dfffa8b21a342109231ab17bc6ff9949c7133"
   }
  }
 },
 "nbformat": 4,
 "nbformat_minor": 2
}
