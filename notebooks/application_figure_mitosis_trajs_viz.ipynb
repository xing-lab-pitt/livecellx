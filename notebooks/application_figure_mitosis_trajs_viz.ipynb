{
 "cells": [
  {
   "cell_type": "code",
   "execution_count": null,
   "metadata": {},
   "outputs": [],
   "source": [
    "from pathlib import Path\n",
    "import os.path\n",
    "\n"
   ]
  },
  {
   "cell_type": "code",
   "execution_count": null,
   "metadata": {},
   "outputs": [],
   "source": [
    "from livecellx.track.classify_utils import load_class2samples_from_json_dir, load_all_json_dirs\n",
    "\n",
    "\n",
    "sample_json_dirs_v0 = [Path(r\"../datasets/test_scs_EBSS_starvation/XY1/annotations\"), Path(r\"./datasets/test_scs_EBSS_starvation/XY16/annotations\")]\n",
    "round1_json_dirs = sample_json_dirs_v0 + [\n",
    "    Path(r\"D:\\LiveCellTracker-dev\\datasets\\mitosis-annotations-2023\\shiman_XY01\\XY01\"),\n",
    "Path(r\"D:\\LiveCellTracker-dev\\datasets\\mitosis-annotations-2023\\shiman_XY09\\XY09\"),\n",
    "Path(r\"D:\\LiveCellTracker-dev\\datasets\\mitosis-annotations-2023\\shiman_XY10\\XY10\"),\n",
    "Path(r\"D:\\LiveCellTracker-dev\\datasets\\mitosis-annotations-2023\\Yajushi\\tifs_CFP_A549-VIM_lessThan24hr_NoTreat_NA_YL_Ti2e_2022-10-19\\XY1\\annotations\"),\n",
    "]\n",
    "\n",
    "round2_json_dirs = [\n",
    "Path(r\"../datasets/mitosis-annotations-2023/shiman_CXA_high_density/C0.5^4/\"),\n",
    "Path(r\"../datasets/mitosis-annotations-2023/shiman_CXA_high_density/C0.75^4/\"),\n",
    "Path(r\"../datasets/mitosis-annotations-2023/shiman_CXA_high_density/C10^3/\"),\n",
    "Path(r\"../datasets/mitosis-annotations-2023/shiman_CXA_high_density/C10^4/\")\n",
    "] + [\n",
    "    Path(f\"../datasets/mitosis-annotations-2023/Gaohan_tifs_CFP_A549-VIM_lessThan24hr_NoTreat_NA_YL_Ti2e_2022-10-19/XY{pos}/annotations\") for pos in range(4, 14)\n",
    "]\n",
    "\n",
    "sample_json_dirs = sample_json_dirs_v0 + round1_json_dirs + round2_json_dirs\n",
    "all_class2samples, all_class2sample_extra_info = load_all_json_dirs(sample_json_dirs)"
   ]
  },
  {
   "cell_type": "code",
   "execution_count": null,
   "metadata": {},
   "outputs": [],
   "source": [
    "for key in all_class2samples:\n",
    "    print(key, len(all_class2samples[key]))"
   ]
  },
  {
   "cell_type": "code",
   "execution_count": null,
   "metadata": {},
   "outputs": [],
   "source": [
    "mitosis_sampels = all_class2samples[\"mitosis\"]\n",
    "mitosis_sampels[0][0].meta"
   ]
  },
  {
   "cell_type": "markdown",
   "metadata": {},
   "source": [
    "Store sample index in all_class2samples to each single cell for future use"
   ]
  },
  {
   "cell_type": "code",
   "execution_count": null,
   "metadata": {},
   "outputs": [],
   "source": [
    "for idx, sample in enumerate(mitosis_sampels):\n",
    "    if len(sample) == 0:\n",
    "        continue\n",
    "    _first_time = sample[0].timeframe\n",
    "    for sc in sample:\n",
    "        sc.meta[\"_sample_idx\"] = idx\n",
    "        sc.meta[\"mitosis_relative_time\"] = sc.timeframe - _first_time\n"
   ]
  },
  {
   "cell_type": "code",
   "execution_count": null,
   "metadata": {},
   "outputs": [],
   "source": [
    "all_scs = [sc for sample in mitosis_sampels for sc in sample]"
   ]
  },
  {
   "cell_type": "code",
   "execution_count": null,
   "metadata": {},
   "outputs": [],
   "source": [
    "from livecellx.trajectory.feature_extractors import compute_haralick_features, compute_skimage_regionprops\n",
    "from livecellx.preprocess.utils import normalize_img_to_uint8\n",
    "from livecellx.core.parallel import parallelize\n",
    "inputs = []\n",
    "for sc in all_scs:\n",
    "    # features = compute_skimage_regionprops(sc, preprocess_img_func=normalize_img_to_uint8, sc_level_normalize=True)\n",
    "    inputs.append({\n",
    "        \"sc\": sc,\n",
    "        \"feature_key\": \"skimage\",\n",
    "        \"preprocess_img_func\": normalize_img_to_uint8,\n",
    "        \"sc_level_normalize\": True,\n",
    "    })\n",
    "\n",
    "def compute_skimage_regionprops_wrapper(**input):\n",
    "    sc = input[\"sc\"]\n",
    "    compute_skimage_regionprops(**input)\n",
    "    return sc\n",
    "\n",
    "# TODO: debug\n",
    "# processed_scs = parallelize(compute_skimage_regionprops_wrapper, inputs)\n",
    "\n",
    "# a for loop for computing\n",
    "import tqdm\n",
    "processed_scs = []\n",
    "for input in tqdm.tqdm(inputs):\n",
    "    sc = input[\"sc\"]\n",
    "    compute_skimage_regionprops(**input)\n",
    "    processed_scs.append(sc)"
   ]
  },
  {
   "cell_type": "code",
   "execution_count": null,
   "metadata": {},
   "outputs": [],
   "source": [
    "def create_sc_table(scs, normalize_features=True, add_time=True, add_sc_id=False):\n",
    "    import pandas as pd\n",
    "    import numpy as np\n",
    "    df = pd.DataFrame([sc.get_feature_pd_series() for sc in scs])\n",
    "    if normalize_features:\n",
    "        for col in df.columns:\n",
    "            df[col] = (df[col] - df[col].mean())\n",
    "            col_std = df[col].std()\n",
    "            if col_std != 0 and not np.isnan(col_std):\n",
    "                df[col] /= col_std\n",
    "    # remove column t from df\n",
    "    if not add_time:\n",
    "        df.drop(\"t\", axis=1, inplace=True)\n",
    "    if add_sc_id:\n",
    "        df[\"sc_id\"] = [sc.id for sc in scs]\n",
    "    return df\n",
    "sc_table_with_time = create_sc_table(processed_scs, add_time=False)\n",
    "sc_feature_table = create_sc_table(processed_scs, add_time=True)"
   ]
  },
  {
   "cell_type": "code",
   "execution_count": null,
   "metadata": {},
   "outputs": [],
   "source": [
    "# save the tables\n",
    "out_dir = Path(\"./figure_mitosis_trajs_viz\")\n",
    "out_dir.mkdir(exist_ok=True)\n",
    "sc_table_with_time.to_csv(out_dir / \"mitosis_scs_table_with_time.csv\")"
   ]
  },
  {
   "cell_type": "code",
   "execution_count": null,
   "metadata": {},
   "outputs": [],
   "source": [
    "sc_table_with_time[:2]"
   ]
  },
  {
   "cell_type": "code",
   "execution_count": null,
   "metadata": {},
   "outputs": [],
   "source": [
    "!pip install umap-learn"
   ]
  },
  {
   "cell_type": "code",
   "execution_count": null,
   "metadata": {},
   "outputs": [],
   "source": [
    "import umap\n",
    "reducer = umap.UMAP()\n",
    "# drop NAN in sc_feature_table\n",
    "sc_feature_table = sc_feature_table.dropna(axis=1)\n",
    "\n",
    "embedding = reducer.fit_transform(sc_feature_table)"
   ]
  },
  {
   "cell_type": "code",
   "execution_count": null,
   "metadata": {},
   "outputs": [],
   "source": [
    "import matplotlib.pyplot as plt\n",
    "plt.scatter(\n",
    "    embedding[:, 0],\n",
    "    embedding[:, 1],\n",
    "    c=[sc.timeframe for sc in processed_scs],\n",
    "    alpha=0.5,\n",
    ")\n",
    "plt.title(\"Ignore this figure: meaningless timeframe\")\n",
    "plt.xlabel(\"UMAP_1\")\n",
    "plt.ylabel(\"UMAP_2\")\n",
    "# add colorbar\n",
    "plt.colorbar()"
   ]
  },
  {
   "cell_type": "code",
   "execution_count": null,
   "metadata": {},
   "outputs": [],
   "source": [
    "mitosis_colors = [sc.meta[\"mitosis_relative_time\"] for sc in processed_scs]\n",
    "mitosis_colors = [min(10, x) for x in mitosis_colors]"
   ]
  },
  {
   "cell_type": "code",
   "execution_count": null,
   "metadata": {},
   "outputs": [],
   "source": [
    "import matplotlib.pyplot as plt\n",
    "plt.scatter(\n",
    "    embedding[:, 0],\n",
    "    embedding[:, 1],\n",
    "    c=mitosis_colors,\n",
    "    cmap=\"inferno\",\n",
    "    alpha=0.5,\n",
    ")\n",
    "plt.xlabel(\"UMAP_1\")\n",
    "plt.ylabel(\"UMAP_2\")\n",
    "plt.title(\"Mitosis: relative time\")\n",
    "# add colorbar\n",
    "plt.colorbar()"
   ]
  },
  {
   "cell_type": "code",
   "execution_count": null,
   "metadata": {},
   "outputs": [],
   "source": [
    "sc_feature_table.columns"
   ]
  },
  {
   "cell_type": "code",
   "execution_count": null,
   "metadata": {},
   "outputs": [],
   "source": [
    "import matplotlib.pyplot as plt\n",
    "fig, axes = plt.subplots(1, 4, figsize=(20, 5))\n",
    "axes[0].scatter(\n",
    "    embedding[:, 0],\n",
    "    embedding[:, 1],\n",
    "    c=sc_feature_table[\"skimage_area\"],\n",
    "    cmap=\"inferno\",\n",
    "    alpha=0.5,\n",
    ")\n",
    "axes[0].set_xlabel(\"UMAP_1\")\n",
    "axes[0].set_ylabel(\"UMAP_2\")\n",
    "axes[0].set_title(\"Mitosis: area\")\n",
    "# add colorbar\n",
    "# axes[0].colorbar()\n",
    "\n",
    "axes[1].scatter(\n",
    "    embedding[:, 0],\n",
    "    embedding[:, 1],\n",
    "    c=mitosis_colors,\n",
    "    cmap=\"inferno\",\n",
    "    alpha=0.5,\n",
    ")\n",
    "axes[1].set_xlabel(\"UMAP_1\")\n",
    "axes[1].set_ylabel(\"UMAP_2\")\n",
    "axes[1].set_title(\"Mitosis: relative time\")\n",
    "\n",
    "axes[2].scatter(\n",
    "    embedding[:, 0],\n",
    "    embedding[:, 1],\n",
    "    c=sc_feature_table[\"skimage_eccentricity\"],\n",
    "    cmap=\"inferno\",\n",
    "    alpha=0.5,\n",
    ")\n",
    "axes[2].set_xlabel(\"UMAP_1\")\n",
    "axes[2].set_ylabel(\"UMAP_2\")\n",
    "axes[2].set_title(\"Mitosis: eccentricity\")\n",
    "\n",
    "\n",
    "axes[3].scatter(\n",
    "    embedding[:, 0],\n",
    "    embedding[:, 1],\n",
    "    c=sc_feature_table[\"skimage_orientation\"],\n",
    "    cmap=\"inferno\",\n",
    "    alpha=0.5,\n",
    ")\n",
    "axes[3].set_xlabel(\"UMAP_1\")\n",
    "axes[3].set_ylabel(\"UMAP_2\")\n",
    "axes[3].set_title(\"Mitosis: skimage_orientation\")"
   ]
  },
  {
   "cell_type": "code",
   "execution_count": null,
   "metadata": {},
   "outputs": [],
   "source": [
    "import seaborn as sns\n",
    "import pandas as pd\n",
    "# Create a DataFrame with the mitosis colors and corresponding skimage areas\n",
    "data = pd.DataFrame({\n",
    "    \"mitosis_color\": mitosis_colors,\n",
    "    \"skimage_area\": sc_feature_table[\"skimage_area\"]\n",
    "})\n",
    "\n",
    "# Draw a boxplot for each mitosis color\n",
    "sns.boxplot(x=\"mitosis_color\", y=\"skimage_area\", data=data)\n",
    "plt.xlabel(\"mitosis: relative time\")\n",
    "plt.ylabel(\"area\")"
   ]
  },
  {
   "cell_type": "code",
   "execution_count": null,
   "metadata": {},
   "outputs": [],
   "source": [
    "sc_feature_table.columns"
   ]
  },
  {
   "cell_type": "code",
   "execution_count": null,
   "metadata": {},
   "outputs": [],
   "source": [
    "import seaborn as sns\n",
    "import pandas as pd\n",
    "# Create a DataFrame with the mitosis colors and corresponding skimage areas\n",
    "\n",
    "def viz_boxplot(key, mitosis_times, use_abs_vals=False):\n",
    "    vals = sc_feature_table[key]\n",
    "\n",
    "    if use_abs_vals:\n",
    "        vals = vals.abs()\n",
    "    data = pd.DataFrame({\n",
    "        \"mitosis: relative time\": mitosis_times,\n",
    "        key: vals\n",
    "    })\n",
    "\n",
    "    # Draw a boxplot for each mitosis color\n",
    "    sns.boxplot(x=\"mitosis: relative time\", y=key, data=data)\n",
    "# viz_boxplot(\"skimage_area\", mitosis_colors)\n",
    "\n",
    "\"\"\"eccentricity: float\n",
    "Eccentricity of the ellipse that has the same second-moments as the region. \n",
    "The eccentricity is the ratio of the focal distance (distance between focal points) over the major axis length. \n",
    "The value is in the interval [0, 1). When it is 0, the ellipse becomes a circle.\"\"\"\n",
    "# viz_boxplot(\"skimage_eccentricity\", mitosis_colors, use_abs_vals=True)\n",
    "# viz_boxplot(\"skimage_axis_minor_length\", mitosis_colors)\n",
    "viz_boxplot(\"skimage_axis_major_length\", mitosis_colors)\n",
    "# viz_boxplot(\"skimage_orientation\", mitosis_colors)"
   ]
  },
  {
   "cell_type": "code",
   "execution_count": null,
   "metadata": {},
   "outputs": [],
   "source": [
    "import matplotlib.pyplot as plt\n",
    "# plt.scatter(\n",
    "#     mitosis_colors,\n",
    "#     sc_feature_table[\"skimage_area\"],\n",
    "#     cmap=\"inferno\",\n",
    "#     alpha=0.5,\n",
    "# )\n",
    "\n",
    "plt.boxplot(\n",
    "    mitosis_colors,\n",
    "    sc_feature_table[\"skimage_area\"],\n",
    "    \n",
    ")\n",
    "\n",
    "plt.xlabel(\"Relative time\")\n",
    "plt.ylabel(\"Area\")\n",
    "plt.title(\"Mitosis: area vs. relative time\")\n",
    "# add colorbar\n",
    "plt.colorbar()"
   ]
  }
 ],
 "metadata": {
  "kernelspec": {
   "display_name": "livecell-work",
   "language": "python",
   "name": "python3"
  },
  "language_info": {
   "codemirror_mode": {
    "name": "ipython",
    "version": 3
   },
   "file_extension": ".py",
   "mimetype": "text/x-python",
   "name": "python",
   "nbconvert_exporter": "python",
   "pygments_lexer": "ipython3",
   "version": "3.9.16"
  }
 },
 "nbformat": 4,
 "nbformat_minor": 2
}
