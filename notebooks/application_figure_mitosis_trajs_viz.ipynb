{
 "cells": [
  {
   "cell_type": "code",
   "execution_count": null,
   "metadata": {},
   "outputs": [],
   "source": [
    "from pathlib import Path\n",
    "import os.path"
   ]
  },
  {
   "cell_type": "code",
   "execution_count": null,
   "metadata": {},
   "outputs": [],
   "source": [
    "out_dir = Path(\"./figure_mitosis_trajs_viz\")\n",
    "out_dir.mkdir(exist_ok=True)"
   ]
  },
  {
   "cell_type": "code",
   "execution_count": null,
   "metadata": {},
   "outputs": [],
   "source": [
    "from livecellx.track.classify_utils import load_class2samples_from_json_dir, load_all_json_dirs\n",
    "\n",
    "\n",
    "sample_json_dirs_v0 = [Path(r\"../datasets/test_scs_EBSS_starvation/XY1/annotations\"), Path(r\"./datasets/test_scs_EBSS_starvation/XY16/annotations\")]\n",
    "round1_json_dirs = sample_json_dirs_v0 + [\n",
    "    Path(r\"../datasets/mitosis-annotations-2023/shiman_XY01/XY01\"),\n",
    "Path(r\"../datasets/mitosis-annotations-2023/shiman_XY09/XY09\"),\n",
    "Path(r\"../datasets/mitosis-annotations-2023/shiman_XY10/XY10\"),\n",
    "Path(r\"../datasets/mitosis-annotations-2023/Yajushi/tifs_CFP_A549-VIM_lessThan24hr_NoTreat_NA_YL_Ti2e_2022-10-19/XY1/annotations\"),\n",
    "]\n",
    "\n",
    "round2_json_dirs = [\n",
    "Path(r\"../datasets/mitosis-annotations-2023/shiman_CXA_high_density/C0.5^4/\"),\n",
    "Path(r\"../datasets/mitosis-annotations-2023/shiman_CXA_high_density/C0.75^4/\"),\n",
    "Path(r\"../datasets/mitosis-annotations-2023/shiman_CXA_high_density/C10^3/\"),\n",
    "Path(r\"../datasets/mitosis-annotations-2023/shiman_CXA_high_density/C10^4/\")\n",
    "] + [\n",
    "    Path(f\"../datasets/mitosis-annotations-2023/Gaohan_tifs_CFP_A549-VIM_lessThan24hr_NoTreat_NA_YL_Ti2e_2022-10-19/XY{pos}/annotations\") for pos in range(4, 14)\n",
    "]\n",
    "\n",
    "sample_json_dirs = sample_json_dirs_v0 + round1_json_dirs + round2_json_dirs\n",
    "all_class2samples, all_class2sample_extra_info = load_all_json_dirs(sample_json_dirs)"
   ]
  },
  {
   "cell_type": "code",
   "execution_count": null,
   "metadata": {},
   "outputs": [],
   "source": [
    "for key in all_class2samples:\n",
    "    print(key, len(all_class2samples[key]))"
   ]
  },
  {
   "cell_type": "code",
   "execution_count": null,
   "metadata": {},
   "outputs": [],
   "source": [
    "mitosis_sampels = all_class2samples[\"mitosis\"]\n",
    "mitosis_sampels[0][0].meta"
   ]
  },
  {
   "cell_type": "markdown",
   "metadata": {},
   "source": [
    "check if sc has image data for future feature calculation"
   ]
  },
  {
   "cell_type": "code",
   "execution_count": null,
   "metadata": {},
   "outputs": [],
   "source": [
    "# for idx, sample in enumerate(mitosis_sampels):\n",
    "#     for sc in sample:\n",
    "#         sc.get_img()"
   ]
  },
  {
   "cell_type": "markdown",
   "metadata": {},
   "source": [
    "Store sample index in all_class2samples to each single cell for future use"
   ]
  },
  {
   "cell_type": "code",
   "execution_count": null,
   "metadata": {},
   "outputs": [],
   "source": [
    "for idx, sample in enumerate(mitosis_sampels):\n",
    "    if len(sample) == 0:\n",
    "        continue\n",
    "    _first_time = sample[0].timeframe\n",
    "    for sc in sample:\n",
    "        sc.meta[\"_sample_idx\"] = idx\n",
    "        sc.meta[\"mitosis_relative_time\"] = sc.timeframe - _first_time\n",
    "\n"
   ]
  },
  {
   "cell_type": "code",
   "execution_count": null,
   "metadata": {},
   "outputs": [],
   "source": [
    "all_scs = [sc for sample in mitosis_sampels for sc in sample]"
   ]
  },
  {
   "cell_type": "code",
   "execution_count": null,
   "metadata": {},
   "outputs": [],
   "source": [
    "from livecellx.trajectory.feature_extractors import compute_haralick_features, compute_skimage_regionprops, parallelize_compute_features\n",
    "from livecellx.preprocess.utils import normalize_img_to_uint8\n",
    "from livecellx.core.parallel import parallelize\n",
    "inputs = []\n",
    "for sc in all_scs:\n",
    "    # features = compute_skimage_regionprops(sc, preprocess_img_func=normalize_img_to_uint8, sc_level_normalize=True)\n",
    "    inputs.append({\n",
    "        \"sc\": sc,\n",
    "        \"feature_key\": \"skimage\",\n",
    "        \"preprocess_img_func\": normalize_img_to_uint8,\n",
    "        \"sc_level_normalize\": True,\n",
    "    })\n",
    "\n",
    "def compute_skimage_regionprops_wrapper(**input):\n",
    "    sc = input[\"sc\"]\n",
    "    compute_skimage_regionprops(**input)\n",
    "    return sc\n",
    "\n",
    "# TODO: debug\n",
    "processed_scs = parallelize(compute_skimage_regionprops_wrapper, inputs)\n",
    "\n",
    "# # a for loop for computing\n",
    "# import tqdm\n",
    "# processed_scs = []\n",
    "# for input in tqdm.tqdm(inputs):\n",
    "#     sc = input[\"sc\"]\n",
    "#     compute_skimage_regionprops(**input)\n",
    "#     processed_scs.append(sc)"
   ]
  },
  {
   "cell_type": "code",
   "execution_count": null,
   "metadata": {},
   "outputs": [],
   "source": [
    "from livecellx.core.single_cell import SingleCellStatic\n",
    "\n",
    "SingleCellStatic.write_single_cells_json(processed_scs, out_dir / \"processed_scs.json\", dataset_dir= out_dir / \"datasets\")"
   ]
  },
  {
   "cell_type": "code",
   "execution_count": null,
   "metadata": {},
   "outputs": [],
   "source": [
    "processed_scs = SingleCellStatic.load_single_cells_json(out_dir / \"processed_scs.json\")"
   ]
  },
  {
   "cell_type": "code",
   "execution_count": null,
   "metadata": {},
   "outputs": [],
   "source": [
    "sample_sc = mitosis_sampels[0][0]\n",
    "sample_sc.meta.keys()\n",
    "meta_keys = ['img_dataset_json_path', 'mask_dataset_json_path', '_sample_idx', 'mitosis_relative_time']"
   ]
  },
  {
   "cell_type": "code",
   "execution_count": null,
   "metadata": {},
   "outputs": [],
   "source": [
    "from livecellx.core.single_cell import create_sc_table\n",
    "\n",
    "sc_table_with_time = create_sc_table(processed_scs, add_time=True, add_sc_id=True, meta_keys=meta_keys)\n",
    "cell_features_2 = create_sc_table(processed_scs, add_time=False)"
   ]
  },
  {
   "cell_type": "code",
   "execution_count": null,
   "metadata": {},
   "outputs": [],
   "source": [
    "# save the tables\n",
    "sc_table_with_time.to_csv(out_dir / \"mitosis_scs_table_with_time.csv\")"
   ]
  },
  {
   "cell_type": "code",
   "execution_count": null,
   "metadata": {},
   "outputs": [],
   "source": [
    "sc_table_with_time[:2]"
   ]
  },
  {
   "cell_type": "code",
   "execution_count": null,
   "metadata": {},
   "outputs": [],
   "source": [
    "import umap\n",
    "reducer = umap.UMAP()\n",
    "# drop NAN in sc_feature_table\n",
    "cell_features_2 = cell_features_2.dropna(axis=1)\n",
    "\n",
    "embedding = reducer.fit_transform(cell_features_2)"
   ]
  },
  {
   "cell_type": "code",
   "execution_count": null,
   "metadata": {},
   "outputs": [],
   "source": [
    "import matplotlib.pyplot as plt\n",
    "plt.scatter(\n",
    "    embedding[:, 0],\n",
    "    embedding[:, 1],\n",
    "    c=[sc.timeframe for sc in processed_scs],\n",
    "    alpha=0.5,\n",
    ")\n",
    "plt.title(\"Ignore this figure: meaningless timeframe\")\n",
    "plt.xlabel(\"UMAP_1\")\n",
    "plt.ylabel(\"UMAP_2\")\n",
    "# add colorbar\n",
    "plt.colorbar()"
   ]
  },
  {
   "cell_type": "code",
   "execution_count": null,
   "metadata": {},
   "outputs": [],
   "source": [
    "plt_fontsize = 14"
   ]
  },
  {
   "cell_type": "code",
   "execution_count": null,
   "metadata": {},
   "outputs": [],
   "source": [
    "mitosis_relative_times = [sc.meta[\"mitosis_relative_time\"] for sc in processed_scs]\n",
    "\n",
    "# plot distribution of mitosis relative times\n",
    "import seaborn as sns\n",
    "plt.figure(figsize=(8, 6))\n",
    "sns.displot(mitosis_relative_times, kde=True, height=6, aspect=1.5)\n",
    "plt.title(\"Distribution of mitosis relative times\", fontsize=plt_fontsize)\n",
    "plt.xlabel(\"Mitosis relative time\", fontsize=plt_fontsize)\n",
    "plt.ylabel(\"Count\", fontsize=plt_fontsize)\n",
    "plt.xticks(fontsize=plt_fontsize)\n",
    "plt.yticks(fontsize=plt_fontsize)\n",
    "plt.show()"
   ]
  },
  {
   "cell_type": "code",
   "execution_count": null,
   "metadata": {},
   "outputs": [],
   "source": [
    "clipped_mitosis_time = [sc.meta[\"mitosis_relative_time\"] for sc in processed_scs]\n",
    "clipped_mitosis_time = [min(10, x) for x in clipped_mitosis_time]"
   ]
  },
  {
   "cell_type": "code",
   "execution_count": null,
   "metadata": {},
   "outputs": [],
   "source": [
    "mitosis_sampels[37][2]"
   ]
  },
  {
   "cell_type": "code",
   "execution_count": null,
   "metadata": {},
   "outputs": [],
   "source": [
    "import matplotlib.pyplot as plt\n",
    "\n",
    "large_thresholds = [10, 15, 20, 25, 30, 35, 40, 45, 50]\n",
    "\n",
    "def print_stats(processed_scs, threshold):\n",
    "    large_mitosis_relative_time_scs = [sc for sc in processed_scs if sc.meta[\"mitosis_relative_time\"] > threshold]\n",
    "    tmp_unique_long_samples = set()\n",
    "    for sc in large_mitosis_relative_time_scs:\n",
    "        if '_labels' not in sc.meta:\n",
    "            tmp_unique_long_samples.add(sc.meta['_sample_idx'])\n",
    "            continue\n",
    "    return len(tmp_unique_long_samples), len(large_mitosis_relative_time_scs)\n",
    "\n",
    "# Get the number of unique long samples and total long samples for each threshold\n",
    "num_unique_long_samples = []\n",
    "num_total_long_scs = []\n",
    "for threshold in large_thresholds:\n",
    "    unique_long_samples, total_long_samples = print_stats(processed_scs, threshold)\n",
    "    num_unique_long_samples.append(unique_long_samples)\n",
    "    num_total_long_scs.append(total_long_samples)\n",
    "\n",
    "# Set the figure size\n",
    "plt.figure(figsize=(8, 6))\n",
    "\n",
    "# Plot the data as a scatter plot\n",
    "plt.plot(large_thresholds, num_unique_long_samples, color='blue', label='#long samples')\n",
    "# plt.scatter(large_thresholds, num_total_long_samples, color='orange', label='Total Long Samples')\n",
    "\n",
    "# Add text labels to the scatter points\n",
    "for i in range(len(large_thresholds)):\n",
    "    plt.text(large_thresholds[i] + 0.7, num_unique_long_samples[i] + 0.1, str(num_unique_long_samples[i]), fontsize=12, ha='center', va='bottom')\n",
    "    # plt.text(large_thresholds[i], num_total_long_samples[i], str(num_total_long_samples[i]), fontsize=12, ha='center', va='bottom')\n",
    "\n",
    "# Set the x and y axis labels with larger font size\n",
    "plt.xlabel(\"Sample Length Threshold\", fontsize=14)\n",
    "plt.ylabel(\"Number of Samples\", fontsize=14)\n",
    "\n",
    "# Set the x and y axis tick labels with larger font size\n",
    "plt.xticks(fontsize=12)\n",
    "plt.yticks(fontsize=12)\n",
    "\n",
    "# Add a title to the plot\n",
    "plt.title(\"Number of Samples vs. Sample Length Threshold\", fontsize=plt_fontsize)\n",
    "plt.xlabel(\"Sample Length Threshold\", fontsize=plt_fontsize)\n",
    "plt.ylabel(\"Number of Samples\", fontsize=plt_fontsize)\n",
    "\n",
    "# Add a legend to the plot\n",
    "plt.legend(fontsize=12)\n",
    "\n",
    "# remove the spines\n",
    "ax = plt.gca()\n",
    "ax.spines['top'].set_visible(False)\n",
    "ax.spines['right'].set_visible(False)\n",
    "\n",
    "# Show the plot\n",
    "plt.show()"
   ]
  },
  {
   "cell_type": "code",
   "execution_count": null,
   "metadata": {},
   "outputs": [],
   "source": [
    "cell_features_2.columns"
   ]
  },
  {
   "cell_type": "code",
   "execution_count": null,
   "metadata": {},
   "outputs": [],
   "source": [
    "import matplotlib.pyplot as plt\n",
    "fig, axes = plt.subplots(1, 4, figsize=(20, 5))\n",
    "axes[0].scatter(\n",
    "    embedding[:, 0],\n",
    "    embedding[:, 1],\n",
    "    c=cell_features_2[\"skimage_area\"],\n",
    "    cmap=\"inferno\",\n",
    "    alpha=0.5,\n",
    ")\n",
    "axes[0].set_xlabel(\"UMAP_1\")\n",
    "axes[0].set_ylabel(\"UMAP_2\")\n",
    "axes[0].set_title(\"Mitosis: area\")\n",
    "# add colorbar\n",
    "# axes[0].colorbar()\n",
    "\n",
    "axes[1].scatter(\n",
    "    embedding[:, 0],\n",
    "    embedding[:, 1],\n",
    "    c=clipped_mitosis_time,\n",
    "    cmap=\"inferno\",\n",
    "    alpha=0.5,\n",
    ")\n",
    "axes[1].set_xlabel(\"UMAP_1\")\n",
    "axes[1].set_ylabel(\"UMAP_2\")\n",
    "axes[1].set_title(\"Mitosis: relative time\")\n",
    "\n",
    "axes[2].scatter(\n",
    "    embedding[:, 0],\n",
    "    embedding[:, 1],\n",
    "    c=cell_features_2[\"skimage_eccentricity\"],\n",
    "    cmap=\"inferno\",\n",
    "    alpha=0.5,\n",
    ")\n",
    "axes[2].set_xlabel(\"UMAP_1\")\n",
    "axes[2].set_ylabel(\"UMAP_2\")\n",
    "axes[2].set_title(\"Mitosis: eccentricity\")\n",
    "\n",
    "\n",
    "axes[3].scatter(\n",
    "    embedding[:, 0],\n",
    "    embedding[:, 1],\n",
    "    c=cell_features_2[\"skimage_orientation\"],\n",
    "    cmap=\"inferno\",\n",
    "    alpha=0.5,\n",
    ")\n",
    "axes[3].set_xlabel(\"UMAP_1\")\n",
    "axes[3].set_ylabel(\"UMAP_2\")\n",
    "axes[3].set_title(\"Mitosis: skimage_orientation\")"
   ]
  },
  {
   "cell_type": "code",
   "execution_count": null,
   "metadata": {},
   "outputs": [],
   "source": [
    "import seaborn as sns\n",
    "import pandas as pd\n",
    "# Create a DataFrame with the mitosis colors and corresponding skimage areas\n",
    "data = pd.DataFrame({\n",
    "    \"mitosis_color\": clipped_mitosis_time,\n",
    "    \"skimage_area\": cell_features_2[\"skimage_area\"]\n",
    "})\n",
    "\n",
    "# Draw a boxplot for each mitosis color\n",
    "sns.boxplot(x=\"mitosis_color\", y=\"skimage_area\", data=data)\n",
    "plt.xlabel(\"mitosis: relative time\")\n",
    "plt.ylabel(\"area\")"
   ]
  },
  {
   "cell_type": "code",
   "execution_count": null,
   "metadata": {},
   "outputs": [],
   "source": [
    "cell_features_2.columns"
   ]
  },
  {
   "cell_type": "code",
   "execution_count": null,
   "metadata": {},
   "outputs": [],
   "source": [
    "import seaborn as sns\n",
    "import pandas as pd\n",
    "# Create a DataFrame with the mitosis colors and corresponding skimage areas\n",
    "\n",
    "def viz_boxplot(key, mitosis_times, use_abs_vals=False):\n",
    "    vals = cell_features_2[key]\n",
    "\n",
    "    if use_abs_vals:\n",
    "        vals = vals.abs()\n",
    "    data = pd.DataFrame({\n",
    "        \"mitosis: relative time\": mitosis_times,\n",
    "        key: vals\n",
    "    })\n",
    "\n",
    "    # Draw a boxplot for each mitosis color\n",
    "    sns.boxplot(x=\"mitosis: relative time\", y=key, data=data)\n",
    "# viz_boxplot(\"skimage_area\", clipped_mitosis_time)\n",
    "\n",
    "\"\"\"eccentricity: float\n",
    "Eccentricity of the ellipse that has the same second-moments as the region. \n",
    "The eccentricity is the ratio of the focal distance (distance between focal points) over the major axis length. \n",
    "The value is in the interval [0, 1). When it is 0, the ellipse becomes a circle.\"\"\"\n",
    "# viz_boxplot(\"skimage_eccentricity\", clipped_mitosis_time, use_abs_vals=True)\n",
    "# viz_boxplot(\"skimage_axis_minor_length\", clipped_mitosis_time)\n",
    "viz_boxplot(\"skimage_axis_major_length\", clipped_mitosis_time)\n",
    "# viz_boxplot(\"skimage_orientation\", clipped_mitosis_time)"
   ]
  },
  {
   "cell_type": "code",
   "execution_count": null,
   "metadata": {},
   "outputs": [],
   "source": [
    "from livecellx.core.single_cell import create_sc_table\n",
    "normalized_img_features = create_sc_table(processed_scs, normalize_features=True)\n",
    "# drop na\n",
    "normalized_img_features = normalized_img_features.dropna(axis=1, how=\"all\")\n",
    "reducer = umap.UMAP()\n",
    "normalized_embedding = reducer.fit_transform(normalized_img_features)\n",
    "\n",
    "fig, axes = plt.subplots(1, 2, figsize=(10, 5))\n",
    "scatter_time = axes[0].scatter(\n",
    "    normalized_embedding[:, 0],\n",
    "    normalized_embedding[:, 1],\n",
    "    c=clipped_mitosis_time,\n",
    "    alpha=0.5,\n",
    ")\n",
    "colorbar = fig.colorbar(scatter_time, ax=axes[0], label=\"Time\")\n",
    "\n",
    "scatter_area = axes[1].scatter(\n",
    "    normalized_embedding[:, 0],\n",
    "    normalized_embedding[:, 1],\n",
    "    c=normalized_img_features[\"skimage_area\"],\n",
    ")\n",
    "colorbar = fig.colorbar(scatter_area, ax=axes[1], label=\"Area\")\n"
   ]
  },
  {
   "cell_type": "code",
   "execution_count": null,
   "metadata": {},
   "outputs": [],
   "source": [
    "import plotly.graph_objs as go\n",
    "import plotly.subplots as sp\n",
    "import numpy as np\n",
    "\n",
    "scs = processed_scs\n",
    "fig = sp.make_subplots(rows=1, cols=2, subplot_titles=(\"Time\", \"Area\"))\n",
    "\n",
    "clipped_mitosis_time_np = np.array(clipped_mitosis_time, dtype=int)\n",
    "scatter_time = go.Scatter(\n",
    "    x=normalized_embedding[:, 0],\n",
    "    y=normalized_embedding[:, 1],\n",
    "    mode=\"markers\",\n",
    "    marker=dict(color=clipped_mitosis_time, colorbar=dict(title=\"Time\", x=0.45, yanchor=\"middle\", len=0.5)),\n",
    "    text=[f\"Timeframe: {sc.timeframe}<br>sc id: {sc.id}\" for sc in scs],\n",
    "    customdata=[sc.id for sc in scs],\n",
    ")\n",
    "\n",
    "unique_mitosis_time_points = np.unique(clipped_mitosis_time_np)\n",
    "for i, time_point in enumerate(unique_mitosis_time_points):\n",
    "    if len(np.where(clipped_mitosis_time_np == time_point)) == 0:\n",
    "        continue\n",
    "    indices = np.where(clipped_mitosis_time_np == time_point)[0]\n",
    "    mean_position = np.mean(normalized_embedding[indices], axis=0)\n",
    "    x = mean_position[0]\n",
    "    y = mean_position[1]\n",
    "    annotation = go.layout.Annotation(\n",
    "        x=x,\n",
    "        y=y,\n",
    "        text=str(time_point),\n",
    "        showarrow=False,\n",
    "        font=dict(size=20, color=\"white\"),\n",
    "        xshift=5,\n",
    "        yshift=5,\n",
    "    )\n",
    "    fig.add_annotation(annotation)\n",
    "\n",
    "scatter_area = go.Scatter(\n",
    "    x=normalized_embedding[:, 0],\n",
    "    y=normalized_embedding[:, 1],\n",
    "    mode=\"markers\",\n",
    "    marker=dict(color=normalized_img_features[\"skimage_area\"], colorbar=dict(title=\"Area\", x=1, yanchor=\"middle\", len=0.5)),\n",
    ")\n",
    "fig.append_trace(scatter_time, row=1, col=1)\n",
    "fig.add_trace(scatter_area, row=1, col=2)\n",
    "\n",
    "fig.update_layout(height=500, width=1000, title_text=\"UMAP Embedding\", clickmode=\"event\")"
   ]
  },
  {
   "cell_type": "markdown",
   "metadata": {},
   "source": [
    "unnormalized feature"
   ]
  },
  {
   "cell_type": "code",
   "execution_count": null,
   "metadata": {},
   "outputs": [],
   "source": [
    "from livecellx.core.single_cell import create_sc_table\n",
    "unnormalized_img_features = create_sc_table(processed_scs, normalize_features=False)\n",
    "# drop na\n",
    "unnormalized_img_features = unnormalized_img_features.dropna(axis=1, how=\"all\")\n",
    "reducer = umap.UMAP()\n",
    "unnormalized_embedding = reducer.fit_transform(unnormalized_img_features)\n",
    "\n",
    "fig, axes = plt.subplots(1, 2, figsize=(10, 5))\n",
    "scatter_time = axes[0].scatter(\n",
    "    normalized_embedding[:, 0],\n",
    "    normalized_embedding[:, 1],\n",
    "    c=clipped_mitosis_time,\n",
    ")\n",
    "colorbar = fig.colorbar(scatter_time, ax=axes[0], label=\"Time\")\n",
    "\n",
    "scatter_area = axes[1].scatter(\n",
    "    normalized_embedding[:, 0],\n",
    "    normalized_embedding[:, 1],\n",
    "    c=unnormalized_img_features[\"skimage_centroid_weighted_local-0\"],\n",
    ")\n",
    "colorbar = fig.colorbar(scatter_area, ax=axes[1], label=\"Area\")\n"
   ]
  },
  {
   "cell_type": "code",
   "execution_count": null,
   "metadata": {},
   "outputs": [],
   "source": [
    "import plotly.graph_objs as go\n",
    "import plotly.subplots as sp\n",
    "import numpy as np\n",
    "\n",
    "scs = processed_scs\n",
    "fig = sp.make_subplots(rows=1, cols=2, subplot_titles=(\"Time\", \"Area\"))\n",
    "\n",
    "clipped_mitosis_time_np = np.array(clipped_mitosis_time, dtype=int)\n",
    "scatter_time = go.Scatter(\n",
    "    x=unnormalized_embedding[:, 0],\n",
    "    y=unnormalized_embedding[:, 1],\n",
    "    mode=\"markers\",\n",
    "    marker=dict(color=clipped_mitosis_time, colorbar=dict(title=\"Time\", x=0.45, yanchor=\"middle\", len=0.5)),\n",
    "    text=[f\"Timeframe: {sc.timeframe}<br>sc id: {sc.id}<br>Mitosis: {sc.meta['mitosis_relative_time']}\" for sc in scs],\n",
    "    customdata=[sc.id for sc in scs],\n",
    ")\n",
    "\n",
    "unique_mitosis_time_points = np.unique(clipped_mitosis_time_np)\n",
    "for i, time_point in enumerate(unique_mitosis_time_points):\n",
    "    if len(np.where(clipped_mitosis_time_np == time_point)) == 0:\n",
    "        continue\n",
    "    indices = np.where(clipped_mitosis_time_np == time_point)[0]\n",
    "    mean_position = np.mean(unnormalized_embedding[indices], axis=0)\n",
    "    x = mean_position[0]\n",
    "    y = mean_position[1]\n",
    "    annotation = go.layout.Annotation(\n",
    "        x=x,\n",
    "        y=y,\n",
    "        text=str(time_point),\n",
    "        showarrow=False,\n",
    "        font=dict(size=20, color=\"white\"),\n",
    "        xshift=5,\n",
    "        yshift=5,\n",
    "    )\n",
    "    fig.add_annotation(annotation)\n",
    "\n",
    "scatter_area = go.Scatter(\n",
    "    x=unnormalized_embedding[:, 0],\n",
    "    y=unnormalized_embedding[:, 1],\n",
    "    mode=\"markers\",\n",
    "    marker=dict(color=normalized_img_features[\"skimage_area\"], colorbar=dict(title=\"Area\", x=1, yanchor=\"middle\", len=0.5)),\n",
    ")\n",
    "fig.append_trace(scatter_time, row=1, col=1)\n",
    "fig.add_trace(scatter_area, row=1, col=2)\n",
    "\n",
    "fig.update_layout(height=500, width=1000, title_text=\"UMAP Embedding\", clickmode=\"event\")"
   ]
  },
  {
   "cell_type": "markdown",
   "metadata": {},
   "source": [
    "### PCA analysis"
   ]
  },
  {
   "cell_type": "code",
   "execution_count": null,
   "metadata": {},
   "outputs": [],
   "source": [
    "import numpy as np\n",
    "from sklearn.decomposition import PCA\n",
    "\n",
    "pca = PCA(n_components=30)\n",
    "pca.fit(normalized_img_features)\n",
    "pca_img_features = pca.transform(normalized_img_features)"
   ]
  },
  {
   "cell_type": "code",
   "execution_count": null,
   "metadata": {},
   "outputs": [],
   "source": [
    "# plot the transformed data\n",
    "import matplotlib.pyplot as plt\n",
    "\n",
    "plt.scatter(pca_img_features[:, 0], pca_img_features[:, 1])\n",
    "plt.xlabel(\"PC1\")\n",
    "plt.ylabel(\"PC2\")\n",
    "plt.show()"
   ]
  },
  {
   "cell_type": "code",
   "execution_count": null,
   "metadata": {},
   "outputs": [],
   "source": [
    "pca_img_features.T.shape, normalized_img_features.shape\n"
   ]
  },
  {
   "cell_type": "code",
   "execution_count": null,
   "metadata": {},
   "outputs": [],
   "source": [
    "def compute_dims_corr(cell_features_1: pd.DataFrame, cell_features_2: pd.DataFrame, sort_by_abs=True):\n",
    "    feature_cols = cell_features_2.columns\n",
    "    feature_corr_df = pd.DataFrame()\n",
    "    for feature in feature_cols:\n",
    "        for dim in cell_features_1.columns:\n",
    "            _embedding = cell_features_1[dim]\n",
    "            # suffer from NAN\n",
    "            # corr = np.corrcoef(np.array(sc_feature_table[feature]), _embedding)[0, 1]\n",
    "\n",
    "            # avoid and exclude NA values\n",
    "            _tmp_df = pd.DataFrame({\"embedding\": _embedding, \"feature\": cell_features_2[feature]})\n",
    "            all_corrs = _tmp_df.corr()\n",
    "            corr = all_corrs[\"feature\"].loc[\"embedding\"]\n",
    "            new_df = pd.DataFrame({\"feature\": [feature], \"corr\": [corr], \"dim\": [dim]})\n",
    "            feature_corr_df = pd.concat([feature_corr_df, new_df], ignore_index=True)\n",
    "\n",
    "    # sort feature_corr_df by corr\n",
    "    dim2feature_corr_df = {}\n",
    "    for dim in cell_features_1.columns:\n",
    "        dim2feature_corr_df[dim] = feature_corr_df[feature_corr_df[\"dim\"] == dim]\\\n",
    "            .sort_values(by=\"corr\", ascending=False, key=lambda x: abs(x))\n",
    "    return dim2feature_corr_df\n",
    "\n",
    "pca_img_features = pd.DataFrame(pca_img_features, columns=[f\"PC{i}\" for i in range(pca_img_features.shape[1])])\n",
    "compute_dims_corr(pca_img_features, normalized_img_features)"
   ]
  }
 ],
 "metadata": {
  "kernelspec": {
   "display_name": "livecell-work",
   "language": "python",
   "name": "python3"
  },
  "language_info": {
   "codemirror_mode": {
    "name": "ipython",
    "version": 3
   },
   "file_extension": ".py",
   "mimetype": "text/x-python",
   "name": "python",
   "nbconvert_exporter": "python",
   "pygments_lexer": "ipython3",
   "version": "3.10.8"
  }
 },
 "nbformat": 4,
 "nbformat_minor": 2
}
