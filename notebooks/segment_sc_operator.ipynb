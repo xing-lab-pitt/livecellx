{
 "cells": [
  {
   "cell_type": "code",
   "execution_count": null,
   "metadata": {},
   "outputs": [],
   "source": [
    "import livecell_tracker.sample_data\n",
    "from pathlib import Path\n",
    "import numpy as np\n",
    "import matplotlib.pyplot as plt\n",
    "from napari.layers import Shapes\n"
   ]
  },
  {
   "cell_type": "code",
   "execution_count": null,
   "metadata": {},
   "outputs": [],
   "source": [
    "dic_dataset_path = Path(\"../datasets/test_data_STAV-A549/DIC_data\")\n",
    "mask_dataset_path = Path(\"../datasets/test_data_STAV-A549/mask_data\")\n",
    "dic_dataset, mask_dataset = livecell_tracker.sample_data.tutorial_three_image_sys(dic_dataset_path, mask_dataset_path)\n"
   ]
  },
  {
   "cell_type": "code",
   "execution_count": null,
   "metadata": {},
   "outputs": [],
   "source": [
    "from livecell_tracker.core.io_sc import prep_scs_from_mask_dataset\n",
    "single_cells = prep_scs_from_mask_dataset(mask_dataset, dic_dataset)"
   ]
  },
  {
   "cell_type": "code",
   "execution_count": null,
   "metadata": {},
   "outputs": [],
   "source": [
    "from livecell_tracker.core import SingleCellTrajectory, SingleCellStatic\n",
    "\n",
    "class ScSegOperator:\n",
    "    def __init__(\n",
    "        self,\n",
    "        sc: SingleCellStatic,\n",
    "        viewer,\n",
    "        shape_layer: Shapes=None,\n",
    "        face_color=(0, 0, 1, 1),\n",
    "    ):\n",
    "        self.sc = sc\n",
    "        self.viewer = viewer\n",
    "        self.shape_layer = shape_layer\n",
    "        self.face_color = face_color\n",
    "\n",
    "    def create_sc_layer(self, name=None, contour_sample_num=100):\n",
    "        if name is None:\n",
    "            name = f\"sc_{self.sc.id}\"\n",
    "        shape_vec = self.sc.get_napari_shape_contour_vec(contour_sample_num=contour_sample_num)\n",
    "        properties = {\"sc\": [self.sc]}\n",
    "        print(\"shape vec\", shape_vec)\n",
    "        shape_layer = self.viewer.add_shapes(\n",
    "            [shape_vec],\n",
    "            properties=properties,\n",
    "            face_color=[self.face_color],\n",
    "            shape_type=\"polygon\",\n",
    "            name=name,\n",
    "        )\n",
    "        self.shape_layer = shape_layer\n",
    "\n"
   ]
  },
  {
   "cell_type": "code",
   "execution_count": null,
   "metadata": {},
   "outputs": [],
   "source": [
    "import napari\n",
    "viewer = napari.view_image(dic_dataset.to_dask(), name=\"dic_image\", cache=True)"
   ]
  },
  {
   "cell_type": "code",
   "execution_count": null,
   "metadata": {},
   "outputs": [],
   "source": [
    "sample_sc = single_cells[0]\n",
    "sample_sc_seg_operator = ScSegOperator(sample_sc, viewer=viewer)\n",
    "sample_sc_seg_operator.create_sc_layer(contour_sample_num=20)"
   ]
  }
 ],
 "metadata": {
  "kernelspec": {
   "display_name": "livecell-work",
   "language": "python",
   "name": "python3"
  },
  "language_info": {
   "codemirror_mode": {
    "name": "ipython",
    "version": 3
   },
   "file_extension": ".py",
   "mimetype": "text/x-python",
   "name": "python",
   "nbconvert_exporter": "python",
   "pygments_lexer": "ipython3",
   "version": "3.9.16"
  },
  "orig_nbformat": 4
 },
 "nbformat": 4,
 "nbformat_minor": 2
}
