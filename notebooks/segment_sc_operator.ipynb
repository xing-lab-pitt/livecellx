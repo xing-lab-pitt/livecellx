{
 "cells": [
  {
   "cell_type": "code",
   "execution_count": null,
   "metadata": {},
   "outputs": [],
   "source": [
    "import livecell_tracker.sample_data\n",
    "from pathlib import Path\n",
    "import numpy as np\n",
    "import matplotlib.pyplot as plt\n",
    "from napari.layers import Shapes\n"
   ]
  },
  {
   "cell_type": "code",
   "execution_count": null,
   "metadata": {},
   "outputs": [],
   "source": [
    "dic_dataset_path = Path(\"../datasets/test_data_STAV-A549/DIC_data\")\n",
    "mask_dataset_path = Path(\"../datasets/test_data_STAV-A549/mask_data\")\n",
    "dic_dataset, mask_dataset = livecell_tracker.sample_data.tutorial_three_image_sys(dic_dataset_path, mask_dataset_path, dir=\"../datasets\")"
   ]
  },
  {
   "cell_type": "code",
   "execution_count": null,
   "metadata": {},
   "outputs": [],
   "source": [
    "from livecell_tracker.core.io_sc import prep_scs_from_mask_dataset\n",
    "single_cells = prep_scs_from_mask_dataset(mask_dataset, dic_dataset)"
   ]
  },
  {
   "cell_type": "code",
   "execution_count": null,
   "metadata": {},
   "outputs": [],
   "source": []
  },
  {
   "cell_type": "code",
   "execution_count": null,
   "metadata": {},
   "outputs": [],
   "source": [
    "from livecell_tracker.model_zoo.segmentation.sc_correction import CorrectSegNet\n",
    "# ckpt = r\"./notebook_results/csn_models/model_v11_epoch=3282-test_loss=2.3688.ckpt\"\n",
    "ckpt = r\"./notebook_results/csn_models/model_over_dropout_epoch=4092-test_loss=2.7959.ckpt\"\n",
    "model = CorrectSegNet.load_from_checkpoint(ckpt)\n",
    "model = model.cuda()\n",
    "model = model.eval()"
   ]
  },
  {
   "cell_type": "code",
   "execution_count": null,
   "metadata": {},
   "outputs": [],
   "source": [
    "import napari\n",
    "from livecell_tracker.core.sc_seg_operator import ScSegOperator, create_sc_seg_napari_ui\n",
    "viewer = napari.view_image(dic_dataset.to_dask(), name=\"dic_image\", cache=True)"
   ]
  },
  {
   "cell_type": "code",
   "execution_count": null,
   "metadata": {},
   "outputs": [],
   "source": [
    "sample_sc = single_cells[10]\n",
    "sample_sc_seg_operator = ScSegOperator(sample_sc, viewer=viewer, csn_model=model)\n",
    "sample_sc_seg_operator.create_sc_layer(contour_sample_num=30)\n"
   ]
  },
  {
   "cell_type": "code",
   "execution_count": null,
   "metadata": {},
   "outputs": [],
   "source": [
    "sample_sc_seg_operator.save_seg_callback()"
   ]
  },
  {
   "cell_type": "code",
   "execution_count": null,
   "metadata": {},
   "outputs": [],
   "source": [
    "sample_sc_seg_operator.csn_correct_seg_callback()"
   ]
  },
  {
   "cell_type": "code",
   "execution_count": null,
   "metadata": {},
   "outputs": [],
   "source": [
    "padding_pixels = 40\n",
    "create_ou_input_kwargs = {\n",
    "            \"padding_pixels\": padding_pixels,\n",
    "            \"dtype\": float,\n",
    "            \"remove_bg\": False,\n",
    "            \"one_object\": True,\n",
    "            \"scale\": 0,\n",
    "        }\n",
    "\n",
    "output = sample_sc_seg_operator.correct_segment(model, create_ou_input_kwargs=create_ou_input_kwargs)\n",
    "# plt.imshow(output[0].cpu().detach().numpy()[0])"
   ]
  },
  {
   "cell_type": "code",
   "execution_count": null,
   "metadata": {},
   "outputs": [],
   "source": [
    "sample_sc_seg_operator.restore_sc_contour_callback()"
   ]
  },
  {
   "cell_type": "code",
   "execution_count": null,
   "metadata": {},
   "outputs": [],
   "source": [
    "sample_sc_seg_operator.clear_sc_layer_callback()"
   ]
  },
  {
   "cell_type": "code",
   "execution_count": null,
   "metadata": {},
   "outputs": [],
   "source": [
    "# # select a cell (by click or by set attr) and call the function below to\n",
    "# sample_sc_seg_operator.csn_correct_seg_callback()"
   ]
  },
  {
   "attachments": {},
   "cell_type": "markdown",
   "metadata": {},
   "source": [
    "Remove sc operator shape layer"
   ]
  },
  {
   "cell_type": "code",
   "execution_count": null,
   "metadata": {},
   "outputs": [],
   "source": [
    "sample_sc_seg_operator.remove_sc_layer()"
   ]
  },
  {
   "attachments": {},
   "cell_type": "markdown",
   "metadata": {},
   "source": [
    "Programmically replace sc mask with a new mask"
   ]
  },
  {
   "cell_type": "code",
   "execution_count": null,
   "metadata": {},
   "outputs": [],
   "source": [
    "plt.imshow(mask[0])"
   ]
  },
  {
   "cell_type": "code",
   "execution_count": null,
   "metadata": {},
   "outputs": [],
   "source": [
    "mask = (output[0].cpu().detach().numpy()[0] > 0.5).astype(np.uint8)\n",
    "sample_sc_seg_operator.sc.update_sc_mask_by_crop(mask[0, ...], padding_pixels=padding_pixels)"
   ]
  },
  {
   "cell_type": "code",
   "execution_count": null,
   "metadata": {},
   "outputs": [],
   "source": [
    "from livecell_tracker.segment.utils import find_contours_opencv\n",
    "from livecell_tracker.core.datasets import SingleImageDataset\n",
    "\n",
    "\n",
    "padding_pixels = 50\n",
    "new_mask = (output[0].cpu().detach().numpy()[0] > 0.5).astype(np.uint8)[0]\n",
    "new_sc = sample_sc_seg_operator.sc.copy()\n",
    "new_sc.mask_dataset = SingleImageDataset(new_mask)\n",
    "new_sc.contour = np.array(find_contours_opencv(new_mask)[0]) + new_sc.bbox[:2] - padding_pixels\n",
    "new_sc_seg_operator = ScSegOperator(new_sc, viewer=viewer)\n",
    "new_sc_seg_operator.create_sc_layer(contour_sample_num=20)"
   ]
  },
  {
   "cell_type": "code",
   "execution_count": null,
   "metadata": {},
   "outputs": [],
   "source": [
    "create_sc_seg_napari_ui(sample_sc_seg_operator)"
   ]
  },
  {
   "cell_type": "code",
   "execution_count": null,
   "metadata": {},
   "outputs": [],
   "source": [
    "sample_sc_seg_operator.csn_model = model\n",
    "sample_sc_seg_operator.csn_correct_seg_callback()"
   ]
  },
  {
   "cell_type": "code",
   "execution_count": null,
   "metadata": {},
   "outputs": [],
   "source": [
    "sample_sc_seg_operator.save_seg_callback()"
   ]
  },
  {
   "cell_type": "code",
   "execution_count": null,
   "metadata": {},
   "outputs": [],
   "source": [
    "sample_sc_seg_operator.sc.get_label_mask_crop().shape"
   ]
  },
  {
   "cell_type": "code",
   "execution_count": null,
   "metadata": {},
   "outputs": [],
   "source": [
    "sample_sc_seg_operator.sc.show_panel()"
   ]
  },
  {
   "cell_type": "code",
   "execution_count": null,
   "metadata": {},
   "outputs": [],
   "source": [
    "len(sample_sc_seg_operator.shape_layer.data)"
   ]
  }
 ],
 "metadata": {
  "kernelspec": {
   "display_name": "livecell-work",
   "language": "python",
   "name": "python3"
  },
  "language_info": {
   "codemirror_mode": {
    "name": "ipython",
    "version": 3
   },
   "file_extension": ".py",
   "mimetype": "text/x-python",
   "name": "python",
   "nbconvert_exporter": "python",
   "pygments_lexer": "ipython3",
   "version": "3.9.16"
  },
  "orig_nbformat": 4
 },
 "nbformat": 4,
 "nbformat_minor": 2
}
