{
 "cells": [
  {
   "cell_type": "code",
   "execution_count": null,
   "metadata": {},
   "outputs": [],
   "source": [
    "import livecell_tracker.sample_data\n",
    "from pathlib import Path\n",
    "import numpy as np\n",
    "import matplotlib.pyplot as plt\n",
    "from napari.layers import Shapes\n"
   ]
  },
  {
   "cell_type": "code",
   "execution_count": null,
   "metadata": {},
   "outputs": [],
   "source": [
    "dic_dataset_path = Path(\"../datasets/test_data_STAV-A549/DIC_data\")\n",
    "mask_dataset_path = Path(\"../datasets/test_data_STAV-A549/mask_data\")\n",
    "dic_dataset, mask_dataset = livecell_tracker.sample_data.tutorial_three_image_sys(dic_dataset_path, mask_dataset_path)\n"
   ]
  },
  {
   "cell_type": "code",
   "execution_count": null,
   "metadata": {},
   "outputs": [],
   "source": [
    "from livecell_tracker.core.io_sc import prep_scs_from_mask_dataset\n",
    "single_cells = prep_scs_from_mask_dataset(mask_dataset, dic_dataset)"
   ]
  },
  {
   "cell_type": "code",
   "execution_count": null,
   "metadata": {},
   "outputs": [],
   "source": [
    "from livecell_tracker.core import SingleCellTrajectory, SingleCellStatic\n",
    "from livecell_tracker.segment.ou_utils import create_ou_input_from_sc\n",
    "from livecell_tracker.segment.utils import find_contours_opencv\n",
    "from livecell_tracker.core.datasets import SingleImageDataset\n",
    "\n",
    "class ScSegOperator:\n",
    "    def __init__(\n",
    "        self,\n",
    "        sc: SingleCellStatic,\n",
    "        viewer,\n",
    "        shape_layer: Shapes=None,\n",
    "        face_color=(0, 0, 1, 1),\n",
    "    ):\n",
    "        self.sc = sc\n",
    "        self.viewer = viewer\n",
    "        self.shape_layer = shape_layer\n",
    "        self.face_color = face_color\n",
    "        if not (self.shape_layer is None):\n",
    "            self.setup_edit_contour_shape_layer()\n",
    "\n",
    "    def create_sc_layer(self, name=None, contour_sample_num=100):\n",
    "        if name is None:\n",
    "            name = f\"sc_{self.sc.id}\"\n",
    "        shape_vec = self.sc.get_napari_shape_contour_vec(contour_sample_num=contour_sample_num)\n",
    "        properties = {\"sc\": [self.sc]}\n",
    "        print(\"shape vec\", shape_vec)\n",
    "        shape_layer = self.viewer.add_shapes(\n",
    "            [shape_vec],\n",
    "            properties=properties,\n",
    "            face_color=[self.face_color],\n",
    "            shape_type=\"polygon\",\n",
    "            name=name,\n",
    "        )\n",
    "        self.shape_layer = shape_layer\n",
    "        self.setup_edit_contour_shape_layer()\n",
    "\n",
    "    def update_shape_layer_by_sc(self):\n",
    "        shape_vec = self.sc.get_napari_shape_contour_vec(contour_sample_num=100)\n",
    "        self.shape_layer.data = [shape_vec]\n",
    "\n",
    "    def correct_segment(self, model, create_ou_input_kwargs = {\n",
    "            \"padding_pixels\": 50,\n",
    "            \"dtype\": float,\n",
    "            \"remove_bg\": False,\n",
    "            \"one_object\": True,\n",
    "            \"scale\": 0,\n",
    "        }):\n",
    "        import torch\n",
    "        from torchvision import transforms\n",
    "        #  padding_pixels=padding_pixels, dtype=dtype, remove_bg=remove_bg, one_object=one_object, scale=scale\n",
    "\n",
    "        input_transforms = transforms.Compose(\n",
    "                [\n",
    "                    transforms.Resize(size=(412, 412)),\n",
    "                ]\n",
    "        )\n",
    "        ou_input = create_ou_input_from_sc(self.sc, **create_ou_input_kwargs)\n",
    "        original_shape = ou_input.shape\n",
    "\n",
    "        ou_input = input_transforms(torch.tensor([ou_input]))\n",
    "        ou_input = torch.stack([ou_input, ou_input, ou_input], dim=1)\n",
    "        ou_input = ou_input.float().cuda()\n",
    "\n",
    "        back_transforms = transforms.Compose(\n",
    "            [\n",
    "                transforms.Resize(size=(original_shape[0], original_shape[1])),\n",
    "            ]\n",
    "        )\n",
    "        output = model(ou_input)\n",
    "        output = back_transforms(output)\n",
    "        return output\n",
    "\n",
    "    def replace_sc_mask(self, mask, padding_pixels=0, refresh=True):\n",
    "        self.sc.mask_dataset = SingleImageDataset(mask)\n",
    "        contours = find_contours_opencv(mask)\n",
    "        assert len(contours) == 1\n",
    "        self.sc.contour = contours[0] + self.sc.bbox[:2] - padding_pixels\n",
    "        self.sc.update_bbox()\n",
    "        if refresh:\n",
    "            self.update_shape_layer_by_sc()\n",
    "\n",
    "    def replace_sc_contour(self, contour, padding_pixels=0, refresh=True):\n",
    "        self.sc.contour = contour + self.sc.bbox[:2] - padding_pixels\n",
    "        self.sc.update_bbox()\n",
    "        if refresh:\n",
    "            self.update_shape_layer_by_sc()\n",
    "            \n",
    "    def setup_edit_contour_shape_layer(self):\n",
    "        return\n",
    "        # TODO \n",
    "        from copy import deepcopy\n",
    "        # Callback to check if shape_layer has more than one shape and remove the last one\n",
    "        self.saved_data = deepcopy(self.shape_layer.data)\n",
    "        def _shape_data_changed(event):\n",
    "            print(\"_shape_data_changed fired\")\n",
    "            print(\"len of shape_layer.data:\", len(self.shape_layer.data))\n",
    "            if len(self.shape_layer.data) > 1:\n",
    "                # self.shape_layer.events.data.disconnect(self._shape_data_changed)  # disconnect the callback\n",
    "                print(\"[_shape_data_changed] len of saved_data:\", len(self.saved_data))\n",
    "                self.shape_layer.data = deepcopy(self.saved_data)\n",
    "                # self.shape_layer.events.data.connect(self._shape_data_changed)\n",
    "            elif len(self.shape_layer.data) == 1:\n",
    "                self.saved_data = deepcopy(self.shape_layer.data)\n",
    "        # If the shape_layer already exists, connect the callback\n",
    "        if self.shape_layer is not None:\n",
    "            self.shape_layer.events.data.connect(_shape_data_changed)\n",
    "\n",
    "\n"
   ]
  },
  {
   "cell_type": "code",
   "execution_count": null,
   "metadata": {},
   "outputs": [],
   "source": [
    "import napari\n",
    "viewer = napari.view_image(dic_dataset.to_dask(), name=\"dic_image\", cache=True)"
   ]
  },
  {
   "cell_type": "code",
   "execution_count": null,
   "metadata": {},
   "outputs": [],
   "source": [
    "sample_sc = single_cells[1]\n",
    "sample_sc_seg_operator = ScSegOperator(sample_sc, viewer=viewer)\n",
    "sample_sc_seg_operator.create_sc_layer(contour_sample_num=20)"
   ]
  },
  {
   "cell_type": "code",
   "execution_count": null,
   "metadata": {},
   "outputs": [],
   "source": [
    "from livecell_tracker.model_zoo.segmentation.sc_correction import CorrectSegNet\n",
    "ckpt = r\"./notebook_results/csn_models/model_v11_epoch=3282-test_loss=2.3688.ckpt\"\n",
    "\n",
    "model = CorrectSegNet.load_from_checkpoint(ckpt)\n",
    "model = model.cuda()\n",
    "model = model.eval()"
   ]
  },
  {
   "cell_type": "code",
   "execution_count": null,
   "metadata": {},
   "outputs": [],
   "source": [
    "padding_pixels = 40\n",
    "create_ou_input_kwargs = {\n",
    "            \"padding_pixels\": padding_pixels,\n",
    "            \"dtype\": float,\n",
    "            \"remove_bg\": False,\n",
    "            \"one_object\": True,\n",
    "            \"scale\": 0,\n",
    "        }\n",
    "\n",
    "output = sample_sc_seg_operator.correct_segment(model, create_ou_input_kwargs=create_ou_input_kwargs)\n",
    "plt.imshow(output[0].cpu().detach().numpy()[0])"
   ]
  },
  {
   "cell_type": "code",
   "execution_count": null,
   "metadata": {},
   "outputs": [],
   "source": [
    "mask = output[0].cpu().detach().numpy()[0] > 0.5\n",
    "sample_sc_seg_operator.replace_sc_mask(mask, padding_pixels=padding_pixels)"
   ]
  },
  {
   "cell_type": "code",
   "execution_count": null,
   "metadata": {},
   "outputs": [],
   "source": [
    "from livecell_tracker.segment.utils import find_contours_opencv\n",
    "from livecell_tracker.core.datasets import SingleImageDataset\n",
    "\n",
    "padding_pixels = 50\n",
    "new_sc = sample_sc_seg_operator.sc.copy()\n",
    "new_mask = output[0].cpu().detach().numpy()[0] > 0.5\n",
    "new_sc.mask_dataset = SingleImageDataset(new_mask)\n",
    "new_sc.contour = np.array(find_contours_opencv(new_mask)[0]) + new_sc.bbox[:2] - padding_pixels\n",
    "new_sc_seg_operator = ScSegOperator(new_sc, viewer=viewer)\n",
    "new_sc_seg_operator.create_sc_layer(contour_sample_num=20)"
   ]
  }
 ],
 "metadata": {
  "kernelspec": {
   "display_name": "livecell-work",
   "language": "python",
   "name": "python3"
  },
  "language_info": {
   "codemirror_mode": {
    "name": "ipython",
    "version": 3
   },
   "file_extension": ".py",
   "mimetype": "text/x-python",
   "name": "python",
   "nbconvert_exporter": "python",
   "pygments_lexer": "ipython3",
   "version": "3.9.16"
  },
  "orig_nbformat": 4
 },
 "nbformat": 4,
 "nbformat_minor": 2
}
