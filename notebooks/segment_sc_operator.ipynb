{
 "cells": [
  {
   "cell_type": "code",
   "execution_count": null,
   "metadata": {},
   "outputs": [],
   "source": [
    "import livecell_tracker.sample_data\n",
    "from pathlib import Path\n",
    "import numpy as np\n",
    "import matplotlib.pyplot as plt\n",
    "from napari.layers import Shapes\n"
   ]
  },
  {
   "cell_type": "code",
   "execution_count": null,
   "metadata": {},
   "outputs": [],
   "source": [
    "dic_dataset_path = Path(\"../datasets/test_data_STAV-A549/DIC_data\")\n",
    "mask_dataset_path = Path(\"../datasets/test_data_STAV-A549/mask_data\")\n",
    "dic_dataset, mask_dataset = livecell_tracker.sample_data.tutorial_three_image_sys(dic_dataset_path, mask_dataset_path, dir=\"../datasets\")"
   ]
  },
  {
   "cell_type": "code",
   "execution_count": null,
   "metadata": {},
   "outputs": [],
   "source": [
    "from livecell_tracker.core.io_sc import prep_scs_from_mask_dataset\n",
    "single_cells = prep_scs_from_mask_dataset(mask_dataset, dic_dataset)"
   ]
  },
  {
   "cell_type": "code",
   "execution_count": null,
   "metadata": {},
   "outputs": [],
   "source": [
    "from livecell_tracker.core import SingleCellTrajectory, SingleCellStatic\n",
    "from livecell_tracker.segment.ou_utils import create_ou_input_from_sc\n",
    "from livecell_tracker.segment.utils import find_contours_opencv\n",
    "from livecell_tracker.core.datasets import SingleImageDataset\n",
    "\n",
    "class ScSegOperator:\n",
    "    \"\"\"\n",
    "    A class for performing segmentation on single cell images.\n",
    "\n",
    "    Attributes\n",
    "    ----------\n",
    "    viewer : napari.Viewer\n",
    "        The napari viewer.\n",
    "    single_cell_static : SingleCellStatic\n",
    "        The single cell static object.\n",
    "    shape_layer : napari.layers.Shapes\n",
    "        The napari shape layer for displaying the segmentation.\n",
    "    \"\"\"\n",
    "\n",
    "    MANUAL_CORRECT_SEG_MODE = 0\n",
    "    CSN_CORRECT_SEG_MODE = 1\n",
    "    \n",
    "    def __init__(\n",
    "        self,\n",
    "        sc: SingleCellStatic,\n",
    "        viewer,\n",
    "        shape_layer: Shapes=None,\n",
    "        face_color=(0, 0, 1, 1),\n",
    "        magicgui_container = None,\n",
    "        csn_model = None,\n",
    "    ):\n",
    "        \"\"\"\n",
    "        Parameters\n",
    "        ----------\n",
    "        viewer : napari.Viewer\n",
    "            The napari viewer.\n",
    "        single_cell_static : SingleCellStatic\n",
    "            The single cell static object.\n",
    "        \"\"\"\n",
    "        \n",
    "        self.sc = sc\n",
    "        self.viewer = viewer\n",
    "        self.shape_layer = shape_layer\n",
    "        self.face_color = face_color\n",
    "        self.mode = self.MANUAL_CORRECT_SEG_MODE\n",
    "        self.magicgui_container = magicgui_container\n",
    "        self.csn_model = csn_model\n",
    "        \n",
    "        if not (self.shape_layer is None):\n",
    "            self.setup_edit_contour_shape_layer()\n",
    "\n",
    "    def create_sc_layer(self, name=None, contour_sample_num=100):\n",
    "        if name is None:\n",
    "            name = f\"sc_{self.sc.id}\"\n",
    "        shape_vec = self.sc.get_napari_shape_contour_vec(contour_sample_num=contour_sample_num)\n",
    "        properties = {\"sc\": [self.sc]}\n",
    "        print(\"shape vec\", shape_vec)\n",
    "        shape_layer = self.viewer.add_shapes(\n",
    "            [shape_vec],\n",
    "            properties=properties,\n",
    "            face_color=[self.face_color],\n",
    "            shape_type=\"polygon\",\n",
    "            name=name,\n",
    "        )\n",
    "        self.shape_layer = shape_layer\n",
    "        self.setup_edit_contour_shape_layer()\n",
    "        print(\">>> create sc layer done\")\n",
    "\n",
    "    def remove_sc_layer(self):\n",
    "        if self.shape_layer is None:\n",
    "            return\n",
    "        self.viewer.layers.remove(self.shape_layer)\n",
    "        self.shape_layer = None\n",
    "\n",
    "    def update_shape_layer_by_sc(self, contour_sample_num=100):\n",
    "        shape_vec = self.sc.get_napari_shape_contour_vec(contour_sample_num=contour_sample_num)\n",
    "        self.shape_layer.data = [shape_vec]\n",
    "\n",
    "    def correct_segment(self, model, create_ou_input_kwargs = {\n",
    "            \"padding_pixels\": 50,\n",
    "            \"dtype\": float,\n",
    "            \"remove_bg\": False,\n",
    "            \"one_object\": True,\n",
    "            \"scale\": 0,\n",
    "        }):\n",
    "        import torch\n",
    "        from torchvision import transforms\n",
    "        #  padding_pixels=padding_pixels, dtype=dtype, remove_bg=remove_bg, one_object=one_object, scale=scale\n",
    "\n",
    "        input_transforms = transforms.Compose(\n",
    "                [\n",
    "                    transforms.Resize(size=(412, 412)),\n",
    "                ]\n",
    "        )\n",
    "        temp_sc = self.sc.copy()\n",
    "        new_contour = np.array(self.shape_layer.data[0])\n",
    "        new_contour = new_contour[:, -2:] # remove slice index (time)\n",
    "        temp_sc.update_contour(new_contour)\n",
    "        temp_sc.update_bbox()\n",
    "        res_bbox = temp_sc.bbox\n",
    "        ou_input = create_ou_input_from_sc(temp_sc, **create_ou_input_kwargs)\n",
    "        # ou_input = create_ou_input_from_sc(self.sc, **create_ou_input_kwargs)\n",
    "        original_shape = ou_input.shape\n",
    "\n",
    "        ou_input = input_transforms(torch.tensor([ou_input]))\n",
    "        ou_input = torch.stack([ou_input, ou_input, ou_input], dim=1)\n",
    "        ou_input = ou_input.float().cuda()\n",
    "\n",
    "        back_transforms = transforms.Compose(\n",
    "            [\n",
    "                transforms.Resize(size=(original_shape[0], original_shape[1])),\n",
    "            ]\n",
    "        )\n",
    "        output = model(ou_input)\n",
    "        output = back_transforms(output)\n",
    "        return output, res_bbox\n",
    "\n",
    "    def replace_sc_contour(self, contour, padding_pixels=0, refresh=True):\n",
    "        self.sc.contour = contour + self.sc.bbox[:2] - padding_pixels\n",
    "        self.sc.update_bbox()\n",
    "        if refresh:\n",
    "            self.update_shape_layer_by_sc()\n",
    "\n",
    "    def setup_edit_contour_shape_layer(self):\n",
    "        return\n",
    "        # TODO \n",
    "        from copy import deepcopy\n",
    "        # Callback to check if shape_layer has more than one shape and remove the last one\n",
    "        self.saved_data = deepcopy(self.shape_layer.data)\n",
    "        def _shape_data_changed(event):\n",
    "            print(\"_shape_data_changed fired\")\n",
    "            print(\"len of shape_layer.data:\", len(self.shape_layer.data))\n",
    "            if len(self.shape_layer.data) > 1:\n",
    "                # self.shape_layer.events.data.disconnect(self._shape_data_changed)  # disconnect the callback\n",
    "                print(\"[_shape_data_changed] len of saved_data:\", len(self.saved_data))\n",
    "                self.shape_layer.data = deepcopy(self.saved_data)\n",
    "                # self.shape_layer.events.data.connect(self._shape_data_changed)\n",
    "            elif len(self.shape_layer.data) == 1:\n",
    "                self.saved_data = deepcopy(self.shape_layer.data)\n",
    "        # If the shape_layer already exists, connect the callback\n",
    "        if self.shape_layer is not None:\n",
    "            self.shape_layer.events.data.connect(_shape_data_changed)\n",
    "\n",
    "    def show_selected_mode_widget(self):\n",
    "        self.magicgui_container[0].show()\n",
    "        self.magicgui_container[1].show()\n",
    "        if self.mode == self.MANUAL_CORRECT_SEG_MODE:\n",
    "            self.magicgui_container[2].show()\n",
    "            self.magicgui_container[3].show()\n",
    "            self.magicgui_container[4].show()\n",
    "            self.magicgui_container[5].show()\n",
    "            \n",
    "    def hide_function_widgets(self):\n",
    "        for i in range(2, len(self.magicgui_container)):\n",
    "            self.magicgui_container[i].hide()\n",
    "\n",
    "    def save_seg_callback(self):\n",
    "        \"\"\"Save the segmentation to the single cell object.\"\"\"\n",
    "        def _get_contour_from_shape_layer(layer: Shapes):\n",
    "            \"\"\"Get contour coordinates from a shape layer in napari.\"\"\"\n",
    "            vertices = np.array(layer.data[0])\n",
    "            print(\"vertices:\", vertices)\n",
    "\n",
    "            # ignore the first vertex, which is the slice index\n",
    "            vertices = vertices[:, 1:3]\n",
    "            return vertices\n",
    "        # Get the contour coordinates from the shape layer\n",
    "        contour = _get_contour_from_shape_layer(self.shape_layer)\n",
    "        # Store the contour in the single cell object\n",
    "        self.sc.contour = contour\n",
    "        self.sc.update_bbox()\n",
    "\n",
    "    def csn_correct_seg_callback(self, padding_pixels = 50):\n",
    "        print(\"csn_correct_seg_callback fired\")\n",
    "        create_ou_input_kwargs = {\n",
    "            \"padding_pixels\": padding_pixels,\n",
    "            \"dtype\": float,\n",
    "            \"remove_bg\": False,\n",
    "            \"one_object\": True,\n",
    "            \"scale\": 0,\n",
    "        }\n",
    "        output, res_bbox = self.correct_segment(self.csn_model, create_ou_input_kwargs=create_ou_input_kwargs)\n",
    "        bin_mask = output[0].cpu().detach().numpy()[0] > 0.5\n",
    "        contours = find_contours_opencv(bin_mask.astype(bool))\n",
    "        # contour = [0]\n",
    "        new_shape_data = []\n",
    "        for contour in contours:\n",
    "            contour_in_original_image = contour + res_bbox[:2] - padding_pixels\n",
    "            # replace the current shape_layer's data with the new contour\n",
    "            napari_vertices = [[self.sc.timeframe] + list(point) for point in contour_in_original_image]\n",
    "            napari_vertices = np.array(napari_vertices)\n",
    "            new_shape_data.append((napari_vertices, \"polygon\"))\n",
    "\n",
    "        self.shape_layer.data = []\n",
    "        self.shape_layer.add(new_shape_data, shape_type=['polygon'])\n",
    "        print(\"csn_correct_seg_callback done!\")\n",
    "    \n",
    "    def clear_sc_layer_callback(self):\n",
    "        self.shape_layer.data = []\n",
    "        print(\"clear_sc_layer_callback done!\")\n",
    "    \n",
    "    def restore_sc_contour_callback(self):\n",
    "        self.update_shape_layer_by_sc()\n",
    "        print(\"restore_sc_contour_callback done!\")"
   ]
  },
  {
   "cell_type": "code",
   "execution_count": null,
   "metadata": {},
   "outputs": [],
   "source": [
    "from livecell_tracker.model_zoo.segmentation.sc_correction import CorrectSegNet\n",
    "ckpt = r\"./notebook_results/csn_models/model_v11_epoch=3282-test_loss=2.3688.ckpt\"\n",
    "\n",
    "model = CorrectSegNet.load_from_checkpoint(ckpt)\n",
    "model = model.cuda()\n",
    "model = model.eval()"
   ]
  },
  {
   "cell_type": "code",
   "execution_count": null,
   "metadata": {},
   "outputs": [],
   "source": [
    "import napari\n",
    "viewer = napari.view_image(dic_dataset.to_dask(), name=\"dic_image\", cache=True)"
   ]
  },
  {
   "cell_type": "code",
   "execution_count": null,
   "metadata": {},
   "outputs": [],
   "source": [
    "sample_sc = single_cells[7]\n",
    "sample_sc_seg_operator = ScSegOperator(sample_sc, viewer=viewer, csn_model=model)\n",
    "sample_sc_seg_operator.create_sc_layer(contour_sample_num=30)\n"
   ]
  },
  {
   "cell_type": "code",
   "execution_count": null,
   "metadata": {},
   "outputs": [],
   "source": [
    "sample_sc_seg_operator.save_seg_callback()"
   ]
  },
  {
   "cell_type": "code",
   "execution_count": null,
   "metadata": {},
   "outputs": [],
   "source": [
    "sample_sc_seg_operator.csn_correct_seg_callback()"
   ]
  },
  {
   "cell_type": "code",
   "execution_count": null,
   "metadata": {},
   "outputs": [],
   "source": [
    "padding_pixels = 40\n",
    "create_ou_input_kwargs = {\n",
    "            \"padding_pixels\": padding_pixels,\n",
    "            \"dtype\": float,\n",
    "            \"remove_bg\": False,\n",
    "            \"one_object\": True,\n",
    "            \"scale\": 0,\n",
    "        }\n",
    "\n",
    "output = sample_sc_seg_operator.correct_segment(model, create_ou_input_kwargs=create_ou_input_kwargs)\n",
    "# plt.imshow(output[0].cpu().detach().numpy()[0])"
   ]
  },
  {
   "cell_type": "code",
   "execution_count": null,
   "metadata": {},
   "outputs": [],
   "source": [
    "sample_sc_seg_operator.restore_sc_contour_callback()"
   ]
  },
  {
   "cell_type": "code",
   "execution_count": null,
   "metadata": {},
   "outputs": [],
   "source": [
    "sample_sc_seg_operator.clear_sc_layer_callback()"
   ]
  },
  {
   "cell_type": "code",
   "execution_count": null,
   "metadata": {},
   "outputs": [],
   "source": [
    "sample_sc_seg_operator.csn_correct_seg_callback()"
   ]
  },
  {
   "attachments": {},
   "cell_type": "markdown",
   "metadata": {},
   "source": [
    "Remove sc operator shape layer"
   ]
  },
  {
   "cell_type": "code",
   "execution_count": null,
   "metadata": {},
   "outputs": [],
   "source": [
    "sample_sc_seg_operator.remove_sc_layer()"
   ]
  },
  {
   "attachments": {},
   "cell_type": "markdown",
   "metadata": {},
   "source": [
    "Programmically replace sc mask with a new mask"
   ]
  },
  {
   "cell_type": "code",
   "execution_count": null,
   "metadata": {},
   "outputs": [],
   "source": [
    "mask = output[0].cpu().detach().numpy()[0] > 0.5\n",
    "sample_sc_seg_operator.sc.update_sc_mask_by_crop(mask, padding_pixels=padding_pixels)"
   ]
  },
  {
   "cell_type": "code",
   "execution_count": null,
   "metadata": {},
   "outputs": [],
   "source": [
    "from livecell_tracker.segment.utils import find_contours_opencv\n",
    "from livecell_tracker.core.datasets import SingleImageDataset\n",
    "\n",
    "padding_pixels = 50\n",
    "new_mask = output[0].cpu().detach().numpy()[0] > 0.5\n",
    "\n",
    "new_sc = sample_sc_seg_operator.sc.copy()\n",
    "new_sc.mask_dataset = SingleImageDataset(new_mask)\n",
    "new_sc.contour = np.array(find_contours_opencv(new_mask)[0]) + new_sc.bbox[:2] - padding_pixels\n",
    "new_sc_seg_operator = ScSegOperator(new_sc, viewer=viewer)\n",
    "new_sc_seg_operator.create_sc_layer(contour_sample_num=20)"
   ]
  },
  {
   "cell_type": "code",
   "execution_count": null,
   "metadata": {},
   "outputs": [],
   "source": [
    "import copy\n",
    "from functools import partial\n",
    "from typing import Optional, Union\n",
    "from magicgui import magicgui\n",
    "from magicgui.widgets import Container, PushButton, Widget, create_widget\n",
    "from napari.layers import Shapes\n",
    "from livecell_tracker.core.single_cell import SingleCellTrajectoryCollection, SingleCellStatic\n",
    "from pathlib import Path\n",
    "\n",
    "\n",
    "def create_sc_seg_napari_ui(sc_operator: ScSegOperator):\n",
    "    \"\"\"Usage\n",
    "    # viewer = napari.view_image(dic_dataset.to_dask(), name=\"dic_image\", cache=True)\n",
    "    # shape_layer = NapariVisualizer.viz_trajectories(traj_collection, viewer, contour_sample_num=20)\n",
    "    # sct_operator = SctOperator(traj_collection, shape_layer, viewer)\n",
    "    # sct_operator.setup_shape_layer(shape_layer)\n",
    "\n",
    "    Parameters\n",
    "    ----------\n",
    "    sct_operator : SctOperator\n",
    "        _description_\n",
    "    \"\"\"\n",
    "    \n",
    "    @magicgui(call_button=\"save seg to sc\")\n",
    "    def save_seg_to_sc():\n",
    "        print(\"[button] save callback fired!\")\n",
    "        sc_operator.save_seg_callback()\n",
    "\n",
    "    @magicgui(call_button=\"auto correct seg\")\n",
    "    def csn_correct_seg():\n",
    "        print(\"[button] csn callback fired!\")\n",
    "        sc_operator.csn_correct_seg_callback()\n",
    "\n",
    "    @magicgui(\n",
    "        auto_call=True,\n",
    "        mode={\n",
    "            \"choices\": [\"segmentation\"]\n",
    "        },\n",
    "    )\n",
    "    def switch_mode_widget(mode):\n",
    "        print(\"switch mode callback fired!\")\n",
    "        print(\"mode changed to\", mode)\n",
    "        if mode == \"segmentation\":\n",
    "            sc_operator.mode = sc_operator.MANUAL_CORRECT_SEG_MODE\n",
    "        sc_operator.show_selected_mode_widget()\n",
    "    \n",
    "    @magicgui(call_button=\"clear sc layer\")\n",
    "    def clear_sc_layer():\n",
    "        print(\"[button] clear sc layer callback fired!\")\n",
    "        sc_operator.clear_sc_layer_callback()\n",
    "\n",
    "    @magicgui(call_button=\"restore sc contour\")\n",
    "    def restore_sc_contour():\n",
    "        print(\"[button] restore sc contour callback fired!\")\n",
    "        sc_operator.restore_sc_contour_callback()\n",
    "    \n",
    "    @magicgui(call_button=None)\n",
    "    def show_sc_id(sc_id=\"No SC\"):\n",
    "        return\n",
    "\n",
    "    container = Container(\n",
    "        widgets=[\n",
    "            show_sc_id,\n",
    "            switch_mode_widget,\n",
    "            save_seg_to_sc,\n",
    "            csn_correct_seg,\n",
    "            clear_sc_layer,\n",
    "            restore_sc_contour,\n",
    "        ],\n",
    "        labels=False,\n",
    "    )\n",
    "    show_sc_id.sc_id.value = str(sc_operator.sc.id)[:12] + \"-...\"\n",
    "    # hide call button\n",
    "    show_sc_id.call_button.hide()\n",
    "    sc_operator.magicgui_container = container\n",
    "    sc_operator.hide_function_widgets()\n",
    "    sc_operator.show_selected_mode_widget()\n",
    "    sc_operator.viewer.window.add_dock_widget(container, name=\"Sc Operator\")\n"
   ]
  },
  {
   "cell_type": "code",
   "execution_count": null,
   "metadata": {},
   "outputs": [],
   "source": [
    "create_sc_seg_napari_ui(sample_sc_seg_operator)"
   ]
  },
  {
   "cell_type": "code",
   "execution_count": null,
   "metadata": {},
   "outputs": [],
   "source": [
    "sample_sc_seg_operator.csn_model = model\n",
    "sample_sc_seg_operator.csn_correct_seg_callback()"
   ]
  },
  {
   "cell_type": "code",
   "execution_count": null,
   "metadata": {},
   "outputs": [],
   "source": [
    "sample_sc_seg_operator.save_seg_callback()"
   ]
  },
  {
   "cell_type": "code",
   "execution_count": null,
   "metadata": {},
   "outputs": [],
   "source": [
    "sample_sc_seg_operator.sc.get_label_mask_crop().shape"
   ]
  },
  {
   "cell_type": "code",
   "execution_count": null,
   "metadata": {},
   "outputs": [],
   "source": [
    "sample_sc_seg_operator.sc.show_panel()"
   ]
  },
  {
   "cell_type": "code",
   "execution_count": null,
   "metadata": {},
   "outputs": [],
   "source": [
    "len(sample_sc_seg_operator.shape_layer.data)"
   ]
  }
 ],
 "metadata": {
  "kernelspec": {
   "display_name": "livecell-work",
   "language": "python",
   "name": "python3"
  },
  "language_info": {
   "codemirror_mode": {
    "name": "ipython",
    "version": 3
   },
   "file_extension": ".py",
   "mimetype": "text/x-python",
   "name": "python",
   "nbconvert_exporter": "python",
   "pygments_lexer": "ipython3",
   "version": "3.9.10"
  },
  "orig_nbformat": 4
 },
 "nbformat": 4,
 "nbformat_minor": 2
}
