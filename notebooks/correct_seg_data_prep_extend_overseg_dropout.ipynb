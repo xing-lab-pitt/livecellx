{
 "cells": [
  {
   "cell_type": "code",
   "execution_count": 1,
   "metadata": {},
   "outputs": [],
   "source": [
    "import pandas as pd\n",
    "import os\n",
    "from pathlib import Path\n",
    "from livecell_tracker.core.datasets import read_img_default\n",
    "from livecell_tracker.segment.ou_utils import csn_augment_helper\n",
    "import numpy as np\n",
    "import skimage.measure\n",
    "\n",
    "\n",
    "\n",
    "\n",
    "# delete the directory if it already exists\n",
    "import shutil\n",
    "\n",
    "# all_out_dir = Path(\"notebook_results/a549_ccp_vim/train_data_v11\")\n",
    "# src_dirs = [\n",
    "#     \"/home/ken67/LiveCellTracker-dev/notebooks/notebook_results/a549_ccp_vim/train_real_td_data/real_overseg_td1_XY5\",\n",
    "#     \"/home/ken67/LiveCellTracker-dev/notebooks/notebook_results/a549_ccp_vim/train_real_td_data/real_overseg_td1_XY6\",\n",
    "#     \"/home/ken67/LiveCellTracker-dev/notebooks/notebook_results/a549_ccp_vim/train_real_td_data/real_overseg_td1_XY7\",\n",
    "#     \"/home/ken67/LiveCellTracker-dev/notebooks/notebook_results/a549_ccp_vim/train_real_td_data/real_overseg_td1_XY8\",\n",
    "#     \"/home/ken67/LiveCellTracker-dev/notebooks/notebook_results/a549_ccp_vim/train_real_td_data/real_overseg_td1_XY9\",\n",
    "# ]\n",
    "\n",
    "src_dirs = [\n",
    "    \"/home/ken67/LiveCellTracker-dev/notebooks/notebook_results/a549_ccp_vim/train_real_td_data/real_overseg_td1_XY5\",\n",
    "    \"/home/ken67/LiveCellTracker-dev/notebooks/notebook_results/a549_ccp_vim/train_real_td_data/real_overseg_td1_XY6\",\n",
    "]\n",
    "all_out_dir = Path(\"notebook_results/a549_ccp_vim/test_data_v11\")\n",
    "df_path = \"/home/ken67/LiveCellTracker-dev/notebooks/notebook_results/a549_ccp_vim/train_data_v10/real_overseg_td1_XY9/data.csv\"\n",
    "\n",
    "inputs = []\n",
    "for src_dir in src_dirs:\n",
    "    df_path = Path(src_dir) / \"data.csv\"\n",
    "    subdir = Path(df_path).parent.name + \"_dropout\"\n",
    "    out_dir = all_out_dir / subdir\n",
    "    inputs.append((df_path, out_dir))\n"
   ]
  },
  {
   "cell_type": "code",
   "execution_count": 2,
   "metadata": {},
   "outputs": [],
   "source": [
    "from livecell_tracker.segment.ou_data_prep_utils import extend_overseg_subdir_df\n"
   ]
  },
  {
   "cell_type": "code",
   "execution_count": 3,
   "metadata": {},
   "outputs": [
    {
     "data": {
      "text/plain": [
       "([(PosixPath('/home/ken67/LiveCellTracker-dev/notebooks/notebook_results/a549_ccp_vim/train_real_td_data/real_overseg_td1_XY5/data.csv'),\n",
       "   PosixPath('notebook_results/a549_ccp_vim/test_data_v11/real_overseg_td1_XY5_dropout')),\n",
       "  (PosixPath('/home/ken67/LiveCellTracker-dev/notebooks/notebook_results/a549_ccp_vim/train_real_td_data/real_overseg_td1_XY6/data.csv'),\n",
       "   PosixPath('notebook_results/a549_ccp_vim/test_data_v11/real_overseg_td1_XY6_dropout'))],\n",
       " 'real_overseg_td1_XY6_dropout')"
      ]
     },
     "execution_count": 3,
     "metadata": {},
     "output_type": "execute_result"
    }
   ],
   "source": [
    "inputs, subdir"
   ]
  },
  {
   "cell_type": "code",
   "execution_count": 4,
   "metadata": {},
   "outputs": [
    {
     "name": "stdout",
     "output_type": "stream",
     "text": [
      "Deleting existing directory:  notebook_results/a549_ccp_vim/test_data_v11/real_overseg_td1_XY5_dropout\n",
      "output to:  notebook_results/a549_ccp_vim/test_data_v11/real_overseg_td1_XY5_dropout\n",
      "Deleting existing directory:  notebook_results/a549_ccp_vim/test_data_v11/real_overseg_td1_XY6_dropout\n",
      "output to:  notebook_results/a549_ccp_vim/test_data_v11/real_overseg_td1_XY6_dropout\n"
     ]
    }
   ],
   "source": [
    "for input_tuple in inputs:\n",
    "    extend_overseg_subdir_df(input_tuple[0], input_tuple[1])"
   ]
  },
  {
   "cell_type": "code",
   "execution_count": 5,
   "metadata": {},
   "outputs": [],
   "source": [
    "# !cp -r /home/ken67/LiveCellTracker-dev/notebooks/notebook_results/a549_ccp_vim/train_data_v10/* /home/ken67/LiveCellTracker-dev/notebooks/notebook_results/a549_ccp_vim/train_data_v11/"
   ]
  }
 ],
 "metadata": {
  "kernelspec": {
   "display_name": "livecell",
   "language": "python",
   "name": "python3"
  },
  "language_info": {
   "codemirror_mode": {
    "name": "ipython",
    "version": 3
   },
   "file_extension": ".py",
   "mimetype": "text/x-python",
   "name": "python",
   "nbconvert_exporter": "python",
   "pygments_lexer": "ipython3",
   "version": "3.10.8"
  },
  "orig_nbformat": 4
 },
 "nbformat": 4,
 "nbformat_minor": 2
}
