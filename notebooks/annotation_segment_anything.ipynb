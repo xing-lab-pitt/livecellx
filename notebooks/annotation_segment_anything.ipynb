{
 "cells": [
  {
   "cell_type": "code",
   "execution_count": null,
   "metadata": {},
   "outputs": [],
   "source": [
    "import livecell_tracker.sample_data\n",
    "from pathlib import Path\n",
    "import numpy as np\n",
    "import matplotlib.pyplot as plt\n"
   ]
  },
  {
   "cell_type": "code",
   "execution_count": null,
   "metadata": {},
   "outputs": [],
   "source": [
    "dic_dataset_path = Path(\"../datasets/test_data_STAV-A549/DIC_data\")\n",
    "mask_dataset_path = Path(\"../datasets/test_data_STAV-A549/mask_data\")\n",
    "dic_dataset, mask_dataset = livecell_tracker.sample_data.tutorial_three_image_sys(dic_dataset_path, mask_dataset_path)\n"
   ]
  },
  {
   "cell_type": "code",
   "execution_count": null,
   "metadata": {},
   "outputs": [],
   "source": [
    "from segment_anything import SamPredictor, sam_model_registry\n",
    "\n",
    "device = \"cuda\"\n",
    "sam = sam_model_registry[\"vit_h\"](checkpoint=\"./segment-anything/sam_vit_h_4b8939.pth\")\n",
    "sam.to(device=device)\n"
   ]
  },
  {
   "cell_type": "code",
   "execution_count": null,
   "metadata": {},
   "outputs": [],
   "source": [
    "from livecell_tracker.preprocess.utils import (\n",
    "    normalize_img_to_uint8,\n",
    "    correct_background_polyfit,\n",
    "    standard_preprocess,\n",
    "    enhance_contrast,\n",
    ")\n",
    "\n",
    "img = dic_dataset.get_img_by_time(0)\n",
    "img = standard_preprocess(img, correct_background_polyfit)\n",
    "# make img into 3 channels, [img, img, img]\n",
    "img = np.stack([img, img, img], axis=2)\n",
    "\n",
    "# predictor = SamPredictor(sam)\n",
    "# # masks, _, _ = predictor.predict()\n",
    "# predictor.set_image(img)\n",
    "# masks, _, _ = predictor.predict()\n"
   ]
  },
  {
   "cell_type": "code",
   "execution_count": null,
   "metadata": {},
   "outputs": [],
   "source": [
    "from segment_anything import SamAutomaticMaskGenerator"
   ]
  },
  {
   "attachments": {},
   "cell_type": "markdown",
   "metadata": {},
   "source": [
    "a whole DIC image prediction"
   ]
  },
  {
   "cell_type": "code",
   "execution_count": null,
   "metadata": {},
   "outputs": [],
   "source": [
    "img = dic_dataset.get_img_by_time(0)\n",
    "img = standard_preprocess(img, correct_background_polyfit)\n",
    "# make img into 3 channels, [img, img, img]\n",
    "img = np.stack([img, img, img], axis=2)\n",
    "mask_generator = SamAutomaticMaskGenerator(sam)\n",
    "masks = mask_generator.generate(img)\n",
    "\n",
    "\n",
    "all_seg_mask = np.zeros(img.shape[:2], dtype=np.uint8)\n",
    "for idx, object in enumerate(masks):\n",
    "    segmentation = object[\"segmentation\"]\n",
    "    all_seg_mask[segmentation] = idx + 1\n",
    "\n",
    "fig, axes = plt.subplots(1, 3, figsize=(10, 5))\n",
    "axes[0].imshow(enhance_contrast(img[..., 0]))\n",
    "axes[1].imshow(all_seg_mask)\n",
    "axes[2].imshow(mask_dataset.get_img_by_time(0))\n",
    "plt.show()\n"
   ]
  },
  {
   "cell_type": "code",
   "execution_count": null,
   "metadata": {},
   "outputs": [],
   "source": [
    "mitosis_dataset = livecell_tracker.core.datasets.LiveCellImageDataset(\n",
    "    dir_path=\"/home/ken67/LiveCellTracker-dev/datasets/wwk_train/A549_icnn_am_train/mitosis\",\n",
    "    ext=\"tif\",\n",
    "    index_by_time=False,\n",
    ")\n"
   ]
  },
  {
   "cell_type": "code",
   "execution_count": null,
   "metadata": {},
   "outputs": [],
   "source": [
    "img = mitosis_dataset[0]\n",
    "img = standard_preprocess(img, correct_background_polyfit)\n",
    "# make img into 3 channels, [img, img, img]\n",
    "img = np.stack([img, img, img], axis=2)\n",
    "masks = mask_generator.generate(img)\n",
    "\n",
    "all_seg_mask = np.zeros(img.shape[:2], dtype=np.uint8)\n",
    "for idx, object in enumerate(masks):\n",
    "    segmentation = object[\"segmentation\"]\n",
    "    all_seg_mask[segmentation] = idx + 1\n",
    "\n",
    "fig, axes = plt.subplots(1, 2, figsize=(10, 5))\n",
    "axes[0].imshow(enhance_contrast(img[..., 0]))\n",
    "axes[1].imshow(all_seg_mask)\n",
    "# axes[2].imshow(mask_dataset.get_img_by_time(0))\n",
    "plt.show()\n"
   ]
  },
  {
   "cell_type": "code",
   "execution_count": null,
   "metadata": {},
   "outputs": [],
   "source": [
    "predictor = SamPredictor(sam)\n",
    "# masks, _, _ = predictor.predict()\n",
    "predictor.set_image(img)\n",
    "masks, _, _ = predictor.predict()\n",
    "plt.imshow(masks.transpose([1, 2, 0]).astype(np.uint8) * 255)\n"
   ]
  },
  {
   "cell_type": "code",
   "execution_count": null,
   "metadata": {},
   "outputs": [],
   "source": [
    "import os\n",
    "\n",
    "out_dir = \"./tmp/outputs\"\n",
    "os.makedirs(out_dir, exist_ok=True)\n",
    "\n",
    "for index in range(len(mitosis_dataset)):\n",
    "    img = mitosis_dataset[index]\n",
    "    # img = normalize_img_to_uint8(img)\n",
    "    img = standard_preprocess(img, bg_correct_func=correct_background_polyfit)\n",
    "    img = np.stack([img, img, img], axis=2)\n",
    "    predictor.set_image(img)\n",
    "    masks, _, _ = predictor.predict()\n",
    "    # show rgb respectively\n",
    "    fig, axes = plt.subplots(1, 4, figsize=(10, 5))\n",
    "    axes[0].imshow(img)\n",
    "    axes[1].imshow(masks[0].astype(np.uint8) * 255)\n",
    "    axes[2].imshow(masks[1].astype(np.uint8) * 255)\n",
    "    axes[3].imshow(masks[2].astype(np.uint8) * 255)\n",
    "    axes[0].set_title(\"original image\")\n",
    "    axes[1].set_title(\"SAM R channel\")\n",
    "    axes[2].set_title(\"SAM G channel\")\n",
    "    axes[3].set_title(\"SAM B channel\")\n",
    "    plt.savefig(os.path.join(out_dir, f\"mitosis_{index}.png\"))\n"
   ]
  },
  {
   "cell_type": "code",
   "execution_count": null,
   "metadata": {},
   "outputs": [],
   "source": [
    "masks.shape\n"
   ]
  },
  {
   "cell_type": "code",
   "execution_count": null,
   "metadata": {},
   "outputs": [],
   "source": [
    "import numpy as np\n",
    "import matplotlib.pyplot as plt\n",
    "from cellpose import models\n",
    "from cellpose.io import imread\n",
    "from pathlib import Path\n",
    "from livecell_tracker.preprocess.utils import normalize_img_to_uint8\n",
    "from livecell_tracker.segment.cellpose_utils import segment_single_images_by_cellpose, segment_single_image_by_cellpose\n",
    "\n",
    "# pretrained_model_path = \"/home/ken67/LiveCellTracker-dev/notebooks/notebook_results/cellpose/cellpose_A549_cyto2_cellbody/models/cellpose_residual_on_style_on_concatenation_off_cellpose_A549_cyto2_cellbody_2023_04_17_21_49_50.313712\"\n",
    "# model_type='cyto' or 'nuclei' or 'cyto2'\n",
    "# model = models.Cellpose(gpu=True, model_type=\"cyto2\", pretrained_model=pretrained_model_path)\n",
    "\n",
    "pretrained_model_path = None\n",
    "model = models.CellposeModel(pretrained_model=pretrained_model_path, gpu=True)  # , model_type=\"cyto2\")\n"
   ]
  },
  {
   "cell_type": "code",
   "execution_count": null,
   "metadata": {},
   "outputs": [],
   "source": [
    "print(len(mitosis_dataset))\n"
   ]
  },
  {
   "cell_type": "code",
   "execution_count": null,
   "metadata": {},
   "outputs": [],
   "source": [
    "for index in range(len(mitosis_dataset)):\n",
    "    diameter = 50\n",
    "    img = mitosis_dataset[index]\n",
    "    # img = normalize_img_to_uint8(img)\n",
    "    img = standard_preprocess(img, bg_correct_func=correct_background_polyfit)\n",
    "    mask = segment_single_image_by_cellpose(img, model, channels=[[0, 0]], diameter=diameter)\n",
    "\n",
    "    fig, axes = plt.subplots(1, 2, figsize=(10, 5))\n",
    "    axes[0].imshow(img)\n",
    "    axes[1].imshow(mask)\n",
    "    axes[0].set_title(\"original image\")\n",
    "    axes[1].set_title(\"cellpose mask\")\n",
    "    plt.show()\n"
   ]
  }
 ],
 "metadata": {
  "kernelspec": {
   "display_name": "livecell",
   "language": "python",
   "name": "python3"
  },
  "language_info": {
   "codemirror_mode": {
    "name": "ipython",
    "version": 3
   },
   "file_extension": ".py",
   "mimetype": "text/x-python",
   "name": "python",
   "nbconvert_exporter": "python",
   "pygments_lexer": "ipython3",
   "version": "3.10.8"
  },
  "orig_nbformat": 4
 },
 "nbformat": 4,
 "nbformat_minor": 2
}
