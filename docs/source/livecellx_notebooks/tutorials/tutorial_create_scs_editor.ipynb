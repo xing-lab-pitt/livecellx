{
 "cells": [
  {
   "cell_type": "code",
   "execution_count": null,
   "metadata": {},
   "outputs": [],
   "source": [
    "import numpy as np\n",
    "import matplotlib.pyplot as plt\n",
    "from cellpose import models\n",
    "from cellpose.io import imread\n",
    "import glob\n",
    "from pathlib import Path\n",
    "from PIL import Image, ImageSequence\n",
    "from tqdm import tqdm\n",
    "import os\n",
    "import os.path\n",
    "# from livecell_tracker import segment\n",
    "from livecell_tracker import core\n",
    "from livecell_tracker.core import datasets\n",
    "from livecell_tracker.core.datasets import LiveCellImageDataset, SingleImageDataset\n",
    "from skimage import measure\n",
    "from livecell_tracker.core import SingleCellTrajectory, SingleCellStatic\n",
    "# import detectron2\n",
    "# from detectron2.utils.logger import setup_logger\n",
    "\n",
    "# setup_logger()\n",
    "\n",
    "# import some common libraries\n",
    "import numpy as np\n",
    "import os, json, cv2, random\n",
    "import cv2\n",
    "\n",
    "# import some common detectron2 utilities\n",
    "# from detectron2 import model_zoo\n",
    "# from detectron2.engine import DefaultPredictor\n",
    "# from detectron2.config import get_cfg\n",
    "# from detectron2.utils.visualizer import Visualizer\n",
    "# from detectron2.data import MetadataCatalog, DatasetCatalog\n",
    "# from livecell_tracker.segment.detectron_utils import gen_cfg\n",
    "\n",
    "# from livecell_tracker.segment.detectron_utils import (\n",
    "#     segment_detectron_wrapper,\n",
    "#     segment_images_by_detectron,\n",
    "#     convert_detectron_instance_pred_masks_to_binary_masks,\n",
    "#     convert_detectron_instances_to_label_masks,\n",
    "# )\n",
    "# from livecell_tracker.segment.detectron_utils import (\n",
    "#     convert_detectron_instance_pred_masks_to_binary_masks,\n",
    "#     convert_detectron_instances_to_label_masks,\n",
    "#     segment_images_by_detectron,\n",
    "#     segment_single_img_by_detectron_wrapper,\n",
    "# )\n"
   ]
  },
  {
   "cell_type": "code",
   "execution_count": null,
   "metadata": {},
   "outputs": [],
   "source": [
    "from livecell_tracker.sample_data import tutorial_three_image_sys\n",
    "from pathlib import Path\n",
    "from livecell_tracker.core.datasets import LiveCellImageDataset\n",
    "import glob\n"
   ]
  },
  {
   "cell_type": "code",
   "execution_count": null,
   "metadata": {},
   "outputs": [],
   "source": [
    "import napari\n",
    "napari.__version__"
   ]
  },
  {
   "attachments": {},
   "cell_type": "markdown",
   "metadata": {},
   "source": [
    "load EBSS data"
   ]
  },
  {
   "cell_type": "code",
   "execution_count": null,
   "metadata": {},
   "outputs": [],
   "source": [
    "\n",
    "# dataset_dir_path = Path(\n",
    "#     \"../datasets/EBSS_Starvation/tif_STAV-A549_VIM_24hours_NoTreat_NA_YL_Ti2e_2022-12-21/XY16/\"\n",
    "# )\n",
    "\n",
    "# mask_dataset_path = Path(\"../datasets/EBSS_Starvation/tif_STAV-A549_VIM_24hours_NoTreat_NA_YL_Ti2e_2022-12-21/out/XY16/seg\")\n",
    "\n",
    "# mask_dataset = LiveCellImageDataset(mask_dataset_path, ext=\"png\")\n",
    "# time2url = sorted(glob.glob(str((Path(dataset_dir_path) / Path(\"*_DIC.tif\")))))\n",
    "# time2url = {i: path for i, path in enumerate(time2url)}\n",
    "# dic_dataset = LiveCellImageDataset(time2url=time2url, ext=\"tif\")\n",
    "\n",
    "# from livecell_tracker.segment.utils import prep_scs_from_mask_dataset\n",
    "# single_cells = prep_scs_from_mask_dataset(mask_dataset, dic_dataset)\n"
   ]
  },
  {
   "cell_type": "code",
   "execution_count": null,
   "metadata": {},
   "outputs": [],
   "source": [
    "# from livecell_tracker.core import SingleCellStatic\n",
    "# SingleCellStatic.write_single_cells_json(single_cells, \n",
    "#                                          path=\"./datasets/test_scs_EBSS_starvation/single_cells.json\",\n",
    "#                                          dataset_dir=\"./datasets/test_scs_EBSS_starvation/datasets\")"
   ]
  },
  {
   "cell_type": "code",
   "execution_count": null,
   "metadata": {},
   "outputs": [],
   "source": [
    "\n",
    "\n",
    "# dic_dataset, mask_dataset = tutorial_three_image_sys()\n"
   ]
  },
  {
   "cell_type": "code",
   "execution_count": null,
   "metadata": {},
   "outputs": [],
   "source": [
    "# from skimage.measure import regionprops\n",
    "# from livecell_tracker.segment.utils import prep_scs_from_mask_dataset\n",
    "# single_cells = prep_scs_from_mask_dataset(mask_dataset, dic_dataset)\n",
    "# SingleCellStatic.write_single_cells_json(single_cells, \n",
    "#                                          path=\"./datasets/test_data_STAV-A549/tutorial_three_img_single_cells.json\",\n",
    "#                                          dataset_dir=\"./datasets/test_data_STAV-A549/datasets\")"
   ]
  },
  {
   "cell_type": "code",
   "execution_count": null,
   "metadata": {},
   "outputs": [],
   "source": [
    "# scs_path = \"./datasets/test_data_STAV-A549/tutorial_three_img_single_cells.json\"\n",
    "# scs_path = \"./datasets/test_scs_EBSS_starvation/single_cells.json\"\n",
    "scs_path = \"./datasets/test_scs_EBSS_starvation/tmp_corrected_scs.json\"\n",
    "single_cells = SingleCellStatic.load_single_cells_json(path=scs_path)"
   ]
  },
  {
   "cell_type": "code",
   "execution_count": null,
   "metadata": {},
   "outputs": [],
   "source": [
    "dic_dataset = single_cells[0].img_dataset"
   ]
  },
  {
   "cell_type": "code",
   "execution_count": null,
   "metadata": {},
   "outputs": [],
   "source": [
    "from livecell_tracker.core.sc_seg_operator import ScSegOperator, create_sc_seg_napari_ui\n",
    "# replace the path below with your downdloaded CSN checkpoint path\n",
    "ckpt_path = r\"./notebook_results/csn_models/model_v11_epoch=3282-test_loss=2.3688.ckpt\"\n",
    "ScSegOperator.load_default_csn_model(path=ckpt_path, cuda=True);"
   ]
  },
  {
   "cell_type": "code",
   "execution_count": null,
   "metadata": {},
   "outputs": [],
   "source": [
    "def enable_gui_qt():\n",
    "    from IPython import get_ipython\n",
    "\n",
    "    ipython = get_ipython()\n",
    "    ipython.run_line_magic('gui', 'qt')\n",
    "\n",
    "\n",
    "enable_gui_qt()"
   ]
  },
  {
   "cell_type": "code",
   "execution_count": null,
   "metadata": {},
   "outputs": [],
   "source": [
    "from livecell_tracker.core.sct_operator import create_scs_edit_viewer\n",
    "sct_operator = create_scs_edit_viewer(single_cells, img_dataset = dic_dataset)"
   ]
  },
  {
   "cell_type": "code",
   "execution_count": null,
   "metadata": {},
   "outputs": [],
   "source": [
    "sct_operator.remove_empty_contour_sct()"
   ]
  },
  {
   "cell_type": "code",
   "execution_count": null,
   "metadata": {},
   "outputs": [],
   "source": [
    "# sct_operator.shape_layer.selected_data = [0]\n",
    "# sc_operator = sct_operator.edit_selected_sc()\n",
    "# sct_operator.shape_layer.selected_data = [0]\n",
    "# sc_operator = sct_operator.edit_selected_sc()"
   ]
  },
  {
   "cell_type": "code",
   "execution_count": null,
   "metadata": {},
   "outputs": [],
   "source": [
    "# sc_operator.csn_correct_seg_callback()\n",
    "# sc_operator.save_seg_callback()\n",
    "# sc_operator.filter_cells_by_size_callback(min_size=100, max_size=1000)"
   ]
  },
  {
   "cell_type": "code",
   "execution_count": null,
   "metadata": {},
   "outputs": [],
   "source": [
    "# len(sc_operator.shape_layer.selected_data), len(sc_operator.shape_layer.data)"
   ]
  },
  {
   "cell_type": "code",
   "execution_count": null,
   "metadata": {},
   "outputs": [],
   "source": [
    "# sc_operator.resample_contours_callback(40)\n",
    "# sc_operator.restore_sc_contour_callback()\n",
    "# sct_operator.clear_sc_opeartors()\n",
    "# sct_operator.add_new_sc()"
   ]
  },
  {
   "cell_type": "code",
   "execution_count": null,
   "metadata": {},
   "outputs": [],
   "source": [
    "sct_operator.sc_operators = []"
   ]
  },
  {
   "cell_type": "code",
   "execution_count": null,
   "metadata": {},
   "outputs": [],
   "source": [
    "all_scs = sct_operator.get_all_scs()\n",
    "len(all_scs)"
   ]
  },
  {
   "cell_type": "code",
   "execution_count": null,
   "metadata": {},
   "outputs": [],
   "source": [
    "sct_operator.clear_sc_opeartors()"
   ]
  },
  {
   "cell_type": "code",
   "execution_count": null,
   "metadata": {},
   "outputs": [],
   "source": [
    "sct_operator.edit_selected_sc()"
   ]
  },
  {
   "cell_type": "code",
   "execution_count": null,
   "metadata": {},
   "outputs": [],
   "source": [
    "sct_operator.clear_sc_opeartors()"
   ]
  },
  {
   "cell_type": "code",
   "execution_count": null,
   "metadata": {},
   "outputs": [],
   "source": [
    "# sct_operator.viewer.layers.remove(sct_operator.sc_operators[0].shape_layer)"
   ]
  },
  {
   "cell_type": "markdown",
   "metadata": {},
   "source": [
    "Update SctOperator's shape layer by an updated single cell"
   ]
  },
  {
   "cell_type": "code",
   "execution_count": null,
   "metadata": {},
   "outputs": [],
   "source": [
    "sct_operator.update_shape_layer_by_sc(single_cells[0])"
   ]
  },
  {
   "cell_type": "markdown",
   "metadata": {},
   "source": [
    "Get all the single cells from the sct operators"
   ]
  },
  {
   "cell_type": "code",
   "execution_count": null,
   "metadata": {},
   "outputs": [],
   "source": [
    "len(sct_operator.get_all_scs()), len(set(sct_operator.get_all_scs()))"
   ]
  },
  {
   "cell_type": "markdown",
   "metadata": {},
   "source": [
    "Save annotated single cells"
   ]
  },
  {
   "cell_type": "code",
   "execution_count": null,
   "metadata": {},
   "outputs": [],
   "source": [
    "# sct_operator.restore_shapes_data()"
   ]
  },
  {
   "cell_type": "code",
   "execution_count": null,
   "metadata": {},
   "outputs": [],
   "source": [
    "# all_scs = sct_operator.get_all_scs()\n",
    "# SingleCellStatic.write_single_cells_json(all_scs, path=\"./datasets/test_scs_EBSS_starvation/tmp_corrected_scs.json\", \\\n",
    "#                                          dataset_dir=\"./datasets/test_scs_EBSS_starvation/datasets\")"
   ]
  },
  {
   "cell_type": "code",
   "execution_count": null,
   "metadata": {},
   "outputs": [],
   "source": [
    "sct_operator.select_info"
   ]
  },
  {
   "cell_type": "code",
   "execution_count": null,
   "metadata": {},
   "outputs": [],
   "source": [
    "sct_operator.update_shape_layer_by_sc(sct_operator.sc_operators[0].sc)"
   ]
  },
  {
   "cell_type": "markdown",
   "metadata": {},
   "source": [
    "Programmatically delete a sample"
   ]
  },
  {
   "cell_type": "code",
   "execution_count": null,
   "metadata": {},
   "outputs": [],
   "source": [
    "sct_operator.annotate_click_samples[\"mitosis\"][-1]"
   ]
  },
  {
   "cell_type": "code",
   "execution_count": null,
   "metadata": {},
   "outputs": [],
   "source": [
    "# for sc in sct_operator.annotate_click_samples[\"mitosis\"][-1]:\n",
    "#     sc.meta = {}\n",
    "# sct_operator.annotate_click_samples[\"mitosis\"].pop(-1)"
   ]
  },
  {
   "cell_type": "code",
   "execution_count": null,
   "metadata": {},
   "outputs": [],
   "source": [
    "sct_operator.save_annotations(sample_out_dir=\"./EBSS_starvation_24h_xy16_annotation\")"
   ]
  },
  {
   "cell_type": "code",
   "execution_count": null,
   "metadata": {},
   "outputs": [],
   "source": [
    "scs = sct_operator.get_all_scs()"
   ]
  },
  {
   "cell_type": "code",
   "execution_count": null,
   "metadata": {},
   "outputs": [],
   "source": [
    "sct_operator.annotate_click_samples"
   ]
  },
  {
   "cell_type": "code",
   "execution_count": null,
   "metadata": {},
   "outputs": [],
   "source": [
    "len(sct_operator.annotate_click_samples[\"mitosis\"])"
   ]
  },
  {
   "cell_type": "markdown",
   "metadata": {},
   "source": [
    "track"
   ]
  },
  {
   "cell_type": "code",
   "execution_count": null,
   "metadata": {},
   "outputs": [],
   "source": [
    "# from livecell_tracker.track.sort_tracker_utils import (\n",
    "#     gen_SORT_detections_input_from_contours,\n",
    "#     update_traj_collection_by_SORT_tracker_detection,\n",
    "#     track_SORT_bbox_from_contours,\n",
    "#     track_SORT_bbox_from_scs\n",
    "# )\n",
    "\n",
    "# all_scs = sct_operator.get_all_scs()\n",
    "\n",
    "# sctc = track_SORT_bbox_from_scs(all_scs, raw_imgs=all_scs[0].img_dataset, min_hits=3, max_age=3)"
   ]
  },
  {
   "cell_type": "code",
   "execution_count": 37,
   "metadata": {},
   "outputs": [],
   "source": [
    "# sctc.write_json(path=\"./EBSS_starvation_24h_xy16_annotation/single_cell_trajectory_collection.json\")"
   ]
  }
 ],
 "metadata": {
  "kernelspec": {
   "display_name": "livecell",
   "language": "python",
   "name": "python3"
  },
  "language_info": {
   "codemirror_mode": {
    "name": "ipython",
    "version": 3
   },
   "file_extension": ".py",
   "mimetype": "text/x-python",
   "name": "python",
   "nbconvert_exporter": "python",
   "pygments_lexer": "ipython3",
   "version": "3.9.16"
  },
  "orig_nbformat": 4,
  "vscode": {
   "interpreter": {
    "hash": "84cc49e2771a69a318d2523a1e3c84119201a94eb2fd0f5b7e00daf17c339568"
   }
  }
 },
 "nbformat": 4,
 "nbformat_minor": 2
}
