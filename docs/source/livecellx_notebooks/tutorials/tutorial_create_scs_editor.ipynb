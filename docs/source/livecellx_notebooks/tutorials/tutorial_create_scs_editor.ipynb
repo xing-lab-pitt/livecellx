{
 "cells": [
  {
   "cell_type": "markdown",
   "metadata": {},
   "source": [
    "# Create a viewer to edit SingleCellStatic objects"
   ]
  },
  {
   "cell_type": "code",
   "execution_count": 1,
   "metadata": {},
   "outputs": [],
   "source": [
    "# import some common libraries\n",
    "import os\n",
    "import glob\n",
    "import os.path\n",
    "import numpy as np\n",
    "import json, random, cv2\n",
    "from cellpose import models\n",
    "from cellpose.io import imread\n",
    "import matplotlib.pyplot as plt\n",
    "\n",
    "from tqdm import tqdm\n",
    "from pathlib import Path\n",
    "from skimage import measure\n",
    "from PIL import Image, ImageSequence\n",
    "\n",
    "# from livecellx import segment\n",
    "from livecellx import core\n",
    "from livecellx.core import datasets\n",
    "from livecellx.core import SingleCellTrajectory, SingleCellStatic\n",
    "from livecellx.core.datasets import LiveCellImageDataset, SingleImageDataset\n"
   ]
  },
  {
   "cell_type": "code",
   "execution_count": 2,
   "metadata": {},
   "outputs": [],
   "source": [
    "from livecellx.sample_data import tutorial_three_image_sys\n",
    "from pathlib import Path\n",
    "from livecellx.core.datasets import LiveCellImageDataset\n",
    "import glob\n"
   ]
  },
  {
   "cell_type": "code",
   "execution_count": 3,
   "metadata": {},
   "outputs": [
    {
     "data": {
      "text/plain": [
       "'0.4.18'"
      ]
     },
     "execution_count": 3,
     "metadata": {},
     "output_type": "execute_result"
    }
   ],
   "source": [
    "import napari\n",
    "napari.__version__"
   ]
  },
  {
   "attachments": {},
   "cell_type": "markdown",
   "metadata": {},
   "source": [
    "load EBSS data"
   ]
  },
  {
   "cell_type": "code",
   "execution_count": 4,
   "metadata": {},
   "outputs": [],
   "source": [
    "\n",
    "# dataset_dir_path = Path(\n",
    "#     \"../datasets/EBSS_Starvation/tif_STAV-A549_VIM_24hours_NoTreat_NA_YL_Ti2e_2022-12-21/XY16/\"\n",
    "# )\n",
    "\n",
    "# mask_dataset_path = Path(\"../datasets/EBSS_Starvation/tif_STAV-A549_VIM_24hours_NoTreat_NA_YL_Ti2e_2022-12-21/out/XY16/seg\")\n",
    "\n",
    "# mask_dataset = LiveCellImageDataset(mask_dataset_path, ext=\"png\")\n",
    "# time2url = sorted(glob.glob(str((Path(dataset_dir_path) / Path(\"*_DIC.tif\")))))\n",
    "# time2url = {i: path for i, path in enumerate(time2url)}\n",
    "# dic_dataset = LiveCellImageDataset(time2url=time2url, ext=\"tif\")\n",
    "\n",
    "# from livecellx.segment.utils import prep_scs_from_mask_dataset\n",
    "# single_cells = prep_scs_from_mask_dataset(mask_dataset, dic_dataset)\n"
   ]
  },
  {
   "cell_type": "code",
   "execution_count": 5,
   "metadata": {},
   "outputs": [],
   "source": [
    "# from livecellx.core import SingleCellStatic\n",
    "# SingleCellStatic.write_single_cells_json(single_cells, \n",
    "#                                          path=\"./datasets/test_scs_EBSS_starvation/single_cells.json\",\n",
    "#                                          dataset_dir=\"./datasets/test_scs_EBSS_starvation/datasets\")"
   ]
  },
  {
   "cell_type": "code",
   "execution_count": 6,
   "metadata": {},
   "outputs": [],
   "source": [
    "# dic_dataset, mask_dataset = tutorial_three_image_sys()\n"
   ]
  },
  {
   "cell_type": "code",
   "execution_count": 7,
   "metadata": {},
   "outputs": [],
   "source": [
    "# from skimage.measure import regionprops\n",
    "# from livecellx.segment.utils import prep_scs_from_mask_dataset\n",
    "# single_cells = prep_scs_from_mask_dataset(mask_dataset, dic_dataset)\n",
    "# SingleCellStatic.write_single_cells_json(single_cells, \n",
    "#                                          path=\"./datasets/test_data_STAV-A549/tutorial_three_img_single_cells.json\",\n",
    "#                                          dataset_dir=\"./datasets/test_data_STAV-A549/datasets\")"
   ]
  },
  {
   "cell_type": "markdown",
   "metadata": {},
   "source": [
    "## Load single cells from json file"
   ]
  },
  {
   "cell_type": "code",
   "execution_count": 10,
   "metadata": {},
   "outputs": [],
   "source": [
    "# scs_path = \"./datasets/test_data_STAV-A549/tutorial_three_img_single_cells.json\"\n",
    "# scs_path = \"./datasets/test_scs_EBSS_starvation/single_cells.json\"\n",
    "# scs_path = \"./datasets/test_scs_EBSS_starvation/tmp_corrected_scs.json\"\n",
    "scs_path = r\".\\test_annotations\\XY10\\single_cells.json\"\n",
    "\n",
    "single_cells = SingleCellStatic.load_single_cells_json(path=scs_path)"
   ]
  },
  {
   "cell_type": "code",
   "execution_count": 11,
   "metadata": {},
   "outputs": [],
   "source": [
    "dic_dataset = single_cells[0].img_dataset"
   ]
  },
  {
   "cell_type": "code",
   "execution_count": 13,
   "metadata": {},
   "outputs": [
    {
     "name": "stderr",
     "output_type": "stream",
     "text": [
      "Lightning automatically upgraded your loaded checkpoint from v1.8.6 to v2.0.2. To apply the upgrade to your files permanently, run `python -m pytorch_lightning.utilities.upgrade_checkpoint --file C:\\Users\\13290\\Documents\\Single-cell\\LiveCell\\LiveCellTracker-dev\\notebooks\\csn_models\\v11-01_epoch=229-best.ckpt`\n",
      "c:\\Users\\13290\\AppData\\Local\\Programs\\Python\\Python39\\lib\\site-packages\\torchvision\\models\\_utils.py:208: UserWarning: The parameter 'pretrained' is deprecated since 0.13 and may be removed in the future, please use 'weights' instead.\n",
      "  warnings.warn(\n",
      "c:\\Users\\13290\\AppData\\Local\\Programs\\Python\\Python39\\lib\\site-packages\\torchvision\\models\\_utils.py:223: UserWarning: Arguments other than a weight enum or `None` for 'weights' are deprecated since 0.13 and may be removed in the future. The current behavior is equivalent to passing `weights=DeepLabV3_ResNet50_Weights.COCO_WITH_VOC_LABELS_V1`. You can also use `weights=DeepLabV3_ResNet50_Weights.DEFAULT` to get the most up-to-date weights.\n",
      "  warnings.warn(msg)\n"
     ]
    },
    {
     "name": "stdout",
     "output_type": "stream",
     "text": [
      ">>> Using BCE loss with logits loss\n",
      ">>> Based on loss type, training output threshold:  0.5\n"
     ]
    }
   ],
   "source": [
    "from livecellx.core.sc_seg_operator import ScSegOperator, create_sc_seg_napari_ui\n",
    "# replace the path below with your downdloaded CSN checkpoint path\n",
    "ckpt_path = r\"C:\\Users\\13290\\Documents\\Single-cell\\LiveCell\\LiveCellTracker-dev\\notebooks\\csn_models\\v11-01_epoch=229-best.ckpt\"\n",
    "ScSegOperator.load_default_csn_model(path=ckpt_path, cuda=True);"
   ]
  },
  {
   "cell_type": "markdown",
   "metadata": {},
   "source": [
    "## Create a viewer to edit SingleCellStatic objects"
   ]
  },
  {
   "cell_type": "code",
   "execution_count": 14,
   "metadata": {},
   "outputs": [],
   "source": [
    "def enable_gui_qt():\n",
    "    from IPython import get_ipython\n",
    "\n",
    "    ipython = get_ipython()\n",
    "    ipython.run_line_magic('gui', 'qt')\n",
    "\n",
    "\n",
    "enable_gui_qt()"
   ]
  },
  {
   "cell_type": "code",
   "execution_count": 15,
   "metadata": {},
   "outputs": [],
   "source": [
    "from livecellx.core.sct_operator import create_scs_edit_viewer\n",
    "sct_operator = create_scs_edit_viewer(single_cells, img_dataset = dic_dataset)"
   ]
  },
  {
   "cell_type": "code",
   "execution_count": 16,
   "metadata": {},
   "outputs": [],
   "source": [
    "sct_operator.remove_empty_contour_sct()"
   ]
  },
  {
   "cell_type": "code",
   "execution_count": 17,
   "metadata": {},
   "outputs": [],
   "source": [
    "# sct_operator.shape_layer.selected_data = [0]\n",
    "# sc_operator = sct_operator.edit_selected_sc()\n",
    "# sct_operator.shape_layer.selected_data = [0]\n",
    "# sc_operator = sct_operator.edit_selected_sc()"
   ]
  },
  {
   "cell_type": "code",
   "execution_count": 18,
   "metadata": {},
   "outputs": [],
   "source": [
    "# sc_operator.csn_correct_seg_callback()\n",
    "# sc_operator.save_seg_callback()\n",
    "# sc_operator.filter_cells_by_size_callback(min_size=100, max_size=1000)"
   ]
  },
  {
   "cell_type": "code",
   "execution_count": 19,
   "metadata": {},
   "outputs": [],
   "source": [
    "# len(sc_operator.shape_layer.selected_data), len(sc_operator.shape_layer.data)"
   ]
  },
  {
   "cell_type": "code",
   "execution_count": 20,
   "metadata": {},
   "outputs": [],
   "source": [
    "# sc_operator.resample_contours_callback(40)\n",
    "# sc_operator.restore_sc_contour_callback()\n",
    "# sct_operator.clear_sc_opeartors()\n",
    "# sct_operator.add_new_sc()"
   ]
  },
  {
   "cell_type": "code",
   "execution_count": 21,
   "metadata": {},
   "outputs": [],
   "source": [
    "sct_operator.sc_operators = []"
   ]
  },
  {
   "cell_type": "code",
   "execution_count": 22,
   "metadata": {},
   "outputs": [
    {
     "data": {
      "text/plain": [
       "423"
      ]
     },
     "execution_count": 22,
     "metadata": {},
     "output_type": "execute_result"
    }
   ],
   "source": [
    "all_scs = sct_operator.get_all_scs()\n",
    "len(all_scs)"
   ]
  },
  {
   "cell_type": "code",
   "execution_count": 23,
   "metadata": {},
   "outputs": [],
   "source": [
    "sct_operator.clear_sc_opeartors()"
   ]
  },
  {
   "cell_type": "code",
   "execution_count": 24,
   "metadata": {},
   "outputs": [
    {
     "name": "stdout",
     "output_type": "stream",
     "text": [
      "|-----? More than one shape is selected. The first selected shape is used for editing.\n",
      ">>> create sc layer done\n"
     ]
    },
    {
     "data": {
      "text/plain": [
       "ScSegOperator(sc=SingleCellStatic(id=6a070fa2-18c4-4447-b19d-c1128a7a1c6a, timeframe=1223, bbox=[1593.  573. 1667.  636.]), mode=0)"
      ]
     },
     "execution_count": 24,
     "metadata": {},
     "output_type": "execute_result"
    }
   ],
   "source": [
    "sct_operator.edit_selected_sc()"
   ]
  },
  {
   "cell_type": "code",
   "execution_count": 25,
   "metadata": {},
   "outputs": [
    {
     "name": "stdout",
     "output_type": "stream",
     "text": [
      "clearing sc operator:  ScSegOperator(sc=SingleCellStatic(id=6a070fa2-18c4-4447-b19d-c1128a7a1c6a, timeframe=1223, bbox=[1593.  573. 1667.  636.]), mode=0)\n"
     ]
    }
   ],
   "source": [
    "sct_operator.clear_sc_opeartors()"
   ]
  },
  {
   "cell_type": "code",
   "execution_count": 26,
   "metadata": {},
   "outputs": [],
   "source": [
    "# sct_operator.viewer.layers.remove(sct_operator.sc_operators[0].shape_layer)"
   ]
  },
  {
   "cell_type": "markdown",
   "metadata": {},
   "source": [
    "Update SctOperator's shape layer by an updated single cell"
   ]
  },
  {
   "cell_type": "code",
   "execution_count": 27,
   "metadata": {},
   "outputs": [
    {
     "name": "stdout",
     "output_type": "stream",
     "text": [
      "<update shape layer by sc>\n",
      "clearing selection...\n",
      "<clear complete>\n",
      "current shape layer shape properties:  Event\n",
      "setting face color of selected shape...\n",
      "<selection complete>\n",
      "clearing selection...\n",
      "<clear complete>\n",
      "<update shape layer by sc complete>\n"
     ]
    }
   ],
   "source": [
    "sct_operator.update_shape_layer_by_sc(single_cells[0])"
   ]
  },
  {
   "cell_type": "markdown",
   "metadata": {},
   "source": [
    "Get all the single cells from the sct operators"
   ]
  },
  {
   "cell_type": "code",
   "execution_count": 28,
   "metadata": {},
   "outputs": [
    {
     "data": {
      "text/plain": [
       "(423, 423)"
      ]
     },
     "execution_count": 28,
     "metadata": {},
     "output_type": "execute_result"
    }
   ],
   "source": [
    "len(sct_operator.get_all_scs()), len(set(sct_operator.get_all_scs()))"
   ]
  },
  {
   "cell_type": "markdown",
   "metadata": {},
   "source": [
    "Save annotated single cells"
   ]
  },
  {
   "cell_type": "code",
   "execution_count": 29,
   "metadata": {},
   "outputs": [],
   "source": [
    "# sct_operator.restore_shapes_data()"
   ]
  },
  {
   "cell_type": "code",
   "execution_count": 30,
   "metadata": {},
   "outputs": [],
   "source": [
    "# all_scs = sct_operator.get_all_scs()\n",
    "# SingleCellStatic.write_single_cells_json(all_scs, path=\"./datasets/test_scs_EBSS_starvation/tmp_corrected_scs.json\", \\\n",
    "#                                          dataset_dir=\"./datasets/test_scs_EBSS_starvation/datasets\")"
   ]
  },
  {
   "cell_type": "code",
   "execution_count": 31,
   "metadata": {},
   "outputs": [
    {
     "data": {
      "text/plain": [
       "[]"
      ]
     },
     "execution_count": 31,
     "metadata": {},
     "output_type": "execute_result"
    }
   ],
   "source": [
    "sct_operator.select_info"
   ]
  },
  {
   "cell_type": "markdown",
   "metadata": {},
   "source": [
    "Programmatically delete a sample"
   ]
  },
  {
   "cell_type": "code",
   "execution_count": 33,
   "metadata": {},
   "outputs": [
    {
     "data": {
      "text/plain": [
       "{}"
      ]
     },
     "execution_count": 33,
     "metadata": {},
     "output_type": "execute_result"
    }
   ],
   "source": [
    "sct_operator.annotate_click_samples[\"mitosis\"][-1]"
   ]
  },
  {
   "cell_type": "code",
   "execution_count": null,
   "metadata": {},
   "outputs": [],
   "source": [
    "# for sc in sct_operator.annotate_click_samples[\"mitosis\"][-1]:\n",
    "#     sc.meta = {}\n",
    "# sct_operator.annotate_click_samples[\"mitosis\"].pop(-1)"
   ]
  },
  {
   "cell_type": "code",
   "execution_count": null,
   "metadata": {},
   "outputs": [],
   "source": [
    "# sct_operator.save_annotations(sample_out_dir=\"./test_annoations\")"
   ]
  },
  {
   "cell_type": "code",
   "execution_count": 34,
   "metadata": {},
   "outputs": [],
   "source": [
    "scs = sct_operator.get_all_scs()"
   ]
  },
  {
   "cell_type": "code",
   "execution_count": 35,
   "metadata": {},
   "outputs": [
    {
     "data": {
      "text/plain": [
       "{}"
      ]
     },
     "execution_count": 35,
     "metadata": {},
     "output_type": "execute_result"
    }
   ],
   "source": [
    "sct_operator.annotate_click_samples"
   ]
  },
  {
   "cell_type": "code",
   "execution_count": null,
   "metadata": {},
   "outputs": [],
   "source": [
    "len(sct_operator.annotate_click_samples[\"mitosis\"])"
   ]
  },
  {
   "cell_type": "markdown",
   "metadata": {},
   "source": [
    "Track based on single cells"
   ]
  },
  {
   "cell_type": "code",
   "execution_count": 36,
   "metadata": {},
   "outputs": [
    {
     "name": "stderr",
     "output_type": "stream",
     "text": [
      "C:\\Users\\13290\\Documents\\Single-cell\\LiveCell\\LiveCellTracker-dev\\livecellx\\track\\sort_tracker.py:84: RuntimeWarning: divide by zero encountered in scalar divide\n",
      "  r = w / float(h)\n",
      "C:\\Users\\13290\\Documents\\Single-cell\\LiveCell\\LiveCellTracker-dev\\livecellx\\track\\sort_tracker.py:93: RuntimeWarning: invalid value encountered in multiply\n",
      "  w = np.sqrt(x[2] * x[3])\n"
     ]
    }
   ],
   "source": [
    "from livecellx.track.sort_tracker_utils import (\n",
    "    gen_SORT_detections_input_from_contours,\n",
    "    update_traj_collection_by_SORT_tracker_detection,\n",
    "    track_SORT_bbox_from_contours,\n",
    "    track_SORT_bbox_from_scs\n",
    ")\n",
    "\n",
    "all_scs = sct_operator.get_all_scs()\n",
    "\n",
    "all_scs = [sc for sc in all_scs if sc.timeframe != 1]\n",
    "sctc = track_SORT_bbox_from_scs(all_scs, raw_imgs=all_scs[0].img_dataset, min_hits=3, max_age=3)"
   ]
  },
  {
   "cell_type": "markdown",
   "metadata": {},
   "source": [
    "Show subset of a sctc filtered by time_span"
   ]
  },
  {
   "cell_type": "code",
   "execution_count": 37,
   "metadata": {},
   "outputs": [
    {
     "name": "stdout",
     "output_type": "stream",
     "text": [
      "|-----> A new SCTC object with size 423 is created by subsetting the original sctc with time span (145, 155)\n"
     ]
    },
    {
     "name": "stderr",
     "output_type": "stream",
     "text": [
      "c:\\Users\\13290\\AppData\\Local\\Programs\\Python\\Python39\\lib\\site-packages\\napari\\plugins\\_plugin_manager.py:555: UserWarning: Plugin 'napari_skimage_regionprops2' has already registered a function widget 'duplicate current frame' which has now been overwritten\n",
      "  warn(message=warn_message)\n",
      "c:\\Users\\13290\\AppData\\Local\\Programs\\Python\\Python39\\lib\\site-packages\\napari\\utils\\colormaps\\standardize_color.py:200: UserWarning: Given color input is empty. Converting input to a white color array.\n",
      "  warnings.warn(\n"
     ]
    }
   ],
   "source": [
    "from livecellx.core.sct_operator import create_scts_operator_viewer, create_scs_edit_viewer\n",
    "\n",
    "scts_operator = create_scs_edit_viewer(single_cells, img_dataset = dic_dataset, time_span=(145, 155))\n",
    "\n",
    "# # If you would like to start from sctc, you can use the following code\n",
    "# scts_operator = create_scts_operator_viewer(sctc, img_dataset = dic_dataset, time_span=(1, 2))"
   ]
  },
  {
   "cell_type": "code",
   "execution_count": null,
   "metadata": {},
   "outputs": [],
   "source": [
    "# sctc.write_json(path=\"./EBSS_starvation_24h_xy16_annotation/single_cell_trajectory_collection.json\")"
   ]
  }
 ],
 "metadata": {
  "kernelspec": {
   "display_name": "livecell",
   "language": "python",
   "name": "python3"
  },
  "language_info": {
   "codemirror_mode": {
    "name": "ipython",
    "version": 3
   },
   "file_extension": ".py",
   "mimetype": "text/x-python",
   "name": "python",
   "nbconvert_exporter": "python",
   "pygments_lexer": "ipython3",
   "version": "3.9.10"
  },
  "orig_nbformat": 4,
  "vscode": {
   "interpreter": {
    "hash": "84cc49e2771a69a318d2523a1e3c84119201a94eb2fd0f5b7e00daf17c339568"
   }
  }
 },
 "nbformat": 4,
 "nbformat_minor": 2
}
