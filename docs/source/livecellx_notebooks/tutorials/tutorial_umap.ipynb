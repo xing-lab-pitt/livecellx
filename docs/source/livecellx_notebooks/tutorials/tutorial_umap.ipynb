{
 "cells": [
  {
   "attachments": {},
   "cell_type": "markdown",
   "metadata": {},
   "source": [
    "# Create UMAP of single cell features"
   ]
  },
  {
   "cell_type": "code",
   "execution_count": 1,
   "metadata": {},
   "outputs": [
    {
     "name": "stdout",
     "output_type": "stream",
     "text": [
      "3 png img file paths loaded: \n",
      "3 tif img file paths loaded: \n"
     ]
    }
   ],
   "source": [
    "from livecell_tracker.sample_data import tutorial_three_image\n",
    "\n",
    "dic_dataset, mask_dataset = tutorial_three_image(dic_dataset_path=\"../datasets/test_data_STAV-A549/DIC_data\", mask_dataset_path=\"../datasets/test_data_STAV-A549/mask_data\")"
   ]
  },
  {
   "cell_type": "code",
   "execution_count": 2,
   "metadata": {},
   "outputs": [
    {
     "name": "stderr",
     "output_type": "stream",
     "text": [
      "100%|██████████| 3/3 [00:07<00:00,  2.43s/it]\n"
     ]
    }
   ],
   "source": [
    "from livecell_tracker.core.io_sc import prep_scs_from_mask_dataset\n",
    "scs = prep_scs_from_mask_dataset(mask_dataset, dic_dataset)"
   ]
  },
  {
   "cell_type": "code",
   "execution_count": 3,
   "metadata": {},
   "outputs": [],
   "source": [
    "from livecell_tracker.trajectory.feature_extractors import compute_haralick_features, compute_skimage_regionprops\n",
    "from livecell_tracker.preprocess.utils import normalize_img_to_uint8\n",
    "for sc in scs:\n",
    "    features = compute_skimage_regionprops(sc, preprocess_img_func=normalize_img_to_uint8, sc_level_normalize=True)"
   ]
  },
  {
   "cell_type": "code",
   "execution_count": 4,
   "metadata": {},
   "outputs": [
    {
     "data": {
      "text/plain": [
       "skimage_area                 22262.000000\n",
       "skimage_area_bbox            39672.000000\n",
       "skimage_area_convex          23414.000000\n",
       "skimage_area_filled          22262.000000\n",
       "skimage_axis_major_length      263.397536\n",
       "                                 ...     \n",
       "skimage_orientation             -1.053940\n",
       "skimage_perimeter              660.825469\n",
       "skimage_perimeter_crofton      629.183347\n",
       "skimage_solidity                 0.950799\n",
       "t                                2.000000\n",
       "Length: 144, dtype: float64"
      ]
     },
     "execution_count": 4,
     "metadata": {},
     "output_type": "execute_result"
    }
   ],
   "source": [
    "sc.get_feature_pd_series()"
   ]
  },
  {
   "cell_type": "code",
   "execution_count": 5,
   "metadata": {},
   "outputs": [
    {
     "data": {
      "text/html": [
       "<div>\n",
       "<style scoped>\n",
       "    .dataframe tbody tr th:only-of-type {\n",
       "        vertical-align: middle;\n",
       "    }\n",
       "\n",
       "    .dataframe tbody tr th {\n",
       "        vertical-align: top;\n",
       "    }\n",
       "\n",
       "    .dataframe thead th {\n",
       "        text-align: right;\n",
       "    }\n",
       "</style>\n",
       "<table border=\"1\" class=\"dataframe\">\n",
       "  <thead>\n",
       "    <tr style=\"text-align: right;\">\n",
       "      <th></th>\n",
       "      <th>skimage_area</th>\n",
       "      <th>skimage_area_bbox</th>\n",
       "      <th>skimage_area_convex</th>\n",
       "      <th>skimage_area_filled</th>\n",
       "      <th>skimage_axis_major_length</th>\n",
       "      <th>skimage_axis_minor_length</th>\n",
       "      <th>skimage_centroid-0</th>\n",
       "      <th>skimage_centroid-1</th>\n",
       "      <th>skimage_centroid_local-0</th>\n",
       "      <th>skimage_centroid_local-1</th>\n",
       "      <th>...</th>\n",
       "      <th>skimage_moments_weighted_normalized-2-2</th>\n",
       "      <th>skimage_moments_weighted_normalized-2-3</th>\n",
       "      <th>skimage_moments_weighted_normalized-3-0</th>\n",
       "      <th>skimage_moments_weighted_normalized-3-1</th>\n",
       "      <th>skimage_moments_weighted_normalized-3-2</th>\n",
       "      <th>skimage_moments_weighted_normalized-3-3</th>\n",
       "      <th>skimage_orientation</th>\n",
       "      <th>skimage_perimeter</th>\n",
       "      <th>skimage_perimeter_crofton</th>\n",
       "      <th>skimage_solidity</th>\n",
       "    </tr>\n",
       "  </thead>\n",
       "  <tbody>\n",
       "    <tr>\n",
       "      <th>0</th>\n",
       "      <td>-0.729877</td>\n",
       "      <td>-0.697465</td>\n",
       "      <td>-0.785715</td>\n",
       "      <td>-0.729877</td>\n",
       "      <td>-1.025767</td>\n",
       "      <td>-0.300223</td>\n",
       "      <td>-0.557043</td>\n",
       "      <td>-0.863007</td>\n",
       "      <td>-0.557043</td>\n",
       "      <td>-0.863007</td>\n",
       "      <td>...</td>\n",
       "      <td>-1.144537</td>\n",
       "      <td>0.705302</td>\n",
       "      <td>0.791071</td>\n",
       "      <td>0.81463</td>\n",
       "      <td>-0.703368</td>\n",
       "      <td>1.11867</td>\n",
       "      <td>-0.394298</td>\n",
       "      <td>-0.881596</td>\n",
       "      <td>-0.912129</td>\n",
       "      <td>1.276949</td>\n",
       "    </tr>\n",
       "    <tr>\n",
       "      <th>1</th>\n",
       "      <td>-0.729877</td>\n",
       "      <td>-0.697465</td>\n",
       "      <td>-0.785715</td>\n",
       "      <td>-0.729877</td>\n",
       "      <td>-1.025767</td>\n",
       "      <td>-0.300223</td>\n",
       "      <td>-0.557043</td>\n",
       "      <td>-0.863007</td>\n",
       "      <td>-0.557043</td>\n",
       "      <td>-0.863007</td>\n",
       "      <td>...</td>\n",
       "      <td>-1.144537</td>\n",
       "      <td>0.705302</td>\n",
       "      <td>0.791071</td>\n",
       "      <td>0.81463</td>\n",
       "      <td>-0.703368</td>\n",
       "      <td>1.11867</td>\n",
       "      <td>-0.394298</td>\n",
       "      <td>-0.881596</td>\n",
       "      <td>-0.912129</td>\n",
       "      <td>1.276949</td>\n",
       "    </tr>\n",
       "  </tbody>\n",
       "</table>\n",
       "<p>2 rows × 143 columns</p>\n",
       "</div>"
      ],
      "text/plain": [
       "   skimage_area  skimage_area_bbox  skimage_area_convex  skimage_area_filled  \\\n",
       "0     -0.729877          -0.697465            -0.785715            -0.729877   \n",
       "1     -0.729877          -0.697465            -0.785715            -0.729877   \n",
       "\n",
       "   skimage_axis_major_length  skimage_axis_minor_length  skimage_centroid-0  \\\n",
       "0                  -1.025767                  -0.300223           -0.557043   \n",
       "1                  -1.025767                  -0.300223           -0.557043   \n",
       "\n",
       "   skimage_centroid-1  skimage_centroid_local-0  skimage_centroid_local-1  \\\n",
       "0           -0.863007                 -0.557043                 -0.863007   \n",
       "1           -0.863007                 -0.557043                 -0.863007   \n",
       "\n",
       "   ...  skimage_moments_weighted_normalized-2-2  \\\n",
       "0  ...                                -1.144537   \n",
       "1  ...                                -1.144537   \n",
       "\n",
       "   skimage_moments_weighted_normalized-2-3  \\\n",
       "0                                 0.705302   \n",
       "1                                 0.705302   \n",
       "\n",
       "   skimage_moments_weighted_normalized-3-0  \\\n",
       "0                                 0.791071   \n",
       "1                                 0.791071   \n",
       "\n",
       "   skimage_moments_weighted_normalized-3-1  \\\n",
       "0                                  0.81463   \n",
       "1                                  0.81463   \n",
       "\n",
       "   skimage_moments_weighted_normalized-3-2  \\\n",
       "0                                -0.703368   \n",
       "1                                -0.703368   \n",
       "\n",
       "   skimage_moments_weighted_normalized-3-3  skimage_orientation  \\\n",
       "0                                  1.11867            -0.394298   \n",
       "1                                  1.11867            -0.394298   \n",
       "\n",
       "   skimage_perimeter  skimage_perimeter_crofton  skimage_solidity  \n",
       "0          -0.881596                  -0.912129          1.276949  \n",
       "1          -0.881596                  -0.912129          1.276949  \n",
       "\n",
       "[2 rows x 143 columns]"
      ]
     },
     "execution_count": 5,
     "metadata": {},
     "output_type": "execute_result"
    }
   ],
   "source": [
    "def create_sc_table(scs, normalize_features=True):\n",
    "    import pandas as pd\n",
    "    import numpy as np\n",
    "    df = pd.DataFrame([sc.get_feature_pd_series() for sc in scs])\n",
    "    if normalize_features:\n",
    "        for col in df.columns:\n",
    "            df[col] = (df[col] - df[col].mean())\n",
    "            col_std = df[col].std()\n",
    "            if col_std != 0 and not np.isnan(col_std):\n",
    "                df[col] /= col_std\n",
    "    # remove column t from df\n",
    "    df.drop(\"t\", axis=1, inplace=True)\n",
    "    # df[\"sc_id\"] = [sc.id for sc in scs]\n",
    "    # df[\"t\"] = [sc.timeframe for sc in scs]\n",
    "    # df.set_index(\"sc_id\", inplace=True)\n",
    "    return df\n",
    "\n",
    "sc_feature_table = create_sc_table(scs)\n",
    "sc_feature_table[:2]"
   ]
  },
  {
   "cell_type": "markdown",
   "metadata": {},
   "source": [
    "## Normalize features"
   ]
  },
  {
   "attachments": {},
   "cell_type": "markdown",
   "metadata": {},
   "source": [
    "## Perform UMAP on features"
   ]
  },
  {
   "cell_type": "code",
   "execution_count": 6,
   "metadata": {},
   "outputs": [],
   "source": [
    "import umap\n",
    "reducer = umap.UMAP()"
   ]
  },
  {
   "cell_type": "code",
   "execution_count": 7,
   "metadata": {},
   "outputs": [],
   "source": [
    "# check if any columns are all NaN\n",
    "sc_feature_table = sc_feature_table.dropna(axis=1, how=\"all\")"
   ]
  },
  {
   "cell_type": "code",
   "execution_count": 8,
   "metadata": {},
   "outputs": [],
   "source": [
    "embedding = reducer.fit_transform(sc_feature_table)"
   ]
  },
  {
   "cell_type": "code",
   "execution_count": 9,
   "metadata": {},
   "outputs": [
    {
     "data": {
      "text/plain": [
       "(42, 2)"
      ]
     },
     "execution_count": 9,
     "metadata": {},
     "output_type": "execute_result"
    }
   ],
   "source": [
    "embedding.shape"
   ]
  },
  {
   "cell_type": "code",
   "execution_count": 10,
   "metadata": {},
   "outputs": [
    {
     "data": {
      "text/plain": [
       "<matplotlib.collections.PathCollection at 0x21c21c02ec0>"
      ]
     },
     "execution_count": 10,
     "metadata": {},
     "output_type": "execute_result"
    },
    {
     "data": {
      "image/png": "[encoded data removed]",
      "text/plain": [
       "<Figure size 640x480 with 1 Axes>"
      ]
     },
     "metadata": {},
     "output_type": "display_data"
    }
   ],
   "source": [
    "import matplotlib.pyplot as plt\n",
    "plt.scatter(\n",
    "    embedding[:, 0],\n",
    "    embedding[:, 1],\n",
    "    c=[sc.timeframe for sc in scs],\n",
    ")"
   ]
  },
  {
   "cell_type": "code",
   "execution_count": 11,
   "metadata": {},
   "outputs": [
    {
     "data": {
      "text/plain": [
       "<matplotlib.collections.PathCollection at 0x21c15a2f6a0>"
      ]
     },
     "execution_count": 11,
     "metadata": {},
     "output_type": "execute_result"
    },
    {
     "data": {
      "image/png": "[encoded data removed]",
      "text/plain": [
       "<Figure size 640x480 with 1 Axes>"
      ]
     },
     "metadata": {},
     "output_type": "display_data"
    }
   ],
   "source": [
    "unnormalized_img_features = create_sc_table(scs, normalize_features=False)\n",
    "# drop na\n",
    "unnormalized_img_features = unnormalized_img_features.dropna(axis=1, how=\"all\")\n",
    "reducer = umap.UMAP()\n",
    "unnormalized_embedding = reducer.fit_transform(unnormalized_img_features)\n",
    "plt.scatter(\n",
    "    unnormalized_embedding[:, 0],\n",
    "    unnormalized_embedding[:, 1],\n",
    "    c=[sc.timeframe for sc in scs],\n",
    ")\n"
   ]
  },
  {
   "cell_type": "code",
   "execution_count": null,
   "metadata": {},
   "outputs": [],
   "source": [
    "list(unnormalized_img_features.keys())"
   ]
  }
 ],
 "metadata": {
  "kernelspec": {
   "display_name": "livecell-work",
   "language": "python",
   "name": "python3"
  },
  "language_info": {
   "codemirror_mode": {
    "name": "ipython",
    "version": 3
   },
   "file_extension": ".py",
   "mimetype": "text/x-python",
   "name": "python",
   "nbconvert_exporter": "python",
   "pygments_lexer": "ipython3",
   "version": "3.10.9"
  },
  "orig_nbformat": 4
 },
 "nbformat": 4,
 "nbformat_minor": 2
}
